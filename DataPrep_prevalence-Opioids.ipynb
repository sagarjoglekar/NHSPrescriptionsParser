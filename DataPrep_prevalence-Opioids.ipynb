{
 "cells": [
  {
   "cell_type": "code",
   "execution_count": 10,
   "metadata": {
    "ExecuteTime": {
     "end_time": "2021-06-04T08:59:49.182361Z",
     "start_time": "2021-06-04T08:59:49.152360Z"
    },
    "collapsed": true
   },
   "outputs": [],
   "source": [
    "import pandas as pd\n",
    "import geopandas as gp \n",
    "import json\n",
    "from glob import glob\n",
    "import numpy as np\n",
    "import matplotlib.pyplot as plt\n",
    "import seaborn as sns\n",
    "\n",
    "sns.set(rc={'figure.figsize':(12,8)})\n",
    "%matplotlib inline\n",
    "from tqdm import tqdm\n",
    "import glob\n",
    "import numpy as np\n",
    "from scipy.stats import pearsonr\n",
    "from scipy.stats import linregress\n",
    "import pickle as pkl"
   ]
  },
  {
   "cell_type": "code",
   "execution_count": 11,
   "metadata": {
    "ExecuteTime": {
     "end_time": "2021-06-04T08:59:51.115638Z",
     "start_time": "2021-06-04T08:59:49.880525Z"
    },
    "collapsed": true
   },
   "outputs": [],
   "source": [
    "with open('../mappings/Bipartite_Drug_graph.pkl','rb') as f:\n",
    "    drug_association_graph  = pkl.load(f)\n",
    "\n",
    "with open('../mappings/Bipartite_Drug_category_graph.pkl','rb') as f:\n",
    "    drug_cat_association_graph  = pkl.load(f)"
   ]
  },
  {
   "cell_type": "code",
   "execution_count": 69,
   "metadata": {
    "ExecuteTime": {
     "end_time": "2021-06-04T10:03:24.502539Z",
     "start_time": "2021-06-04T10:03:23.858522Z"
    },
    "collapsed": true
   },
   "outputs": [],
   "source": [
    "def cleanStringofUTF(string):\n",
    "    cleaned = string.encode('utf-8').replace('\\xe8','e').replace('\\xf6','o')\n",
    "    return cleaned\n",
    "\n",
    "def enrichdrugs(chem_dict , drugs):\n",
    "    diabetes_drug_words = [drugs[k]['name'].lower() for k in drugs]\n",
    "    for drug in chem_dict:\n",
    "        Name = chem_dict[drug]['name'].replace('(','').replace(')','')\n",
    "        slot1 = Name.lower().split('/')\n",
    "        slot2 = Name.lower().split(' ')\n",
    "        slot3 = Name.lower().split(' & ')\n",
    "        common1 = set(diabetes_drug_words).intersection(slot1)\n",
    "        common2 = set(diabetes_drug_words).intersection(slot2)\n",
    "        common3 = set(diabetes_drug_words).intersection(slot3)\n",
    "        \n",
    "        if len(common1) > 0 or len(common2) > 0 or len(common3) > 0:\n",
    "#             print common1 , common2 , common3\n",
    "            drugs[chem_dict[drug]['code']] = {'disease':'' , 'disease_given_drug':0.0 , 'matched_disease':'', 'name':chem_dict[drug]['name'].strip() }\n",
    "\n",
    "            \n",
    "            \n",
    "def makeChemDict(BNF_Chem):\n",
    "    chem_dict = {}\n",
    "    for index, row in BNF_Chem.iterrows():\n",
    "        chem_dict[row['UNII_drugbank']] = {}\n",
    "        chem_dict[row['UNII_drugbank']]['name'] = row['NAME']\n",
    "        chem_dict[row['UNII_drugbank']]['code'] = row['BNF_code']\n",
    "    return chem_dict\n",
    "    \n",
    "def getDrugCategory(categorylist, BNF_Chem, drugbankDict):\n",
    "    allMatched = []\n",
    "    drugs = {}\n",
    "    chem_dict = makeChemDict(BNF_Chem)\n",
    "    \n",
    "    for k in drugbankDict:\n",
    "        if len(drugbankDict[k]['Categories']) > 0:\n",
    "            for cat in drugbankDict[k]['Categories']:\n",
    "                matched_memo = []\n",
    "                catString = cat.values()[0]#.split('\\u2014')[-1]\n",
    "                t = catString.lower().strip()\n",
    "                for categoryString in categorylist:\n",
    "                    categoryString = categoryString.lower()\n",
    "                    if t.find(categoryString) >= 0:\n",
    "                        matched_memo.append(categoryString)\n",
    "                if k in chem_dict:\n",
    "                    if len(matched_memo) > 0:# == len(categorylist):\n",
    "                        allMatched.append(k)\n",
    "#                         print chem_dict[k]\n",
    "                        drugs[chem_dict[k]['code']] = {}\n",
    "                        drugs[chem_dict[k]['code']]['name'] = chem_dict[k]['name']\n",
    "                        drugs[chem_dict[k]['code']]['matched_cat'] = categorylist\n",
    "    enrichdrugs(chem_dict,drugs)               \n",
    "    return list(set(allMatched)) , drugs\n",
    "\n",
    "\n",
    "def getDrugforDiseaseDrugbank(categorylist, BNF_Chem, drugbankDict):\n",
    "    allMatched = []\n",
    "    drugs = {}\n",
    "    chem_dict = makeChemDict(BNF_Chem)\n",
    "    \n",
    "    for k in drugbankDict:\n",
    "        if len(drugbankDict[k]['Associations']) > 0:\n",
    "            for cat in drugbankDict[k]['Associations']:\n",
    "                matched_memo = []\n",
    "                catString = cat.values()[0]\n",
    "                t = catString.lower().strip()\n",
    "                for categoryString in categorylist:\n",
    "                    categoryString = categoryString.lower()\n",
    "                    if t.find(categoryString) >= 0:\n",
    "                        matched_memo.append(categoryString)\n",
    "                if k in chem_dict:\n",
    "                    if len(matched_memo) > 0:\n",
    "                        allMatched.append(k)\n",
    "#                         print chem_dict[k]\n",
    "                        drugs[chem_dict[k]['code']] = {}\n",
    "                        drugs[chem_dict[k]['code']]['name'] = chem_dict[k]['name']\n",
    "                        drugs[chem_dict[k]['code']]['matched_cat'] = categorylist\n",
    "    enrichdrugs(chem_dict,drugs)               \n",
    "    return  allMatched , drugs\n",
    "\n",
    "\n",
    "def findDrugsForDisease(Graph, Disease, BNF_Chem ):#,threshProb):\n",
    "    chem_dict = makeChemDict(BNF_Chem)\n",
    "    drugs = {}\n",
    "    for e in Graph.edges(data=True):\n",
    "        if (cleanStringofUTF(e[1]).lower().find(Disease.lower()) >=0) or (cleanStringofUTF(e[0]).lower().find(Disease.lower()) >= 0) :\n",
    "            drugNode = ''\n",
    "            matchedDisease = ''\n",
    "            if Graph.node[e[0]]['type'] == 'symptom':\n",
    "                drugNode = e[1]\n",
    "                matchedDisease = e[0]\n",
    "            else:\n",
    "                drugNode = e[0]\n",
    "                matchedDisease = e[1]\n",
    "            drugs[Graph.node[drugNode]['Id']] = {}\n",
    "            drugs[Graph.node[drugNode]['Id']]['name'] = drugNode\n",
    "            drugs[Graph.node[drugNode]['Id']]['matched_disease'] = matchedDisease\n",
    "            drugs[Graph.node[drugNode]['Id']]['disease'] = Disease\n",
    "    enrichdrugs(chem_dict,drugs)\n",
    "    return drugs\n",
    "\n",
    "\n",
    "def generateConfidence(drugs,Graph):\n",
    "    shared = []\n",
    "    All = []\n",
    "    denom = max(Graph.degree().values())\n",
    "    for d in drugs:\n",
    "        name = drugs[d]['name']\n",
    "        for e in Graph.edges(data=True):\n",
    "            if Graph.node[e[0]]['type'] == 'symptom':\n",
    "                if e[1] == name:\n",
    "                    shared.append(Graph.degree()[e[1]]-1)\n",
    "                else:\n",
    "                    continue\n",
    "            else:\n",
    "                \n",
    "                if e[0] == name:\n",
    "                    shared.append(Graph.degree()[e[0]]-1)\n",
    "                else:\n",
    "                    continue\n",
    "#     shared = [float(k) for k in shared]\n",
    "    num = [k for k in shared if k > 1]\n",
    "\n",
    "    return float(len(num)+1.0)/float(len(shared)+1.0)\n",
    "#     return float(len(num))/float(len(shared)) * 10.0\n",
    "#     return len(num)\n",
    "                \n",
    "                \n",
    "def findDrugsForCategory(Graph, Cat, BNF_Chem ):#,threshProb):\n",
    "    chem_dict = makeChemDict(BNF_Chem)\n",
    "    drugs = {}\n",
    "    for e in Graph.edges(data=True):\n",
    "        if (cleanStringofUTF(e[1]).lower().find(Cat.lower()) >=0) or (cleanStringofUTF(e[0]).lower().find(Cat.lower()) >= 0) :\n",
    "            drugNode = ''\n",
    "            matchedDisease = ''\n",
    "            if Graph.node[e[0]]['type'] == 'category':\n",
    "                drugNode = e[1]\n",
    "                matchedDisease = e[0]\n",
    "            else:\n",
    "                drugNode = e[0]\n",
    "                matchedDisease = e[1]\n",
    "            print Graph.node[drugNode]['Id']\n",
    "            drugs[Graph.node[drugNode]['Id']] = {}\n",
    "            drugs[Graph.node[drugNode]['Id']]['name'] = drugNode\n",
    "            drugs[Graph.node[drugNode]['Id']]['matched_cat'] = matchedDisease\n",
    "            drugs[Graph.node[drugNode]['Id']]['category'] = Cat\n",
    "    enrichdrugs(chem_dict,drugs)\n",
    "    return drugs\n"
   ]
  },
  {
   "cell_type": "code",
   "execution_count": 14,
   "metadata": {
    "ExecuteTime": {
     "end_time": "2021-06-04T08:59:57.206326Z",
     "start_time": "2021-06-04T08:59:57.197594Z"
    }
   },
   "outputs": [
    {
     "name": "stdout",
     "output_type": "stream",
     "text": [
      "['../../BL_Work/openPrescribe/serialized/201810.gz', '../../BL_Work/openPrescribe/serialized/201710.gz', '../../BL_Work/openPrescribe/serialized/201203.gz', '../../BL_Work/openPrescribe/serialized/201110.gz', '../../BL_Work/openPrescribe/serialized/202010.gz', '../../BL_Work/openPrescribe/serialized/201804.gz', '../../BL_Work/openPrescribe/serialized/201911.gz', '../../BL_Work/openPrescribe/serialized/201308.gz', '../../BL_Work/openPrescribe/serialized/201708.gz', '../../BL_Work/openPrescribe/serialized/202005.gz', '../../BL_Work/openPrescribe/serialized/201211.gz', '../../BL_Work/openPrescribe/serialized/201707.gz', '../../BL_Work/openPrescribe/serialized/201803.gz', '../../BL_Work/openPrescribe/serialized/201410.gz', '../../BL_Work/openPrescribe/serialized/201301.gz', '../../BL_Work/openPrescribe/serialized/201201.gz', '../../BL_Work/openPrescribe/serialized/201409.gz', '../../BL_Work/openPrescribe/serialized/201812.gz', '../../BL_Work/openPrescribe/serialized/201603.gz', '../../BL_Work/openPrescribe/serialized/201109.gz', '../../BL_Work/openPrescribe/serialized/201512.gz', '../../BL_Work/openPrescribe/serialized/202004.gz', '../../BL_Work/openPrescribe/serialized/201601.gz', '../../BL_Work/openPrescribe/serialized/201101.gz', '../../BL_Work/openPrescribe/serialized/201402.gz', '../../BL_Work/openPrescribe/serialized/201602.gz', '../../BL_Work/openPrescribe/serialized/201206.gz', '../../BL_Work/openPrescribe/serialized/201207.gz', '../../BL_Work/openPrescribe/serialized/201210.gz', '../../BL_Work/openPrescribe/serialized/201404.gz', '../../BL_Work/openPrescribe/serialized/201105.gz', '../../BL_Work/openPrescribe/serialized/201705.gz', '../../BL_Work/openPrescribe/serialized/201509.gz', '../../BL_Work/openPrescribe/serialized/202007.gz', '../../BL_Work/openPrescribe/serialized/201802.gz', '../../BL_Work/openPrescribe/serialized/201307.gz', '../../BL_Work/openPrescribe/serialized/201902.gz', '../../BL_Work/openPrescribe/serialized/201204.gz', '../../BL_Work/openPrescribe/serialized/201104.gz', '../../BL_Work/openPrescribe/serialized/201102.gz', '../../BL_Work/openPrescribe/serialized/201507.gz', '../../BL_Work/openPrescribe/serialized/201502.gz', '../../BL_Work/openPrescribe/serialized/201103.gz', '../../BL_Work/openPrescribe/serialized/201704.gz', '../../BL_Work/openPrescribe/serialized/201511.gz', '../../BL_Work/openPrescribe/serialized/201406.gz', '../../BL_Work/openPrescribe/serialized/201808.gz', '../../BL_Work/openPrescribe/serialized/202012.gz', '../../BL_Work/openPrescribe/serialized/201904.gz', '../../BL_Work/openPrescribe/serialized/201407.gz', '../../BL_Work/openPrescribe/serialized/202101.gz', '../../BL_Work/openPrescribe/serialized/201805.gz', '../../BL_Work/openPrescribe/serialized/202002.gz', '../../BL_Work/openPrescribe/serialized/201506.gz', '../../BL_Work/openPrescribe/serialized/201008.gz', '../../BL_Work/openPrescribe/serialized/201611.gz', '../../BL_Work/openPrescribe/serialized/201604.gz', '../../BL_Work/openPrescribe/serialized/202011.gz', '../../BL_Work/openPrescribe/serialized/201012.gz', '../../BL_Work/openPrescribe/serialized/201411.gz', '../../BL_Work/openPrescribe/serialized/201701.gz', '../../BL_Work/openPrescribe/serialized/201501.gz', '../../BL_Work/openPrescribe/serialized/201903.gz', '../../BL_Work/openPrescribe/serialized/201612.gz', '../../BL_Work/openPrescribe/serialized/201205.gz', '../../BL_Work/openPrescribe/serialized/201608.gz', '../../BL_Work/openPrescribe/serialized/201901.gz', '../../BL_Work/openPrescribe/serialized/201912.gz', '../../BL_Work/openPrescribe/serialized/201510.gz', '../../BL_Work/openPrescribe/serialized/201011.gz', '../../BL_Work/openPrescribe/serialized/201909.gz', '../../BL_Work/openPrescribe/serialized/201811.gz', '../../BL_Work/openPrescribe/serialized/201202.gz', '../../BL_Work/openPrescribe/serialized/201009.gz', '../../BL_Work/openPrescribe/serialized/201905.gz', '../../BL_Work/openPrescribe/serialized/201405.gz', '../../BL_Work/openPrescribe/serialized/201605.gz', '../../BL_Work/openPrescribe/serialized/201908.gz', '../../BL_Work/openPrescribe/serialized/201709.gz', '../../BL_Work/openPrescribe/serialized/201610.gz', '../../BL_Work/openPrescribe/serialized/201503.gz', '../../BL_Work/openPrescribe/serialized/201305.gz', '../../BL_Work/openPrescribe/serialized/202008.gz', '../../BL_Work/openPrescribe/serialized/201906.gz', '../../BL_Work/openPrescribe/serialized/201107.gz', '../../BL_Work/openPrescribe/serialized/201208.gz', '../../BL_Work/openPrescribe/serialized/201209.gz', '../../BL_Work/openPrescribe/serialized/201609.gz', '../../BL_Work/openPrescribe/serialized/201310.gz', '../../BL_Work/openPrescribe/serialized/202102.gz', '../../BL_Work/openPrescribe/serialized/201401.gz', '../../BL_Work/openPrescribe/serialized/201304.gz', '../../BL_Work/openPrescribe/serialized/201504.gz', '../../BL_Work/openPrescribe/serialized/202006.gz', '../../BL_Work/openPrescribe/serialized/201508.gz', '../../BL_Work/openPrescribe/serialized/202001.gz', '../../BL_Work/openPrescribe/serialized/201403.gz', '../../BL_Work/openPrescribe/serialized/201807.gz', '../../BL_Work/openPrescribe/serialized/201312.gz', '../../BL_Work/openPrescribe/serialized/201212.gz', '../../BL_Work/openPrescribe/serialized/201408.gz', '../../BL_Work/openPrescribe/serialized/201806.gz', '../../BL_Work/openPrescribe/serialized/201412.gz', '../../BL_Work/openPrescribe/serialized/201311.gz', '../../BL_Work/openPrescribe/serialized/201907.gz', '../../BL_Work/openPrescribe/serialized/201702.gz', '../../BL_Work/openPrescribe/serialized/201010.gz', '../../BL_Work/openPrescribe/serialized/201505.gz', '../../BL_Work/openPrescribe/serialized/201302.gz', '../../BL_Work/openPrescribe/serialized/201112.gz', '../../BL_Work/openPrescribe/serialized/201703.gz', '../../BL_Work/openPrescribe/serialized/201801.gz', '../../BL_Work/openPrescribe/serialized/201809.gz', '../../BL_Work/openPrescribe/serialized/202009.gz', '../../BL_Work/openPrescribe/serialized/201607.gz', '../../BL_Work/openPrescribe/serialized/201712.gz', '../../BL_Work/openPrescribe/serialized/201606.gz', '../../BL_Work/openPrescribe/serialized/202003.gz', '../../BL_Work/openPrescribe/serialized/201910.gz', '../../BL_Work/openPrescribe/serialized/201711.gz', '../../BL_Work/openPrescribe/serialized/201111.gz', '../../BL_Work/openPrescribe/serialized/201309.gz', '../../BL_Work/openPrescribe/serialized/201106.gz', '../../BL_Work/openPrescribe/serialized/201706.gz', '../../BL_Work/openPrescribe/serialized/201306.gz', '../../BL_Work/openPrescribe/serialized/201303.gz', '../../BL_Work/openPrescribe/serialized/201108.gz']\n"
     ]
    }
   ],
   "source": [
    "files = glob.glob('../../BL_Work/openPrescribe/serialized/*.gz')\n",
    "print(files)"
   ]
  },
  {
   "cell_type": "code",
   "execution_count": 70,
   "metadata": {
    "ExecuteTime": {
     "end_time": "2021-06-04T10:03:52.685481Z",
     "start_time": "2021-06-04T10:03:48.901374Z"
    }
   },
   "outputs": [
    {
     "name": "stdout",
     "output_type": "stream",
     "text": [
      "0501090R0\n",
      "0501090C0\n",
      "0802010M0\n",
      "0501090Q0\n",
      "0501090E0\n",
      "0801020P0\n",
      "0801020P0\n",
      "0501070X0\n",
      "1310011Z0\n",
      "1310012I0\n",
      "1202010N0\n",
      "0801020K0\n",
      "/categories/DBCAT004732\n",
      "/categories/DBCAT000873\n",
      "0801020D0\n",
      "0801020Q0\n",
      "0802020U0\n",
      "0801060A0\n",
      "0802010M0\n",
      "0801020N0\n",
      "0801020Q0\n",
      "/categories/DBCAT002288\n",
      "/categories/DBCAT002363\n",
      "1310012P0\n",
      "0501030F0\n",
      "0801020K0\n",
      "/categories/DBCAT004732\n",
      "0801020R0\n",
      "0801020D0\n",
      "0801060A0\n",
      "0801020N0\n",
      "1310012F0\n",
      "1310011AA\n",
      "0501030V0\n",
      "1201010R0\n",
      "/categories/DBCAT004737\n",
      "1104020R0\n",
      "1202010P0\n",
      "1202010Q0\n",
      "1104020P0\n",
      "1202010A0\n",
      "1104020Z0\n",
      "1202010P0\n",
      "1104020AC\n",
      "1104020X0\n",
      "1105000T0\n",
      "1202010Q0\n",
      "1104020Y0\n",
      "1104020P0\n",
      "1202020H0\n",
      "1104020Z0\n",
      "1202020P0\n",
      "1202020G0\n",
      "1202010A0\n",
      "1104020M0\n"
     ]
    }
   ],
   "source": [
    "chem = pd.read_csv('../mappings/CHEM_MASTER_MAP.csv')\n",
    "len(chem)\n",
    "\n",
    "# chem = chem.dropna()\n",
    "\n",
    "matched = chem[chem['UNII_drugbank']!='[]']\n",
    "\n",
    "matchedMap = {}\n",
    "for index,row in matched.iterrows():\n",
    "    if row['UNII_drugbank'] not in matchedMap:\n",
    "         matchedMap[row['UNII_drugbank']] = []\n",
    "    matchedMap[row['UNII_drugbank']].append(row['BNF_code'])\n",
    "\n",
    "# diseases = [\n",
    "#  \"anxiety\",\n",
    "#  \"rheumatoid\",\n",
    "#  \"osteoporosis\",\n",
    "#  \"depression\",\n",
    "#  \"diabetes\",\n",
    "#  \"stroke\",\n",
    "#  \"hypertension\",\n",
    "#  \"chronic obstructive pulmonary disease\", \n",
    "#  \"dementia\",\n",
    "#  \"asthma\",\n",
    "#  \"sleeplessness\",\n",
    "# ]\n",
    "\n",
    "# DiseaseDrugs = {}\n",
    "# for d in diseases:\n",
    "#     drugs = findDrugsForDisease(drug_association_graph,d ,chem)\n",
    "# #     _ , drugs = getDrugforDiseaseDrugbank([d] ,chem,drugbank_dict)\n",
    "#     for drug in drugs:\n",
    "#         DiseaseDrugs[drug] = {}\n",
    "#         DiseaseDrugs[drug]['chemName'] = drugs[drug]['name']\n",
    "#         DiseaseDrugs[drug]['disease'] = d\n",
    "\n",
    "\n",
    "categories = [\"antibiotics\",\n",
    "              \"antiallergic\"\n",
    "]\n",
    "\n",
    "DiseaseDrugs = {}\n",
    "for d in categories:\n",
    "    drugs = findDrugsForCategory(drug_cat_association_graph,d ,chem)\n",
    "    for drug in drugs:\n",
    "        DiseaseDrugs[drug] = {}\n",
    "        DiseaseDrugs[drug]['chemName'] = drugs[drug]['name']\n",
    "        DiseaseDrugs[drug]['disease'] = d"
   ]
  },
  {
   "cell_type": "code",
   "execution_count": 68,
   "metadata": {
    "ExecuteTime": {
     "end_time": "2021-06-04T09:58:47.885750Z",
     "start_time": "2021-06-04T09:58:47.857421Z"
    }
   },
   "outputs": [
    {
     "data": {
      "text/plain": [
       "{u'/categories/DBCAT000873': {'chemName': 'Daunorubicin',\n",
       "  'disease': 'antibiotics'},\n",
       " u'/categories/DBCAT002288': {'chemName': u'Cytotoxic Antibiotics and Related Substances',\n",
       "  'disease': 'antibiotics'},\n",
       " u'/categories/DBCAT002363': {'chemName': u'Antibiotics for Topical Use',\n",
       "  'disease': 'antibiotics'},\n",
       " u'/categories/DBCAT004732': {'chemName': 'Bleomycin',\n",
       "  'disease': 'antibiotics'},\n",
       " u'/categories/DBCAT004737': {'chemName': 'Mupirocin',\n",
       "  'disease': 'antibiotics'},\n",
       " '0501030F0': {'chemName': 'Demeclocycline Hydrochloride',\n",
       "  'disease': 'antibiotics'},\n",
       " '0501030V0': {'chemName': 'Tetracycline', 'disease': 'antibiotics'},\n",
       " '0501070X0': {'chemName': 'Rifaximin', 'disease': 'antibiotics'},\n",
       " '0501090C0': {'chemName': 'Capreomycin', 'disease': 'antibiotics'},\n",
       " '0501090E0': {'chemName': 'Cycloserine', 'disease': 'antibiotics'},\n",
       " '0501090Q0': {'chemName': 'Rifabutin', 'disease': 'antibiotics'},\n",
       " '0501090R0': {'chemName': 'Rifampicin', 'disease': 'antibiotics'},\n",
       " '0501090S0': {'chemName': 'Rifampicin Combined Preparations',\n",
       "  'disease': 'antibiotics'},\n",
       " '0801020D0': {'chemName': 'Dactinomycin', 'disease': 'antibiotics'},\n",
       " '0801020G0': {'chemName': 'Bleomycin', 'disease': 'antibiotics'},\n",
       " '0801020J0': {'chemName': 'Daunorubicin', 'disease': 'antibiotics'},\n",
       " '0801020K0': {'chemName': 'Doxorubicin Hydrochloride',\n",
       "  'disease': 'antibiotics'},\n",
       " '0801020N0': {'chemName': 'Epirubicin Hydrochloride',\n",
       "  'disease': 'antibiotics'},\n",
       " '0801020P0': {'chemName': 'Idarubicin Hydrochloride',\n",
       "  'disease': 'antibiotics'},\n",
       " '0801020Q0': {'chemName': 'Mitomycin', 'disease': 'antibiotics'},\n",
       " '0801020R0': {'chemName': 'Mitoxantrone', 'disease': 'antibiotics'},\n",
       " '0801060A0': {'chemName': 'Daunorubicin/Cytarabine',\n",
       "  'disease': 'antibiotics'},\n",
       " '0802010M0': {'chemName': 'Mycophenolate Mofetil', 'disease': 'antibiotics'},\n",
       " '0802020U0': {'chemName': 'Sirolimus', 'disease': 'antibiotics'},\n",
       " '1104020AC': {'chemName': 'Epinastine Hydrochloride',\n",
       "  'disease': 'antiallergic'},\n",
       " '1104020M0': {'chemName': 'Lodoxamide Trometamol', 'disease': 'antiallergic'},\n",
       " '1104020P0': {'chemName': 'Levocabastine', 'disease': 'antiallergic'},\n",
       " '1104020R0': {'chemName': 'Naphazoline Hydrochloride',\n",
       "  'disease': 'antiallergic'},\n",
       " '1104020X0': {'chemName': 'Emedastine', 'disease': 'antiallergic'},\n",
       " '1104020Y0': {'chemName': 'Ketotifen Fumarate', 'disease': 'antiallergic'},\n",
       " '1104020Z0': {'chemName': 'Olopatadine', 'disease': 'antiallergic'},\n",
       " '1105000T0': {'chemName': 'Phenylephrine HCl & Tropicamide',\n",
       "  'disease': 'antiallergic'},\n",
       " '1201010R0': {'chemName': 'Gentamicin Sulphate', 'disease': 'antibiotics'},\n",
       " '1202010A0': {'chemName': 'Azelastine Hydrochloride',\n",
       "  'disease': 'antiallergic'},\n",
       " '1202010K0': {'chemName': 'Levocabastine', 'disease': 'antiallergic'},\n",
       " '1202010N0': {'chemName': 'Neomycin Sulfate', 'disease': 'antibiotics'},\n",
       " '1202010P0': {'chemName': 'Sodium Cromoglicate', 'disease': 'antiallergic'},\n",
       " '1202010Q0': {'chemName': 'Nedocromil Sodium', 'disease': 'antiallergic'},\n",
       " '1202020G0': {'chemName': 'Oxymetazoline Hydrochloride',\n",
       "  'disease': 'antiallergic'},\n",
       " '1202020H0': {'chemName': 'Naphazoline Nitrate', 'disease': 'antiallergic'},\n",
       " '1202020P0': {'chemName': 'Xylometazoline Hydrochloride',\n",
       "  'disease': 'antiallergic'},\n",
       " '1310011AA': {'chemName': 'Retapamulin', 'disease': 'antibiotics'},\n",
       " '1310011M0': {'chemName': 'Mupirocin', 'disease': 'antibiotics'},\n",
       " '1310011Z0': {'chemName': 'Tyrothricin', 'disease': 'antibiotics'},\n",
       " '1310012F0': {'chemName': 'Fusidic Acid', 'disease': 'antibiotics'},\n",
       " '1310012I0': {'chemName': 'Gentamicin Sulfate', 'disease': 'antibiotics'},\n",
       " '1310012P0': {'chemName': 'Tetracycline Hydrochloride',\n",
       "  'disease': 'antibiotics'}}"
      ]
     },
     "execution_count": 68,
     "metadata": {},
     "output_type": "execute_result"
    }
   ],
   "source": [
    "DiseaseDrugs"
   ]
  },
  {
   "cell_type": "code",
   "execution_count": 22,
   "metadata": {
    "ExecuteTime": {
     "end_time": "2021-06-04T09:16:45.090284Z",
     "start_time": "2021-06-04T09:16:45.073788Z"
    },
    "collapsed": true
   },
   "outputs": [],
   "source": [
    "%store -r ome_map\n",
    "ome = pd.read_csv('mappings/ome_rossano.csv')"
   ]
  },
  {
   "cell_type": "code",
   "execution_count": 23,
   "metadata": {
    "ExecuteTime": {
     "end_time": "2021-06-04T09:16:50.816525Z",
     "start_time": "2021-06-04T09:16:50.662644Z"
    }
   },
   "outputs": [
    {
     "data": {
      "text/html": [
       "<div>\n",
       "<style scoped>\n",
       "    .dataframe tbody tr th:only-of-type {\n",
       "        vertical-align: middle;\n",
       "    }\n",
       "\n",
       "    .dataframe tbody tr th {\n",
       "        vertical-align: top;\n",
       "    }\n",
       "\n",
       "    .dataframe thead th {\n",
       "        text-align: right;\n",
       "    }\n",
       "</style>\n",
       "<table border=\"1\" class=\"dataframe\">\n",
       "  <thead>\n",
       "    <tr style=\"text-align: right;\">\n",
       "      <th></th>\n",
       "      <th>bnf_name</th>\n",
       "      <th>bnf</th>\n",
       "      <th>mg_per_unit</th>\n",
       "      <th>ome_multiplier</th>\n",
       "    </tr>\n",
       "  </thead>\n",
       "  <tbody>\n",
       "    <tr>\n",
       "      <th>0</th>\n",
       "      <td>Abstral_Tab Sublingual 100mcg</td>\n",
       "      <td>0407020A0BJAAAW</td>\n",
       "      <td>0.10</td>\n",
       "      <td>130.0</td>\n",
       "    </tr>\n",
       "    <tr>\n",
       "      <th>1</th>\n",
       "      <td>Abstral_Tab Sublingual 200mcg</td>\n",
       "      <td>0407020A0BJABAX</td>\n",
       "      <td>0.20</td>\n",
       "      <td>130.0</td>\n",
       "    </tr>\n",
       "    <tr>\n",
       "      <th>2</th>\n",
       "      <td>Abstral_Tab Sublingual 300mcg</td>\n",
       "      <td>0407020A0BJACAY</td>\n",
       "      <td>0.30</td>\n",
       "      <td>130.0</td>\n",
       "    </tr>\n",
       "    <tr>\n",
       "      <th>3</th>\n",
       "      <td>Abstral_Tab Sublingual 400mcg</td>\n",
       "      <td>0407020A0BJADAZ</td>\n",
       "      <td>0.40</td>\n",
       "      <td>130.0</td>\n",
       "    </tr>\n",
       "    <tr>\n",
       "      <th>4</th>\n",
       "      <td>Abstral_Tab Sublingual 600mcg</td>\n",
       "      <td>0407020A0BJAEBA</td>\n",
       "      <td>0.60</td>\n",
       "      <td>130.0</td>\n",
       "    </tr>\n",
       "    <tr>\n",
       "      <th>5</th>\n",
       "      <td>Abstral_Tab Sublingual 800mcg</td>\n",
       "      <td>0407020A0BJAFBB</td>\n",
       "      <td>0.80</td>\n",
       "      <td>130.0</td>\n",
       "    </tr>\n",
       "    <tr>\n",
       "      <th>6</th>\n",
       "      <td>Abtard_Tab 10mg M/R</td>\n",
       "      <td>0407020ADBMABAF</td>\n",
       "      <td>10.00</td>\n",
       "      <td>2.0</td>\n",
       "    </tr>\n",
       "    <tr>\n",
       "      <th>7</th>\n",
       "      <td>Abtard_Tab 15mg M/R</td>\n",
       "      <td>0407020ADBMACAS</td>\n",
       "      <td>15.00</td>\n",
       "      <td>2.0</td>\n",
       "    </tr>\n",
       "    <tr>\n",
       "      <th>8</th>\n",
       "      <td>Abtard_Tab 20mg M/R</td>\n",
       "      <td>0407020ADBMADAG</td>\n",
       "      <td>20.00</td>\n",
       "      <td>2.0</td>\n",
       "    </tr>\n",
       "    <tr>\n",
       "      <th>9</th>\n",
       "      <td>Abtard_Tab 30mg M/R</td>\n",
       "      <td>0407020ADBMAFAR</td>\n",
       "      <td>30.00</td>\n",
       "      <td>2.0</td>\n",
       "    </tr>\n",
       "    <tr>\n",
       "      <th>10</th>\n",
       "      <td>Abtard_Tab 40mg M/R</td>\n",
       "      <td>0407020ADBMAEAH</td>\n",
       "      <td>40.00</td>\n",
       "      <td>2.0</td>\n",
       "    </tr>\n",
       "    <tr>\n",
       "      <th>11</th>\n",
       "      <td>Abtard_Tab 5mg M/R</td>\n",
       "      <td>0407020ADBMAAAK</td>\n",
       "      <td>5.00</td>\n",
       "      <td>2.0</td>\n",
       "    </tr>\n",
       "    <tr>\n",
       "      <th>12</th>\n",
       "      <td>Abtard_Tab 60mg M/R</td>\n",
       "      <td>0407020ADBMAGAQ</td>\n",
       "      <td>60.00</td>\n",
       "      <td>2.0</td>\n",
       "    </tr>\n",
       "    <tr>\n",
       "      <th>13</th>\n",
       "      <td>Abtard_Tab 80mg M/R</td>\n",
       "      <td>0407020ADBMAHAI</td>\n",
       "      <td>80.00</td>\n",
       "      <td>2.0</td>\n",
       "    </tr>\n",
       "    <tr>\n",
       "      <th>14</th>\n",
       "      <td>Aceon_Tab 100mg M/R</td>\n",
       "      <td>040702040BRAAAC</td>\n",
       "      <td>100.00</td>\n",
       "      <td>0.1</td>\n",
       "    </tr>\n",
       "    <tr>\n",
       "      <th>15</th>\n",
       "      <td>Aceon_Tab 200mg M/R</td>\n",
       "      <td>040702040BRACAE</td>\n",
       "      <td>200.00</td>\n",
       "      <td>0.1</td>\n",
       "    </tr>\n",
       "    <tr>\n",
       "      <th>16</th>\n",
       "      <td>Actiq_Loz 1.2mg</td>\n",
       "      <td>0407020A0BCAEAN</td>\n",
       "      <td>1.20</td>\n",
       "      <td>100.0</td>\n",
       "    </tr>\n",
       "    <tr>\n",
       "      <th>17</th>\n",
       "      <td>Actiq_Loz 1.6mg</td>\n",
       "      <td>0407020A0BCAFAP</td>\n",
       "      <td>1.60</td>\n",
       "      <td>100.0</td>\n",
       "    </tr>\n",
       "    <tr>\n",
       "      <th>18</th>\n",
       "      <td>Actiq_Loz 200mcg</td>\n",
       "      <td>0407020A0BCAAAI</td>\n",
       "      <td>0.20</td>\n",
       "      <td>100.0</td>\n",
       "    </tr>\n",
       "    <tr>\n",
       "      <th>19</th>\n",
       "      <td>Actiq_Loz 400mcg</td>\n",
       "      <td>0407020A0BCABAJ</td>\n",
       "      <td>0.40</td>\n",
       "      <td>100.0</td>\n",
       "    </tr>\n",
       "    <tr>\n",
       "      <th>20</th>\n",
       "      <td>Actiq_Loz 600mcg</td>\n",
       "      <td>0407020A0BCACAK</td>\n",
       "      <td>0.60</td>\n",
       "      <td>100.0</td>\n",
       "    </tr>\n",
       "    <tr>\n",
       "      <th>21</th>\n",
       "      <td>Actiq_Loz 800mcg</td>\n",
       "      <td>0407020A0BCADAL</td>\n",
       "      <td>0.80</td>\n",
       "      <td>100.0</td>\n",
       "    </tr>\n",
       "    <tr>\n",
       "      <th>22</th>\n",
       "      <td>Bepro_Syr 6.75mg/5ml</td>\n",
       "      <td>0407020C0BBAABA</td>\n",
       "      <td>6.75</td>\n",
       "      <td>0.1</td>\n",
       "    </tr>\n",
       "    <tr>\n",
       "      <th>23</th>\n",
       "      <td>Breakyl_Buccal Film 200mcg</td>\n",
       "      <td>0407020A0BSAABT</td>\n",
       "      <td>0.20</td>\n",
       "      <td>180.0</td>\n",
       "    </tr>\n",
       "    <tr>\n",
       "      <th>24</th>\n",
       "      <td>Breakyl_Buccal Film 400mcg</td>\n",
       "      <td>0407020A0BSABBU</td>\n",
       "      <td>0.40</td>\n",
       "      <td>180.0</td>\n",
       "    </tr>\n",
       "    <tr>\n",
       "      <th>25</th>\n",
       "      <td>Brimisol PR_Tab 100mg</td>\n",
       "      <td>040702040BWAAAC</td>\n",
       "      <td>100.00</td>\n",
       "      <td>0.1</td>\n",
       "    </tr>\n",
       "    <tr>\n",
       "      <th>26</th>\n",
       "      <td>Bunov_Transdermal Patch 10mcg/hr</td>\n",
       "      <td>0407020B0BUABAI</td>\n",
       "      <td>1.68</td>\n",
       "      <td>100.0</td>\n",
       "    </tr>\n",
       "    <tr>\n",
       "      <th>27</th>\n",
       "      <td>Bunov_Transdermal Patch 20mcg/hr</td>\n",
       "      <td>0407020B0BUACAJ</td>\n",
       "      <td>3.36</td>\n",
       "      <td>100.0</td>\n",
       "    </tr>\n",
       "    <tr>\n",
       "      <th>28</th>\n",
       "      <td>Bunov_Transdermal Patch 5mcg/hr</td>\n",
       "      <td>0407020B0BUAAAH</td>\n",
       "      <td>0.84</td>\n",
       "      <td>100.0</td>\n",
       "    </tr>\n",
       "    <tr>\n",
       "      <th>29</th>\n",
       "      <td>Bupeaze_Transdermal Patch 35mcg/hr(96hr)</td>\n",
       "      <td>0407020B0BIAAAE</td>\n",
       "      <td>3.36</td>\n",
       "      <td>100.0</td>\n",
       "    </tr>\n",
       "    <tr>\n",
       "      <th>...</th>\n",
       "      <td>...</td>\n",
       "      <td>...</td>\n",
       "      <td>...</td>\n",
       "      <td>...</td>\n",
       "    </tr>\n",
       "    <tr>\n",
       "      <th>810</th>\n",
       "      <td>Zeridame SR_Tab 100mg</td>\n",
       "      <td>040702040BLAAAC</td>\n",
       "      <td>100.00</td>\n",
       "      <td>0.1</td>\n",
       "    </tr>\n",
       "    <tr>\n",
       "      <th>811</th>\n",
       "      <td>Zeridame SR_Tab 150mg</td>\n",
       "      <td>040702040BLABAD</td>\n",
       "      <td>150.00</td>\n",
       "      <td>0.1</td>\n",
       "    </tr>\n",
       "    <tr>\n",
       "      <th>812</th>\n",
       "      <td>Zeridame SR_Tab 200mg</td>\n",
       "      <td>040702040BLACAE</td>\n",
       "      <td>200.00</td>\n",
       "      <td>0.1</td>\n",
       "    </tr>\n",
       "    <tr>\n",
       "      <th>813</th>\n",
       "      <td>Zomestine_Tab 10mg M/R</td>\n",
       "      <td>0407020ADBNADAF</td>\n",
       "      <td>10.00</td>\n",
       "      <td>2.0</td>\n",
       "    </tr>\n",
       "    <tr>\n",
       "      <th>814</th>\n",
       "      <td>Zomestine_Tab 20mg M/R</td>\n",
       "      <td>0407020ADBNAEAG</td>\n",
       "      <td>20.00</td>\n",
       "      <td>2.0</td>\n",
       "    </tr>\n",
       "    <tr>\n",
       "      <th>815</th>\n",
       "      <td>Zomestine_Tab 40mg M/R</td>\n",
       "      <td>0407020ADBNABAH</td>\n",
       "      <td>40.00</td>\n",
       "      <td>2.0</td>\n",
       "    </tr>\n",
       "    <tr>\n",
       "      <th>816</th>\n",
       "      <td>Zomestine_Tab 5mg M/R</td>\n",
       "      <td>0407020ADBNACAK</td>\n",
       "      <td>5.00</td>\n",
       "      <td>2.0</td>\n",
       "    </tr>\n",
       "    <tr>\n",
       "      <th>817</th>\n",
       "      <td>Zomestine_Tab 80mg M/R</td>\n",
       "      <td>0407020ADBNAAAI</td>\n",
       "      <td>80.00</td>\n",
       "      <td>2.0</td>\n",
       "    </tr>\n",
       "    <tr>\n",
       "      <th>818</th>\n",
       "      <td>Zomorph_Cap 100mg</td>\n",
       "      <td>0407020Q0BKADEB</td>\n",
       "      <td>100.00</td>\n",
       "      <td>1.0</td>\n",
       "    </tr>\n",
       "    <tr>\n",
       "      <th>819</th>\n",
       "      <td>Zomorph_Cap 10mg</td>\n",
       "      <td>0407020Q0BKAAEF</td>\n",
       "      <td>10.00</td>\n",
       "      <td>1.0</td>\n",
       "    </tr>\n",
       "    <tr>\n",
       "      <th>820</th>\n",
       "      <td>Zomorph_Cap 200mg</td>\n",
       "      <td>0407020Q0BKAEEI</td>\n",
       "      <td>200.00</td>\n",
       "      <td>1.0</td>\n",
       "    </tr>\n",
       "    <tr>\n",
       "      <th>821</th>\n",
       "      <td>Zomorph_Cap 30mg</td>\n",
       "      <td>0407020Q0BKABEG</td>\n",
       "      <td>30.00</td>\n",
       "      <td>1.0</td>\n",
       "    </tr>\n",
       "    <tr>\n",
       "      <th>822</th>\n",
       "      <td>Zomorph_Cap 60mg</td>\n",
       "      <td>0407020Q0BKACEH</td>\n",
       "      <td>60.00</td>\n",
       "      <td>1.0</td>\n",
       "    </tr>\n",
       "    <tr>\n",
       "      <th>823</th>\n",
       "      <td>Zydol 100_Inj 50mg/ml 2ml Amp</td>\n",
       "      <td>040702040BBABAB</td>\n",
       "      <td>100.00</td>\n",
       "      <td>0.1</td>\n",
       "    </tr>\n",
       "    <tr>\n",
       "      <th>824</th>\n",
       "      <td>Zydol SR_Tab 100mg</td>\n",
       "      <td>040702040BBACAC</td>\n",
       "      <td>100.00</td>\n",
       "      <td>0.1</td>\n",
       "    </tr>\n",
       "    <tr>\n",
       "      <th>825</th>\n",
       "      <td>Zydol SR_Tab 150mg</td>\n",
       "      <td>040702040BBADAD</td>\n",
       "      <td>150.00</td>\n",
       "      <td>0.1</td>\n",
       "    </tr>\n",
       "    <tr>\n",
       "      <th>826</th>\n",
       "      <td>Zydol SR_Tab 200mg</td>\n",
       "      <td>040702040BBAEAE</td>\n",
       "      <td>200.00</td>\n",
       "      <td>0.1</td>\n",
       "    </tr>\n",
       "    <tr>\n",
       "      <th>827</th>\n",
       "      <td>Zydol SR_Tab 50mg</td>\n",
       "      <td>040702040BBAKAY</td>\n",
       "      <td>50.00</td>\n",
       "      <td>0.1</td>\n",
       "    </tr>\n",
       "    <tr>\n",
       "      <th>828</th>\n",
       "      <td>Zydol XL_Tab 150mg</td>\n",
       "      <td>040702040BBAGAD</td>\n",
       "      <td>150.00</td>\n",
       "      <td>0.1</td>\n",
       "    </tr>\n",
       "    <tr>\n",
       "      <th>829</th>\n",
       "      <td>Zydol XL_Tab 200mg</td>\n",
       "      <td>040702040BBAHAE</td>\n",
       "      <td>200.00</td>\n",
       "      <td>0.1</td>\n",
       "    </tr>\n",
       "    <tr>\n",
       "      <th>830</th>\n",
       "      <td>Zydol XL_Tab 300mg</td>\n",
       "      <td>040702040BBAIAM</td>\n",
       "      <td>300.00</td>\n",
       "      <td>0.1</td>\n",
       "    </tr>\n",
       "    <tr>\n",
       "      <th>831</th>\n",
       "      <td>Zydol XL_Tab 400mg</td>\n",
       "      <td>040702040BBAJAN</td>\n",
       "      <td>400.00</td>\n",
       "      <td>0.1</td>\n",
       "    </tr>\n",
       "    <tr>\n",
       "      <th>832</th>\n",
       "      <td>Zydol_Cap 50mg</td>\n",
       "      <td>040702040BBAAAA</td>\n",
       "      <td>50.00</td>\n",
       "      <td>0.1</td>\n",
       "    </tr>\n",
       "    <tr>\n",
       "      <th>833</th>\n",
       "      <td>Zydol_Inj 100mg/2ml Amp</td>\n",
       "      <td>040702040BBABAB</td>\n",
       "      <td>100.00</td>\n",
       "      <td>0.1</td>\n",
       "    </tr>\n",
       "    <tr>\n",
       "      <th>834</th>\n",
       "      <td>Zydol_Inj 50mg/ml 2ml Amp</td>\n",
       "      <td>040702040BBABAB</td>\n",
       "      <td>100.00</td>\n",
       "      <td>0.1</td>\n",
       "    </tr>\n",
       "    <tr>\n",
       "      <th>835</th>\n",
       "      <td>Zydol_Tab Solb 50mg</td>\n",
       "      <td>040702040BBAFAF</td>\n",
       "      <td>50.00</td>\n",
       "      <td>0.1</td>\n",
       "    </tr>\n",
       "    <tr>\n",
       "      <th>836</th>\n",
       "      <td>Zytram SR_Tab 100mg</td>\n",
       "      <td>040702040BVACAC</td>\n",
       "      <td>100.00</td>\n",
       "      <td>0.1</td>\n",
       "    </tr>\n",
       "    <tr>\n",
       "      <th>837</th>\n",
       "      <td>Zytram SR_Tab 150mg</td>\n",
       "      <td>040702040BVAAAD</td>\n",
       "      <td>150.00</td>\n",
       "      <td>0.1</td>\n",
       "    </tr>\n",
       "    <tr>\n",
       "      <th>838</th>\n",
       "      <td>Zytram SR_Tab 200mg</td>\n",
       "      <td>040702040BVADAE</td>\n",
       "      <td>200.00</td>\n",
       "      <td>0.1</td>\n",
       "    </tr>\n",
       "    <tr>\n",
       "      <th>839</th>\n",
       "      <td>Zytram SR_Tab 75mg</td>\n",
       "      <td>040702040BVABAP</td>\n",
       "      <td>75.00</td>\n",
       "      <td>0.1</td>\n",
       "    </tr>\n",
       "  </tbody>\n",
       "</table>\n",
       "<p>840 rows × 4 columns</p>\n",
       "</div>"
      ],
      "text/plain": [
       "                                     bnf_name              bnf  mg_per_unit  \\\n",
       "0               Abstral_Tab Sublingual 100mcg  0407020A0BJAAAW         0.10   \n",
       "1               Abstral_Tab Sublingual 200mcg  0407020A0BJABAX         0.20   \n",
       "2               Abstral_Tab Sublingual 300mcg  0407020A0BJACAY         0.30   \n",
       "3               Abstral_Tab Sublingual 400mcg  0407020A0BJADAZ         0.40   \n",
       "4               Abstral_Tab Sublingual 600mcg  0407020A0BJAEBA         0.60   \n",
       "5               Abstral_Tab Sublingual 800mcg  0407020A0BJAFBB         0.80   \n",
       "6                         Abtard_Tab 10mg M/R  0407020ADBMABAF        10.00   \n",
       "7                         Abtard_Tab 15mg M/R  0407020ADBMACAS        15.00   \n",
       "8                         Abtard_Tab 20mg M/R  0407020ADBMADAG        20.00   \n",
       "9                         Abtard_Tab 30mg M/R  0407020ADBMAFAR        30.00   \n",
       "10                        Abtard_Tab 40mg M/R  0407020ADBMAEAH        40.00   \n",
       "11                         Abtard_Tab 5mg M/R  0407020ADBMAAAK         5.00   \n",
       "12                        Abtard_Tab 60mg M/R  0407020ADBMAGAQ        60.00   \n",
       "13                        Abtard_Tab 80mg M/R  0407020ADBMAHAI        80.00   \n",
       "14                        Aceon_Tab 100mg M/R  040702040BRAAAC       100.00   \n",
       "15                        Aceon_Tab 200mg M/R  040702040BRACAE       200.00   \n",
       "16                            Actiq_Loz 1.2mg  0407020A0BCAEAN         1.20   \n",
       "17                            Actiq_Loz 1.6mg  0407020A0BCAFAP         1.60   \n",
       "18                           Actiq_Loz 200mcg  0407020A0BCAAAI         0.20   \n",
       "19                           Actiq_Loz 400mcg  0407020A0BCABAJ         0.40   \n",
       "20                           Actiq_Loz 600mcg  0407020A0BCACAK         0.60   \n",
       "21                           Actiq_Loz 800mcg  0407020A0BCADAL         0.80   \n",
       "22                       Bepro_Syr 6.75mg/5ml  0407020C0BBAABA         6.75   \n",
       "23                 Breakyl_Buccal Film 200mcg  0407020A0BSAABT         0.20   \n",
       "24                 Breakyl_Buccal Film 400mcg  0407020A0BSABBU         0.40   \n",
       "25                      Brimisol PR_Tab 100mg  040702040BWAAAC       100.00   \n",
       "26           Bunov_Transdermal Patch 10mcg/hr  0407020B0BUABAI         1.68   \n",
       "27           Bunov_Transdermal Patch 20mcg/hr  0407020B0BUACAJ         3.36   \n",
       "28            Bunov_Transdermal Patch 5mcg/hr  0407020B0BUAAAH         0.84   \n",
       "29   Bupeaze_Transdermal Patch 35mcg/hr(96hr)  0407020B0BIAAAE         3.36   \n",
       "..                                        ...              ...          ...   \n",
       "810                     Zeridame SR_Tab 100mg  040702040BLAAAC       100.00   \n",
       "811                     Zeridame SR_Tab 150mg  040702040BLABAD       150.00   \n",
       "812                     Zeridame SR_Tab 200mg  040702040BLACAE       200.00   \n",
       "813                    Zomestine_Tab 10mg M/R  0407020ADBNADAF        10.00   \n",
       "814                    Zomestine_Tab 20mg M/R  0407020ADBNAEAG        20.00   \n",
       "815                    Zomestine_Tab 40mg M/R  0407020ADBNABAH        40.00   \n",
       "816                     Zomestine_Tab 5mg M/R  0407020ADBNACAK         5.00   \n",
       "817                    Zomestine_Tab 80mg M/R  0407020ADBNAAAI        80.00   \n",
       "818                         Zomorph_Cap 100mg  0407020Q0BKADEB       100.00   \n",
       "819                          Zomorph_Cap 10mg  0407020Q0BKAAEF        10.00   \n",
       "820                         Zomorph_Cap 200mg  0407020Q0BKAEEI       200.00   \n",
       "821                          Zomorph_Cap 30mg  0407020Q0BKABEG        30.00   \n",
       "822                          Zomorph_Cap 60mg  0407020Q0BKACEH        60.00   \n",
       "823             Zydol 100_Inj 50mg/ml 2ml Amp  040702040BBABAB       100.00   \n",
       "824                        Zydol SR_Tab 100mg  040702040BBACAC       100.00   \n",
       "825                        Zydol SR_Tab 150mg  040702040BBADAD       150.00   \n",
       "826                        Zydol SR_Tab 200mg  040702040BBAEAE       200.00   \n",
       "827                         Zydol SR_Tab 50mg  040702040BBAKAY        50.00   \n",
       "828                        Zydol XL_Tab 150mg  040702040BBAGAD       150.00   \n",
       "829                        Zydol XL_Tab 200mg  040702040BBAHAE       200.00   \n",
       "830                        Zydol XL_Tab 300mg  040702040BBAIAM       300.00   \n",
       "831                        Zydol XL_Tab 400mg  040702040BBAJAN       400.00   \n",
       "832                            Zydol_Cap 50mg  040702040BBAAAA        50.00   \n",
       "833                   Zydol_Inj 100mg/2ml Amp  040702040BBABAB       100.00   \n",
       "834                 Zydol_Inj 50mg/ml 2ml Amp  040702040BBABAB       100.00   \n",
       "835                       Zydol_Tab Solb 50mg  040702040BBAFAF        50.00   \n",
       "836                       Zytram SR_Tab 100mg  040702040BVACAC       100.00   \n",
       "837                       Zytram SR_Tab 150mg  040702040BVAAAD       150.00   \n",
       "838                       Zytram SR_Tab 200mg  040702040BVADAE       200.00   \n",
       "839                        Zytram SR_Tab 75mg  040702040BVABAP        75.00   \n",
       "\n",
       "     ome_multiplier  \n",
       "0             130.0  \n",
       "1             130.0  \n",
       "2             130.0  \n",
       "3             130.0  \n",
       "4             130.0  \n",
       "5             130.0  \n",
       "6               2.0  \n",
       "7               2.0  \n",
       "8               2.0  \n",
       "9               2.0  \n",
       "10              2.0  \n",
       "11              2.0  \n",
       "12              2.0  \n",
       "13              2.0  \n",
       "14              0.1  \n",
       "15              0.1  \n",
       "16            100.0  \n",
       "17            100.0  \n",
       "18            100.0  \n",
       "19            100.0  \n",
       "20            100.0  \n",
       "21            100.0  \n",
       "22              0.1  \n",
       "23            180.0  \n",
       "24            180.0  \n",
       "25              0.1  \n",
       "26            100.0  \n",
       "27            100.0  \n",
       "28            100.0  \n",
       "29            100.0  \n",
       "..              ...  \n",
       "810             0.1  \n",
       "811             0.1  \n",
       "812             0.1  \n",
       "813             2.0  \n",
       "814             2.0  \n",
       "815             2.0  \n",
       "816             2.0  \n",
       "817             2.0  \n",
       "818             1.0  \n",
       "819             1.0  \n",
       "820             1.0  \n",
       "821             1.0  \n",
       "822             1.0  \n",
       "823             0.1  \n",
       "824             0.1  \n",
       "825             0.1  \n",
       "826             0.1  \n",
       "827             0.1  \n",
       "828             0.1  \n",
       "829             0.1  \n",
       "830             0.1  \n",
       "831             0.1  \n",
       "832             0.1  \n",
       "833             0.1  \n",
       "834             0.1  \n",
       "835             0.1  \n",
       "836             0.1  \n",
       "837             0.1  \n",
       "838             0.1  \n",
       "839             0.1  \n",
       "\n",
       "[840 rows x 4 columns]"
      ]
     },
     "execution_count": 23,
     "metadata": {},
     "output_type": "execute_result"
    }
   ],
   "source": [
    "ome"
   ]
  },
  {
   "cell_type": "code",
   "execution_count": 19,
   "metadata": {
    "ExecuteTime": {
     "end_time": "2021-06-04T09:15:41.780687Z",
     "start_time": "2021-06-04T09:15:41.647433Z"
    }
   },
   "outputs": [
    {
     "data": {
      "text/plain": [
       "{'040702020AAAAAA': 2.0,\n",
       " '040702020AAABAB': 2.0,\n",
       " '040702020BBAAAA': 2.0,\n",
       " '040702020BBABAB': 2.0,\n",
       " '040702040AAAAAA': 0.1,\n",
       " '040702040AAABAB': 0.1,\n",
       " '040702040AAACAC': 0.1,\n",
       " '040702040AAADAD': 0.1,\n",
       " '040702040AAAEAE': 0.1,\n",
       " '040702040AAAFAF': 0.1,\n",
       " '040702040AAAGAG': 0.1,\n",
       " '040702040AAAHAH': 0.1,\n",
       " '040702040AAAIAI': 0.1,\n",
       " '040702040AAAJAJ': 0.1,\n",
       " '040702040AAAMAM': 0.1,\n",
       " '040702040AAANAN': 0.1,\n",
       " '040702040AAAPAP': 0.1,\n",
       " '040702040AAATAT': 0.1,\n",
       " '040702040AAAUAU': 0.1,\n",
       " '040702040AAAVAV': 0.1,\n",
       " '040702040AAAWAW': 0.1,\n",
       " '040702040AAAXAX': 0.1,\n",
       " '040702040AAAYAY': 0.1,\n",
       " '040702040AAAZAZ': 0.1,\n",
       " '040702040AABABA': 0.1,\n",
       " '040702040AABBBB': 0.1,\n",
       " '040702040AABCBC': 0.1,\n",
       " '040702040AABDBD': 0.1,\n",
       " '040702040BBAAAA': 0.1,\n",
       " '040702040BBABAB': 0.1,\n",
       " '040702040BBACAC': 0.1,\n",
       " '040702040BBADAD': 0.1,\n",
       " '040702040BBAEAE': 0.1,\n",
       " '040702040BBAFAF': 0.1,\n",
       " '040702040BBAGAD': 0.1,\n",
       " '040702040BBAHAE': 0.1,\n",
       " '040702040BBAIAM': 0.1,\n",
       " '040702040BBAJAN': 0.1,\n",
       " '040702040BBAKAY': 0.1,\n",
       " '040702040BCAAAA': 0.1,\n",
       " '040702040BDAAAA': 0.1,\n",
       " '040702040BDABAG': 0.1,\n",
       " '040702040BDACAH': 0.1,\n",
       " '040702040BDADAI': 0.1,\n",
       " '040702040BDAEAJ': 0.1,\n",
       " '040702040BDAFAB': 0.1,\n",
       " '040702040BDAGAT': 0.1,\n",
       " '040702040BDAHAD': 0.1,\n",
       " '040702040BDAIAE': 0.1,\n",
       " '040702040BDAJAM': 0.1,\n",
       " '040702040BDAKAN': 0.1,\n",
       " '040702040BEABAC': 0.1,\n",
       " '040702040BEACAD': 0.1,\n",
       " '040702040BEADAE': 0.1,\n",
       " '040702040BEAFAE': 0.1,\n",
       " '040702040BFAAAU': 0.1,\n",
       " '040702040BFABBA': 0.1,\n",
       " '040702040BGAAAC': 0.1,\n",
       " '040702040BGABAD': 0.1,\n",
       " '040702040BGABAI': 0.1,\n",
       " '040702040BGACAJ': 0.1,\n",
       " '040702040BHAAAC': 0.1,\n",
       " '040702040BHABAD': 0.1,\n",
       " '040702040BHACAE': 0.1,\n",
       " '040702040BHADAC': 0.1,\n",
       " '040702040BHAEAD': 0.1,\n",
       " '040702040BHAFAE': 0.1,\n",
       " '040702040BIAAAC': 0.1,\n",
       " '040702040BIABAE': 0.1,\n",
       " '040702040BIACAM': 0.1,\n",
       " '040702040BJAAAG': 0.1,\n",
       " '040702040BJABAH': 0.1,\n",
       " '040702040BJACAI': 0.1,\n",
       " '040702040BJADAJ': 0.1,\n",
       " '040702040BKAAAC': 0.1,\n",
       " '040702040BKABAD': 0.1,\n",
       " '040702040BKACAE': 0.1,\n",
       " '040702040BLAAAC': 0.1,\n",
       " '040702040BLABAD': 0.1,\n",
       " '040702040BLACAE': 0.1,\n",
       " '040702040BMAAAC': 0.1,\n",
       " '040702040BNAAAC': 0.1,\n",
       " '040702040BNABAD': 0.1,\n",
       " '040702040BNACAE': 0.1,\n",
       " '040702040BNADAE': 0.1,\n",
       " '040702040BNAEAD': 0.1,\n",
       " '040702040BNAFAC': 0.1,\n",
       " '040702040BPAAAG': 0.1,\n",
       " '040702040BPABAH': 0.1,\n",
       " '040702040BPACAI': 0.1,\n",
       " '040702040BPADAJ': 0.1,\n",
       " '040702040BQAAAC': 0.1,\n",
       " '040702040BQABAD': 0.1,\n",
       " '040702040BQACAE': 0.1,\n",
       " '040702040BRAAAC': 0.1,\n",
       " '040702040BRACAE': 0.1,\n",
       " '040702040BSAAAC': 0.1,\n",
       " '040702040BSABAD': 0.1,\n",
       " '040702040BSACAE': 0.1,\n",
       " '040702040BTAAAC': 0.1,\n",
       " '040702040BTAAAV': 0.1,\n",
       " '040702040BTABAD': 0.1,\n",
       " '040702040BTABAW': 0.1,\n",
       " '040702040BTACAX': 0.1,\n",
       " '040702040BUAAAC': 0.1,\n",
       " '040702040BUABAD': 0.1,\n",
       " '040702040BUACAE': 0.1,\n",
       " '040702040BVAAAD': 0.1,\n",
       " '040702040BVABAP': 0.1,\n",
       " '040702040BVACAC': 0.1,\n",
       " '040702040BVADAE': 0.1,\n",
       " '040702040BWAAAC': 0.1,\n",
       " '040702050AAAAAA': 5.0,\n",
       " '040702050AAABAB': 5.0,\n",
       " '040702050AAACAC': 5.0,\n",
       " '040702050AAADAD': 5.0,\n",
       " '040702050AAAEAE': 5.0,\n",
       " '040702050AAAFAF': 5.0,\n",
       " '040702050AAAGAG': 5.0,\n",
       " '040702050AAAHAH': 5.0,\n",
       " '040702050AAAIAI': 5.0,\n",
       " '040702050AAAJAJ': 5.0,\n",
       " '040702050AAALAL': 5.0,\n",
       " '040702050AAANAN': 5.0,\n",
       " '040702050BBAAAE': 5.0,\n",
       " '040702050BBABAD': 5.0,\n",
       " '040702050BBACAF': 5.0,\n",
       " '040702050BBADAG': 5.0,\n",
       " '040702050BBAEAC': 5.0,\n",
       " '040702050BBAFAA': 5.0,\n",
       " '040702050BBAGAB': 5.0,\n",
       " '040702050BBAKAP': 5.0,\n",
       " '0407020A0AAAEAE': 100.0,\n",
       " '0407020A0AAAFAF': 100.0,\n",
       " '0407020A0AAAGAG': 100.0,\n",
       " '0407020A0AAAHAH': 100.0,\n",
       " '0407020A0AAAIAI': 100.0,\n",
       " '0407020A0AAAJAJ': 100.0,\n",
       " '0407020A0AAAKAK': 100.0,\n",
       " '0407020A0AAALAL': 100.0,\n",
       " '0407020A0AAANAN': 100.0,\n",
       " '0407020A0AAAPAP': 100.0,\n",
       " '0407020A0AAAQAQ': 100.0,\n",
       " '0407020A0AAASAS': 100.0,\n",
       " '0407020A0AAAUAU': 100.0,\n",
       " '0407020A0AAAWAW': 130.0,\n",
       " '0407020A0AAAXAX': 130.0,\n",
       " '0407020A0AAAYAY': 130.0,\n",
       " '0407020A0AAAZAZ': 130.0,\n",
       " '0407020A0AABABA': 130.0,\n",
       " '0407020A0AABBBB': 130.0,\n",
       " '0407020A0AABCBC': 130.0,\n",
       " '0407020A0AABDBD': 130.0,\n",
       " '0407020A0AABEBE': 130.0,\n",
       " '0407020A0AABFBF': 130.0,\n",
       " '0407020A0AABGBG': 130.0,\n",
       " '0407020A0AABHBH': 160.0,\n",
       " '0407020A0AABIBI': 160.0,\n",
       " '0407020A0AABJBJ': 160.0,\n",
       " '0407020A0AABKBK': 160.0,\n",
       " '0407020A0AABLBL': 160.0,\n",
       " '0407020A0AABMBM': 160.0,\n",
       " '0407020A0AABNBN': 160.0,\n",
       " '0407020A0AABPBP': 160.0,\n",
       " '0407020A0AABQBQ': 160.0,\n",
       " '0407020A0AABRBR': 160.0,\n",
       " '0407020A0AABSBS': 160.0,\n",
       " '0407020A0AABTBT': 180.0,\n",
       " '0407020A0AABUBU': 180.0,\n",
       " '0407020A0AABVBV': 180.0,\n",
       " '0407020A0AABWBW': 100.0,\n",
       " '0407020A0AABXBX': 130.0,\n",
       " '0407020A0AABZBZ': 130.0,\n",
       " '0407020A0BBAAAE': 100.0,\n",
       " '0407020A0BBABAF': 100.0,\n",
       " '0407020A0BBACAG': 100.0,\n",
       " '0407020A0BBADAH': 100.0,\n",
       " '0407020A0BBAEAQ': 100.0,\n",
       " '0407020A0BBAFAR': 100.0,\n",
       " '0407020A0BBAGAS': 100.0,\n",
       " '0407020A0BBAHAT': 100.0,\n",
       " '0407020A0BBAIAE': 100.0,\n",
       " '0407020A0BBAJAF': 100.0,\n",
       " '0407020A0BBAKAG': 100.0,\n",
       " '0407020A0BBALAH': 100.0,\n",
       " '0407020A0BBAMAU': 100.0,\n",
       " '0407020A0BCAAAI': 100.0,\n",
       " '0407020A0BCABAJ': 100.0,\n",
       " '0407020A0BCACAK': 100.0,\n",
       " '0407020A0BCADAL': 100.0,\n",
       " '0407020A0BCAEAN': 100.0,\n",
       " '0407020A0BCAFAP': 100.0,\n",
       " '0407020A0BDAAAE': 100.0,\n",
       " '0407020A0BDABAF': 100.0,\n",
       " '0407020A0BDACAG': 100.0,\n",
       " '0407020A0BDADAH': 100.0,\n",
       " '0407020A0BEAAAU': 100.0,\n",
       " '0407020A0BEABAE': 100.0,\n",
       " '0407020A0BEACAF': 100.0,\n",
       " '0407020A0BEADAG': 100.0,\n",
       " '0407020A0BEAEAH': 100.0,\n",
       " '0407020A0BFAAAU': 100.0,\n",
       " '0407020A0BFABAE': 100.0,\n",
       " '0407020A0BFACAF': 100.0,\n",
       " '0407020A0BFADAG': 100.0,\n",
       " '0407020A0BFAEAH': 100.0,\n",
       " '0407020A0BFAFBW': 100.0,\n",
       " '0407020A0BGAAAE': 100.0,\n",
       " '0407020A0BGABAF': 100.0,\n",
       " '0407020A0BGACAG': 100.0,\n",
       " '0407020A0BGADAH': 100.0,\n",
       " '0407020A0BHAAAE': 100.0,\n",
       " '0407020A0BHABAF': 100.0,\n",
       " '0407020A0BHACAG': 100.0,\n",
       " '0407020A0BHADAH': 100.0,\n",
       " '0407020A0BJAAAW': 130.0,\n",
       " '0407020A0BJABAX': 130.0,\n",
       " '0407020A0BJACAY': 130.0,\n",
       " '0407020A0BJADAZ': 130.0,\n",
       " '0407020A0BJAEBA': 130.0,\n",
       " '0407020A0BJAFBB': 130.0,\n",
       " '0407020A0BKAABC': 130.0,\n",
       " '0407020A0BKABBD': 130.0,\n",
       " '0407020A0BKACBE': 130.0,\n",
       " '0407020A0BKADBF': 130.0,\n",
       " '0407020A0BKAEBG': 130.0,\n",
       " '0407020A0BLAAAE': 100.0,\n",
       " '0407020A0BLABAF': 100.0,\n",
       " '0407020A0BLACAG': 100.0,\n",
       " '0407020A0BLADAH': 100.0,\n",
       " '0407020A0BLAEAU': 100.0,\n",
       " '0407020A0BMAAAE': 100.0,\n",
       " '0407020A0BMABAF': 100.0,\n",
       " '0407020A0BMACAG': 100.0,\n",
       " '0407020A0BMADAH': 100.0,\n",
       " '0407020A0BMAEAU': 100.0,\n",
       " '0407020A0BNAABH': 160.0,\n",
       " '0407020A0BNABBI': 160.0,\n",
       " '0407020A0BNACBJ': 160.0,\n",
       " '0407020A0BNADBK': 160.0,\n",
       " '0407020A0BNAEBL': 160.0,\n",
       " '0407020A0BNAFBM': 160.0,\n",
       " '0407020A0BNAGBQ': 160.0,\n",
       " '0407020A0BNAHBR': 160.0,\n",
       " '0407020A0BNAIBS': 160.0,\n",
       " '0407020A0BPAABN': 160.0,\n",
       " '0407020A0BPABBP': 160.0,\n",
       " '0407020A0BQAAAU': 100.0,\n",
       " '0407020A0BQABAE': 100.0,\n",
       " '0407020A0BQACAF': 100.0,\n",
       " '0407020A0BQADAG': 100.0,\n",
       " '0407020A0BQAEAH': 100.0,\n",
       " '0407020A0BRAAAU': 100.0,\n",
       " '0407020A0BRABAE': 100.0,\n",
       " '0407020A0BRACAG': 100.0,\n",
       " '0407020A0BRADAH': 100.0,\n",
       " '0407020A0BRAEAF': 100.0,\n",
       " '0407020A0BRAFAU': 100.0,\n",
       " '0407020A0BRAGAE': 100.0,\n",
       " '0407020A0BRAHAF': 100.0,\n",
       " '0407020A0BRAIAG': 100.0,\n",
       " '0407020A0BRAJAH': 100.0,\n",
       " '0407020A0BSAABT': 180.0,\n",
       " '0407020A0BSABBU': 180.0,\n",
       " '0407020A0BTAABX': 130.0,\n",
       " '0407020A0BTABAZ': 130.0,\n",
       " '0407020A0BTACBY': 130.0,\n",
       " '0407020A0BTADBZ': 130.0,\n",
       " '0407020A0BUAAAU': 100.0,\n",
       " '0407020A0BUABAE': 100.0,\n",
       " '0407020A0BUACAF': 100.0,\n",
       " '0407020A0BUADAG': 100.0,\n",
       " '0407020A0BUAEAH': 100.0,\n",
       " '0407020A0BVAAAU': 100.0,\n",
       " '0407020A0BVABAE': 100.0,\n",
       " '0407020A0BVACAF': 100.0,\n",
       " '0407020A0BVADAG': 100.0,\n",
       " '0407020A0BVAEAH': 100.0,\n",
       " '0407020ABAAABAB': 1.0,\n",
       " '0407020ABAAAIAI': 1.0,\n",
       " '0407020ABAAAKAK': 1.0,\n",
       " '0407020ABAAAPAP': 1.0,\n",
       " '0407020ADAAAAAA': 2.0,\n",
       " '0407020ADAAABAB': 2.0,\n",
       " '0407020ADAAACAC': 2.0,\n",
       " '0407020ADAAADAD': 2.0,\n",
       " '0407020ADAAAEAE': 2.0,\n",
       " '0407020ADAAAFAF': 2.0,\n",
       " '0407020ADAAAGAG': 2.0,\n",
       " '0407020ADAAAHAH': 2.0,\n",
       " '0407020ADAAAIAI': 2.0,\n",
       " '0407020ADAAAJAJ': 2.0,\n",
       " '0407020ADAAAKAK': 2.0,\n",
       " '0407020ADAAALAL': 2.0,\n",
       " '0407020ADAAAMAM': 2.0,\n",
       " '0407020ADAAANAN': 2.0,\n",
       " '0407020ADAAAPAP': 2.0,\n",
       " '0407020ADAAAQAQ': 2.0,\n",
       " '0407020ADAAARAR': 2.0,\n",
       " '0407020ADAAASAS': 2.0,\n",
       " '0407020ADBBAAAA': 2.0,\n",
       " '0407020ADBBABAB': 2.0,\n",
       " '0407020ADBBACAC': 2.0,\n",
       " '0407020ADBBADAD': 2.0,\n",
       " '0407020ADBBAEAE': 2.0,\n",
       " '0407020ADBBAFAL': 2.0,\n",
       " '0407020ADBBAGAM': 2.0,\n",
       " '0407020ADBBAHAN': 2.0,\n",
       " '0407020ADBCAAAF': 2.0,\n",
       " '0407020ADBCABAG': 2.0,\n",
       " '0407020ADBCACAH': 2.0,\n",
       " '0407020ADBCADAI': 2.0,\n",
       " '0407020ADBCAEAK': 2.0,\n",
       " '0407020ADBCAFAP': 2.0,\n",
       " '0407020ADBCAGAQ': 2.0,\n",
       " '0407020ADBCAHAR': 2.0,\n",
       " '0407020ADBCAIAS': 2.0,\n",
       " '0407020ADBDAAAK': 2.0,\n",
       " '0407020ADBDABAF': 2.0,\n",
       " '0407020ADBDACAG': 2.0,\n",
       " '0407020ADBDADAH': 2.0,\n",
       " '0407020ADBDAEAI': 2.0,\n",
       " '0407020ADBEAAAK': 2.0,\n",
       " '0407020ADBEABAF': 2.0,\n",
       " '0407020ADBEACAG': 2.0,\n",
       " '0407020ADBEADAH': 2.0,\n",
       " '0407020ADBEAEAI': 2.0,\n",
       " '0407020ADBEAFAP': 2.0,\n",
       " '0407020ADBEAGAS': 2.0,\n",
       " '0407020ADBEAHAR': 2.0,\n",
       " '0407020ADBEAIAQ': 2.0,\n",
       " '0407020ADBFAAAK': 2.0,\n",
       " '0407020ADBFABAF': 2.0,\n",
       " '0407020ADBFACAG': 2.0,\n",
       " '0407020ADBFADAH': 2.0,\n",
       " '0407020ADBFAEAI': 2.0,\n",
       " '0407020ADBFAFAK': 2.0,\n",
       " '0407020ADBFAGAF': 2.0,\n",
       " '0407020ADBFAHAG': 2.0,\n",
       " '0407020ADBFAJAI': 2.0,\n",
       " '0407020ADBGABAG': 2.0,\n",
       " '0407020ADBGACAK': 2.0,\n",
       " '0407020ADBHAAAC': 2.0,\n",
       " '0407020ADBHABAD': 2.0,\n",
       " '0407020ADBHACAE': 2.0,\n",
       " '0407020ADBIAAAG': 2.0,\n",
       " '0407020ADBIABAH': 2.0,\n",
       " '0407020ADBIACAK': 2.0,\n",
       " '0407020ADBIADAF': 2.0,\n",
       " '0407020ADBJAAAC': 2.0,\n",
       " '0407020ADBJABAD': 2.0,\n",
       " '0407020ADBJACAE': 2.0,\n",
       " '0407020ADBJADAL': 2.0,\n",
       " '0407020ADBJAEAM': 2.0,\n",
       " '0407020ADBJAFAN': 2.0,\n",
       " '0407020ADBJAGAA': 2.0,\n",
       " '0407020ADBJAHAB': 2.0,\n",
       " '0407020ADBKAAAK': 2.0,\n",
       " '0407020ADBKABAF': 2.0,\n",
       " '0407020ADBKACAG': 2.0,\n",
       " '0407020ADBKADAH': 2.0,\n",
       " '0407020ADBKAEAI': 2.0,\n",
       " '0407020ADBKAFAS': 2.0,\n",
       " '0407020ADBKAGAR': 2.0,\n",
       " '0407020ADBKAHAQ': 2.0,\n",
       " '0407020ADBLAAAK': 2.0,\n",
       " '0407020ADBLABAI': 2.0,\n",
       " '0407020ADBLACAR': 2.0,\n",
       " '0407020ADBLADAQ': 2.0,\n",
       " '0407020ADBLAEAH': 2.0,\n",
       " '0407020ADBLAFAF': 2.0,\n",
       " '0407020ADBLAGAS': 2.0,\n",
       " '0407020ADBLAHAG': 2.0,\n",
       " '0407020ADBMAAAK': 2.0,\n",
       " '0407020ADBMABAF': 2.0,\n",
       " '0407020ADBMACAS': 2.0,\n",
       " '0407020ADBMADAG': 2.0,\n",
       " '0407020ADBMAEAH': 2.0,\n",
       " '0407020ADBMAFAR': 2.0,\n",
       " '0407020ADBMAGAQ': 2.0,\n",
       " '0407020ADBMAHAI': 2.0,\n",
       " '0407020ADBNAAAI': 2.0,\n",
       " '0407020ADBNABAH': 2.0,\n",
       " '0407020ADBNACAK': 2.0,\n",
       " '0407020ADBNADAF': 2.0,\n",
       " '0407020ADBNAEAG': 2.0,\n",
       " '0407020ADBPAAAK': 2.0,\n",
       " '0407020ADBPABAF': 2.0,\n",
       " '0407020ADBPACAG': 2.0,\n",
       " '0407020ADBPADAR': 2.0,\n",
       " '0407020ADBPAEAH': 2.0,\n",
       " '0407020ADBPAFAQ': 2.0,\n",
       " '0407020ADBPAGAI': 2.0,\n",
       " '0407020ADBQAAAF': 2.0,\n",
       " '0407020ADBQABAG': 2.0,\n",
       " '0407020ADBQACAH': 2.0,\n",
       " '0407020ADBQADAI': 2.0,\n",
       " '0407020ADBRADAG': 2.0,\n",
       " '0407020ADBSAAAK': 2.0,\n",
       " '0407020ADBSABAF': 2.0,\n",
       " '0407020ADBSADAG': 2.0,\n",
       " '0407020ADBSAFAH': 2.0,\n",
       " '0407020ADBSAGAQ': 2.0,\n",
       " '0407020AFAAAAAA': 2.0,\n",
       " '0407020AFAAABAB': 2.0,\n",
       " '0407020AFAAACAC': 2.0,\n",
       " '0407020AFAAADAD': 2.0,\n",
       " '0407020AFAAAEAE': 2.0,\n",
       " '0407020AFBBAAAA': 2.0,\n",
       " '0407020AFBBABAB': 2.0,\n",
       " '0407020AFBBACAC': 2.0,\n",
       " '0407020AFBBADAD': 2.0,\n",
       " '0407020AGAAAAAA': 0.4,\n",
       " '0407020AGAAABAB': 0.4,\n",
       " '0407020AGAAACAC': 0.4,\n",
       " '0407020AGAAADAD': 0.4,\n",
       " '0407020AGAAAEAE': 0.4,\n",
       " '0407020AGAAAFAF': 0.4,\n",
       " '0407020AGAAAGAG': 0.4,\n",
       " '0407020AGAAAHAH': 0.4,\n",
       " '0407020AGBBAAAA': 0.4,\n",
       " '0407020AGBBABAB': 0.4,\n",
       " '0407020AGBBACAC': 0.4,\n",
       " '0407020AGBBADAD': 0.4,\n",
       " '0407020AGBBAEAE': 0.4,\n",
       " '0407020AGBBAFAF': 0.4,\n",
       " '0407020AGBBAGAG': 0.4,\n",
       " '0407020AGBBAHAH': 0.4,\n",
       " '0407020B0AAAAAA': 100.0,\n",
       " '0407020B0AAABAB': 60.0,\n",
       " '0407020B0AAADAD': 60.0,\n",
       " '0407020B0AAAEAE': 100.0,\n",
       " '0407020B0AAAFAF': 100.0,\n",
       " '0407020B0AAAGAG': 100.0,\n",
       " '0407020B0AAAHAH': 100.0,\n",
       " '0407020B0AAAIAI': 100.0,\n",
       " '0407020B0AAAJAJ': 100.0,\n",
       " '0407020B0AAAKAK': 100.0,\n",
       " '0407020B0BBAAAB': 60.0,\n",
       " '0407020B0BBABAA': 100.0,\n",
       " '0407020B0BBADAD': 60.0,\n",
       " '0407020B0BDAAAE': 100.0,\n",
       " '0407020B0BDABAF': 100.0,\n",
       " '0407020B0BDACAG': 100.0,\n",
       " '0407020B0BEAAAH': 100.0,\n",
       " '0407020B0BEABAI': 100.0,\n",
       " '0407020B0BEACAJ': 100.0,\n",
       " '0407020B0BEADAK': 100.0,\n",
       " '0407020B0BFAAAB': 60.0,\n",
       " '0407020B0BFABAD': 60.0,\n",
       " '0407020B0BGAAAE': 100.0,\n",
       " '0407020B0BGABAF': 100.0,\n",
       " '0407020B0BGACAG': 100.0,\n",
       " '0407020B0BHAAAH': 100.0,\n",
       " '0407020B0BHABAI': 100.0,\n",
       " '0407020B0BHACAJ': 100.0,\n",
       " '0407020B0BHADAK': 100.0,\n",
       " '0407020B0BIAAAE': 100.0,\n",
       " '0407020B0BIABAF': 100.0,\n",
       " '0407020B0BIACAG': 100.0,\n",
       " '0407020B0BJAAAE': 100.0,\n",
       " '0407020B0BJABAF': 100.0,\n",
       " '0407020B0BJACAG': 100.0,\n",
       " '0407020B0BKAAAH': 100.0,\n",
       " '0407020B0BKABAI': 100.0,\n",
       " '0407020B0BKACAK': 100.0,\n",
       " '0407020B0BKADAJ': 100.0,\n",
       " '0407020B0BLAAAH': 100.0,\n",
       " '0407020B0BLABAI': 100.0,\n",
       " '0407020B0BLACAJ': 100.0,\n",
       " '0407020B0BMAAAH': 100.0,\n",
       " '0407020B0BMABAI': 100.0,\n",
       " '0407020B0BMACAJ': 100.0,\n",
       " '0407020B0BNAAAE': 100.0,\n",
       " '0407020B0BNABAF': 100.0,\n",
       " '0407020B0BNACAG': 100.0,\n",
       " '0407020B0BPAAAE': 100.0,\n",
       " '0407020B0BPABAF': 100.0,\n",
       " '0407020B0BPACAG': 100.0,\n",
       " '0407020B0BQAAAH': 100.0,\n",
       " '0407020B0BQABAI': 100.0,\n",
       " '0407020B0BQACAJ': 100.0,\n",
       " '0407020B0BRAAAH': 100.0,\n",
       " '0407020B0BRABAI': 100.0,\n",
       " '0407020B0BRACAJ': 100.0,\n",
       " '0407020B0BSAAAE': 100.0,\n",
       " '0407020B0BSABAF': 100.0,\n",
       " '0407020B0BSACAG': 100.0,\n",
       " '0407020B0BTAAAE': 100.0,\n",
       " '0407020B0BTABAF': 100.0,\n",
       " '0407020B0BUAAAH': 100.0,\n",
       " '0407020B0BUABAI': 100.0,\n",
       " '0407020B0BUACAJ': 100.0,\n",
       " '0407020C0AAAAAA': 0.1,\n",
       " '0407020C0AAABAB': 0.1,\n",
       " '0407020C0AAADAD': 0.1,\n",
       " '0407020C0AAAEAE': 0.1,\n",
       " '0407020C0AAAFAF': 0.1,\n",
       " '0407020C0AAAGAG': 0.1,\n",
       " '0407020C0AAAHAH': 0.1,\n",
       " '0407020C0AAALAL': 0.1,\n",
       " '0407020C0AAAPAP': 0.1,\n",
       " '0407020C0AAAQAQ': 0.1,\n",
       " '0407020C0AAASAS': 0.1,\n",
       " '0407020C0AAAVAV': 0.1,\n",
       " '0407020C0AAAXAX': 0.1,\n",
       " '0407020C0AAAYAY': 0.1,\n",
       " '0407020C0AABABA': 0.1,\n",
       " '0407020C0BBAABA': 0.1,\n",
       " '0407020D0AAADAD': 4.0,\n",
       " '0407020D0BBAAAD': 4.0,\n",
       " '0407020E0AAAAAA': 0.1,\n",
       " '0407020G0AAAAAA': 0.1,\n",
       " '0407020G0AAABAB': 0.1,\n",
       " '0407020G0AAACAC': 0.1,\n",
       " '0407020G0AAADAD': 0.1,\n",
       " '0407020G0AAAEAE': 0.1,\n",
       " '0407020G0AAAFAF': 0.1,\n",
       " '0407020G0AAAIAI': 0.1,\n",
       " '0407020G0AAAMAM': 0.1,\n",
       " '0407020G0AAANAN': 0.1,\n",
       " '0407020G0AAAPAP': 0.1,\n",
       " '0407020G0AAARAR': 0.1,\n",
       " '0407020G0BBAAAD': 0.1,\n",
       " '0407020G0BBABAE': 0.1,\n",
       " '0407020G0BBACAF': 0.1,\n",
       " '0407020G0BCADAI': 0.1,\n",
       " '0407020H0AAABAB': 0.5,\n",
       " '0407020H0BBAAAB': 0.5,\n",
       " '0407020K0AAAAAA': 3.0,\n",
       " '0407020K0AAABAB': 3.0,\n",
       " '0407020K0AAACAC': 3.0,\n",
       " '0407020K0AAAEAE': 3.0,\n",
       " '0407020K0AAAFAF': 3.0,\n",
       " '0407020K0AAAGAG': 3.0,\n",
       " '0407020K0AABCBC': 1.0,\n",
       " '0407020K0AABFBF': 1.0,\n",
       " '0407020K0AABQBQ': 1.0,\n",
       " '0407020K0AACBCB': 1.0,\n",
       " '0407020K0AACGCG': 1.0,\n",
       " '0407020K0AACUCU': 1.0,\n",
       " '0407020K0AACZCZ': 1.0,\n",
       " '0407020K0AADCDC': 1.0,\n",
       " '0407020K0AADFDF': 1.0,\n",
       " '0407020K0AADGDG': 1.0,\n",
       " '0407020K0AADIDI': 1.0,\n",
       " '0407020K0AADJDJ': 1.0,\n",
       " '0407020K0AADKDK': 1.0,\n",
       " '0407020K0AADLDL': 1.0,\n",
       " '0407020K0AADVDV': 1.0,\n",
       " '0407020K0AADXDX': 1.0,\n",
       " '0407020K0AAEAEA': 1.0,\n",
       " '0407020K0AAEFEF': 3.0,\n",
       " '0407020K0AAEGEG': 3.0,\n",
       " '0407020K0AAEHEH': 3.0,\n",
       " '0407020K0AAEIEI': 3.0,\n",
       " '0407020K0AAEMEM': 3.0,\n",
       " '0407020K0AAEQEQ': 1.0,\n",
       " '0407020K0AAEUEU': 1.0,\n",
       " '0407020K0AAEVEV': 1.0,\n",
       " '0407020K0AAFEFE': 1.0,\n",
       " '0407020K0AAFFFF': 1.0,\n",
       " '0407020K0AAFNFN': 1.0,\n",
       " '0407020L0AAAAAA': 0.03,\n",
       " '0407020L0AAABAB': 0.03,\n",
       " '0407020L0BBAAAB': 0.03,\n",
       " '0407020L0BBABAA': 0.03,\n",
       " '0407020M0AAA3A3': 3.0,\n",
       " '0407020M0AAA6A6': 3.0,\n",
       " '0407020M0AAA8A8': 3.0,\n",
       " '0407020M0AAACAC': 3.0,\n",
       " '0407020M0AAAEAE': 3.0,\n",
       " '0407020M0AAAFAF': 3.0,\n",
       " '0407020M0AAAKAK': 3.0,\n",
       " '0407020M0AAANAN': 3.0,\n",
       " '0407020M0AAATAT': 3.0,\n",
       " '0407020M0AAAVAV': 3.0,\n",
       " '0407020M0AAAXAX': 3.0,\n",
       " '0407020M0AABHBH': 3.0,\n",
       " '0407020M0AABIBI': 3.0,\n",
       " '0407020M0AABKBK': 3.0,\n",
       " '0407020M0AABLBL': 3.0,\n",
       " '0407020M0AABMBM': 3.0,\n",
       " '0407020M0AABTBT': 3.0,\n",
       " '0407020M0AABUBU': 3.0,\n",
       " '0407020M0BBAAAE': 3.0,\n",
       " '0407020M0BBABAV': 3.0,\n",
       " '0407020M0BBACA3': 3.0,\n",
       " '0407020M0BBADAT': 3.0,\n",
       " '0407020M0BBAEAN': 3.0,\n",
       " '0407020M0BBAHA6': 3.0,\n",
       " '0407020M0BBAIAC': 3.0,\n",
       " '0407020M0BCAAAV': 3.0,\n",
       " '0407020M0BCABAC': 3.0,\n",
       " '0407020M0BCACA6': 3.0,\n",
       " '0407020P0AAACAC': 1.0,\n",
       " '0407020P0AAADAD': 1.0,\n",
       " '0407020P0AAAPAP': 1.0,\n",
       " '0407020P0AAAQAQ': 1.0,\n",
       " '0407020P0AAARAR': 1.0,\n",
       " '0407020P0AAASAS': 1.0,\n",
       " '0407020P0AAATAT': 1.0,\n",
       " '0407020P0AAAWAW': 1.0,\n",
       " '0407020P0AAAXAX': 1.0,\n",
       " '0407020P0AAAYAY': 1.0,\n",
       " '0407020P0AAAZAZ': 2.0,\n",
       " '0407020P0AABABA': 1.0,\n",
       " '0407020P0AABBBB': 2.0,\n",
       " '0407020P0AABCBC': 2.0,\n",
       " '0407020Q0AAA1A1': 2.0,\n",
       " '0407020Q0AAA2A2': 2.0,\n",
       " '0407020Q0AAA4A4': 2.0,\n",
       " '0407020Q0AAA5A5': 2.0,\n",
       " '0407020Q0AAA6A6': 1.0,\n",
       " '0407020Q0AAA8A8': 2.0,\n",
       " '0407020Q0AAA9A9': 2.0,\n",
       " '0407020Q0AAAAAA': 2.0,\n",
       " '0407020Q0AAABAB': 2.0,\n",
       " '0407020Q0AAACAC': 2.0,\n",
       " '0407020Q0AAADAD': 2.0,\n",
       " '0407020Q0AAAEAE': 2.0,\n",
       " '0407020Q0AAAFAF': 2.0,\n",
       " '0407020Q0AAAGAG': 1.0,\n",
       " '0407020Q0AAAHAH': 1.0,\n",
       " '0407020Q0AAAIAI': 1.0,\n",
       " '0407020Q0AAAKAK': 1.0,\n",
       " '0407020Q0AAALAL': 1.0,\n",
       " '0407020Q0AAAMAM': 2.0,\n",
       " '0407020Q0AAANAN': 1.0,\n",
       " '0407020Q0AABCBC': 2.0,\n",
       " '0407020Q0AABJBJ': 1.0,\n",
       " '0407020Q0AABLBL': 1.0,\n",
       " '0407020Q0AABMBM': 1.0,\n",
       " '0407020Q0AABNBN': 1.0,\n",
       " '0407020Q0AABPBP': 1.0,\n",
       " '0407020Q0AABVBV': 1.0,\n",
       " '0407020Q0AACDCD': 1.0,\n",
       " '0407020Q0AACECE': 1.0,\n",
       " '0407020Q0AACFCF': 1.0,\n",
       " '0407020Q0AACGCG': 1.0,\n",
       " '0407020Q0AACNCN': 1.0,\n",
       " '0407020Q0AACPCP': 1.0,\n",
       " '0407020Q0AACQCQ': 1.0,\n",
       " '0407020Q0AACRCR': 1.0,\n",
       " '0407020Q0AACSCS': 1.0,\n",
       " '0407020Q0AACUCU': 1.0,\n",
       " '0407020Q0AACVCV': 1.0,\n",
       " '0407020Q0AADCDC': 1.0,\n",
       " '0407020Q0AADDDD': 1.0,\n",
       " '0407020Q0AADEDE': 1.0,\n",
       " '0407020Q0AADIDI': 2.0,\n",
       " '0407020Q0AADKDK': 1.0,\n",
       " '0407020Q0AADNDN': 1.0,\n",
       " '0407020Q0AADRDR': 1.0,\n",
       " '0407020Q0AADUDU': 1.0,\n",
       " '0407020Q0AADVDV': 1.0,\n",
       " '0407020Q0AADWDW': 1.0,\n",
       " '0407020Q0AADYDY': 1.0,\n",
       " '0407020Q0AADZDZ': 1.0,\n",
       " '0407020Q0AAEBEB': 1.0,\n",
       " '0407020Q0AAEFEF': 1.0,\n",
       " '0407020Q0AAEGEG': 1.0,\n",
       " '0407020Q0AAEHEH': 1.0,\n",
       " '0407020Q0AAEIEI': 1.0,\n",
       " '0407020Q0AAELEL': 2.0,\n",
       " '0407020Q0AAENEN': 2.0,\n",
       " '0407020Q0AAERER': 1.0,\n",
       " '0407020Q0AAESES': 1.0,\n",
       " '0407020Q0AAFBFB': 1.0,\n",
       " '0407020Q0AAFCFC': 2.0,\n",
       " '0407020Q0AAFDFD': 1.0,\n",
       " '0407020Q0AAFFFF': 1.0,\n",
       " '0407020Q0AAFGFG': 1.0,\n",
       " '0407020Q0AAFJFJ': 2.0,\n",
       " '0407020Q0AAFKFK': 2.0,\n",
       " '0407020Q0AAFPFP': 1.0,\n",
       " '0407020Q0AAFQFQ': 1.0,\n",
       " '0407020Q0AAFSFS': 1.0,\n",
       " '0407020Q0AAFTFT': 1.0,\n",
       " '0407020Q0AAFUFU': 1.0,\n",
       " '0407020Q0AAFWFW': 2.0,\n",
       " '0407020Q0AAFXFX': 1.0,\n",
       " '0407020Q0AAFYFY': 1.0,\n",
       " '0407020Q0AAFZFZ': 2.0,\n",
       " '0407020Q0AAGAGA': 2.0,\n",
       " '0407020Q0AAGBGB': 1.0,\n",
       " '0407020Q0AAGDGD': 1.0,\n",
       " '0407020Q0BBAAAK': 1.0,\n",
       " '0407020Q0BBABAL': 1.0,\n",
       " '0407020Q0BBACAI': 1.0,\n",
       " '0407020Q0BBADAH': 1.0,\n",
       " '0407020Q0BBAEAG': 1.0,\n",
       " '0407020Q0BBAFCV': 1.0,\n",
       " '0407020Q0BBAGCP': 1.0,\n",
       " '0407020Q0BBAHDC': 1.0,\n",
       " '0407020Q0BBAIDD': 1.0,\n",
       " '0407020Q0BBAJDE': 1.0,\n",
       " '0407020Q0BBAKCG': 1.0,\n",
       " '0407020Q0BBALCF': 1.0,\n",
       " '0407020Q0BCABA6': 1.0,\n",
       " '0407020Q0BCAGCN': 1.0,\n",
       " '0407020Q0BCAHCS': 1.0,\n",
       " '0407020Q0BCAICT': 1.0,\n",
       " '0407020Q0BCAJCU': 1.0,\n",
       " '0407020Q0BEABFJ': 2.0,\n",
       " '0407020Q0BHACCD': 1.0,\n",
       " '0407020Q0BHADCE': 1.0,\n",
       " '0407020Q0BHAFDR': 1.0,\n",
       " '0407020Q0BHAGCN': 1.0,\n",
       " '0407020Q0BIAAEG': 1.0,\n",
       " '0407020Q0BIABEH': 1.0,\n",
       " '0407020Q0BIACDU': 1.0,\n",
       " '0407020Q0BIADDV': 1.0,\n",
       " '0407020Q0BIAEDW': 1.0,\n",
       " '0407020Q0BIAFEI': 1.0,\n",
       " '0407020Q0BJACEB': 1.0,\n",
       " '0407020Q0BKAAEF': 1.0,\n",
       " '0407020Q0BKABEG': 1.0,\n",
       " '0407020Q0BKACEH': 1.0,\n",
       " '0407020Q0BKADEB': 1.0,\n",
       " '0407020Q0BKAEEI': 1.0,\n",
       " '0407020Q0BMAAAK': 1.0,\n",
       " '0407020Q0BMABAL': 1.0,\n",
       " '0407020Q0BMACAI': 1.0,\n",
       " '0407020Q0BMADAH': 1.0,\n",
       " '0407020Q0BMAEAG': 1.0,\n",
       " '0407020Q0BNAAAK': 1.0,\n",
       " '0407020Q0BNABAL': 1.0,\n",
       " '0407020Q0BNACAI': 1.0,\n",
       " '0407020Q0BNADAH': 1.0,\n",
       " '0407020Q0BPAAAK': 1.0,\n",
       " '0407020T0AAAAAA': 0.37,\n",
       " '0407020T0AAABAB': 0.37,\n",
       " '0407020U0AAAAAA': 0.37,\n",
       " '0407020U0AAABAB': 0.37,\n",
       " '0407020V0AAAAAA': 0.24,\n",
       " '0407020V0AAACAC': 0.1,\n",
       " '0407020V0AAAEAE': 0.24,\n",
       " '0407020V0AAAIAI': 0.24,\n",
       " '0407020V0AAALAL': 0.24,\n",
       " '0407020V0AAAPAP': 0.24,\n",
       " '0407020V0AAARAR': 0.1,\n",
       " '0407020V0AAATAT': 0.1,\n",
       " '0407020V0AAAXAX': 0.24,\n",
       " '0407020V0AAAZAZ': 0.24,\n",
       " '0407020V0AABABA': 0.1,\n",
       " '0407020V0AABFBF': 0.1,\n",
       " '0407020V0BCAAAI': 0.24,\n",
       " '0407020W0AAAAAA': 1.0,\n",
       " '0407020Y0BBAAAA': 100.0,\n",
       " '0407020Z0AAAAAA': 2.0,\n",
       " '0407020Z0AAABAB': 2.0}"
      ]
     },
     "execution_count": 19,
     "metadata": {},
     "output_type": "execute_result"
    }
   ],
   "source": [
    "ome_map"
   ]
  },
  {
   "cell_type": "code",
   "execution_count": 24,
   "metadata": {
    "ExecuteTime": {
     "end_time": "2021-06-04T09:17:30.286085Z",
     "start_time": "2021-06-04T09:17:30.268342Z"
    },
    "collapsed": true
   },
   "outputs": [],
   "source": [
    "def func_ome(df,drugBNF,ome_map):\n",
    "    df['presc_ome'] = df['8'] *df['15']*ome_map[drugBNF]\n",
    "    return df\n",
    "\n",
    "def calculateOME(pdp,ome_map):\n",
    "    pdp['presc_ome'] = 0.0\n",
    "    return pdp.groupby('3',as_index=False).apply(lambda df: func_ome(df , df.name, ome_map ))"
   ]
  },
  {
   "cell_type": "code",
   "execution_count": null,
   "metadata": {
    "collapsed": true
   },
   "outputs": [],
   "source": []
  },
  {
   "cell_type": "code",
   "execution_count": 25,
   "metadata": {
    "ExecuteTime": {
     "end_time": "2021-06-04T09:17:31.612360Z",
     "start_time": "2021-06-04T09:17:31.607643Z"
    },
    "collapsed": true
   },
   "outputs": [],
   "source": [
    "# findDrugsForDisease(drug_association_graph,'sleeplessness',chem)"
   ]
  },
  {
   "cell_type": "code",
   "execution_count": 26,
   "metadata": {
    "ExecuteTime": {
     "end_time": "2021-06-04T09:17:33.326286Z",
     "start_time": "2021-06-04T09:17:33.287671Z"
    }
   },
   "outputs": [
    {
     "data": {
      "text/plain": [
       "{u'/categories/DBCAT000873': {'chemName': 'Daunorubicin',\n",
       "  'disease': 'antibiotics'},\n",
       " u'/categories/DBCAT002288': {'chemName': u'Cytotoxic Antibiotics and Related Substances',\n",
       "  'disease': 'antibiotics'},\n",
       " u'/categories/DBCAT002363': {'chemName': u'Antibiotics for Topical Use',\n",
       "  'disease': 'antibiotics'},\n",
       " u'/categories/DBCAT004732': {'chemName': 'Bleomycin',\n",
       "  'disease': 'antibiotics'},\n",
       " u'/categories/DBCAT004737': {'chemName': 'Mupirocin',\n",
       "  'disease': 'antibiotics'},\n",
       " '0501030F0': {'chemName': 'Demeclocycline Hydrochloride',\n",
       "  'disease': 'antibiotics'},\n",
       " '0501030V0': {'chemName': 'Tetracycline', 'disease': 'antibiotics'},\n",
       " '0501070X0': {'chemName': 'Rifaximin', 'disease': 'antibiotics'},\n",
       " '0501090C0': {'chemName': 'Capreomycin', 'disease': 'antibiotics'},\n",
       " '0501090E0': {'chemName': 'Cycloserine', 'disease': 'antibiotics'},\n",
       " '0501090Q0': {'chemName': 'Rifabutin', 'disease': 'antibiotics'},\n",
       " '0501090R0': {'chemName': 'Rifampicin', 'disease': 'antibiotics'},\n",
       " '0501090S0': {'chemName': 'Rifampicin Combined Preparations',\n",
       "  'disease': 'antibiotics'},\n",
       " '0801020D0': {'chemName': 'Dactinomycin', 'disease': 'antibiotics'},\n",
       " '0801020G0': {'chemName': 'Bleomycin', 'disease': 'antibiotics'},\n",
       " '0801020J0': {'chemName': 'Daunorubicin', 'disease': 'antibiotics'},\n",
       " '0801020K0': {'chemName': 'Doxorubicin Hydrochloride',\n",
       "  'disease': 'antibiotics'},\n",
       " '0801020N0': {'chemName': 'Epirubicin Hydrochloride',\n",
       "  'disease': 'antibiotics'},\n",
       " '0801020P0': {'chemName': 'Idarubicin Hydrochloride',\n",
       "  'disease': 'antibiotics'},\n",
       " '0801020Q0': {'chemName': 'Mitomycin', 'disease': 'antibiotics'},\n",
       " '0801020R0': {'chemName': 'Mitoxantrone', 'disease': 'antibiotics'},\n",
       " '0801060A0': {'chemName': 'Daunorubicin/Cytarabine',\n",
       "  'disease': 'antibiotics'},\n",
       " '0802010M0': {'chemName': 'Mycophenolate Mofetil', 'disease': 'antibiotics'},\n",
       " '0802020U0': {'chemName': 'Sirolimus', 'disease': 'antibiotics'},\n",
       " '1104020AC': {'chemName': 'Epinastine Hydrochloride',\n",
       "  'disease': 'antiallergic'},\n",
       " '1104020M0': {'chemName': 'Lodoxamide Trometamol', 'disease': 'antiallergic'},\n",
       " '1104020P0': {'chemName': 'Levocabastine', 'disease': 'antiallergic'},\n",
       " '1104020R0': {'chemName': 'Naphazoline Hydrochloride',\n",
       "  'disease': 'antiallergic'},\n",
       " '1104020X0': {'chemName': 'Emedastine', 'disease': 'antiallergic'},\n",
       " '1104020Y0': {'chemName': 'Ketotifen Fumarate', 'disease': 'antiallergic'},\n",
       " '1104020Z0': {'chemName': 'Olopatadine', 'disease': 'antiallergic'},\n",
       " '1105000T0': {'chemName': 'Phenylephrine HCl & Tropicamide',\n",
       "  'disease': 'antiallergic'},\n",
       " '1201010R0': {'chemName': 'Gentamicin Sulphate', 'disease': 'antibiotics'},\n",
       " '1202010A0': {'chemName': 'Azelastine Hydrochloride',\n",
       "  'disease': 'antiallergic'},\n",
       " '1202010K0': {'chemName': 'Levocabastine', 'disease': 'antiallergic'},\n",
       " '1202010N0': {'chemName': 'Neomycin Sulfate', 'disease': 'antibiotics'},\n",
       " '1202010P0': {'chemName': 'Sodium Cromoglicate', 'disease': 'antiallergic'},\n",
       " '1202010Q0': {'chemName': 'Nedocromil Sodium', 'disease': 'antiallergic'},\n",
       " '1202020G0': {'chemName': 'Oxymetazoline Hydrochloride',\n",
       "  'disease': 'antiallergic'},\n",
       " '1202020H0': {'chemName': 'Naphazoline Nitrate', 'disease': 'antiallergic'},\n",
       " '1202020P0': {'chemName': 'Xylometazoline Hydrochloride',\n",
       "  'disease': 'antiallergic'},\n",
       " '1310011AA': {'chemName': 'Retapamulin', 'disease': 'antibiotics'},\n",
       " '1310011M0': {'chemName': 'Mupirocin', 'disease': 'antibiotics'},\n",
       " '1310011Z0': {'chemName': 'Tyrothricin', 'disease': 'antibiotics'},\n",
       " '1310012F0': {'chemName': 'Fusidic Acid', 'disease': 'antibiotics'},\n",
       " '1310012I0': {'chemName': 'Gentamicin Sulfate', 'disease': 'antibiotics'},\n",
       " '1310012P0': {'chemName': 'Tetracycline Hydrochloride',\n",
       "  'disease': 'antibiotics'}}"
      ]
     },
     "execution_count": 26,
     "metadata": {},
     "output_type": "execute_result"
    }
   ],
   "source": [
    "DiseaseDrugs"
   ]
  },
  {
   "cell_type": "code",
   "execution_count": 27,
   "metadata": {
    "ExecuteTime": {
     "end_time": "2021-06-04T09:17:57.299227Z",
     "start_time": "2021-06-04T09:17:57.288992Z"
    },
    "collapsed": true
   },
   "outputs": [],
   "source": [
    "disease_drug_map = {}\n",
    "for k in DiseaseDrugs:\n",
    "    if DiseaseDrugs[k]['disease'] not in disease_drug_map:\n",
    "        disease_drug_map[DiseaseDrugs[k]['disease']] = []\n",
    "    disease_drug_map[DiseaseDrugs[k]['disease']].append(k)"
   ]
  },
  {
   "cell_type": "code",
   "execution_count": 28,
   "metadata": {
    "ExecuteTime": {
     "end_time": "2021-06-04T09:18:45.627144Z",
     "start_time": "2021-06-04T09:18:45.584299Z"
    },
    "collapsed": true
   },
   "outputs": [],
   "source": [
    "drug_map_dict = {'BNF_code':[], 'Drug_name':[] , 'Mapped_Condition': []}\n",
    "for k in DiseaseDrugs:\n",
    "    drug_map_dict['BNF_code'].append(k)\n",
    "    drug_map_dict['Drug_name'].append(DiseaseDrugs[k]['chemName'])\n",
    "    drug_map_dict['Mapped_Condition'].append(DiseaseDrugs[k]['disease'])\n",
    "drug_map_df = pd.DataFrame.from_dict(drug_map_dict)    \n",
    "drug_map_df.to_csv('data_prep/Drugs_categories.csv',index=False)"
   ]
  },
  {
   "cell_type": "code",
   "execution_count": 29,
   "metadata": {
    "ExecuteTime": {
     "end_time": "2021-06-04T09:18:47.734702Z",
     "start_time": "2021-06-04T09:18:47.723730Z"
    }
   },
   "outputs": [
    {
     "data": {
      "text/plain": [
       "['antibiotics', 'antiallergic']"
      ]
     },
     "execution_count": 29,
     "metadata": {},
     "output_type": "execute_result"
    }
   ],
   "source": [
    "disease_drug_map.keys()"
   ]
  },
  {
   "cell_type": "code",
   "execution_count": 30,
   "metadata": {
    "ExecuteTime": {
     "end_time": "2021-06-04T09:18:54.316735Z",
     "start_time": "2021-06-04T09:18:52.465578Z"
    },
    "collapsed": true
   },
   "outputs": [],
   "source": [
    "LSOA_dist = json.load(open('../mappings/GP_LSOA_PATIENTSDIST.json','rb'))"
   ]
  },
  {
   "cell_type": "code",
   "execution_count": 31,
   "metadata": {
    "ExecuteTime": {
     "end_time": "2021-06-04T09:18:59.405524Z",
     "start_time": "2021-06-04T09:18:57.244381Z"
    },
    "collapsed": true
   },
   "outputs": [],
   "source": [
    "LSOA_dist_2021 = json.load(open('mappings/GP_LSOA_PATIENTSDIST_2021.json','rb'))"
   ]
  },
  {
   "cell_type": "code",
   "execution_count": 32,
   "metadata": {
    "ExecuteTime": {
     "end_time": "2021-06-04T09:19:05.467992Z",
     "start_time": "2021-06-04T09:19:05.456999Z"
    }
   },
   "outputs": [
    {
     "data": {
      "text/plain": [
       "0.11856400566839868"
      ]
     },
     "execution_count": 32,
     "metadata": {},
     "output_type": "execute_result"
    }
   ],
   "source": [
    "LSOA_dist['A81001']['E01033477']"
   ]
  },
  {
   "cell_type": "code",
   "execution_count": 33,
   "metadata": {
    "ExecuteTime": {
     "end_time": "2021-06-04T09:19:12.180379Z",
     "start_time": "2021-06-04T09:19:12.174411Z"
    }
   },
   "outputs": [
    {
     "data": {
      "text/plain": [
       "0.1600780868716447"
      ]
     },
     "execution_count": 33,
     "metadata": {},
     "output_type": "execute_result"
    }
   ],
   "source": [
    "LSOA_dist_2021['A81001']['E01033477']"
   ]
  },
  {
   "cell_type": "code",
   "execution_count": 34,
   "metadata": {
    "ExecuteTime": {
     "end_time": "2021-06-04T09:19:18.127017Z",
     "start_time": "2021-06-04T09:19:18.123246Z"
    },
    "collapsed": true
   },
   "outputs": [],
   "source": [
    "# LSOA_dist_new = pd.read_csv('mappings/gp-reg-pat-prac-lsoa-all.csv')"
   ]
  },
  {
   "cell_type": "code",
   "execution_count": 35,
   "metadata": {
    "ExecuteTime": {
     "end_time": "2021-06-04T09:19:24.170629Z",
     "start_time": "2021-06-04T09:19:24.158984Z"
    },
    "collapsed": true
   },
   "outputs": [],
   "source": [
    "# LSOA_dist_new.head()"
   ]
  },
  {
   "cell_type": "code",
   "execution_count": 36,
   "metadata": {
    "ExecuteTime": {
     "end_time": "2021-06-04T09:19:30.195163Z",
     "start_time": "2021-06-04T09:19:30.189518Z"
    },
    "collapsed": true
   },
   "outputs": [],
   "source": [
    "# LSOA_dist_2021 = {}\n",
    "# for name , group in LSOA_dist_new.groupby('PRACTICE_CODE'):\n",
    "#     LSOA_dist_2021[name] = {}\n",
    "#     total = sum(group['Number of Patients'])\n",
    "#     for index , row in group.iterrows():\n",
    "#         LSOA_dist_2021[name][row['LSOA_CODE']] = float(row['Number of Patients'])/float(total)\n",
    "    \n",
    "        "
   ]
  },
  {
   "cell_type": "code",
   "execution_count": 37,
   "metadata": {
    "ExecuteTime": {
     "end_time": "2021-06-04T09:19:36.167988Z",
     "start_time": "2021-06-04T09:19:36.163149Z"
    },
    "collapsed": true
   },
   "outputs": [],
   "source": [
    "# json.dump(LSOA_dist_2021 , open('mappings/GP_LSOA_PATIENTSDIST_2021.json','w'))"
   ]
  },
  {
   "cell_type": "code",
   "execution_count": 18,
   "metadata": {
    "ExecuteTime": {
     "end_time": "2021-06-01T14:13:15.946060Z",
     "start_time": "2021-06-01T14:13:15.860724Z"
    },
    "collapsed": true
   },
   "outputs": [],
   "source": [
    "# taxonomyDict%store -r taxonomyDict"
   ]
  },
  {
   "cell_type": "code",
   "execution_count": 19,
   "metadata": {
    "ExecuteTime": {
     "end_time": "2021-06-01T14:13:16.001033Z",
     "start_time": "2021-06-01T14:13:15.949040Z"
    },
    "collapsed": true
   },
   "outputs": [],
   "source": [
    "# json.dump(taxonomyDict, open('mappings/taxomomy_dict.json','w'))"
   ]
  },
  {
   "cell_type": "code",
   "execution_count": 38,
   "metadata": {
    "ExecuteTime": {
     "end_time": "2021-06-04T09:21:00.259530Z",
     "start_time": "2021-06-04T09:21:00.249868Z"
    },
    "collapsed": true
   },
   "outputs": [],
   "source": [
    "# %storcityMape -r cityMap"
   ]
  },
  {
   "cell_type": "code",
   "execution_count": 39,
   "metadata": {
    "ExecuteTime": {
     "end_time": "2021-06-04T09:21:06.227146Z",
     "start_time": "2021-06-04T09:21:06.222313Z"
    },
    "collapsed": true
   },
   "outputs": [],
   "source": [
    "# json.dump(cityMap, open('mappings/City_map_dict.json','w'))"
   ]
  },
  {
   "cell_type": "code",
   "execution_count": 40,
   "metadata": {
    "ExecuteTime": {
     "end_time": "2021-06-04T09:21:12.517100Z",
     "start_time": "2021-06-04T09:21:12.288687Z"
    }
   },
   "outputs": [
    {
     "name": "stderr",
     "output_type": "stream",
     "text": [
      "/home/sagar/anaconda3/envs/env_py2/lib/python2.7/site-packages/IPython/core/interactiveshell.py:2714: DtypeWarning: Columns (23,24,25,26,27,28,29,30,31,32,33,34,35) have mixed types. Specify dtype option on import or set low_memory=False.\n",
      "  interactivity=interactivity, compiler=compiler, result=result)\n"
     ]
    }
   ],
   "source": [
    "ward_pop = pd.read_csv('mappings/ward_pop.csv')"
   ]
  },
  {
   "cell_type": "code",
   "execution_count": 41,
   "metadata": {
    "ExecuteTime": {
     "end_time": "2021-06-04T09:21:21.219597Z",
     "start_time": "2021-06-04T09:21:18.533093Z"
    },
    "collapsed": true
   },
   "outputs": [],
   "source": [
    "population = {}\n",
    "for index, row in ward_pop.iterrows():\n",
    "    population[row['Ward Code 1']] = float(row['All Ages'].replace(',',''))"
   ]
  },
  {
   "cell_type": "code",
   "execution_count": 42,
   "metadata": {
    "ExecuteTime": {
     "end_time": "2021-06-04T09:21:27.334574Z",
     "start_time": "2021-06-04T09:21:27.246117Z"
    },
    "collapsed": true
   },
   "outputs": [],
   "source": [
    "df_city = pd.read_csv('../mappings/lower_layer_super_output_area_2011_to_major_towns_and_cities_december_2015_lookup_in_england_and_wales.csv')"
   ]
  },
  {
   "cell_type": "code",
   "execution_count": 43,
   "metadata": {
    "ExecuteTime": {
     "end_time": "2021-06-04T09:21:33.372909Z",
     "start_time": "2021-06-04T09:21:33.345586Z"
    }
   },
   "outputs": [
    {
     "data": {
      "text/html": [
       "<div>\n",
       "<style scoped>\n",
       "    .dataframe tbody tr th:only-of-type {\n",
       "        vertical-align: middle;\n",
       "    }\n",
       "\n",
       "    .dataframe tbody tr th {\n",
       "        vertical-align: top;\n",
       "    }\n",
       "\n",
       "    .dataframe thead th {\n",
       "        text-align: right;\n",
       "    }\n",
       "</style>\n",
       "<table border=\"1\" class=\"dataframe\">\n",
       "  <thead>\n",
       "    <tr style=\"text-align: right;\">\n",
       "      <th></th>\n",
       "      <th>LSOA11CD</th>\n",
       "      <th>LSOA11NM</th>\n",
       "      <th>TCITY15CD</th>\n",
       "      <th>TCITY15NM</th>\n",
       "      <th>FID</th>\n",
       "    </tr>\n",
       "  </thead>\n",
       "  <tbody>\n",
       "    <tr>\n",
       "      <th>0</th>\n",
       "      <td>E01002351</td>\n",
       "      <td>Havering 016C</td>\n",
       "      <td>J01000055</td>\n",
       "      <td>London</td>\n",
       "      <td>2001</td>\n",
       "    </tr>\n",
       "    <tr>\n",
       "      <th>1</th>\n",
       "      <td>E01002352</td>\n",
       "      <td>Havering 016D</td>\n",
       "      <td>J01000055</td>\n",
       "      <td>London</td>\n",
       "      <td>2002</td>\n",
       "    </tr>\n",
       "    <tr>\n",
       "      <th>2</th>\n",
       "      <td>E01002100</td>\n",
       "      <td>Haringey 008B</td>\n",
       "      <td>J01000055</td>\n",
       "      <td>London</td>\n",
       "      <td>2003</td>\n",
       "    </tr>\n",
       "    <tr>\n",
       "      <th>3</th>\n",
       "      <td>E01002301</td>\n",
       "      <td>Havering 003A</td>\n",
       "      <td>J01000055</td>\n",
       "      <td>London</td>\n",
       "      <td>2004</td>\n",
       "    </tr>\n",
       "    <tr>\n",
       "      <th>4</th>\n",
       "      <td>E01002353</td>\n",
       "      <td>Havering 013B</td>\n",
       "      <td>J01000055</td>\n",
       "      <td>London</td>\n",
       "      <td>2005</td>\n",
       "    </tr>\n",
       "  </tbody>\n",
       "</table>\n",
       "</div>"
      ],
      "text/plain": [
       "    LSOA11CD       LSOA11NM  TCITY15CD TCITY15NM   FID\n",
       "0  E01002351  Havering 016C  J01000055    London  2001\n",
       "1  E01002352  Havering 016D  J01000055    London  2002\n",
       "2  E01002100  Haringey 008B  J01000055    London  2003\n",
       "3  E01002301  Havering 003A  J01000055    London  2004\n",
       "4  E01002353  Havering 013B  J01000055    London  2005"
      ]
     },
     "execution_count": 43,
     "metadata": {},
     "output_type": "execute_result"
    }
   ],
   "source": [
    "df_city.head()"
   ]
  },
  {
   "cell_type": "code",
   "execution_count": 44,
   "metadata": {
    "ExecuteTime": {
     "end_time": "2021-06-04T09:21:39.424600Z",
     "start_time": "2021-06-04T09:21:39.342933Z"
    },
    "collapsed": true
   },
   "outputs": [],
   "source": [
    "cityMap = {}\n",
    "for name , group in df_city.groupby('TCITY15NM'):\n",
    "        cityMap[name] = list(group['LSOA11CD'])"
   ]
  },
  {
   "cell_type": "code",
   "execution_count": 45,
   "metadata": {
    "ExecuteTime": {
     "end_time": "2021-06-04T09:21:45.539610Z",
     "start_time": "2021-06-04T09:21:45.450327Z"
    },
    "collapsed": true
   },
   "outputs": [],
   "source": [
    "LSOA_survey_takers = json.load(open('../mappings/LSOA_suvery_pop.json'))"
   ]
  },
  {
   "cell_type": "code",
   "execution_count": 46,
   "metadata": {
    "ExecuteTime": {
     "end_time": "2021-06-04T09:21:51.677157Z",
     "start_time": "2021-06-04T09:21:51.667158Z"
    },
    "collapsed": true
   },
   "outputs": [],
   "source": [
    "disease_drugs = json.load(open(\"../mappings/Disease_Drug_DrugBank.json\",'rb'))"
   ]
  },
  {
   "cell_type": "code",
   "execution_count": 47,
   "metadata": {
    "ExecuteTime": {
     "end_time": "2021-06-04T09:21:58.217790Z",
     "start_time": "2021-06-04T09:21:57.811070Z"
    },
    "collapsed": true
   },
   "outputs": [],
   "source": [
    "drugbank_dict = json.load(open('../mappings/Drugbank_drugs_data.json','rb'))"
   ]
  },
  {
   "cell_type": "code",
   "execution_count": 48,
   "metadata": {
    "ExecuteTime": {
     "end_time": "2021-06-04T09:28:24.092987Z",
     "start_time": "2021-06-04T09:28:24.085720Z"
    },
    "collapsed": true
   },
   "outputs": [],
   "source": [
    "# cityMap"
   ]
  },
  {
   "cell_type": "code",
   "execution_count": 49,
   "metadata": {
    "ExecuteTime": {
     "end_time": "2021-06-04T09:28:31.067338Z",
     "start_time": "2021-06-04T09:28:30.452365Z"
    },
    "collapsed": true
   },
   "outputs": [],
   "source": [
    "IMD_df = pd.read_csv('../../BL_Work/File_7_ID_2015_All_ranks__deciles_and_scores_for_the_Indices_of_Deprivation__and_population_denominators.csv')"
   ]
  },
  {
   "cell_type": "code",
   "execution_count": 50,
   "metadata": {
    "ExecuteTime": {
     "end_time": "2021-06-04T09:28:37.852252Z",
     "start_time": "2021-06-04T09:28:37.755688Z"
    }
   },
   "outputs": [
    {
     "data": {
      "text/html": [
       "<div>\n",
       "<style scoped>\n",
       "    .dataframe tbody tr th:only-of-type {\n",
       "        vertical-align: middle;\n",
       "    }\n",
       "\n",
       "    .dataframe tbody tr th {\n",
       "        vertical-align: top;\n",
       "    }\n",
       "\n",
       "    .dataframe thead th {\n",
       "        text-align: right;\n",
       "    }\n",
       "</style>\n",
       "<table border=\"1\" class=\"dataframe\">\n",
       "  <thead>\n",
       "    <tr style=\"text-align: right;\">\n",
       "      <th></th>\n",
       "      <th>LSOA code (2011)</th>\n",
       "      <th>LSOA name (2011)</th>\n",
       "      <th>Local Authority District code (2013)</th>\n",
       "      <th>Local Authority District name (2013)</th>\n",
       "      <th>Index of Multiple Deprivation (IMD) Score</th>\n",
       "      <th>Index of Multiple Deprivation (IMD) Rank (where 1 is most deprived)</th>\n",
       "      <th>Index of Multiple Deprivation (IMD) Decile (where 1 is most deprived 10% of LSOAs)</th>\n",
       "      <th>Income Score (rate)</th>\n",
       "      <th>Income Rank (where 1 is most deprived)</th>\n",
       "      <th>Income Decile (where 1 is most deprived 10% of LSOAs)</th>\n",
       "      <th>...</th>\n",
       "      <th>Indoors Sub-domain Rank (where 1 is most deprived)</th>\n",
       "      <th>Indoors Sub-domain Decile (where 1 is most deprived 10% of LSOAs)</th>\n",
       "      <th>Outdoors Sub-domain Score</th>\n",
       "      <th>Outdoors Sub-domain Rank (where 1 is most deprived)</th>\n",
       "      <th>Outdoors Sub-domain Decile (where 1 is most deprived 10% of LSOAs)</th>\n",
       "      <th>Total population: mid 2012 (excluding prisoners)</th>\n",
       "      <th>Dependent Children aged 0-15: mid 2012 (excluding prisoners)</th>\n",
       "      <th>Population aged 16-59: mid 2012 (excluding prisoners)</th>\n",
       "      <th>Older population aged 60 and over: mid 2012 (excluding prisoners)</th>\n",
       "      <th>Working age population 18-59/64: for use with Employment Deprivation Domain (excluding prisoners)</th>\n",
       "    </tr>\n",
       "  </thead>\n",
       "  <tbody>\n",
       "    <tr>\n",
       "      <th>0</th>\n",
       "      <td>E01031349</td>\n",
       "      <td>Adur 001A</td>\n",
       "      <td>E07000223</td>\n",
       "      <td>Adur</td>\n",
       "      <td>12.389</td>\n",
       "      <td>21352</td>\n",
       "      <td>7</td>\n",
       "      <td>0.096</td>\n",
       "      <td>18992</td>\n",
       "      <td>6</td>\n",
       "      <td>...</td>\n",
       "      <td>20379</td>\n",
       "      <td>7</td>\n",
       "      <td>0.312</td>\n",
       "      <td>11318</td>\n",
       "      <td>4</td>\n",
       "      <td>1318</td>\n",
       "      <td>206</td>\n",
       "      <td>694</td>\n",
       "      <td>418</td>\n",
       "      <td>702.75</td>\n",
       "    </tr>\n",
       "    <tr>\n",
       "      <th>1</th>\n",
       "      <td>E01031350</td>\n",
       "      <td>Adur 001B</td>\n",
       "      <td>E07000223</td>\n",
       "      <td>Adur</td>\n",
       "      <td>28.619</td>\n",
       "      <td>8864</td>\n",
       "      <td>3</td>\n",
       "      <td>0.187</td>\n",
       "      <td>9233</td>\n",
       "      <td>3</td>\n",
       "      <td>...</td>\n",
       "      <td>16285</td>\n",
       "      <td>5</td>\n",
       "      <td>0.234</td>\n",
       "      <td>12445</td>\n",
       "      <td>4</td>\n",
       "      <td>1212</td>\n",
       "      <td>232</td>\n",
       "      <td>712</td>\n",
       "      <td>268</td>\n",
       "      <td>720.75</td>\n",
       "    </tr>\n",
       "    <tr>\n",
       "      <th>2</th>\n",
       "      <td>E01031351</td>\n",
       "      <td>Adur 001C</td>\n",
       "      <td>E07000223</td>\n",
       "      <td>Adur</td>\n",
       "      <td>11.713</td>\n",
       "      <td>22143</td>\n",
       "      <td>7</td>\n",
       "      <td>0.065</td>\n",
       "      <td>24539</td>\n",
       "      <td>8</td>\n",
       "      <td>...</td>\n",
       "      <td>25054</td>\n",
       "      <td>8</td>\n",
       "      <td>0.208</td>\n",
       "      <td>12820</td>\n",
       "      <td>4</td>\n",
       "      <td>1577</td>\n",
       "      <td>290</td>\n",
       "      <td>829</td>\n",
       "      <td>458</td>\n",
       "      <td>838.25</td>\n",
       "    </tr>\n",
       "    <tr>\n",
       "      <th>3</th>\n",
       "      <td>E01031352</td>\n",
       "      <td>Adur 001D</td>\n",
       "      <td>E07000223</td>\n",
       "      <td>Adur</td>\n",
       "      <td>16.446</td>\n",
       "      <td>17252</td>\n",
       "      <td>6</td>\n",
       "      <td>0.117</td>\n",
       "      <td>16087</td>\n",
       "      <td>5</td>\n",
       "      <td>...</td>\n",
       "      <td>24455</td>\n",
       "      <td>8</td>\n",
       "      <td>0.109</td>\n",
       "      <td>14350</td>\n",
       "      <td>5</td>\n",
       "      <td>1453</td>\n",
       "      <td>233</td>\n",
       "      <td>739</td>\n",
       "      <td>481</td>\n",
       "      <td>748.25</td>\n",
       "    </tr>\n",
       "    <tr>\n",
       "      <th>4</th>\n",
       "      <td>E01031370</td>\n",
       "      <td>Adur 001E</td>\n",
       "      <td>E07000223</td>\n",
       "      <td>Adur</td>\n",
       "      <td>18.265</td>\n",
       "      <td>15643</td>\n",
       "      <td>5</td>\n",
       "      <td>0.102</td>\n",
       "      <td>17918</td>\n",
       "      <td>6</td>\n",
       "      <td>...</td>\n",
       "      <td>20214</td>\n",
       "      <td>7</td>\n",
       "      <td>0.321</td>\n",
       "      <td>11202</td>\n",
       "      <td>4</td>\n",
       "      <td>1443</td>\n",
       "      <td>306</td>\n",
       "      <td>799</td>\n",
       "      <td>338</td>\n",
       "      <td>795.50</td>\n",
       "    </tr>\n",
       "  </tbody>\n",
       "</table>\n",
       "<p>5 rows × 57 columns</p>\n",
       "</div>"
      ],
      "text/plain": [
       "  LSOA code (2011) LSOA name (2011) Local Authority District code (2013)  \\\n",
       "0        E01031349        Adur 001A                            E07000223   \n",
       "1        E01031350        Adur 001B                            E07000223   \n",
       "2        E01031351        Adur 001C                            E07000223   \n",
       "3        E01031352        Adur 001D                            E07000223   \n",
       "4        E01031370        Adur 001E                            E07000223   \n",
       "\n",
       "  Local Authority District name (2013)  \\\n",
       "0                                 Adur   \n",
       "1                                 Adur   \n",
       "2                                 Adur   \n",
       "3                                 Adur   \n",
       "4                                 Adur   \n",
       "\n",
       "   Index of Multiple Deprivation (IMD) Score  \\\n",
       "0                                     12.389   \n",
       "1                                     28.619   \n",
       "2                                     11.713   \n",
       "3                                     16.446   \n",
       "4                                     18.265   \n",
       "\n",
       "   Index of Multiple Deprivation (IMD) Rank (where 1 is most deprived)  \\\n",
       "0                                              21352                     \n",
       "1                                               8864                     \n",
       "2                                              22143                     \n",
       "3                                              17252                     \n",
       "4                                              15643                     \n",
       "\n",
       "   Index of Multiple Deprivation (IMD) Decile (where 1 is most deprived 10% of LSOAs)  \\\n",
       "0                                                  7                                    \n",
       "1                                                  3                                    \n",
       "2                                                  7                                    \n",
       "3                                                  6                                    \n",
       "4                                                  5                                    \n",
       "\n",
       "   Income Score (rate)  Income Rank (where 1 is most deprived)  \\\n",
       "0                0.096                                   18992   \n",
       "1                0.187                                    9233   \n",
       "2                0.065                                   24539   \n",
       "3                0.117                                   16087   \n",
       "4                0.102                                   17918   \n",
       "\n",
       "   Income Decile (where 1 is most deprived 10% of LSOAs)  ...  \\\n",
       "0                                                  6      ...   \n",
       "1                                                  3      ...   \n",
       "2                                                  8      ...   \n",
       "3                                                  5      ...   \n",
       "4                                                  6      ...   \n",
       "\n",
       "   Indoors Sub-domain Rank (where 1 is most deprived)  \\\n",
       "0                                              20379    \n",
       "1                                              16285    \n",
       "2                                              25054    \n",
       "3                                              24455    \n",
       "4                                              20214    \n",
       "\n",
       "   Indoors Sub-domain Decile (where 1 is most deprived 10% of LSOAs)  \\\n",
       "0                                                  7                   \n",
       "1                                                  5                   \n",
       "2                                                  8                   \n",
       "3                                                  8                   \n",
       "4                                                  7                   \n",
       "\n",
       "   Outdoors Sub-domain Score  \\\n",
       "0                      0.312   \n",
       "1                      0.234   \n",
       "2                      0.208   \n",
       "3                      0.109   \n",
       "4                      0.321   \n",
       "\n",
       "   Outdoors Sub-domain Rank (where 1 is most deprived)  \\\n",
       "0                                              11318     \n",
       "1                                              12445     \n",
       "2                                              12820     \n",
       "3                                              14350     \n",
       "4                                              11202     \n",
       "\n",
       "   Outdoors Sub-domain Decile (where 1 is most deprived 10% of LSOAs)  \\\n",
       "0                                                  4                    \n",
       "1                                                  4                    \n",
       "2                                                  4                    \n",
       "3                                                  5                    \n",
       "4                                                  4                    \n",
       "\n",
       "   Total population: mid 2012 (excluding prisoners)  \\\n",
       "0                                              1318   \n",
       "1                                              1212   \n",
       "2                                              1577   \n",
       "3                                              1453   \n",
       "4                                              1443   \n",
       "\n",
       "   Dependent Children aged 0-15: mid 2012 (excluding prisoners)  \\\n",
       "0                                                206              \n",
       "1                                                232              \n",
       "2                                                290              \n",
       "3                                                233              \n",
       "4                                                306              \n",
       "\n",
       "   Population aged 16-59: mid 2012 (excluding prisoners)  \\\n",
       "0                                                694       \n",
       "1                                                712       \n",
       "2                                                829       \n",
       "3                                                739       \n",
       "4                                                799       \n",
       "\n",
       "   Older population aged 60 and over: mid 2012 (excluding prisoners)  \\\n",
       "0                                                418                   \n",
       "1                                                268                   \n",
       "2                                                458                   \n",
       "3                                                481                   \n",
       "4                                                338                   \n",
       "\n",
       "   Working age population 18-59/64: for use with Employment Deprivation Domain (excluding prisoners)   \n",
       "0                                             702.75                                                   \n",
       "1                                             720.75                                                   \n",
       "2                                             838.25                                                   \n",
       "3                                             748.25                                                   \n",
       "4                                             795.50                                                   \n",
       "\n",
       "[5 rows x 57 columns]"
      ]
     },
     "execution_count": 50,
     "metadata": {},
     "output_type": "execute_result"
    }
   ],
   "source": [
    "IMD_df.head()"
   ]
  },
  {
   "cell_type": "code",
   "execution_count": 51,
   "metadata": {
    "ExecuteTime": {
     "end_time": "2021-06-04T09:28:55.217477Z",
     "start_time": "2021-06-04T09:28:44.367607Z"
    },
    "collapsed": true
   },
   "outputs": [],
   "source": [
    "LSOA_pop = {}\n",
    "LSOA_IMD = {}\n",
    "for index, row in IMD_df.iterrows():\n",
    "    LSOA_pop[row['LSOA code (2011)']] = row['Total population: mid 2012 (excluding prisoners)']\n",
    "    LSOA_IMD[row['LSOA code (2011)']] = row['Index of Multiple Deprivation (IMD) Score']"
   ]
  },
  {
   "cell_type": "code",
   "execution_count": 52,
   "metadata": {
    "ExecuteTime": {
     "end_time": "2021-06-04T09:29:01.977163Z",
     "start_time": "2021-06-04T09:29:01.967469Z"
    }
   },
   "outputs": [
    {
     "data": {
      "text/plain": [
       "32844"
      ]
     },
     "execution_count": 52,
     "metadata": {},
     "output_type": "execute_result"
    }
   ],
   "source": [
    "len(LSOA_pop.keys())"
   ]
  },
  {
   "cell_type": "code",
   "execution_count": 53,
   "metadata": {
    "ExecuteTime": {
     "end_time": "2021-06-04T09:29:08.869965Z",
     "start_time": "2021-06-04T09:29:08.717092Z"
    }
   },
   "outputs": [
    {
     "name": "stdout",
     "output_type": "stream",
     "text": [
      "('could not find LSOA', 'W01001912')\n",
      "('could not find LSOA', 'W01001913')\n",
      "('could not find LSOA', 'W01001600')\n",
      "('could not find LSOA', 'W01001651')\n",
      "('could not find LSOA', 'W01001601')\n",
      "('could not find LSOA', 'W01001652')\n",
      "('could not find LSOA', 'W01001602')\n",
      "('could not find LSOA', 'W01001653')\n",
      "('could not find LSOA', 'W01001654')\n",
      "('could not find LSOA', 'W01001603')\n",
      "('could not find LSOA', 'W01001604')\n",
      "('could not find LSOA', 'W01001655')\n",
      "('could not find LSOA', 'W01001605')\n",
      "('could not find LSOA', 'W01001606')\n",
      "('could not find LSOA', 'W01001607')\n",
      "('could not find LSOA', 'W01001659')\n",
      "('could not find LSOA', 'W01001608')\n",
      "('could not find LSOA', 'W01001660')\n",
      "('could not find LSOA', 'W01001609')\n",
      "('could not find LSOA', 'W01001661')\n",
      "('could not find LSOA', 'W01001610')\n",
      "('could not find LSOA', 'W01001662')\n",
      "('could not find LSOA', 'W01001611')\n",
      "('could not find LSOA', 'W01001663')\n",
      "('could not find LSOA', 'W01001612')\n",
      "('could not find LSOA', 'W01001664')\n",
      "('could not find LSOA', 'W01001613')\n",
      "('could not find LSOA', 'W01001614')\n",
      "('could not find LSOA', 'W01001615')\n",
      "('could not find LSOA', 'W01001616')\n",
      "('could not find LSOA', 'W01001617')\n",
      "('could not find LSOA', 'W01001618')\n",
      "('could not find LSOA', 'W01001619')\n",
      "('could not find LSOA', 'W01001620')\n",
      "('could not find LSOA', 'W01001621')\n",
      "('could not find LSOA', 'W01001622')\n",
      "('could not find LSOA', 'W01001629')\n",
      "('could not find LSOA', 'W01001630')\n",
      "('could not find LSOA', 'W01001631')\n",
      "('could not find LSOA', 'W01001632')\n",
      "('could not find LSOA', 'W01001633')\n",
      "('could not find LSOA', 'W01001634')\n",
      "('could not find LSOA', 'W01001635')\n",
      "('could not find LSOA', 'W01001636')\n",
      "('could not find LSOA', 'W01001637')\n",
      "('could not find LSOA', 'W01001638')\n",
      "('could not find LSOA', 'W01001639')\n",
      "('could not find LSOA', 'W01001641')\n",
      "('could not find LSOA', 'W01001642')\n",
      "('could not find LSOA', 'W01001643')\n",
      "('could not find LSOA', 'W01001644')\n",
      "('could not find LSOA', 'W01001645')\n",
      "('could not find LSOA', 'W01001646')\n",
      "('could not find LSOA', 'W01001647')\n",
      "('could not find LSOA', 'W01001648')\n",
      "('could not find LSOA', 'W01001665')\n",
      "('could not find LSOA', 'W01001666')\n",
      "('could not find LSOA', 'W01001667')\n",
      "('could not find LSOA', 'W01001668')\n",
      "('could not find LSOA', 'W01001669')\n",
      "('could not find LSOA', 'W01001670')\n",
      "('could not find LSOA', 'W01001671')\n",
      "('could not find LSOA', 'W01001672')\n",
      "('could not find LSOA', 'W01001673')\n",
      "('could not find LSOA', 'W01001674')\n",
      "('could not find LSOA', 'W01001675')\n",
      "('could not find LSOA', 'W01001676')\n",
      "('could not find LSOA', 'W01001677')\n",
      "('could not find LSOA', 'W01001678')\n",
      "('could not find LSOA', 'W01001679')\n",
      "('could not find LSOA', 'W01001680')\n",
      "('could not find LSOA', 'W01001681')\n",
      "('could not find LSOA', 'W01001682')\n",
      "('could not find LSOA', 'W01001683')\n",
      "('could not find LSOA', 'W01001684')\n",
      "('could not find LSOA', 'W01001685')\n",
      "('could not find LSOA', 'W01001686')\n",
      "('could not find LSOA', 'W01001687')\n",
      "('could not find LSOA', 'W01001688')\n",
      "('could not find LSOA', 'W01001689')\n",
      "('could not find LSOA', 'W01001690')\n",
      "('could not find LSOA', 'W01001691')\n",
      "('could not find LSOA', 'W01001692')\n",
      "('could not find LSOA', 'W01001693')\n",
      "('could not find LSOA', 'W01000329')\n",
      "('could not find LSOA', 'W01000330')\n",
      "('could not find LSOA', 'W01000331')\n",
      "('could not find LSOA', 'W01001938')\n",
      "('could not find LSOA', 'W01001955')\n",
      "('could not find LSOA', 'W01001956')\n",
      "('could not find LSOA', 'W01001957')\n",
      "('could not find LSOA', 'W01001958')\n",
      "('could not find LSOA', 'W01000738')\n",
      "('could not find LSOA', 'W01000739')\n",
      "('could not find LSOA', 'W01000740')\n",
      "('could not find LSOA', 'W01000741')\n",
      "('could not find LSOA', 'W01000742')\n",
      "('could not find LSOA', 'W01000744')\n",
      "('could not find LSOA', 'W01000745')\n",
      "('could not find LSOA', 'W01000746')\n",
      "('could not find LSOA', 'W01000747')\n",
      "('could not find LSOA', 'W01000749')\n",
      "('could not find LSOA', 'W01000750')\n",
      "('could not find LSOA', 'W01000751')\n",
      "('could not find LSOA', 'W01000752')\n",
      "('could not find LSOA', 'W01000753')\n",
      "('could not find LSOA', 'W01000754')\n",
      "('could not find LSOA', 'W01000755')\n",
      "('could not find LSOA', 'W01000757')\n",
      "('could not find LSOA', 'W01000758')\n",
      "('could not find LSOA', 'W01000760')\n",
      "('could not find LSOA', 'W01000761')\n",
      "('could not find LSOA', 'W01000762')\n",
      "('could not find LSOA', 'W01000763')\n",
      "('could not find LSOA', 'W01000764')\n",
      "('could not find LSOA', 'W01000765')\n",
      "('could not find LSOA', 'W01000766')\n",
      "('could not find LSOA', 'W01000767')\n",
      "('could not find LSOA', 'W01000768')\n",
      "('could not find LSOA', 'W01000769')\n",
      "('could not find LSOA', 'W01000770')\n",
      "('could not find LSOA', 'W01000781')\n",
      "('could not find LSOA', 'W01000782')\n",
      "('could not find LSOA', 'W01000787')\n",
      "('could not find LSOA', 'W01000788')\n",
      "('could not find LSOA', 'W01000789')\n",
      "('could not find LSOA', 'W01000790')\n",
      "('could not find LSOA', 'W01000791')\n",
      "('could not find LSOA', 'W01000794')\n",
      "('could not find LSOA', 'W01000795')\n",
      "('could not find LSOA', 'W01000796')\n",
      "('could not find LSOA', 'W01000797')\n",
      "('could not find LSOA', 'W01000798')\n",
      "('could not find LSOA', 'W01000799')\n",
      "('could not find LSOA', 'W01000849')\n",
      "('could not find LSOA', 'W01000801')\n",
      "('could not find LSOA', 'W01000804')\n",
      "('could not find LSOA', 'W01000805')\n",
      "('could not find LSOA', 'W01000806')\n",
      "('could not find LSOA', 'W01000807')\n",
      "('could not find LSOA', 'W01000808')\n",
      "('could not find LSOA', 'W01000809')\n",
      "('could not find LSOA', 'W01000810')\n",
      "('could not find LSOA', 'W01000811')\n",
      "('could not find LSOA', 'W01000812')\n",
      "('could not find LSOA', 'W01000813')\n",
      "('could not find LSOA', 'W01000814')\n",
      "('could not find LSOA', 'W01000815')\n",
      "('could not find LSOA', 'W01000816')\n",
      "('could not find LSOA', 'W01000817')\n",
      "('could not find LSOA', 'W01000818')\n",
      "('could not find LSOA', 'W01000819')\n",
      "('could not find LSOA', 'W01000820')\n",
      "('could not find LSOA', 'W01000821')\n",
      "('could not find LSOA', 'W01000822')\n",
      "('could not find LSOA', 'W01000823')\n",
      "('could not find LSOA', 'W01000824')\n",
      "('could not find LSOA', 'W01000825')\n",
      "('could not find LSOA', 'W01000826')\n",
      "('could not find LSOA', 'W01000827')\n",
      "('could not find LSOA', 'W01000830')\n",
      "('could not find LSOA', 'W01000831')\n",
      "('could not find LSOA', 'W01000832')\n",
      "('could not find LSOA', 'W01000833')\n",
      "('could not find LSOA', 'W01000834')\n",
      "('could not find LSOA', 'W01000835')\n",
      "('could not find LSOA', 'W01000836')\n",
      "('could not find LSOA', 'W01000850')\n",
      "('could not find LSOA', 'W01000851')\n",
      "('could not find LSOA', 'W01000852')\n",
      "('could not find LSOA', 'W01000853')\n",
      "('could not find LSOA', 'W01000854')\n",
      "('could not find LSOA', 'W01000855')\n",
      "('could not find LSOA', 'W01000856')\n",
      "('could not find LSOA', 'W01000857')\n",
      "('could not find LSOA', 'W01000858')\n",
      "('could not find LSOA', 'W01000859')\n",
      "('could not find LSOA', 'W01000860')\n",
      "('could not find LSOA', 'W01000861')\n",
      "('could not find LSOA', 'W01000862')\n",
      "('could not find LSOA', 'W01000863')\n",
      "('could not find LSOA', 'W01000864')\n",
      "('could not find LSOA', 'W01000865')\n",
      "('could not find LSOA', 'W01000866')\n",
      "('could not find LSOA', 'W01000867')\n",
      "('could not find LSOA', 'W01000868')\n",
      "('could not find LSOA', 'W01000869')\n",
      "('could not find LSOA', 'W01000870')\n",
      "('could not find LSOA', 'W01000871')\n",
      "('could not find LSOA', 'W01000872')\n",
      "('could not find LSOA', 'W01000873')\n",
      "('could not find LSOA', 'W01000874')\n",
      "('could not find LSOA', 'W01000875')\n",
      "('could not find LSOA', 'W01000876')\n",
      "('could not find LSOA', 'W01000879')\n",
      "('could not find LSOA', 'W01000880')\n",
      "('could not find LSOA', 'W01000881')\n",
      "('could not find LSOA', 'W01000882')\n",
      "('could not find LSOA', 'W01001861')\n",
      "('could not find LSOA', 'W01001809')\n",
      "('could not find LSOA', 'W01001862')\n",
      "('could not find LSOA', 'W01001863')\n",
      "('could not find LSOA', 'W01001864')\n",
      "('could not find LSOA', 'W01001810')\n",
      "('could not find LSOA', 'W01001865')\n",
      "('could not find LSOA', 'W01001811')\n",
      "('could not find LSOA', 'W01001866')\n",
      "('could not find LSOA', 'W01001812')\n",
      "('could not find LSOA', 'W01001867')\n",
      "('could not find LSOA', 'W01001813')\n",
      "('could not find LSOA', 'W01001704')\n",
      "('could not find LSOA', 'W01001868')\n",
      "('could not find LSOA', 'W01001814')\n",
      "('could not find LSOA', 'W01001705')\n",
      "('could not find LSOA', 'W01001756')\n",
      "('could not find LSOA', 'W01001869')\n",
      "('could not find LSOA', 'W01001815')\n",
      "('could not find LSOA', 'W01001706')\n",
      "('could not find LSOA', 'W01001757')\n",
      "('could not find LSOA', 'W01001870')\n",
      "('could not find LSOA', 'W01001816')\n",
      "('could not find LSOA', 'W01001707')\n",
      "('could not find LSOA', 'W01001758')\n",
      "('could not find LSOA', 'W01001871')\n",
      "('could not find LSOA', 'W01001759')\n",
      "('could not find LSOA', 'W01001817')\n",
      "('could not find LSOA', 'W01001872')\n",
      "('could not find LSOA', 'W01001708')\n",
      "('could not find LSOA', 'W01001818')\n",
      "('could not find LSOA', 'W01001709')\n",
      "('could not find LSOA', 'W01001873')\n",
      "('could not find LSOA', 'W01001760')\n",
      "('could not find LSOA', 'W01001710')\n",
      "('could not find LSOA', 'W01001922')\n",
      "('could not find LSOA', 'W01001874')\n",
      "('could not find LSOA', 'W01001761')\n",
      "('could not find LSOA', 'W01001711')\n",
      "('could not find LSOA', 'W01001875')\n",
      "('could not find LSOA', 'W01001762')\n",
      "('could not find LSOA', 'W01001821')\n",
      "('could not find LSOA', 'W01001712')\n",
      "('could not find LSOA', 'W01001876')\n",
      "('could not find LSOA', 'W01001764')\n",
      "('could not find LSOA', 'W01001822')\n",
      "('could not find LSOA', 'W01001713')\n",
      "('could not find LSOA', 'W01001877')\n",
      "('could not find LSOA', 'W01001765')\n",
      "('could not find LSOA', 'W01001823')\n",
      "('could not find LSOA', 'W01001714')\n",
      "('could not find LSOA', 'W01001878')\n",
      "('could not find LSOA', 'W01001766')\n",
      "('could not find LSOA', 'W01001824')\n",
      "('could not find LSOA', 'W01001715')\n",
      "('could not find LSOA', 'W01001879')\n",
      "('could not find LSOA', 'W01001767')\n",
      "('could not find LSOA', 'W01001825')\n",
      "('could not find LSOA', 'W01001716')\n",
      "('could not find LSOA', 'W01001880')\n",
      "('could not find LSOA', 'W01001768')\n",
      "('could not find LSOA', 'W01001826')\n",
      "('could not find LSOA', 'W01001717')\n",
      "('could not find LSOA', 'W01001881')\n",
      "('could not find LSOA', 'W01001769')\n",
      "('could not find LSOA', 'W01001827')\n",
      "('could not find LSOA', 'W01001718')\n",
      "('could not find LSOA', 'W01001882')\n",
      "('could not find LSOA', 'W01001883')\n",
      "('could not find LSOA', 'W01001719')\n",
      "('could not find LSOA', 'W01001884')\n",
      "('could not find LSOA', 'W01001720')\n",
      "('could not find LSOA', 'W01001885')\n",
      "('could not find LSOA', 'W01001721')\n",
      "('could not find LSOA', 'W01001886')\n",
      "('could not find LSOA', 'W01001770')\n",
      "('could not find LSOA', 'W01001722')\n",
      "('could not find LSOA', 'W01001887')\n",
      "('could not find LSOA', 'W01001771')\n",
      "('could not find LSOA', 'W01001724')\n",
      "('could not find LSOA', 'W01001888')\n",
      "('could not find LSOA', 'W01001772')\n",
      "('could not find LSOA', 'W01001725')\n",
      "('could not find LSOA', 'W01001889')\n",
      "('could not find LSOA', 'W01001773')\n",
      "('could not find LSOA', 'W01001726')\n",
      "('could not find LSOA', 'W01001890')\n",
      "('could not find LSOA', 'W01001774')\n",
      "('could not find LSOA', 'W01001828')\n",
      "('could not find LSOA', 'W01001891')\n",
      "('could not find LSOA', 'W01001775')\n",
      "('could not find LSOA', 'W01001939')\n",
      "('could not find LSOA', 'W01001829')\n",
      "('could not find LSOA', 'W01001892')\n",
      "('could not find LSOA', 'W01001730')\n",
      "('could not find LSOA', 'W01001776')\n",
      "('could not find LSOA', 'W01001830')\n",
      "('could not find LSOA', 'W01001940')\n",
      "('could not find LSOA', 'W01001731')\n",
      "('could not find LSOA', 'W01001777')\n",
      "('could not find LSOA', 'W01001831')\n",
      "('could not find LSOA', 'W01001941')\n",
      "('could not find LSOA', 'W01001894')\n",
      "('could not find LSOA', 'W01001732')\n",
      "('could not find LSOA', 'W01001778')\n",
      "('could not find LSOA', 'W01001832')\n",
      "('could not find LSOA', 'W01001942')\n",
      "('could not find LSOA', 'W01001895')\n",
      "('could not find LSOA', 'W01001733')\n",
      "('could not find LSOA', 'W01001779')\n",
      "('could not find LSOA', 'W01001833')\n",
      "('could not find LSOA', 'W01001943')\n",
      "('could not find LSOA', 'W01001896')\n",
      "('could not find LSOA', 'W01001734')\n",
      "('could not find LSOA', 'W01001780')\n",
      "('could not find LSOA', 'W01001834')\n",
      "('could not find LSOA', 'W01001944')\n",
      "('could not find LSOA', 'W01001735')\n",
      "('could not find LSOA', 'W01001781')\n",
      "('could not find LSOA', 'W01001835')\n",
      "('could not find LSOA', 'W01001736')\n",
      "('could not find LSOA', 'W01001782')\n",
      "('could not find LSOA', 'W01001836')\n",
      "('could not find LSOA', 'W01001946')\n",
      "('could not find LSOA', 'W01001737')\n",
      "('could not find LSOA', 'W01001783')\n",
      "('could not find LSOA', 'W01001837')\n",
      "('could not find LSOA', 'W01001947')\n",
      "('could not find LSOA', 'W01001738')\n",
      "('could not find LSOA', 'W01001784')\n",
      "('could not find LSOA', 'W01001838')\n",
      "('could not find LSOA', 'W01001948')\n",
      "('could not find LSOA', 'W01001739')\n",
      "('could not find LSOA', 'W01001785')\n",
      "('could not find LSOA', 'W01001839')\n",
      "('could not find LSOA', 'W01001949')\n",
      "('could not find LSOA', 'W01001740')\n",
      "('could not find LSOA', 'W01001786')\n",
      "('could not find LSOA', 'W01001840')\n",
      "('could not find LSOA', 'W01001950')\n",
      "('could not find LSOA', 'W01001741')\n",
      "('could not find LSOA', 'W01001787')\n",
      "('could not find LSOA', 'W01001788')\n",
      "('could not find LSOA', 'W01001789')\n",
      "('could not find LSOA', 'W01001790')\n",
      "('could not find LSOA', 'W01001791')\n",
      "('could not find LSOA', 'W01001792')\n",
      "('could not find LSOA', 'W01001793')\n",
      "('could not find LSOA', 'W01001794')\n",
      "('could not find LSOA', 'W01001795')\n",
      "('could not find LSOA', 'W01001796')\n",
      "('could not find LSOA', 'W01001797')\n",
      "('could not find LSOA', 'W01001798')\n",
      "('could not find LSOA', 'W01001799')\n",
      "('could not find LSOA', 'W01001800')\n",
      "('could not find LSOA', 'W01001802')\n",
      "('could not find LSOA', 'W01001803')\n",
      "('could not find LSOA', 'W01001804')\n",
      "('could not find LSOA', 'W01001805')\n",
      "('could not find LSOA', 'W01001806')\n",
      "('could not find LSOA', 'W01001807')\n",
      "('could not find LSOA', 'W01001808')\n",
      "('could not find LSOA', 'W01001841')\n",
      "('could not find LSOA', 'W01001742')\n",
      "('could not find LSOA', 'W01001842')\n",
      "('could not find LSOA', 'W01001743')\n",
      "('could not find LSOA', 'W01001843')\n",
      "('could not find LSOA', 'W01001951')\n",
      "('could not find LSOA', 'W01001744')\n",
      "('could not find LSOA', 'W01001844')\n",
      "('could not find LSOA', 'W01001952')\n",
      "('could not find LSOA', 'W01001745')\n",
      "('could not find LSOA', 'W01001846')\n",
      "('could not find LSOA', 'W01001953')\n",
      "('could not find LSOA', 'W01001746')\n",
      "('could not find LSOA', 'W01001847')\n",
      "('could not find LSOA', 'W01001954')\n",
      "('could not find LSOA', 'W01001747')\n",
      "('could not find LSOA', 'W01001848')\n",
      "('could not find LSOA', 'W01001748')\n",
      "('could not find LSOA', 'W01001849')\n",
      "('could not find LSOA', 'W01001749')\n",
      "('could not find LSOA', 'W01001850')\n",
      "('could not find LSOA', 'W01001750')\n",
      "('could not find LSOA', 'W01001851')\n",
      "('could not find LSOA', 'W01001751')\n",
      "('could not find LSOA', 'W01001852')\n",
      "('could not find LSOA', 'W01001694')\n",
      "('could not find LSOA', 'W01001853')\n",
      "('could not find LSOA', 'W01001752')\n",
      "('could not find LSOA', 'W01001695')\n",
      "('could not find LSOA', 'W01001854')\n",
      "('could not find LSOA', 'W01001753')\n",
      "('could not find LSOA', 'W01001696')\n",
      "('could not find LSOA', 'W01001855')\n",
      "('could not find LSOA', 'W01001754')\n",
      "('could not find LSOA', 'W01001697')\n",
      "('could not find LSOA', 'W01001856')\n",
      "('could not find LSOA', 'W01001755')\n",
      "('could not find LSOA', 'W01001698')\n",
      "('could not find LSOA', 'W01001699')\n",
      "('could not find LSOA', 'W01001702')\n",
      "('could not find LSOA', 'W01001703')\n",
      "('could not find LSOA', 'W01001857')\n",
      "('could not find LSOA', 'W01001858')\n",
      "('could not find LSOA', 'W01001859')\n",
      "('could not find LSOA', 'W01001860')\n"
     ]
    }
   ],
   "source": [
    "cityPop = {}\n",
    "city_IMD = {}\n",
    "city_survey_pop = {}\n",
    "for k in cityMap:\n",
    "    pop = 0\n",
    "    surveypop = 0\n",
    "    IMD = []\n",
    "    for j in cityMap[k]:\n",
    "        try:\n",
    "            pop += LSOA_pop[j]\n",
    "            surveypop += LSOA_survey_takers[j]\n",
    "            IMD.append(LSOA_IMD[j])\n",
    "        except:\n",
    "            print(\"could not find LSOA\",j)\n",
    "    city_IMD[k] = {}\n",
    "    if pop > 0:\n",
    "        cityPop[k] = pop\n",
    "        city_survey_pop[k] = surveypop\n",
    "        city_IMD[k]['median_IMD'] = np.median(IMD)\n",
    "        city_IMD[k]['mean_IMD'] = np.mean(IMD)"
   ]
  },
  {
   "cell_type": "code",
   "execution_count": 54,
   "metadata": {
    "ExecuteTime": {
     "end_time": "2021-06-04T09:29:18.480336Z",
     "start_time": "2021-06-04T09:29:15.467458Z"
    }
   },
   "outputs": [
    {
     "name": "stderr",
     "output_type": "stream",
     "text": [
      "100%|██████████| 6623/6623 [00:01<00:00, 3876.14it/s]\n"
     ]
    }
   ],
   "source": [
    "LSOA_patient_pop = {}\n",
    "LSOA_patients_map = json.load(open('data_prep/GPs.json','r'))\n",
    "for GP in tqdm(LSOA_patients_map):\n",
    "    for lsoa in LSOA_patients_map[GP]['Patient_registry_LSOA']:\n",
    "        if lsoa not in LSOA_patient_pop:\n",
    "            LSOA_patient_pop[lsoa] = LSOA_patients_map[GP]['Patient_registry_LSOA'][lsoa]\n",
    "        else:\n",
    "            LSOA_patient_pop[lsoa] += LSOA_patients_map[GP]['Patient_registry_LSOA'][lsoa]"
   ]
  },
  {
   "cell_type": "code",
   "execution_count": 56,
   "metadata": {
    "ExecuteTime": {
     "end_time": "2021-06-04T09:48:05.264596Z",
     "start_time": "2021-06-04T09:48:05.257150Z"
    }
   },
   "outputs": [
    {
     "data": {
      "text/plain": [
       "60744002.0"
      ]
     },
     "execution_count": 56,
     "metadata": {},
     "output_type": "execute_result"
    }
   ],
   "source": [
    "sum(LSOA_patient_pop.values())"
   ]
  },
  {
   "cell_type": "code",
   "execution_count": 57,
   "metadata": {
    "ExecuteTime": {
     "end_time": "2021-06-04T09:48:13.335314Z",
     "start_time": "2021-06-04T09:48:13.319329Z"
    },
    "collapsed": true
   },
   "outputs": [],
   "source": [
    "import logging\n",
    "logger = logging.getLogger()\n",
    "fhandler = logging.FileHandler(filename='dataPrep_postcovid.log', mode='a')\n",
    "formatter = logging.Formatter('%(asctime)s - %(name)s - %(levelname)s - %(message)s')\n",
    "fhandler.setFormatter(formatter)\n",
    "logger.addHandler(fhandler)\n",
    "logger.setLevel(logging.INFO)"
   ]
  },
  {
   "cell_type": "code",
   "execution_count": 59,
   "metadata": {
    "ExecuteTime": {
     "end_time": "2021-06-04T09:52:46.727176Z",
     "start_time": "2021-06-04T09:52:46.494858Z"
    },
    "collapsed": true
   },
   "outputs": [],
   "source": [
    "def calculateTemporalMetrics_LSOA(all_presc , old = True):\n",
    "    LSOA_dosage = {}\n",
    "    LSOA_costs = {}\n",
    "    LSOA_patient_count = {}\n",
    "    fail = 0.0\n",
    "    LSOA_map = {}\n",
    "    if old:\n",
    "        dosageField = '8'\n",
    "        costField = '19'\n",
    "        practiceField = '2'\n",
    "        LSOA_map = LSOA_dist_2021\n",
    "    else:\n",
    "        dosageField = 'TOTAL_QUANTITY'\n",
    "        costField = '19'\n",
    "        practiceField = 'PRACTICE_CODE'\n",
    "        LSOA_map = LSOA_dist_2021\n",
    "\n",
    "    for name, group in all_presc.groupby(practiceField):\n",
    "        total_dosage = np.sum(group[dosageField])\n",
    "        total_cost = np.sum(group[costField])\n",
    "        if name in LSOA_map:        \n",
    "            for k in LSOA_map[name]:\n",
    "                if k not in LSOA_dosage:\n",
    "                    LSOA_dosage[k] = 0.0\n",
    "                    LSOA_costs[k] = 0.0\n",
    "                LSOA_dosage[k]+= float(total_dosage)*float(LSOA_map[name][k])\n",
    "                LSOA_costs[k]+= float(total_cost)*float(LSOA_map[name][k])\n",
    "                \n",
    "#     for lsoa in LSOA_dosage:\n",
    "#         LSOA_dosage[lsoa] = (LSOA_dosage[lsoa]/LSOA_patient_pop[lsoa]) * 1000\n",
    "#         LSOA_costs[lsoa] = (LSOA_costs[lsoa]/LSOA_patient_pop[lsoa]) * 1000\n",
    "    \n",
    "    return  LSOA_dosage , LSOA_costs\n",
    "\n",
    "def calculateTemporalMetrics_LSOA_opioids(all_presc , old = True):\n",
    "    LSOA_dosage = {}\n",
    "    LSOA_costs = {}\n",
    "    LSOA_patient_count = {}\n",
    "    fail = 0.0\n",
    "    LSOA_map = {}\n",
    "    if old:\n",
    "        dosageField = '8'\n",
    "        costField = 'presc_ome'\n",
    "        practiceField = '2'\n",
    "        LSOA_map = LSOA_dist_2021\n",
    "    else:\n",
    "        dosageField = 'TOTAL_QUANTITY'\n",
    "        costField = 'presc_ome'\n",
    "        practiceField = 'PRACTICE_CODE'\n",
    "        LSOA_map = LSOA_dist_2021\n",
    "\n",
    "    for name, group in all_presc.groupby(practiceField):\n",
    "        total_dosage = np.sum(group[dosageField])\n",
    "        total_cost = np.sum(group[costField])\n",
    "        if name in LSOA_map:        \n",
    "            for k in LSOA_map[name]:\n",
    "                if k not in LSOA_dosage:\n",
    "                    LSOA_dosage[k] = 0.0\n",
    "                    LSOA_costs[k] = 0.0\n",
    "                LSOA_dosage[k]+= float(total_dosage)*float(LSOA_map[name][k])\n",
    "                LSOA_costs[k]+= float(total_cost)*float(LSOA_map[name][k])\n",
    "                \n",
    "#     for lsoa in LSOA_dosage:\n",
    "#         LSOA_dosage[lsoa] = (LSOA_dosage[lsoa]/LSOA_patient_pop[lsoa]) * 1000\n",
    "#         LSOA_costs[lsoa] = (LSOA_costs[lsoa]/LSOA_patient_pop[lsoa]) * 1000\n",
    "    \n",
    "    return  LSOA_dosage , LSOA_costs"
   ]
  },
  {
   "cell_type": "code",
   "execution_count": null,
   "metadata": {
    "ExecuteTime": {
     "end_time": "2021-06-01T14:13:27.433146Z",
     "start_time": "2021-06-01T14:13:27.348014Z"
    },
    "collapsed": true
   },
   "outputs": [],
   "source": []
  },
  {
   "cell_type": "code",
   "execution_count": 60,
   "metadata": {
    "ExecuteTime": {
     "end_time": "2021-06-04T09:52:55.015501Z",
     "start_time": "2021-06-04T09:52:55.010119Z"
    },
    "collapsed": true
   },
   "outputs": [],
   "source": [
    "# monthly_borough_dosage = {}\n",
    "# monthly_borough_costs = {}\n",
    "\n",
    "monthly_borough_dosage_new = {}\n",
    "monthly_borough_costs_new = {}"
   ]
  },
  {
   "cell_type": "code",
   "execution_count": 61,
   "metadata": {
    "ExecuteTime": {
     "end_time": "2021-06-04T09:53:03.043099Z",
     "start_time": "2021-06-04T09:53:03.030478Z"
    },
    "collapsed": true
   },
   "outputs": [],
   "source": [
    "files.sort()"
   ]
  },
  {
   "cell_type": "code",
   "execution_count": 62,
   "metadata": {
    "ExecuteTime": {
     "end_time": "2021-06-04T09:53:11.005794Z",
     "start_time": "2021-06-04T09:53:10.993098Z"
    }
   },
   "outputs": [
    {
     "data": {
      "text/plain": [
       "['../../BL_Work/openPrescribe/serialized/201501.gz',\n",
       " '../../BL_Work/openPrescribe/serialized/201502.gz',\n",
       " '../../BL_Work/openPrescribe/serialized/201503.gz',\n",
       " '../../BL_Work/openPrescribe/serialized/201504.gz',\n",
       " '../../BL_Work/openPrescribe/serialized/201505.gz',\n",
       " '../../BL_Work/openPrescribe/serialized/201506.gz',\n",
       " '../../BL_Work/openPrescribe/serialized/201507.gz',\n",
       " '../../BL_Work/openPrescribe/serialized/201508.gz',\n",
       " '../../BL_Work/openPrescribe/serialized/201509.gz',\n",
       " '../../BL_Work/openPrescribe/serialized/201510.gz',\n",
       " '../../BL_Work/openPrescribe/serialized/201511.gz',\n",
       " '../../BL_Work/openPrescribe/serialized/201512.gz',\n",
       " '../../BL_Work/openPrescribe/serialized/201601.gz',\n",
       " '../../BL_Work/openPrescribe/serialized/201602.gz',\n",
       " '../../BL_Work/openPrescribe/serialized/201603.gz',\n",
       " '../../BL_Work/openPrescribe/serialized/201604.gz',\n",
       " '../../BL_Work/openPrescribe/serialized/201605.gz',\n",
       " '../../BL_Work/openPrescribe/serialized/201606.gz',\n",
       " '../../BL_Work/openPrescribe/serialized/201607.gz',\n",
       " '../../BL_Work/openPrescribe/serialized/201608.gz',\n",
       " '../../BL_Work/openPrescribe/serialized/201609.gz',\n",
       " '../../BL_Work/openPrescribe/serialized/201610.gz',\n",
       " '../../BL_Work/openPrescribe/serialized/201611.gz',\n",
       " '../../BL_Work/openPrescribe/serialized/201612.gz',\n",
       " '../../BL_Work/openPrescribe/serialized/201701.gz',\n",
       " '../../BL_Work/openPrescribe/serialized/201702.gz',\n",
       " '../../BL_Work/openPrescribe/serialized/201703.gz',\n",
       " '../../BL_Work/openPrescribe/serialized/201704.gz',\n",
       " '../../BL_Work/openPrescribe/serialized/201705.gz',\n",
       " '../../BL_Work/openPrescribe/serialized/201706.gz',\n",
       " '../../BL_Work/openPrescribe/serialized/201707.gz',\n",
       " '../../BL_Work/openPrescribe/serialized/201708.gz',\n",
       " '../../BL_Work/openPrescribe/serialized/201709.gz',\n",
       " '../../BL_Work/openPrescribe/serialized/201710.gz',\n",
       " '../../BL_Work/openPrescribe/serialized/201711.gz',\n",
       " '../../BL_Work/openPrescribe/serialized/201712.gz',\n",
       " '../../BL_Work/openPrescribe/serialized/201801.gz',\n",
       " '../../BL_Work/openPrescribe/serialized/201802.gz',\n",
       " '../../BL_Work/openPrescribe/serialized/201803.gz',\n",
       " '../../BL_Work/openPrescribe/serialized/201804.gz',\n",
       " '../../BL_Work/openPrescribe/serialized/201805.gz',\n",
       " '../../BL_Work/openPrescribe/serialized/201806.gz',\n",
       " '../../BL_Work/openPrescribe/serialized/201807.gz',\n",
       " '../../BL_Work/openPrescribe/serialized/201808.gz',\n",
       " '../../BL_Work/openPrescribe/serialized/201809.gz',\n",
       " '../../BL_Work/openPrescribe/serialized/201810.gz',\n",
       " '../../BL_Work/openPrescribe/serialized/201811.gz',\n",
       " '../../BL_Work/openPrescribe/serialized/201812.gz',\n",
       " '../../BL_Work/openPrescribe/serialized/201901.gz',\n",
       " '../../BL_Work/openPrescribe/serialized/201902.gz',\n",
       " '../../BL_Work/openPrescribe/serialized/201903.gz',\n",
       " '../../BL_Work/openPrescribe/serialized/201904.gz',\n",
       " '../../BL_Work/openPrescribe/serialized/201905.gz',\n",
       " '../../BL_Work/openPrescribe/serialized/201906.gz',\n",
       " '../../BL_Work/openPrescribe/serialized/201907.gz',\n",
       " '../../BL_Work/openPrescribe/serialized/201908.gz',\n",
       " '../../BL_Work/openPrescribe/serialized/201909.gz',\n",
       " '../../BL_Work/openPrescribe/serialized/201910.gz',\n",
       " '../../BL_Work/openPrescribe/serialized/201911.gz',\n",
       " '../../BL_Work/openPrescribe/serialized/201912.gz',\n",
       " '../../BL_Work/openPrescribe/serialized/202001.gz',\n",
       " '../../BL_Work/openPrescribe/serialized/202002.gz',\n",
       " '../../BL_Work/openPrescribe/serialized/202003.gz',\n",
       " '../../BL_Work/openPrescribe/serialized/202004.gz',\n",
       " '../../BL_Work/openPrescribe/serialized/202005.gz',\n",
       " '../../BL_Work/openPrescribe/serialized/202006.gz',\n",
       " '../../BL_Work/openPrescribe/serialized/202007.gz',\n",
       " '../../BL_Work/openPrescribe/serialized/202008.gz',\n",
       " '../../BL_Work/openPrescribe/serialized/202009.gz',\n",
       " '../../BL_Work/openPrescribe/serialized/202010.gz',\n",
       " '../../BL_Work/openPrescribe/serialized/202011.gz',\n",
       " '../../BL_Work/openPrescribe/serialized/202012.gz',\n",
       " '../../BL_Work/openPrescribe/serialized/202101.gz',\n",
       " '../../BL_Work/openPrescribe/serialized/202102.gz']"
      ]
     },
     "execution_count": 62,
     "metadata": {},
     "output_type": "execute_result"
    }
   ],
   "source": [
    "files[53:]"
   ]
  },
  {
   "cell_type": "code",
   "execution_count": 71,
   "metadata": {
    "ExecuteTime": {
     "end_time": "2021-06-04T10:04:04.945343Z",
     "start_time": "2021-06-04T10:04:04.939737Z"
    },
    "collapsed": true
   },
   "outputs": [],
   "source": [
    "# disease_drug_map"
   ]
  },
  {
   "cell_type": "code",
   "execution_count": 72,
   "metadata": {
    "ExecuteTime": {
     "end_time": "2021-06-04T12:49:27.949297Z",
     "start_time": "2021-06-04T10:04:21.289100Z"
    }
   },
   "outputs": [
    {
     "name": "stderr",
     "output_type": "stream",
     "text": [
      "  0%|          | 0/74 [00:00<?, ?it/s]\n",
      "  0%|          | 0/2 [00:00<?, ?it/s]\u001b[A"
     ]
    },
    {
     "name": "stdout",
     "output_type": "stream",
     "text": [
      "Working with disease  antibiotics\n"
     ]
    },
    {
     "name": "stderr",
     "output_type": "stream",
     "text": [
      "\n",
      " 50%|█████     | 1/2 [00:12<00:12, 12.92s/it]\u001b[A"
     ]
    },
    {
     "name": "stdout",
     "output_type": "stream",
     "text": [
      "Working with disease  antiallergic\n"
     ]
    },
    {
     "name": "stderr",
     "output_type": "stream",
     "text": [
      "\n",
      "  1%|▏         | 1/74 [01:33<1:53:45, 93.49s/it]\n",
      "  0%|          | 0/2 [00:00<?, ?it/s]\u001b[A"
     ]
    },
    {
     "name": "stdout",
     "output_type": "stream",
     "text": [
      "Working with disease  antibiotics\n"
     ]
    },
    {
     "name": "stderr",
     "output_type": "stream",
     "text": [
      "\n",
      " 50%|█████     | 1/2 [00:13<00:13, 13.05s/it]\u001b[A"
     ]
    },
    {
     "name": "stdout",
     "output_type": "stream",
     "text": [
      "Working with disease  antiallergic\n"
     ]
    },
    {
     "name": "stderr",
     "output_type": "stream",
     "text": [
      "\n",
      "  3%|▎         | 2/74 [03:05<1:51:44, 93.12s/it]\n",
      "  0%|          | 0/2 [00:00<?, ?it/s]\u001b[A"
     ]
    },
    {
     "name": "stdout",
     "output_type": "stream",
     "text": [
      "Working with disease  antibiotics\n"
     ]
    },
    {
     "name": "stderr",
     "output_type": "stream",
     "text": [
      "\n",
      " 50%|█████     | 1/2 [00:12<00:12, 12.98s/it]\u001b[A"
     ]
    },
    {
     "name": "stdout",
     "output_type": "stream",
     "text": [
      "Working with disease  antiallergic\n"
     ]
    },
    {
     "name": "stderr",
     "output_type": "stream",
     "text": [
      "\n",
      "  4%|▍         | 3/74 [04:41<1:51:03, 93.86s/it]\n",
      "  0%|          | 0/2 [00:00<?, ?it/s]\u001b[A"
     ]
    },
    {
     "name": "stdout",
     "output_type": "stream",
     "text": [
      "Working with disease  antibiotics\n"
     ]
    },
    {
     "name": "stderr",
     "output_type": "stream",
     "text": [
      "\n",
      " 50%|█████     | 1/2 [00:13<00:13, 13.25s/it]\u001b[A"
     ]
    },
    {
     "name": "stdout",
     "output_type": "stream",
     "text": [
      "Working with disease  antiallergic\n"
     ]
    },
    {
     "name": "stderr",
     "output_type": "stream",
     "text": [
      "\n",
      "  5%|▌         | 4/74 [06:17<1:50:11, 94.45s/it]\n",
      "  0%|          | 0/2 [00:00<?, ?it/s]\u001b[A"
     ]
    },
    {
     "name": "stdout",
     "output_type": "stream",
     "text": [
      "Working with disease  antibiotics\n"
     ]
    },
    {
     "name": "stderr",
     "output_type": "stream",
     "text": [
      "\n",
      " 50%|█████     | 1/2 [00:12<00:12, 12.97s/it]\u001b[A"
     ]
    },
    {
     "name": "stdout",
     "output_type": "stream",
     "text": [
      "Working with disease  antiallergic\n"
     ]
    },
    {
     "name": "stderr",
     "output_type": "stream",
     "text": [
      "\n",
      "  7%|▋         | 5/74 [07:52<1:48:51, 94.65s/it]\n",
      "  0%|          | 0/2 [00:00<?, ?it/s]\u001b[A"
     ]
    },
    {
     "name": "stdout",
     "output_type": "stream",
     "text": [
      "Working with disease  antibiotics\n"
     ]
    },
    {
     "name": "stderr",
     "output_type": "stream",
     "text": [
      "\n",
      " 50%|█████     | 1/2 [00:13<00:13, 13.32s/it]\u001b[A"
     ]
    },
    {
     "name": "stdout",
     "output_type": "stream",
     "text": [
      "Working with disease  antiallergic\n"
     ]
    },
    {
     "name": "stderr",
     "output_type": "stream",
     "text": [
      "\n",
      "  8%|▊         | 6/74 [09:30<1:48:27, 95.70s/it]\n",
      "  0%|          | 0/2 [00:00<?, ?it/s]\u001b[A"
     ]
    },
    {
     "name": "stdout",
     "output_type": "stream",
     "text": [
      "Working with disease  antibiotics\n"
     ]
    },
    {
     "name": "stderr",
     "output_type": "stream",
     "text": [
      "\n",
      " 50%|█████     | 1/2 [00:13<00:13, 13.07s/it]\u001b[A"
     ]
    },
    {
     "name": "stdout",
     "output_type": "stream",
     "text": [
      "Working with disease  antiallergic\n"
     ]
    },
    {
     "name": "stderr",
     "output_type": "stream",
     "text": [
      "\n",
      "  9%|▉         | 7/74 [11:08<1:47:45, 96.50s/it]\n",
      "  0%|          | 0/2 [00:00<?, ?it/s]\u001b[A"
     ]
    },
    {
     "name": "stdout",
     "output_type": "stream",
     "text": [
      "Working with disease  antibiotics\n"
     ]
    },
    {
     "name": "stderr",
     "output_type": "stream",
     "text": [
      "\n",
      " 50%|█████     | 1/2 [00:12<00:12, 12.89s/it]\u001b[A"
     ]
    },
    {
     "name": "stdout",
     "output_type": "stream",
     "text": [
      "Working with disease  antiallergic\n"
     ]
    },
    {
     "name": "stderr",
     "output_type": "stream",
     "text": [
      "\n",
      " 11%|█         | 8/74 [12:42<1:45:20, 95.76s/it]\n",
      "  0%|          | 0/2 [00:00<?, ?it/s]\u001b[A"
     ]
    },
    {
     "name": "stdout",
     "output_type": "stream",
     "text": [
      "Working with disease  antibiotics\n"
     ]
    },
    {
     "name": "stderr",
     "output_type": "stream",
     "text": [
      "\n",
      " 50%|█████     | 1/2 [00:13<00:12, 13.00s/it]\u001b[A"
     ]
    },
    {
     "name": "stdout",
     "output_type": "stream",
     "text": [
      "Working with disease  antiallergic\n"
     ]
    },
    {
     "name": "stderr",
     "output_type": "stream",
     "text": [
      "\n",
      " 12%|█▏        | 9/74 [14:19<1:43:56, 95.95s/it]\n",
      "  0%|          | 0/2 [00:00<?, ?it/s]\u001b[A"
     ]
    },
    {
     "name": "stdout",
     "output_type": "stream",
     "text": [
      "Working with disease  antibiotics\n"
     ]
    },
    {
     "name": "stderr",
     "output_type": "stream",
     "text": [
      "\n",
      " 50%|█████     | 1/2 [00:13<00:13, 13.26s/it]\u001b[A"
     ]
    },
    {
     "name": "stdout",
     "output_type": "stream",
     "text": [
      "Working with disease  antiallergic\n"
     ]
    },
    {
     "name": "stderr",
     "output_type": "stream",
     "text": [
      "\n",
      " 14%|█▎        | 10/74 [15:56<1:42:40, 96.26s/it]\n",
      "  0%|          | 0/2 [00:00<?, ?it/s]\u001b[A"
     ]
    },
    {
     "name": "stdout",
     "output_type": "stream",
     "text": [
      "Working with disease  antibiotics\n"
     ]
    },
    {
     "name": "stderr",
     "output_type": "stream",
     "text": [
      "\n",
      " 50%|█████     | 1/2 [00:12<00:12, 12.97s/it]\u001b[A"
     ]
    },
    {
     "name": "stdout",
     "output_type": "stream",
     "text": [
      "Working with disease  antiallergic\n"
     ]
    },
    {
     "name": "stderr",
     "output_type": "stream",
     "text": [
      "\n",
      " 15%|█▍        | 11/74 [17:31<1:40:55, 96.11s/it]\n",
      "  0%|          | 0/2 [00:00<?, ?it/s]\u001b[A"
     ]
    },
    {
     "name": "stdout",
     "output_type": "stream",
     "text": [
      "Working with disease  antibiotics\n"
     ]
    },
    {
     "name": "stderr",
     "output_type": "stream",
     "text": [
      "\n",
      " 50%|█████     | 1/2 [00:13<00:13, 13.04s/it]\u001b[A"
     ]
    },
    {
     "name": "stdout",
     "output_type": "stream",
     "text": [
      "Working with disease  antiallergic\n"
     ]
    },
    {
     "name": "stderr",
     "output_type": "stream",
     "text": [
      "\n",
      " 16%|█▌        | 12/74 [19:10<1:39:56, 96.72s/it]\n",
      "  0%|          | 0/2 [00:00<?, ?it/s]\u001b[A"
     ]
    },
    {
     "name": "stdout",
     "output_type": "stream",
     "text": [
      "Working with disease  antibiotics\n"
     ]
    },
    {
     "name": "stderr",
     "output_type": "stream",
     "text": [
      "\n",
      " 50%|█████     | 1/2 [00:12<00:12, 12.44s/it]\u001b[A"
     ]
    },
    {
     "name": "stdout",
     "output_type": "stream",
     "text": [
      "Working with disease  antiallergic\n"
     ]
    },
    {
     "name": "stderr",
     "output_type": "stream",
     "text": [
      "\n",
      " 18%|█▊        | 13/74 [20:44<1:37:43, 96.12s/it]\n",
      "  0%|          | 0/2 [00:00<?, ?it/s]\u001b[A"
     ]
    },
    {
     "name": "stdout",
     "output_type": "stream",
     "text": [
      "Working with disease  antibiotics\n"
     ]
    },
    {
     "name": "stderr",
     "output_type": "stream",
     "text": [
      "\n",
      " 50%|█████     | 1/2 [00:13<00:13, 13.05s/it]\u001b[A"
     ]
    },
    {
     "name": "stdout",
     "output_type": "stream",
     "text": [
      "Working with disease  antiallergic\n"
     ]
    },
    {
     "name": "stderr",
     "output_type": "stream",
     "text": [
      "\n",
      " 19%|█▉        | 14/74 [22:23<1:36:45, 96.75s/it]\n",
      "  0%|          | 0/2 [00:00<?, ?it/s]\u001b[A"
     ]
    },
    {
     "name": "stdout",
     "output_type": "stream",
     "text": [
      "Working with disease  antibiotics\n"
     ]
    },
    {
     "name": "stderr",
     "output_type": "stream",
     "text": [
      "\n",
      " 50%|█████     | 1/2 [00:12<00:12, 12.92s/it]\u001b[A"
     ]
    },
    {
     "name": "stdout",
     "output_type": "stream",
     "text": [
      "Working with disease  antiallergic\n"
     ]
    },
    {
     "name": "stderr",
     "output_type": "stream",
     "text": [
      "\n",
      " 20%|██        | 15/74 [23:59<1:35:07, 96.73s/it]\n",
      "  0%|          | 0/2 [00:00<?, ?it/s]\u001b[A"
     ]
    },
    {
     "name": "stdout",
     "output_type": "stream",
     "text": [
      "Working with disease  antibiotics\n"
     ]
    },
    {
     "name": "stderr",
     "output_type": "stream",
     "text": [
      "\n",
      " 50%|█████     | 1/2 [00:13<00:13, 13.42s/it]\u001b[A"
     ]
    },
    {
     "name": "stdout",
     "output_type": "stream",
     "text": [
      "Working with disease  antiallergic\n"
     ]
    },
    {
     "name": "stderr",
     "output_type": "stream",
     "text": [
      "\n",
      " 22%|██▏       | 16/74 [25:39<1:34:29, 97.76s/it]\n",
      "  0%|          | 0/2 [00:00<?, ?it/s]\u001b[A"
     ]
    },
    {
     "name": "stdout",
     "output_type": "stream",
     "text": [
      "Working with disease  antibiotics\n"
     ]
    },
    {
     "name": "stderr",
     "output_type": "stream",
     "text": [
      "\n",
      " 50%|█████     | 1/2 [00:13<00:13, 13.01s/it]\u001b[A"
     ]
    },
    {
     "name": "stdout",
     "output_type": "stream",
     "text": [
      "Working with disease  antiallergic\n"
     ]
    },
    {
     "name": "stderr",
     "output_type": "stream",
     "text": [
      "\n",
      " 23%|██▎       | 17/74 [27:17<1:32:46, 97.66s/it]\n",
      "  0%|          | 0/2 [00:00<?, ?it/s]\u001b[A"
     ]
    },
    {
     "name": "stdout",
     "output_type": "stream",
     "text": [
      "Working with disease  antibiotics\n"
     ]
    },
    {
     "name": "stderr",
     "output_type": "stream",
     "text": [
      "\n",
      " 50%|█████     | 1/2 [00:13<00:13, 13.02s/it]\u001b[A"
     ]
    },
    {
     "name": "stdout",
     "output_type": "stream",
     "text": [
      "Working with disease  antiallergic\n"
     ]
    },
    {
     "name": "stderr",
     "output_type": "stream",
     "text": [
      "\n",
      " 24%|██▍       | 18/74 [28:56<1:31:35, 98.13s/it]\n",
      "  0%|          | 0/2 [00:00<?, ?it/s]\u001b[A"
     ]
    },
    {
     "name": "stdout",
     "output_type": "stream",
     "text": [
      "Working with disease  antibiotics\n"
     ]
    },
    {
     "name": "stderr",
     "output_type": "stream",
     "text": [
      "\n",
      " 50%|█████     | 1/2 [00:14<00:14, 14.65s/it]\u001b[A"
     ]
    },
    {
     "name": "stdout",
     "output_type": "stream",
     "text": [
      "Working with disease  antiallergic\n"
     ]
    },
    {
     "name": "stderr",
     "output_type": "stream",
     "text": [
      "\n",
      " 26%|██▌       | 19/74 [30:37<1:30:38, 98.88s/it]\n",
      "  0%|          | 0/2 [00:00<?, ?it/s]\u001b[A"
     ]
    },
    {
     "name": "stdout",
     "output_type": "stream",
     "text": [
      "Working with disease  antibiotics\n"
     ]
    },
    {
     "name": "stderr",
     "output_type": "stream",
     "text": [
      "\n",
      " 50%|█████     | 1/2 [00:12<00:12, 12.95s/it]\u001b[A"
     ]
    },
    {
     "name": "stdout",
     "output_type": "stream",
     "text": [
      "Working with disease  antiallergic\n"
     ]
    },
    {
     "name": "stderr",
     "output_type": "stream",
     "text": [
      "\n",
      " 27%|██▋       | 20/74 [32:15<1:28:52, 98.75s/it]\n",
      "  0%|          | 0/2 [00:00<?, ?it/s]\u001b[A"
     ]
    },
    {
     "name": "stdout",
     "output_type": "stream",
     "text": [
      "Working with disease  antibiotics\n"
     ]
    },
    {
     "name": "stderr",
     "output_type": "stream",
     "text": [
      "\n",
      " 50%|█████     | 1/2 [00:12<00:12, 12.92s/it]\u001b[A"
     ]
    },
    {
     "name": "stdout",
     "output_type": "stream",
     "text": [
      "Working with disease  antiallergic\n"
     ]
    },
    {
     "name": "stderr",
     "output_type": "stream",
     "text": [
      "\n",
      " 28%|██▊       | 21/74 [33:53<1:27:00, 98.50s/it]\n",
      "  0%|          | 0/2 [00:00<?, ?it/s]\u001b[A"
     ]
    },
    {
     "name": "stdout",
     "output_type": "stream",
     "text": [
      "Working with disease  antibiotics\n"
     ]
    },
    {
     "name": "stderr",
     "output_type": "stream",
     "text": [
      "\n",
      " 50%|█████     | 1/2 [00:09<00:09,  9.64s/it]\u001b[A"
     ]
    },
    {
     "name": "stdout",
     "output_type": "stream",
     "text": [
      "Working with disease  antiallergic\n"
     ]
    },
    {
     "name": "stderr",
     "output_type": "stream",
     "text": [
      "\n",
      " 30%|██▉       | 22/74 [35:20<1:22:14, 94.89s/it]\n",
      "  0%|          | 0/2 [00:00<?, ?it/s]\u001b[A"
     ]
    },
    {
     "name": "stdout",
     "output_type": "stream",
     "text": [
      "Working with disease  antibiotics\n"
     ]
    },
    {
     "name": "stderr",
     "output_type": "stream",
     "text": [
      "\n",
      " 50%|█████     | 1/2 [00:12<00:12, 12.87s/it]\u001b[A"
     ]
    },
    {
     "name": "stdout",
     "output_type": "stream",
     "text": [
      "Working with disease  antiallergic\n"
     ]
    },
    {
     "name": "stderr",
     "output_type": "stream",
     "text": [
      "\n",
      " 31%|███       | 23/74 [36:55<1:20:49, 95.09s/it]\n",
      "  0%|          | 0/2 [00:00<?, ?it/s]\u001b[A"
     ]
    },
    {
     "name": "stdout",
     "output_type": "stream",
     "text": [
      "Working with disease  antibiotics\n"
     ]
    },
    {
     "name": "stderr",
     "output_type": "stream",
     "text": [
      "\n",
      " 50%|█████     | 1/2 [00:13<00:13, 13.94s/it]\u001b[A"
     ]
    },
    {
     "name": "stdout",
     "output_type": "stream",
     "text": [
      "Working with disease  antiallergic\n"
     ]
    },
    {
     "name": "stderr",
     "output_type": "stream",
     "text": [
      "\n",
      " 32%|███▏      | 24/74 [38:35<1:20:29, 96.59s/it]\n",
      "  0%|          | 0/2 [00:00<?, ?it/s]\u001b[A"
     ]
    },
    {
     "name": "stdout",
     "output_type": "stream",
     "text": [
      "Working with disease  antibiotics\n"
     ]
    },
    {
     "name": "stderr",
     "output_type": "stream",
     "text": [
      "\n",
      " 50%|█████     | 1/2 [00:13<00:12, 13.00s/it]\u001b[A"
     ]
    },
    {
     "name": "stdout",
     "output_type": "stream",
     "text": [
      "Working with disease  antiallergic\n"
     ]
    },
    {
     "name": "stderr",
     "output_type": "stream",
     "text": [
      "\n",
      " 34%|███▍      | 25/74 [40:14<1:19:19, 97.14s/it]\n",
      "  0%|          | 0/2 [00:00<?, ?it/s]\u001b[A"
     ]
    },
    {
     "name": "stdout",
     "output_type": "stream",
     "text": [
      "Working with disease  antibiotics\n"
     ]
    },
    {
     "name": "stderr",
     "output_type": "stream",
     "text": [
      "\n",
      " 50%|█████     | 1/2 [00:13<00:13, 13.07s/it]\u001b[A"
     ]
    },
    {
     "name": "stdout",
     "output_type": "stream",
     "text": [
      "Working with disease  antiallergic\n"
     ]
    },
    {
     "name": "stderr",
     "output_type": "stream",
     "text": [
      "\n",
      " 35%|███▌      | 26/74 [41:50<1:17:34, 96.96s/it]\n",
      "  0%|          | 0/2 [00:00<?, ?it/s]\u001b[A"
     ]
    },
    {
     "name": "stdout",
     "output_type": "stream",
     "text": [
      "Working with disease  antibiotics\n"
     ]
    },
    {
     "name": "stderr",
     "output_type": "stream",
     "text": [
      "\n",
      " 50%|█████     | 1/2 [00:13<00:13, 13.01s/it]\u001b[A"
     ]
    },
    {
     "name": "stdout",
     "output_type": "stream",
     "text": [
      "Working with disease  antiallergic\n"
     ]
    },
    {
     "name": "stderr",
     "output_type": "stream",
     "text": [
      "\n",
      " 36%|███▋      | 27/74 [43:30<1:16:39, 97.86s/it]\n",
      "  0%|          | 0/2 [00:00<?, ?it/s]\u001b[A"
     ]
    },
    {
     "name": "stdout",
     "output_type": "stream",
     "text": [
      "Working with disease  antibiotics\n"
     ]
    },
    {
     "name": "stderr",
     "output_type": "stream",
     "text": [
      "\n",
      " 50%|█████     | 1/2 [00:12<00:12, 12.93s/it]\u001b[A"
     ]
    },
    {
     "name": "stdout",
     "output_type": "stream",
     "text": [
      "Working with disease  antiallergic\n"
     ]
    },
    {
     "name": "stderr",
     "output_type": "stream",
     "text": [
      "\n",
      " 38%|███▊      | 28/74 [45:07<1:14:46, 97.53s/it]\n",
      "  0%|          | 0/2 [00:00<?, ?it/s]\u001b[A"
     ]
    },
    {
     "name": "stdout",
     "output_type": "stream",
     "text": [
      "Working with disease  antibiotics\n"
     ]
    },
    {
     "name": "stderr",
     "output_type": "stream",
     "text": [
      "\n",
      " 50%|█████     | 1/2 [00:12<00:12, 12.99s/it]\u001b[A"
     ]
    },
    {
     "name": "stdout",
     "output_type": "stream",
     "text": [
      "Working with disease  antiallergic\n"
     ]
    },
    {
     "name": "stderr",
     "output_type": "stream",
     "text": [
      "\n",
      " 39%|███▉      | 29/74 [46:47<1:13:39, 98.22s/it]\n",
      "  0%|          | 0/2 [00:00<?, ?it/s]\u001b[A"
     ]
    },
    {
     "name": "stdout",
     "output_type": "stream",
     "text": [
      "Working with disease  antibiotics\n"
     ]
    },
    {
     "name": "stderr",
     "output_type": "stream",
     "text": [
      "\n",
      " 50%|█████     | 1/2 [00:12<00:12, 12.99s/it]\u001b[A"
     ]
    },
    {
     "name": "stdout",
     "output_type": "stream",
     "text": [
      "Working with disease  antiallergic\n"
     ]
    },
    {
     "name": "stderr",
     "output_type": "stream",
     "text": [
      "\n",
      " 41%|████      | 30/74 [48:27<1:12:35, 98.99s/it]\n",
      "  0%|          | 0/2 [00:00<?, ?it/s]\u001b[A"
     ]
    },
    {
     "name": "stdout",
     "output_type": "stream",
     "text": [
      "Working with disease  antibiotics\n"
     ]
    },
    {
     "name": "stderr",
     "output_type": "stream",
     "text": [
      "\n",
      " 50%|█████     | 1/2 [00:13<00:13, 13.32s/it]\u001b[A"
     ]
    },
    {
     "name": "stdout",
     "output_type": "stream",
     "text": [
      "Working with disease  antiallergic\n"
     ]
    },
    {
     "name": "stderr",
     "output_type": "stream",
     "text": [
      "\n",
      " 42%|████▏     | 31/74 [50:07<1:10:59, 99.06s/it]\n",
      "  0%|          | 0/2 [00:00<?, ?it/s]\u001b[A"
     ]
    },
    {
     "name": "stdout",
     "output_type": "stream",
     "text": [
      "Working with disease  antibiotics\n"
     ]
    },
    {
     "name": "stderr",
     "output_type": "stream",
     "text": [
      "\n",
      " 50%|█████     | 1/2 [00:14<00:14, 14.30s/it]\u001b[A"
     ]
    },
    {
     "name": "stdout",
     "output_type": "stream",
     "text": [
      "Working with disease  antiallergic\n"
     ]
    },
    {
     "name": "stderr",
     "output_type": "stream",
     "text": [
      "\n",
      " 43%|████▎     | 32/74 [51:47<1:09:32, 99.34s/it]\n",
      "  0%|          | 0/2 [00:00<?, ?it/s]\u001b[A"
     ]
    },
    {
     "name": "stdout",
     "output_type": "stream",
     "text": [
      "Working with disease  antibiotics\n"
     ]
    },
    {
     "name": "stderr",
     "output_type": "stream",
     "text": [
      "\n",
      " 50%|█████     | 1/2 [00:13<00:13, 13.29s/it]\u001b[A"
     ]
    },
    {
     "name": "stdout",
     "output_type": "stream",
     "text": [
      "Working with disease  antiallergic\n"
     ]
    },
    {
     "name": "stderr",
     "output_type": "stream",
     "text": [
      "\n",
      " 45%|████▍     | 33/74 [53:26<1:07:47, 99.20s/it]\n",
      "  0%|          | 0/2 [00:00<?, ?it/s]\u001b[A"
     ]
    },
    {
     "name": "stdout",
     "output_type": "stream",
     "text": [
      "Working with disease  antibiotics\n"
     ]
    },
    {
     "name": "stderr",
     "output_type": "stream",
     "text": [
      "\n",
      " 50%|█████     | 1/2 [00:13<00:13, 13.69s/it]\u001b[A"
     ]
    },
    {
     "name": "stdout",
     "output_type": "stream",
     "text": [
      "Working with disease  antiallergic\n"
     ]
    },
    {
     "name": "stderr",
     "output_type": "stream",
     "text": [
      "\n",
      " 46%|████▌     | 34/74 [55:06<1:06:17, 99.43s/it]\n",
      "  0%|          | 0/2 [00:00<?, ?it/s]\u001b[A"
     ]
    },
    {
     "name": "stdout",
     "output_type": "stream",
     "text": [
      "Working with disease  antibiotics\n"
     ]
    },
    {
     "name": "stderr",
     "output_type": "stream",
     "text": [
      "\n",
      " 50%|█████     | 1/2 [00:13<00:13, 13.12s/it]\u001b[A"
     ]
    },
    {
     "name": "stdout",
     "output_type": "stream",
     "text": [
      "Working with disease  antiallergic\n"
     ]
    },
    {
     "name": "stderr",
     "output_type": "stream",
     "text": [
      "\n",
      " 47%|████▋     | 35/74 [56:45<1:04:38, 99.45s/it]\n",
      "  0%|          | 0/2 [00:00<?, ?it/s]\u001b[A"
     ]
    },
    {
     "name": "stdout",
     "output_type": "stream",
     "text": [
      "Working with disease  antibiotics\n"
     ]
    },
    {
     "name": "stderr",
     "output_type": "stream",
     "text": [
      "\n",
      " 50%|█████     | 1/2 [00:13<00:13, 13.29s/it]\u001b[A"
     ]
    },
    {
     "name": "stdout",
     "output_type": "stream",
     "text": [
      "Working with disease  antiallergic\n"
     ]
    },
    {
     "name": "stderr",
     "output_type": "stream",
     "text": [
      "\n",
      " 49%|████▊     | 36/74 [58:24<1:02:50, 99.23s/it]\n",
      "  0%|          | 0/2 [00:00<?, ?it/s]\u001b[A"
     ]
    },
    {
     "name": "stdout",
     "output_type": "stream",
     "text": [
      "Working with disease  antibiotics\n"
     ]
    },
    {
     "name": "stderr",
     "output_type": "stream",
     "text": [
      "\n",
      " 50%|█████     | 1/2 [00:13<00:13, 13.19s/it]\u001b[A"
     ]
    },
    {
     "name": "stdout",
     "output_type": "stream",
     "text": [
      "Working with disease  antiallergic\n"
     ]
    },
    {
     "name": "stderr",
     "output_type": "stream",
     "text": [
      "\n",
      " 50%|█████     | 37/74 [1:00:03<1:01:14, 99.31s/it]\n",
      "  0%|          | 0/2 [00:00<?, ?it/s]\u001b[A"
     ]
    },
    {
     "name": "stdout",
     "output_type": "stream",
     "text": [
      "Working with disease  antibiotics\n"
     ]
    },
    {
     "name": "stderr",
     "output_type": "stream",
     "text": [
      "\n",
      " 50%|█████     | 1/2 [00:12<00:12, 12.95s/it]\u001b[A"
     ]
    },
    {
     "name": "stdout",
     "output_type": "stream",
     "text": [
      "Working with disease  antiallergic\n"
     ]
    },
    {
     "name": "stderr",
     "output_type": "stream",
     "text": [
      "\n",
      " 51%|█████▏    | 38/74 [1:01:40<59:05, 98.49s/it]  \n",
      "  0%|          | 0/2 [00:00<?, ?it/s]\u001b[A"
     ]
    },
    {
     "name": "stdout",
     "output_type": "stream",
     "text": [
      "Working with disease  antibiotics\n"
     ]
    },
    {
     "name": "stderr",
     "output_type": "stream",
     "text": [
      "\n",
      " 50%|█████     | 1/2 [00:13<00:13, 13.39s/it]\u001b[A"
     ]
    },
    {
     "name": "stdout",
     "output_type": "stream",
     "text": [
      "Working with disease  antiallergic\n"
     ]
    },
    {
     "name": "stderr",
     "output_type": "stream",
     "text": [
      "\n",
      " 53%|█████▎    | 39/74 [1:03:19<57:37, 98.79s/it]\n",
      "  0%|          | 0/2 [00:00<?, ?it/s]\u001b[A"
     ]
    },
    {
     "name": "stdout",
     "output_type": "stream",
     "text": [
      "Working with disease  antibiotics\n"
     ]
    },
    {
     "name": "stderr",
     "output_type": "stream",
     "text": [
      "\n",
      " 50%|█████     | 1/2 [00:13<00:13, 13.04s/it]\u001b[A"
     ]
    },
    {
     "name": "stdout",
     "output_type": "stream",
     "text": [
      "Working with disease  antiallergic\n"
     ]
    },
    {
     "name": "stderr",
     "output_type": "stream",
     "text": [
      "\n",
      " 54%|█████▍    | 40/74 [1:04:59<56:12, 99.20s/it]\n",
      "  0%|          | 0/2 [00:00<?, ?it/s]\u001b[A"
     ]
    },
    {
     "name": "stdout",
     "output_type": "stream",
     "text": [
      "Working with disease  antibiotics\n"
     ]
    },
    {
     "name": "stderr",
     "output_type": "stream",
     "text": [
      "\n",
      " 50%|█████     | 1/2 [00:13<00:13, 13.14s/it]\u001b[A"
     ]
    },
    {
     "name": "stdout",
     "output_type": "stream",
     "text": [
      "Working with disease  antiallergic\n"
     ]
    },
    {
     "name": "stderr",
     "output_type": "stream",
     "text": [
      "\n",
      " 55%|█████▌    | 41/74 [1:06:41<54:52, 99.76s/it]\n",
      "  0%|          | 0/2 [00:00<?, ?it/s]\u001b[A"
     ]
    },
    {
     "name": "stdout",
     "output_type": "stream",
     "text": [
      "Working with disease  antibiotics\n"
     ]
    },
    {
     "name": "stderr",
     "output_type": "stream",
     "text": [
      "\n",
      " 50%|█████     | 1/2 [00:13<00:13, 13.13s/it]\u001b[A"
     ]
    },
    {
     "name": "stdout",
     "output_type": "stream",
     "text": [
      "Working with disease  antiallergic\n"
     ]
    },
    {
     "name": "stderr",
     "output_type": "stream",
     "text": [
      "\n",
      " 57%|█████▋    | 42/74 [1:08:21<53:14, 99.84s/it]\n",
      "  0%|          | 0/2 [00:00<?, ?it/s]\u001b[A"
     ]
    },
    {
     "name": "stdout",
     "output_type": "stream",
     "text": [
      "Working with disease  antibiotics\n"
     ]
    },
    {
     "name": "stderr",
     "output_type": "stream",
     "text": [
      "\n",
      " 50%|█████     | 1/2 [00:13<00:13, 13.07s/it]\u001b[A"
     ]
    },
    {
     "name": "stdout",
     "output_type": "stream",
     "text": [
      "Working with disease  antiallergic\n"
     ]
    },
    {
     "name": "stderr",
     "output_type": "stream",
     "text": [
      "\n",
      " 58%|█████▊    | 43/74 [1:10:00<51:31, 99.74s/it]\n",
      "  0%|          | 0/2 [00:00<?, ?it/s]\u001b[A"
     ]
    },
    {
     "name": "stdout",
     "output_type": "stream",
     "text": [
      "Working with disease  antibiotics\n"
     ]
    },
    {
     "name": "stderr",
     "output_type": "stream",
     "text": [
      "\n",
      " 50%|█████     | 1/2 [00:13<00:13, 13.06s/it]\u001b[A"
     ]
    },
    {
     "name": "stdout",
     "output_type": "stream",
     "text": [
      "Working with disease  antiallergic\n"
     ]
    },
    {
     "name": "stderr",
     "output_type": "stream",
     "text": [
      "\n",
      " 59%|█████▉    | 44/74 [1:11:39<49:44, 99.47s/it]\n",
      "  0%|          | 0/2 [00:00<?, ?it/s]\u001b[A"
     ]
    },
    {
     "name": "stdout",
     "output_type": "stream",
     "text": [
      "Working with disease  antibiotics\n"
     ]
    },
    {
     "name": "stderr",
     "output_type": "stream",
     "text": [
      "\n",
      " 50%|█████     | 1/2 [00:13<00:13, 13.11s/it]\u001b[A"
     ]
    },
    {
     "name": "stdout",
     "output_type": "stream",
     "text": [
      "Working with disease  antiallergic\n"
     ]
    },
    {
     "name": "stderr",
     "output_type": "stream",
     "text": [
      "\n",
      " 61%|██████    | 45/74 [1:13:18<47:58, 99.26s/it]\n",
      "  0%|          | 0/2 [00:00<?, ?it/s]\u001b[A"
     ]
    },
    {
     "name": "stdout",
     "output_type": "stream",
     "text": [
      "Working with disease  antibiotics\n"
     ]
    },
    {
     "name": "stderr",
     "output_type": "stream",
     "text": [
      "\n",
      " 50%|█████     | 1/2 [00:13<00:13, 13.19s/it]\u001b[A"
     ]
    },
    {
     "name": "stdout",
     "output_type": "stream",
     "text": [
      "Working with disease  antiallergic\n"
     ]
    },
    {
     "name": "stderr",
     "output_type": "stream",
     "text": [
      "\n",
      " 62%|██████▏   | 46/74 [1:14:58<46:30, 99.66s/it]\n",
      "  0%|          | 0/2 [00:00<?, ?it/s]\u001b[A"
     ]
    },
    {
     "name": "stdout",
     "output_type": "stream",
     "text": [
      "Working with disease  antibiotics\n"
     ]
    },
    {
     "name": "stderr",
     "output_type": "stream",
     "text": [
      "\n",
      " 50%|█████     | 1/2 [00:13<00:13, 13.32s/it]\u001b[A"
     ]
    },
    {
     "name": "stdout",
     "output_type": "stream",
     "text": [
      "Working with disease  antiallergic\n"
     ]
    },
    {
     "name": "stderr",
     "output_type": "stream",
     "text": [
      "\n",
      " 64%|██████▎   | 47/74 [1:16:38<44:52, 99.71s/it]\n",
      "  0%|          | 0/2 [00:00<?, ?it/s]\u001b[A"
     ]
    },
    {
     "name": "stdout",
     "output_type": "stream",
     "text": [
      "Working with disease  antibiotics\n"
     ]
    },
    {
     "name": "stderr",
     "output_type": "stream",
     "text": [
      "\n",
      " 50%|█████     | 1/2 [00:12<00:12, 12.96s/it]\u001b[A"
     ]
    },
    {
     "name": "stdout",
     "output_type": "stream",
     "text": [
      "Working with disease  antiallergic\n"
     ]
    },
    {
     "name": "stderr",
     "output_type": "stream",
     "text": [
      "\n",
      " 65%|██████▍   | 48/74 [1:18:14<42:46, 98.71s/it]\n",
      "  0%|          | 0/2 [00:00<?, ?it/s]\u001b[A"
     ]
    },
    {
     "name": "stdout",
     "output_type": "stream",
     "text": [
      "Working with disease  antibiotics\n"
     ]
    },
    {
     "name": "stderr",
     "output_type": "stream",
     "text": [
      "\n",
      " 50%|█████     | 1/2 [00:13<00:13, 13.08s/it]\u001b[A"
     ]
    },
    {
     "name": "stdout",
     "output_type": "stream",
     "text": [
      "Working with disease  antiallergic\n"
     ]
    },
    {
     "name": "stderr",
     "output_type": "stream",
     "text": [
      "\n",
      " 66%|██████▌   | 49/74 [1:19:52<40:58, 98.33s/it]\n",
      "  0%|          | 0/2 [00:00<?, ?it/s]\u001b[A"
     ]
    },
    {
     "name": "stdout",
     "output_type": "stream",
     "text": [
      "Working with disease  antibiotics\n"
     ]
    },
    {
     "name": "stderr",
     "output_type": "stream",
     "text": [
      "\n",
      " 50%|█████     | 1/2 [00:09<00:09,  9.26s/it]\u001b[A"
     ]
    },
    {
     "name": "stdout",
     "output_type": "stream",
     "text": [
      "Working with disease  antiallergic\n"
     ]
    },
    {
     "name": "stderr",
     "output_type": "stream",
     "text": [
      "\n",
      " 68%|██████▊   | 50/74 [1:21:18<37:50, 94.60s/it]\n",
      "  0%|          | 0/2 [00:00<?, ?it/s]\u001b[A"
     ]
    },
    {
     "name": "stdout",
     "output_type": "stream",
     "text": [
      "Working with disease  antibiotics\n"
     ]
    },
    {
     "name": "stderr",
     "output_type": "stream",
     "text": [
      "\n",
      " 50%|█████     | 1/2 [00:13<00:13, 13.07s/it]\u001b[A"
     ]
    },
    {
     "name": "stdout",
     "output_type": "stream",
     "text": [
      "Working with disease  antiallergic\n"
     ]
    },
    {
     "name": "stderr",
     "output_type": "stream",
     "text": [
      "\n",
      " 69%|██████▉   | 51/74 [1:22:44<35:15, 91.97s/it]\n",
      "  0%|          | 0/2 [00:00<?, ?it/s]\u001b[A"
     ]
    },
    {
     "name": "stdout",
     "output_type": "stream",
     "text": [
      "Working with disease  antibiotics\n"
     ]
    },
    {
     "name": "stderr",
     "output_type": "stream",
     "text": [
      "\n",
      " 50%|█████     | 1/2 [00:13<00:13, 13.14s/it]\u001b[A"
     ]
    },
    {
     "name": "stdout",
     "output_type": "stream",
     "text": [
      "Working with disease  antiallergic\n"
     ]
    },
    {
     "name": "stderr",
     "output_type": "stream",
     "text": [
      "\n",
      " 70%|███████   | 52/74 [1:24:19<34:08, 93.10s/it]\n",
      "  0%|          | 0/2 [00:00<?, ?it/s]\u001b[A"
     ]
    },
    {
     "name": "stdout",
     "output_type": "stream",
     "text": [
      "Working with disease  antibiotics\n"
     ]
    },
    {
     "name": "stderr",
     "output_type": "stream",
     "text": [
      "\n",
      " 50%|█████     | 1/2 [00:13<00:13, 13.08s/it]\u001b[A"
     ]
    },
    {
     "name": "stdout",
     "output_type": "stream",
     "text": [
      "Working with disease  antiallergic\n"
     ]
    },
    {
     "name": "stderr",
     "output_type": "stream",
     "text": [
      "\n",
      " 72%|███████▏  | 53/74 [1:25:56<32:58, 94.20s/it]\n",
      "  0%|          | 0/2 [00:00<?, ?it/s]\u001b[A"
     ]
    },
    {
     "name": "stdout",
     "output_type": "stream",
     "text": [
      "Working with disease  antibiotics\n"
     ]
    },
    {
     "name": "stderr",
     "output_type": "stream",
     "text": [
      "\n",
      " 50%|█████     | 1/2 [00:13<00:13, 13.08s/it]\u001b[A"
     ]
    },
    {
     "name": "stdout",
     "output_type": "stream",
     "text": [
      "Working with disease  antiallergic\n"
     ]
    },
    {
     "name": "stderr",
     "output_type": "stream",
     "text": [
      "\n",
      " 73%|███████▎  | 54/74 [1:27:33<31:41, 95.07s/it]/home/sagar/anaconda3/envs/env_py2/lib/python2.7/site-packages/IPython/core/interactiveshell.py:2714: DtypeWarning: Columns (7) have mixed types. Specify dtype option on import or set low_memory=False.\n",
      "  interactivity=interactivity, compiler=compiler, result=result)\n",
      "\n",
      "  0%|          | 0/2 [00:00<?, ?it/s]\u001b[A"
     ]
    },
    {
     "name": "stdout",
     "output_type": "stream",
     "text": [
      "Working with disease  antibiotics\n"
     ]
    },
    {
     "name": "stderr",
     "output_type": "stream",
     "text": [
      "\n",
      " 50%|█████     | 1/2 [00:11<00:11, 11.50s/it]\u001b[A"
     ]
    },
    {
     "name": "stdout",
     "output_type": "stream",
     "text": [
      "Working with disease  antiallergic\n"
     ]
    },
    {
     "name": "stderr",
     "output_type": "stream",
     "text": [
      "\n",
      " 74%|███████▍  | 55/74 [1:31:28<43:19, 136.83s/it]\n",
      "  0%|          | 0/2 [00:00<?, ?it/s]\u001b[A"
     ]
    },
    {
     "name": "stdout",
     "output_type": "stream",
     "text": [
      "Working with disease  antibiotics\n"
     ]
    },
    {
     "name": "stderr",
     "output_type": "stream",
     "text": [
      "\n",
      " 50%|█████     | 1/2 [00:10<00:10, 10.81s/it]\u001b[A"
     ]
    },
    {
     "name": "stdout",
     "output_type": "stream",
     "text": [
      "Working with disease  antiallergic\n"
     ]
    },
    {
     "name": "stderr",
     "output_type": "stream",
     "text": [
      "\n",
      " 76%|███████▌  | 56/74 [1:35:22<49:49, 166.08s/it]\n",
      "  0%|          | 0/2 [00:00<?, ?it/s]\u001b[A"
     ]
    },
    {
     "name": "stdout",
     "output_type": "stream",
     "text": [
      "Working with disease  antibiotics\n"
     ]
    },
    {
     "name": "stderr",
     "output_type": "stream",
     "text": [
      "\n",
      " 50%|█████     | 1/2 [00:10<00:10, 10.74s/it]\u001b[A"
     ]
    },
    {
     "name": "stdout",
     "output_type": "stream",
     "text": [
      "Working with disease  antiallergic\n"
     ]
    },
    {
     "name": "stderr",
     "output_type": "stream",
     "text": [
      "\n",
      " 77%|███████▋  | 57/74 [1:39:12<52:31, 185.38s/it]\n",
      "  0%|          | 0/2 [00:00<?, ?it/s]\u001b[A"
     ]
    },
    {
     "name": "stdout",
     "output_type": "stream",
     "text": [
      "Working with disease  antibiotics\n"
     ]
    },
    {
     "name": "stderr",
     "output_type": "stream",
     "text": [
      "\n",
      " 50%|█████     | 1/2 [00:11<00:11, 11.59s/it]\u001b[A"
     ]
    },
    {
     "name": "stdout",
     "output_type": "stream",
     "text": [
      "Working with disease  antiallergic\n"
     ]
    },
    {
     "name": "stderr",
     "output_type": "stream",
     "text": [
      "\n",
      " 78%|███████▊  | 58/74 [1:43:09<53:34, 200.89s/it]\n",
      "  0%|          | 0/2 [00:00<?, ?it/s]\u001b[A"
     ]
    },
    {
     "name": "stdout",
     "output_type": "stream",
     "text": [
      "Working with disease  antibiotics\n"
     ]
    },
    {
     "name": "stderr",
     "output_type": "stream",
     "text": [
      "\n",
      " 50%|█████     | 1/2 [00:11<00:11, 11.05s/it]\u001b[A"
     ]
    },
    {
     "name": "stdout",
     "output_type": "stream",
     "text": [
      "Working with disease  antiallergic\n"
     ]
    },
    {
     "name": "stderr",
     "output_type": "stream",
     "text": [
      "\n",
      " 80%|███████▉  | 59/74 [1:47:01<52:33, 210.20s/it]\n",
      "  0%|          | 0/2 [00:00<?, ?it/s]\u001b[A"
     ]
    },
    {
     "name": "stdout",
     "output_type": "stream",
     "text": [
      "Working with disease  antibiotics\n"
     ]
    },
    {
     "name": "stderr",
     "output_type": "stream",
     "text": [
      "\n",
      " 50%|█████     | 1/2 [00:11<00:11, 11.50s/it]\u001b[A"
     ]
    },
    {
     "name": "stdout",
     "output_type": "stream",
     "text": [
      "Working with disease  antiallergic\n"
     ]
    },
    {
     "name": "stderr",
     "output_type": "stream",
     "text": [
      "\n",
      " 81%|████████  | 60/74 [1:50:56<50:46, 217.59s/it]\n",
      "  0%|          | 0/2 [00:00<?, ?it/s]\u001b[A"
     ]
    },
    {
     "name": "stdout",
     "output_type": "stream",
     "text": [
      "Working with disease  antibiotics\n"
     ]
    },
    {
     "name": "stderr",
     "output_type": "stream",
     "text": [
      "\n",
      " 50%|█████     | 1/2 [00:12<00:12, 12.11s/it]\u001b[A"
     ]
    },
    {
     "name": "stdout",
     "output_type": "stream",
     "text": [
      "Working with disease  antiallergic\n"
     ]
    },
    {
     "name": "stderr",
     "output_type": "stream",
     "text": [
      "\n",
      " 82%|████████▏ | 61/74 [1:54:53<48:25, 223.51s/it]\n",
      "  0%|          | 0/2 [00:00<?, ?it/s]\u001b[A"
     ]
    },
    {
     "name": "stdout",
     "output_type": "stream",
     "text": [
      "Working with disease  antibiotics\n"
     ]
    },
    {
     "name": "stderr",
     "output_type": "stream",
     "text": [
      "\n",
      " 50%|█████     | 1/2 [00:11<00:11, 11.85s/it]\u001b[A"
     ]
    },
    {
     "name": "stdout",
     "output_type": "stream",
     "text": [
      "Working with disease  antiallergic\n"
     ]
    },
    {
     "name": "stderr",
     "output_type": "stream",
     "text": [
      "\n",
      " 84%|████████▍ | 62/74 [1:58:43<45:05, 225.44s/it]\n",
      "  0%|          | 0/2 [00:00<?, ?it/s]\u001b[A"
     ]
    },
    {
     "name": "stdout",
     "output_type": "stream",
     "text": [
      "Working with disease  antibiotics\n"
     ]
    },
    {
     "name": "stderr",
     "output_type": "stream",
     "text": [
      "\n",
      " 50%|█████     | 1/2 [00:12<00:12, 12.84s/it]\u001b[A"
     ]
    },
    {
     "name": "stdout",
     "output_type": "stream",
     "text": [
      "Working with disease  antiallergic\n"
     ]
    },
    {
     "name": "stderr",
     "output_type": "stream",
     "text": [
      "\n",
      " 85%|████████▌ | 63/74 [2:02:51<42:31, 231.99s/it]\n",
      "  0%|          | 0/2 [00:00<?, ?it/s]\u001b[A"
     ]
    },
    {
     "name": "stdout",
     "output_type": "stream",
     "text": [
      "Working with disease  antibiotics\n"
     ]
    },
    {
     "name": "stderr",
     "output_type": "stream",
     "text": [
      "\n",
      " 50%|█████     | 1/2 [00:11<00:11, 11.84s/it]\u001b[A"
     ]
    },
    {
     "name": "stdout",
     "output_type": "stream",
     "text": [
      "Working with disease  antiallergic\n"
     ]
    },
    {
     "name": "stderr",
     "output_type": "stream",
     "text": [
      "\n",
      " 86%|████████▋ | 64/74 [2:06:45<38:45, 232.59s/it]\n",
      "  0%|          | 0/2 [00:00<?, ?it/s]\u001b[A"
     ]
    },
    {
     "name": "stdout",
     "output_type": "stream",
     "text": [
      "Working with disease  antibiotics\n"
     ]
    },
    {
     "name": "stderr",
     "output_type": "stream",
     "text": [
      "\n",
      " 50%|█████     | 1/2 [00:10<00:10, 10.62s/it]\u001b[A"
     ]
    },
    {
     "name": "stdout",
     "output_type": "stream",
     "text": [
      "Working with disease  antiallergic\n"
     ]
    },
    {
     "name": "stderr",
     "output_type": "stream",
     "text": [
      "\n",
      " 88%|████████▊ | 65/74 [2:10:30<34:34, 230.52s/it]\n",
      "  0%|          | 0/2 [00:00<?, ?it/s]\u001b[A"
     ]
    },
    {
     "name": "stdout",
     "output_type": "stream",
     "text": [
      "Working with disease  antibiotics\n"
     ]
    },
    {
     "name": "stderr",
     "output_type": "stream",
     "text": [
      "\n",
      " 50%|█████     | 1/2 [00:12<00:12, 12.22s/it]\u001b[A"
     ]
    },
    {
     "name": "stdout",
     "output_type": "stream",
     "text": [
      "Working with disease  antiallergic\n"
     ]
    },
    {
     "name": "stderr",
     "output_type": "stream",
     "text": [
      "\n",
      " 89%|████████▉ | 66/74 [2:14:24<30:51, 231.44s/it]\n",
      "  0%|          | 0/2 [00:00<?, ?it/s]\u001b[A"
     ]
    },
    {
     "name": "stdout",
     "output_type": "stream",
     "text": [
      "Working with disease  antibiotics\n"
     ]
    },
    {
     "name": "stderr",
     "output_type": "stream",
     "text": [
      "\n",
      " 50%|█████     | 1/2 [00:11<00:11, 11.39s/it]\u001b[A"
     ]
    },
    {
     "name": "stdout",
     "output_type": "stream",
     "text": [
      "Working with disease  antiallergic\n"
     ]
    },
    {
     "name": "stderr",
     "output_type": "stream",
     "text": [
      "\n",
      " 91%|█████████ | 67/74 [2:18:17<27:03, 231.88s/it]\n",
      "  0%|          | 0/2 [00:00<?, ?it/s]\u001b[A"
     ]
    },
    {
     "name": "stdout",
     "output_type": "stream",
     "text": [
      "Working with disease  antibiotics\n"
     ]
    },
    {
     "name": "stderr",
     "output_type": "stream",
     "text": [
      "\n",
      " 50%|█████     | 1/2 [00:10<00:10, 10.53s/it]\u001b[A"
     ]
    },
    {
     "name": "stdout",
     "output_type": "stream",
     "text": [
      "Working with disease  antiallergic\n"
     ]
    },
    {
     "name": "stderr",
     "output_type": "stream",
     "text": [
      "\n",
      " 92%|█████████▏| 68/74 [2:22:00<22:56, 229.35s/it]\n",
      "  0%|          | 0/2 [00:00<?, ?it/s]\u001b[A"
     ]
    },
    {
     "name": "stdout",
     "output_type": "stream",
     "text": [
      "Working with disease  antibiotics\n"
     ]
    },
    {
     "name": "stderr",
     "output_type": "stream",
     "text": [
      "\n",
      " 50%|█████     | 1/2 [00:11<00:11, 11.50s/it]\u001b[A"
     ]
    },
    {
     "name": "stdout",
     "output_type": "stream",
     "text": [
      "Working with disease  antiallergic\n"
     ]
    },
    {
     "name": "stderr",
     "output_type": "stream",
     "text": [
      "\n",
      " 93%|█████████▎| 69/74 [2:25:52<19:10, 230.01s/it]\n",
      "  0%|          | 0/2 [00:00<?, ?it/s]\u001b[A"
     ]
    },
    {
     "name": "stdout",
     "output_type": "stream",
     "text": [
      "Working with disease  antibiotics\n"
     ]
    },
    {
     "name": "stderr",
     "output_type": "stream",
     "text": [
      "\n",
      " 50%|█████     | 1/2 [00:10<00:10, 10.96s/it]\u001b[A"
     ]
    },
    {
     "name": "stdout",
     "output_type": "stream",
     "text": [
      "Working with disease  antiallergic\n"
     ]
    },
    {
     "name": "stderr",
     "output_type": "stream",
     "text": [
      "\n",
      " 95%|█████████▍| 70/74 [2:29:45<15:23, 230.96s/it]\n",
      "  0%|          | 0/2 [00:00<?, ?it/s]\u001b[A"
     ]
    },
    {
     "name": "stdout",
     "output_type": "stream",
     "text": [
      "Working with disease  antibiotics\n"
     ]
    },
    {
     "name": "stderr",
     "output_type": "stream",
     "text": [
      "\n",
      " 50%|█████     | 1/2 [00:11<00:11, 11.01s/it]\u001b[A"
     ]
    },
    {
     "name": "stdout",
     "output_type": "stream",
     "text": [
      "Working with disease  antiallergic\n"
     ]
    },
    {
     "name": "stderr",
     "output_type": "stream",
     "text": [
      "\n",
      " 96%|█████████▌| 71/74 [2:33:35<11:32, 230.79s/it]\n",
      "  0%|          | 0/2 [00:00<?, ?it/s]\u001b[A"
     ]
    },
    {
     "name": "stdout",
     "output_type": "stream",
     "text": [
      "Working with disease  antibiotics\n"
     ]
    },
    {
     "name": "stderr",
     "output_type": "stream",
     "text": [
      "\n",
      " 50%|█████     | 1/2 [00:11<00:11, 11.13s/it]\u001b[A"
     ]
    },
    {
     "name": "stdout",
     "output_type": "stream",
     "text": [
      "Working with disease  antiallergic\n"
     ]
    },
    {
     "name": "stderr",
     "output_type": "stream",
     "text": [
      "\n",
      " 97%|█████████▋| 72/74 [2:37:30<07:44, 232.06s/it]\n",
      "  0%|          | 0/2 [00:00<?, ?it/s]\u001b[A"
     ]
    },
    {
     "name": "stdout",
     "output_type": "stream",
     "text": [
      "Working with disease  antibiotics\n"
     ]
    },
    {
     "name": "stderr",
     "output_type": "stream",
     "text": [
      "\n",
      " 50%|█████     | 1/2 [00:10<00:10, 10.98s/it]\u001b[A"
     ]
    },
    {
     "name": "stdout",
     "output_type": "stream",
     "text": [
      "Working with disease  antiallergic\n"
     ]
    },
    {
     "name": "stderr",
     "output_type": "stream",
     "text": [
      "\n",
      " 99%|█████████▊| 73/74 [2:41:22<03:51, 231.94s/it]\n",
      "  0%|          | 0/2 [00:00<?, ?it/s]\u001b[A"
     ]
    },
    {
     "name": "stdout",
     "output_type": "stream",
     "text": [
      "Working with disease  antibiotics\n"
     ]
    },
    {
     "name": "stderr",
     "output_type": "stream",
     "text": [
      "\n",
      " 50%|█████     | 1/2 [00:10<00:10, 10.97s/it]\u001b[A"
     ]
    },
    {
     "name": "stdout",
     "output_type": "stream",
     "text": [
      "Working with disease  antiallergic\n"
     ]
    },
    {
     "name": "stderr",
     "output_type": "stream",
     "text": [
      "\n",
      "100%|██████████| 74/74 [2:45:06<00:00, 229.57s/it]\n"
     ]
    }
   ],
   "source": [
    "for f in tqdm(files[53:]):\n",
    "    month = f.split('/')[-1].split('.')[0]\n",
    "    logging.debug(\"Working with month  \" + month)\n",
    "    if int(month) > 201906:\n",
    "        old = False\n",
    "    else:\n",
    "        old = True\n",
    "    \n",
    "    monthly_borough_dosage_new[month] = {}\n",
    "    monthly_borough_costs_new[month] = {}\n",
    "    pdp = pd.read_csv(f,compression='gzip')\n",
    "    for disease in tqdm(disease_drug_map):\n",
    "        print \"Working with disease  \" + disease\n",
    "        logging.debug(\"Working with disease  \" + disease)\n",
    "        monthly_borough_dosage_new[month][disease] = {}\n",
    "        monthly_borough_costs_new[month][disease] = {}\n",
    "        drugs = disease_drug_map[disease]\n",
    "        opioids = pdp.loc[pdp['16'].isin(drugs)] #Original opioids\n",
    "\n",
    "        monthly_borough_dosage_new[month][disease] , monthly_borough_costs_new[month][disease] = calculateTemporalMetrics_LSOA(opioids, old)\n",
    "   "
   ]
  },
  {
   "cell_type": "code",
   "execution_count": 73,
   "metadata": {
    "ExecuteTime": {
     "end_time": "2021-06-04T12:58:27.181567Z",
     "start_time": "2021-06-04T12:58:27.059819Z"
    }
   },
   "outputs": [
    {
     "data": {
      "text/html": [
       "<div>\n",
       "<style scoped>\n",
       "    .dataframe tbody tr th:only-of-type {\n",
       "        vertical-align: middle;\n",
       "    }\n",
       "\n",
       "    .dataframe tbody tr th {\n",
       "        vertical-align: top;\n",
       "    }\n",
       "\n",
       "    .dataframe thead th {\n",
       "        text-align: right;\n",
       "    }\n",
       "</style>\n",
       "<table border=\"1\" class=\"dataframe\">\n",
       "  <thead>\n",
       "    <tr style=\"text-align: right;\">\n",
       "      <th></th>\n",
       "      <th>Unnamed: 0</th>\n",
       "      <th>YEAR_MONTH</th>\n",
       "      <th>REGIONAL_OFFICE_NAME</th>\n",
       "      <th>REGIONAL_OFFICE_CODE</th>\n",
       "      <th>STP_NAME</th>\n",
       "      <th>STP_CODE</th>\n",
       "      <th>PCO_NAME</th>\n",
       "      <th>PCO_CODE</th>\n",
       "      <th>PRACTICE_NAME</th>\n",
       "      <th>PRACTICE_CODE</th>\n",
       "      <th>...</th>\n",
       "      <th>12</th>\n",
       "      <th>13</th>\n",
       "      <th>14</th>\n",
       "      <th>15</th>\n",
       "      <th>16</th>\n",
       "      <th>17</th>\n",
       "      <th>18</th>\n",
       "      <th>19</th>\n",
       "      <th>20</th>\n",
       "      <th>21</th>\n",
       "    </tr>\n",
       "  </thead>\n",
       "  <tbody>\n",
       "    <tr>\n",
       "      <th>0</th>\n",
       "      <td>0</td>\n",
       "      <td>202102</td>\n",
       "      <td>SOUTH EAST</td>\n",
       "      <td>Y59</td>\n",
       "      <td>BUCKS, OXFORDSHIRE &amp; BERKSHIRE WEST STP</td>\n",
       "      <td>QU9</td>\n",
       "      <td>OXFORDSHIRE CCG</td>\n",
       "      <td>10Q00</td>\n",
       "      <td>MORLAND HOUSE SURGERY</td>\n",
       "      <td>K84014</td>\n",
       "      <td>...</td>\n",
       "      <td>NaN</td>\n",
       "      <td>NaN</td>\n",
       "      <td>NaN</td>\n",
       "      <td>0.0</td>\n",
       "      <td>130201100</td>\n",
       "      <td>500.0</td>\n",
       "      <td>1.0</td>\n",
       "      <td>500.0</td>\n",
       "      <td>BB</td>\n",
       "      <td>0.0</td>\n",
       "    </tr>\n",
       "    <tr>\n",
       "      <th>1</th>\n",
       "      <td>1</td>\n",
       "      <td>202102</td>\n",
       "      <td>SOUTH EAST</td>\n",
       "      <td>Y59</td>\n",
       "      <td>BUCKS, OXFORDSHIRE &amp; BERKSHIRE WEST STP</td>\n",
       "      <td>QU9</td>\n",
       "      <td>OXFORDSHIRE CCG</td>\n",
       "      <td>10Q00</td>\n",
       "      <td>MORLAND HOUSE SURGERY</td>\n",
       "      <td>K84014</td>\n",
       "      <td>...</td>\n",
       "      <td>NaN</td>\n",
       "      <td>NaN</td>\n",
       "      <td>NaN</td>\n",
       "      <td>0.0</td>\n",
       "      <td>130201100</td>\n",
       "      <td>400.0</td>\n",
       "      <td>1.0</td>\n",
       "      <td>400.0</td>\n",
       "      <td>BB</td>\n",
       "      <td>0.0</td>\n",
       "    </tr>\n",
       "    <tr>\n",
       "      <th>2</th>\n",
       "      <td>2</td>\n",
       "      <td>202102</td>\n",
       "      <td>SOUTH EAST</td>\n",
       "      <td>Y59</td>\n",
       "      <td>BUCKS, OXFORDSHIRE &amp; BERKSHIRE WEST STP</td>\n",
       "      <td>QU9</td>\n",
       "      <td>OXFORDSHIRE CCG</td>\n",
       "      <td>10Q00</td>\n",
       "      <td>MORLAND HOUSE SURGERY</td>\n",
       "      <td>K84014</td>\n",
       "      <td>...</td>\n",
       "      <td>NaN</td>\n",
       "      <td>NaN</td>\n",
       "      <td>NaN</td>\n",
       "      <td>0.0</td>\n",
       "      <td>130201100</td>\n",
       "      <td>200.0</td>\n",
       "      <td>1.0</td>\n",
       "      <td>200.0</td>\n",
       "      <td>BB</td>\n",
       "      <td>0.0</td>\n",
       "    </tr>\n",
       "    <tr>\n",
       "      <th>3</th>\n",
       "      <td>3</td>\n",
       "      <td>202102</td>\n",
       "      <td>SOUTH EAST</td>\n",
       "      <td>Y59</td>\n",
       "      <td>BUCKS, OXFORDSHIRE &amp; BERKSHIRE WEST STP</td>\n",
       "      <td>QU9</td>\n",
       "      <td>OXFORDSHIRE CCG</td>\n",
       "      <td>10Q00</td>\n",
       "      <td>MORLAND HOUSE SURGERY</td>\n",
       "      <td>K84014</td>\n",
       "      <td>...</td>\n",
       "      <td>NaN</td>\n",
       "      <td>NaN</td>\n",
       "      <td>NaN</td>\n",
       "      <td>0.0</td>\n",
       "      <td>1303000AA</td>\n",
       "      <td>1000.0</td>\n",
       "      <td>1.0</td>\n",
       "      <td>1000.0</td>\n",
       "      <td>BC</td>\n",
       "      <td>0.0</td>\n",
       "    </tr>\n",
       "    <tr>\n",
       "      <th>4</th>\n",
       "      <td>4</td>\n",
       "      <td>202102</td>\n",
       "      <td>SOUTH EAST</td>\n",
       "      <td>Y59</td>\n",
       "      <td>BUCKS, OXFORDSHIRE &amp; BERKSHIRE WEST STP</td>\n",
       "      <td>QU9</td>\n",
       "      <td>OXFORDSHIRE CCG</td>\n",
       "      <td>10Q00</td>\n",
       "      <td>MORLAND HOUSE SURGERY</td>\n",
       "      <td>K84014</td>\n",
       "      <td>...</td>\n",
       "      <td>NaN</td>\n",
       "      <td>NaN</td>\n",
       "      <td>NaN</td>\n",
       "      <td>0.0</td>\n",
       "      <td>1303000AA</td>\n",
       "      <td>100.0</td>\n",
       "      <td>1.0</td>\n",
       "      <td>100.0</td>\n",
       "      <td>BC</td>\n",
       "      <td>0.0</td>\n",
       "    </tr>\n",
       "  </tbody>\n",
       "</table>\n",
       "<p>5 rows × 38 columns</p>\n",
       "</div>"
      ],
      "text/plain": [
       "   Unnamed: 0  YEAR_MONTH REGIONAL_OFFICE_NAME REGIONAL_OFFICE_CODE  \\\n",
       "0           0      202102           SOUTH EAST                  Y59   \n",
       "1           1      202102           SOUTH EAST                  Y59   \n",
       "2           2      202102           SOUTH EAST                  Y59   \n",
       "3           3      202102           SOUTH EAST                  Y59   \n",
       "4           4      202102           SOUTH EAST                  Y59   \n",
       "\n",
       "                                  STP_NAME STP_CODE         PCO_NAME PCO_CODE  \\\n",
       "0  BUCKS, OXFORDSHIRE & BERKSHIRE WEST STP      QU9  OXFORDSHIRE CCG    10Q00   \n",
       "1  BUCKS, OXFORDSHIRE & BERKSHIRE WEST STP      QU9  OXFORDSHIRE CCG    10Q00   \n",
       "2  BUCKS, OXFORDSHIRE & BERKSHIRE WEST STP      QU9  OXFORDSHIRE CCG    10Q00   \n",
       "3  BUCKS, OXFORDSHIRE & BERKSHIRE WEST STP      QU9  OXFORDSHIRE CCG    10Q00   \n",
       "4  BUCKS, OXFORDSHIRE & BERKSHIRE WEST STP      QU9  OXFORDSHIRE CCG    10Q00   \n",
       "\n",
       "           PRACTICE_NAME PRACTICE_CODE  ...   12   13   14   15         16  \\\n",
       "0  MORLAND HOUSE SURGERY        K84014  ...  NaN  NaN  NaN  0.0  130201100   \n",
       "1  MORLAND HOUSE SURGERY        K84014  ...  NaN  NaN  NaN  0.0  130201100   \n",
       "2  MORLAND HOUSE SURGERY        K84014  ...  NaN  NaN  NaN  0.0  130201100   \n",
       "3  MORLAND HOUSE SURGERY        K84014  ...  NaN  NaN  NaN  0.0  1303000AA   \n",
       "4  MORLAND HOUSE SURGERY        K84014  ...  NaN  NaN  NaN  0.0  1303000AA   \n",
       "\n",
       "       17   18      19  20   21  \n",
       "0   500.0  1.0   500.0  BB  0.0  \n",
       "1   400.0  1.0   400.0  BB  0.0  \n",
       "2   200.0  1.0   200.0  BB  0.0  \n",
       "3  1000.0  1.0  1000.0  BC  0.0  \n",
       "4   100.0  1.0   100.0  BC  0.0  \n",
       "\n",
       "[5 rows x 38 columns]"
      ]
     },
     "execution_count": 73,
     "metadata": {},
     "output_type": "execute_result"
    }
   ],
   "source": [
    "pdp.head(n=5)"
   ]
  },
  {
   "cell_type": "code",
   "execution_count": 74,
   "metadata": {
    "ExecuteTime": {
     "end_time": "2021-06-04T12:59:17.407174Z",
     "start_time": "2021-06-04T12:59:17.330898Z"
    }
   },
   "outputs": [
    {
     "data": {
      "text/plain": [
       "[u'E01009300',\n",
       " u'E01014080',\n",
       " u'E01014081',\n",
       " u'E01014082',\n",
       " u'E01014083',\n",
       " u'E01014084',\n",
       " u'E01014085',\n",
       " u'E01014086',\n",
       " u'E01014087',\n",
       " u'E01014088',\n",
       " u'E01014089',\n",
       " u'E01015977',\n",
       " u'E01015976',\n",
       " u'E01015975',\n",
       " u'E01015974',\n",
       " u'E01015973',\n",
       " u'E01015972',\n",
       " u'E01015971',\n",
       " u'E01015970',\n",
       " u'E01015979',\n",
       " u'E01015978',\n",
       " u'E01010259',\n",
       " u'E01010258',\n",
       " u'E01010251',\n",
       " u'E01010250',\n",
       " u'E01010253',\n",
       " u'E01010252',\n",
       " u'E01010255',\n",
       " u'E01010254',\n",
       " u'E01010257',\n",
       " u'E01010256',\n",
       " u'E01024308',\n",
       " u'E01024309',\n",
       " u'E01024300',\n",
       " u'E01024301',\n",
       " u'E01024302',\n",
       " u'E01024303',\n",
       " u'E01024304',\n",
       " u'E01024305',\n",
       " u'E01024306',\n",
       " u'E01024307',\n",
       " u'E01014928',\n",
       " u'E01030039',\n",
       " u'E01015029',\n",
       " u'E01015028',\n",
       " u'E01004235',\n",
       " u'E01015021',\n",
       " u'E01015020',\n",
       " u'E01015023',\n",
       " u'E01015022',\n",
       " u'E01015025',\n",
       " u'E01015024',\n",
       " u'E01015027',\n",
       " u'E01015026',\n",
       " u'E01022229',\n",
       " u'E01022228',\n",
       " u'E01022225',\n",
       " u'E01022224',\n",
       " u'E01022227',\n",
       " u'E01022226',\n",
       " u'E01022221',\n",
       " u'E01022220',\n",
       " u'E01022223',\n",
       " u'E01022222',\n",
       " u'E01008962',\n",
       " u'E01006408',\n",
       " u'E01008963',\n",
       " u'E01008960',\n",
       " u'E01008961',\n",
       " u'E01008966',\n",
       " u'E01008967',\n",
       " u'E01006403',\n",
       " u'E01030035',\n",
       " u'E01006402',\n",
       " u'E01030034',\n",
       " u'E01006401',\n",
       " u'E01006400',\n",
       " u'E01006407',\n",
       " u'E01006406',\n",
       " u'E01006405',\n",
       " u'E01006404',\n",
       " u'E01009824',\n",
       " u'E01009825',\n",
       " u'E01009826',\n",
       " u'E01009827',\n",
       " u'E01009820',\n",
       " u'E01009821',\n",
       " u'E01009822',\n",
       " u'E01009823',\n",
       " u'E01009828',\n",
       " u'E01009829',\n",
       " u'E01011705',\n",
       " u'E01029079',\n",
       " u'E01029078',\n",
       " u'E01029075',\n",
       " u'E01029074',\n",
       " u'E01029077',\n",
       " u'E01029076',\n",
       " u'E01029071',\n",
       " u'E01029070',\n",
       " u'E01029073',\n",
       " u'E01029072',\n",
       " u'E01022919',\n",
       " u'E01022918',\n",
       " u'E01022917',\n",
       " u'E01022916',\n",
       " u'E01022915',\n",
       " u'E01022914',\n",
       " u'E01022913',\n",
       " u'E01022911',\n",
       " u'E01022910',\n",
       " u'E01026210',\n",
       " u'E01026211',\n",
       " u'E01026212',\n",
       " u'E01026213',\n",
       " u'E01026214',\n",
       " u'E01026215',\n",
       " u'E01026218',\n",
       " u'E01026219',\n",
       " u'E01012349',\n",
       " u'E01012348',\n",
       " u'E01004421',\n",
       " u'E01004420',\n",
       " u'E01004427',\n",
       " u'E01004426',\n",
       " u'E01004425',\n",
       " u'E01004424',\n",
       " u'E01012341',\n",
       " u'E01012340',\n",
       " u'E01012343',\n",
       " u'E01012342',\n",
       " u'E01012345',\n",
       " u'E01012344',\n",
       " u'E01012347',\n",
       " u'E01012346',\n",
       " u'E01006409',\n",
       " u'E01008889',\n",
       " u'E01008888',\n",
       " u'E01008885',\n",
       " u'E01008884',\n",
       " u'E01008887',\n",
       " u'E01008886',\n",
       " u'E01008881',\n",
       " u'E01008880',\n",
       " u'E01008883',\n",
       " u'E01008882',\n",
       " u'E01012948',\n",
       " u'E01007163',\n",
       " u'E01029929',\n",
       " u'E01029928',\n",
       " u'E01029927',\n",
       " u'E01029926',\n",
       " u'E01029925',\n",
       " u'E01029923',\n",
       " u'E01029922',\n",
       " u'E01029921',\n",
       " u'E01029920',\n",
       " u'E01007160',\n",
       " u'E01007167',\n",
       " u'E01007166',\n",
       " u'E01007165',\n",
       " u'E01012947',\n",
       " u'E01007164',\n",
       " u'E01012946',\n",
       " u'E01030756',\n",
       " u'E01030757',\n",
       " u'E01030754',\n",
       " u'E01030755',\n",
       " u'E01030752',\n",
       " u'E01030753',\n",
       " u'E01030750',\n",
       " u'E01030751',\n",
       " u'E01030758',\n",
       " u'E01030759',\n",
       " u'E01031409',\n",
       " u'E01031408',\n",
       " u'E01031401',\n",
       " u'E01031400',\n",
       " u'E01031403',\n",
       " u'E01031402',\n",
       " u'E01031405',\n",
       " u'E01031404',\n",
       " u'E01031407',\n",
       " u'E01031406',\n",
       " u'E01032668',\n",
       " u'E01032669',\n",
       " u'E01032664',\n",
       " u'E01032665',\n",
       " u'E01032666',\n",
       " u'E01032667',\n",
       " u'E01032660',\n",
       " u'E01032661',\n",
       " u'E01032662',\n",
       " u'E01032663',\n",
       " u'E01023635',\n",
       " u'E01023634',\n",
       " u'E01023637',\n",
       " u'E01023636',\n",
       " u'E01023631',\n",
       " u'E01023630',\n",
       " u'E01023633',\n",
       " u'E01023632',\n",
       " u'E01007309',\n",
       " u'E01007308',\n",
       " u'E01023639',\n",
       " u'E01023638',\n",
       " u'E01033649',\n",
       " u'E01033648',\n",
       " u'E01018934',\n",
       " u'E01031278',\n",
       " u'E01018936',\n",
       " u'E01018937',\n",
       " u'E01018930',\n",
       " u'E01018931',\n",
       " u'E01018932',\n",
       " u'E01018933',\n",
       " u'E01018938',\n",
       " u'E01008306',\n",
       " u'E01008307',\n",
       " u'E01008304',\n",
       " u'E01008305',\n",
       " u'E01008302',\n",
       " u'E01008303',\n",
       " u'E01008300',\n",
       " u'E01008301',\n",
       " u'E01003392',\n",
       " u'E01008308',\n",
       " u'E01008309',\n",
       " u'E01033642',\n",
       " u'E01033645',\n",
       " u'E01033644',\n",
       " u'E01033647',\n",
       " u'E01033646',\n",
       " u'E01033139',\n",
       " u'E01033138',\n",
       " u'E01033137',\n",
       " u'E01033135',\n",
       " u'E01033133',\n",
       " u'E01033132',\n",
       " u'E01033131',\n",
       " u'E01033130',\n",
       " u'E01007875',\n",
       " u'E01007874',\n",
       " u'E01007877',\n",
       " u'E01007871',\n",
       " u'E01007870',\n",
       " u'E01007873',\n",
       " u'E01007872',\n",
       " u'E01007879',\n",
       " u'E01007878',\n",
       " u'E01005439',\n",
       " u'E01005438',\n",
       " u'E01005433',\n",
       " u'E01005432',\n",
       " u'E01005431',\n",
       " u'E01005430',\n",
       " u'E01005437',\n",
       " u'E01005436',\n",
       " u'E01005435',\n",
       " u'E01005434',\n",
       " u'E01010099',\n",
       " u'E01010098',\n",
       " u'E01010093',\n",
       " u'E01010092',\n",
       " u'E01010091',\n",
       " u'E01010090',\n",
       " u'E01010097',\n",
       " u'E01010096',\n",
       " u'E01010095',\n",
       " u'E01010094',\n",
       " u'E01004748',\n",
       " u'E01004749',\n",
       " u'E01004742',\n",
       " u'E01004743',\n",
       " u'E01004740',\n",
       " u'E01004741',\n",
       " u'E01004746',\n",
       " u'E01004747',\n",
       " u'E01004744',\n",
       " u'E01004745',\n",
       " u'W01000252',\n",
       " u'W01000250',\n",
       " u'W01000251',\n",
       " u'W01000256',\n",
       " u'W01000257',\n",
       " u'W01000255',\n",
       " u'E01016938',\n",
       " u'E01016939',\n",
       " u'E01016936',\n",
       " u'E01016937',\n",
       " u'E01016934',\n",
       " u'E01016935',\n",
       " u'E01016932',\n",
       " u'E01016933',\n",
       " u'E01016930',\n",
       " u'E01016931',\n",
       " u'E01011050',\n",
       " u'E01011051',\n",
       " u'E01011052',\n",
       " u'E01011053',\n",
       " u'E01011054',\n",
       " u'E01011055',\n",
       " u'E01011056',\n",
       " u'E01011057',\n",
       " u'E01011058',\n",
       " u'E01011059',\n",
       " u'E01019605',\n",
       " u'E01019604',\n",
       " u'E01019607',\n",
       " u'E01019606',\n",
       " u'E01019601',\n",
       " u'E01019600',\n",
       " u'E01019603',\n",
       " u'E01019602',\n",
       " u'E01027329',\n",
       " u'E01027328',\n",
       " u'E01019609',\n",
       " u'E01019608',\n",
       " u'E01000119',\n",
       " u'E01000118',\n",
       " u'E01000113',\n",
       " u'E01000112',\n",
       " u'E01000111',\n",
       " u'E01000110',\n",
       " u'E01000117',\n",
       " u'E01000116',\n",
       " u'E01000115',\n",
       " u'E01000114',\n",
       " u'E01007468',\n",
       " u'E01007469',\n",
       " u'E01007462',\n",
       " u'E01007463',\n",
       " u'E01007460',\n",
       " u'E01007461',\n",
       " u'E01007466',\n",
       " u'E01007467',\n",
       " u'E01007464',\n",
       " u'E01007465',\n",
       " u'E01016200',\n",
       " u'E01016201',\n",
       " u'E01016202',\n",
       " u'E01016203',\n",
       " u'E01016204',\n",
       " u'E01016205',\n",
       " u'E01016206',\n",
       " u'E01016207',\n",
       " u'E01016208',\n",
       " u'E01016209',\n",
       " u'E01026052',\n",
       " u'E01026053',\n",
       " u'E01026050',\n",
       " u'E01026051',\n",
       " u'E01026056',\n",
       " u'E01026057',\n",
       " u'E01026054',\n",
       " u'E01026055',\n",
       " u'E01026058',\n",
       " u'E01026059',\n",
       " u'E01028234',\n",
       " u'E01028235',\n",
       " u'E01028236',\n",
       " u'E01021586',\n",
       " u'E01028230',\n",
       " u'E01028231',\n",
       " u'E01028232',\n",
       " u'E01021582',\n",
       " u'E01024560',\n",
       " u'E01024561',\n",
       " u'E01024562',\n",
       " u'E01024563',\n",
       " u'E01028238',\n",
       " u'E01028239',\n",
       " u'E01024566',\n",
       " u'E01024567',\n",
       " u'E01009939',\n",
       " u'E01025273',\n",
       " u'E01026588',\n",
       " u'E01026589',\n",
       " u'E01026580',\n",
       " u'E01026581',\n",
       " u'E01026582',\n",
       " u'E01026583',\n",
       " u'E01026584',\n",
       " u'E01026585',\n",
       " u'E01026586',\n",
       " u'E01026587',\n",
       " u'E01025272',\n",
       " u'E01024698',\n",
       " u'E01024699',\n",
       " u'E01024696',\n",
       " u'E01024697',\n",
       " u'E01024694',\n",
       " u'E01024695',\n",
       " u'E01024692',\n",
       " u'E01024693',\n",
       " u'E01024690',\n",
       " u'E01024691',\n",
       " u'E01025271',\n",
       " u'E01013184',\n",
       " u'E01013185',\n",
       " u'E01013186',\n",
       " u'E01013187',\n",
       " u'E01013180',\n",
       " u'E01013181',\n",
       " u'E01013182',\n",
       " u'E01013183',\n",
       " u'E01013188',\n",
       " u'E01013189',\n",
       " u'E01025270',\n",
       " u'E01015494',\n",
       " u'E01006641',\n",
       " u'E01015497',\n",
       " u'E01015490',\n",
       " u'E01015491',\n",
       " u'E01015493',\n",
       " u'E01009385',\n",
       " u'E01021059',\n",
       " u'E01021058',\n",
       " u'E01021053',\n",
       " u'E01021052',\n",
       " u'E01021051',\n",
       " u'E01021050',\n",
       " u'E01021057',\n",
       " u'E01021056',\n",
       " u'E01021055',\n",
       " u'E01021054',\n",
       " u'E01009384',\n",
       " u'E01025772',\n",
       " u'E01025773',\n",
       " u'E01025770',\n",
       " u'E01025771',\n",
       " u'E01025776',\n",
       " u'E01025777',\n",
       " u'E01025774',\n",
       " u'E01025775',\n",
       " u'E01025778',\n",
       " u'E01025779',\n",
       " u'E01009380',\n",
       " u'E01026870',\n",
       " u'E01026871',\n",
       " u'E01026872',\n",
       " u'E01026873',\n",
       " u'E01026874',\n",
       " u'E01026875',\n",
       " u'E01026876',\n",
       " u'E01026877',\n",
       " u'E01026878',\n",
       " u'E01026879',\n",
       " u'E01005682',\n",
       " u'E01025337',\n",
       " u'E01030824',\n",
       " u'E01030825',\n",
       " u'E01030826',\n",
       " u'E01030827',\n",
       " u'E01030820',\n",
       " u'E01030821',\n",
       " u'E01030822',\n",
       " u'E01030823',\n",
       " u'E01030828',\n",
       " u'E01030829',\n",
       " u'E01025334',\n",
       " u'E01014869',\n",
       " u'E01008148',\n",
       " u'E01008149',\n",
       " u'E01023349',\n",
       " u'E01023348',\n",
       " u'E01008140',\n",
       " u'E01008141',\n",
       " u'E01008142',\n",
       " u'E01023346',\n",
       " u'E01008144',\n",
       " u'E01008145',\n",
       " u'E01008146',\n",
       " u'E01008147',\n",
       " u'E01025335',\n",
       " u'E01011939',\n",
       " u'E01011938',\n",
       " u'E01011937',\n",
       " u'E01011936',\n",
       " u'E01011935',\n",
       " u'E01011934',\n",
       " u'E01011933',\n",
       " u'E01011932',\n",
       " u'E01011931',\n",
       " u'E01011930',\n",
       " u'E01023969',\n",
       " u'E01023968',\n",
       " u'E01009389',\n",
       " u'E01023961',\n",
       " u'E01023960',\n",
       " u'E01023963',\n",
       " u'E01023962',\n",
       " u'E01023965',\n",
       " u'E01023964',\n",
       " u'E01023967',\n",
       " u'E01023966',\n",
       " u'E01027048',\n",
       " u'E01027049',\n",
       " u'E01027042',\n",
       " u'E01027043',\n",
       " u'E01027040',\n",
       " u'E01027041',\n",
       " u'E01027046',\n",
       " u'E01027047',\n",
       " u'E01027044',\n",
       " u'E01027045',\n",
       " u'E01031889',\n",
       " u'E01031888',\n",
       " u'E01031885',\n",
       " u'E01031884',\n",
       " u'E01005637',\n",
       " u'E01031886',\n",
       " u'E01005631',\n",
       " u'E01031880',\n",
       " u'E01031883',\n",
       " u'E01031882',\n",
       " u'E01033038',\n",
       " u'E01033039',\n",
       " u'E01033036',\n",
       " u'E01033037',\n",
       " u'E01033034',\n",
       " u'E01033035',\n",
       " u'E01033032',\n",
       " u'E01033033',\n",
       " u'E01033030',\n",
       " u'E01033031',\n",
       " u'E01002173',\n",
       " u'E01002172',\n",
       " u'E01002171',\n",
       " u'E01002170',\n",
       " u'E01002177',\n",
       " u'E01002176',\n",
       " u'E01002175',\n",
       " u'E01002174',\n",
       " u'E01002179',\n",
       " u'E01002178',\n",
       " u'E01005183',\n",
       " u'E01005182',\n",
       " u'E01005181',\n",
       " u'E01005180',\n",
       " u'E01005187',\n",
       " u'E01005186',\n",
       " u'E01005185',\n",
       " u'E01005184',\n",
       " u'E01005189',\n",
       " u'E01005188',\n",
       " u'E01004588',\n",
       " u'E01004589',\n",
       " u'E01028179',\n",
       " u'E01028178',\n",
       " u'E01028177',\n",
       " u'E01028176',\n",
       " u'E01028175',\n",
       " u'E01028174',\n",
       " u'E01028173',\n",
       " u'E01004581',\n",
       " u'E01004582',\n",
       " u'E01028170',\n",
       " u'W01000498',\n",
       " u'W01000497',\n",
       " u'E01008927',\n",
       " u'E01008924',\n",
       " u'E01008925',\n",
       " u'E01008923',\n",
       " u'E01008920',\n",
       " u'E01008921',\n",
       " u'E01008928',\n",
       " u'E01008929',\n",
       " u'E01023167',\n",
       " u'E01023166',\n",
       " u'E01023169',\n",
       " u'E01023168',\n",
       " u'E01008703',\n",
       " u'E01030454',\n",
       " u'E01024135',\n",
       " u'E01030456',\n",
       " u'E01024133',\n",
       " u'E01024132',\n",
       " u'E01024131',\n",
       " u'E01024130',\n",
       " u'E01031306',\n",
       " u'E01031307',\n",
       " u'E01031304',\n",
       " u'E01031305',\n",
       " u'E01031302',\n",
       " u'E01031303',\n",
       " u'E01020089',\n",
       " u'E01031301',\n",
       " u'E01020087',\n",
       " u'E01020086',\n",
       " u'E01020085',\n",
       " u'E01020084',\n",
       " u'E01020083',\n",
       " u'E01020082',\n",
       " u'E01020081',\n",
       " u'E01031309',\n",
       " u'E01020555',\n",
       " u'E01020554',\n",
       " u'E01020557',\n",
       " u'E01000460',\n",
       " u'E01020551',\n",
       " u'E01000466',\n",
       " u'E01020553',\n",
       " u'E01020552',\n",
       " u'E01000469',\n",
       " u'E01000468',\n",
       " u'E01020559',\n",
       " u'E01020558',\n",
       " u'E01007112',\n",
       " u'E01007113',\n",
       " u'E01007110',\n",
       " u'E01007111',\n",
       " u'E01007116',\n",
       " u'E01007117',\n",
       " u'E01007114',\n",
       " u'E01029114',\n",
       " u'E01007118',\n",
       " u'E01007119',\n",
       " u'E01032149',\n",
       " u'E01032148',\n",
       " u'E01032141',\n",
       " u'E01032140',\n",
       " u'E01032143',\n",
       " u'E01032142',\n",
       " u'E01032145',\n",
       " u'E01032144',\n",
       " u'E01032147',\n",
       " u'E01032146',\n",
       " u'E01018871',\n",
       " u'E01018870',\n",
       " u'E01018873',\n",
       " u'E01018872',\n",
       " u'E01018875',\n",
       " u'E01018874',\n",
       " u'E01018877',\n",
       " u'E01018876',\n",
       " u'E01018879',\n",
       " u'E01018878',\n",
       " u'E01004423',\n",
       " u'E01004422',\n",
       " u'E01029115',\n",
       " u'E01003004',\n",
       " u'E01003005',\n",
       " u'E01003006',\n",
       " u'E01003349',\n",
       " u'E01003348',\n",
       " u'E01003343',\n",
       " u'E01003342',\n",
       " u'E01003341',\n",
       " u'E01003340',\n",
       " u'E01003347',\n",
       " u'E01003346',\n",
       " u'E01003345',\n",
       " u'E01003344',\n",
       " u'E01019837',\n",
       " u'E01019834',\n",
       " u'E01019835',\n",
       " u'E01019832',\n",
       " u'E01019833',\n",
       " u'E01019830',\n",
       " u'E01019831',\n",
       " u'E01002432',\n",
       " u'E01002433',\n",
       " u'E01002430',\n",
       " u'E01002431',\n",
       " u'E01002436',\n",
       " u'E01002437',\n",
       " u'E01019838',\n",
       " u'E01019839',\n",
       " u'E01006234',\n",
       " u'E01006235',\n",
       " u'E01006236',\n",
       " u'E01013962',\n",
       " u'E01013963',\n",
       " u'E01013960',\n",
       " u'E01006237',\n",
       " u'E01013966',\n",
       " u'E01013967',\n",
       " u'E01013964',\n",
       " u'E01013965',\n",
       " u'E01006230',\n",
       " u'E01013968',\n",
       " u'E01013969',\n",
       " u'E01006231',\n",
       " u'E01006232',\n",
       " u'E01024901',\n",
       " u'E01010688',\n",
       " u'E01010689',\n",
       " u'E01010682',\n",
       " u'E01010683',\n",
       " u'E01010680',\n",
       " u'E01010681',\n",
       " u'E01010686',\n",
       " u'E01010687',\n",
       " u'E01010684',\n",
       " u'E01010685',\n",
       " u'E01018059',\n",
       " u'E01018058',\n",
       " u'E01018057',\n",
       " u'E01018056',\n",
       " u'E01018055',\n",
       " u'E01018054',\n",
       " u'E01018053',\n",
       " u'E01018052',\n",
       " u'E01018051',\n",
       " u'E01018050',\n",
       " u'E01010530',\n",
       " u'E01010531',\n",
       " u'E01010532',\n",
       " u'E01010533',\n",
       " u'E01010534',\n",
       " u'E01010535',\n",
       " u'E01010536',\n",
       " u'E01010537',\n",
       " u'E01010538',\n",
       " u'E01010539',\n",
       " u'E01024883',\n",
       " u'E01024882',\n",
       " u'E01024881',\n",
       " u'E01024880',\n",
       " u'E01024887',\n",
       " u'E01024886',\n",
       " u'E01024885',\n",
       " u'E01024884',\n",
       " u'E01024889',\n",
       " u'E01024888',\n",
       " u'E01009885',\n",
       " u'E01011485',\n",
       " u'E01011484',\n",
       " u'E01011483',\n",
       " u'E01011482',\n",
       " u'E01011481',\n",
       " u'E01011480',\n",
       " u'E01001473',\n",
       " u'E01001472',\n",
       " u'E01001471',\n",
       " u'E01001470',\n",
       " u'E01001477',\n",
       " u'E01001476',\n",
       " u'E01011489',\n",
       " u'E01011488',\n",
       " u'E01000708',\n",
       " u'E01000709',\n",
       " u'E01000702',\n",
       " u'E01000703',\n",
       " u'E01000700',\n",
       " u'E01000701',\n",
       " u'E01000706',\n",
       " u'E01000707',\n",
       " u'E01000704',\n",
       " u'E01000705',\n",
       " u'E01015478',\n",
       " u'E01015479',\n",
       " u'E01015472',\n",
       " u'E01015473',\n",
       " u'E01015471',\n",
       " u'E01015476',\n",
       " u'E01015477',\n",
       " u'E01015474',\n",
       " u'E01015475',\n",
       " u'E01027288',\n",
       " u'E01027289',\n",
       " u'E01027284',\n",
       " u'E01027285',\n",
       " u'E01027286',\n",
       " u'E01027287',\n",
       " u'E01027280',\n",
       " u'E01027281',\n",
       " u'E01027282',\n",
       " u'E01027283',\n",
       " u'E01026625',\n",
       " u'E01026624',\n",
       " u'E01026627',\n",
       " u'E01026626',\n",
       " u'E01026621',\n",
       " u'E01026620',\n",
       " u'E01026623',\n",
       " u'E01026622',\n",
       " u'E01026629',\n",
       " u'E01026628',\n",
       " u'E01021938',\n",
       " u'E01021939',\n",
       " u'E01026357',\n",
       " u'E01021930',\n",
       " u'E01021931',\n",
       " u'E01021932',\n",
       " u'E01021933',\n",
       " u'E01021934',\n",
       " u'E01021935',\n",
       " u'E01021936',\n",
       " u'E01021937',\n",
       " u'E01012178',\n",
       " u'E01012179',\n",
       " u'E01012176',\n",
       " u'E01012177',\n",
       " u'E01012174',\n",
       " u'E01012175',\n",
       " u'E01012172',\n",
       " u'E01012173',\n",
       " u'E01012170',\n",
       " u'E01012171',\n",
       " u'E01028371',\n",
       " u'E01028370',\n",
       " u'E01028373',\n",
       " u'E01028372',\n",
       " u'E01028375',\n",
       " u'E01028374',\n",
       " u'E01028377',\n",
       " u'E01028376',\n",
       " u'E01028379',\n",
       " u'E01028378',\n",
       " u'E01017236',\n",
       " u'E01017237',\n",
       " u'E01012798',\n",
       " u'E01012799',\n",
       " u'E01012792',\n",
       " u'E01012793',\n",
       " u'E01012790',\n",
       " u'E01012791',\n",
       " u'E01012796',\n",
       " u'E01012797',\n",
       " u'E01012794',\n",
       " u'E01012795',\n",
       " u'E01011188',\n",
       " u'E01013221',\n",
       " u'E01013220',\n",
       " u'E01013223',\n",
       " u'E01013222',\n",
       " u'E01013225',\n",
       " u'E01013224',\n",
       " u'E01013227',\n",
       " u'E01013226',\n",
       " u'E01013229',\n",
       " u'E01013228',\n",
       " u'E01014790',\n",
       " u'E01014792',\n",
       " u'E01014793',\n",
       " u'E01014794',\n",
       " u'E01014795',\n",
       " u'E01014796',\n",
       " u'E01014797',\n",
       " u'E01014798',\n",
       " u'E01014799',\n",
       " u'E01011182',\n",
       " u'E01021446',\n",
       " u'E01015402',\n",
       " u'E01017239',\n",
       " u'E01015401',\n",
       " u'E01011181',\n",
       " u'E01011186',\n",
       " u'E01011187',\n",
       " u'E01011184',\n",
       " u'E01011185',\n",
       " u'E01014246',\n",
       " u'E01014247',\n",
       " u'E01014244',\n",
       " u'E01014245',\n",
       " u'E01014242',\n",
       " u'E01014243',\n",
       " u'E01014240',\n",
       " u'E01014241',\n",
       " u'E01014248',\n",
       " u'E01014249',\n",
       " u'E01031148',\n",
       " u'E01031149',\n",
       " u'E01015428',\n",
       " u'E01031140',\n",
       " u'E01031141',\n",
       " u'E01031142',\n",
       " u'E01031143',\n",
       " u'E01031144',\n",
       " u'E01031145',\n",
       " u'E01031146',\n",
       " u'E01031147',\n",
       " u'E01027235',\n",
       " u'E01019756',\n",
       " u'E01027237',\n",
       " u'E01027236',\n",
       " u'E01027231',\n",
       " u'E01027230',\n",
       " u'E01027233',\n",
       " u'E01027232',\n",
       " u'E01020939',\n",
       " u'E01010949',\n",
       " u'E01010948',\n",
       " u'E01020715',\n",
       " u'E01020714',\n",
       " u'E01020713',\n",
       " u'E01020712',\n",
       " u'E01020711',\n",
       " u'E01020710',\n",
       " u'E01010941',\n",
       " u'E01010940',\n",
       " u'E01010943',\n",
       " u'E01010942',\n",
       " u'E01010945',\n",
       " u'E01010944',\n",
       " u'E01020719',\n",
       " u'E01020718',\n",
       " u'E01022719',\n",
       " u'E01022718',\n",
       " u'E01022715',\n",
       " u'E01022714',\n",
       " u'E01022717',\n",
       " u'E01022716',\n",
       " u'E01022711',\n",
       " u'E01020931',\n",
       " u'E01022713',\n",
       " u'E01022712',\n",
       " u'E01009428',\n",
       " u'E01009429',\n",
       " u'E01020930',\n",
       " u'E01005766',\n",
       " u'E01009420',\n",
       " u'E01009421',\n",
       " u'E01009422',\n",
       " u'E01009423',\n",
       " u'E01009424',\n",
       " u'E01009425',\n",
       " u'E01009426',\n",
       " u'E01009427',\n",
       " u'E01011301',\n",
       " u'E01005760',\n",
       " u'E01033306',\n",
       " u'E01029769',\n",
       " u'E01029768',\n",
       " u'E01029765',\n",
       " u'E01029764',\n",
       " u'E01029767',\n",
       " u'E01029766',\n",
       " u'E01029761',\n",
       " u'E01029760',\n",
       " u'E01029763',\n",
       " u'E01029762',\n",
       " u'E01003109',\n",
       " u'E01003108',\n",
       " u'E01003105',\n",
       " u'E01003104',\n",
       " u'E01003107',\n",
       " u'E01003106',\n",
       " u'E01003101',\n",
       " u'E01003100',\n",
       " u'E01003102',\n",
       " u'E01006558',\n",
       " u'E01006554',\n",
       " u'E01006557',\n",
       " u'E01006556',\n",
       " u'E01006551',\n",
       " u'E01006550',\n",
       " u'E01006553',\n",
       " u'E01006552',\n",
       " u'E01032558',\n",
       " u'E01032559',\n",
       " u'E01032556',\n",
       " u'E01032557',\n",
       " u'E01032554',\n",
       " u'E01032555',\n",
       " u'E01032552',\n",
       " u'E01032553',\n",
       " u'E01032550',\n",
       " u'E01032551',\n",
       " u'E01008481',\n",
       " u'E01008480',\n",
       " u'E01008483',\n",
       " u'E01008482',\n",
       " u'E01008485',\n",
       " u'E01008484',\n",
       " u'E01008487',\n",
       " u'E01008486',\n",
       " u'E01008489',\n",
       " u'E01008488',\n",
       " u'E01029189',\n",
       " u'E01029188',\n",
       " u'E01029181',\n",
       " u'E01029180',\n",
       " u'E01029183',\n",
       " u'E01029182',\n",
       " u'E01029185',\n",
       " u'E01029184',\n",
       " u'E01029187',\n",
       " u'E01029186',\n",
       " u'E01031926',\n",
       " u'E01031927',\n",
       " u'E01031924',\n",
       " u'E01031925',\n",
       " u'E01031922',\n",
       " u'E01031923',\n",
       " u'E01031920',\n",
       " u'E01031921',\n",
       " u'E01031928',\n",
       " u'E01031929',\n",
       " u'E01005819',\n",
       " u'E01005818',\n",
       " u'E01033200',\n",
       " u'E01033203',\n",
       " u'E01033202',\n",
       " u'E01033205',\n",
       " u'E01009995',\n",
       " u'E01033207',\n",
       " u'E01033206',\n",
       " ...]"
      ]
     },
     "execution_count": 74,
     "metadata": {},
     "output_type": "execute_result"
    }
   ],
   "source": [
    "monthly_borough_dosage_new['202002']['antiallergic'].keys()"
   ]
  },
  {
   "cell_type": "code",
   "execution_count": null,
   "metadata": {
    "ExecuteTime": {
     "end_time": "2021-06-04T12:59:56.184665Z",
     "start_time": "2021-06-04T12:58:59.631Z"
    },
    "collapsed": true
   },
   "outputs": [],
   "source": [
    "monthly_borough_dosage_new['202002']['antibiotics']['E01015028']"
   ]
  },
  {
   "cell_type": "code",
   "execution_count": 75,
   "metadata": {
    "ExecuteTime": {
     "end_time": "2021-06-04T12:59:58.878052Z",
     "start_time": "2021-06-04T12:59:58.867204Z"
    },
    "collapsed": true
   },
   "outputs": [],
   "source": [
    "monthly_borough_dosage_total= monthly_borough_dosage_new.copy()\n",
    "# for yyyymm in tqdm(monthly_borough_dosage_total):\n",
    "#     for d in monthly_borough_dosage_total[yyyymm]:\n",
    "#         for lsoa in  monthly_borough_dosage_total[yyyymm][d]:\n",
    "#             monthly_borough_dosage_total[yyyymm][d][lsoa] = (monthly_borough_dosage_total[yyyymm][d][lsoa]/1000.0)*LSOA_patient_pop[lsoa]"
   ]
  },
  {
   "cell_type": "code",
   "execution_count": 76,
   "metadata": {
    "ExecuteTime": {
     "end_time": "2021-06-04T13:04:33.139517Z",
     "start_time": "2021-06-04T13:01:06.420304Z"
    }
   },
   "outputs": [
    {
     "name": "stderr",
     "output_type": "stream",
     "text": [
      "100%|██████████| 2/2 [03:26<00:00, 102.95s/it]\n"
     ]
    }
   ],
   "source": [
    "for disease in tqdm(disease_drug_map.keys()):\n",
    "    disease_dict = {'YYYYMM':[] , 'LSOA_CODE' : [] , 'Total_prescriptions' : [] ,'Dosage_ratio' :[] , 'Patient_count' : []}\n",
    "    for yyyymm in monthly_borough_dosage_total:\n",
    "        for LSOA_CODE in monthly_borough_dosage_total[yyyymm][disease]:\n",
    "            if LSOA_CODE[0] == 'E':\n",
    "                disease_dict['YYYYMM'].append(yyyymm)\n",
    "                disease_dict['LSOA_CODE'].append(LSOA_CODE)\n",
    "                disease_dict['Total_prescriptions'].append(monthly_borough_dosage_total[yyyymm][disease][LSOA_CODE])\n",
    "                disease_dict['Dosage_ratio'].append(monthly_borough_costs_new[yyyymm][disease][LSOA_CODE])\n",
    "                disease_dict['Patient_count'].append(LSOA_patient_pop[LSOA_CODE])\n",
    "    disease_df = pd.DataFrame.from_dict(disease_dict)\n",
    "    filename = 'data_prep/'+disease+'_V2.csv.gz'\n",
    "    disease_df.to_csv(filename,index=False,compression='gzip')\n",
    "            "
   ]
  },
  {
   "cell_type": "code",
   "execution_count": null,
   "metadata": {
    "ExecuteTime": {
     "end_time": "2021-06-01T09:05:34.557448Z",
     "start_time": "2021-06-01T09:05:34.523001Z"
    },
    "collapsed": true
   },
   "outputs": [],
   "source": [
    "disease_drug_map"
   ]
  },
  {
   "cell_type": "code",
   "execution_count": null,
   "metadata": {
    "ExecuteTime": {
     "end_time": "2021-06-01T09:29:27.550595Z",
     "start_time": "2021-06-01T09:29:27.543090Z"
    },
    "collapsed": true
   },
   "outputs": [],
   "source": [
    "\n",
    "for bnf in disease_drug_map['anxiety']:\n",
    "    print(DiseaseDrugs[bnf])"
   ]
  },
  {
   "cell_type": "code",
   "execution_count": null,
   "metadata": {
    "ExecuteTime": {
     "end_time": "2021-05-28T19:02:52.175337Z",
     "start_time": "2021-05-28T19:02:52.168743Z"
    },
    "collapsed": true
   },
   "outputs": [],
   "source": [
    "# json.dump(monthly_borough_dosage_new,open('../mappings/pre_post_monthy_presc_pre072019.json','w'))"
   ]
  },
  {
   "cell_type": "code",
   "execution_count": null,
   "metadata": {
    "ExecuteTime": {
     "end_time": "2021-05-12T13:45:13.994722Z",
     "start_time": "2021-05-12T13:45:13.566480Z"
    },
    "collapsed": true
   },
   "outputs": [],
   "source": [
    "# json.dump(monthly_borough_costs_new,open('../mappings/pre_post_monthy_cost_pre072019.json','w'))"
   ]
  },
  {
   "cell_type": "code",
   "execution_count": null,
   "metadata": {
    "ExecuteTime": {
     "end_time": "2021-05-12T11:37:10.666310Z",
     "start_time": "2021-05-12T11:37:10.489651Z"
    },
    "collapsed": true
   },
   "outputs": [],
   "source": [
    "# json.dump(monthly_borough_dosage_new,open('../mappings/pre_post_monthy_presc_post072019.json','w'))"
   ]
  },
  {
   "cell_type": "code",
   "execution_count": null,
   "metadata": {
    "ExecuteTime": {
     "end_time": "2021-05-12T11:37:33.170442Z",
     "start_time": "2021-05-12T11:37:33.162580Z"
    },
    "collapsed": true
   },
   "outputs": [],
   "source": [
    "# json.dump(monthly_borough_costs_new,open('../mappings/pre_post_monthy_cost_post072019.json','w'))"
   ]
  },
  {
   "cell_type": "code",
   "execution_count": null,
   "metadata": {
    "ExecuteTime": {
     "end_time": "2021-05-12T13:47:44.072755Z",
     "start_time": "2021-05-12T13:47:43.902375Z"
    },
    "collapsed": true
   },
   "outputs": [],
   "source": [
    "monthly_dosage_BL = json.load(open('../mappings/pre_post_monthy_presc_pre072019.json','r'))\n",
    "monthly_dosage_COVID = json.load(open('../mappings/pre_post_monthy_presc_post072019.json','r'))"
   ]
  },
  {
   "cell_type": "code",
   "execution_count": null,
   "metadata": {
    "ExecuteTime": {
     "end_time": "2021-05-12T13:47:52.133305Z",
     "start_time": "2021-05-12T13:47:52.124687Z"
    },
    "collapsed": true
   },
   "outputs": [],
   "source": [
    "monthly_dosage_COVID['202001'].keys()"
   ]
  },
  {
   "cell_type": "code",
   "execution_count": null,
   "metadata": {
    "ExecuteTime": {
     "end_time": "2021-05-12T13:48:27.007799Z",
     "start_time": "2021-05-12T13:48:26.995285Z"
    },
    "collapsed": true
   },
   "outputs": [],
   "source": [
    "BL_months = [\n",
    "             #['201101', '201102', '201103', '201104', '201105', '201106', '201107', '201108', '201109', '201110', '201111', '201112'],\n",
    "             #['201201', '201202', '201203', '201204', '201205', '201206', '201207', '201208', '201209', '201210', '201211', '201212'],\n",
    "             #['201301', '201302', '201303', '201304', '201305', '201306', '201307', '201308', '201309', '201310', '201311', '201312'],\n",
    "             #['201401', '201402', '201403', '201404', '201405', '201406', '201407', '201408', '201409', '201410', '201411', '201412'],\n",
    "             ['201501', '201502', '201503', '201504', '201505', '201506', '201507', '201508', '201509', '201510', '201511', '201512'],\n",
    "             ['201601', '201602', '201603', '201604', '201605', '201606', '201607', '201608', '201609', '201610', '201611', '201612'],\n",
    "             ['201701', '201702', '201703', '201704', '201705', '201706', '201707', '201708', '201709', '201710', '201711', '201712'],\n",
    "             ['201801', '201802', '201803', '201804', '201805', '201806', '201807', '201808', '201809', '201810', '201811', '201812']]\n",
    "#             \n",
    "\n",
    "COVID_months = ['202001', '202002', '202003', '202004', '202005', '202006', '202007', '202008', '202009', '202010', '202011', '202012']"
   ]
  },
  {
   "cell_type": "code",
   "execution_count": null,
   "metadata": {
    "ExecuteTime": {
     "end_time": "2021-05-12T13:48:41.809560Z",
     "start_time": "2021-05-12T13:48:41.804150Z"
    },
    "collapsed": true
   },
   "outputs": [],
   "source": [
    "print sorted(monthly_dosage_COVID['202007']['diabetes'].keys())"
   ]
  },
  {
   "cell_type": "code",
   "execution_count": null,
   "metadata": {
    "ExecuteTime": {
     "end_time": "2021-05-19T14:17:29.284037Z",
     "start_time": "2021-05-19T14:17:29.249090Z"
    },
    "collapsed": true
   },
   "outputs": [],
   "source": [
    "from collections import OrderedDict\n",
    "\n",
    "d_l = ['anxiety',\n",
    " 'heart failure',\n",
    " 'rheumatoid',\n",
    " 'epilepsy',\n",
    " 'dementia',\n",
    " 'stroke',\n",
    " 'hypertension',\n",
    " 'diabetes',\n",
    " 'chronic obstructive pulmonary disease',\n",
    "#  'obesity',\n",
    " 'coronary artery disease',\n",
    "#  'kidney disease',\n",
    " 'depression',\n",
    " 'osteoporosis']\n",
    "\n",
    "# d_l = ['anxiety',\n",
    "#  'depression']\n",
    "month_names = ['Jan','Feb','Mar','Apr','May','Jun','Jul','Aug','Sep','Oct','Nov','Dec']\n",
    "# selected_disease = 'stroke'\n",
    "city = 'London'\n",
    "\n",
    "diseaseStats = {}\n",
    "for d in d_l:\n",
    "    selected_disease = d\n",
    "    monthly_BL_numbers = OrderedDict()\n",
    "    for month in range(len(BL_months[0])):\n",
    "        monthly_BL_numbers[month_names[month]] = []\n",
    "        for year in range(len(BL_months)):\n",
    "            if city in monthly_dosage_BL[BL_months[year][month]][selected_disease]:\n",
    "                monthly_BL_numbers[month_names[month]].append(monthly_dosage_BL[BL_months[year][month]][selected_disease][city])\n",
    "            else:\n",
    "                print(\"no prescriptions for disease \" + d)\n",
    "                monthly_BL_numbers[month_names[month]].append(0.0)\n",
    "    \n",
    "    diseaseStats[d] = monthly_BL_numbers  \n",
    "        \n",
    "    \n"
   ]
  },
  {
   "cell_type": "code",
   "execution_count": null,
   "metadata": {
    "ExecuteTime": {
     "end_time": "2021-05-19T14:17:35.798622Z",
     "start_time": "2021-05-19T14:17:35.794489Z"
    },
    "collapsed": true
   },
   "outputs": [],
   "source": [
    "# monthly_dosage_COVID[COVID_months[0]]['depression'][city]"
   ]
  },
  {
   "cell_type": "code",
   "execution_count": null,
   "metadata": {
    "ExecuteTime": {
     "end_time": "2021-05-19T14:17:41.967954Z",
     "start_time": "2021-05-19T14:17:41.959688Z"
    },
    "collapsed": true
   },
   "outputs": [],
   "source": [
    "diseaseStats.keys()"
   ]
  },
  {
   "cell_type": "code",
   "execution_count": null,
   "metadata": {
    "collapsed": true
   },
   "outputs": [],
   "source": []
  },
  {
   "cell_type": "code",
   "execution_count": null,
   "metadata": {
    "ExecuteTime": {
     "end_time": "2021-05-19T14:17:48.253660Z",
     "start_time": "2021-05-19T14:17:48.249656Z"
    },
    "collapsed": true
   },
   "outputs": [],
   "source": [
    "# diseaseStats['depression']"
   ]
  },
  {
   "cell_type": "code",
   "execution_count": null,
   "metadata": {
    "ExecuteTime": {
     "end_time": "2021-05-19T14:17:54.612453Z",
     "start_time": "2021-05-19T14:17:54.593610Z"
    },
    "collapsed": true
   },
   "outputs": [],
   "source": [
    "diseaseZ_scores = {}\n",
    "for d in d_l:\n",
    "    Z_scores = []\n",
    "    for i in range(len(COVID_months)):\n",
    "        mean = np.mean(diseaseStats[d][month_names[i]])\n",
    "        sigma = np.std(diseaseStats[d][month_names[i]])\n",
    "        if sigma > 0:\n",
    "            if city in monthly_dosage_COVID[COVID_months[i]][d]:\n",
    "                Z_scores.append(10 + (monthly_dosage_COVID[COVID_months[i]][d][city]-mean)/sigma)\n",
    "            else:\n",
    "                print(\"no prescriptions for disease \" + d)\n",
    "                Z_scores.append(5 + (-mean)/sigma)\n",
    "    diseaseZ_scores[d] = Z_scores"
   ]
  },
  {
   "cell_type": "code",
   "execution_count": null,
   "metadata": {
    "ExecuteTime": {
     "end_time": "2021-05-19T14:18:00.822684Z",
     "start_time": "2021-05-19T14:18:00.818477Z"
    },
    "collapsed": true
   },
   "outputs": [],
   "source": [
    "# diseaseZ_scores"
   ]
  },
  {
   "cell_type": "code",
   "execution_count": null,
   "metadata": {
    "ExecuteTime": {
     "end_time": "2021-05-19T14:18:07.668499Z",
     "start_time": "2021-05-19T14:18:07.095091Z"
    },
    "collapsed": true
   },
   "outputs": [],
   "source": [
    "fig, ax = plt.subplots()\n",
    "fig.set_size_inches(16, 12)\n",
    "sns.set_style(\"white\")\n",
    "legend = []\n",
    "for d in diseaseZ_scores:\n",
    "    sns.lineplot(y=diseaseZ_scores[d],x=np.arange(0,len(diseaseZ_scores[d]),1))\n",
    "    legend.append('Z for ' + d)\n",
    "ax = plt.gca()\n",
    "\n",
    "plt.xticks(np.arange(0,12,1),month_names,rotation=90)\n",
    "\n",
    "plt.legend(legend, fontsize = 10)\n",
    "plt.xlabel(\"Months of the year 2020\",fontsize=20)\n",
    "plt.ylabel(\"Z scores for prescriptions per 1000\",fontsize=20)\n",
    "plt.title(\"Prescription Z scores for city of \" + city, fontsize=20)"
   ]
  },
  {
   "cell_type": "code",
   "execution_count": null,
   "metadata": {
    "ExecuteTime": {
     "end_time": "2021-05-12T14:25:32.153969Z",
     "start_time": "2021-05-12T14:25:30.756075Z"
    },
    "collapsed": true
   },
   "outputs": [],
   "source": [
    "monthly_dosage_COVID"
   ]
  },
  {
   "cell_type": "code",
   "execution_count": null,
   "metadata": {
    "ExecuteTime": {
     "end_time": "2021-05-19T14:19:05.433040Z",
     "start_time": "2021-05-19T14:19:05.410166Z"
    },
    "collapsed": true
   },
   "outputs": [],
   "source": [
    "city = 'London'\n",
    "\n",
    "d_l = ['anxiety',\n",
    " 'heart failure',\n",
    " 'rheumatoid',\n",
    " 'epilepsy',\n",
    " 'dementia',\n",
    " 'stroke',\n",
    " 'hypertension',\n",
    " 'diabetes',\n",
    " 'chronic obstructive pulmonary disease',\n",
    "#  'obesity',\n",
    " 'coronary artery disease',\n",
    "#  'kidney disease',\n",
    " 'depression',\n",
    " 'osteoporosis']\n",
    "\n",
    "# d_l = ['anxiety' , 'depression']\n",
    "\n",
    "all_covid_months = ['201907','201908','201909','201910','201911','201912','202001', '202002', '202003', '202004', '202005', \n",
    "                    '202006', '202007', '202008', '202009', '202010', '202011', '202012','202101','202102',]\n",
    "\n",
    "disease_timelines = {}\n",
    "months = monthly_dosage_COVID.keys\n",
    "for disease in d_l:\n",
    "    disease_timelines[disease] = []\n",
    "    for month in monthly_dosage_COVID:\n",
    "        if city in monthly_dosage_COVID[month][disease]:\n",
    "            disease_timelines[disease].append(    monthly_dosage_COVID[month][disease][city] )"
   ]
  },
  {
   "cell_type": "code",
   "execution_count": null,
   "metadata": {
    "ExecuteTime": {
     "end_time": "2021-05-19T14:19:11.827218Z",
     "start_time": "2021-05-19T14:19:11.822973Z"
    },
    "collapsed": true
   },
   "outputs": [],
   "source": [
    "# disease_timelines"
   ]
  },
  {
   "cell_type": "code",
   "execution_count": null,
   "metadata": {
    "ExecuteTime": {
     "end_time": "2021-05-19T14:21:45.484387Z",
     "start_time": "2021-05-19T14:21:44.654084Z"
    },
    "collapsed": true
   },
   "outputs": [],
   "source": [
    "fig, ax = plt.subplots()\n",
    "fig.set_size_inches(16, 12)\n",
    "sns.set_style(\"white\")\n",
    "legend = []\n",
    "for d in disease_timelines:\n",
    "    sns.lineplot(y=disease_timelines[d],x=np.arange(0,len(disease_timelines[d]),1))\n",
    "    legend.append('Prescriptions for ' + d)\n",
    "ax = plt.gca()\n",
    "\n",
    "plt.xticks(np.arange(0,20,1),all_covid_months,rotation=90)\n",
    "\n",
    "plt.legend(legend, fontsize = 10)\n",
    "plt.xlabel(\"Months of the year 2020\",fontsize=20)\n",
    "plt.ylabel(\"Z scores for prescriptions per 1000\",fontsize=20)\n",
    "plt.title(\"Prescriptions for city of \" + city, fontsize=20)"
   ]
  },
  {
   "cell_type": "code",
   "execution_count": null,
   "metadata": {
    "ExecuteTime": {
     "end_time": "2021-05-19T14:19:40.829422Z",
     "start_time": "2021-05-19T14:19:39.848119Z"
    },
    "collapsed": true
   },
   "outputs": [],
   "source": [
    "fig, ax = plt.subplots()\n",
    "fig.set_size_inches(16, 12)\n",
    "sns.set_style(\"white\")\n",
    "legend = []\n",
    "for d in disease_timelines:\n",
    "    if len(disease_timelines[d])> 0:\n",
    "        mean = (np.mean(disease_timelines[d]))\n",
    "        sigma = (np.std(disease_timelines[d]))\n",
    "        Z_scores = [float(k - mean)/sigma for k in disease_timelines[d]]\n",
    "        sns.lineplot(y=Z_scores,x=np.arange(0,len(disease_timelines[d]),1))\n",
    "        legend.append('Vanilla Z score for ' + d)\n",
    "ax = plt.gca()\n",
    "\n",
    "plt.xticks(np.arange(0,20,1),all_covid_months,rotation=90)\n",
    "\n",
    "plt.legend(legend, fontsize = 10)\n",
    "plt.xlabel(\"Months of the year 2020\",fontsize=20)\n",
    "plt.ylabel(\"vanilla Z scores for prescriptions per 1000\",fontsize=20)\n",
    "plt.title(\"Prescription Z scores for city of \" + city, fontsize=20)"
   ]
  },
  {
   "cell_type": "code",
   "execution_count": null,
   "metadata": {
    "collapsed": true
   },
   "outputs": [],
   "source": []
  }
 ],
 "metadata": {
  "kernelspec": {
   "display_name": "Python [conda env:env_py2]",
   "language": "python",
   "name": "conda-env-env_py2-py"
  },
  "language_info": {
   "codemirror_mode": {
    "name": "ipython",
    "version": 2
   },
   "file_extension": ".py",
   "mimetype": "text/x-python",
   "name": "python",
   "nbconvert_exporter": "python",
   "pygments_lexer": "ipython2",
   "version": "2.7.16"
  },
  "latex_envs": {
   "LaTeX_envs_menu_present": true,
   "autoclose": false,
   "autocomplete": true,
   "bibliofile": "biblio.bib",
   "cite_by": "apalike",
   "current_citInitial": 1,
   "eqLabelWithNumbers": true,
   "eqNumInitial": 1,
   "hotkeys": {
    "equation": "Ctrl-E",
    "itemize": "Ctrl-I"
   },
   "labels_anchors": false,
   "latex_user_defs": false,
   "report_style_numbering": false,
   "user_envs_cfg": false
  },
  "toc": {
   "base_numbering": 1,
   "nav_menu": {},
   "number_sections": true,
   "sideBar": true,
   "skip_h1_title": false,
   "title_cell": "Table of Contents",
   "title_sidebar": "Contents",
   "toc_cell": false,
   "toc_position": {},
   "toc_section_display": true,
   "toc_window_display": false
  },
  "varInspector": {
   "cols": {
    "lenName": 16,
    "lenType": 16,
    "lenVar": 40
   },
   "kernels_config": {
    "python": {
     "delete_cmd_postfix": "",
     "delete_cmd_prefix": "del ",
     "library": "var_list.py",
     "varRefreshCmd": "print(var_dic_list())"
    },
    "r": {
     "delete_cmd_postfix": ") ",
     "delete_cmd_prefix": "rm(",
     "library": "var_list.r",
     "varRefreshCmd": "cat(var_dic_list()) "
    }
   },
   "types_to_exclude": [
    "module",
    "function",
    "builtin_function_or_method",
    "instance",
    "_Feature"
   ],
   "window_display": false
  }
 },
 "nbformat": 4,
 "nbformat_minor": 2
}
