{
 "cells": [
  {
   "cell_type": "code",
   "execution_count": 1,
   "metadata": {
    "ExecuteTime": {
     "end_time": "2021-04-26T15:59:35.282941Z",
     "start_time": "2021-04-26T15:59:29.318536Z"
    },
    "collapsed": true
   },
   "outputs": [],
   "source": [
    "import pandas as pd\n",
    "import geopandas as gp \n",
    "import json\n",
    "from glob import glob\n",
    "import numpy as np\n",
    "import matplotlib.pyplot as plt\n",
    "import seaborn as sns\n",
    "\n",
    "sns.set(rc={'figure.figsize':(12,8)})\n",
    "%matplotlib inline\n",
    "from tqdm import tqdm\n",
    "import glob\n",
    "import numpy as np\n",
    "from scipy.stats import pearsonr\n",
    "from scipy.stats import linregress"
   ]
  },
  {
   "cell_type": "code",
   "execution_count": 4,
   "metadata": {
    "ExecuteTime": {
     "end_time": "2021-04-26T15:59:52.274951Z",
     "start_time": "2021-04-26T15:59:52.242755Z"
    }
   },
   "outputs": [
    {
     "name": "stdout",
     "output_type": "stream",
     "text": [
      "['../../BL_Work/openPrescribe/serialized/201810.gz', '../../BL_Work/openPrescribe/serialized/201710.gz', '../../BL_Work/openPrescribe/serialized/201203.gz', '../../BL_Work/openPrescribe/serialized/201110.gz', '../../BL_Work/openPrescribe/serialized/201804.gz', '../../BL_Work/openPrescribe/serialized/201308.gz', '../../BL_Work/openPrescribe/serialized/201708.gz', '../../BL_Work/openPrescribe/serialized/201211.gz', '../../BL_Work/openPrescribe/serialized/201707.gz', '../../BL_Work/openPrescribe/serialized/201803.gz', '../../BL_Work/openPrescribe/serialized/201410.gz', '../../BL_Work/openPrescribe/serialized/201301.gz', '../../BL_Work/openPrescribe/serialized/201201.gz', '../../BL_Work/openPrescribe/serialized/201409.gz', '../../BL_Work/openPrescribe/serialized/201812.gz', '../../BL_Work/openPrescribe/serialized/201603.gz', '../../BL_Work/openPrescribe/serialized/201109.gz', '../../BL_Work/openPrescribe/serialized/201512.gz', '../../BL_Work/openPrescribe/serialized/201601.gz', '../../BL_Work/openPrescribe/serialized/201101.gz', '../../BL_Work/openPrescribe/serialized/201402.gz', '../../BL_Work/openPrescribe/serialized/201602.gz', '../../BL_Work/openPrescribe/serialized/201206.gz', '../../BL_Work/openPrescribe/serialized/201207.gz', '../../BL_Work/openPrescribe/serialized/201210.gz', '../../BL_Work/openPrescribe/serialized/201404.gz', '../../BL_Work/openPrescribe/serialized/201105.gz', '../../BL_Work/openPrescribe/serialized/201705.gz', '../../BL_Work/openPrescribe/serialized/201509.gz', '../../BL_Work/openPrescribe/serialized/201802.gz', '../../BL_Work/openPrescribe/serialized/201307.gz', '../../BL_Work/openPrescribe/serialized/201902.gz', '../../BL_Work/openPrescribe/serialized/201204.gz', '../../BL_Work/openPrescribe/serialized/201104.gz', '../../BL_Work/openPrescribe/serialized/201102.gz', '../../BL_Work/openPrescribe/serialized/201507.gz', '../../BL_Work/openPrescribe/serialized/201502.gz', '../../BL_Work/openPrescribe/serialized/201103.gz', '../../BL_Work/openPrescribe/serialized/201704.gz', '../../BL_Work/openPrescribe/serialized/201511.gz', '../../BL_Work/openPrescribe/serialized/201406.gz', '../../BL_Work/openPrescribe/serialized/201808.gz', '../../BL_Work/openPrescribe/serialized/201904.gz', '../../BL_Work/openPrescribe/serialized/201407.gz', '../../BL_Work/openPrescribe/serialized/201805.gz', '../../BL_Work/openPrescribe/serialized/201506.gz', '../../BL_Work/openPrescribe/serialized/201008.gz', '../../BL_Work/openPrescribe/serialized/201611.gz', '../../BL_Work/openPrescribe/serialized/201604.gz', '../../BL_Work/openPrescribe/serialized/201012.gz', '../../BL_Work/openPrescribe/serialized/201411.gz', '../../BL_Work/openPrescribe/serialized/201701.gz', '../../BL_Work/openPrescribe/serialized/201501.gz', '../../BL_Work/openPrescribe/serialized/201903.gz', '../../BL_Work/openPrescribe/serialized/201612.gz', '../../BL_Work/openPrescribe/serialized/201205.gz', '../../BL_Work/openPrescribe/serialized/201608.gz', '../../BL_Work/openPrescribe/serialized/201901.gz', '../../BL_Work/openPrescribe/serialized/201510.gz', '../../BL_Work/openPrescribe/serialized/201011.gz', '../../BL_Work/openPrescribe/serialized/201811.gz', '../../BL_Work/openPrescribe/serialized/201202.gz', '../../BL_Work/openPrescribe/serialized/201009.gz', '../../BL_Work/openPrescribe/serialized/201905.gz', '../../BL_Work/openPrescribe/serialized/201405.gz', '../../BL_Work/openPrescribe/serialized/201605.gz', '../../BL_Work/openPrescribe/serialized/201709.gz', '../../BL_Work/openPrescribe/serialized/201610.gz', '../../BL_Work/openPrescribe/serialized/201503.gz', '../../BL_Work/openPrescribe/serialized/201305.gz', '../../BL_Work/openPrescribe/serialized/201906.gz', '../../BL_Work/openPrescribe/serialized/201107.gz', '../../BL_Work/openPrescribe/serialized/201208.gz', '../../BL_Work/openPrescribe/serialized/201209.gz', '../../BL_Work/openPrescribe/serialized/201609.gz', '../../BL_Work/openPrescribe/serialized/201310.gz', '../../BL_Work/openPrescribe/serialized/201401.gz', '../../BL_Work/openPrescribe/serialized/201304.gz', '../../BL_Work/openPrescribe/serialized/201504.gz', '../../BL_Work/openPrescribe/serialized/201508.gz', '../../BL_Work/openPrescribe/serialized/201403.gz', '../../BL_Work/openPrescribe/serialized/201807.gz', '../../BL_Work/openPrescribe/serialized/201312.gz', '../../BL_Work/openPrescribe/serialized/201212.gz', '../../BL_Work/openPrescribe/serialized/201408.gz', '../../BL_Work/openPrescribe/serialized/201806.gz', '../../BL_Work/openPrescribe/serialized/201412.gz', '../../BL_Work/openPrescribe/serialized/201311.gz', '../../BL_Work/openPrescribe/serialized/201702.gz', '../../BL_Work/openPrescribe/serialized/201010.gz', '../../BL_Work/openPrescribe/serialized/201505.gz', '../../BL_Work/openPrescribe/serialized/201302.gz', '../../BL_Work/openPrescribe/serialized/201112.gz', '../../BL_Work/openPrescribe/serialized/201703.gz', '../../BL_Work/openPrescribe/serialized/201801.gz', '../../BL_Work/openPrescribe/serialized/201809.gz', '../../BL_Work/openPrescribe/serialized/201607.gz', '../../BL_Work/openPrescribe/serialized/201712.gz', '../../BL_Work/openPrescribe/serialized/201606.gz', '../../BL_Work/openPrescribe/serialized/201711.gz', '../../BL_Work/openPrescribe/serialized/201111.gz', '../../BL_Work/openPrescribe/serialized/201309.gz', '../../BL_Work/openPrescribe/serialized/201106.gz', '../../BL_Work/openPrescribe/serialized/201706.gz', '../../BL_Work/openPrescribe/serialized/201306.gz', '../../BL_Work/openPrescribe/serialized/201303.gz', '../../BL_Work/openPrescribe/serialized/201108.gz']\n"
     ]
    }
   ],
   "source": [
    "files = glob.glob('../../BL_Work/openPrescribe/serialized/*.gz')\n",
    "print(files)"
   ]
  },
  {
   "cell_type": "code",
   "execution_count": null,
   "metadata": {
    "collapsed": true
   },
   "outputs": [],
   "source": [
    "pdp = pd.read_csv('../BL_Work/openPrescribe/serialized/201601.gz',compression='gzip')\n",
    "pdp.dropna()\n",
    "for month in [ '201602' , '201603']:\n",
    "    file_path  = '../BL_Work/openPrescribe/serialized/' + month + '.gz'\n",
    "    pdp2 = pd.read_csv(file_path,compression='gzip')\n",
    "    pdp2.dropna()\n",
    "    pdp.append(pdp2)"
   ]
  }
 ],
 "metadata": {
  "kernelspec": {
   "display_name": "Python [conda env:root] *",
   "language": "python",
   "name": "conda-root-py"
  },
  "language_info": {
   "codemirror_mode": {
    "name": "ipython",
    "version": 3
   },
   "file_extension": ".py",
   "mimetype": "text/x-python",
   "name": "python",
   "nbconvert_exporter": "python",
   "pygments_lexer": "ipython3",
   "version": "3.6.3"
  },
  "latex_envs": {
   "LaTeX_envs_menu_present": true,
   "autoclose": false,
   "autocomplete": true,
   "bibliofile": "biblio.bib",
   "cite_by": "apalike",
   "current_citInitial": 1,
   "eqLabelWithNumbers": true,
   "eqNumInitial": 1,
   "hotkeys": {
    "equation": "Ctrl-E",
    "itemize": "Ctrl-I"
   },
   "labels_anchors": false,
   "latex_user_defs": false,
   "report_style_numbering": false,
   "user_envs_cfg": false
  },
  "toc": {
   "base_numbering": 1,
   "nav_menu": {},
   "number_sections": true,
   "sideBar": true,
   "skip_h1_title": false,
   "title_cell": "Table of Contents",
   "title_sidebar": "Contents",
   "toc_cell": false,
   "toc_position": {},
   "toc_section_display": true,
   "toc_window_display": false
  },
  "varInspector": {
   "cols": {
    "lenName": 16,
    "lenType": 16,
    "lenVar": 40
   },
   "kernels_config": {
    "python": {
     "delete_cmd_postfix": "",
     "delete_cmd_prefix": "del ",
     "library": "var_list.py",
     "varRefreshCmd": "print(var_dic_list())"
    },
    "r": {
     "delete_cmd_postfix": ") ",
     "delete_cmd_prefix": "rm(",
     "library": "var_list.r",
     "varRefreshCmd": "cat(var_dic_list()) "
    }
   },
   "types_to_exclude": [
    "module",
    "function",
    "builtin_function_or_method",
    "instance",
    "_Feature"
   ],
   "window_display": false
  }
 },
 "nbformat": 4,
 "nbformat_minor": 2
}
