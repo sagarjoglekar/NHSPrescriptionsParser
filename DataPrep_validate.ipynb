{
 "cells": [
  {
   "cell_type": "code",
   "execution_count": 4,
   "metadata": {
    "ExecuteTime": {
     "end_time": "2021-06-01T10:35:51.323073Z",
     "start_time": "2021-06-01T10:35:51.311721Z"
    },
    "collapsed": true
   },
   "outputs": [],
   "source": [
    "import pandas as pd\n",
    "import matplotlib.pyplot as plt\n",
    "import seaborn as sns\n",
    "\n",
    "sns.set(rc={'figure.figsize':(12,8)})\n",
    "%matplotlib inline"
   ]
  },
  {
   "cell_type": "code",
   "execution_count": 5,
   "metadata": {
    "ExecuteTime": {
     "end_time": "2021-06-01T10:35:53.922269Z",
     "start_time": "2021-06-01T10:35:51.556146Z"
    },
    "collapsed": true
   },
   "outputs": [],
   "source": [
    "presc = pd.read_csv('data_prep/rheumatoid.csv')\n",
    "wards = pd.read_csv('data_prep/Wards.csv')"
   ]
  },
  {
   "cell_type": "code",
   "execution_count": 6,
   "metadata": {
    "ExecuteTime": {
     "end_time": "2021-06-01T10:35:54.131815Z",
     "start_time": "2021-06-01T10:35:54.111929Z"
    }
   },
   "outputs": [
    {
     "data": {
      "text/html": [
       "<div>\n",
       "<style scoped>\n",
       "    .dataframe tbody tr th:only-of-type {\n",
       "        vertical-align: middle;\n",
       "    }\n",
       "\n",
       "    .dataframe tbody tr th {\n",
       "        vertical-align: top;\n",
       "    }\n",
       "\n",
       "    .dataframe thead th {\n",
       "        text-align: right;\n",
       "    }\n",
       "</style>\n",
       "<table border=\"1\" class=\"dataframe\">\n",
       "  <thead>\n",
       "    <tr style=\"text-align: right;\">\n",
       "      <th></th>\n",
       "      <th>LSOA_CODE</th>\n",
       "      <th>Patient_count</th>\n",
       "      <th>Total_prescriptions</th>\n",
       "      <th>YYYYMM</th>\n",
       "    </tr>\n",
       "  </thead>\n",
       "  <tbody>\n",
       "    <tr>\n",
       "      <th>0</th>\n",
       "      <td>E01009300</td>\n",
       "      <td>2007.0</td>\n",
       "      <td>5197.985134</td>\n",
       "      <td>201901</td>\n",
       "    </tr>\n",
       "    <tr>\n",
       "      <th>1</th>\n",
       "      <td>E01014080</td>\n",
       "      <td>1470.0</td>\n",
       "      <td>3495.754202</td>\n",
       "      <td>201901</td>\n",
       "    </tr>\n",
       "    <tr>\n",
       "      <th>2</th>\n",
       "      <td>E01014081</td>\n",
       "      <td>1526.0</td>\n",
       "      <td>3157.451902</td>\n",
       "      <td>201901</td>\n",
       "    </tr>\n",
       "  </tbody>\n",
       "</table>\n",
       "</div>"
      ],
      "text/plain": [
       "   LSOA_CODE  Patient_count  Total_prescriptions  YYYYMM\n",
       "0  E01009300         2007.0          5197.985134  201901\n",
       "1  E01014080         1470.0          3495.754202  201901\n",
       "2  E01014081         1526.0          3157.451902  201901"
      ]
     },
     "execution_count": 6,
     "metadata": {},
     "output_type": "execute_result"
    }
   ],
   "source": [
    "presc.head(n=3)"
   ]
  },
  {
   "cell_type": "code",
   "execution_count": 7,
   "metadata": {
    "ExecuteTime": {
     "end_time": "2021-06-01T10:35:54.804326Z",
     "start_time": "2021-06-01T10:35:54.336393Z"
    }
   },
   "outputs": [
    {
     "name": "stdout",
     "output_type": "stream",
     "text": [
      "(0.0, 10.407137492553023, 7.455876687491824, 7.473056194951883, 0.4005559777600831)\n"
     ]
    },
    {
     "data": {
      "image/png": "[encoded data removed]",
      "text/plain": [
       "<Figure size 432x288 with 1 Axes>"
      ]
     },
     "metadata": {
      "needs_background": "light"
     },
     "output_type": "display_data"
    }
   ],
   "source": [
    "# the histogram of the data\n",
    "data = np.log(presc['Patient_count'])\n",
    "n, bins, patches = plt.hist(data , 50, density=True, facecolor='black', alpha=0.75)\n",
    "print(np.min(data), np.max(data) ,  np.median(data), np.mean(data), np.std(data))\n",
    "plt.grid(True)\n",
    "plt.show()"
   ]
  },
  {
   "cell_type": "code",
   "execution_count": 8,
   "metadata": {
    "ExecuteTime": {
     "end_time": "2021-06-01T10:35:55.455305Z",
     "start_time": "2021-06-01T10:35:55.012674Z"
    }
   },
   "outputs": [
    {
     "name": "stdout",
     "output_type": "stream",
     "text": [
      "(0.4812902200683245, 75588.8069924969, 3348.0263036565475, 3517.817416806023, 1642.2252844888133)\n"
     ]
    },
    {
     "data": {
      "image/png": "[encoded data removed]",
      "text/plain": [
       "<Figure size 432x288 with 1 Axes>"
      ]
     },
     "metadata": {
      "needs_background": "light"
     },
     "output_type": "display_data"
    }
   ],
   "source": [
    "# the histogram of the data\n",
    "data = (presc['Total_prescriptions'])\n",
    "n, bins, patches = plt.hist(data , 50, density=True, facecolor='black', alpha=0.75)\n",
    "print(np.min(data), np.max(data) ,  np.median(data), np.mean(data), np.std(data))\n",
    "plt.grid(True)\n",
    "plt.show()"
   ]
  },
  {
   "cell_type": "code",
   "execution_count": 9,
   "metadata": {
    "ExecuteTime": {
     "end_time": "2021-06-01T10:35:55.697025Z",
     "start_time": "2021-06-01T10:35:55.670266Z"
    }
   },
   "outputs": [
    {
     "data": {
      "text/html": [
       "<div>\n",
       "<style scoped>\n",
       "    .dataframe tbody tr th:only-of-type {\n",
       "        vertical-align: middle;\n",
       "    }\n",
       "\n",
       "    .dataframe tbody tr th {\n",
       "        vertical-align: top;\n",
       "    }\n",
       "\n",
       "    .dataframe thead th {\n",
       "        text-align: right;\n",
       "    }\n",
       "</style>\n",
       "<table border=\"1\" class=\"dataframe\">\n",
       "  <thead>\n",
       "    <tr style=\"text-align: right;\">\n",
       "      <th></th>\n",
       "      <th>Unnamed: 0</th>\n",
       "      <th>LSOA11CD</th>\n",
       "      <th>WD15CD</th>\n",
       "      <th>WD15NM</th>\n",
       "      <th>LAD15CD</th>\n",
       "      <th>LocalAuthorityName</th>\n",
       "      <th>CityName</th>\n",
       "    </tr>\n",
       "  </thead>\n",
       "  <tbody>\n",
       "    <tr>\n",
       "      <th>0</th>\n",
       "      <td>0</td>\n",
       "      <td>E01000104</td>\n",
       "      <td>E05000041</td>\n",
       "      <td>Village</td>\n",
       "      <td>E09000002</td>\n",
       "      <td>Barking and Dagenham</td>\n",
       "      <td>London</td>\n",
       "    </tr>\n",
       "    <tr>\n",
       "      <th>1</th>\n",
       "      <td>1</td>\n",
       "      <td>E01000105</td>\n",
       "      <td>E05000041</td>\n",
       "      <td>Village</td>\n",
       "      <td>E09000002</td>\n",
       "      <td>Barking and Dagenham</td>\n",
       "      <td>London</td>\n",
       "    </tr>\n",
       "    <tr>\n",
       "      <th>2</th>\n",
       "      <td>2</td>\n",
       "      <td>E01000106</td>\n",
       "      <td>E05000041</td>\n",
       "      <td>Village</td>\n",
       "      <td>E09000002</td>\n",
       "      <td>Barking and Dagenham</td>\n",
       "      <td>London</td>\n",
       "    </tr>\n",
       "  </tbody>\n",
       "</table>\n",
       "</div>"
      ],
      "text/plain": [
       "   Unnamed: 0   LSOA11CD     WD15CD   WD15NM    LAD15CD    LocalAuthorityName  \\\n",
       "0           0  E01000104  E05000041  Village  E09000002  Barking and Dagenham   \n",
       "1           1  E01000105  E05000041  Village  E09000002  Barking and Dagenham   \n",
       "2           2  E01000106  E05000041  Village  E09000002  Barking and Dagenham   \n",
       "\n",
       "  CityName  \n",
       "0   London  \n",
       "1   London  \n",
       "2   London  "
      ]
     },
     "execution_count": 9,
     "metadata": {},
     "output_type": "execute_result"
    }
   ],
   "source": [
    "wards.head(n=3)"
   ]
  },
  {
   "cell_type": "code",
   "execution_count": 10,
   "metadata": {
    "ExecuteTime": {
     "end_time": "2021-06-01T10:35:55.915364Z",
     "start_time": "2021-06-01T10:35:55.905657Z"
    },
    "collapsed": true
   },
   "outputs": [],
   "source": [
    "london_LSOAs = wards[wards['CityName'] == 'London']"
   ]
  },
  {
   "cell_type": "code",
   "execution_count": 11,
   "metadata": {
    "ExecuteTime": {
     "end_time": "2021-06-01T10:35:56.458067Z",
     "start_time": "2021-06-01T10:35:56.226503Z"
    },
    "collapsed": true
   },
   "outputs": [],
   "source": [
    "London_preac = presc[presc['LSOA_CODE'].isin(london_LSOAs['LSOA11CD'])]"
   ]
  },
  {
   "cell_type": "code",
   "execution_count": 12,
   "metadata": {
    "ExecuteTime": {
     "end_time": "2021-06-01T10:35:56.872748Z",
     "start_time": "2021-06-01T10:35:56.763010Z"
    }
   },
   "outputs": [
    {
     "name": "stderr",
     "output_type": "stream",
     "text": [
      "/10TBdrive/sagarj/anaconda3/envs/env_py2/lib/python2.7/site-packages/ipykernel_launcher.py:1: SettingWithCopyWarning: \n",
      "A value is trying to be set on a copy of a slice from a DataFrame\n",
      "\n",
      "See the caveats in the documentation: http://pandas.pydata.org/pandas-docs/stable/indexing.html#indexing-view-versus-copy\n",
      "  \"\"\"Entry point for launching an IPython kernel.\n"
     ]
    }
   ],
   "source": [
    "London_preac.sort_values(by=['YYYYMM'],inplace=True)"
   ]
  },
  {
   "cell_type": "code",
   "execution_count": 13,
   "metadata": {
    "ExecuteTime": {
     "end_time": "2021-06-01T10:35:57.261861Z",
     "start_time": "2021-06-01T10:35:57.168464Z"
    }
   },
   "outputs": [],
   "source": [
    "area_dict = {'YYYYMM':[], 'mean_count':[]}\n",
    "for name , group in London_preac.groupby('YYYYMM'):\n",
    "    area_dict['YYYYMM'].append(name)\n",
    "    area_dict['mean_count'].append((np.sum(group['Total_prescriptions'])/np.sum(group['Patient_count'])))\n",
    "area_df = pd.DataFrame.from_dict(area_dict)\n",
    "area_df.sort_values(by=['YYYYMM'],inplace=True)"
   ]
  },
  {
   "cell_type": "code",
   "execution_count": 14,
   "metadata": {
    "ExecuteTime": {
     "end_time": "2021-06-01T10:35:58.613221Z",
     "start_time": "2021-06-01T10:35:57.662162Z"
    },
    "scrolled": false
   },
   "outputs": [
    {
     "data": {
      "text/plain": [
       "([<matplotlib.axis.XTick at 0x7f35ec4a2cd0>,\n",
       "  <matplotlib.axis.XTick at 0x7f35ec4a2850>,\n",
       "  <matplotlib.axis.XTick at 0x7f35ec4a2090>,\n",
       "  <matplotlib.axis.XTick at 0x7f35ec465650>,\n",
       "  <matplotlib.axis.XTick at 0x7f35ec59ddd0>,\n",
       "  <matplotlib.axis.XTick at 0x7f35ec4720d0>,\n",
       "  <matplotlib.axis.XTick at 0x7f35ec472650>,\n",
       "  <matplotlib.axis.XTick at 0x7f35ec472610>,\n",
       "  <matplotlib.axis.XTick at 0x7f35ec480050>,\n",
       "  <matplotlib.axis.XTick at 0x7f35ec480a90>,\n",
       "  <matplotlib.axis.XTick at 0x7f35ec480d50>,\n",
       "  <matplotlib.axis.XTick at 0x7f35ec49a550>,\n",
       "  <matplotlib.axis.XTick at 0x7f35ec49a810>,\n",
       "  <matplotlib.axis.XTick at 0x7f35ec472f10>,\n",
       "  <matplotlib.axis.XTick at 0x7f35ec4d73d0>,\n",
       "  <matplotlib.axis.XTick at 0x7f35ec49a590>,\n",
       "  <matplotlib.axis.XTick at 0x7f35ec49a210>,\n",
       "  <matplotlib.axis.XTick at 0x7f35ec48d7d0>,\n",
       "  <matplotlib.axis.XTick at 0x7f35ec48da90>,\n",
       "  <matplotlib.axis.XTick at 0x7f35ec589950>,\n",
       "  <matplotlib.axis.XTick at 0x7f35ec589490>,\n",
       "  <matplotlib.axis.XTick at 0x7f35ec558bd0>,\n",
       "  <matplotlib.axis.XTick at 0x7f35ec5897d0>,\n",
       "  <matplotlib.axis.XTick at 0x7f35ec49a050>,\n",
       "  <matplotlib.axis.XTick at 0x7f35ec480f10>,\n",
       "  <matplotlib.axis.XTick at 0x7f35ec558650>,\n",
       "  <matplotlib.axis.XTick at 0x7f35ec443b90>,\n",
       "  <matplotlib.axis.XTick at 0x7f35ec4431d0>,\n",
       "  <matplotlib.axis.XTick at 0x7f35ec443cd0>,\n",
       "  <matplotlib.axis.XTick at 0x7f35ec406c50>,\n",
       "  <matplotlib.axis.XTick at 0x7f35ec406050>,\n",
       "  <matplotlib.axis.XTick at 0x7f35ec52acd0>,\n",
       "  <matplotlib.axis.XTick at 0x7f35ec443310>,\n",
       "  <matplotlib.axis.XTick at 0x7f35ec558450>,\n",
       "  <matplotlib.axis.XTick at 0x7f35ec52ac50>,\n",
       "  <matplotlib.axis.XTick at 0x7f3659840c90>,\n",
       "  <matplotlib.axis.XTick at 0x7f36598402d0>,\n",
       "  <matplotlib.axis.XTick at 0x7f3659831190>,\n",
       "  <matplotlib.axis.XTick at 0x7f36587da090>,\n",
       "  <matplotlib.axis.XTick at 0x7f36587dae50>,\n",
       "  <matplotlib.axis.XTick at 0x7f35ec4ab110>,\n",
       "  <matplotlib.axis.XTick at 0x7f35ec4ab650>,\n",
       "  <matplotlib.axis.XTick at 0x7f36598405d0>,\n",
       "  <matplotlib.axis.XTick at 0x7f35ec558610>,\n",
       "  <matplotlib.axis.XTick at 0x7f35ec4ab810>,\n",
       "  <matplotlib.axis.XTick at 0x7f35ec4abd50>,\n",
       "  <matplotlib.axis.XTick at 0x7f35ec4ce2d0>,\n",
       "  <matplotlib.axis.XTick at 0x7f35ec4ce810>,\n",
       "  <matplotlib.axis.XTick at 0x7f35ec4ced50>,\n",
       "  <matplotlib.axis.XTick at 0x7f35ec4ff2d0>,\n",
       "  <matplotlib.axis.XTick at 0x7f35ec4ff810>,\n",
       "  <matplotlib.axis.XTick at 0x7f35ec4ce9d0>,\n",
       "  <matplotlib.axis.XTick at 0x7f35ec4065d0>,\n",
       "  <matplotlib.axis.XTick at 0x7f35ec4ffb50>,\n",
       "  <matplotlib.axis.XTick at 0x7f35ec4fff90>,\n",
       "  <matplotlib.axis.XTick at 0x7f35ec4e0510>,\n",
       "  <matplotlib.axis.XTick at 0x7f35ec4e0a50>,\n",
       "  <matplotlib.axis.XTick at 0x7f35ec4e0f90>,\n",
       "  <matplotlib.axis.XTick at 0x7f35ec4eb510>,\n",
       "  <matplotlib.axis.XTick at 0x7f35ec4eba50>,\n",
       "  <matplotlib.axis.XTick at 0x7f35ec4ebf90>,\n",
       "  <matplotlib.axis.XTick at 0x7f35ec4eb110>,\n",
       "  <matplotlib.axis.XTick at 0x7f35ec4e00d0>,\n",
       "  <matplotlib.axis.XTick at 0x7f35ec4ff950>,\n",
       "  <matplotlib.axis.XTick at 0x7f35ec4cbb50>,\n",
       "  <matplotlib.axis.XTick at 0x7f35ec4f95d0>,\n",
       "  <matplotlib.axis.XTick at 0x7f35ec4f9b10>,\n",
       "  <matplotlib.axis.XTick at 0x7f36587e1090>,\n",
       "  <matplotlib.axis.XTick at 0x7f36587e15d0>,\n",
       "  <matplotlib.axis.XTick at 0x7f36587e1b10>,\n",
       "  <matplotlib.axis.XTick at 0x7f36587e4090>,\n",
       "  <matplotlib.axis.XTick at 0x7f36587e1190>,\n",
       "  <matplotlib.axis.XTick at 0x7f35ec4ff890>,\n",
       "  <matplotlib.axis.XTick at 0x7f36587e4250>],\n",
       " <a list of 74 Text xticklabel objects>)"
      ]
     },
     "execution_count": 14,
     "metadata": {},
     "output_type": "execute_result"
    },
    {
     "data": {
      "image/png": "[encoded data removed]",
      "text/plain": [
       "<Figure size 1152x864 with 1 Axes>"
      ]
     },
     "metadata": {
      "needs_background": "light"
     },
     "output_type": "display_data"
    }
   ],
   "source": [
    "fig, ax = plt.subplots()\n",
    "fig.set_size_inches(16, 12)\n",
    "sns.set_style(\"white\")\n",
    "sns.lineplot(y=area_df['mean_count'],x=np.arange(0,len(area_df),1))\n",
    "plt.xticks(np.arange(0,len(area_df),1),area_df['YYYYMM'],rotation=90)"
   ]
  },
  {
   "cell_type": "code",
   "execution_count": null,
   "metadata": {
    "collapsed": true
   },
   "outputs": [],
   "source": []
  },
  {
   "cell_type": "code",
   "execution_count": null,
   "metadata": {
    "collapsed": true
   },
   "outputs": [],
   "source": []
  }
 ],
 "metadata": {
  "_draft": {
   "nbviewer_url": "https://gist.github.com/a52a4e2d2d62dfbc1314d600bff79dd9"
  },
  "gist": {
   "data": {
    "description": "Using the extracted prescriptions data",
    "public": true
   },
   "id": "a52a4e2d2d62dfbc1314d600bff79dd9"
  },
  "kernelspec": {
   "display_name": "Python [conda env:env_py2]",
   "language": "python",
   "name": "conda-env-env_py2-py"
  },
  "latex_envs": {
   "LaTeX_envs_menu_present": true,
   "autoclose": false,
   "autocomplete": true,
   "bibliofile": "biblio.bib",
   "cite_by": "apalike",
   "current_citInitial": 1,
   "eqLabelWithNumbers": true,
   "eqNumInitial": 1,
   "hotkeys": {
    "equation": "Ctrl-E",
    "itemize": "Ctrl-I"
   },
   "labels_anchors": false,
   "latex_user_defs": false,
   "report_style_numbering": false,
   "user_envs_cfg": false
  },
  "toc": {
   "base_numbering": 1,
   "nav_menu": {},
   "number_sections": true,
   "sideBar": true,
   "skip_h1_title": false,
   "title_cell": "Table of Contents",
   "title_sidebar": "Contents",
   "toc_cell": false,
   "toc_position": {},
   "toc_section_display": true,
   "toc_window_display": false
  },
  "varInspector": {
   "cols": {
    "lenName": 16,
    "lenType": 16,
    "lenVar": 40
   },
   "kernels_config": {
    "python": {
     "delete_cmd_postfix": "",
     "delete_cmd_prefix": "del ",
     "library": "var_list.py",
     "varRefreshCmd": "print(var_dic_list())"
    },
    "r": {
     "delete_cmd_postfix": ") ",
     "delete_cmd_prefix": "rm(",
     "library": "var_list.r",
     "varRefreshCmd": "cat(var_dic_list()) "
    }
   },
   "types_to_exclude": [
    "module",
    "function",
    "builtin_function_or_method",
    "instance",
    "_Feature"
   ],
   "window_display": false
  }
 },
 "nbformat": 4,
 "nbformat_minor": 2
}
