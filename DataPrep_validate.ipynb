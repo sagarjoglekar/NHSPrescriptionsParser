{
 "cells": [
  {
   "cell_type": "code",
   "execution_count": 90,
   "metadata": {
    "ExecuteTime": {
     "end_time": "2021-06-14T13:04:17.156482Z",
     "start_time": "2021-06-14T13:04:17.101017Z"
    },
    "collapsed": true
   },
   "outputs": [],
   "source": [
    "import pandas as pd\n",
    "import matplotlib.pyplot as plt\n",
    "import seaborn as sns\n",
    "\n",
    "sns.set(rc={'figure.figsize':(12,8)})\n",
    "%matplotlib inline"
   ]
  },
  {
   "cell_type": "code",
   "execution_count": 122,
   "metadata": {
    "ExecuteTime": {
     "end_time": "2021-06-15T08:21:52.715916Z",
     "start_time": "2021-06-15T08:21:50.645501Z"
    }
   },
   "outputs": [],
   "source": [
    "presc = pd.read_csv('data_prep/fentanyl_V3.csv.gz', compression='gzip')\n",
    "wards = pd.read_csv('data_prep/Wards.csv')"
   ]
  },
  {
   "cell_type": "code",
   "execution_count": 123,
   "metadata": {
    "ExecuteTime": {
     "end_time": "2021-06-15T08:21:52.869920Z",
     "start_time": "2021-06-15T08:21:52.849967Z"
    }
   },
   "outputs": [
    {
     "data": {
      "text/html": [
       "<div>\n",
       "<style scoped>\n",
       "    .dataframe tbody tr th:only-of-type {\n",
       "        vertical-align: middle;\n",
       "    }\n",
       "\n",
       "    .dataframe tbody tr th {\n",
       "        vertical-align: top;\n",
       "    }\n",
       "\n",
       "    .dataframe thead th {\n",
       "        text-align: right;\n",
       "    }\n",
       "</style>\n",
       "<table border=\"1\" class=\"dataframe\">\n",
       "  <thead>\n",
       "    <tr style=\"text-align: right;\">\n",
       "      <th></th>\n",
       "      <th>YYYYMM</th>\n",
       "      <th>LSOA_CODE</th>\n",
       "      <th>Total_quantity</th>\n",
       "      <th>Dosage_ratio</th>\n",
       "      <th>Total_cost</th>\n",
       "      <th>Total_items</th>\n",
       "      <th>Patient_count</th>\n",
       "    </tr>\n",
       "  </thead>\n",
       "  <tbody>\n",
       "    <tr>\n",
       "      <th>0</th>\n",
       "      <td>201901</td>\n",
       "      <td>E01012190</td>\n",
       "      <td>38.307872</td>\n",
       "      <td>135.327325</td>\n",
       "      <td>148.116590</td>\n",
       "      <td>4.173950</td>\n",
       "      <td>1414.0</td>\n",
       "    </tr>\n",
       "    <tr>\n",
       "      <th>1</th>\n",
       "      <td>201901</td>\n",
       "      <td>E01012191</td>\n",
       "      <td>46.552250</td>\n",
       "      <td>162.114140</td>\n",
       "      <td>176.928796</td>\n",
       "      <td>5.056761</td>\n",
       "      <td>1618.0</td>\n",
       "    </tr>\n",
       "    <tr>\n",
       "      <th>2</th>\n",
       "      <td>201901</td>\n",
       "      <td>E01012192</td>\n",
       "      <td>34.256028</td>\n",
       "      <td>155.956648</td>\n",
       "      <td>134.807694</td>\n",
       "      <td>3.508058</td>\n",
       "      <td>1511.0</td>\n",
       "    </tr>\n",
       "  </tbody>\n",
       "</table>\n",
       "</div>"
      ],
      "text/plain": [
       "   YYYYMM  LSOA_CODE  Total_quantity  Dosage_ratio  Total_cost  Total_items  \\\n",
       "0  201901  E01012190       38.307872    135.327325  148.116590     4.173950   \n",
       "1  201901  E01012191       46.552250    162.114140  176.928796     5.056761   \n",
       "2  201901  E01012192       34.256028    155.956648  134.807694     3.508058   \n",
       "\n",
       "   Patient_count  \n",
       "0         1414.0  \n",
       "1         1618.0  \n",
       "2         1511.0  "
      ]
     },
     "execution_count": 123,
     "metadata": {},
     "output_type": "execute_result"
    }
   ],
   "source": [
    "presc.head(n=3)"
   ]
  },
  {
   "cell_type": "code",
   "execution_count": 124,
   "metadata": {
    "ExecuteTime": {
     "end_time": "2021-06-15T08:21:53.416047Z",
     "start_time": "2021-06-15T08:21:53.000321Z"
    }
   },
   "outputs": [
    {
     "name": "stdout",
     "output_type": "stream",
     "text": [
      "(1.3862943611198906, 9.876886870738948, 7.456454555176209, 7.489228460928467, 0.2474573250382545)\n"
     ]
    },
    {
     "data": {
      "image/png": "[encoded data removed]",
      "text/plain": [
       "<Figure size 432x288 with 1 Axes>"
      ]
     },
     "metadata": {},
     "output_type": "display_data"
    }
   ],
   "source": [
    "# the histogram of the data\n",
    "data = np.log(presc['Patient_count'])\n",
    "n, bins, patches = plt.hist(data , 50, density=True, facecolor='black', alpha=0.75)\n",
    "print(np.min(data), np.max(data) ,  np.median(data), np.mean(data), np.std(data))\n",
    "plt.grid(True)\n",
    "plt.show()"
   ]
  },
  {
   "cell_type": "code",
   "execution_count": 125,
   "metadata": {
    "ExecuteTime": {
     "end_time": "2021-06-15T08:21:54.653643Z",
     "start_time": "2021-06-15T08:21:54.341447Z"
    }
   },
   "outputs": [
    {
     "name": "stdout",
     "output_type": "stream",
     "text": [
      "(6.69702652022502e-05, 26.776888554785057, 1.7620321217891364, 2.1294955231509456, 1.674427864300183)\n"
     ]
    },
    {
     "data": {
      "image/png": "[encoded data removed]",
      "text/plain": [
       "<Figure size 432x288 with 1 Axes>"
      ]
     },
     "metadata": {},
     "output_type": "display_data"
    }
   ],
   "source": [
    "# the histogram of the data\n",
    "data = (presc['Total_items'])\n",
    "n, bins, patches = plt.hist(data , 50, density=True, facecolor='black', alpha=0.75)\n",
    "print(np.min(data), np.max(data) ,  np.median(data), np.mean(data), np.std(data))\n",
    "plt.grid(True)\n",
    "plt.show()"
   ]
  },
  {
   "cell_type": "code",
   "execution_count": 126,
   "metadata": {
    "ExecuteTime": {
     "end_time": "2021-06-15T08:21:58.374605Z",
     "start_time": "2021-06-15T08:21:58.074249Z"
    }
   },
   "outputs": [
    {
     "name": "stdout",
     "output_type": "stream",
     "text": [
      "(0.002113945904064239, 2665.369184176939, 62.71783756215716, 78.3179519672481, 69.87729778214961)\n"
     ]
    },
    {
     "data": {
      "image/png": "[encoded data removed]",
      "text/plain": [
       "<Figure size 432x288 with 1 Axes>"
      ]
     },
     "metadata": {},
     "output_type": "display_data"
    }
   ],
   "source": [
    "# the histogram of the data\n",
    "data = (presc['Total_cost'])\n",
    "n, bins, patches = plt.hist(data , 50, density=True, facecolor='black', alpha=0.75)\n",
    "print(np.min(data), np.max(data) ,  np.median(data), np.mean(data), np.std(data))\n",
    "plt.grid(True)\n",
    "plt.show()"
   ]
  },
  {
   "cell_type": "code",
   "execution_count": 127,
   "metadata": {
    "ExecuteTime": {
     "end_time": "2021-06-15T08:21:59.285654Z",
     "start_time": "2021-06-15T08:21:59.257110Z"
    }
   },
   "outputs": [
    {
     "data": {
      "text/html": [
       "<div>\n",
       "<style scoped>\n",
       "    .dataframe tbody tr th:only-of-type {\n",
       "        vertical-align: middle;\n",
       "    }\n",
       "\n",
       "    .dataframe tbody tr th {\n",
       "        vertical-align: top;\n",
       "    }\n",
       "\n",
       "    .dataframe thead th {\n",
       "        text-align: right;\n",
       "    }\n",
       "</style>\n",
       "<table border=\"1\" class=\"dataframe\">\n",
       "  <thead>\n",
       "    <tr style=\"text-align: right;\">\n",
       "      <th></th>\n",
       "      <th>Unnamed: 0</th>\n",
       "      <th>LSOA11CD</th>\n",
       "      <th>WD15CD</th>\n",
       "      <th>WD15NM</th>\n",
       "      <th>LAD15CD</th>\n",
       "      <th>LocalAuthorityName</th>\n",
       "      <th>CityName</th>\n",
       "    </tr>\n",
       "  </thead>\n",
       "  <tbody>\n",
       "    <tr>\n",
       "      <th>0</th>\n",
       "      <td>0</td>\n",
       "      <td>E01000104</td>\n",
       "      <td>E05000041</td>\n",
       "      <td>Village</td>\n",
       "      <td>E09000002</td>\n",
       "      <td>Barking and Dagenham</td>\n",
       "      <td>London</td>\n",
       "    </tr>\n",
       "    <tr>\n",
       "      <th>1</th>\n",
       "      <td>1</td>\n",
       "      <td>E01000105</td>\n",
       "      <td>E05000041</td>\n",
       "      <td>Village</td>\n",
       "      <td>E09000002</td>\n",
       "      <td>Barking and Dagenham</td>\n",
       "      <td>London</td>\n",
       "    </tr>\n",
       "    <tr>\n",
       "      <th>2</th>\n",
       "      <td>2</td>\n",
       "      <td>E01000106</td>\n",
       "      <td>E05000041</td>\n",
       "      <td>Village</td>\n",
       "      <td>E09000002</td>\n",
       "      <td>Barking and Dagenham</td>\n",
       "      <td>London</td>\n",
       "    </tr>\n",
       "  </tbody>\n",
       "</table>\n",
       "</div>"
      ],
      "text/plain": [
       "   Unnamed: 0   LSOA11CD     WD15CD   WD15NM    LAD15CD    LocalAuthorityName  \\\n",
       "0           0  E01000104  E05000041  Village  E09000002  Barking and Dagenham   \n",
       "1           1  E01000105  E05000041  Village  E09000002  Barking and Dagenham   \n",
       "2           2  E01000106  E05000041  Village  E09000002  Barking and Dagenham   \n",
       "\n",
       "  CityName  \n",
       "0   London  \n",
       "1   London  \n",
       "2   London  "
      ]
     },
     "execution_count": 127,
     "metadata": {},
     "output_type": "execute_result"
    }
   ],
   "source": [
    "wards.head(n=3)"
   ]
  },
  {
   "cell_type": "code",
   "execution_count": 128,
   "metadata": {
    "ExecuteTime": {
     "end_time": "2021-06-15T08:22:00.126226Z",
     "start_time": "2021-06-15T08:22:00.113991Z"
    },
    "collapsed": true
   },
   "outputs": [],
   "source": [
    "london_LSOAs = wards[wards['CityName'] == 'London']"
   ]
  },
  {
   "cell_type": "code",
   "execution_count": 129,
   "metadata": {
    "ExecuteTime": {
     "end_time": "2021-06-15T08:22:00.947166Z",
     "start_time": "2021-06-15T08:22:00.825540Z"
    },
    "collapsed": true
   },
   "outputs": [],
   "source": [
    "London_preac = presc[presc['LSOA_CODE'].isin(london_LSOAs['LSOA11CD'])]"
   ]
  },
  {
   "cell_type": "code",
   "execution_count": 130,
   "metadata": {
    "ExecuteTime": {
     "end_time": "2021-06-15T08:22:01.742687Z",
     "start_time": "2021-06-15T08:22:01.585739Z"
    }
   },
   "outputs": [
    {
     "name": "stderr",
     "output_type": "stream",
     "text": [
      "/10TBdrive/sagarj/anaconda3/envs/env_py2/lib/python2.7/site-packages/ipykernel_launcher.py:1: SettingWithCopyWarning: \n",
      "A value is trying to be set on a copy of a slice from a DataFrame\n",
      "\n",
      "See the caveats in the documentation: http://pandas.pydata.org/pandas-docs/stable/indexing.html#indexing-view-versus-copy\n",
      "  \"\"\"Entry point for launching an IPython kernel.\n"
     ]
    }
   ],
   "source": [
    "London_preac.sort_values(by=['YYYYMM'],inplace=True)"
   ]
  },
  {
   "cell_type": "code",
   "execution_count": 131,
   "metadata": {
    "ExecuteTime": {
     "end_time": "2021-06-15T08:22:02.329614Z",
     "start_time": "2021-06-15T08:22:02.265363Z"
    }
   },
   "outputs": [],
   "source": [
    "area_dict = {'YYYYMM':[], 'mean_count':[] , 'mean_dosage' : []}\n",
    "for name , group in London_preac.groupby('YYYYMM'):\n",
    "    area_dict['YYYYMM'].append(name)\n",
    "    area_dict['mean_count'].append((np.sum(group['Total_cost'])/np.sum(group['Patient_count'])))\n",
    "    area_dict['mean_dosage'].append((np.sum(group['Total_items'])/np.sum(group['Patient_count'])))\n",
    "area_df = pd.DataFrame.from_dict(area_dict)\n",
    "area_df.sort_values(by=['YYYYMM'],inplace=True)"
   ]
  },
  {
   "cell_type": "code",
   "execution_count": 133,
   "metadata": {
    "ExecuteTime": {
     "end_time": "2021-06-15T08:22:18.839688Z",
     "start_time": "2021-06-15T08:22:18.422049Z"
    },
    "scrolled": false
   },
   "outputs": [
    {
     "data": {
      "text/plain": [
       "<matplotlib.legend.Legend at 0x7f35ce967bd0>"
      ]
     },
     "execution_count": 133,
     "metadata": {},
     "output_type": "execute_result"
    },
    {
     "data": {
      "image/png": "[encoded data removed]",
      "text/plain": [
       "<Figure size 1152x864 with 1 Axes>"
      ]
     },
     "metadata": {},
     "output_type": "display_data"
    }
   ],
   "source": [
    "fig, ax = plt.subplots()\n",
    "fig.set_size_inches(16, 12)\n",
    "sns.set_style(\"white\")\n",
    "plt.title(\"Anti allergic prescriptions\",fontsize=20)\n",
    "plt.ylabel(\"Prescriptions per capita\",fontsize=20)\n",
    "# sns.lineplot(y=area_df['mean_count'],x=np.arange(0,len(area_df),1))\n",
    "sns.lineplot(y=area_df['mean_dosage'],x=np.arange(0,len(area_df),1))\n",
    "plt.xticks(np.arange(0,len(area_df),1),area_df['YYYYMM'],rotation=90)\n",
    "ax.legend()"
   ]
  },
  {
   "cell_type": "code",
   "execution_count": null,
   "metadata": {
    "collapsed": true
   },
   "outputs": [],
   "source": []
  }
 ],
 "metadata": {
  "_draft": {
   "nbviewer_url": "https://gist.github.com/a52a4e2d2d62dfbc1314d600bff79dd9"
  },
  "gist": {
   "data": {
    "description": "Using the extracted prescriptions data",
    "public": true
   },
   "id": "a52a4e2d2d62dfbc1314d600bff79dd9"
  },
  "kernelspec": {
   "display_name": "Python [conda env:env_py2]",
   "language": "python",
   "name": "conda-env-env_py2-py"
  },
  "language_info": {
   "codemirror_mode": {
    "name": "ipython",
    "version": 2
   },
   "file_extension": ".py",
   "mimetype": "text/x-python",
   "name": "python",
   "nbconvert_exporter": "python",
   "pygments_lexer": "ipython2",
   "version": "2.7.16"
  },
  "latex_envs": {
   "LaTeX_envs_menu_present": true,
   "autoclose": false,
   "autocomplete": true,
   "bibliofile": "biblio.bib",
   "cite_by": "apalike",
   "current_citInitial": 1,
   "eqLabelWithNumbers": true,
   "eqNumInitial": 1,
   "hotkeys": {
    "equation": "Ctrl-E",
    "itemize": "Ctrl-I"
   },
   "labels_anchors": false,
   "latex_user_defs": false,
   "report_style_numbering": false,
   "user_envs_cfg": false
  },
  "toc": {
   "base_numbering": 1,
   "nav_menu": {},
   "number_sections": true,
   "sideBar": true,
   "skip_h1_title": false,
   "title_cell": "Table of Contents",
   "title_sidebar": "Contents",
   "toc_cell": false,
   "toc_position": {},
   "toc_section_display": true,
   "toc_window_display": false
  },
  "varInspector": {
   "cols": {
    "lenName": 16,
    "lenType": 16,
    "lenVar": 40
   },
   "kernels_config": {
    "python": {
     "delete_cmd_postfix": "",
     "delete_cmd_prefix": "del ",
     "library": "var_list.py",
     "varRefreshCmd": "print(var_dic_list())"
    },
    "r": {
     "delete_cmd_postfix": ") ",
     "delete_cmd_prefix": "rm(",
     "library": "var_list.r",
     "varRefreshCmd": "cat(var_dic_list()) "
    }
   },
   "types_to_exclude": [
    "module",
    "function",
    "builtin_function_or_method",
    "instance",
    "_Feature"
   ],
   "window_display": false
  }
 },
 "nbformat": 4,
 "nbformat_minor": 2
}
