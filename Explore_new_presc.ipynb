{
 "cells": [
  {
   "cell_type": "code",
   "execution_count": 1,
   "metadata": {
    "ExecuteTime": {
     "end_time": "2021-04-27T10:17:21.075271Z",
     "start_time": "2021-04-27T10:17:19.607941Z"
    },
    "collapsed": true
   },
   "outputs": [],
   "source": [
    "import pandas as pd"
   ]
  },
  {
   "cell_type": "code",
   "execution_count": 2,
   "metadata": {
    "ExecuteTime": {
     "end_time": "2021-04-27T10:19:57.722380Z",
     "start_time": "2021-04-27T10:18:07.736761Z"
    },
    "collapsed": true
   },
   "outputs": [],
   "source": [
    "pdp = pd.read_csv('../../BL_Work/openPrescribe/EPD_201907.zip',compression = 'zip')"
   ]
  },
  {
   "cell_type": "code",
   "execution_count": 3,
   "metadata": {
    "ExecuteTime": {
     "end_time": "2021-04-27T10:20:06.032512Z",
     "start_time": "2021-04-27T10:20:05.958788Z"
    }
   },
   "outputs": [
    {
     "data": {
      "text/html": [
       "<div>\n",
       "<style scoped>\n",
       "    .dataframe tbody tr th:only-of-type {\n",
       "        vertical-align: middle;\n",
       "    }\n",
       "\n",
       "    .dataframe tbody tr th {\n",
       "        vertical-align: top;\n",
       "    }\n",
       "\n",
       "    .dataframe thead th {\n",
       "        text-align: right;\n",
       "    }\n",
       "</style>\n",
       "<table border=\"1\" class=\"dataframe\">\n",
       "  <thead>\n",
       "    <tr style=\"text-align: right;\">\n",
       "      <th></th>\n",
       "      <th>YEAR_MONTH</th>\n",
       "      <th>REGIONAL_OFFICE_NAME</th>\n",
       "      <th>REGIONAL_OFFICE_CODE</th>\n",
       "      <th>AREA_TEAM_NAME</th>\n",
       "      <th>AREA_TEAM_CODE</th>\n",
       "      <th>PCO_NAME</th>\n",
       "      <th>PCO_CODE</th>\n",
       "      <th>PRACTICE_NAME</th>\n",
       "      <th>PRACTICE_CODE</th>\n",
       "      <th>ADDRESS_1</th>\n",
       "      <th>...</th>\n",
       "      <th>BNF_CODE</th>\n",
       "      <th>BNF_DESCRIPTION</th>\n",
       "      <th>BNF_CHAPTER_PLUS_CODE</th>\n",
       "      <th>QUANTITY</th>\n",
       "      <th>ITEMS</th>\n",
       "      <th>TOTAL_QUANTITY</th>\n",
       "      <th>ADQUSAGE</th>\n",
       "      <th>NIC</th>\n",
       "      <th>ACTUAL_COST</th>\n",
       "      <th>UNIDENTIFIED</th>\n",
       "    </tr>\n",
       "  </thead>\n",
       "  <tbody>\n",
       "    <tr>\n",
       "      <th>0</th>\n",
       "      <td>201907</td>\n",
       "      <td>MIDLANDS AND EAST OF ENGLAND</td>\n",
       "      <td>Y55</td>\n",
       "      <td>SHROPSHIRE AND STAFFORDSHIRE AREA</td>\n",
       "      <td>Q60</td>\n",
       "      <td>SHROPSHIRE CCG</td>\n",
       "      <td>05N00</td>\n",
       "      <td>MUCH WENLOCK &amp; CRESSAGE MEDICAL PRACTICE</td>\n",
       "      <td>M82019</td>\n",
       "      <td>KINGSWAY LODGE</td>\n",
       "      <td>...</td>\n",
       "      <td>20031600120</td>\n",
       "      <td>Aquacel Ag Foam dressing (adhesive) 12.5cm x 1...</td>\n",
       "      <td>20: Dressings</td>\n",
       "      <td>1.0</td>\n",
       "      <td>2</td>\n",
       "      <td>2.0</td>\n",
       "      <td>0.0</td>\n",
       "      <td>14.64</td>\n",
       "      <td>13.60887</td>\n",
       "      <td>N</td>\n",
       "    </tr>\n",
       "    <tr>\n",
       "      <th>1</th>\n",
       "      <td>201907</td>\n",
       "      <td>MIDLANDS AND EAST OF ENGLAND</td>\n",
       "      <td>Y55</td>\n",
       "      <td>SHROPSHIRE AND STAFFORDSHIRE AREA</td>\n",
       "      <td>Q60</td>\n",
       "      <td>SHROPSHIRE CCG</td>\n",
       "      <td>05N00</td>\n",
       "      <td>MUCH WENLOCK &amp; CRESSAGE MEDICAL PRACTICE</td>\n",
       "      <td>M82019</td>\n",
       "      <td>KINGSWAY LODGE</td>\n",
       "      <td>...</td>\n",
       "      <td>20031600127</td>\n",
       "      <td>Aquacel Ag Foam dressing (non-adhesive) 10cm x...</td>\n",
       "      <td>20: Dressings</td>\n",
       "      <td>2.0</td>\n",
       "      <td>1</td>\n",
       "      <td>2.0</td>\n",
       "      <td>0.0</td>\n",
       "      <td>12.34</td>\n",
       "      <td>11.47086</td>\n",
       "      <td>N</td>\n",
       "    </tr>\n",
       "    <tr>\n",
       "      <th>2</th>\n",
       "      <td>201907</td>\n",
       "      <td>MIDLANDS AND EAST OF ENGLAND</td>\n",
       "      <td>Y55</td>\n",
       "      <td>SHROPSHIRE AND STAFFORDSHIRE AREA</td>\n",
       "      <td>Q60</td>\n",
       "      <td>SHROPSHIRE CCG</td>\n",
       "      <td>05N00</td>\n",
       "      <td>MUCH WENLOCK &amp; CRESSAGE MEDICAL PRACTICE</td>\n",
       "      <td>M82019</td>\n",
       "      <td>KINGSWAY LODGE</td>\n",
       "      <td>...</td>\n",
       "      <td>20031700034</td>\n",
       "      <td>Aquacel Ag dressing 10cm x 10cm square</td>\n",
       "      <td>20: Dressings</td>\n",
       "      <td>4.0</td>\n",
       "      <td>1</td>\n",
       "      <td>4.0</td>\n",
       "      <td>0.0</td>\n",
       "      <td>19.24</td>\n",
       "      <td>17.88488</td>\n",
       "      <td>N</td>\n",
       "    </tr>\n",
       "    <tr>\n",
       "      <th>3</th>\n",
       "      <td>201907</td>\n",
       "      <td>MIDLANDS AND EAST OF ENGLAND</td>\n",
       "      <td>Y55</td>\n",
       "      <td>SHROPSHIRE AND STAFFORDSHIRE AREA</td>\n",
       "      <td>Q60</td>\n",
       "      <td>SHROPSHIRE CCG</td>\n",
       "      <td>05N00</td>\n",
       "      <td>MUCH WENLOCK &amp; CRESSAGE MEDICAL PRACTICE</td>\n",
       "      <td>M82019</td>\n",
       "      <td>KINGSWAY LODGE</td>\n",
       "      <td>...</td>\n",
       "      <td>20031700075</td>\n",
       "      <td>Aquacel Extra dressing 5cm x 5cm square</td>\n",
       "      <td>20: Dressings</td>\n",
       "      <td>10.0</td>\n",
       "      <td>1</td>\n",
       "      <td>10.0</td>\n",
       "      <td>0.0</td>\n",
       "      <td>10.30</td>\n",
       "      <td>9.57455</td>\n",
       "      <td>N</td>\n",
       "    </tr>\n",
       "    <tr>\n",
       "      <th>4</th>\n",
       "      <td>201907</td>\n",
       "      <td>MIDLANDS AND EAST OF ENGLAND</td>\n",
       "      <td>Y55</td>\n",
       "      <td>SHROPSHIRE AND STAFFORDSHIRE AREA</td>\n",
       "      <td>Q60</td>\n",
       "      <td>SHROPSHIRE CCG</td>\n",
       "      <td>05N00</td>\n",
       "      <td>MUCH WENLOCK &amp; CRESSAGE MEDICAL PRACTICE</td>\n",
       "      <td>M82019</td>\n",
       "      <td>KINGSWAY LODGE</td>\n",
       "      <td>...</td>\n",
       "      <td>20031700075</td>\n",
       "      <td>Aquacel Extra dressing 5cm x 5cm square</td>\n",
       "      <td>20: Dressings</td>\n",
       "      <td>14.0</td>\n",
       "      <td>2</td>\n",
       "      <td>28.0</td>\n",
       "      <td>0.0</td>\n",
       "      <td>28.84</td>\n",
       "      <td>26.80873</td>\n",
       "      <td>N</td>\n",
       "    </tr>\n",
       "  </tbody>\n",
       "</table>\n",
       "<p>5 rows × 26 columns</p>\n",
       "</div>"
      ],
      "text/plain": [
       "   YEAR_MONTH          REGIONAL_OFFICE_NAME REGIONAL_OFFICE_CODE  \\\n",
       "0      201907  MIDLANDS AND EAST OF ENGLAND                  Y55   \n",
       "1      201907  MIDLANDS AND EAST OF ENGLAND                  Y55   \n",
       "2      201907  MIDLANDS AND EAST OF ENGLAND                  Y55   \n",
       "3      201907  MIDLANDS AND EAST OF ENGLAND                  Y55   \n",
       "4      201907  MIDLANDS AND EAST OF ENGLAND                  Y55   \n",
       "\n",
       "                      AREA_TEAM_NAME AREA_TEAM_CODE        PCO_NAME PCO_CODE  \\\n",
       "0  SHROPSHIRE AND STAFFORDSHIRE AREA            Q60  SHROPSHIRE CCG    05N00   \n",
       "1  SHROPSHIRE AND STAFFORDSHIRE AREA            Q60  SHROPSHIRE CCG    05N00   \n",
       "2  SHROPSHIRE AND STAFFORDSHIRE AREA            Q60  SHROPSHIRE CCG    05N00   \n",
       "3  SHROPSHIRE AND STAFFORDSHIRE AREA            Q60  SHROPSHIRE CCG    05N00   \n",
       "4  SHROPSHIRE AND STAFFORDSHIRE AREA            Q60  SHROPSHIRE CCG    05N00   \n",
       "\n",
       "                              PRACTICE_NAME PRACTICE_CODE       ADDRESS_1  \\\n",
       "0  MUCH WENLOCK & CRESSAGE MEDICAL PRACTICE        M82019  KINGSWAY LODGE   \n",
       "1  MUCH WENLOCK & CRESSAGE MEDICAL PRACTICE        M82019  KINGSWAY LODGE   \n",
       "2  MUCH WENLOCK & CRESSAGE MEDICAL PRACTICE        M82019  KINGSWAY LODGE   \n",
       "3  MUCH WENLOCK & CRESSAGE MEDICAL PRACTICE        M82019  KINGSWAY LODGE   \n",
       "4  MUCH WENLOCK & CRESSAGE MEDICAL PRACTICE        M82019  KINGSWAY LODGE   \n",
       "\n",
       "   ...     BNF_CODE                                    BNF_DESCRIPTION  \\\n",
       "0  ...  20031600120  Aquacel Ag Foam dressing (adhesive) 12.5cm x 1...   \n",
       "1  ...  20031600127  Aquacel Ag Foam dressing (non-adhesive) 10cm x...   \n",
       "2  ...  20031700034             Aquacel Ag dressing 10cm x 10cm square   \n",
       "3  ...  20031700075            Aquacel Extra dressing 5cm x 5cm square   \n",
       "4  ...  20031700075            Aquacel Extra dressing 5cm x 5cm square   \n",
       "\n",
       "  BNF_CHAPTER_PLUS_CODE QUANTITY ITEMS TOTAL_QUANTITY ADQUSAGE    NIC  \\\n",
       "0         20: Dressings      1.0     2            2.0      0.0  14.64   \n",
       "1         20: Dressings      2.0     1            2.0      0.0  12.34   \n",
       "2         20: Dressings      4.0     1            4.0      0.0  19.24   \n",
       "3         20: Dressings     10.0     1           10.0      0.0  10.30   \n",
       "4         20: Dressings     14.0     2           28.0      0.0  28.84   \n",
       "\n",
       "  ACTUAL_COST  UNIDENTIFIED  \n",
       "0    13.60887             N  \n",
       "1    11.47086             N  \n",
       "2    17.88488             N  \n",
       "3     9.57455             N  \n",
       "4    26.80873             N  \n",
       "\n",
       "[5 rows x 26 columns]"
      ]
     },
     "execution_count": 3,
     "metadata": {},
     "output_type": "execute_result"
    }
   ],
   "source": [
    "pdp.head()"
   ]
  },
  {
   "cell_type": "code",
   "execution_count": 4,
   "metadata": {
    "ExecuteTime": {
     "end_time": "2021-04-27T10:20:35.416214Z",
     "start_time": "2021-04-27T10:20:35.404165Z"
    }
   },
   "outputs": [
    {
     "data": {
      "text/plain": [
       "Index([u'YEAR_MONTH', u'REGIONAL_OFFICE_NAME', u'REGIONAL_OFFICE_CODE',\n",
       "       u'AREA_TEAM_NAME', u'AREA_TEAM_CODE', u'PCO_NAME', u'PCO_CODE',\n",
       "       u'PRACTICE_NAME', u'PRACTICE_CODE', u'ADDRESS_1', u'ADDRESS_2',\n",
       "       u'ADDRESS_3', u'ADDRESS_4', u'POSTCODE', u'BNF_CHEMICAL_SUBSTANCE',\n",
       "       u'CHEMICAL_SUBSTANCE_BNF_DESCR', u'BNF_CODE', u'BNF_DESCRIPTION',\n",
       "       u'BNF_CHAPTER_PLUS_CODE', u'QUANTITY', u'ITEMS', u'TOTAL_QUANTITY',\n",
       "       u'ADQUSAGE', u'NIC', u'ACTUAL_COST', u'UNIDENTIFIED'],\n",
       "      dtype='object')"
      ]
     },
     "execution_count": 4,
     "metadata": {},
     "output_type": "execute_result"
    }
   ],
   "source": [
    "pdp.columns"
   ]
  },
  {
   "cell_type": "code",
   "execution_count": 8,
   "metadata": {
    "ExecuteTime": {
     "end_time": "2021-04-27T10:23:08.111783Z",
     "start_time": "2021-04-27T10:23:06.166287Z"
    },
    "collapsed": true
   },
   "outputs": [],
   "source": [
    "names = set(pdp['CHEMICAL_SUBSTANCE_BNF_DESCR'])"
   ]
  },
  {
   "cell_type": "code",
   "execution_count": 11,
   "metadata": {
    "ExecuteTime": {
     "end_time": "2021-05-11T08:46:58.617375Z",
     "start_time": "2021-05-11T08:46:58.595488Z"
    }
   },
   "outputs": [
    {
     "data": {
      "text/plain": [
       "1485"
      ]
     },
     "execution_count": 11,
     "metadata": {},
     "output_type": "execute_result"
    }
   ],
   "source": [
    "len(names)"
   ]
  },
  {
   "cell_type": "code",
   "execution_count": 15,
   "metadata": {
    "ExecuteTime": {
     "end_time": "2021-05-11T08:49:36.871276Z",
     "start_time": "2021-05-11T08:49:36.747478Z"
    }
   },
   "outputs": [],
   "source": [
    "gp_prac = pd.read_csv('mappings/epraccur_2021.csv',header=None)"
   ]
  },
  {
   "cell_type": "code",
   "execution_count": 16,
   "metadata": {
    "ExecuteTime": {
     "end_time": "2021-05-11T08:49:55.403673Z",
     "start_time": "2021-05-11T08:49:55.355979Z"
    }
   },
   "outputs": [
    {
     "data": {
      "text/html": [
       "<div>\n",
       "<style scoped>\n",
       "    .dataframe tbody tr th:only-of-type {\n",
       "        vertical-align: middle;\n",
       "    }\n",
       "\n",
       "    .dataframe tbody tr th {\n",
       "        vertical-align: top;\n",
       "    }\n",
       "\n",
       "    .dataframe thead th {\n",
       "        text-align: right;\n",
       "    }\n",
       "</style>\n",
       "<table border=\"1\" class=\"dataframe\">\n",
       "  <thead>\n",
       "    <tr style=\"text-align: right;\">\n",
       "      <th></th>\n",
       "      <th>0</th>\n",
       "      <th>1</th>\n",
       "      <th>2</th>\n",
       "      <th>3</th>\n",
       "      <th>4</th>\n",
       "      <th>5</th>\n",
       "      <th>6</th>\n",
       "      <th>7</th>\n",
       "      <th>8</th>\n",
       "      <th>9</th>\n",
       "      <th>...</th>\n",
       "      <th>17</th>\n",
       "      <th>18</th>\n",
       "      <th>19</th>\n",
       "      <th>20</th>\n",
       "      <th>21</th>\n",
       "      <th>22</th>\n",
       "      <th>23</th>\n",
       "      <th>24</th>\n",
       "      <th>25</th>\n",
       "      <th>26</th>\n",
       "    </tr>\n",
       "  </thead>\n",
       "  <tbody>\n",
       "    <tr>\n",
       "      <th>0</th>\n",
       "      <td>A81001</td>\n",
       "      <td>THE DENSHAM SURGERY</td>\n",
       "      <td>Y63</td>\n",
       "      <td>QHM</td>\n",
       "      <td>THE HEALTH CENTRE</td>\n",
       "      <td>LAWSON STREET</td>\n",
       "      <td>STOCKTON-ON-TEES</td>\n",
       "      <td>CLEVELAND</td>\n",
       "      <td>NaN</td>\n",
       "      <td>TS18 1HU</td>\n",
       "      <td>...</td>\n",
       "      <td>01642 672351</td>\n",
       "      <td>NaN</td>\n",
       "      <td>NaN</td>\n",
       "      <td>NaN</td>\n",
       "      <td>0</td>\n",
       "      <td>NaN</td>\n",
       "      <td>16C</td>\n",
       "      <td>NaN</td>\n",
       "      <td>4</td>\n",
       "      <td>NaN</td>\n",
       "    </tr>\n",
       "    <tr>\n",
       "      <th>1</th>\n",
       "      <td>A81002</td>\n",
       "      <td>QUEENS PARK MEDICAL CENTRE</td>\n",
       "      <td>Y63</td>\n",
       "      <td>QHM</td>\n",
       "      <td>QUEENS PARK MEDICAL CTR</td>\n",
       "      <td>FARRER STREET</td>\n",
       "      <td>STOCKTON ON TEES</td>\n",
       "      <td>CLEVELAND</td>\n",
       "      <td>NaN</td>\n",
       "      <td>TS18 2AW</td>\n",
       "      <td>...</td>\n",
       "      <td>01642 679681</td>\n",
       "      <td>NaN</td>\n",
       "      <td>NaN</td>\n",
       "      <td>NaN</td>\n",
       "      <td>0</td>\n",
       "      <td>NaN</td>\n",
       "      <td>16C</td>\n",
       "      <td>NaN</td>\n",
       "      <td>4</td>\n",
       "      <td>NaN</td>\n",
       "    </tr>\n",
       "    <tr>\n",
       "      <th>2</th>\n",
       "      <td>A81003</td>\n",
       "      <td>VICTORIA MEDICAL PRACTICE</td>\n",
       "      <td>Y54</td>\n",
       "      <td>Q74</td>\n",
       "      <td>THE HEALTH CENTRE</td>\n",
       "      <td>VICTORIA ROAD</td>\n",
       "      <td>HARTLEPOOL</td>\n",
       "      <td>CLEVELAND</td>\n",
       "      <td>NaN</td>\n",
       "      <td>TS26 8DB</td>\n",
       "      <td>...</td>\n",
       "      <td>01429 272945</td>\n",
       "      <td>NaN</td>\n",
       "      <td>NaN</td>\n",
       "      <td>NaN</td>\n",
       "      <td>0</td>\n",
       "      <td>NaN</td>\n",
       "      <td>00K</td>\n",
       "      <td>NaN</td>\n",
       "      <td>4</td>\n",
       "      <td>NaN</td>\n",
       "    </tr>\n",
       "    <tr>\n",
       "      <th>3</th>\n",
       "      <td>A81004</td>\n",
       "      <td>BLUEBELL MEDICAL CENTRE</td>\n",
       "      <td>Y63</td>\n",
       "      <td>QHM</td>\n",
       "      <td>TRIMDON AVENUE</td>\n",
       "      <td>ACKLAM</td>\n",
       "      <td>MIDDLESBROUGH</td>\n",
       "      <td>NaN</td>\n",
       "      <td>NaN</td>\n",
       "      <td>TS5 8SB</td>\n",
       "      <td>...</td>\n",
       "      <td>01642 827697</td>\n",
       "      <td>NaN</td>\n",
       "      <td>NaN</td>\n",
       "      <td>NaN</td>\n",
       "      <td>0</td>\n",
       "      <td>NaN</td>\n",
       "      <td>16C</td>\n",
       "      <td>NaN</td>\n",
       "      <td>4</td>\n",
       "      <td>NaN</td>\n",
       "    </tr>\n",
       "    <tr>\n",
       "      <th>4</th>\n",
       "      <td>A81005</td>\n",
       "      <td>SPRINGWOOD SURGERY</td>\n",
       "      <td>Y63</td>\n",
       "      <td>QHM</td>\n",
       "      <td>SPRINGWOOD SURGERY</td>\n",
       "      <td>RECTORY LANE</td>\n",
       "      <td>GUISBOROUGH</td>\n",
       "      <td>NaN</td>\n",
       "      <td>NaN</td>\n",
       "      <td>TS14 7DJ</td>\n",
       "      <td>...</td>\n",
       "      <td>01287 619611</td>\n",
       "      <td>NaN</td>\n",
       "      <td>NaN</td>\n",
       "      <td>NaN</td>\n",
       "      <td>0</td>\n",
       "      <td>NaN</td>\n",
       "      <td>16C</td>\n",
       "      <td>NaN</td>\n",
       "      <td>4</td>\n",
       "      <td>NaN</td>\n",
       "    </tr>\n",
       "  </tbody>\n",
       "</table>\n",
       "<p>5 rows × 27 columns</p>\n",
       "</div>"
      ],
      "text/plain": [
       "       0                           1    2    3                        4   \\\n",
       "0  A81001         THE DENSHAM SURGERY  Y63  QHM        THE HEALTH CENTRE   \n",
       "1  A81002  QUEENS PARK MEDICAL CENTRE  Y63  QHM  QUEENS PARK MEDICAL CTR   \n",
       "2  A81003   VICTORIA MEDICAL PRACTICE  Y54  Q74        THE HEALTH CENTRE   \n",
       "3  A81004     BLUEBELL MEDICAL CENTRE  Y63  QHM           TRIMDON AVENUE   \n",
       "4  A81005          SPRINGWOOD SURGERY  Y63  QHM       SPRINGWOOD SURGERY   \n",
       "\n",
       "              5                 6          7    8         9   ...  \\\n",
       "0  LAWSON STREET  STOCKTON-ON-TEES  CLEVELAND  NaN  TS18 1HU  ...   \n",
       "1  FARRER STREET  STOCKTON ON TEES  CLEVELAND  NaN  TS18 2AW  ...   \n",
       "2  VICTORIA ROAD        HARTLEPOOL  CLEVELAND  NaN  TS26 8DB  ...   \n",
       "3         ACKLAM     MIDDLESBROUGH        NaN  NaN   TS5 8SB  ...   \n",
       "4   RECTORY LANE       GUISBOROUGH        NaN  NaN  TS14 7DJ  ...   \n",
       "\n",
       "             17  18  19  20 21  22   23  24  25  26  \n",
       "0  01642 672351 NaN NaN NaN  0 NaN  16C NaN   4 NaN  \n",
       "1  01642 679681 NaN NaN NaN  0 NaN  16C NaN   4 NaN  \n",
       "2  01429 272945 NaN NaN NaN  0 NaN  00K NaN   4 NaN  \n",
       "3  01642 827697 NaN NaN NaN  0 NaN  16C NaN   4 NaN  \n",
       "4  01287 619611 NaN NaN NaN  0 NaN  16C NaN   4 NaN  \n",
       "\n",
       "[5 rows x 27 columns]"
      ]
     },
     "execution_count": 16,
     "metadata": {},
     "output_type": "execute_result"
    }
   ],
   "source": [
    "gp_prac.head(n=5)"
   ]
  },
  {
   "cell_type": "code",
   "execution_count": 17,
   "metadata": {
    "ExecuteTime": {
     "end_time": "2021-05-11T09:30:17.213143Z",
     "start_time": "2021-05-11T09:30:17.201537Z"
    }
   },
   "outputs": [
    {
     "data": {
      "text/plain": [
       "17814786"
      ]
     },
     "execution_count": 17,
     "metadata": {},
     "output_type": "execute_result"
    }
   ],
   "source": [
    "len(pdp)"
   ]
  },
  {
   "cell_type": "code",
   "execution_count": 21,
   "metadata": {
    "ExecuteTime": {
     "end_time": "2021-05-11T09:34:03.895118Z",
     "start_time": "2021-05-11T09:33:35.960669Z"
    },
    "collapsed": true
   },
   "outputs": [],
   "source": [
    "merged = pd.merge(pdp , gp_prac , left_on='PRACTICE_CODE', right_on=0, how='right')"
   ]
  },
  {
   "cell_type": "code",
   "execution_count": 22,
   "metadata": {
    "ExecuteTime": {
     "end_time": "2021-05-11T09:34:44.392570Z",
     "start_time": "2021-05-11T09:34:44.382949Z"
    }
   },
   "outputs": [
    {
     "data": {
      "text/plain": [
       "17796897"
      ]
     },
     "execution_count": 22,
     "metadata": {},
     "output_type": "execute_result"
    }
   ],
   "source": [
    "len(merged)"
   ]
  },
  {
   "cell_type": "code",
   "execution_count": 23,
   "metadata": {
    "ExecuteTime": {
     "end_time": "2021-05-11T09:35:22.813820Z",
     "start_time": "2021-05-11T09:35:22.773606Z"
    }
   },
   "outputs": [
    {
     "data": {
      "text/html": [
       "<div>\n",
       "<style scoped>\n",
       "    .dataframe tbody tr th:only-of-type {\n",
       "        vertical-align: middle;\n",
       "    }\n",
       "\n",
       "    .dataframe tbody tr th {\n",
       "        vertical-align: top;\n",
       "    }\n",
       "\n",
       "    .dataframe thead th {\n",
       "        text-align: right;\n",
       "    }\n",
       "</style>\n",
       "<table border=\"1\" class=\"dataframe\">\n",
       "  <thead>\n",
       "    <tr style=\"text-align: right;\">\n",
       "      <th></th>\n",
       "      <th>YEAR_MONTH</th>\n",
       "      <th>REGIONAL_OFFICE_NAME</th>\n",
       "      <th>REGIONAL_OFFICE_CODE</th>\n",
       "      <th>AREA_TEAM_NAME</th>\n",
       "      <th>AREA_TEAM_CODE</th>\n",
       "      <th>PCO_NAME</th>\n",
       "      <th>PCO_CODE</th>\n",
       "      <th>PRACTICE_NAME</th>\n",
       "      <th>PRACTICE_CODE</th>\n",
       "      <th>ADDRESS_1</th>\n",
       "      <th>...</th>\n",
       "      <th>17</th>\n",
       "      <th>18</th>\n",
       "      <th>19</th>\n",
       "      <th>20</th>\n",
       "      <th>21</th>\n",
       "      <th>22</th>\n",
       "      <th>23</th>\n",
       "      <th>24</th>\n",
       "      <th>25</th>\n",
       "      <th>26</th>\n",
       "    </tr>\n",
       "  </thead>\n",
       "  <tbody>\n",
       "    <tr>\n",
       "      <th>0</th>\n",
       "      <td>201907.0</td>\n",
       "      <td>MIDLANDS AND EAST OF ENGLAND</td>\n",
       "      <td>Y55</td>\n",
       "      <td>SHROPSHIRE AND STAFFORDSHIRE AREA</td>\n",
       "      <td>Q60</td>\n",
       "      <td>SHROPSHIRE CCG</td>\n",
       "      <td>05N00</td>\n",
       "      <td>MUCH WENLOCK &amp; CRESSAGE MEDICAL PRACTICE</td>\n",
       "      <td>M82019</td>\n",
       "      <td>KINGSWAY LODGE</td>\n",
       "      <td>...</td>\n",
       "      <td>01952 726011</td>\n",
       "      <td>NaN</td>\n",
       "      <td>NaN</td>\n",
       "      <td>NaN</td>\n",
       "      <td>0</td>\n",
       "      <td>NaN</td>\n",
       "      <td>05N</td>\n",
       "      <td>NaN</td>\n",
       "      <td>4</td>\n",
       "      <td>NaN</td>\n",
       "    </tr>\n",
       "    <tr>\n",
       "      <th>1</th>\n",
       "      <td>201907.0</td>\n",
       "      <td>MIDLANDS AND EAST OF ENGLAND</td>\n",
       "      <td>Y55</td>\n",
       "      <td>SHROPSHIRE AND STAFFORDSHIRE AREA</td>\n",
       "      <td>Q60</td>\n",
       "      <td>SHROPSHIRE CCG</td>\n",
       "      <td>05N00</td>\n",
       "      <td>MUCH WENLOCK &amp; CRESSAGE MEDICAL PRACTICE</td>\n",
       "      <td>M82019</td>\n",
       "      <td>KINGSWAY LODGE</td>\n",
       "      <td>...</td>\n",
       "      <td>01952 726011</td>\n",
       "      <td>NaN</td>\n",
       "      <td>NaN</td>\n",
       "      <td>NaN</td>\n",
       "      <td>0</td>\n",
       "      <td>NaN</td>\n",
       "      <td>05N</td>\n",
       "      <td>NaN</td>\n",
       "      <td>4</td>\n",
       "      <td>NaN</td>\n",
       "    </tr>\n",
       "  </tbody>\n",
       "</table>\n",
       "<p>2 rows × 53 columns</p>\n",
       "</div>"
      ],
      "text/plain": [
       "   YEAR_MONTH          REGIONAL_OFFICE_NAME REGIONAL_OFFICE_CODE  \\\n",
       "0    201907.0  MIDLANDS AND EAST OF ENGLAND                  Y55   \n",
       "1    201907.0  MIDLANDS AND EAST OF ENGLAND                  Y55   \n",
       "\n",
       "                      AREA_TEAM_NAME AREA_TEAM_CODE        PCO_NAME PCO_CODE  \\\n",
       "0  SHROPSHIRE AND STAFFORDSHIRE AREA            Q60  SHROPSHIRE CCG    05N00   \n",
       "1  SHROPSHIRE AND STAFFORDSHIRE AREA            Q60  SHROPSHIRE CCG    05N00   \n",
       "\n",
       "                              PRACTICE_NAME PRACTICE_CODE       ADDRESS_1  \\\n",
       "0  MUCH WENLOCK & CRESSAGE MEDICAL PRACTICE        M82019  KINGSWAY LODGE   \n",
       "1  MUCH WENLOCK & CRESSAGE MEDICAL PRACTICE        M82019  KINGSWAY LODGE   \n",
       "\n",
       "   ...            17  18  19  20 21  22   23  24 25  26  \n",
       "0  ...  01952 726011 NaN NaN NaN  0 NaN  05N NaN  4 NaN  \n",
       "1  ...  01952 726011 NaN NaN NaN  0 NaN  05N NaN  4 NaN  \n",
       "\n",
       "[2 rows x 53 columns]"
      ]
     },
     "execution_count": 23,
     "metadata": {},
     "output_type": "execute_result"
    }
   ],
   "source": [
    "merged.head(n=2)"
   ]
  },
  {
   "cell_type": "code",
   "execution_count": null,
   "metadata": {
    "collapsed": true
   },
   "outputs": [],
   "source": []
  }
 ],
 "metadata": {
  "kernelspec": {
   "display_name": "Python [conda env:env_py2]",
   "language": "python",
   "name": "conda-env-env_py2-py"
  },
  "language_info": {
   "codemirror_mode": {
    "name": "ipython",
    "version": 2
   },
   "file_extension": ".py",
   "mimetype": "text/x-python",
   "name": "python",
   "nbconvert_exporter": "python",
   "pygments_lexer": "ipython2",
   "version": "2.7.16"
  },
  "latex_envs": {
   "LaTeX_envs_menu_present": true,
   "autoclose": false,
   "autocomplete": true,
   "bibliofile": "biblio.bib",
   "cite_by": "apalike",
   "current_citInitial": 1,
   "eqLabelWithNumbers": true,
   "eqNumInitial": 1,
   "hotkeys": {
    "equation": "Ctrl-E",
    "itemize": "Ctrl-I"
   },
   "labels_anchors": false,
   "latex_user_defs": false,
   "report_style_numbering": false,
   "user_envs_cfg": false
  },
  "toc": {
   "base_numbering": 1,
   "nav_menu": {},
   "number_sections": true,
   "sideBar": true,
   "skip_h1_title": false,
   "title_cell": "Table of Contents",
   "title_sidebar": "Contents",
   "toc_cell": false,
   "toc_position": {},
   "toc_section_display": true,
   "toc_window_display": false
  },
  "varInspector": {
   "cols": {
    "lenName": 16,
    "lenType": 16,
    "lenVar": 40
   },
   "kernels_config": {
    "python": {
     "delete_cmd_postfix": "",
     "delete_cmd_prefix": "del ",
     "library": "var_list.py",
     "varRefreshCmd": "print(var_dic_list())"
    },
    "r": {
     "delete_cmd_postfix": ") ",
     "delete_cmd_prefix": "rm(",
     "library": "var_list.r",
     "varRefreshCmd": "cat(var_dic_list()) "
    }
   },
   "types_to_exclude": [
    "module",
    "function",
    "builtin_function_or_method",
    "instance",
    "_Feature"
   ],
   "window_display": false
  }
 },
 "nbformat": 4,
 "nbformat_minor": 2
}
