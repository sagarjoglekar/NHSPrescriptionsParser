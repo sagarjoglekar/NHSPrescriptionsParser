{
 "cells": [
  {
   "cell_type": "code",
   "execution_count": 3,
   "metadata": {
    "ExecuteTime": {
     "end_time": "2021-06-08T21:14:28.047551Z",
     "start_time": "2021-06-08T21:14:27.876948Z"
    },
    "collapsed": true
   },
   "outputs": [],
   "source": [
    "import pandas as pd\n",
    "import geopandas as gp \n",
    "import json\n",
    "from glob import glob\n",
    "import numpy as np\n",
    "import matplotlib.pyplot as plt\n",
    "import seaborn as sns\n",
    "\n",
    "sns.set(rc={'figure.figsize':(12,8)})\n",
    "%matplotlib inline\n",
    "from tqdm import tqdm\n",
    "import glob\n",
    "import numpy as np\n",
    "from scipy.stats import pearsonr\n",
    "from scipy.stats import linregress\n",
    "import pickle as pkl\n",
    "import networkx as nx"
   ]
  },
  {
   "cell_type": "code",
   "execution_count": 4,
   "metadata": {
    "ExecuteTime": {
     "end_time": "2021-06-08T21:14:30.400232Z",
     "start_time": "2021-06-08T21:14:28.387190Z"
    },
    "collapsed": true
   },
   "outputs": [],
   "source": [
    "drug_association_graph = nx.read_gexf('../mappings/drug_association_graph.gexf')\n",
    "drug_cat_association_graph = nx.read_gexf('../mappings/category_association_graph.gexf')"
   ]
  },
  {
   "cell_type": "code",
   "execution_count": 7,
   "metadata": {
    "ExecuteTime": {
     "end_time": "2021-06-08T21:15:05.553753Z",
     "start_time": "2021-06-08T21:15:04.200476Z"
    },
    "collapsed": true
   },
   "outputs": [],
   "source": [
    "def cleanStringofUTF(string):\n",
    "    my_str_as_bytes = str.encode(string,'utf-8')\n",
    "    cleaned = str(my_str_as_bytes).replace('\\xe8','e').replace('\\xf6','o')\n",
    "    return cleaned\n",
    "\n",
    "\n",
    "def enrichdrugs(chem_dict , drugs):\n",
    "    diabetes_drug_words = [drugs[k]['name'].lower() for k in drugs]\n",
    "    for drug in chem_dict:\n",
    "        Name = chem_dict[drug]['name'].replace('(','').replace(')','')\n",
    "        slot1 = Name.lower().split('/')\n",
    "        slot2 = Name.lower().split(' ')\n",
    "        slot3 = Name.lower().split(' & ')\n",
    "        common1 = set(diabetes_drug_words).intersection(slot1)\n",
    "        common2 = set(diabetes_drug_words).intersection(slot2)\n",
    "        common3 = set(diabetes_drug_words).intersection(slot3)\n",
    "        \n",
    "        if len(common1) > 0 or len(common2) > 0 or len(common3) > 0:\n",
    "#             print common1 , common2 , common3\n",
    "            drugs[chem_dict[drug]['code']] = {'disease':'' , 'disease_given_drug':0.0 , 'matched_disease':'', 'name':chem_dict[drug]['name'].strip() }\n",
    "\n",
    "            \n",
    "            \n",
    "def makeChemDict(BNF_Chem):\n",
    "    chem_dict = {}\n",
    "    for index, row in BNF_Chem.iterrows():\n",
    "        chem_dict[row['UNII_drugbank']] = {}\n",
    "        chem_dict[row['UNII_drugbank']]['name'] = row['NAME']\n",
    "        chem_dict[row['UNII_drugbank']]['code'] = row['BNF_code']\n",
    "    return chem_dict\n",
    "    \n",
    "def getDrugCategory(categorylist, BNF_Chem, drugbankDict):\n",
    "    allMatched = []\n",
    "    drugs = {}\n",
    "    chem_dict = makeChemDict(BNF_Chem)\n",
    "    \n",
    "    for k in drugbankDict:\n",
    "        if len(drugbankDict[k]['Categories']) > 0:\n",
    "            for cat in drugbankDict[k]['Categories']:\n",
    "                matched_memo = []\n",
    "                catString = cat.values()[0]#.split('\\u2014')[-1]\n",
    "                t = catString.lower().strip()\n",
    "                for categoryString in categorylist:\n",
    "                    categoryString = categoryString.lower()\n",
    "                    if t.find(categoryString) >= 0:\n",
    "                        matched_memo.append(categoryString)\n",
    "                if k in chem_dict:\n",
    "                    if len(matched_memo) > 0:# == len(categorylist):\n",
    "                        allMatched.append(k)\n",
    "#                         print chem_dict[k]\n",
    "                        drugs[chem_dict[k]['code']] = {}\n",
    "                        drugs[chem_dict[k]['code']]['name'] = chem_dict[k]['name']\n",
    "                        drugs[chem_dict[k]['code']]['matched_cat'] = categorylist\n",
    "    enrichdrugs(chem_dict,drugs)               \n",
    "    return list(set(allMatched)) , drugs\n",
    "\n",
    "\n",
    "def getDrugforDiseaseDrugbank(categorylist, BNF_Chem, drugbankDict):\n",
    "    allMatched = []\n",
    "    drugs = {}\n",
    "    chem_dict = makeChemDict(BNF_Chem)\n",
    "    \n",
    "    for k in drugbankDict:\n",
    "        if len(drugbankDict[k]['Associations']) > 0:\n",
    "            for cat in drugbankDict[k]['Associations']:\n",
    "                matched_memo = []\n",
    "                catString = cat.values()[0]\n",
    "                t = catString.lower().strip()\n",
    "                for categoryString in categorylist:\n",
    "                    categoryString = categoryString.lower()\n",
    "                    if t.find(categoryString) >= 0:\n",
    "                        matched_memo.append(categoryString)\n",
    "                if k in chem_dict:\n",
    "                    if len(matched_memo) > 0:\n",
    "                        allMatched.append(k)\n",
    "#                         print chem_dict[k]\n",
    "                        drugs[chem_dict[k]['code']] = {}\n",
    "                        drugs[chem_dict[k]['code']]['name'] = chem_dict[k]['name']\n",
    "                        drugs[chem_dict[k]['code']]['matched_cat'] = categorylist\n",
    "    enrichdrugs(chem_dict,drugs)               \n",
    "    return  allMatched , drugs\n",
    "\n",
    "\n",
    "def findDrugsForDisease(Graph, Disease, BNF_Chem ):#,threshProb):\n",
    "    chem_dict = makeChemDict(BNF_Chem)\n",
    "    drugs = {}\n",
    "    for e in Graph.edges(data=True):\n",
    "        if (cleanStringofUTF(e[1]).lower().find(Disease.lower()) >=0) or (cleanStringofUTF(e[0]).lower().find(Disease.lower()) >= 0) :\n",
    "            drugNode = ''\n",
    "            matchedDisease = ''\n",
    "            if Graph.node[e[0]]['type'] == 'symptom':\n",
    "                drugNode = e[1]\n",
    "                matchedDisease = e[0]\n",
    "            else:\n",
    "                drugNode = e[0]\n",
    "                matchedDisease = e[1]\n",
    "            drugs[Graph.node[drugNode]['Id']] = {}\n",
    "            drugs[Graph.node[drugNode]['Id']]['name'] = drugNode\n",
    "            drugs[Graph.node[drugNode]['Id']]['matched_disease'] = matchedDisease\n",
    "            drugs[Graph.node[drugNode]['Id']]['disease'] = Disease\n",
    "    enrichdrugs(chem_dict,drugs)\n",
    "    return drugs\n",
    "\n",
    "\n",
    "def generateConfidence(drugs,Graph):\n",
    "    shared = []\n",
    "    All = []\n",
    "    denom = max(Graph.degree().values())\n",
    "    for d in drugs:\n",
    "        name = drugs[d]['name']\n",
    "        for e in Graph.edges(data=True):\n",
    "            if Graph.node[e[0]]['type'] == 'symptom':\n",
    "                if e[1] == name:\n",
    "                    shared.append(Graph.degree()[e[1]]-1)\n",
    "                else:\n",
    "                    continue\n",
    "            else:\n",
    "                \n",
    "                if e[0] == name:\n",
    "                    shared.append(Graph.degree()[e[0]]-1)\n",
    "                else:\n",
    "                    continue\n",
    "#     shared = [float(k) for k in shared]\n",
    "    num = [k for k in shared if k > 1]\n",
    "\n",
    "    return float(len(num)+1.0)/float(len(shared)+1.0)\n",
    "#     return float(len(num))/float(len(shared)) * 10.0\n",
    "#     return len(num)\n",
    "                \n",
    "                \n",
    "def findDrugsForCategory(Graph, Cat, BNF_Chem ):#,threshProb):\n",
    "    chem_dict = makeChemDict(BNF_Chem)\n",
    "    drugs = {}\n",
    "    for e in Graph.edges(data=True):\n",
    "        if (cleanStringofUTF(e[1]).lower().find(Cat.lower()) >=0) or (cleanStringofUTF(e[0]).lower().find(Cat.lower()) >= 0) :\n",
    "            drugNode = ''\n",
    "            matchedDisease = ''\n",
    "            if Graph.node[e[0]]['type'] == 'category':\n",
    "                drugNode = e[1]\n",
    "                matchedDisease = e[0]\n",
    "            else:\n",
    "                drugNode = e[0]\n",
    "                matchedDisease = e[1]\n",
    "\n",
    "            drugs[Graph.node[drugNode]['Id']] = {}\n",
    "            drugs[Graph.node[drugNode]['Id']]['name'] = drugNode\n",
    "            drugs[Graph.node[drugNode]['Id']]['matched_cat'] = matchedDisease\n",
    "            drugs[Graph.node[drugNode]['Id']]['category'] = Cat\n",
    "    enrichdrugs(chem_dict,drugs)\n",
    "    return drugs\n"
   ]
  },
  {
   "cell_type": "code",
   "execution_count": 8,
   "metadata": {
    "ExecuteTime": {
     "end_time": "2021-06-08T21:15:05.615928Z",
     "start_time": "2021-06-08T21:15:05.610056Z"
    }
   },
   "outputs": [
    {
     "name": "stdout",
     "output_type": "stream",
     "text": [
      "['../../BL_Work/openPrescribe/serialized/201810.gz', '../../BL_Work/openPrescribe/serialized/201710.gz', '../../BL_Work/openPrescribe/serialized/201203.gz', '../../BL_Work/openPrescribe/serialized/201110.gz', '../../BL_Work/openPrescribe/serialized/202010.gz', '../../BL_Work/openPrescribe/serialized/201804.gz', '../../BL_Work/openPrescribe/serialized/201911.gz', '../../BL_Work/openPrescribe/serialized/201308.gz', '../../BL_Work/openPrescribe/serialized/201708.gz', '../../BL_Work/openPrescribe/serialized/202005.gz', '../../BL_Work/openPrescribe/serialized/201211.gz', '../../BL_Work/openPrescribe/serialized/201707.gz', '../../BL_Work/openPrescribe/serialized/201803.gz', '../../BL_Work/openPrescribe/serialized/201410.gz', '../../BL_Work/openPrescribe/serialized/201301.gz', '../../BL_Work/openPrescribe/serialized/201201.gz', '../../BL_Work/openPrescribe/serialized/201409.gz', '../../BL_Work/openPrescribe/serialized/201812.gz', '../../BL_Work/openPrescribe/serialized/201603.gz', '../../BL_Work/openPrescribe/serialized/201109.gz', '../../BL_Work/openPrescribe/serialized/201512.gz', '../../BL_Work/openPrescribe/serialized/202004.gz', '../../BL_Work/openPrescribe/serialized/201601.gz', '../../BL_Work/openPrescribe/serialized/201101.gz', '../../BL_Work/openPrescribe/serialized/201402.gz', '../../BL_Work/openPrescribe/serialized/201602.gz', '../../BL_Work/openPrescribe/serialized/201206.gz', '../../BL_Work/openPrescribe/serialized/201207.gz', '../../BL_Work/openPrescribe/serialized/201210.gz', '../../BL_Work/openPrescribe/serialized/201404.gz', '../../BL_Work/openPrescribe/serialized/201105.gz', '../../BL_Work/openPrescribe/serialized/201705.gz', '../../BL_Work/openPrescribe/serialized/201509.gz', '../../BL_Work/openPrescribe/serialized/202007.gz', '../../BL_Work/openPrescribe/serialized/201802.gz', '../../BL_Work/openPrescribe/serialized/201307.gz', '../../BL_Work/openPrescribe/serialized/201902.gz', '../../BL_Work/openPrescribe/serialized/201204.gz', '../../BL_Work/openPrescribe/serialized/201104.gz', '../../BL_Work/openPrescribe/serialized/201102.gz', '../../BL_Work/openPrescribe/serialized/201507.gz', '../../BL_Work/openPrescribe/serialized/201502.gz', '../../BL_Work/openPrescribe/serialized/201103.gz', '../../BL_Work/openPrescribe/serialized/201704.gz', '../../BL_Work/openPrescribe/serialized/201511.gz', '../../BL_Work/openPrescribe/serialized/201406.gz', '../../BL_Work/openPrescribe/serialized/201808.gz', '../../BL_Work/openPrescribe/serialized/202012.gz', '../../BL_Work/openPrescribe/serialized/201904.gz', '../../BL_Work/openPrescribe/serialized/201407.gz', '../../BL_Work/openPrescribe/serialized/202101.gz', '../../BL_Work/openPrescribe/serialized/201805.gz', '../../BL_Work/openPrescribe/serialized/202002.gz', '../../BL_Work/openPrescribe/serialized/201506.gz', '../../BL_Work/openPrescribe/serialized/201008.gz', '../../BL_Work/openPrescribe/serialized/201611.gz', '../../BL_Work/openPrescribe/serialized/201604.gz', '../../BL_Work/openPrescribe/serialized/202011.gz', '../../BL_Work/openPrescribe/serialized/201012.gz', '../../BL_Work/openPrescribe/serialized/201411.gz', '../../BL_Work/openPrescribe/serialized/201701.gz', '../../BL_Work/openPrescribe/serialized/201501.gz', '../../BL_Work/openPrescribe/serialized/201903.gz', '../../BL_Work/openPrescribe/serialized/201612.gz', '../../BL_Work/openPrescribe/serialized/201205.gz', '../../BL_Work/openPrescribe/serialized/201608.gz', '../../BL_Work/openPrescribe/serialized/201901.gz', '../../BL_Work/openPrescribe/serialized/201912.gz', '../../BL_Work/openPrescribe/serialized/201510.gz', '../../BL_Work/openPrescribe/serialized/201011.gz', '../../BL_Work/openPrescribe/serialized/201909.gz', '../../BL_Work/openPrescribe/serialized/201811.gz', '../../BL_Work/openPrescribe/serialized/201202.gz', '../../BL_Work/openPrescribe/serialized/201009.gz', '../../BL_Work/openPrescribe/serialized/201905.gz', '../../BL_Work/openPrescribe/serialized/201405.gz', '../../BL_Work/openPrescribe/serialized/201605.gz', '../../BL_Work/openPrescribe/serialized/201908.gz', '../../BL_Work/openPrescribe/serialized/201709.gz', '../../BL_Work/openPrescribe/serialized/201610.gz', '../../BL_Work/openPrescribe/serialized/201503.gz', '../../BL_Work/openPrescribe/serialized/201305.gz', '../../BL_Work/openPrescribe/serialized/202008.gz', '../../BL_Work/openPrescribe/serialized/201906.gz', '../../BL_Work/openPrescribe/serialized/201107.gz', '../../BL_Work/openPrescribe/serialized/201208.gz', '../../BL_Work/openPrescribe/serialized/201209.gz', '../../BL_Work/openPrescribe/serialized/201609.gz', '../../BL_Work/openPrescribe/serialized/201310.gz', '../../BL_Work/openPrescribe/serialized/202102.gz', '../../BL_Work/openPrescribe/serialized/201401.gz', '../../BL_Work/openPrescribe/serialized/201304.gz', '../../BL_Work/openPrescribe/serialized/201504.gz', '../../BL_Work/openPrescribe/serialized/202006.gz', '../../BL_Work/openPrescribe/serialized/201508.gz', '../../BL_Work/openPrescribe/serialized/202001.gz', '../../BL_Work/openPrescribe/serialized/201403.gz', '../../BL_Work/openPrescribe/serialized/201807.gz', '../../BL_Work/openPrescribe/serialized/201312.gz', '../../BL_Work/openPrescribe/serialized/201212.gz', '../../BL_Work/openPrescribe/serialized/201408.gz', '../../BL_Work/openPrescribe/serialized/201806.gz', '../../BL_Work/openPrescribe/serialized/201412.gz', '../../BL_Work/openPrescribe/serialized/201311.gz', '../../BL_Work/openPrescribe/serialized/201907.gz', '../../BL_Work/openPrescribe/serialized/201702.gz', '../../BL_Work/openPrescribe/serialized/201010.gz', '../../BL_Work/openPrescribe/serialized/201505.gz', '../../BL_Work/openPrescribe/serialized/201302.gz', '../../BL_Work/openPrescribe/serialized/201112.gz', '../../BL_Work/openPrescribe/serialized/201703.gz', '../../BL_Work/openPrescribe/serialized/201801.gz', '../../BL_Work/openPrescribe/serialized/201809.gz', '../../BL_Work/openPrescribe/serialized/202009.gz', '../../BL_Work/openPrescribe/serialized/201607.gz', '../../BL_Work/openPrescribe/serialized/201712.gz', '../../BL_Work/openPrescribe/serialized/201606.gz', '../../BL_Work/openPrescribe/serialized/202003.gz', '../../BL_Work/openPrescribe/serialized/201910.gz', '../../BL_Work/openPrescribe/serialized/201711.gz', '../../BL_Work/openPrescribe/serialized/201111.gz', '../../BL_Work/openPrescribe/serialized/201309.gz', '../../BL_Work/openPrescribe/serialized/201106.gz', '../../BL_Work/openPrescribe/serialized/201706.gz', '../../BL_Work/openPrescribe/serialized/201306.gz', '../../BL_Work/openPrescribe/serialized/201303.gz', '../../BL_Work/openPrescribe/serialized/201108.gz']\n"
     ]
    }
   ],
   "source": [
    "files = glob.glob('../../BL_Work/openPrescribe/serialized/*.gz')\n",
    "print(files)"
   ]
  },
  {
   "cell_type": "code",
   "execution_count": 9,
   "metadata": {
    "ExecuteTime": {
     "end_time": "2021-06-08T21:15:10.110166Z",
     "start_time": "2021-06-08T21:15:06.912641Z"
    },
    "collapsed": true
   },
   "outputs": [],
   "source": [
    "chem = pd.read_csv('../mappings/CHEM_MASTER_MAP.csv')\n",
    "len(chem)\n",
    "\n",
    "# chem = chem.dropna()\n",
    "\n",
    "matched = chem[chem['UNII_drugbank']!='[]']\n",
    "\n",
    "matchedMap = {}\n",
    "for index,row in matched.iterrows():\n",
    "    if row['UNII_drugbank'] not in matchedMap:\n",
    "         matchedMap[row['UNII_drugbank']] = []\n",
    "    matchedMap[row['UNII_drugbank']].append(row['BNF_code'])\n",
    "\n",
    "# diseases = [\n",
    "#  \"anxiety\",\n",
    "#  \"rheumatoid\",\n",
    "#  \"osteoporosis\",\n",
    "#  \"depression\",\n",
    "#  \"diabetes\",\n",
    "#  \"stroke\",\n",
    "#  \"hypertension\",\n",
    "#  \"chronic obstructive pulmonary disease\", \n",
    "#  \"dementia\",\n",
    "#  \"asthma\",\n",
    "#  \"sleeplessness\",\n",
    "# ]\n",
    "\n",
    "# DiseaseDrugs = {}\n",
    "# for d in diseases:\n",
    "#     drugs = findDrugsForDisease(drug_association_graph,d ,chem)\n",
    "# #     _ , drugs = getDrugforDiseaseDrugbank([d] ,chem,drugbank_dict)\n",
    "#     for drug in drugs:\n",
    "#         DiseaseDrugs[drug] = {}\n",
    "#         DiseaseDrugs[drug]['chemName'] = drugs[drug]['name']\n",
    "#         DiseaseDrugs[drug]['disease'] = d\n",
    "\n",
    "\n",
    "categories = [\"antibiotics\",\n",
    "              \"antiallergic\"\n",
    "]\n",
    "\n",
    "DiseaseDrugs = {}\n",
    "for d in categories:\n",
    "    drugs = findDrugsForCategory(drug_cat_association_graph,d ,chem)\n",
    "    for drug in drugs:\n",
    "        DiseaseDrugs[drug] = {}\n",
    "        DiseaseDrugs[drug]['chemName'] = drugs[drug]['name']\n",
    "        DiseaseDrugs[drug]['disease'] = d"
   ]
  },
  {
   "cell_type": "code",
   "execution_count": 10,
   "metadata": {
    "ExecuteTime": {
     "end_time": "2021-06-08T21:15:10.166241Z",
     "start_time": "2021-06-08T21:15:10.153607Z"
    }
   },
   "outputs": [
    {
     "data": {
      "text/plain": [
       "{'/categories/DBCAT000873': {'chemName': 'Daunorubicin',\n",
       "  'disease': 'antibiotics'},\n",
       " '/categories/DBCAT002288': {'chemName': 'Cytotoxic Antibiotics and Related Substances',\n",
       "  'disease': 'antibiotics'},\n",
       " '/categories/DBCAT002363': {'chemName': 'Antibiotics for Topical Use',\n",
       "  'disease': 'antibiotics'},\n",
       " '/categories/DBCAT004732': {'chemName': 'Bleomycin',\n",
       "  'disease': 'antibiotics'},\n",
       " '/categories/DBCAT004737': {'chemName': 'Mupirocin',\n",
       "  'disease': 'antibiotics'},\n",
       " '0501030F0': {'chemName': 'Demeclocycline Hydrochloride',\n",
       "  'disease': 'antibiotics'},\n",
       " '0501030V0': {'chemName': 'Tetracycline', 'disease': 'antibiotics'},\n",
       " '0501070X0': {'chemName': 'Rifaximin', 'disease': 'antibiotics'},\n",
       " '0501090C0': {'chemName': 'Capreomycin', 'disease': 'antibiotics'},\n",
       " '0501090E0': {'chemName': 'Cycloserine', 'disease': 'antibiotics'},\n",
       " '0501090Q0': {'chemName': 'Rifabutin', 'disease': 'antibiotics'},\n",
       " '0501090R0': {'chemName': 'Rifampicin', 'disease': 'antibiotics'},\n",
       " '0501090S0': {'chemName': 'Rifampicin Combined Preparations',\n",
       "  'disease': 'antibiotics'},\n",
       " '0801020D0': {'chemName': 'Dactinomycin', 'disease': 'antibiotics'},\n",
       " '0801020G0': {'chemName': 'Bleomycin', 'disease': 'antibiotics'},\n",
       " '0801020J0': {'chemName': 'Daunorubicin', 'disease': 'antibiotics'},\n",
       " '0801020K0': {'chemName': 'Doxorubicin Hydrochloride',\n",
       "  'disease': 'antibiotics'},\n",
       " '0801020N0': {'chemName': 'Epirubicin Hydrochloride',\n",
       "  'disease': 'antibiotics'},\n",
       " '0801020P0': {'chemName': 'Idarubicin Hydrochloride',\n",
       "  'disease': 'antibiotics'},\n",
       " '0801020Q0': {'chemName': 'Mitomycin', 'disease': 'antibiotics'},\n",
       " '0801020R0': {'chemName': 'Mitoxantrone', 'disease': 'antibiotics'},\n",
       " '0801060A0': {'chemName': 'Daunorubicin/Cytarabine',\n",
       "  'disease': 'antibiotics'},\n",
       " '0802010M0': {'chemName': 'Mycophenolate Mofetil', 'disease': 'antibiotics'},\n",
       " '0802020U0': {'chemName': 'Sirolimus', 'disease': 'antibiotics'},\n",
       " '1104020AC': {'chemName': 'Epinastine Hydrochloride',\n",
       "  'disease': 'antiallergic'},\n",
       " '1104020M0': {'chemName': 'Lodoxamide Trometamol', 'disease': 'antiallergic'},\n",
       " '1104020P0': {'chemName': 'Levocabastine', 'disease': 'antiallergic'},\n",
       " '1104020R0': {'chemName': 'Naphazoline Hydrochloride',\n",
       "  'disease': 'antiallergic'},\n",
       " '1104020X0': {'chemName': 'Emedastine', 'disease': 'antiallergic'},\n",
       " '1104020Y0': {'chemName': 'Ketotifen Fumarate', 'disease': 'antiallergic'},\n",
       " '1104020Z0': {'chemName': 'Olopatadine', 'disease': 'antiallergic'},\n",
       " '1105000T0': {'chemName': 'Phenylephrine HCl & Tropicamide',\n",
       "  'disease': 'antiallergic'},\n",
       " '1201010R0': {'chemName': 'Gentamicin Sulphate', 'disease': 'antibiotics'},\n",
       " '1202010A0': {'chemName': 'Azelastine Hydrochloride',\n",
       "  'disease': 'antiallergic'},\n",
       " '1202010K0': {'chemName': 'Levocabastine', 'disease': 'antiallergic'},\n",
       " '1202010N0': {'chemName': 'Neomycin Sulfate', 'disease': 'antibiotics'},\n",
       " '1202010P0': {'chemName': 'Sodium Cromoglicate', 'disease': 'antiallergic'},\n",
       " '1202010Q0': {'chemName': 'Nedocromil Sodium', 'disease': 'antiallergic'},\n",
       " '1202020G0': {'chemName': 'Oxymetazoline Hydrochloride',\n",
       "  'disease': 'antiallergic'},\n",
       " '1202020H0': {'chemName': 'Naphazoline Nitrate', 'disease': 'antiallergic'},\n",
       " '1202020P0': {'chemName': 'Xylometazoline Hydrochloride',\n",
       "  'disease': 'antiallergic'},\n",
       " '1310011AA': {'chemName': 'Retapamulin', 'disease': 'antibiotics'},\n",
       " '1310011M0': {'chemName': 'Mupirocin', 'disease': 'antibiotics'},\n",
       " '1310011Z0': {'chemName': 'Tyrothricin', 'disease': 'antibiotics'},\n",
       " '1310012F0': {'chemName': 'Fusidic Acid', 'disease': 'antibiotics'},\n",
       " '1310012I0': {'chemName': 'Gentamicin Sulfate', 'disease': 'antibiotics'},\n",
       " '1310012P0': {'chemName': 'Tetracycline Hydrochloride',\n",
       "  'disease': 'antibiotics'}}"
      ]
     },
     "execution_count": 10,
     "metadata": {},
     "output_type": "execute_result"
    }
   ],
   "source": [
    "DiseaseDrugs"
   ]
  },
  {
   "cell_type": "code",
   "execution_count": 11,
   "metadata": {
    "ExecuteTime": {
     "end_time": "2021-06-08T21:15:38.756825Z",
     "start_time": "2021-06-08T21:15:38.709036Z"
    },
    "collapsed": true
   },
   "outputs": [],
   "source": [
    "%store -r ome_map\n",
    "ome = pd.read_csv('mappings/ome_rossano.csv')"
   ]
  },
  {
   "cell_type": "code",
   "execution_count": 12,
   "metadata": {
    "ExecuteTime": {
     "end_time": "2021-06-08T21:15:39.121573Z",
     "start_time": "2021-06-08T21:15:39.099893Z"
    }
   },
   "outputs": [
    {
     "data": {
      "text/html": [
       "<div>\n",
       "<style scoped>\n",
       "    .dataframe tbody tr th:only-of-type {\n",
       "        vertical-align: middle;\n",
       "    }\n",
       "\n",
       "    .dataframe tbody tr th {\n",
       "        vertical-align: top;\n",
       "    }\n",
       "\n",
       "    .dataframe thead th {\n",
       "        text-align: right;\n",
       "    }\n",
       "</style>\n",
       "<table border=\"1\" class=\"dataframe\">\n",
       "  <thead>\n",
       "    <tr style=\"text-align: right;\">\n",
       "      <th></th>\n",
       "      <th>bnf_name</th>\n",
       "      <th>bnf</th>\n",
       "      <th>mg_per_unit</th>\n",
       "      <th>ome_multiplier</th>\n",
       "    </tr>\n",
       "  </thead>\n",
       "  <tbody>\n",
       "    <tr>\n",
       "      <th>0</th>\n",
       "      <td>Abstral_Tab Sublingual 100mcg</td>\n",
       "      <td>0407020A0BJAAAW</td>\n",
       "      <td>0.1</td>\n",
       "      <td>130.0</td>\n",
       "    </tr>\n",
       "    <tr>\n",
       "      <th>1</th>\n",
       "      <td>Abstral_Tab Sublingual 200mcg</td>\n",
       "      <td>0407020A0BJABAX</td>\n",
       "      <td>0.2</td>\n",
       "      <td>130.0</td>\n",
       "    </tr>\n",
       "    <tr>\n",
       "      <th>2</th>\n",
       "      <td>Abstral_Tab Sublingual 300mcg</td>\n",
       "      <td>0407020A0BJACAY</td>\n",
       "      <td>0.3</td>\n",
       "      <td>130.0</td>\n",
       "    </tr>\n",
       "    <tr>\n",
       "      <th>3</th>\n",
       "      <td>Abstral_Tab Sublingual 400mcg</td>\n",
       "      <td>0407020A0BJADAZ</td>\n",
       "      <td>0.4</td>\n",
       "      <td>130.0</td>\n",
       "    </tr>\n",
       "    <tr>\n",
       "      <th>4</th>\n",
       "      <td>Abstral_Tab Sublingual 600mcg</td>\n",
       "      <td>0407020A0BJAEBA</td>\n",
       "      <td>0.6</td>\n",
       "      <td>130.0</td>\n",
       "    </tr>\n",
       "    <tr>\n",
       "      <th>...</th>\n",
       "      <td>...</td>\n",
       "      <td>...</td>\n",
       "      <td>...</td>\n",
       "      <td>...</td>\n",
       "    </tr>\n",
       "    <tr>\n",
       "      <th>835</th>\n",
       "      <td>Zydol_Tab Solb 50mg</td>\n",
       "      <td>040702040BBAFAF</td>\n",
       "      <td>50.0</td>\n",
       "      <td>0.1</td>\n",
       "    </tr>\n",
       "    <tr>\n",
       "      <th>836</th>\n",
       "      <td>Zytram SR_Tab 100mg</td>\n",
       "      <td>040702040BVACAC</td>\n",
       "      <td>100.0</td>\n",
       "      <td>0.1</td>\n",
       "    </tr>\n",
       "    <tr>\n",
       "      <th>837</th>\n",
       "      <td>Zytram SR_Tab 150mg</td>\n",
       "      <td>040702040BVAAAD</td>\n",
       "      <td>150.0</td>\n",
       "      <td>0.1</td>\n",
       "    </tr>\n",
       "    <tr>\n",
       "      <th>838</th>\n",
       "      <td>Zytram SR_Tab 200mg</td>\n",
       "      <td>040702040BVADAE</td>\n",
       "      <td>200.0</td>\n",
       "      <td>0.1</td>\n",
       "    </tr>\n",
       "    <tr>\n",
       "      <th>839</th>\n",
       "      <td>Zytram SR_Tab 75mg</td>\n",
       "      <td>040702040BVABAP</td>\n",
       "      <td>75.0</td>\n",
       "      <td>0.1</td>\n",
       "    </tr>\n",
       "  </tbody>\n",
       "</table>\n",
       "<p>840 rows × 4 columns</p>\n",
       "</div>"
      ],
      "text/plain": [
       "                          bnf_name              bnf  mg_per_unit  \\\n",
       "0    Abstral_Tab Sublingual 100mcg  0407020A0BJAAAW          0.1   \n",
       "1    Abstral_Tab Sublingual 200mcg  0407020A0BJABAX          0.2   \n",
       "2    Abstral_Tab Sublingual 300mcg  0407020A0BJACAY          0.3   \n",
       "3    Abstral_Tab Sublingual 400mcg  0407020A0BJADAZ          0.4   \n",
       "4    Abstral_Tab Sublingual 600mcg  0407020A0BJAEBA          0.6   \n",
       "..                             ...              ...          ...   \n",
       "835            Zydol_Tab Solb 50mg  040702040BBAFAF         50.0   \n",
       "836            Zytram SR_Tab 100mg  040702040BVACAC        100.0   \n",
       "837            Zytram SR_Tab 150mg  040702040BVAAAD        150.0   \n",
       "838            Zytram SR_Tab 200mg  040702040BVADAE        200.0   \n",
       "839             Zytram SR_Tab 75mg  040702040BVABAP         75.0   \n",
       "\n",
       "     ome_multiplier  \n",
       "0             130.0  \n",
       "1             130.0  \n",
       "2             130.0  \n",
       "3             130.0  \n",
       "4             130.0  \n",
       "..              ...  \n",
       "835             0.1  \n",
       "836             0.1  \n",
       "837             0.1  \n",
       "838             0.1  \n",
       "839             0.1  \n",
       "\n",
       "[840 rows x 4 columns]"
      ]
     },
     "execution_count": 12,
     "metadata": {},
     "output_type": "execute_result"
    }
   ],
   "source": [
    "ome"
   ]
  },
  {
   "cell_type": "code",
   "execution_count": 60,
   "metadata": {
    "ExecuteTime": {
     "end_time": "2021-06-08T21:30:29.989593Z",
     "start_time": "2021-06-08T21:30:29.959064Z"
    }
   },
   "outputs": [
    {
     "data": {
      "text/plain": [
       "{'040702020AAAAAA': 2.0,\n",
       " '040702020AAABAB': 2.0,\n",
       " '040702020BBAAAA': 2.0,\n",
       " '040702020BBABAB': 2.0,\n",
       " '040702040AAAAAA': 0.1,\n",
       " '040702040AAABAB': 0.1,\n",
       " '040702040AAACAC': 0.1,\n",
       " '040702040AAADAD': 0.1,\n",
       " '040702040AAAEAE': 0.1,\n",
       " '040702040AAAFAF': 0.1,\n",
       " '040702040AAAGAG': 0.1,\n",
       " '040702040AAAHAH': 0.1,\n",
       " '040702040AAAIAI': 0.1,\n",
       " '040702040AAAJAJ': 0.1,\n",
       " '040702040AAAMAM': 0.1,\n",
       " '040702040AAANAN': 0.1,\n",
       " '040702040AAAPAP': 0.1,\n",
       " '040702040AAATAT': 0.1,\n",
       " '040702040AAAUAU': 0.1,\n",
       " '040702040AAAVAV': 0.1,\n",
       " '040702040AAAWAW': 0.1,\n",
       " '040702040AAAXAX': 0.1,\n",
       " '040702040AAAYAY': 0.1,\n",
       " '040702040AAAZAZ': 0.1,\n",
       " '040702040AABABA': 0.1,\n",
       " '040702040AABBBB': 0.1,\n",
       " '040702040AABCBC': 0.1,\n",
       " '040702040AABDBD': 0.1,\n",
       " '040702040BBAAAA': 0.1,\n",
       " '040702040BBABAB': 0.1,\n",
       " '040702040BBACAC': 0.1,\n",
       " '040702040BBADAD': 0.1,\n",
       " '040702040BBAEAE': 0.1,\n",
       " '040702040BBAFAF': 0.1,\n",
       " '040702040BBAGAD': 0.1,\n",
       " '040702040BBAHAE': 0.1,\n",
       " '040702040BBAIAM': 0.1,\n",
       " '040702040BBAJAN': 0.1,\n",
       " '040702040BBAKAY': 0.1,\n",
       " '040702040BCAAAA': 0.1,\n",
       " '040702040BDAAAA': 0.1,\n",
       " '040702040BDABAG': 0.1,\n",
       " '040702040BDACAH': 0.1,\n",
       " '040702040BDADAI': 0.1,\n",
       " '040702040BDAEAJ': 0.1,\n",
       " '040702040BDAFAB': 0.1,\n",
       " '040702040BDAGAT': 0.1,\n",
       " '040702040BDAHAD': 0.1,\n",
       " '040702040BDAIAE': 0.1,\n",
       " '040702040BDAJAM': 0.1,\n",
       " '040702040BDAKAN': 0.1,\n",
       " '040702040BEABAC': 0.1,\n",
       " '040702040BEACAD': 0.1,\n",
       " '040702040BEADAE': 0.1,\n",
       " '040702040BEAFAE': 0.1,\n",
       " '040702040BFAAAU': 0.1,\n",
       " '040702040BFABBA': 0.1,\n",
       " '040702040BGAAAC': 0.1,\n",
       " '040702040BGABAD': 0.1,\n",
       " '040702040BGABAI': 0.1,\n",
       " '040702040BGACAJ': 0.1,\n",
       " '040702040BHAAAC': 0.1,\n",
       " '040702040BHABAD': 0.1,\n",
       " '040702040BHACAE': 0.1,\n",
       " '040702040BHADAC': 0.1,\n",
       " '040702040BHAEAD': 0.1,\n",
       " '040702040BHAFAE': 0.1,\n",
       " '040702040BIAAAC': 0.1,\n",
       " '040702040BIABAE': 0.1,\n",
       " '040702040BIACAM': 0.1,\n",
       " '040702040BJAAAG': 0.1,\n",
       " '040702040BJABAH': 0.1,\n",
       " '040702040BJACAI': 0.1,\n",
       " '040702040BJADAJ': 0.1,\n",
       " '040702040BKAAAC': 0.1,\n",
       " '040702040BKABAD': 0.1,\n",
       " '040702040BKACAE': 0.1,\n",
       " '040702040BLAAAC': 0.1,\n",
       " '040702040BLABAD': 0.1,\n",
       " '040702040BLACAE': 0.1,\n",
       " '040702040BMAAAC': 0.1,\n",
       " '040702040BNAAAC': 0.1,\n",
       " '040702040BNABAD': 0.1,\n",
       " '040702040BNACAE': 0.1,\n",
       " '040702040BNADAE': 0.1,\n",
       " '040702040BNAEAD': 0.1,\n",
       " '040702040BNAFAC': 0.1,\n",
       " '040702040BPAAAG': 0.1,\n",
       " '040702040BPABAH': 0.1,\n",
       " '040702040BPACAI': 0.1,\n",
       " '040702040BPADAJ': 0.1,\n",
       " '040702040BQAAAC': 0.1,\n",
       " '040702040BQABAD': 0.1,\n",
       " '040702040BQACAE': 0.1,\n",
       " '040702040BRAAAC': 0.1,\n",
       " '040702040BRACAE': 0.1,\n",
       " '040702040BSAAAC': 0.1,\n",
       " '040702040BSABAD': 0.1,\n",
       " '040702040BSACAE': 0.1,\n",
       " '040702040BTAAAC': 0.1,\n",
       " '040702040BTAAAV': 0.1,\n",
       " '040702040BTABAD': 0.1,\n",
       " '040702040BTABAW': 0.1,\n",
       " '040702040BTACAX': 0.1,\n",
       " '040702040BUAAAC': 0.1,\n",
       " '040702040BUABAD': 0.1,\n",
       " '040702040BUACAE': 0.1,\n",
       " '040702040BVAAAD': 0.1,\n",
       " '040702040BVABAP': 0.1,\n",
       " '040702040BVACAC': 0.1,\n",
       " '040702040BVADAE': 0.1,\n",
       " '040702040BWAAAC': 0.1,\n",
       " '040702050AAAAAA': 5.0,\n",
       " '040702050AAABAB': 5.0,\n",
       " '040702050AAACAC': 5.0,\n",
       " '040702050AAADAD': 5.0,\n",
       " '040702050AAAEAE': 5.0,\n",
       " '040702050AAAFAF': 5.0,\n",
       " '040702050AAAGAG': 5.0,\n",
       " '040702050AAAHAH': 5.0,\n",
       " '040702050AAAIAI': 5.0,\n",
       " '040702050AAAJAJ': 5.0,\n",
       " '040702050AAALAL': 5.0,\n",
       " '040702050AAANAN': 5.0,\n",
       " '040702050BBAAAE': 5.0,\n",
       " '040702050BBABAD': 5.0,\n",
       " '040702050BBACAF': 5.0,\n",
       " '040702050BBADAG': 5.0,\n",
       " '040702050BBAEAC': 5.0,\n",
       " '040702050BBAFAA': 5.0,\n",
       " '040702050BBAGAB': 5.0,\n",
       " '040702050BBAKAP': 5.0,\n",
       " '0407020A0AAAEAE': 100.0,\n",
       " '0407020A0AAAFAF': 100.0,\n",
       " '0407020A0AAAGAG': 100.0,\n",
       " '0407020A0AAAHAH': 100.0,\n",
       " '0407020A0AAAIAI': 100.0,\n",
       " '0407020A0AAAJAJ': 100.0,\n",
       " '0407020A0AAAKAK': 100.0,\n",
       " '0407020A0AAALAL': 100.0,\n",
       " '0407020A0AAANAN': 100.0,\n",
       " '0407020A0AAAPAP': 100.0,\n",
       " '0407020A0AAAQAQ': 100.0,\n",
       " '0407020A0AAASAS': 100.0,\n",
       " '0407020A0AAAUAU': 100.0,\n",
       " '0407020A0AAAWAW': 130.0,\n",
       " '0407020A0AAAXAX': 130.0,\n",
       " '0407020A0AAAYAY': 130.0,\n",
       " '0407020A0AAAZAZ': 130.0,\n",
       " '0407020A0AABABA': 130.0,\n",
       " '0407020A0AABBBB': 130.0,\n",
       " '0407020A0AABCBC': 130.0,\n",
       " '0407020A0AABDBD': 130.0,\n",
       " '0407020A0AABEBE': 130.0,\n",
       " '0407020A0AABFBF': 130.0,\n",
       " '0407020A0AABGBG': 130.0,\n",
       " '0407020A0AABHBH': 160.0,\n",
       " '0407020A0AABIBI': 160.0,\n",
       " '0407020A0AABJBJ': 160.0,\n",
       " '0407020A0AABKBK': 160.0,\n",
       " '0407020A0AABLBL': 160.0,\n",
       " '0407020A0AABMBM': 160.0,\n",
       " '0407020A0AABNBN': 160.0,\n",
       " '0407020A0AABPBP': 160.0,\n",
       " '0407020A0AABQBQ': 160.0,\n",
       " '0407020A0AABRBR': 160.0,\n",
       " '0407020A0AABSBS': 160.0,\n",
       " '0407020A0AABTBT': 180.0,\n",
       " '0407020A0AABUBU': 180.0,\n",
       " '0407020A0AABVBV': 180.0,\n",
       " '0407020A0AABWBW': 100.0,\n",
       " '0407020A0AABXBX': 130.0,\n",
       " '0407020A0AABZBZ': 130.0,\n",
       " '0407020A0BBAAAE': 100.0,\n",
       " '0407020A0BBABAF': 100.0,\n",
       " '0407020A0BBACAG': 100.0,\n",
       " '0407020A0BBADAH': 100.0,\n",
       " '0407020A0BBAEAQ': 100.0,\n",
       " '0407020A0BBAFAR': 100.0,\n",
       " '0407020A0BBAGAS': 100.0,\n",
       " '0407020A0BBAHAT': 100.0,\n",
       " '0407020A0BBAIAE': 100.0,\n",
       " '0407020A0BBAJAF': 100.0,\n",
       " '0407020A0BBAKAG': 100.0,\n",
       " '0407020A0BBALAH': 100.0,\n",
       " '0407020A0BBAMAU': 100.0,\n",
       " '0407020A0BCAAAI': 100.0,\n",
       " '0407020A0BCABAJ': 100.0,\n",
       " '0407020A0BCACAK': 100.0,\n",
       " '0407020A0BCADAL': 100.0,\n",
       " '0407020A0BCAEAN': 100.0,\n",
       " '0407020A0BCAFAP': 100.0,\n",
       " '0407020A0BDAAAE': 100.0,\n",
       " '0407020A0BDABAF': 100.0,\n",
       " '0407020A0BDACAG': 100.0,\n",
       " '0407020A0BDADAH': 100.0,\n",
       " '0407020A0BEAAAU': 100.0,\n",
       " '0407020A0BEABAE': 100.0,\n",
       " '0407020A0BEACAF': 100.0,\n",
       " '0407020A0BEADAG': 100.0,\n",
       " '0407020A0BEAEAH': 100.0,\n",
       " '0407020A0BFAAAU': 100.0,\n",
       " '0407020A0BFABAE': 100.0,\n",
       " '0407020A0BFACAF': 100.0,\n",
       " '0407020A0BFADAG': 100.0,\n",
       " '0407020A0BFAEAH': 100.0,\n",
       " '0407020A0BFAFBW': 100.0,\n",
       " '0407020A0BGAAAE': 100.0,\n",
       " '0407020A0BGABAF': 100.0,\n",
       " '0407020A0BGACAG': 100.0,\n",
       " '0407020A0BGADAH': 100.0,\n",
       " '0407020A0BHAAAE': 100.0,\n",
       " '0407020A0BHABAF': 100.0,\n",
       " '0407020A0BHACAG': 100.0,\n",
       " '0407020A0BHADAH': 100.0,\n",
       " '0407020A0BJAAAW': 130.0,\n",
       " '0407020A0BJABAX': 130.0,\n",
       " '0407020A0BJACAY': 130.0,\n",
       " '0407020A0BJADAZ': 130.0,\n",
       " '0407020A0BJAEBA': 130.0,\n",
       " '0407020A0BJAFBB': 130.0,\n",
       " '0407020A0BKAABC': 130.0,\n",
       " '0407020A0BKABBD': 130.0,\n",
       " '0407020A0BKACBE': 130.0,\n",
       " '0407020A0BKADBF': 130.0,\n",
       " '0407020A0BKAEBG': 130.0,\n",
       " '0407020A0BLAAAE': 100.0,\n",
       " '0407020A0BLABAF': 100.0,\n",
       " '0407020A0BLACAG': 100.0,\n",
       " '0407020A0BLADAH': 100.0,\n",
       " '0407020A0BLAEAU': 100.0,\n",
       " '0407020A0BMAAAE': 100.0,\n",
       " '0407020A0BMABAF': 100.0,\n",
       " '0407020A0BMACAG': 100.0,\n",
       " '0407020A0BMADAH': 100.0,\n",
       " '0407020A0BMAEAU': 100.0,\n",
       " '0407020A0BNAABH': 160.0,\n",
       " '0407020A0BNABBI': 160.0,\n",
       " '0407020A0BNACBJ': 160.0,\n",
       " '0407020A0BNADBK': 160.0,\n",
       " '0407020A0BNAEBL': 160.0,\n",
       " '0407020A0BNAFBM': 160.0,\n",
       " '0407020A0BNAGBQ': 160.0,\n",
       " '0407020A0BNAHBR': 160.0,\n",
       " '0407020A0BNAIBS': 160.0,\n",
       " '0407020A0BPAABN': 160.0,\n",
       " '0407020A0BPABBP': 160.0,\n",
       " '0407020A0BQAAAU': 100.0,\n",
       " '0407020A0BQABAE': 100.0,\n",
       " '0407020A0BQACAF': 100.0,\n",
       " '0407020A0BQADAG': 100.0,\n",
       " '0407020A0BQAEAH': 100.0,\n",
       " '0407020A0BRAAAU': 100.0,\n",
       " '0407020A0BRABAE': 100.0,\n",
       " '0407020A0BRACAG': 100.0,\n",
       " '0407020A0BRADAH': 100.0,\n",
       " '0407020A0BRAEAF': 100.0,\n",
       " '0407020A0BRAFAU': 100.0,\n",
       " '0407020A0BRAGAE': 100.0,\n",
       " '0407020A0BRAHAF': 100.0,\n",
       " '0407020A0BRAIAG': 100.0,\n",
       " '0407020A0BRAJAH': 100.0,\n",
       " '0407020A0BSAABT': 180.0,\n",
       " '0407020A0BSABBU': 180.0,\n",
       " '0407020A0BTAABX': 130.0,\n",
       " '0407020A0BTABAZ': 130.0,\n",
       " '0407020A0BTACBY': 130.0,\n",
       " '0407020A0BTADBZ': 130.0,\n",
       " '0407020A0BUAAAU': 100.0,\n",
       " '0407020A0BUABAE': 100.0,\n",
       " '0407020A0BUACAF': 100.0,\n",
       " '0407020A0BUADAG': 100.0,\n",
       " '0407020A0BUAEAH': 100.0,\n",
       " '0407020A0BVAAAU': 100.0,\n",
       " '0407020A0BVABAE': 100.0,\n",
       " '0407020A0BVACAF': 100.0,\n",
       " '0407020A0BVADAG': 100.0,\n",
       " '0407020A0BVAEAH': 100.0,\n",
       " '0407020ABAAABAB': 1.0,\n",
       " '0407020ABAAAIAI': 1.0,\n",
       " '0407020ABAAAKAK': 1.0,\n",
       " '0407020ABAAAPAP': 1.0,\n",
       " '0407020ADAAAAAA': 2.0,\n",
       " '0407020ADAAABAB': 2.0,\n",
       " '0407020ADAAACAC': 2.0,\n",
       " '0407020ADAAADAD': 2.0,\n",
       " '0407020ADAAAEAE': 2.0,\n",
       " '0407020ADAAAFAF': 2.0,\n",
       " '0407020ADAAAGAG': 2.0,\n",
       " '0407020ADAAAHAH': 2.0,\n",
       " '0407020ADAAAIAI': 2.0,\n",
       " '0407020ADAAAJAJ': 2.0,\n",
       " '0407020ADAAAKAK': 2.0,\n",
       " '0407020ADAAALAL': 2.0,\n",
       " '0407020ADAAAMAM': 2.0,\n",
       " '0407020ADAAANAN': 2.0,\n",
       " '0407020ADAAAPAP': 2.0,\n",
       " '0407020ADAAAQAQ': 2.0,\n",
       " '0407020ADAAARAR': 2.0,\n",
       " '0407020ADAAASAS': 2.0,\n",
       " '0407020ADBBAAAA': 2.0,\n",
       " '0407020ADBBABAB': 2.0,\n",
       " '0407020ADBBACAC': 2.0,\n",
       " '0407020ADBBADAD': 2.0,\n",
       " '0407020ADBBAEAE': 2.0,\n",
       " '0407020ADBBAFAL': 2.0,\n",
       " '0407020ADBBAGAM': 2.0,\n",
       " '0407020ADBBAHAN': 2.0,\n",
       " '0407020ADBCAAAF': 2.0,\n",
       " '0407020ADBCABAG': 2.0,\n",
       " '0407020ADBCACAH': 2.0,\n",
       " '0407020ADBCADAI': 2.0,\n",
       " '0407020ADBCAEAK': 2.0,\n",
       " '0407020ADBCAFAP': 2.0,\n",
       " '0407020ADBCAGAQ': 2.0,\n",
       " '0407020ADBCAHAR': 2.0,\n",
       " '0407020ADBCAIAS': 2.0,\n",
       " '0407020ADBDAAAK': 2.0,\n",
       " '0407020ADBDABAF': 2.0,\n",
       " '0407020ADBDACAG': 2.0,\n",
       " '0407020ADBDADAH': 2.0,\n",
       " '0407020ADBDAEAI': 2.0,\n",
       " '0407020ADBEAAAK': 2.0,\n",
       " '0407020ADBEABAF': 2.0,\n",
       " '0407020ADBEACAG': 2.0,\n",
       " '0407020ADBEADAH': 2.0,\n",
       " '0407020ADBEAEAI': 2.0,\n",
       " '0407020ADBEAFAP': 2.0,\n",
       " '0407020ADBEAGAS': 2.0,\n",
       " '0407020ADBEAHAR': 2.0,\n",
       " '0407020ADBEAIAQ': 2.0,\n",
       " '0407020ADBFAAAK': 2.0,\n",
       " '0407020ADBFABAF': 2.0,\n",
       " '0407020ADBFACAG': 2.0,\n",
       " '0407020ADBFADAH': 2.0,\n",
       " '0407020ADBFAEAI': 2.0,\n",
       " '0407020ADBFAFAK': 2.0,\n",
       " '0407020ADBFAGAF': 2.0,\n",
       " '0407020ADBFAHAG': 2.0,\n",
       " '0407020ADBFAJAI': 2.0,\n",
       " '0407020ADBGABAG': 2.0,\n",
       " '0407020ADBGACAK': 2.0,\n",
       " '0407020ADBHAAAC': 2.0,\n",
       " '0407020ADBHABAD': 2.0,\n",
       " '0407020ADBHACAE': 2.0,\n",
       " '0407020ADBIAAAG': 2.0,\n",
       " '0407020ADBIABAH': 2.0,\n",
       " '0407020ADBIACAK': 2.0,\n",
       " '0407020ADBIADAF': 2.0,\n",
       " '0407020ADBJAAAC': 2.0,\n",
       " '0407020ADBJABAD': 2.0,\n",
       " '0407020ADBJACAE': 2.0,\n",
       " '0407020ADBJADAL': 2.0,\n",
       " '0407020ADBJAEAM': 2.0,\n",
       " '0407020ADBJAFAN': 2.0,\n",
       " '0407020ADBJAGAA': 2.0,\n",
       " '0407020ADBJAHAB': 2.0,\n",
       " '0407020ADBKAAAK': 2.0,\n",
       " '0407020ADBKABAF': 2.0,\n",
       " '0407020ADBKACAG': 2.0,\n",
       " '0407020ADBKADAH': 2.0,\n",
       " '0407020ADBKAEAI': 2.0,\n",
       " '0407020ADBKAFAS': 2.0,\n",
       " '0407020ADBKAGAR': 2.0,\n",
       " '0407020ADBKAHAQ': 2.0,\n",
       " '0407020ADBLAAAK': 2.0,\n",
       " '0407020ADBLABAI': 2.0,\n",
       " '0407020ADBLACAR': 2.0,\n",
       " '0407020ADBLADAQ': 2.0,\n",
       " '0407020ADBLAEAH': 2.0,\n",
       " '0407020ADBLAFAF': 2.0,\n",
       " '0407020ADBLAGAS': 2.0,\n",
       " '0407020ADBLAHAG': 2.0,\n",
       " '0407020ADBMAAAK': 2.0,\n",
       " '0407020ADBMABAF': 2.0,\n",
       " '0407020ADBMACAS': 2.0,\n",
       " '0407020ADBMADAG': 2.0,\n",
       " '0407020ADBMAEAH': 2.0,\n",
       " '0407020ADBMAFAR': 2.0,\n",
       " '0407020ADBMAGAQ': 2.0,\n",
       " '0407020ADBMAHAI': 2.0,\n",
       " '0407020ADBNAAAI': 2.0,\n",
       " '0407020ADBNABAH': 2.0,\n",
       " '0407020ADBNACAK': 2.0,\n",
       " '0407020ADBNADAF': 2.0,\n",
       " '0407020ADBNAEAG': 2.0,\n",
       " '0407020ADBPAAAK': 2.0,\n",
       " '0407020ADBPABAF': 2.0,\n",
       " '0407020ADBPACAG': 2.0,\n",
       " '0407020ADBPADAR': 2.0,\n",
       " '0407020ADBPAEAH': 2.0,\n",
       " '0407020ADBPAFAQ': 2.0,\n",
       " '0407020ADBPAGAI': 2.0,\n",
       " '0407020ADBQAAAF': 2.0,\n",
       " '0407020ADBQABAG': 2.0,\n",
       " '0407020ADBQACAH': 2.0,\n",
       " '0407020ADBQADAI': 2.0,\n",
       " '0407020ADBRADAG': 2.0,\n",
       " '0407020ADBSAAAK': 2.0,\n",
       " '0407020ADBSABAF': 2.0,\n",
       " '0407020ADBSADAG': 2.0,\n",
       " '0407020ADBSAFAH': 2.0,\n",
       " '0407020ADBSAGAQ': 2.0,\n",
       " '0407020AFAAAAAA': 2.0,\n",
       " '0407020AFAAABAB': 2.0,\n",
       " '0407020AFAAACAC': 2.0,\n",
       " '0407020AFAAADAD': 2.0,\n",
       " '0407020AFAAAEAE': 2.0,\n",
       " '0407020AFBBAAAA': 2.0,\n",
       " '0407020AFBBABAB': 2.0,\n",
       " '0407020AFBBACAC': 2.0,\n",
       " '0407020AFBBADAD': 2.0,\n",
       " '0407020AGAAAAAA': 0.4,\n",
       " '0407020AGAAABAB': 0.4,\n",
       " '0407020AGAAACAC': 0.4,\n",
       " '0407020AGAAADAD': 0.4,\n",
       " '0407020AGAAAEAE': 0.4,\n",
       " '0407020AGAAAFAF': 0.4,\n",
       " '0407020AGAAAGAG': 0.4,\n",
       " '0407020AGAAAHAH': 0.4,\n",
       " '0407020AGBBAAAA': 0.4,\n",
       " '0407020AGBBABAB': 0.4,\n",
       " '0407020AGBBACAC': 0.4,\n",
       " '0407020AGBBADAD': 0.4,\n",
       " '0407020AGBBAEAE': 0.4,\n",
       " '0407020AGBBAFAF': 0.4,\n",
       " '0407020AGBBAGAG': 0.4,\n",
       " '0407020AGBBAHAH': 0.4,\n",
       " '0407020B0AAAAAA': 100.0,\n",
       " '0407020B0AAABAB': 60.0,\n",
       " '0407020B0AAADAD': 60.0,\n",
       " '0407020B0AAAEAE': 100.0,\n",
       " '0407020B0AAAFAF': 100.0,\n",
       " '0407020B0AAAGAG': 100.0,\n",
       " '0407020B0AAAHAH': 100.0,\n",
       " '0407020B0AAAIAI': 100.0,\n",
       " '0407020B0AAAJAJ': 100.0,\n",
       " '0407020B0AAAKAK': 100.0,\n",
       " '0407020B0BBAAAB': 60.0,\n",
       " '0407020B0BBABAA': 100.0,\n",
       " '0407020B0BBADAD': 60.0,\n",
       " '0407020B0BDAAAE': 100.0,\n",
       " '0407020B0BDABAF': 100.0,\n",
       " '0407020B0BDACAG': 100.0,\n",
       " '0407020B0BEAAAH': 100.0,\n",
       " '0407020B0BEABAI': 100.0,\n",
       " '0407020B0BEACAJ': 100.0,\n",
       " '0407020B0BEADAK': 100.0,\n",
       " '0407020B0BFAAAB': 60.0,\n",
       " '0407020B0BFABAD': 60.0,\n",
       " '0407020B0BGAAAE': 100.0,\n",
       " '0407020B0BGABAF': 100.0,\n",
       " '0407020B0BGACAG': 100.0,\n",
       " '0407020B0BHAAAH': 100.0,\n",
       " '0407020B0BHABAI': 100.0,\n",
       " '0407020B0BHACAJ': 100.0,\n",
       " '0407020B0BHADAK': 100.0,\n",
       " '0407020B0BIAAAE': 100.0,\n",
       " '0407020B0BIABAF': 100.0,\n",
       " '0407020B0BIACAG': 100.0,\n",
       " '0407020B0BJAAAE': 100.0,\n",
       " '0407020B0BJABAF': 100.0,\n",
       " '0407020B0BJACAG': 100.0,\n",
       " '0407020B0BKAAAH': 100.0,\n",
       " '0407020B0BKABAI': 100.0,\n",
       " '0407020B0BKACAK': 100.0,\n",
       " '0407020B0BKADAJ': 100.0,\n",
       " '0407020B0BLAAAH': 100.0,\n",
       " '0407020B0BLABAI': 100.0,\n",
       " '0407020B0BLACAJ': 100.0,\n",
       " '0407020B0BMAAAH': 100.0,\n",
       " '0407020B0BMABAI': 100.0,\n",
       " '0407020B0BMACAJ': 100.0,\n",
       " '0407020B0BNAAAE': 100.0,\n",
       " '0407020B0BNABAF': 100.0,\n",
       " '0407020B0BNACAG': 100.0,\n",
       " '0407020B0BPAAAE': 100.0,\n",
       " '0407020B0BPABAF': 100.0,\n",
       " '0407020B0BPACAG': 100.0,\n",
       " '0407020B0BQAAAH': 100.0,\n",
       " '0407020B0BQABAI': 100.0,\n",
       " '0407020B0BQACAJ': 100.0,\n",
       " '0407020B0BRAAAH': 100.0,\n",
       " '0407020B0BRABAI': 100.0,\n",
       " '0407020B0BRACAJ': 100.0,\n",
       " '0407020B0BSAAAE': 100.0,\n",
       " '0407020B0BSABAF': 100.0,\n",
       " '0407020B0BSACAG': 100.0,\n",
       " '0407020B0BTAAAE': 100.0,\n",
       " '0407020B0BTABAF': 100.0,\n",
       " '0407020B0BUAAAH': 100.0,\n",
       " '0407020B0BUABAI': 100.0,\n",
       " '0407020B0BUACAJ': 100.0,\n",
       " '0407020C0AAAAAA': 0.1,\n",
       " '0407020C0AAABAB': 0.1,\n",
       " '0407020C0AAADAD': 0.1,\n",
       " '0407020C0AAAEAE': 0.1,\n",
       " '0407020C0AAAFAF': 0.1,\n",
       " '0407020C0AAAGAG': 0.1,\n",
       " '0407020C0AAAHAH': 0.1,\n",
       " '0407020C0AAALAL': 0.1,\n",
       " '0407020C0AAAPAP': 0.1,\n",
       " '0407020C0AAAQAQ': 0.1,\n",
       " '0407020C0AAASAS': 0.1,\n",
       " '0407020C0AAAVAV': 0.1,\n",
       " '0407020C0AAAXAX': 0.1,\n",
       " '0407020C0AAAYAY': 0.1,\n",
       " '0407020C0AABABA': 0.1,\n",
       " '0407020C0BBAABA': 0.1,\n",
       " '0407020D0AAADAD': 4.0,\n",
       " '0407020D0BBAAAD': 4.0,\n",
       " '0407020E0AAAAAA': 0.1,\n",
       " '0407020G0AAAAAA': 0.1,\n",
       " '0407020G0AAABAB': 0.1,\n",
       " '0407020G0AAACAC': 0.1,\n",
       " '0407020G0AAADAD': 0.1,\n",
       " '0407020G0AAAEAE': 0.1,\n",
       " '0407020G0AAAFAF': 0.1,\n",
       " '0407020G0AAAIAI': 0.1,\n",
       " '0407020G0AAAMAM': 0.1,\n",
       " '0407020G0AAANAN': 0.1,\n",
       " '0407020G0AAAPAP': 0.1,\n",
       " '0407020G0AAARAR': 0.1,\n",
       " '0407020G0BBAAAD': 0.1,\n",
       " '0407020G0BBABAE': 0.1,\n",
       " '0407020G0BBACAF': 0.1,\n",
       " '0407020G0BCADAI': 0.1,\n",
       " '0407020H0AAABAB': 0.5,\n",
       " '0407020H0BBAAAB': 0.5,\n",
       " '0407020K0AAAAAA': 3.0,\n",
       " '0407020K0AAABAB': 3.0,\n",
       " '0407020K0AAACAC': 3.0,\n",
       " '0407020K0AAAEAE': 3.0,\n",
       " '0407020K0AAAFAF': 3.0,\n",
       " '0407020K0AAAGAG': 3.0,\n",
       " '0407020K0AABCBC': 1.0,\n",
       " '0407020K0AABFBF': 1.0,\n",
       " '0407020K0AABQBQ': 1.0,\n",
       " '0407020K0AACBCB': 1.0,\n",
       " '0407020K0AACGCG': 1.0,\n",
       " '0407020K0AACUCU': 1.0,\n",
       " '0407020K0AACZCZ': 1.0,\n",
       " '0407020K0AADCDC': 1.0,\n",
       " '0407020K0AADFDF': 1.0,\n",
       " '0407020K0AADGDG': 1.0,\n",
       " '0407020K0AADIDI': 1.0,\n",
       " '0407020K0AADJDJ': 1.0,\n",
       " '0407020K0AADKDK': 1.0,\n",
       " '0407020K0AADLDL': 1.0,\n",
       " '0407020K0AADVDV': 1.0,\n",
       " '0407020K0AADXDX': 1.0,\n",
       " '0407020K0AAEAEA': 1.0,\n",
       " '0407020K0AAEFEF': 3.0,\n",
       " '0407020K0AAEGEG': 3.0,\n",
       " '0407020K0AAEHEH': 3.0,\n",
       " '0407020K0AAEIEI': 3.0,\n",
       " '0407020K0AAEMEM': 3.0,\n",
       " '0407020K0AAEQEQ': 1.0,\n",
       " '0407020K0AAEUEU': 1.0,\n",
       " '0407020K0AAEVEV': 1.0,\n",
       " '0407020K0AAFEFE': 1.0,\n",
       " '0407020K0AAFFFF': 1.0,\n",
       " '0407020K0AAFNFN': 1.0,\n",
       " '0407020L0AAAAAA': 0.03,\n",
       " '0407020L0AAABAB': 0.03,\n",
       " '0407020L0BBAAAB': 0.03,\n",
       " '0407020L0BBABAA': 0.03,\n",
       " '0407020M0AAA3A3': 3.0,\n",
       " '0407020M0AAA6A6': 3.0,\n",
       " '0407020M0AAA8A8': 3.0,\n",
       " '0407020M0AAACAC': 3.0,\n",
       " '0407020M0AAAEAE': 3.0,\n",
       " '0407020M0AAAFAF': 3.0,\n",
       " '0407020M0AAAKAK': 3.0,\n",
       " '0407020M0AAANAN': 3.0,\n",
       " '0407020M0AAATAT': 3.0,\n",
       " '0407020M0AAAVAV': 3.0,\n",
       " '0407020M0AAAXAX': 3.0,\n",
       " '0407020M0AABHBH': 3.0,\n",
       " '0407020M0AABIBI': 3.0,\n",
       " '0407020M0AABKBK': 3.0,\n",
       " '0407020M0AABLBL': 3.0,\n",
       " '0407020M0AABMBM': 3.0,\n",
       " '0407020M0AABTBT': 3.0,\n",
       " '0407020M0AABUBU': 3.0,\n",
       " '0407020M0BBAAAE': 3.0,\n",
       " '0407020M0BBABAV': 3.0,\n",
       " '0407020M0BBACA3': 3.0,\n",
       " '0407020M0BBADAT': 3.0,\n",
       " '0407020M0BBAEAN': 3.0,\n",
       " '0407020M0BBAHA6': 3.0,\n",
       " '0407020M0BBAIAC': 3.0,\n",
       " '0407020M0BCAAAV': 3.0,\n",
       " '0407020M0BCABAC': 3.0,\n",
       " '0407020M0BCACA6': 3.0,\n",
       " '0407020P0AAACAC': 1.0,\n",
       " '0407020P0AAADAD': 1.0,\n",
       " '0407020P0AAAPAP': 1.0,\n",
       " '0407020P0AAAQAQ': 1.0,\n",
       " '0407020P0AAARAR': 1.0,\n",
       " '0407020P0AAASAS': 1.0,\n",
       " '0407020P0AAATAT': 1.0,\n",
       " '0407020P0AAAWAW': 1.0,\n",
       " '0407020P0AAAXAX': 1.0,\n",
       " '0407020P0AAAYAY': 1.0,\n",
       " '0407020P0AAAZAZ': 2.0,\n",
       " '0407020P0AABABA': 1.0,\n",
       " '0407020P0AABBBB': 2.0,\n",
       " '0407020P0AABCBC': 2.0,\n",
       " '0407020Q0AAA1A1': 2.0,\n",
       " '0407020Q0AAA2A2': 2.0,\n",
       " '0407020Q0AAA4A4': 2.0,\n",
       " '0407020Q0AAA5A5': 2.0,\n",
       " '0407020Q0AAA6A6': 1.0,\n",
       " '0407020Q0AAA8A8': 2.0,\n",
       " '0407020Q0AAA9A9': 2.0,\n",
       " '0407020Q0AAAAAA': 2.0,\n",
       " '0407020Q0AAABAB': 2.0,\n",
       " '0407020Q0AAACAC': 2.0,\n",
       " '0407020Q0AAADAD': 2.0,\n",
       " '0407020Q0AAAEAE': 2.0,\n",
       " '0407020Q0AAAFAF': 2.0,\n",
       " '0407020Q0AAAGAG': 1.0,\n",
       " '0407020Q0AAAHAH': 1.0,\n",
       " '0407020Q0AAAIAI': 1.0,\n",
       " '0407020Q0AAAKAK': 1.0,\n",
       " '0407020Q0AAALAL': 1.0,\n",
       " '0407020Q0AAAMAM': 2.0,\n",
       " '0407020Q0AAANAN': 1.0,\n",
       " '0407020Q0AABCBC': 2.0,\n",
       " '0407020Q0AABJBJ': 1.0,\n",
       " '0407020Q0AABLBL': 1.0,\n",
       " '0407020Q0AABMBM': 1.0,\n",
       " '0407020Q0AABNBN': 1.0,\n",
       " '0407020Q0AABPBP': 1.0,\n",
       " '0407020Q0AABVBV': 1.0,\n",
       " '0407020Q0AACDCD': 1.0,\n",
       " '0407020Q0AACECE': 1.0,\n",
       " '0407020Q0AACFCF': 1.0,\n",
       " '0407020Q0AACGCG': 1.0,\n",
       " '0407020Q0AACNCN': 1.0,\n",
       " '0407020Q0AACPCP': 1.0,\n",
       " '0407020Q0AACQCQ': 1.0,\n",
       " '0407020Q0AACRCR': 1.0,\n",
       " '0407020Q0AACSCS': 1.0,\n",
       " '0407020Q0AACUCU': 1.0,\n",
       " '0407020Q0AACVCV': 1.0,\n",
       " '0407020Q0AADCDC': 1.0,\n",
       " '0407020Q0AADDDD': 1.0,\n",
       " '0407020Q0AADEDE': 1.0,\n",
       " '0407020Q0AADIDI': 2.0,\n",
       " '0407020Q0AADKDK': 1.0,\n",
       " '0407020Q0AADNDN': 1.0,\n",
       " '0407020Q0AADRDR': 1.0,\n",
       " '0407020Q0AADUDU': 1.0,\n",
       " '0407020Q0AADVDV': 1.0,\n",
       " '0407020Q0AADWDW': 1.0,\n",
       " '0407020Q0AADYDY': 1.0,\n",
       " '0407020Q0AADZDZ': 1.0,\n",
       " '0407020Q0AAEBEB': 1.0,\n",
       " '0407020Q0AAEFEF': 1.0,\n",
       " '0407020Q0AAEGEG': 1.0,\n",
       " '0407020Q0AAEHEH': 1.0,\n",
       " '0407020Q0AAEIEI': 1.0,\n",
       " '0407020Q0AAELEL': 2.0,\n",
       " '0407020Q0AAENEN': 2.0,\n",
       " '0407020Q0AAERER': 1.0,\n",
       " '0407020Q0AAESES': 1.0,\n",
       " '0407020Q0AAFBFB': 1.0,\n",
       " '0407020Q0AAFCFC': 2.0,\n",
       " '0407020Q0AAFDFD': 1.0,\n",
       " '0407020Q0AAFFFF': 1.0,\n",
       " '0407020Q0AAFGFG': 1.0,\n",
       " '0407020Q0AAFJFJ': 2.0,\n",
       " '0407020Q0AAFKFK': 2.0,\n",
       " '0407020Q0AAFPFP': 1.0,\n",
       " '0407020Q0AAFQFQ': 1.0,\n",
       " '0407020Q0AAFSFS': 1.0,\n",
       " '0407020Q0AAFTFT': 1.0,\n",
       " '0407020Q0AAFUFU': 1.0,\n",
       " '0407020Q0AAFWFW': 2.0,\n",
       " '0407020Q0AAFXFX': 1.0,\n",
       " '0407020Q0AAFYFY': 1.0,\n",
       " '0407020Q0AAFZFZ': 2.0,\n",
       " '0407020Q0AAGAGA': 2.0,\n",
       " '0407020Q0AAGBGB': 1.0,\n",
       " '0407020Q0AAGDGD': 1.0,\n",
       " '0407020Q0BBAAAK': 1.0,\n",
       " '0407020Q0BBABAL': 1.0,\n",
       " '0407020Q0BBACAI': 1.0,\n",
       " '0407020Q0BBADAH': 1.0,\n",
       " '0407020Q0BBAEAG': 1.0,\n",
       " '0407020Q0BBAFCV': 1.0,\n",
       " '0407020Q0BBAGCP': 1.0,\n",
       " '0407020Q0BBAHDC': 1.0,\n",
       " '0407020Q0BBAIDD': 1.0,\n",
       " '0407020Q0BBAJDE': 1.0,\n",
       " '0407020Q0BBAKCG': 1.0,\n",
       " '0407020Q0BBALCF': 1.0,\n",
       " '0407020Q0BCABA6': 1.0,\n",
       " '0407020Q0BCAGCN': 1.0,\n",
       " '0407020Q0BCAHCS': 1.0,\n",
       " '0407020Q0BCAICT': 1.0,\n",
       " '0407020Q0BCAJCU': 1.0,\n",
       " '0407020Q0BEABFJ': 2.0,\n",
       " '0407020Q0BHACCD': 1.0,\n",
       " '0407020Q0BHADCE': 1.0,\n",
       " '0407020Q0BHAFDR': 1.0,\n",
       " '0407020Q0BHAGCN': 1.0,\n",
       " '0407020Q0BIAAEG': 1.0,\n",
       " '0407020Q0BIABEH': 1.0,\n",
       " '0407020Q0BIACDU': 1.0,\n",
       " '0407020Q0BIADDV': 1.0,\n",
       " '0407020Q0BIAEDW': 1.0,\n",
       " '0407020Q0BIAFEI': 1.0,\n",
       " '0407020Q0BJACEB': 1.0,\n",
       " '0407020Q0BKAAEF': 1.0,\n",
       " '0407020Q0BKABEG': 1.0,\n",
       " '0407020Q0BKACEH': 1.0,\n",
       " '0407020Q0BKADEB': 1.0,\n",
       " '0407020Q0BKAEEI': 1.0,\n",
       " '0407020Q0BMAAAK': 1.0,\n",
       " '0407020Q0BMABAL': 1.0,\n",
       " '0407020Q0BMACAI': 1.0,\n",
       " '0407020Q0BMADAH': 1.0,\n",
       " '0407020Q0BMAEAG': 1.0,\n",
       " '0407020Q0BNAAAK': 1.0,\n",
       " '0407020Q0BNABAL': 1.0,\n",
       " '0407020Q0BNACAI': 1.0,\n",
       " '0407020Q0BNADAH': 1.0,\n",
       " '0407020Q0BPAAAK': 1.0,\n",
       " '0407020T0AAAAAA': 0.37,\n",
       " '0407020T0AAABAB': 0.37,\n",
       " '0407020U0AAAAAA': 0.37,\n",
       " '0407020U0AAABAB': 0.37,\n",
       " '0407020V0AAAAAA': 0.24,\n",
       " '0407020V0AAACAC': 0.1,\n",
       " '0407020V0AAAEAE': 0.24,\n",
       " '0407020V0AAAIAI': 0.24,\n",
       " '0407020V0AAALAL': 0.24,\n",
       " '0407020V0AAAPAP': 0.24,\n",
       " '0407020V0AAARAR': 0.1,\n",
       " '0407020V0AAATAT': 0.1,\n",
       " '0407020V0AAAXAX': 0.24,\n",
       " '0407020V0AAAZAZ': 0.24,\n",
       " '0407020V0AABABA': 0.1,\n",
       " '0407020V0AABFBF': 0.1,\n",
       " '0407020V0BCAAAI': 0.24,\n",
       " '0407020W0AAAAAA': 1.0,\n",
       " '0407020Y0BBAAAA': 100.0,\n",
       " '0407020Z0AAAAAA': 2.0,\n",
       " '0407020Z0AAABAB': 2.0}"
      ]
     },
     "execution_count": 60,
     "metadata": {},
     "output_type": "execute_result"
    }
   ],
   "source": [
    "ome_map"
   ]
  },
  {
   "cell_type": "code",
   "execution_count": 76,
   "metadata": {
    "ExecuteTime": {
     "end_time": "2021-06-08T23:20:05.763976Z",
     "start_time": "2021-06-08T23:20:05.744174Z"
    },
    "collapsed": true
   },
   "outputs": [],
   "source": [
    "def func_ome(df,drugBNF,ome_map,quantity_field):\n",
    "    df['presc_ome'] = df[quantity_field] *df['15']*ome_map[drugBNF]\n",
    "    return df\n",
    "\n",
    "def calculateOME(pdp,ome_map,code_field, quantity_field):\n",
    "    pdp['presc_ome'] = 0.0\n",
    "    print(code_field  , quantity_field)\n",
    "    return pdp.groupby(code_field ,as_index=False).apply(lambda df: func_ome(df , df.name, ome_map ,quantity_field))"
   ]
  },
  {
   "cell_type": "code",
   "execution_count": null,
   "metadata": {
    "collapsed": true
   },
   "outputs": [],
   "source": []
  },
  {
   "cell_type": "code",
   "execution_count": 15,
   "metadata": {
    "ExecuteTime": {
     "end_time": "2021-06-08T21:15:54.699113Z",
     "start_time": "2021-06-08T21:15:54.695037Z"
    },
    "collapsed": true
   },
   "outputs": [],
   "source": [
    "# findDrugsForDisease(drug_association_graph,'sleeplessness',chem)"
   ]
  },
  {
   "cell_type": "code",
   "execution_count": 17,
   "metadata": {
    "ExecuteTime": {
     "end_time": "2021-06-08T21:16:01.862812Z",
     "start_time": "2021-06-08T21:16:01.859438Z"
    },
    "collapsed": true
   },
   "outputs": [],
   "source": [
    "# DiseaseDrugs"
   ]
  },
  {
   "cell_type": "code",
   "execution_count": 18,
   "metadata": {
    "ExecuteTime": {
     "end_time": "2021-06-08T21:16:18.871093Z",
     "start_time": "2021-06-08T21:16:18.866572Z"
    },
    "collapsed": true
   },
   "outputs": [],
   "source": [
    "# disease_drug_map = {}\n",
    "# for k in DiseaseDrugs:\n",
    "#     if DiseaseDrugs[k]['disease'] not in disease_drug_map:\n",
    "#         disease_drug_map[DiseaseDrugs[k]['disease']] = []\n",
    "#     disease_drug_map[DiseaseDrugs[k]['disease']].append(k)"
   ]
  },
  {
   "cell_type": "code",
   "execution_count": 19,
   "metadata": {
    "ExecuteTime": {
     "end_time": "2021-06-08T21:16:19.440843Z",
     "start_time": "2021-06-08T21:16:19.436003Z"
    },
    "collapsed": true
   },
   "outputs": [],
   "source": [
    "# drug_map_dict = {'BNF_code':[], 'Drug_name':[] , 'Mapped_Condition': []}\n",
    "# for k in DiseaseDrugs:\n",
    "#     drug_map_dict['BNF_code'].append(k)\n",
    "#     drug_map_dict['Drug_name'].append(DiseaseDrugs[k]['chemName'])\n",
    "#     drug_map_dict['Mapped_Condition'].append(DiseaseDrugs[k]['disease'])\n",
    "# drug_map_df = pd.DataFrame.from_dict(drug_map_dict)    \n",
    "# drug_map_df.to_csv('data_prep/Drugs_categories.csv',index=False)"
   ]
  },
  {
   "cell_type": "code",
   "execution_count": 20,
   "metadata": {
    "ExecuteTime": {
     "end_time": "2021-06-08T21:16:45.580644Z",
     "start_time": "2021-06-08T21:16:45.577083Z"
    },
    "collapsed": true
   },
   "outputs": [],
   "source": [
    "# disease_drug_map.keys()"
   ]
  },
  {
   "cell_type": "code",
   "execution_count": 21,
   "metadata": {
    "ExecuteTime": {
     "end_time": "2021-06-08T21:16:47.732607Z",
     "start_time": "2021-06-08T21:16:46.880476Z"
    },
    "collapsed": true
   },
   "outputs": [],
   "source": [
    "LSOA_dist = json.load(open('../mappings/GP_LSOA_PATIENTSDIST.json','rb'))"
   ]
  },
  {
   "cell_type": "code",
   "execution_count": 22,
   "metadata": {
    "ExecuteTime": {
     "end_time": "2021-06-08T21:16:51.773387Z",
     "start_time": "2021-06-08T21:16:50.575630Z"
    },
    "collapsed": true
   },
   "outputs": [],
   "source": [
    "LSOA_dist_2021 = json.load(open('mappings/GP_LSOA_PATIENTSDIST_2021.json','rb'))"
   ]
  },
  {
   "cell_type": "code",
   "execution_count": 23,
   "metadata": {
    "ExecuteTime": {
     "end_time": "2021-06-08T21:16:58.031615Z",
     "start_time": "2021-06-08T21:16:58.027268Z"
    }
   },
   "outputs": [
    {
     "data": {
      "text/plain": [
       "0.11856400566839868"
      ]
     },
     "execution_count": 23,
     "metadata": {},
     "output_type": "execute_result"
    }
   ],
   "source": [
    "LSOA_dist['A81001']['E01033477']"
   ]
  },
  {
   "cell_type": "code",
   "execution_count": 24,
   "metadata": {
    "ExecuteTime": {
     "end_time": "2021-06-08T21:17:03.774242Z",
     "start_time": "2021-06-08T21:17:03.769959Z"
    }
   },
   "outputs": [
    {
     "data": {
      "text/plain": [
       "0.1600780868716447"
      ]
     },
     "execution_count": 24,
     "metadata": {},
     "output_type": "execute_result"
    }
   ],
   "source": [
    "LSOA_dist_2021['A81001']['E01033477']"
   ]
  },
  {
   "cell_type": "code",
   "execution_count": 25,
   "metadata": {
    "ExecuteTime": {
     "end_time": "2021-06-08T21:17:09.600357Z",
     "start_time": "2021-06-08T21:17:09.596620Z"
    },
    "collapsed": true
   },
   "outputs": [],
   "source": [
    "# LSOA_dist_new = pd.read_csv('mappings/gp-reg-pat-prac-lsoa-all.csv')"
   ]
  },
  {
   "cell_type": "code",
   "execution_count": 26,
   "metadata": {
    "ExecuteTime": {
     "end_time": "2021-06-08T21:17:15.302261Z",
     "start_time": "2021-06-08T21:17:15.298857Z"
    },
    "collapsed": true
   },
   "outputs": [],
   "source": [
    "# LSOA_dist_new.head()"
   ]
  },
  {
   "cell_type": "code",
   "execution_count": 27,
   "metadata": {
    "ExecuteTime": {
     "end_time": "2021-06-08T21:17:20.340245Z",
     "start_time": "2021-06-08T21:17:20.336744Z"
    },
    "collapsed": true
   },
   "outputs": [],
   "source": [
    "# LSOA_dist_2021 = {}\n",
    "# for name , group in LSOA_dist_new.groupby('PRACTICE_CODE'):\n",
    "#     LSOA_dist_2021[name] = {}\n",
    "#     total = sum(group['Number of Patients'])\n",
    "#     for index , row in group.iterrows():\n",
    "#         LSOA_dist_2021[name][row['LSOA_CODE']] = float(row['Number of Patients'])/float(total)\n",
    "    \n",
    "        "
   ]
  },
  {
   "cell_type": "code",
   "execution_count": 28,
   "metadata": {
    "ExecuteTime": {
     "end_time": "2021-06-08T21:17:24.561313Z",
     "start_time": "2021-06-08T21:17:24.558727Z"
    },
    "collapsed": true
   },
   "outputs": [],
   "source": [
    "# json.dump(LSOA_dist_2021 , open('mappings/GP_LSOA_PATIENTSDIST_2021.json','w'))"
   ]
  },
  {
   "cell_type": "code",
   "execution_count": 29,
   "metadata": {
    "ExecuteTime": {
     "end_time": "2021-06-08T21:17:28.703518Z",
     "start_time": "2021-06-08T21:17:28.700900Z"
    },
    "collapsed": true
   },
   "outputs": [],
   "source": [
    "# taxonomyDict%store -r taxonomyDict"
   ]
  },
  {
   "cell_type": "code",
   "execution_count": 30,
   "metadata": {
    "ExecuteTime": {
     "end_time": "2021-06-08T21:17:33.943481Z",
     "start_time": "2021-06-08T21:17:33.939656Z"
    },
    "collapsed": true
   },
   "outputs": [],
   "source": [
    "# json.dump(taxonomyDict, open('mappings/taxomomy_dict.json','w'))"
   ]
  },
  {
   "cell_type": "code",
   "execution_count": 31,
   "metadata": {
    "ExecuteTime": {
     "end_time": "2021-06-08T21:17:38.896716Z",
     "start_time": "2021-06-08T21:17:38.894297Z"
    },
    "collapsed": true
   },
   "outputs": [],
   "source": [
    "# %storcityMape -r cityMap"
   ]
  },
  {
   "cell_type": "code",
   "execution_count": 32,
   "metadata": {
    "ExecuteTime": {
     "end_time": "2021-06-08T21:17:43.567752Z",
     "start_time": "2021-06-08T21:17:43.564638Z"
    },
    "collapsed": true
   },
   "outputs": [],
   "source": [
    "# json.dump(cityMap, open('mappings/City_map_dict.json','w'))"
   ]
  },
  {
   "cell_type": "code",
   "execution_count": 33,
   "metadata": {
    "ExecuteTime": {
     "end_time": "2021-06-08T21:17:48.255774Z",
     "start_time": "2021-06-08T21:17:48.076890Z"
    }
   },
   "outputs": [
    {
     "name": "stderr",
     "output_type": "stream",
     "text": [
      "/home/sagar/anaconda3/lib/python3.6/site-packages/IPython/core/interactiveshell.py:2698: DtypeWarning: Columns (23,24,25,26,27,28,29,30,31,32,33,34,35) have mixed types. Specify dtype option on import or set low_memory=False.\n",
      "  interactivity=interactivity, compiler=compiler, result=result)\n"
     ]
    }
   ],
   "source": [
    "ward_pop = pd.read_csv('mappings/ward_pop.csv')"
   ]
  },
  {
   "cell_type": "code",
   "execution_count": 34,
   "metadata": {
    "ExecuteTime": {
     "end_time": "2021-06-08T21:17:54.707747Z",
     "start_time": "2021-06-08T21:17:53.040032Z"
    },
    "collapsed": true
   },
   "outputs": [],
   "source": [
    "population = {}\n",
    "for index, row in ward_pop.iterrows():\n",
    "    population[row['Ward Code 1']] = float(row['All Ages'].replace(',',''))"
   ]
  },
  {
   "cell_type": "code",
   "execution_count": 35,
   "metadata": {
    "ExecuteTime": {
     "end_time": "2021-06-08T21:17:59.630763Z",
     "start_time": "2021-06-08T21:17:59.580736Z"
    },
    "collapsed": true
   },
   "outputs": [],
   "source": [
    "df_city = pd.read_csv('../mappings/lower_layer_super_output_area_2011_to_major_towns_and_cities_december_2015_lookup_in_england_and_wales.csv')"
   ]
  },
  {
   "cell_type": "code",
   "execution_count": 36,
   "metadata": {
    "ExecuteTime": {
     "end_time": "2021-06-08T21:18:04.813955Z",
     "start_time": "2021-06-08T21:18:04.795686Z"
    }
   },
   "outputs": [
    {
     "data": {
      "text/html": [
       "<div>\n",
       "<style scoped>\n",
       "    .dataframe tbody tr th:only-of-type {\n",
       "        vertical-align: middle;\n",
       "    }\n",
       "\n",
       "    .dataframe tbody tr th {\n",
       "        vertical-align: top;\n",
       "    }\n",
       "\n",
       "    .dataframe thead th {\n",
       "        text-align: right;\n",
       "    }\n",
       "</style>\n",
       "<table border=\"1\" class=\"dataframe\">\n",
       "  <thead>\n",
       "    <tr style=\"text-align: right;\">\n",
       "      <th></th>\n",
       "      <th>LSOA11CD</th>\n",
       "      <th>LSOA11NM</th>\n",
       "      <th>TCITY15CD</th>\n",
       "      <th>TCITY15NM</th>\n",
       "      <th>FID</th>\n",
       "    </tr>\n",
       "  </thead>\n",
       "  <tbody>\n",
       "    <tr>\n",
       "      <th>0</th>\n",
       "      <td>E01002351</td>\n",
       "      <td>Havering 016C</td>\n",
       "      <td>J01000055</td>\n",
       "      <td>London</td>\n",
       "      <td>2001</td>\n",
       "    </tr>\n",
       "    <tr>\n",
       "      <th>1</th>\n",
       "      <td>E01002352</td>\n",
       "      <td>Havering 016D</td>\n",
       "      <td>J01000055</td>\n",
       "      <td>London</td>\n",
       "      <td>2002</td>\n",
       "    </tr>\n",
       "    <tr>\n",
       "      <th>2</th>\n",
       "      <td>E01002100</td>\n",
       "      <td>Haringey 008B</td>\n",
       "      <td>J01000055</td>\n",
       "      <td>London</td>\n",
       "      <td>2003</td>\n",
       "    </tr>\n",
       "    <tr>\n",
       "      <th>3</th>\n",
       "      <td>E01002301</td>\n",
       "      <td>Havering 003A</td>\n",
       "      <td>J01000055</td>\n",
       "      <td>London</td>\n",
       "      <td>2004</td>\n",
       "    </tr>\n",
       "    <tr>\n",
       "      <th>4</th>\n",
       "      <td>E01002353</td>\n",
       "      <td>Havering 013B</td>\n",
       "      <td>J01000055</td>\n",
       "      <td>London</td>\n",
       "      <td>2005</td>\n",
       "    </tr>\n",
       "  </tbody>\n",
       "</table>\n",
       "</div>"
      ],
      "text/plain": [
       "    LSOA11CD       LSOA11NM  TCITY15CD TCITY15NM   FID\n",
       "0  E01002351  Havering 016C  J01000055    London  2001\n",
       "1  E01002352  Havering 016D  J01000055    London  2002\n",
       "2  E01002100  Haringey 008B  J01000055    London  2003\n",
       "3  E01002301  Havering 003A  J01000055    London  2004\n",
       "4  E01002353  Havering 013B  J01000055    London  2005"
      ]
     },
     "execution_count": 36,
     "metadata": {},
     "output_type": "execute_result"
    }
   ],
   "source": [
    "df_city.head()"
   ]
  },
  {
   "cell_type": "code",
   "execution_count": 37,
   "metadata": {
    "ExecuteTime": {
     "end_time": "2021-06-08T21:18:09.566828Z",
     "start_time": "2021-06-08T21:18:09.512006Z"
    },
    "collapsed": true
   },
   "outputs": [],
   "source": [
    "cityMap = {}\n",
    "for name , group in df_city.groupby('TCITY15NM'):\n",
    "        cityMap[name] = list(group['LSOA11CD'])"
   ]
  },
  {
   "cell_type": "code",
   "execution_count": 38,
   "metadata": {
    "ExecuteTime": {
     "end_time": "2021-06-08T21:18:15.135297Z",
     "start_time": "2021-06-08T21:18:15.073529Z"
    },
    "collapsed": true
   },
   "outputs": [],
   "source": [
    "LSOA_survey_takers = json.load(open('../mappings/LSOA_suvery_pop.json'))"
   ]
  },
  {
   "cell_type": "code",
   "execution_count": 39,
   "metadata": {
    "ExecuteTime": {
     "end_time": "2021-06-08T21:18:21.751304Z",
     "start_time": "2021-06-08T21:18:21.746792Z"
    },
    "collapsed": true
   },
   "outputs": [],
   "source": [
    "disease_drugs = json.load(open(\"../mappings/Disease_Drug_DrugBank.json\",'rb'))"
   ]
  },
  {
   "cell_type": "code",
   "execution_count": 40,
   "metadata": {
    "ExecuteTime": {
     "end_time": "2021-06-08T21:18:27.486119Z",
     "start_time": "2021-06-08T21:18:27.297097Z"
    },
    "collapsed": true
   },
   "outputs": [],
   "source": [
    "drugbank_dict = json.load(open('../mappings/Drugbank_drugs_data.json','rb'))"
   ]
  },
  {
   "cell_type": "code",
   "execution_count": 41,
   "metadata": {
    "ExecuteTime": {
     "end_time": "2021-06-08T21:18:34.332719Z",
     "start_time": "2021-06-08T21:18:34.329346Z"
    },
    "collapsed": true
   },
   "outputs": [],
   "source": [
    "# cityMap"
   ]
  },
  {
   "cell_type": "code",
   "execution_count": 42,
   "metadata": {
    "ExecuteTime": {
     "end_time": "2021-06-08T21:18:41.317393Z",
     "start_time": "2021-06-08T21:18:40.981336Z"
    },
    "collapsed": true
   },
   "outputs": [],
   "source": [
    "IMD_df = pd.read_csv('../../BL_Work/File_7_ID_2015_All_ranks__deciles_and_scores_for_the_Indices_of_Deprivation__and_population_denominators.csv')"
   ]
  },
  {
   "cell_type": "code",
   "execution_count": 43,
   "metadata": {
    "ExecuteTime": {
     "end_time": "2021-06-08T21:18:47.744449Z",
     "start_time": "2021-06-08T21:18:47.709735Z"
    }
   },
   "outputs": [
    {
     "data": {
      "text/html": [
       "<div>\n",
       "<style scoped>\n",
       "    .dataframe tbody tr th:only-of-type {\n",
       "        vertical-align: middle;\n",
       "    }\n",
       "\n",
       "    .dataframe tbody tr th {\n",
       "        vertical-align: top;\n",
       "    }\n",
       "\n",
       "    .dataframe thead th {\n",
       "        text-align: right;\n",
       "    }\n",
       "</style>\n",
       "<table border=\"1\" class=\"dataframe\">\n",
       "  <thead>\n",
       "    <tr style=\"text-align: right;\">\n",
       "      <th></th>\n",
       "      <th>LSOA code (2011)</th>\n",
       "      <th>LSOA name (2011)</th>\n",
       "      <th>Local Authority District code (2013)</th>\n",
       "      <th>Local Authority District name (2013)</th>\n",
       "      <th>Index of Multiple Deprivation (IMD) Score</th>\n",
       "      <th>Index of Multiple Deprivation (IMD) Rank (where 1 is most deprived)</th>\n",
       "      <th>Index of Multiple Deprivation (IMD) Decile (where 1 is most deprived 10% of LSOAs)</th>\n",
       "      <th>Income Score (rate)</th>\n",
       "      <th>Income Rank (where 1 is most deprived)</th>\n",
       "      <th>Income Decile (where 1 is most deprived 10% of LSOAs)</th>\n",
       "      <th>...</th>\n",
       "      <th>Indoors Sub-domain Rank (where 1 is most deprived)</th>\n",
       "      <th>Indoors Sub-domain Decile (where 1 is most deprived 10% of LSOAs)</th>\n",
       "      <th>Outdoors Sub-domain Score</th>\n",
       "      <th>Outdoors Sub-domain Rank (where 1 is most deprived)</th>\n",
       "      <th>Outdoors Sub-domain Decile (where 1 is most deprived 10% of LSOAs)</th>\n",
       "      <th>Total population: mid 2012 (excluding prisoners)</th>\n",
       "      <th>Dependent Children aged 0-15: mid 2012 (excluding prisoners)</th>\n",
       "      <th>Population aged 16-59: mid 2012 (excluding prisoners)</th>\n",
       "      <th>Older population aged 60 and over: mid 2012 (excluding prisoners)</th>\n",
       "      <th>Working age population 18-59/64: for use with Employment Deprivation Domain (excluding prisoners)</th>\n",
       "    </tr>\n",
       "  </thead>\n",
       "  <tbody>\n",
       "    <tr>\n",
       "      <th>0</th>\n",
       "      <td>E01031349</td>\n",
       "      <td>Adur 001A</td>\n",
       "      <td>E07000223</td>\n",
       "      <td>Adur</td>\n",
       "      <td>12.389</td>\n",
       "      <td>21352</td>\n",
       "      <td>7</td>\n",
       "      <td>0.096</td>\n",
       "      <td>18992</td>\n",
       "      <td>6</td>\n",
       "      <td>...</td>\n",
       "      <td>20379</td>\n",
       "      <td>7</td>\n",
       "      <td>0.312</td>\n",
       "      <td>11318</td>\n",
       "      <td>4</td>\n",
       "      <td>1318</td>\n",
       "      <td>206</td>\n",
       "      <td>694</td>\n",
       "      <td>418</td>\n",
       "      <td>702.75</td>\n",
       "    </tr>\n",
       "    <tr>\n",
       "      <th>1</th>\n",
       "      <td>E01031350</td>\n",
       "      <td>Adur 001B</td>\n",
       "      <td>E07000223</td>\n",
       "      <td>Adur</td>\n",
       "      <td>28.619</td>\n",
       "      <td>8864</td>\n",
       "      <td>3</td>\n",
       "      <td>0.187</td>\n",
       "      <td>9233</td>\n",
       "      <td>3</td>\n",
       "      <td>...</td>\n",
       "      <td>16285</td>\n",
       "      <td>5</td>\n",
       "      <td>0.234</td>\n",
       "      <td>12445</td>\n",
       "      <td>4</td>\n",
       "      <td>1212</td>\n",
       "      <td>232</td>\n",
       "      <td>712</td>\n",
       "      <td>268</td>\n",
       "      <td>720.75</td>\n",
       "    </tr>\n",
       "    <tr>\n",
       "      <th>2</th>\n",
       "      <td>E01031351</td>\n",
       "      <td>Adur 001C</td>\n",
       "      <td>E07000223</td>\n",
       "      <td>Adur</td>\n",
       "      <td>11.713</td>\n",
       "      <td>22143</td>\n",
       "      <td>7</td>\n",
       "      <td>0.065</td>\n",
       "      <td>24539</td>\n",
       "      <td>8</td>\n",
       "      <td>...</td>\n",
       "      <td>25054</td>\n",
       "      <td>8</td>\n",
       "      <td>0.208</td>\n",
       "      <td>12820</td>\n",
       "      <td>4</td>\n",
       "      <td>1577</td>\n",
       "      <td>290</td>\n",
       "      <td>829</td>\n",
       "      <td>458</td>\n",
       "      <td>838.25</td>\n",
       "    </tr>\n",
       "    <tr>\n",
       "      <th>3</th>\n",
       "      <td>E01031352</td>\n",
       "      <td>Adur 001D</td>\n",
       "      <td>E07000223</td>\n",
       "      <td>Adur</td>\n",
       "      <td>16.446</td>\n",
       "      <td>17252</td>\n",
       "      <td>6</td>\n",
       "      <td>0.117</td>\n",
       "      <td>16087</td>\n",
       "      <td>5</td>\n",
       "      <td>...</td>\n",
       "      <td>24455</td>\n",
       "      <td>8</td>\n",
       "      <td>0.109</td>\n",
       "      <td>14350</td>\n",
       "      <td>5</td>\n",
       "      <td>1453</td>\n",
       "      <td>233</td>\n",
       "      <td>739</td>\n",
       "      <td>481</td>\n",
       "      <td>748.25</td>\n",
       "    </tr>\n",
       "    <tr>\n",
       "      <th>4</th>\n",
       "      <td>E01031370</td>\n",
       "      <td>Adur 001E</td>\n",
       "      <td>E07000223</td>\n",
       "      <td>Adur</td>\n",
       "      <td>18.265</td>\n",
       "      <td>15643</td>\n",
       "      <td>5</td>\n",
       "      <td>0.102</td>\n",
       "      <td>17918</td>\n",
       "      <td>6</td>\n",
       "      <td>...</td>\n",
       "      <td>20214</td>\n",
       "      <td>7</td>\n",
       "      <td>0.321</td>\n",
       "      <td>11202</td>\n",
       "      <td>4</td>\n",
       "      <td>1443</td>\n",
       "      <td>306</td>\n",
       "      <td>799</td>\n",
       "      <td>338</td>\n",
       "      <td>795.50</td>\n",
       "    </tr>\n",
       "  </tbody>\n",
       "</table>\n",
       "<p>5 rows × 57 columns</p>\n",
       "</div>"
      ],
      "text/plain": [
       "  LSOA code (2011) LSOA name (2011) Local Authority District code (2013)  \\\n",
       "0        E01031349        Adur 001A                            E07000223   \n",
       "1        E01031350        Adur 001B                            E07000223   \n",
       "2        E01031351        Adur 001C                            E07000223   \n",
       "3        E01031352        Adur 001D                            E07000223   \n",
       "4        E01031370        Adur 001E                            E07000223   \n",
       "\n",
       "  Local Authority District name (2013)  \\\n",
       "0                                 Adur   \n",
       "1                                 Adur   \n",
       "2                                 Adur   \n",
       "3                                 Adur   \n",
       "4                                 Adur   \n",
       "\n",
       "   Index of Multiple Deprivation (IMD) Score  \\\n",
       "0                                     12.389   \n",
       "1                                     28.619   \n",
       "2                                     11.713   \n",
       "3                                     16.446   \n",
       "4                                     18.265   \n",
       "\n",
       "   Index of Multiple Deprivation (IMD) Rank (where 1 is most deprived)  \\\n",
       "0                                              21352                     \n",
       "1                                               8864                     \n",
       "2                                              22143                     \n",
       "3                                              17252                     \n",
       "4                                              15643                     \n",
       "\n",
       "   Index of Multiple Deprivation (IMD) Decile (where 1 is most deprived 10% of LSOAs)  \\\n",
       "0                                                  7                                    \n",
       "1                                                  3                                    \n",
       "2                                                  7                                    \n",
       "3                                                  6                                    \n",
       "4                                                  5                                    \n",
       "\n",
       "   Income Score (rate)  Income Rank (where 1 is most deprived)  \\\n",
       "0                0.096                                   18992   \n",
       "1                0.187                                    9233   \n",
       "2                0.065                                   24539   \n",
       "3                0.117                                   16087   \n",
       "4                0.102                                   17918   \n",
       "\n",
       "   Income Decile (where 1 is most deprived 10% of LSOAs)  ...  \\\n",
       "0                                                  6      ...   \n",
       "1                                                  3      ...   \n",
       "2                                                  8      ...   \n",
       "3                                                  5      ...   \n",
       "4                                                  6      ...   \n",
       "\n",
       "   Indoors Sub-domain Rank (where 1 is most deprived)  \\\n",
       "0                                              20379    \n",
       "1                                              16285    \n",
       "2                                              25054    \n",
       "3                                              24455    \n",
       "4                                              20214    \n",
       "\n",
       "   Indoors Sub-domain Decile (where 1 is most deprived 10% of LSOAs)  \\\n",
       "0                                                  7                   \n",
       "1                                                  5                   \n",
       "2                                                  8                   \n",
       "3                                                  8                   \n",
       "4                                                  7                   \n",
       "\n",
       "   Outdoors Sub-domain Score  \\\n",
       "0                      0.312   \n",
       "1                      0.234   \n",
       "2                      0.208   \n",
       "3                      0.109   \n",
       "4                      0.321   \n",
       "\n",
       "   Outdoors Sub-domain Rank (where 1 is most deprived)  \\\n",
       "0                                              11318     \n",
       "1                                              12445     \n",
       "2                                              12820     \n",
       "3                                              14350     \n",
       "4                                              11202     \n",
       "\n",
       "   Outdoors Sub-domain Decile (where 1 is most deprived 10% of LSOAs)  \\\n",
       "0                                                  4                    \n",
       "1                                                  4                    \n",
       "2                                                  4                    \n",
       "3                                                  5                    \n",
       "4                                                  4                    \n",
       "\n",
       "   Total population: mid 2012 (excluding prisoners)  \\\n",
       "0                                              1318   \n",
       "1                                              1212   \n",
       "2                                              1577   \n",
       "3                                              1453   \n",
       "4                                              1443   \n",
       "\n",
       "   Dependent Children aged 0-15: mid 2012 (excluding prisoners)  \\\n",
       "0                                                206              \n",
       "1                                                232              \n",
       "2                                                290              \n",
       "3                                                233              \n",
       "4                                                306              \n",
       "\n",
       "   Population aged 16-59: mid 2012 (excluding prisoners)  \\\n",
       "0                                                694       \n",
       "1                                                712       \n",
       "2                                                829       \n",
       "3                                                739       \n",
       "4                                                799       \n",
       "\n",
       "   Older population aged 60 and over: mid 2012 (excluding prisoners)  \\\n",
       "0                                                418                   \n",
       "1                                                268                   \n",
       "2                                                458                   \n",
       "3                                                481                   \n",
       "4                                                338                   \n",
       "\n",
       "   Working age population 18-59/64: for use with Employment Deprivation Domain (excluding prisoners)   \n",
       "0                                             702.75                                                   \n",
       "1                                             720.75                                                   \n",
       "2                                             838.25                                                   \n",
       "3                                             748.25                                                   \n",
       "4                                             795.50                                                   \n",
       "\n",
       "[5 rows x 57 columns]"
      ]
     },
     "execution_count": 43,
     "metadata": {},
     "output_type": "execute_result"
    }
   ],
   "source": [
    "IMD_df.head()"
   ]
  },
  {
   "cell_type": "code",
   "execution_count": 44,
   "metadata": {
    "ExecuteTime": {
     "end_time": "2021-06-08T21:19:02.746491Z",
     "start_time": "2021-06-08T21:18:53.969363Z"
    },
    "collapsed": true
   },
   "outputs": [],
   "source": [
    "LSOA_pop = {}\n",
    "LSOA_IMD = {}\n",
    "for index, row in IMD_df.iterrows():\n",
    "    LSOA_pop[row['LSOA code (2011)']] = row['Total population: mid 2012 (excluding prisoners)']\n",
    "    LSOA_IMD[row['LSOA code (2011)']] = row['Index of Multiple Deprivation (IMD) Score']"
   ]
  },
  {
   "cell_type": "code",
   "execution_count": 45,
   "metadata": {
    "ExecuteTime": {
     "end_time": "2021-06-08T21:19:08.699328Z",
     "start_time": "2021-06-08T21:19:08.694835Z"
    }
   },
   "outputs": [
    {
     "data": {
      "text/plain": [
       "32844"
      ]
     },
     "execution_count": 45,
     "metadata": {},
     "output_type": "execute_result"
    }
   ],
   "source": [
    "len(LSOA_pop.keys())"
   ]
  },
  {
   "cell_type": "code",
   "execution_count": 46,
   "metadata": {
    "ExecuteTime": {
     "end_time": "2021-06-08T21:19:15.842496Z",
     "start_time": "2021-06-08T21:19:15.673146Z"
    }
   },
   "outputs": [
    {
     "name": "stdout",
     "output_type": "stream",
     "text": [
      "could not find LSOA W01001861\n",
      "could not find LSOA W01001809\n",
      "could not find LSOA W01001862\n",
      "could not find LSOA W01001863\n",
      "could not find LSOA W01001864\n",
      "could not find LSOA W01001810\n",
      "could not find LSOA W01001865\n",
      "could not find LSOA W01001811\n",
      "could not find LSOA W01001866\n",
      "could not find LSOA W01001812\n",
      "could not find LSOA W01001867\n",
      "could not find LSOA W01001813\n",
      "could not find LSOA W01001704\n",
      "could not find LSOA W01001868\n",
      "could not find LSOA W01001814\n",
      "could not find LSOA W01001705\n",
      "could not find LSOA W01001756\n",
      "could not find LSOA W01001869\n",
      "could not find LSOA W01001815\n",
      "could not find LSOA W01001706\n",
      "could not find LSOA W01001757\n",
      "could not find LSOA W01001870\n",
      "could not find LSOA W01001816\n",
      "could not find LSOA W01001707\n",
      "could not find LSOA W01001758\n",
      "could not find LSOA W01001871\n",
      "could not find LSOA W01001759\n",
      "could not find LSOA W01001817\n",
      "could not find LSOA W01001872\n",
      "could not find LSOA W01001708\n",
      "could not find LSOA W01001818\n",
      "could not find LSOA W01001709\n",
      "could not find LSOA W01001873\n",
      "could not find LSOA W01001760\n",
      "could not find LSOA W01001710\n",
      "could not find LSOA W01001922\n",
      "could not find LSOA W01001874\n",
      "could not find LSOA W01001761\n",
      "could not find LSOA W01001711\n",
      "could not find LSOA W01001875\n",
      "could not find LSOA W01001762\n",
      "could not find LSOA W01001821\n",
      "could not find LSOA W01001712\n",
      "could not find LSOA W01001876\n",
      "could not find LSOA W01001764\n",
      "could not find LSOA W01001822\n",
      "could not find LSOA W01001713\n",
      "could not find LSOA W01001877\n",
      "could not find LSOA W01001765\n",
      "could not find LSOA W01001823\n",
      "could not find LSOA W01001714\n",
      "could not find LSOA W01001878\n",
      "could not find LSOA W01001766\n",
      "could not find LSOA W01001824\n",
      "could not find LSOA W01001715\n",
      "could not find LSOA W01001879\n",
      "could not find LSOA W01001767\n",
      "could not find LSOA W01001825\n",
      "could not find LSOA W01001716\n",
      "could not find LSOA W01001880\n",
      "could not find LSOA W01001768\n",
      "could not find LSOA W01001826\n",
      "could not find LSOA W01001717\n",
      "could not find LSOA W01001881\n",
      "could not find LSOA W01001769\n",
      "could not find LSOA W01001827\n",
      "could not find LSOA W01001718\n",
      "could not find LSOA W01001882\n",
      "could not find LSOA W01001883\n",
      "could not find LSOA W01001719\n",
      "could not find LSOA W01001884\n",
      "could not find LSOA W01001720\n",
      "could not find LSOA W01001885\n",
      "could not find LSOA W01001721\n",
      "could not find LSOA W01001886\n",
      "could not find LSOA W01001770\n",
      "could not find LSOA W01001722\n",
      "could not find LSOA W01001887\n",
      "could not find LSOA W01001771\n",
      "could not find LSOA W01001724\n",
      "could not find LSOA W01001888\n",
      "could not find LSOA W01001772\n",
      "could not find LSOA W01001725\n",
      "could not find LSOA W01001889\n",
      "could not find LSOA W01001773\n",
      "could not find LSOA W01001726\n",
      "could not find LSOA W01001890\n",
      "could not find LSOA W01001774\n",
      "could not find LSOA W01001828\n",
      "could not find LSOA W01001891\n",
      "could not find LSOA W01001775\n",
      "could not find LSOA W01001939\n",
      "could not find LSOA W01001829\n",
      "could not find LSOA W01001892\n",
      "could not find LSOA W01001730\n",
      "could not find LSOA W01001776\n",
      "could not find LSOA W01001830\n",
      "could not find LSOA W01001940\n",
      "could not find LSOA W01001731\n",
      "could not find LSOA W01001777\n",
      "could not find LSOA W01001831\n",
      "could not find LSOA W01001941\n",
      "could not find LSOA W01001894\n",
      "could not find LSOA W01001732\n",
      "could not find LSOA W01001778\n",
      "could not find LSOA W01001832\n",
      "could not find LSOA W01001942\n",
      "could not find LSOA W01001895\n",
      "could not find LSOA W01001733\n",
      "could not find LSOA W01001779\n",
      "could not find LSOA W01001833\n",
      "could not find LSOA W01001943\n",
      "could not find LSOA W01001896\n",
      "could not find LSOA W01001734\n",
      "could not find LSOA W01001780\n",
      "could not find LSOA W01001834\n",
      "could not find LSOA W01001944\n",
      "could not find LSOA W01001735\n",
      "could not find LSOA W01001781\n",
      "could not find LSOA W01001835\n",
      "could not find LSOA W01001736\n",
      "could not find LSOA W01001782\n",
      "could not find LSOA W01001836\n",
      "could not find LSOA W01001946\n",
      "could not find LSOA W01001737\n",
      "could not find LSOA W01001783\n",
      "could not find LSOA W01001837\n",
      "could not find LSOA W01001947\n",
      "could not find LSOA W01001738\n",
      "could not find LSOA W01001784\n",
      "could not find LSOA W01001838\n",
      "could not find LSOA W01001948\n",
      "could not find LSOA W01001739\n",
      "could not find LSOA W01001785\n",
      "could not find LSOA W01001839\n",
      "could not find LSOA W01001949\n",
      "could not find LSOA W01001740\n",
      "could not find LSOA W01001786\n",
      "could not find LSOA W01001840\n",
      "could not find LSOA W01001950\n",
      "could not find LSOA W01001741\n",
      "could not find LSOA W01001787\n",
      "could not find LSOA W01001788\n",
      "could not find LSOA W01001789\n",
      "could not find LSOA W01001790\n",
      "could not find LSOA W01001791\n",
      "could not find LSOA W01001792\n",
      "could not find LSOA W01001793\n",
      "could not find LSOA W01001794\n",
      "could not find LSOA W01001795\n",
      "could not find LSOA W01001796\n",
      "could not find LSOA W01001797\n",
      "could not find LSOA W01001798\n",
      "could not find LSOA W01001799\n",
      "could not find LSOA W01001800\n",
      "could not find LSOA W01001802\n",
      "could not find LSOA W01001803\n",
      "could not find LSOA W01001804\n",
      "could not find LSOA W01001805\n",
      "could not find LSOA W01001806\n",
      "could not find LSOA W01001807\n",
      "could not find LSOA W01001808\n",
      "could not find LSOA W01001841\n",
      "could not find LSOA W01001742\n",
      "could not find LSOA W01001842\n",
      "could not find LSOA W01001743\n",
      "could not find LSOA W01001843\n",
      "could not find LSOA W01001951\n",
      "could not find LSOA W01001744\n",
      "could not find LSOA W01001844\n",
      "could not find LSOA W01001952\n",
      "could not find LSOA W01001745\n",
      "could not find LSOA W01001846\n",
      "could not find LSOA W01001953\n",
      "could not find LSOA W01001746\n",
      "could not find LSOA W01001847\n",
      "could not find LSOA W01001954\n",
      "could not find LSOA W01001747\n",
      "could not find LSOA W01001848\n",
      "could not find LSOA W01001748\n",
      "could not find LSOA W01001849\n",
      "could not find LSOA W01001749\n",
      "could not find LSOA W01001850\n",
      "could not find LSOA W01001750\n",
      "could not find LSOA W01001851\n",
      "could not find LSOA W01001751\n",
      "could not find LSOA W01001852\n",
      "could not find LSOA W01001694\n",
      "could not find LSOA W01001853\n",
      "could not find LSOA W01001752\n",
      "could not find LSOA W01001695\n",
      "could not find LSOA W01001854\n",
      "could not find LSOA W01001753\n",
      "could not find LSOA W01001696\n",
      "could not find LSOA W01001855\n",
      "could not find LSOA W01001754\n",
      "could not find LSOA W01001697\n",
      "could not find LSOA W01001856\n",
      "could not find LSOA W01001755\n",
      "could not find LSOA W01001698\n",
      "could not find LSOA W01001699\n",
      "could not find LSOA W01001702\n",
      "could not find LSOA W01001703\n",
      "could not find LSOA W01001857\n",
      "could not find LSOA W01001858\n",
      "could not find LSOA W01001859\n",
      "could not find LSOA W01001860\n",
      "could not find LSOA W01000329\n",
      "could not find LSOA W01000330\n",
      "could not find LSOA W01000331\n",
      "could not find LSOA W01001912\n",
      "could not find LSOA W01001913\n",
      "could not find LSOA W01001600\n",
      "could not find LSOA W01001651\n",
      "could not find LSOA W01001601\n",
      "could not find LSOA W01001652\n",
      "could not find LSOA W01001602\n",
      "could not find LSOA W01001653\n",
      "could not find LSOA W01001654\n",
      "could not find LSOA W01001603\n",
      "could not find LSOA W01001604\n",
      "could not find LSOA W01001655\n",
      "could not find LSOA W01001605\n",
      "could not find LSOA W01001606\n",
      "could not find LSOA W01001607\n",
      "could not find LSOA W01001659\n",
      "could not find LSOA W01001608\n",
      "could not find LSOA W01001660\n",
      "could not find LSOA W01001609\n",
      "could not find LSOA W01001661\n",
      "could not find LSOA W01001610\n",
      "could not find LSOA W01001662\n",
      "could not find LSOA W01001611\n",
      "could not find LSOA W01001663\n",
      "could not find LSOA W01001612\n",
      "could not find LSOA W01001664\n",
      "could not find LSOA W01001613\n",
      "could not find LSOA W01001614\n",
      "could not find LSOA W01001615\n",
      "could not find LSOA W01001616\n",
      "could not find LSOA W01001617\n",
      "could not find LSOA W01001618\n",
      "could not find LSOA W01001619\n",
      "could not find LSOA W01001620\n",
      "could not find LSOA W01001621\n",
      "could not find LSOA W01001622\n",
      "could not find LSOA W01001629\n",
      "could not find LSOA W01001630\n",
      "could not find LSOA W01001631\n",
      "could not find LSOA W01001632\n",
      "could not find LSOA W01001633\n",
      "could not find LSOA W01001634\n",
      "could not find LSOA W01001635\n",
      "could not find LSOA W01001636\n",
      "could not find LSOA W01001637\n",
      "could not find LSOA W01001638\n",
      "could not find LSOA W01001639\n",
      "could not find LSOA W01001641\n",
      "could not find LSOA W01001642\n",
      "could not find LSOA W01001643\n",
      "could not find LSOA W01001644\n",
      "could not find LSOA W01001645\n",
      "could not find LSOA W01001646\n",
      "could not find LSOA W01001647\n",
      "could not find LSOA W01001648\n",
      "could not find LSOA W01001665\n",
      "could not find LSOA W01001666\n",
      "could not find LSOA W01001667\n",
      "could not find LSOA W01001668\n",
      "could not find LSOA W01001669\n",
      "could not find LSOA W01001670\n",
      "could not find LSOA W01001671\n",
      "could not find LSOA W01001672\n",
      "could not find LSOA W01001673\n",
      "could not find LSOA W01001674\n",
      "could not find LSOA W01001675\n",
      "could not find LSOA W01001676\n",
      "could not find LSOA W01001677\n",
      "could not find LSOA W01001678\n",
      "could not find LSOA W01001679\n",
      "could not find LSOA W01001680\n",
      "could not find LSOA W01001681\n",
      "could not find LSOA W01001682\n",
      "could not find LSOA W01001683\n",
      "could not find LSOA W01001684\n",
      "could not find LSOA W01001685\n",
      "could not find LSOA W01001686\n",
      "could not find LSOA W01001687\n",
      "could not find LSOA W01001688\n",
      "could not find LSOA W01001689\n",
      "could not find LSOA W01001690\n",
      "could not find LSOA W01001691\n",
      "could not find LSOA W01001692\n",
      "could not find LSOA W01001693\n",
      "could not find LSOA W01001938\n",
      "could not find LSOA W01001955\n",
      "could not find LSOA W01001956\n",
      "could not find LSOA W01001957\n",
      "could not find LSOA W01001958\n",
      "could not find LSOA W01000738\n",
      "could not find LSOA W01000739\n",
      "could not find LSOA W01000740\n",
      "could not find LSOA W01000741\n",
      "could not find LSOA W01000742\n",
      "could not find LSOA W01000744\n",
      "could not find LSOA W01000745\n",
      "could not find LSOA W01000746\n",
      "could not find LSOA W01000747\n",
      "could not find LSOA W01000749\n",
      "could not find LSOA W01000750\n",
      "could not find LSOA W01000751\n",
      "could not find LSOA W01000752\n",
      "could not find LSOA W01000753\n",
      "could not find LSOA W01000754\n",
      "could not find LSOA W01000755\n",
      "could not find LSOA W01000757\n",
      "could not find LSOA W01000758\n",
      "could not find LSOA W01000760\n",
      "could not find LSOA W01000761\n",
      "could not find LSOA W01000762\n",
      "could not find LSOA W01000763\n",
      "could not find LSOA W01000764\n",
      "could not find LSOA W01000765\n",
      "could not find LSOA W01000766\n",
      "could not find LSOA W01000767\n",
      "could not find LSOA W01000768\n",
      "could not find LSOA W01000769\n",
      "could not find LSOA W01000770\n",
      "could not find LSOA W01000781\n",
      "could not find LSOA W01000782\n",
      "could not find LSOA W01000787\n",
      "could not find LSOA W01000788\n",
      "could not find LSOA W01000789\n",
      "could not find LSOA W01000790\n",
      "could not find LSOA W01000791\n",
      "could not find LSOA W01000794\n",
      "could not find LSOA W01000795\n",
      "could not find LSOA W01000796\n",
      "could not find LSOA W01000797\n",
      "could not find LSOA W01000798\n",
      "could not find LSOA W01000799\n",
      "could not find LSOA W01000849\n",
      "could not find LSOA W01000801\n",
      "could not find LSOA W01000804\n",
      "could not find LSOA W01000805\n",
      "could not find LSOA W01000806\n",
      "could not find LSOA W01000807\n",
      "could not find LSOA W01000808\n",
      "could not find LSOA W01000809\n",
      "could not find LSOA W01000810\n",
      "could not find LSOA W01000811\n",
      "could not find LSOA W01000812\n",
      "could not find LSOA W01000813\n",
      "could not find LSOA W01000814\n",
      "could not find LSOA W01000815\n",
      "could not find LSOA W01000816\n",
      "could not find LSOA W01000817\n",
      "could not find LSOA W01000818\n",
      "could not find LSOA W01000819\n",
      "could not find LSOA W01000820\n",
      "could not find LSOA W01000821\n",
      "could not find LSOA W01000822\n",
      "could not find LSOA W01000823\n",
      "could not find LSOA W01000824\n",
      "could not find LSOA W01000825\n",
      "could not find LSOA W01000826\n",
      "could not find LSOA W01000827\n",
      "could not find LSOA W01000830\n",
      "could not find LSOA W01000831\n",
      "could not find LSOA W01000832\n",
      "could not find LSOA W01000833\n",
      "could not find LSOA W01000834\n",
      "could not find LSOA W01000835\n",
      "could not find LSOA W01000836\n",
      "could not find LSOA W01000850\n",
      "could not find LSOA W01000851\n",
      "could not find LSOA W01000852\n",
      "could not find LSOA W01000853\n",
      "could not find LSOA W01000854\n",
      "could not find LSOA W01000855\n",
      "could not find LSOA W01000856\n",
      "could not find LSOA W01000857\n",
      "could not find LSOA W01000858\n",
      "could not find LSOA W01000859\n",
      "could not find LSOA W01000860\n",
      "could not find LSOA W01000861\n",
      "could not find LSOA W01000862\n",
      "could not find LSOA W01000863\n",
      "could not find LSOA W01000864\n",
      "could not find LSOA W01000865\n",
      "could not find LSOA W01000866\n",
      "could not find LSOA W01000867\n",
      "could not find LSOA W01000868\n",
      "could not find LSOA W01000869\n",
      "could not find LSOA W01000870\n",
      "could not find LSOA W01000871\n",
      "could not find LSOA W01000872\n",
      "could not find LSOA W01000873\n",
      "could not find LSOA W01000874\n",
      "could not find LSOA W01000875\n",
      "could not find LSOA W01000876\n",
      "could not find LSOA W01000879\n",
      "could not find LSOA W01000880\n",
      "could not find LSOA W01000881\n",
      "could not find LSOA W01000882\n"
     ]
    }
   ],
   "source": [
    "cityPop = {}\n",
    "city_IMD = {}\n",
    "city_survey_pop = {}\n",
    "for k in cityMap:\n",
    "    pop = 0\n",
    "    surveypop = 0\n",
    "    IMD = []\n",
    "    for j in cityMap[k]:\n",
    "        try:\n",
    "            pop += LSOA_pop[j]\n",
    "            surveypop += LSOA_survey_takers[j]\n",
    "            IMD.append(LSOA_IMD[j])\n",
    "        except:\n",
    "            print(\"could not find LSOA\",j)\n",
    "    city_IMD[k] = {}\n",
    "    if pop > 0:\n",
    "        cityPop[k] = pop\n",
    "        city_survey_pop[k] = surveypop\n",
    "        city_IMD[k]['median_IMD'] = np.median(IMD)\n",
    "        city_IMD[k]['mean_IMD'] = np.mean(IMD)"
   ]
  },
  {
   "cell_type": "code",
   "execution_count": 47,
   "metadata": {
    "ExecuteTime": {
     "end_time": "2021-06-08T21:19:22.920903Z",
     "start_time": "2021-06-08T21:19:21.895510Z"
    }
   },
   "outputs": [
    {
     "name": "stderr",
     "output_type": "stream",
     "text": [
      "100%|██████████| 6623/6623 [00:00<00:00, 13626.48it/s]\n"
     ]
    }
   ],
   "source": [
    "LSOA_patient_pop = {}\n",
    "LSOA_patients_map = json.load(open('data_prep/GPs.json','r'))\n",
    "for GP in tqdm(LSOA_patients_map):\n",
    "    for lsoa in LSOA_patients_map[GP]['Patient_registry_LSOA']:\n",
    "        if lsoa not in LSOA_patient_pop:\n",
    "            LSOA_patient_pop[lsoa] = LSOA_patients_map[GP]['Patient_registry_LSOA'][lsoa]\n",
    "        else:\n",
    "            LSOA_patient_pop[lsoa] += LSOA_patients_map[GP]['Patient_registry_LSOA'][lsoa]"
   ]
  },
  {
   "cell_type": "code",
   "execution_count": 48,
   "metadata": {
    "ExecuteTime": {
     "end_time": "2021-06-08T21:19:30.048245Z",
     "start_time": "2021-06-08T21:19:30.043173Z"
    }
   },
   "outputs": [
    {
     "data": {
      "text/plain": [
       "60744002.0"
      ]
     },
     "execution_count": 48,
     "metadata": {},
     "output_type": "execute_result"
    }
   ],
   "source": [
    "sum(LSOA_patient_pop.values())"
   ]
  },
  {
   "cell_type": "code",
   "execution_count": 49,
   "metadata": {
    "ExecuteTime": {
     "end_time": "2021-06-08T21:19:38.309206Z",
     "start_time": "2021-06-08T21:19:38.297428Z"
    },
    "collapsed": true
   },
   "outputs": [],
   "source": [
    "import logging\n",
    "logger = logging.getLogger()\n",
    "fhandler = logging.FileHandler(filename='dataPrep_postcovid.log', mode='a')\n",
    "formatter = logging.Formatter('%(asctime)s - %(name)s - %(levelname)s - %(message)s')\n",
    "fhandler.setFormatter(formatter)\n",
    "logger.addHandler(fhandler)\n",
    "logger.setLevel(logging.INFO)"
   ]
  },
  {
   "cell_type": "code",
   "execution_count": 73,
   "metadata": {
    "ExecuteTime": {
     "end_time": "2021-06-08T23:12:49.311272Z",
     "start_time": "2021-06-08T23:12:49.219135Z"
    },
    "collapsed": true
   },
   "outputs": [],
   "source": [
    "\n",
    "def calculateTemporalMetrics_LSOA_opioids(all_presc , old = True):\n",
    "    LSOA_dosage = {}\n",
    "    LSOA_costs = {}\n",
    "    LSOA_patient_count = {}\n",
    "    fail = 0.0\n",
    "    LSOA_map = {}\n",
    "    if old:\n",
    "        dosageField = '8'\n",
    "        costField = 'presc_ome'\n",
    "        practiceField = '2'\n",
    "        LSOA_map = LSOA_dist_2021\n",
    "    else:\n",
    "        dosageField = 'TOTAL_QUANTITY'\n",
    "        costField = 'presc_ome'\n",
    "        practiceField = 'PRACTICE_CODE'\n",
    "        LSOA_map = LSOA_dist_2021\n",
    "\n",
    "    for name, group in all_presc.groupby(practiceField):\n",
    "        total_dosage = np.sum(group[dosageField])\n",
    "        total_cost = np.sum(group[costField])\n",
    "        if name in LSOA_map:        \n",
    "            for k in LSOA_map[name]:\n",
    "                if k not in LSOA_dosage:\n",
    "                    LSOA_dosage[k] = 0.0\n",
    "                    LSOA_costs[k] = 0.0\n",
    "                LSOA_dosage[k]+= float(total_dosage)*float(LSOA_map[name][k])\n",
    "                LSOA_costs[k]+= float(total_cost)*float(LSOA_map[name][k])\n",
    "    \n",
    "    return  LSOA_dosage , LSOA_costs"
   ]
  },
  {
   "cell_type": "code",
   "execution_count": null,
   "metadata": {
    "ExecuteTime": {
     "end_time": "2021-06-01T14:13:27.433146Z",
     "start_time": "2021-06-01T14:13:27.348014Z"
    },
    "collapsed": true
   },
   "outputs": [],
   "source": []
  },
  {
   "cell_type": "code",
   "execution_count": 56,
   "metadata": {
    "ExecuteTime": {
     "end_time": "2021-06-08T21:28:53.478481Z",
     "start_time": "2021-06-08T21:28:53.475008Z"
    },
    "collapsed": true
   },
   "outputs": [],
   "source": [
    "# monthly_borough_dosage = {}\n",
    "# monthly_borough_costs = {}\n",
    "\n",
    "monthly_borough_dosage_new = {}\n",
    "monthly_borough_costs_new = {}"
   ]
  },
  {
   "cell_type": "code",
   "execution_count": 57,
   "metadata": {
    "ExecuteTime": {
     "end_time": "2021-06-08T21:29:11.808409Z",
     "start_time": "2021-06-08T21:29:11.804358Z"
    },
    "collapsed": true
   },
   "outputs": [],
   "source": [
    "files.sort()"
   ]
  },
  {
   "cell_type": "code",
   "execution_count": 58,
   "metadata": {
    "ExecuteTime": {
     "end_time": "2021-06-08T21:29:30.009332Z",
     "start_time": "2021-06-08T21:29:30.002458Z"
    }
   },
   "outputs": [
    {
     "data": {
      "text/plain": [
       "['../../BL_Work/openPrescribe/serialized/201501.gz',\n",
       " '../../BL_Work/openPrescribe/serialized/201502.gz',\n",
       " '../../BL_Work/openPrescribe/serialized/201503.gz',\n",
       " '../../BL_Work/openPrescribe/serialized/201504.gz',\n",
       " '../../BL_Work/openPrescribe/serialized/201505.gz',\n",
       " '../../BL_Work/openPrescribe/serialized/201506.gz',\n",
       " '../../BL_Work/openPrescribe/serialized/201507.gz',\n",
       " '../../BL_Work/openPrescribe/serialized/201508.gz',\n",
       " '../../BL_Work/openPrescribe/serialized/201509.gz',\n",
       " '../../BL_Work/openPrescribe/serialized/201510.gz',\n",
       " '../../BL_Work/openPrescribe/serialized/201511.gz',\n",
       " '../../BL_Work/openPrescribe/serialized/201512.gz',\n",
       " '../../BL_Work/openPrescribe/serialized/201601.gz',\n",
       " '../../BL_Work/openPrescribe/serialized/201602.gz',\n",
       " '../../BL_Work/openPrescribe/serialized/201603.gz',\n",
       " '../../BL_Work/openPrescribe/serialized/201604.gz',\n",
       " '../../BL_Work/openPrescribe/serialized/201605.gz',\n",
       " '../../BL_Work/openPrescribe/serialized/201606.gz',\n",
       " '../../BL_Work/openPrescribe/serialized/201607.gz',\n",
       " '../../BL_Work/openPrescribe/serialized/201608.gz',\n",
       " '../../BL_Work/openPrescribe/serialized/201609.gz',\n",
       " '../../BL_Work/openPrescribe/serialized/201610.gz',\n",
       " '../../BL_Work/openPrescribe/serialized/201611.gz',\n",
       " '../../BL_Work/openPrescribe/serialized/201612.gz',\n",
       " '../../BL_Work/openPrescribe/serialized/201701.gz',\n",
       " '../../BL_Work/openPrescribe/serialized/201702.gz',\n",
       " '../../BL_Work/openPrescribe/serialized/201703.gz',\n",
       " '../../BL_Work/openPrescribe/serialized/201704.gz',\n",
       " '../../BL_Work/openPrescribe/serialized/201705.gz',\n",
       " '../../BL_Work/openPrescribe/serialized/201706.gz',\n",
       " '../../BL_Work/openPrescribe/serialized/201707.gz',\n",
       " '../../BL_Work/openPrescribe/serialized/201708.gz',\n",
       " '../../BL_Work/openPrescribe/serialized/201709.gz',\n",
       " '../../BL_Work/openPrescribe/serialized/201710.gz',\n",
       " '../../BL_Work/openPrescribe/serialized/201711.gz',\n",
       " '../../BL_Work/openPrescribe/serialized/201712.gz',\n",
       " '../../BL_Work/openPrescribe/serialized/201801.gz',\n",
       " '../../BL_Work/openPrescribe/serialized/201802.gz',\n",
       " '../../BL_Work/openPrescribe/serialized/201803.gz',\n",
       " '../../BL_Work/openPrescribe/serialized/201804.gz',\n",
       " '../../BL_Work/openPrescribe/serialized/201805.gz',\n",
       " '../../BL_Work/openPrescribe/serialized/201806.gz',\n",
       " '../../BL_Work/openPrescribe/serialized/201807.gz',\n",
       " '../../BL_Work/openPrescribe/serialized/201808.gz',\n",
       " '../../BL_Work/openPrescribe/serialized/201809.gz',\n",
       " '../../BL_Work/openPrescribe/serialized/201810.gz',\n",
       " '../../BL_Work/openPrescribe/serialized/201811.gz',\n",
       " '../../BL_Work/openPrescribe/serialized/201812.gz',\n",
       " '../../BL_Work/openPrescribe/serialized/201901.gz',\n",
       " '../../BL_Work/openPrescribe/serialized/201902.gz',\n",
       " '../../BL_Work/openPrescribe/serialized/201903.gz',\n",
       " '../../BL_Work/openPrescribe/serialized/201904.gz',\n",
       " '../../BL_Work/openPrescribe/serialized/201905.gz',\n",
       " '../../BL_Work/openPrescribe/serialized/201906.gz',\n",
       " '../../BL_Work/openPrescribe/serialized/201907.gz',\n",
       " '../../BL_Work/openPrescribe/serialized/201908.gz',\n",
       " '../../BL_Work/openPrescribe/serialized/201909.gz',\n",
       " '../../BL_Work/openPrescribe/serialized/201910.gz',\n",
       " '../../BL_Work/openPrescribe/serialized/201911.gz',\n",
       " '../../BL_Work/openPrescribe/serialized/201912.gz',\n",
       " '../../BL_Work/openPrescribe/serialized/202001.gz',\n",
       " '../../BL_Work/openPrescribe/serialized/202002.gz',\n",
       " '../../BL_Work/openPrescribe/serialized/202003.gz',\n",
       " '../../BL_Work/openPrescribe/serialized/202004.gz',\n",
       " '../../BL_Work/openPrescribe/serialized/202005.gz',\n",
       " '../../BL_Work/openPrescribe/serialized/202006.gz',\n",
       " '../../BL_Work/openPrescribe/serialized/202007.gz',\n",
       " '../../BL_Work/openPrescribe/serialized/202008.gz',\n",
       " '../../BL_Work/openPrescribe/serialized/202009.gz',\n",
       " '../../BL_Work/openPrescribe/serialized/202010.gz',\n",
       " '../../BL_Work/openPrescribe/serialized/202011.gz',\n",
       " '../../BL_Work/openPrescribe/serialized/202012.gz',\n",
       " '../../BL_Work/openPrescribe/serialized/202101.gz',\n",
       " '../../BL_Work/openPrescribe/serialized/202102.gz']"
      ]
     },
     "execution_count": 58,
     "metadata": {},
     "output_type": "execute_result"
    }
   ],
   "source": [
    "files[53:]"
   ]
  },
  {
   "cell_type": "code",
   "execution_count": 71,
   "metadata": {
    "ExecuteTime": {
     "end_time": "2021-06-04T10:04:04.945343Z",
     "start_time": "2021-06-04T10:04:04.939737Z"
    },
    "collapsed": true
   },
   "outputs": [],
   "source": [
    "# disease_drug_map"
   ]
  },
  {
   "cell_type": "code",
   "execution_count": 59,
   "metadata": {
    "ExecuteTime": {
     "end_time": "2021-06-08T21:29:47.462958Z",
     "start_time": "2021-06-08T21:29:47.429843Z"
    }
   },
   "outputs": [
    {
     "data": {
      "text/html": [
       "<div>\n",
       "<style scoped>\n",
       "    .dataframe tbody tr th:only-of-type {\n",
       "        vertical-align: middle;\n",
       "    }\n",
       "\n",
       "    .dataframe tbody tr th {\n",
       "        vertical-align: top;\n",
       "    }\n",
       "\n",
       "    .dataframe thead th {\n",
       "        text-align: right;\n",
       "    }\n",
       "</style>\n",
       "<table border=\"1\" class=\"dataframe\">\n",
       "  <thead>\n",
       "    <tr style=\"text-align: right;\">\n",
       "      <th></th>\n",
       "      <th>Unnamed: 0</th>\n",
       "      <th>0</th>\n",
       "      <th>1</th>\n",
       "      <th>2</th>\n",
       "      <th>3</th>\n",
       "      <th>4</th>\n",
       "      <th>5</th>\n",
       "      <th>6</th>\n",
       "      <th>7</th>\n",
       "      <th>8</th>\n",
       "      <th>...</th>\n",
       "      <th>11</th>\n",
       "      <th>12</th>\n",
       "      <th>13</th>\n",
       "      <th>14</th>\n",
       "      <th>15</th>\n",
       "      <th>16</th>\n",
       "      <th>17</th>\n",
       "      <th>18</th>\n",
       "      <th>19</th>\n",
       "      <th>20</th>\n",
       "    </tr>\n",
       "  </thead>\n",
       "  <tbody>\n",
       "    <tr>\n",
       "      <th>0</th>\n",
       "      <td>1757</td>\n",
       "      <td>Q44</td>\n",
       "      <td>01C</td>\n",
       "      <td>N81002</td>\n",
       "      <td>0101010G0BCABAB</td>\n",
       "      <td>Mucogel_Susp 195mg/220mg/5ml S/F</td>\n",
       "      <td>1.0</td>\n",
       "      <td>2.99</td>\n",
       "      <td>2.77</td>\n",
       "      <td>500.0</td>\n",
       "      <td>...</td>\n",
       "      <td>NaN</td>\n",
       "      <td>NaN</td>\n",
       "      <td>NaN</td>\n",
       "      <td>NaN</td>\n",
       "      <td>220.0</td>\n",
       "      <td>0101010G0</td>\n",
       "      <td>500.0</td>\n",
       "      <td>1.0</td>\n",
       "      <td>500.0</td>\n",
       "      <td>BC</td>\n",
       "    </tr>\n",
       "    <tr>\n",
       "      <th>1</th>\n",
       "      <td>1758</td>\n",
       "      <td>Q44</td>\n",
       "      <td>01C</td>\n",
       "      <td>N81002</td>\n",
       "      <td>0101010L0BEAAAI</td>\n",
       "      <td>Maalox Plus_Susp S/F</td>\n",
       "      <td>2.0</td>\n",
       "      <td>7.80</td>\n",
       "      <td>7.22</td>\n",
       "      <td>1000.0</td>\n",
       "      <td>...</td>\n",
       "      <td>NaN</td>\n",
       "      <td>NaN</td>\n",
       "      <td>NaN</td>\n",
       "      <td>NaN</td>\n",
       "      <td>0.0</td>\n",
       "      <td>0101010L0</td>\n",
       "      <td>100.0</td>\n",
       "      <td>1.0</td>\n",
       "      <td>100.0</td>\n",
       "      <td>BE</td>\n",
       "    </tr>\n",
       "    <tr>\n",
       "      <th>2</th>\n",
       "      <td>1759</td>\n",
       "      <td>Q44</td>\n",
       "      <td>01C</td>\n",
       "      <td>N81002</td>\n",
       "      <td>0101010R0BCAAAB</td>\n",
       "      <td>Infacol_Susp 40mg/ml S/F</td>\n",
       "      <td>1.0</td>\n",
       "      <td>2.71</td>\n",
       "      <td>2.51</td>\n",
       "      <td>50.0</td>\n",
       "      <td>...</td>\n",
       "      <td>NaN</td>\n",
       "      <td>NaN</td>\n",
       "      <td>NaN</td>\n",
       "      <td>NaN</td>\n",
       "      <td>40.0</td>\n",
       "      <td>0101010R0</td>\n",
       "      <td>5.0</td>\n",
       "      <td>1.0</td>\n",
       "      <td>5.0</td>\n",
       "      <td>BC</td>\n",
       "    </tr>\n",
       "    <tr>\n",
       "      <th>3</th>\n",
       "      <td>1760</td>\n",
       "      <td>Q44</td>\n",
       "      <td>01C</td>\n",
       "      <td>N81002</td>\n",
       "      <td>0101012B0AAAPAP</td>\n",
       "      <td>Sod Bicarb_(S)</td>\n",
       "      <td>1.0</td>\n",
       "      <td>1.91</td>\n",
       "      <td>1.78</td>\n",
       "      <td>300.0</td>\n",
       "      <td>...</td>\n",
       "      <td>0101012B0</td>\n",
       "      <td>NaN</td>\n",
       "      <td>diarrhea</td>\n",
       "      <td>Sodium Bicarbonate</td>\n",
       "      <td>0.0</td>\n",
       "      <td>0101012B0</td>\n",
       "      <td>10.0</td>\n",
       "      <td>1.0</td>\n",
       "      <td>10.0</td>\n",
       "      <td>AA</td>\n",
       "    </tr>\n",
       "    <tr>\n",
       "      <th>4</th>\n",
       "      <td>1761</td>\n",
       "      <td>Q44</td>\n",
       "      <td>01C</td>\n",
       "      <td>N81002</td>\n",
       "      <td>0101021B0AAALAL</td>\n",
       "      <td>Sod Algin/Pot Bicarb_Susp S/F</td>\n",
       "      <td>5.0</td>\n",
       "      <td>30.72</td>\n",
       "      <td>28.41</td>\n",
       "      <td>3000.0</td>\n",
       "      <td>...</td>\n",
       "      <td>NaN</td>\n",
       "      <td>NaN</td>\n",
       "      <td>NaN</td>\n",
       "      <td>NaN</td>\n",
       "      <td>0.0</td>\n",
       "      <td>0101021B0</td>\n",
       "      <td>3000.0</td>\n",
       "      <td>1.0</td>\n",
       "      <td>3000.0</td>\n",
       "      <td>AA</td>\n",
       "    </tr>\n",
       "  </tbody>\n",
       "</table>\n",
       "<p>5 rows × 22 columns</p>\n",
       "</div>"
      ],
      "text/plain": [
       "   Unnamed: 0    0    1       2                3  \\\n",
       "0        1757  Q44  01C  N81002  0101010G0BCABAB   \n",
       "1        1758  Q44  01C  N81002  0101010L0BEAAAI   \n",
       "2        1759  Q44  01C  N81002  0101010R0BCAAAB   \n",
       "3        1760  Q44  01C  N81002  0101012B0AAAPAP   \n",
       "4        1761  Q44  01C  N81002  0101021B0AAALAL   \n",
       "\n",
       "                                          4    5      6      7       8  ...  \\\n",
       "0  Mucogel_Susp 195mg/220mg/5ml S/F          1.0   2.99   2.77   500.0  ...   \n",
       "1  Maalox Plus_Susp S/F                      2.0   7.80   7.22  1000.0  ...   \n",
       "2  Infacol_Susp 40mg/ml S/F                  1.0   2.71   2.51    50.0  ...   \n",
       "3  Sod Bicarb_(S)                            1.0   1.91   1.78   300.0  ...   \n",
       "4  Sod Algin/Pot Bicarb_Susp S/F             5.0  30.72  28.41  3000.0  ...   \n",
       "\n",
       "          11   12        13                  14     15         16      17  \\\n",
       "0        NaN  NaN       NaN                 NaN  220.0  0101010G0   500.0   \n",
       "1        NaN  NaN       NaN                 NaN    0.0  0101010L0   100.0   \n",
       "2        NaN  NaN       NaN                 NaN   40.0  0101010R0     5.0   \n",
       "3  0101012B0  NaN  diarrhea  Sodium Bicarbonate    0.0  0101012B0    10.0   \n",
       "4        NaN  NaN       NaN                 NaN    0.0  0101021B0  3000.0   \n",
       "\n",
       "    18      19  20  \n",
       "0  1.0   500.0  BC  \n",
       "1  1.0   100.0  BE  \n",
       "2  1.0     5.0  BC  \n",
       "3  1.0    10.0  AA  \n",
       "4  1.0  3000.0  AA  \n",
       "\n",
       "[5 rows x 22 columns]"
      ]
     },
     "execution_count": 59,
     "metadata": {},
     "output_type": "execute_result"
    }
   ],
   "source": [
    "pdp.head()"
   ]
  },
  {
   "cell_type": "code",
   "execution_count": 78,
   "metadata": {
    "ExecuteTime": {
     "end_time": "2021-06-09T00:25:23.871458Z",
     "start_time": "2021-06-08T23:22:35.259801Z"
    }
   },
   "outputs": [
    {
     "name": "stderr",
     "output_type": "stream",
     "text": [
      "\n",
      "\n",
      "\n",
      "\n",
      "\n",
      "\n",
      "\n",
      "\n",
      "  0%|          | 0/20 [00:00<?, ?it/s]\u001b[A\u001b[A\u001b[A\u001b[A\u001b[A\u001b[A\u001b[A\u001b[A/home/sagar/anaconda3/lib/python3.6/site-packages/IPython/core/interactiveshell.py:2698: DtypeWarning: Columns (7) have mixed types. Specify dtype option on import or set low_memory=False.\n",
      "  interactivity=interactivity, compiler=compiler, result=result)\n",
      "/home/sagar/anaconda3/lib/python3.6/site-packages/ipykernel_launcher.py:6: SettingWithCopyWarning: \n",
      "A value is trying to be set on a copy of a slice from a DataFrame.\n",
      "Try using .loc[row_indexer,col_indexer] = value instead\n",
      "\n",
      "See the caveats in the documentation: http://pandas.pydata.org/pandas-docs/stable/user_guide/indexing.html#returning-a-view-versus-a-copy\n",
      "  \n"
     ]
    },
    {
     "name": "stdout",
     "output_type": "stream",
     "text": [
      "BNF_CODE TOTAL_QUANTITY\n"
     ]
    },
    {
     "name": "stderr",
     "output_type": "stream",
     "text": [
      "\n",
      "\n",
      "\n",
      "\n",
      "\n",
      "\n",
      "\n",
      "\n",
      "  5%|▌         | 1/20 [03:04<58:17, 184.09s/it]\u001b[A\u001b[A\u001b[A\u001b[A\u001b[A\u001b[A\u001b[A\u001b[A"
     ]
    },
    {
     "name": "stdout",
     "output_type": "stream",
     "text": [
      "BNF_CODE TOTAL_QUANTITY\n"
     ]
    },
    {
     "name": "stderr",
     "output_type": "stream",
     "text": [
      "\n",
      "\n",
      "\n",
      "\n",
      "\n",
      "\n",
      "\n",
      "\n",
      " 10%|█         | 2/20 [06:09<55:20, 184.46s/it]\u001b[A\u001b[A\u001b[A\u001b[A\u001b[A\u001b[A\u001b[A\u001b[A"
     ]
    },
    {
     "name": "stdout",
     "output_type": "stream",
     "text": [
      "BNF_CODE TOTAL_QUANTITY\n"
     ]
    },
    {
     "name": "stderr",
     "output_type": "stream",
     "text": [
      "\n",
      "\n",
      "\n",
      "\n",
      "\n",
      "\n",
      "\n",
      "\n",
      " 15%|█▌        | 3/20 [09:11<52:03, 183.76s/it]\u001b[A\u001b[A\u001b[A\u001b[A\u001b[A\u001b[A\u001b[A\u001b[A"
     ]
    },
    {
     "name": "stdout",
     "output_type": "stream",
     "text": [
      "BNF_CODE TOTAL_QUANTITY\n"
     ]
    },
    {
     "name": "stderr",
     "output_type": "stream",
     "text": [
      "\n",
      "\n",
      "\n",
      "\n",
      "\n",
      "\n",
      "\n",
      "\n",
      " 20%|██        | 4/20 [12:22<49:36, 186.03s/it]\u001b[A\u001b[A\u001b[A\u001b[A\u001b[A\u001b[A\u001b[A\u001b[A"
     ]
    },
    {
     "name": "stdout",
     "output_type": "stream",
     "text": [
      "BNF_CODE TOTAL_QUANTITY\n"
     ]
    },
    {
     "name": "stderr",
     "output_type": "stream",
     "text": [
      "\n",
      "\n",
      "\n",
      "\n",
      "\n",
      "\n",
      "\n",
      "\n",
      " 25%|██▌       | 5/20 [15:37<47:07, 188.51s/it]\u001b[A\u001b[A\u001b[A\u001b[A\u001b[A\u001b[A\u001b[A\u001b[A"
     ]
    },
    {
     "name": "stdout",
     "output_type": "stream",
     "text": [
      "BNF_CODE TOTAL_QUANTITY\n"
     ]
    },
    {
     "name": "stderr",
     "output_type": "stream",
     "text": [
      "\n",
      "\n",
      "\n",
      "\n",
      "\n",
      "\n",
      "\n",
      "\n",
      " 30%|███       | 6/20 [18:41<43:41, 187.24s/it]\u001b[A\u001b[A\u001b[A\u001b[A\u001b[A\u001b[A\u001b[A\u001b[A"
     ]
    },
    {
     "name": "stdout",
     "output_type": "stream",
     "text": [
      "BNF_CODE TOTAL_QUANTITY\n"
     ]
    },
    {
     "name": "stderr",
     "output_type": "stream",
     "text": [
      "\n",
      "\n",
      "\n",
      "\n",
      "\n",
      "\n",
      "\n",
      "\n",
      " 35%|███▌      | 7/20 [21:52<40:50, 188.51s/it]\u001b[A\u001b[A\u001b[A\u001b[A\u001b[A\u001b[A\u001b[A\u001b[A"
     ]
    },
    {
     "name": "stdout",
     "output_type": "stream",
     "text": [
      "BNF_CODE TOTAL_QUANTITY\n"
     ]
    },
    {
     "name": "stderr",
     "output_type": "stream",
     "text": [
      "\n",
      "\n",
      "\n",
      "\n",
      "\n",
      "\n",
      "\n",
      "\n",
      " 40%|████      | 8/20 [24:57<37:29, 187.47s/it]\u001b[A\u001b[A\u001b[A\u001b[A\u001b[A\u001b[A\u001b[A\u001b[A"
     ]
    },
    {
     "name": "stdout",
     "output_type": "stream",
     "text": [
      "BNF_CODE TOTAL_QUANTITY\n"
     ]
    },
    {
     "name": "stderr",
     "output_type": "stream",
     "text": [
      "\n",
      "\n",
      "\n",
      "\n",
      "\n",
      "\n",
      "\n",
      "\n",
      " 45%|████▌     | 9/20 [28:07<34:29, 188.15s/it]\u001b[A\u001b[A\u001b[A\u001b[A\u001b[A\u001b[A\u001b[A\u001b[A"
     ]
    },
    {
     "name": "stdout",
     "output_type": "stream",
     "text": [
      "BNF_CODE TOTAL_QUANTITY\n"
     ]
    },
    {
     "name": "stderr",
     "output_type": "stream",
     "text": [
      "\n",
      "\n",
      "\n",
      "\n",
      "\n",
      "\n",
      "\n",
      "\n",
      " 50%|█████     | 10/20 [31:11<31:08, 186.86s/it]\u001b[A\u001b[A\u001b[A\u001b[A\u001b[A\u001b[A\u001b[A\u001b[A"
     ]
    },
    {
     "name": "stdout",
     "output_type": "stream",
     "text": [
      "BNF_CODE TOTAL_QUANTITY\n"
     ]
    },
    {
     "name": "stderr",
     "output_type": "stream",
     "text": [
      "\n",
      "\n",
      "\n",
      "\n",
      "\n",
      "\n",
      "\n",
      "\n",
      " 55%|█████▌    | 11/20 [34:07<27:33, 183.72s/it]\u001b[A\u001b[A\u001b[A\u001b[A\u001b[A\u001b[A\u001b[A\u001b[A"
     ]
    },
    {
     "name": "stdout",
     "output_type": "stream",
     "text": [
      "BNF_CODE TOTAL_QUANTITY\n"
     ]
    },
    {
     "name": "stderr",
     "output_type": "stream",
     "text": [
      "\n",
      "\n",
      "\n",
      "\n",
      "\n",
      "\n",
      "\n",
      "\n",
      " 60%|██████    | 12/20 [37:16<24:42, 185.31s/it]\u001b[A\u001b[A\u001b[A\u001b[A\u001b[A\u001b[A\u001b[A\u001b[A"
     ]
    },
    {
     "name": "stdout",
     "output_type": "stream",
     "text": [
      "BNF_CODE TOTAL_QUANTITY\n"
     ]
    },
    {
     "name": "stderr",
     "output_type": "stream",
     "text": [
      "\n",
      "\n",
      "\n",
      "\n",
      "\n",
      "\n",
      "\n",
      "\n",
      " 65%|██████▌   | 13/20 [40:19<21:31, 184.48s/it]\u001b[A\u001b[A\u001b[A\u001b[A\u001b[A\u001b[A\u001b[A\u001b[A"
     ]
    },
    {
     "name": "stdout",
     "output_type": "stream",
     "text": [
      "BNF_CODE TOTAL_QUANTITY\n"
     ]
    },
    {
     "name": "stderr",
     "output_type": "stream",
     "text": [
      "\n",
      "\n",
      "\n",
      "\n",
      "\n",
      "\n",
      "\n",
      "\n",
      " 70%|███████   | 14/20 [43:21<18:22, 183.69s/it]\u001b[A\u001b[A\u001b[A\u001b[A\u001b[A\u001b[A\u001b[A\u001b[A"
     ]
    },
    {
     "name": "stdout",
     "output_type": "stream",
     "text": [
      "BNF_CODE TOTAL_QUANTITY\n"
     ]
    },
    {
     "name": "stderr",
     "output_type": "stream",
     "text": [
      "\n",
      "\n",
      "\n",
      "\n",
      "\n",
      "\n",
      "\n",
      "\n",
      " 75%|███████▌  | 15/20 [46:35<15:33, 186.75s/it]\u001b[A\u001b[A\u001b[A\u001b[A\u001b[A\u001b[A\u001b[A\u001b[A"
     ]
    },
    {
     "name": "stdout",
     "output_type": "stream",
     "text": [
      "BNF_CODE TOTAL_QUANTITY\n"
     ]
    },
    {
     "name": "stderr",
     "output_type": "stream",
     "text": [
      "\n",
      "\n",
      "\n",
      "\n",
      "\n",
      "\n",
      "\n",
      "\n",
      " 80%|████████  | 16/20 [49:49<12:35, 188.90s/it]\u001b[A\u001b[A\u001b[A\u001b[A\u001b[A\u001b[A\u001b[A\u001b[A"
     ]
    },
    {
     "name": "stdout",
     "output_type": "stream",
     "text": [
      "BNF_CODE TOTAL_QUANTITY\n"
     ]
    },
    {
     "name": "stderr",
     "output_type": "stream",
     "text": [
      "\n",
      "\n",
      "\n",
      "\n",
      "\n",
      "\n",
      "\n",
      "\n",
      " 85%|████████▌ | 17/20 [52:59<09:28, 189.39s/it]\u001b[A\u001b[A\u001b[A\u001b[A\u001b[A\u001b[A\u001b[A\u001b[A"
     ]
    },
    {
     "name": "stdout",
     "output_type": "stream",
     "text": [
      "BNF_CODE TOTAL_QUANTITY\n"
     ]
    },
    {
     "name": "stderr",
     "output_type": "stream",
     "text": [
      "\n",
      "\n",
      "\n",
      "\n",
      "\n",
      "\n",
      "\n",
      "\n",
      " 90%|█████████ | 18/20 [56:14<06:22, 191.13s/it]\u001b[A\u001b[A\u001b[A\u001b[A\u001b[A\u001b[A\u001b[A\u001b[A"
     ]
    },
    {
     "name": "stdout",
     "output_type": "stream",
     "text": [
      "BNF_CODE TOTAL_QUANTITY\n"
     ]
    },
    {
     "name": "stderr",
     "output_type": "stream",
     "text": [
      "\n",
      "\n",
      "\n",
      "\n",
      "\n",
      "\n",
      "\n",
      "\n",
      " 95%|█████████▌| 19/20 [59:33<03:13, 193.44s/it]\u001b[A\u001b[A\u001b[A\u001b[A\u001b[A\u001b[A\u001b[A\u001b[A"
     ]
    },
    {
     "name": "stdout",
     "output_type": "stream",
     "text": [
      "BNF_CODE TOTAL_QUANTITY\n"
     ]
    },
    {
     "name": "stderr",
     "output_type": "stream",
     "text": [
      "\n",
      "\n",
      "\n",
      "\n",
      "\n",
      "\n",
      "\n",
      "\n",
      "100%|██████████| 20/20 [1:02:48<00:00, 188.43s/it]\u001b[A\u001b[A\u001b[A\u001b[A\u001b[A\u001b[A\u001b[A\u001b[A\n"
     ]
    }
   ],
   "source": [
    "for f in tqdm(files[107:]):\n",
    "    month = f.split('/')[-1].split('.')[0]\n",
    "    logging.debug(\"Working with month  \" + month)\n",
    "    if int(month) > 201906:\n",
    "        old = False\n",
    "        code_field = 'BNF_CODE'\n",
    "        dosageField = 'TOTAL_QUANTITY'\n",
    "    else:\n",
    "        old = True\n",
    "        code_field = '3'\n",
    "        dosageField = '8'\n",
    "        \n",
    "    monthly_borough_dosage_new[month] = {}\n",
    "    monthly_borough_costs_new[month] = {}\n",
    "    pdp = pd.read_csv(f,compression='gzip')\n",
    "    opioids = pdp[pdp[code_field].isin(ome_map.keys())]\n",
    "    opioids = calculateOME(opioids , ome_map ,code_field , dosageField) \n",
    "    monthly_borough_dosage_new[month]['opioids'] = {}\n",
    "    monthly_borough_costs_new[month]['opioids'] = {}\n",
    "    monthly_borough_dosage_new[month]['opioids'] , monthly_borough_costs_new[month]['opioids'] = calculateTemporalMetrics_LSOA_opioids(opioids, old)\n",
    "   "
   ]
  },
  {
   "cell_type": "code",
   "execution_count": 79,
   "metadata": {
    "ExecuteTime": {
     "end_time": "2021-06-09T08:34:47.842600Z",
     "start_time": "2021-06-09T08:34:47.838463Z"
    },
    "collapsed": true
   },
   "outputs": [],
   "source": [
    "# pdp[''.head(n=2)"
   ]
  },
  {
   "cell_type": "code",
   "execution_count": 80,
   "metadata": {
    "ExecuteTime": {
     "end_time": "2021-06-09T08:35:11.631663Z",
     "start_time": "2021-06-09T08:35:11.624516Z"
    }
   },
   "outputs": [
    {
     "data": {
      "text/plain": [
       "dict_keys(['201501', '201502', '201503', '201504', '201505', '201506', '201507', '201508', '201509', '201510', '201511', '201512', '201601', '201602', '201603', '201604', '201605', '201606', '201607', '201608', '201609', '201610', '201611', '201612', '201701', '201702', '201703', '201704', '201705', '201706', '201707', '201708', '201709', '201710', '201711', '201712', '201801', '201802', '201803', '201804', '201805', '201806', '201807', '201808', '201809', '201810', '201811', '201812', '201901', '201902', '201903', '201904', '201905', '201906', '201907', '201908', '201909', '201910', '201911', '201912', '202001', '202002', '202003', '202004', '202005', '202006', '202007', '202008', '202009', '202010', '202011', '202012', '202101', '202102'])"
      ]
     },
     "execution_count": 80,
     "metadata": {},
     "output_type": "execute_result"
    }
   ],
   "source": [
    "monthly_borough_dosage_new.keys()"
   ]
  },
  {
   "cell_type": "code",
   "execution_count": 81,
   "metadata": {
    "ExecuteTime": {
     "end_time": "2021-06-09T08:35:36.890183Z",
     "start_time": "2021-06-09T08:35:36.882162Z"
    }
   },
   "outputs": [
    {
     "data": {
      "text/plain": [
       "9559.106363904808"
      ]
     },
     "execution_count": 81,
     "metadata": {},
     "output_type": "execute_result"
    }
   ],
   "source": [
    "monthly_borough_dosage_new['202002']['opioids']['E01015028']"
   ]
  },
  {
   "cell_type": "code",
   "execution_count": 82,
   "metadata": {
    "ExecuteTime": {
     "end_time": "2021-06-09T08:35:56.982003Z",
     "start_time": "2021-06-09T08:35:56.975441Z"
    },
    "collapsed": true
   },
   "outputs": [],
   "source": [
    "monthly_borough_dosage_total= monthly_borough_dosage_new.copy()\n",
    "# for yyyymm in tqdm(monthly_borough_dosage_total):\n",
    "#     for d in monthly_borough_dosage_total[yyyymm]:\n",
    "#         for lsoa in  monthly_borough_dosage_total[yyyymm][d]:\n",
    "#             monthly_borough_dosage_total[yyyymm][d][lsoa] = (monthly_borough_dosage_total[yyyymm][d][lsoa]/1000.0)*LSOA_patient_pop[lsoa]"
   ]
  },
  {
   "cell_type": "code",
   "execution_count": 85,
   "metadata": {
    "ExecuteTime": {
     "end_time": "2021-06-09T08:39:05.288156Z",
     "start_time": "2021-06-09T08:38:00.398129Z"
    },
    "collapsed": true
   },
   "outputs": [],
   "source": [
    "# diseaseor disease in tqdm(disease_drug_map.keys()):\n",
    "disease = 'opioids'\n",
    "disease_dict = {'YYYYMM':[] , 'LSOA_CODE' : [] , 'Total_prescriptions' : [] ,'OME' :[] , 'Patient_count' : []}\n",
    "for yyyymm in monthly_borough_dosage_total:\n",
    "    for LSOA_CODE in monthly_borough_dosage_total[yyyymm][disease]:\n",
    "        if LSOA_CODE[0] == 'E':\n",
    "            disease_dict['YYYYMM'].append(yyyymm)\n",
    "            disease_dict['LSOA_CODE'].append(LSOA_CODE)\n",
    "            disease_dict['Total_prescriptions'].append(monthly_borough_dosage_total[yyyymm][disease][LSOA_CODE])\n",
    "            disease_dict['OME'].append(monthly_borough_costs_new[yyyymm][disease][LSOA_CODE])\n",
    "            disease_dict['Patient_count'].append(LSOA_patient_pop[LSOA_CODE])\n",
    "disease_df = pd.DataFrame.from_dict(disease_dict)\n",
    "filename = 'data_prep/'+disease+'_V2.csv.gz'\n",
    "disease_df.to_csv(filename,index=False,compression='gzip')\n",
    "            "
   ]
  },
  {
   "cell_type": "code",
   "execution_count": null,
   "metadata": {
    "ExecuteTime": {
     "end_time": "2021-06-01T09:05:34.557448Z",
     "start_time": "2021-06-01T09:05:34.523001Z"
    },
    "collapsed": true
   },
   "outputs": [],
   "source": [
    "disease_drug_map"
   ]
  },
  {
   "cell_type": "code",
   "execution_count": null,
   "metadata": {
    "ExecuteTime": {
     "end_time": "2021-06-01T09:29:27.550595Z",
     "start_time": "2021-06-01T09:29:27.543090Z"
    },
    "collapsed": true
   },
   "outputs": [],
   "source": [
    "\n",
    "for bnf in disease_drug_map['anxiety']:\n",
    "    print(DiseaseDrugs[bnf])"
   ]
  },
  {
   "cell_type": "code",
   "execution_count": null,
   "metadata": {
    "ExecuteTime": {
     "end_time": "2021-05-28T19:02:52.175337Z",
     "start_time": "2021-05-28T19:02:52.168743Z"
    },
    "collapsed": true
   },
   "outputs": [],
   "source": [
    "# json.dump(monthly_borough_dosage_new,open('../mappings/pre_post_monthy_presc_pre072019.json','w'))"
   ]
  },
  {
   "cell_type": "code",
   "execution_count": null,
   "metadata": {
    "ExecuteTime": {
     "end_time": "2021-05-12T13:45:13.994722Z",
     "start_time": "2021-05-12T13:45:13.566480Z"
    },
    "collapsed": true
   },
   "outputs": [],
   "source": [
    "# json.dump(monthly_borough_costs_new,open('../mappings/pre_post_monthy_cost_pre072019.json','w'))"
   ]
  },
  {
   "cell_type": "code",
   "execution_count": null,
   "metadata": {
    "ExecuteTime": {
     "end_time": "2021-05-12T11:37:10.666310Z",
     "start_time": "2021-05-12T11:37:10.489651Z"
    },
    "collapsed": true
   },
   "outputs": [],
   "source": [
    "# json.dump(monthly_borough_dosage_new,open('../mappings/pre_post_monthy_presc_post072019.json','w'))"
   ]
  },
  {
   "cell_type": "code",
   "execution_count": null,
   "metadata": {
    "ExecuteTime": {
     "end_time": "2021-05-12T11:37:33.170442Z",
     "start_time": "2021-05-12T11:37:33.162580Z"
    },
    "collapsed": true
   },
   "outputs": [],
   "source": [
    "# json.dump(monthly_borough_costs_new,open('../mappings/pre_post_monthy_cost_post072019.json','w'))"
   ]
  },
  {
   "cell_type": "code",
   "execution_count": null,
   "metadata": {
    "ExecuteTime": {
     "end_time": "2021-05-12T13:47:44.072755Z",
     "start_time": "2021-05-12T13:47:43.902375Z"
    },
    "collapsed": true
   },
   "outputs": [],
   "source": [
    "monthly_dosage_BL = json.load(open('../mappings/pre_post_monthy_presc_pre072019.json','r'))\n",
    "monthly_dosage_COVID = json.load(open('../mappings/pre_post_monthy_presc_post072019.json','r'))"
   ]
  },
  {
   "cell_type": "code",
   "execution_count": null,
   "metadata": {
    "ExecuteTime": {
     "end_time": "2021-05-12T13:47:52.133305Z",
     "start_time": "2021-05-12T13:47:52.124687Z"
    },
    "collapsed": true
   },
   "outputs": [],
   "source": [
    "monthly_dosage_COVID['202001'].keys()"
   ]
  },
  {
   "cell_type": "code",
   "execution_count": null,
   "metadata": {
    "ExecuteTime": {
     "end_time": "2021-05-12T13:48:27.007799Z",
     "start_time": "2021-05-12T13:48:26.995285Z"
    },
    "collapsed": true
   },
   "outputs": [],
   "source": [
    "BL_months = [\n",
    "             #['201101', '201102', '201103', '201104', '201105', '201106', '201107', '201108', '201109', '201110', '201111', '201112'],\n",
    "             #['201201', '201202', '201203', '201204', '201205', '201206', '201207', '201208', '201209', '201210', '201211', '201212'],\n",
    "             #['201301', '201302', '201303', '201304', '201305', '201306', '201307', '201308', '201309', '201310', '201311', '201312'],\n",
    "             #['201401', '201402', '201403', '201404', '201405', '201406', '201407', '201408', '201409', '201410', '201411', '201412'],\n",
    "             ['201501', '201502', '201503', '201504', '201505', '201506', '201507', '201508', '201509', '201510', '201511', '201512'],\n",
    "             ['201601', '201602', '201603', '201604', '201605', '201606', '201607', '201608', '201609', '201610', '201611', '201612'],\n",
    "             ['201701', '201702', '201703', '201704', '201705', '201706', '201707', '201708', '201709', '201710', '201711', '201712'],\n",
    "             ['201801', '201802', '201803', '201804', '201805', '201806', '201807', '201808', '201809', '201810', '201811', '201812']]\n",
    "#             \n",
    "\n",
    "COVID_months = ['202001', '202002', '202003', '202004', '202005', '202006', '202007', '202008', '202009', '202010', '202011', '202012']"
   ]
  },
  {
   "cell_type": "code",
   "execution_count": null,
   "metadata": {
    "ExecuteTime": {
     "end_time": "2021-05-12T13:48:41.809560Z",
     "start_time": "2021-05-12T13:48:41.804150Z"
    },
    "collapsed": true
   },
   "outputs": [],
   "source": [
    "print sorted(monthly_dosage_COVID['202007']['diabetes'].keys())"
   ]
  },
  {
   "cell_type": "code",
   "execution_count": null,
   "metadata": {
    "ExecuteTime": {
     "end_time": "2021-05-19T14:17:29.284037Z",
     "start_time": "2021-05-19T14:17:29.249090Z"
    },
    "collapsed": true
   },
   "outputs": [],
   "source": [
    "from collections import OrderedDict\n",
    "\n",
    "d_l = ['anxiety',\n",
    " 'heart failure',\n",
    " 'rheumatoid',\n",
    " 'epilepsy',\n",
    " 'dementia',\n",
    " 'stroke',\n",
    " 'hypertension',\n",
    " 'diabetes',\n",
    " 'chronic obstructive pulmonary disease',\n",
    "#  'obesity',\n",
    " 'coronary artery disease',\n",
    "#  'kidney disease',\n",
    " 'depression',\n",
    " 'osteoporosis']\n",
    "\n",
    "# d_l = ['anxiety',\n",
    "#  'depression']\n",
    "month_names = ['Jan','Feb','Mar','Apr','May','Jun','Jul','Aug','Sep','Oct','Nov','Dec']\n",
    "# selected_disease = 'stroke'\n",
    "city = 'London'\n",
    "\n",
    "diseaseStats = {}\n",
    "for d in d_l:\n",
    "    selected_disease = d\n",
    "    monthly_BL_numbers = OrderedDict()\n",
    "    for month in range(len(BL_months[0])):\n",
    "        monthly_BL_numbers[month_names[month]] = []\n",
    "        for year in range(len(BL_months)):\n",
    "            if city in monthly_dosage_BL[BL_months[year][month]][selected_disease]:\n",
    "                monthly_BL_numbers[month_names[month]].append(monthly_dosage_BL[BL_months[year][month]][selected_disease][city])\n",
    "            else:\n",
    "                print(\"no prescriptions for disease \" + d)\n",
    "                monthly_BL_numbers[month_names[month]].append(0.0)\n",
    "    \n",
    "    diseaseStats[d] = monthly_BL_numbers  \n",
    "        \n",
    "    \n"
   ]
  },
  {
   "cell_type": "code",
   "execution_count": null,
   "metadata": {
    "ExecuteTime": {
     "end_time": "2021-05-19T14:17:35.798622Z",
     "start_time": "2021-05-19T14:17:35.794489Z"
    },
    "collapsed": true
   },
   "outputs": [],
   "source": [
    "# monthly_dosage_COVID[COVID_months[0]]['depression'][city]"
   ]
  },
  {
   "cell_type": "code",
   "execution_count": null,
   "metadata": {
    "ExecuteTime": {
     "end_time": "2021-05-19T14:17:41.967954Z",
     "start_time": "2021-05-19T14:17:41.959688Z"
    },
    "collapsed": true
   },
   "outputs": [],
   "source": [
    "diseaseStats.keys()"
   ]
  },
  {
   "cell_type": "code",
   "execution_count": null,
   "metadata": {
    "collapsed": true
   },
   "outputs": [],
   "source": []
  },
  {
   "cell_type": "code",
   "execution_count": null,
   "metadata": {
    "ExecuteTime": {
     "end_time": "2021-05-19T14:17:48.253660Z",
     "start_time": "2021-05-19T14:17:48.249656Z"
    },
    "collapsed": true
   },
   "outputs": [],
   "source": [
    "# diseaseStats['depression']"
   ]
  },
  {
   "cell_type": "code",
   "execution_count": null,
   "metadata": {
    "ExecuteTime": {
     "end_time": "2021-05-19T14:17:54.612453Z",
     "start_time": "2021-05-19T14:17:54.593610Z"
    },
    "collapsed": true
   },
   "outputs": [],
   "source": [
    "diseaseZ_scores = {}\n",
    "for d in d_l:\n",
    "    Z_scores = []\n",
    "    for i in range(len(COVID_months)):\n",
    "        mean = np.mean(diseaseStats[d][month_names[i]])\n",
    "        sigma = np.std(diseaseStats[d][month_names[i]])\n",
    "        if sigma > 0:\n",
    "            if city in monthly_dosage_COVID[COVID_months[i]][d]:\n",
    "                Z_scores.append(10 + (monthly_dosage_COVID[COVID_months[i]][d][city]-mean)/sigma)\n",
    "            else:\n",
    "                print(\"no prescriptions for disease \" + d)\n",
    "                Z_scores.append(5 + (-mean)/sigma)\n",
    "    diseaseZ_scores[d] = Z_scores"
   ]
  },
  {
   "cell_type": "code",
   "execution_count": null,
   "metadata": {
    "ExecuteTime": {
     "end_time": "2021-05-19T14:18:00.822684Z",
     "start_time": "2021-05-19T14:18:00.818477Z"
    },
    "collapsed": true
   },
   "outputs": [],
   "source": [
    "# diseaseZ_scores"
   ]
  },
  {
   "cell_type": "code",
   "execution_count": null,
   "metadata": {
    "ExecuteTime": {
     "end_time": "2021-05-19T14:18:07.668499Z",
     "start_time": "2021-05-19T14:18:07.095091Z"
    },
    "collapsed": true
   },
   "outputs": [],
   "source": [
    "fig, ax = plt.subplots()\n",
    "fig.set_size_inches(16, 12)\n",
    "sns.set_style(\"white\")\n",
    "legend = []\n",
    "for d in diseaseZ_scores:\n",
    "    sns.lineplot(y=diseaseZ_scores[d],x=np.arange(0,len(diseaseZ_scores[d]),1))\n",
    "    legend.append('Z for ' + d)\n",
    "ax = plt.gca()\n",
    "\n",
    "plt.xticks(np.arange(0,12,1),month_names,rotation=90)\n",
    "\n",
    "plt.legend(legend, fontsize = 10)\n",
    "plt.xlabel(\"Months of the year 2020\",fontsize=20)\n",
    "plt.ylabel(\"Z scores for prescriptions per 1000\",fontsize=20)\n",
    "plt.title(\"Prescription Z scores for city of \" + city, fontsize=20)"
   ]
  },
  {
   "cell_type": "code",
   "execution_count": null,
   "metadata": {
    "ExecuteTime": {
     "end_time": "2021-05-12T14:25:32.153969Z",
     "start_time": "2021-05-12T14:25:30.756075Z"
    },
    "collapsed": true
   },
   "outputs": [],
   "source": [
    "monthly_dosage_COVID"
   ]
  },
  {
   "cell_type": "code",
   "execution_count": null,
   "metadata": {
    "ExecuteTime": {
     "end_time": "2021-05-19T14:19:05.433040Z",
     "start_time": "2021-05-19T14:19:05.410166Z"
    },
    "collapsed": true
   },
   "outputs": [],
   "source": [
    "city = 'London'\n",
    "\n",
    "d_l = ['anxiety',\n",
    " 'heart failure',\n",
    " 'rheumatoid',\n",
    " 'epilepsy',\n",
    " 'dementia',\n",
    " 'stroke',\n",
    " 'hypertension',\n",
    " 'diabetes',\n",
    " 'chronic obstructive pulmonary disease',\n",
    "#  'obesity',\n",
    " 'coronary artery disease',\n",
    "#  'kidney disease',\n",
    " 'depression',\n",
    " 'osteoporosis']\n",
    "\n",
    "# d_l = ['anxiety' , 'depression']\n",
    "\n",
    "all_covid_months = ['201907','201908','201909','201910','201911','201912','202001', '202002', '202003', '202004', '202005', \n",
    "                    '202006', '202007', '202008', '202009', '202010', '202011', '202012','202101','202102',]\n",
    "\n",
    "disease_timelines = {}\n",
    "months = monthly_dosage_COVID.keys\n",
    "for disease in d_l:\n",
    "    disease_timelines[disease] = []\n",
    "    for month in monthly_dosage_COVID:\n",
    "        if city in monthly_dosage_COVID[month][disease]:\n",
    "            disease_timelines[disease].append(    monthly_dosage_COVID[month][disease][city] )"
   ]
  },
  {
   "cell_type": "code",
   "execution_count": null,
   "metadata": {
    "ExecuteTime": {
     "end_time": "2021-05-19T14:19:11.827218Z",
     "start_time": "2021-05-19T14:19:11.822973Z"
    },
    "collapsed": true
   },
   "outputs": [],
   "source": [
    "# disease_timelines"
   ]
  },
  {
   "cell_type": "code",
   "execution_count": null,
   "metadata": {
    "ExecuteTime": {
     "end_time": "2021-05-19T14:21:45.484387Z",
     "start_time": "2021-05-19T14:21:44.654084Z"
    },
    "collapsed": true
   },
   "outputs": [],
   "source": [
    "fig, ax = plt.subplots()\n",
    "fig.set_size_inches(16, 12)\n",
    "sns.set_style(\"white\")\n",
    "legend = []\n",
    "for d in disease_timelines:\n",
    "    sns.lineplot(y=disease_timelines[d],x=np.arange(0,len(disease_timelines[d]),1))\n",
    "    legend.append('Prescriptions for ' + d)\n",
    "ax = plt.gca()\n",
    "\n",
    "plt.xticks(np.arange(0,20,1),all_covid_months,rotation=90)\n",
    "\n",
    "plt.legend(legend, fontsize = 10)\n",
    "plt.xlabel(\"Months of the year 2020\",fontsize=20)\n",
    "plt.ylabel(\"Z scores for prescriptions per 1000\",fontsize=20)\n",
    "plt.title(\"Prescriptions for city of \" + city, fontsize=20)"
   ]
  },
  {
   "cell_type": "code",
   "execution_count": null,
   "metadata": {
    "ExecuteTime": {
     "end_time": "2021-05-19T14:19:40.829422Z",
     "start_time": "2021-05-19T14:19:39.848119Z"
    },
    "collapsed": true
   },
   "outputs": [],
   "source": [
    "fig, ax = plt.subplots()\n",
    "fig.set_size_inches(16, 12)\n",
    "sns.set_style(\"white\")\n",
    "legend = []\n",
    "for d in disease_timelines:\n",
    "    if len(disease_timelines[d])> 0:\n",
    "        mean = (np.mean(disease_timelines[d]))\n",
    "        sigma = (np.std(disease_timelines[d]))\n",
    "        Z_scores = [float(k - mean)/sigma for k in disease_timelines[d]]\n",
    "        sns.lineplot(y=Z_scores,x=np.arange(0,len(disease_timelines[d]),1))\n",
    "        legend.append('Vanilla Z score for ' + d)\n",
    "ax = plt.gca()\n",
    "\n",
    "plt.xticks(np.arange(0,20,1),all_covid_months,rotation=90)\n",
    "\n",
    "plt.legend(legend, fontsize = 10)\n",
    "plt.xlabel(\"Months of the year 2020\",fontsize=20)\n",
    "plt.ylabel(\"vanilla Z scores for prescriptions per 1000\",fontsize=20)\n",
    "plt.title(\"Prescription Z scores for city of \" + city, fontsize=20)"
   ]
  },
  {
   "cell_type": "code",
   "execution_count": null,
   "metadata": {
    "collapsed": true
   },
   "outputs": [],
   "source": []
  }
 ],
 "metadata": {
  "kernelspec": {
   "display_name": "Python [conda env:root] *",
   "language": "python",
   "name": "conda-root-py"
  },
  "language_info": {
   "codemirror_mode": {
    "name": "ipython",
    "version": 3
   },
   "file_extension": ".py",
   "mimetype": "text/x-python",
   "name": "python",
   "nbconvert_exporter": "python",
   "pygments_lexer": "ipython3",
   "version": "3.6.3"
  },
  "latex_envs": {
   "LaTeX_envs_menu_present": true,
   "autoclose": false,
   "autocomplete": true,
   "bibliofile": "biblio.bib",
   "cite_by": "apalike",
   "current_citInitial": 1,
   "eqLabelWithNumbers": true,
   "eqNumInitial": 1,
   "hotkeys": {
    "equation": "Ctrl-E",
    "itemize": "Ctrl-I"
   },
   "labels_anchors": false,
   "latex_user_defs": false,
   "report_style_numbering": false,
   "user_envs_cfg": false
  },
  "toc": {
   "base_numbering": 1,
   "nav_menu": {},
   "number_sections": true,
   "sideBar": true,
   "skip_h1_title": false,
   "title_cell": "Table of Contents",
   "title_sidebar": "Contents",
   "toc_cell": false,
   "toc_position": {},
   "toc_section_display": true,
   "toc_window_display": false
  },
  "varInspector": {
   "cols": {
    "lenName": 16,
    "lenType": 16,
    "lenVar": 40
   },
   "kernels_config": {
    "python": {
     "delete_cmd_postfix": "",
     "delete_cmd_prefix": "del ",
     "library": "var_list.py",
     "varRefreshCmd": "print(var_dic_list())"
    },
    "r": {
     "delete_cmd_postfix": ") ",
     "delete_cmd_prefix": "rm(",
     "library": "var_list.r",
     "varRefreshCmd": "cat(var_dic_list()) "
    }
   },
   "types_to_exclude": [
    "module",
    "function",
    "builtin_function_or_method",
    "instance",
    "_Feature"
   ],
   "window_display": false
  }
 },
 "nbformat": 4,
 "nbformat_minor": 2
}
