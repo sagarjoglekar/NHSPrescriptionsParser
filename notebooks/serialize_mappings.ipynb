{
 "cells": [
  {
   "cell_type": "code",
   "execution_count": null,
   "metadata": {
    "ExecuteTime": {
     "end_time": "2021-06-15T11:08:53.827936Z",
     "start_time": "2021-06-15T11:08:51.079271Z"
    },
    "collapsed": true
   },
   "outputs": [],
   "source": [
    "import pandas as pd \n",
    "pd.set_option('display.max_colwidth', -1)\n",
    "import matplotlib.pyplot as plt\n",
    "import seaborn as sns\n",
    "sns.set(rc={'figure.figsize':(12,8)})\n",
    "%matplotlib inline\n",
    "import glob\n",
    "import csv\n",
    "import os\n",
    "import tarfile\n",
    "import math\n",
    "import numpy as np \n",
    "from tqdm import tqdm\n",
    "import json\n",
    "from progressive.bar import Bar\n",
    "import pickle as pkl\n",
    "import networkx as nx\n",
    "from __future__ import unicode_literals\n",
    "\n",
    "#Make sure to use python 2 kernerls since the pickles are incompatible with python 3 :( "
   ]
  },
  {
   "cell_type": "code",
   "execution_count": null,
   "metadata": {
    "ExecuteTime": {
     "end_time": "2021-06-15T11:08:53.841666Z",
     "start_time": "2021-06-15T11:08:53.839379Z"
    },
    "collapsed": true
   },
   "outputs": [],
   "source": [
    "# import dill"
   ]
  },
  {
   "cell_type": "code",
   "execution_count": null,
   "metadata": {
    "ExecuteTime": {
     "end_time": "2021-06-15T11:08:53.907450Z",
     "start_time": "2021-06-15T11:08:53.852126Z"
    },
    "collapsed": true
   },
   "outputs": [],
   "source": [
    "\n",
    "# dill._dill._reverse_typemap['ObjectType'] = object"
   ]
  },
  {
   "cell_type": "code",
   "execution_count": null,
   "metadata": {
    "ExecuteTime": {
     "end_time": "2021-06-15T11:28:38.945484Z",
     "start_time": "2021-06-15T11:28:37.704199Z"
    }
   },
   "outputs": [],
   "source": [
    "# with open('../mappings/Bipartite_Drug_graph.pkl','rb') as f:\n",
    "#     drug_association_graph  = pkl.load(f)\n",
    "    \n",
    "# with open(\"../mappings/Bipartite_Drug_graph.pkl\", 'rb') as f:\n",
    "#     drug_association_graph = dill.load(f, encoding=\"bytes\") \n",
    "\n",
    "# with open('../mappings/Bipartite_Drug_category_graph.pkl','rb') as f:\n",
    "#     drug_cat_association_graph  = pkl.load(f)\n",
    "    \n",
    "# with open(\"../mappings/Bipartite_Drug_category_graph.pkl\", 'rb') as f:\n",
    "#     drug_cat_association_graph = pkl.load(f, encoding=\"bytes\")\n",
    "mappings_dir = '../mappings/'\n",
    "drug_association_graph = nx.read_gexf(mappings_dir + 'drug_association_graph.gexf')\n",
    "drug_cat_association_graph = nx.read_gexf(mappings_dir + 'category_association_graph.gexf')"
   ]
  },
  {
   "cell_type": "code",
   "execution_count": null,
   "metadata": {
    "collapsed": true
   },
   "outputs": [],
   "source": []
  },
  {
   "cell_type": "code",
   "execution_count": null,
   "metadata": {
    "ExecuteTime": {
     "end_time": "2021-06-15T11:28:38.984111Z",
     "start_time": "2021-06-15T11:28:38.956834Z"
    }
   },
   "outputs": [],
   "source": [
    "print (len(drug_association_graph.edges()))\n",
    "print (len(drug_cat_association_graph.edges()))\n",
    "print (len(drug_association_graph.nodes()) )\n",
    "print (len(drug_cat_association_graph.nodes()))"
   ]
  },
  {
   "cell_type": "code",
   "execution_count": null,
   "metadata": {
    "ExecuteTime": {
     "end_time": "2021-06-15T11:29:53.075724Z",
     "start_time": "2021-06-15T11:29:53.071830Z"
    }
   },
   "outputs": [],
   "source": [
    "#Old files till june 2019\n",
    "# files = glob.glob('../../BL_Work/openPrescribe/uncompressed/*.tar.gz')\n",
    "# print(files)"
   ]
  },
  {
   "cell_type": "code",
   "execution_count": null,
   "metadata": {
    "ExecuteTime": {
     "end_time": "2021-06-15T11:32:45.734684Z",
     "start_time": "2021-06-15T11:32:45.727746Z"
    }
   },
   "outputs": [],
   "source": [
    "#NEw files after July 2019\n",
    "\n",
    "files = glob.glob('/10TBDrive_2/sagar/NHS_data/EPD*.zip')\n",
    "print(files)"
   ]
  },
  {
   "cell_type": "code",
   "execution_count": null,
   "metadata": {
    "ExecuteTime": {
     "end_time": "2021-06-15T11:39:44.173146Z",
     "start_time": "2021-06-15T11:39:41.148097Z"
    }
   },
   "outputs": [],
   "source": [
    "#Different functions to extract different data form the prescription \n",
    "\n",
    "import inspect\n",
    "import re\n",
    "\n",
    "def extractPostCodesDict(addrDf):\n",
    "    postcodeDict = {}\n",
    "    for index,row in addrDf.iterrows():\n",
    "        try:\n",
    "            postcodeDict[row[1]] = row[7].strip()\n",
    "        except:\n",
    "            print(\"Found invalid entry\")\n",
    "    return postcodeDict\n",
    "\n",
    "def checkIndex(index):\n",
    "    if index%100 == 0:\n",
    "        return True\n",
    "    else:\n",
    "        return False\n",
    "\n",
    "def getPC(key , postcodeDict):\n",
    "    codes = []\n",
    "    for k in key:\n",
    "        if k in postcodeDict:\n",
    "            codes.append(postcodeDict[k])\n",
    "        else:\n",
    "            codes.append('')\n",
    "    return pd.Series(codes,index=key.index)\n",
    "\n",
    "def getPostcode(df,postcodeDict):\n",
    "    df[10] = ''\n",
    "    df[10] = df.groupby(2)[2].apply(getPC,postcodeDict)   \n",
    "    return df\n",
    "\n",
    "def getDrugFamily(key, diseaseMap):\n",
    "    found = 'N/A'\n",
    "    for dcode in diseaseMap: \n",
    "        if key.name.find(dcode) == 0:\n",
    "            found = dcode\n",
    "            break\n",
    "    drug = [found]*len(key)\n",
    "    return pd.Series(drug,index=key.index)\n",
    "\n",
    "def getDisease(key, diseaseMap):\n",
    "    found = 'N/A'\n",
    "    for dcode in diseaseMap: \n",
    "        if key.name.find(dcode) == 0:\n",
    "            found = diseaseMap[dcode]['disease'].replace('\\\"','').replace('+',' ')\n",
    "            break\n",
    "    drug = [found]*len(key)\n",
    "    return pd.Series(drug,index=key.index)\n",
    "\n",
    "def getDrug(key, diseaseMap):\n",
    "    found = 'N/A'\n",
    "    for dcode in diseaseMap: \n",
    "        if key.name.find(dcode) == 0:\n",
    "            found = diseaseMap[dcode]['chemName']\n",
    "            break\n",
    "    drug = [found]*len(key)\n",
    "    return pd.Series(drug,index=key.index)\n",
    "\n",
    "def getDrugPotency(key):\n",
    "    name = list(set(key))\n",
    "    if len(name) > 1:\n",
    "        print(\"found synonyms\")\n",
    "    text= name[-1]\n",
    "    found = 0.0\n",
    "    switch1 = text.find('mcg')\n",
    "    switch2 = text.find('mg')\n",
    "    switch3 = text.find('ml')\n",
    "    \n",
    "    if switch1 > 0 or switch2 > 0 or switch3 > 0:\n",
    "        weight = re.findall(r'[0-9]*\\.?[0-9]+', text)\n",
    "        if len(weight) > 0:\n",
    "            found = max([float(k) for k in weight])\n",
    "            if switch1 > 0:\n",
    "                found = found/1000.0\n",
    "    potency = [found]*len(key)\n",
    "    return pd.Series(potency,index=key.index)\n",
    "\n",
    "def countSpecificDrugs(Df, drugs,GPs):\n",
    "    df_slice = Df.groupby(3)[3].apply(getDrug,drugs)\n",
    "    selected = df_slice[df_slice!='N/A']\n",
    "    len(selected)\n",
    "    df_selected =  Df.iloc[selected.index,:]\n",
    "    df_selected = df_selected[df_selected[2].isin(GPs.keys())]\n",
    "    return np.sum(df_selected[5])\n",
    "\n",
    "\n",
    "def countSpecificDrugCosts(Df, drugs,GPs):\n",
    "    df_slice = Df.groupby(3)[3].apply(getDrug,drugs)\n",
    "    selected = df_slice[df_slice!='N/A']\n",
    "    len(selected)\n",
    "    df_selected =  Df.iloc[selected.index,:]\n",
    "    df_selected = df_selected[df_selected[2].isin(GPs.keys())]\n",
    "    return np.sum(df_selected[6])\n",
    "\n",
    "def countDrugsByCategoryList(pdp,codes):\n",
    "    total_drugs = 0.0\n",
    "    drugs = None\n",
    "    for name , group in pdp.groupby(3):\n",
    "        for dcode in codes:\n",
    "            if name.find(dcode) == 0:\n",
    "                total_drugs+=np.sum(group[5])\n",
    "    return total_drugs\n",
    "\n",
    "def countPrescriptionsByCategoryList(pdp,codes):\n",
    "    total_drugs = 0.0\n",
    "    drugs = None\n",
    "    for name , group in pdp.groupby(3):\n",
    "        for dcode in codes:\n",
    "            if name.find(dcode) == 0:\n",
    "                total_drugs+=len(group)\n",
    "    return total_drugs\n",
    "\n",
    "\n",
    "def countDrugsCostByCategoryList(pdp,codes):\n",
    "    total_drugs = 0.0\n",
    "    for name , group in pdp.groupby(3):\n",
    "        for dcode in codes:\n",
    "            if name.find(dcode) == 0:\n",
    "                total_drugs+=np.sum(group[7])\n",
    "    return total_drugs\n",
    "\n",
    "def countDrugsCostByGenerics(pdp,codes):\n",
    "    total_drugs = 0.0\n",
    "    generics= pdp[pdp[20] == 'AA']\n",
    "    for name , group in generics.groupby(3):\n",
    "        for dcode in codes:\n",
    "            if name.find(dcode) == 0:\n",
    "                total_drugs+=np.sum(group[7])\n",
    "    return total_drugs\n",
    "\n",
    "def compareCostsForGenericsAndBranded(pdp,codes):\n",
    "    genericsCosts = {}\n",
    "    brandedCosts = {}\n",
    "    for name , group in pdp.groupby(16):\n",
    "        for dcode in codes:\n",
    "            if name == dcode:\n",
    "                generics= group[group[20] == 'AA']\n",
    "                if len(generics)>0:\n",
    "                    total_drugs =np.sum(group[7])\n",
    "                    generic_drugs = np.sum(generics[7])\n",
    "                    brandedCosts[dcode] = total_drugs - generic_drugs\n",
    "                    genericsCosts[dcode] = generic_drugs\n",
    "                else:\n",
    "                    print(\"Did not find any generic drugs\")\n",
    "                    continue\n",
    "    return brandedCosts , genericsCosts\n",
    "\n",
    "def func_Cost(potgroup):\n",
    "    \n",
    "    generics= potgroup.loc[potgroup[20] == 'AA']\n",
    "    nonGenerics =  potgroup.loc[potgroup[20] != 'AA']\n",
    "\n",
    "    minCost = np.min(generics[7])\n",
    "    minpotdf = generics.loc[generics[7] == minCost]\n",
    "    minQuant = np.min(minpotdf[8])\n",
    "    if minQuant == 0:\n",
    "        normalizer = minCost\n",
    "    else:\n",
    "        normalizer = float(minCost)/float(minQuant)\n",
    "    \n",
    "    if np.isnan(normalizer):\n",
    "        normalizer = 1.0\n",
    "    potgroup[21] = normalizer\n",
    "    \n",
    "    minCostBrand = np.min(nonGenerics[7])\n",
    "    minpotdfBrand = nonGenerics.loc[nonGenerics[7] == minCostBrand]\n",
    "    minQuantBrand = np.min(minpotdfBrand[8])\n",
    "    \n",
    "    if minQuantBrand == 0:\n",
    "        unitNonGenericCost = minCostBrand\n",
    "    else:\n",
    "        unitNonGenericCost = float(minCostBrand)/float(minQuantBrand)\n",
    "    \n",
    "    if np.isnan(unitNonGenericCost):\n",
    "        unitNonGenericCost = 1.0\n",
    "    potgroup[22] = unitNonGenericCost\n",
    "    if unitNonGenericCost > normalizer:\n",
    "        potgroup[23] = float(unitNonGenericCost - normalizer)*potgroup[8]    \n",
    "    return potgroup\n",
    "\n",
    "def func_Drugs(group,codes):\n",
    "    return group.groupby(15,as_index=False).apply(lambda df : func_Cost(df))\n",
    "    \n",
    "\n",
    "def computeSavingsNew(pdp,codes):\n",
    "    pdp[21] = 0.0\n",
    "    pdp[22] = 0.0\n",
    "    pdp[23] = 0.0\n",
    "    return pdp.groupby(16,as_index=False).apply(lambda df: func_Drugs(df , codes))\n",
    "\n",
    "\n",
    "def computeSavings(pdp,codes):\n",
    "    pdp[21] = 0.0\n",
    "    pdp[22] = 0.0\n",
    "    pdp[23] = 0.0\n",
    "    for name , group in pdp.groupby(16):\n",
    "        #we can remove this to allow computing savings across all drugs\n",
    "        if name in codes:\n",
    "            for pot , potgroup in group.groupby(15):\n",
    "                generics= potgroup.loc[potgroup[20] == 'AA']\n",
    "                nonGenerics =  potgroup.loc[potgroup[20] != 'AA']\n",
    "\n",
    "                minCost = np.min(generics[7])\n",
    "                minpotdf = generics.loc[generics[7] == minCost]\n",
    "                minQuant = np.min(minpotdf[8])\n",
    "                normalizer = float(minCost)/float(minQuant)\n",
    "                potgroup[21] = normalizer\n",
    "\n",
    "                minCostBrand = np.min(nonGenerics[7])\n",
    "                minpotdfBrand = nonGenerics.loc[nonGenerics[7] == minCostBrand]\n",
    "                minQuantBrand = np.min(minpotdfBrand[8])\n",
    "\n",
    "                unitNonGenericCost = float(minCostBrand)/float(minQuantBrand)\n",
    "                potgroup[22] = unitNonGenericCost\n",
    "                \n",
    "                if unitNonGenericCost > normalizer:\n",
    "                    nonGenerics[23] = float(unitNonGenericCost - normalizer)*nonGenerics[8]\n",
    "\n",
    "\n",
    "def countTotalDrugDosage(pdp,codes):\n",
    "    total_drugs = 0.0\n",
    "    for name , group in pdp.groupby(3):\n",
    "        for dcode in codes:\n",
    "            if name.find(dcode) == 0:\n",
    "                total_drugs+=np.sum(group[19])\n",
    "    return total_drugs\n",
    "\n",
    "def normalizePills(keys):\n",
    "    minima = np.min(keys)\n",
    "    if minima > 0:\n",
    "        potency = keys/minima\n",
    "    else:\n",
    "        potency = 1.0\n",
    "    return pd.Series(potency,index=keys.index)\n",
    "        \n",
    "    \n",
    "def normalizePotency(keys):\n",
    "    minima = np.min(keys)\n",
    "    if minima > 0:\n",
    "        potency = keys/minima\n",
    "    else:\n",
    "        potency = 1.0\n",
    "    return pd.Series(potency,index=keys.index)\n",
    "    \n",
    "def normalize(dataFrame):\n",
    "    dataFrame[16] = dataFrame[3].str[:9]\n",
    "    dataFrame[17] = dataFrame.groupby(16)[8].apply(normalizePills)\n",
    "    dataFrame[18] = dataFrame.groupby(16)[15].apply(normalizePotency) \n",
    "    dataFrame[19] = dataFrame[18]*dataFrame[17]\n",
    "    dataFrame[20] = dataFrame[3].str[9:11]\n",
    "    dataFrame[21] = dataFrame[15]/dataFrame[8]\n",
    "    \n",
    "    \n",
    "def normalize_new(dataFrame):\n",
    "    dataFrame[16] = dataFrame['BNF_CODE'].str[:9]\n",
    "    dataFrame[17] = dataFrame.groupby(16)['TOTAL_QUANTITY'].apply(normalizePills)\n",
    "    dataFrame[18] = dataFrame.groupby(16)[15].apply(normalizePotency) \n",
    "    dataFrame[19] = dataFrame[18]*dataFrame[17]\n",
    "    dataFrame[20] = dataFrame['BNF_CODE'].str[9:11]\n",
    "    dataFrame[21] = dataFrame[15]/dataFrame['TOTAL_QUANTITY']\n",
    "    \n",
    "    \n",
    "    \n",
    "def doImportantMappings(Df):\n",
    "    #BNF family\n",
    "#     Df[11] = ''  \n",
    "#     Df[11] = Df.groupby(3)[3].apply(getDrugFamily,symptomMap)\n",
    "#     #Disease\n",
    "#     Df[12] = ''  \n",
    "#     Df[12] = Df.groupby(3)[3].apply(getDisease,diseaseMap)\n",
    "#     #Symptom\n",
    "#     Df[13] = ''  \n",
    "#     Df[13] = Df.groupby(3)[3].apply(getDisease,symptomMap)\n",
    "#     #Checm Name\n",
    "#     Df[14] = ''  \n",
    "#     Df[14] = Df.groupby(3)[3].apply(getDrug,symptomMap)\n",
    "    #Chem potency\n",
    "    Df[15] = ''  \n",
    "    Df[15] = Df.groupby(3)[4].apply(getDrugPotency)\n",
    "\n",
    "    normalize(Df)\n",
    "\n",
    "    return Df\n",
    "\n",
    "\n",
    "\n",
    "def doImportantMappings_new(Df):\n",
    "    #BNF family\n",
    "#     Df[11] = ''  \n",
    "#     Df[11] = Df.groupby('BNF_CODE')['BNF_CODE'].apply(getDrugFamily,symptomMap)\n",
    "#     #Disease\n",
    "#     Df[12] = ''  \n",
    "#     Df[12] = Df.groupby('BNF_CODE')['BNF_CODE'].apply(getDisease,diseaseMap)\n",
    "#     #Symptom\n",
    "#     Df[13] = ''  \n",
    "#     Df[13] = Df.groupby('BNF_CODE')['BNF_CODE'].apply(getDisease,symptomMap)\n",
    "#     #Checm Name\n",
    "#     Df[14] = ''  \n",
    "#     Df[14] = Df.groupby('BNF_CODE')['BNF_CODE'].apply(getDrug,symptomMap)\n",
    "    #Chem potency\n",
    "    Df[15] = ''  \n",
    "    Df[15] = Df.groupby('BNF_CODE')['BNF_DESCRIPTION'].apply(getDrugPotency)\n",
    "\n",
    "    normalize_new(Df)\n",
    "\n",
    "    return Df\n",
    "\n"
   ]
  },
  {
   "cell_type": "code",
   "execution_count": null,
   "metadata": {
    "ExecuteTime": {
     "end_time": "2021-06-15T11:31:55.425318Z",
     "start_time": "2021-06-15T11:31:55.419244Z"
    },
    "collapsed": true
   },
   "outputs": [],
   "source": [
    "# chem = pd.read_csv('../mappings/CHEM_MASTER_MAP.csv')\n",
    "# len(chem)\n",
    "\n",
    "# # chem = chem.dropna()\n",
    "\n",
    "# matched = chem[chem['UNII_drugbank']!='[]']\n",
    "\n",
    "# matchedMap = {}\n",
    "# for index,row in matched.iterrows():\n",
    "#     if row['UNII_drugbank'] not in matchedMap:\n",
    "#          matchedMap[row['UNII_drugbank']] = []\n",
    "#     matchedMap[row['UNII_drugbank']].append(row['BNF_code'])"
   ]
  },
  {
   "cell_type": "code",
   "execution_count": null,
   "metadata": {
    "ExecuteTime": {
     "end_time": "2021-06-15T11:40:08.244007Z",
     "start_time": "2021-06-15T11:40:08.235457Z"
    }
   },
   "outputs": [],
   "source": [
    "monthListAll = []\n",
    "for f in files: \n",
    "    weight = re.findall(r'[0-9]*\\.?[0-9]+', f)\n",
    "    monthListAll.append(weight[-1])\n",
    "#     print(weight)\n",
    "monthListAll = list(set(monthListAll))\n",
    "monthListAll.sort()\n",
    "print(monthListAll)"
   ]
  },
  {
   "cell_type": "code",
   "execution_count": null,
   "metadata": {
    "ExecuteTime": {
     "end_time": "2021-06-15T11:40:27.451273Z",
     "start_time": "2021-06-15T11:40:27.443773Z"
    },
    "collapsed": true
   },
   "outputs": [],
   "source": [
    "#Old mapping\n",
    "# GP_META = pd.read_csv('mappings/epraccur.csv',header=None)\n",
    "# GP_META.rename(columns={0:'BP_code',\n",
    "#                         1:'Name',\n",
    "#                         2:'Grouping',\n",
    "#                         3:'National_geo',\n",
    "#                         4:'Addr1',\n",
    "#                         5:'Addr2',\n",
    "#                         6:'Addr3',\n",
    "#                         7: 'Addr4',\n",
    "#                         8:'Addr5',\n",
    "#                         9:'Postcode',\n",
    "#                         10:'Open',\n",
    "#                         11:'Closed',\n",
    "#                         12:'Status',\n",
    "#                         13:'Org type code',\n",
    "#                         14:'Commissioner',\n",
    "#                         15:'Join provider',\n",
    "#                         16:'Left provider',\n",
    "#                         17:'Contact',\n",
    "#                         18:'Null1',\n",
    "#                         19:'Null2',\n",
    "#                         20:'Null3',\n",
    "#                         21:'Amended',\n",
    "#                         22:'Null4',\n",
    "#                         23:'Provider',\n",
    "#                         24:'Null5',\n",
    "#                         25:'Setting',\n",
    "#                         26:'Null6'}, \n",
    "#                  inplace=True)"
   ]
  },
  {
   "cell_type": "code",
   "execution_count": null,
   "metadata": {
    "ExecuteTime": {
     "end_time": "2021-06-15T11:40:45.670423Z",
     "start_time": "2021-06-15T11:40:45.556606Z"
    }
   },
   "outputs": [],
   "source": [
    "#New GP file\n",
    "GP_META = pd.read_csv('mappings/epraccur_2021.csv',header=None)\n",
    "GP_META.rename(columns={0:'BP_code',\n",
    "                        1:'Name',\n",
    "                        2:'Grouping',\n",
    "                        3:'National_geo',\n",
    "                        4:'Addr1',\n",
    "                        5:'Addr2',\n",
    "                        6:'Addr3',\n",
    "                        7: 'Addr4',\n",
    "                        8:'Addr5',\n",
    "                        9:'Postcode',\n",
    "                        10:'Open',\n",
    "                        11:'Closed',\n",
    "                        12:'Status',\n",
    "                        13:'Org type code',\n",
    "                        14:'Commissioner',\n",
    "                        15:'Join provider',\n",
    "                        16:'Left provider',\n",
    "                        17:'Contact',\n",
    "                        18:'Null1',\n",
    "                        19:'Null2',\n",
    "                        20:'Null3',\n",
    "                        21:'Amended',\n",
    "                        22:'Null4',\n",
    "                        23:'Provider',\n",
    "                        24:'Null5',\n",
    "                        25:'Setting',\n",
    "                        26:'Null6'}, \n",
    "                 inplace=True)"
   ]
  },
  {
   "cell_type": "code",
   "execution_count": null,
   "metadata": {
    "ExecuteTime": {
     "end_time": "2021-06-15T11:41:05.865803Z",
     "start_time": "2021-06-15T11:41:03.463660Z"
    },
    "collapsed": true
   },
   "outputs": [],
   "source": [
    "Open_filtered_GPs = {}\n",
    "for index,row in GP_META.iterrows():\n",
    "    if row ['Setting'] == 4 and row['Status'] =='A':\n",
    "        Open_filtered_GPs[row['BP_code']] = row['Postcode'].strip()"
   ]
  },
  {
   "cell_type": "code",
   "execution_count": null,
   "metadata": {
    "ExecuteTime": {
     "end_time": "2021-06-15T11:41:32.749494Z",
     "start_time": "2021-06-15T11:41:32.742617Z"
    },
    "collapsed": true
   },
   "outputs": [],
   "source": [
    "import logging\n",
    "logger = logging.getLogger()\n",
    "fhandler = logging.FileHandler(filename='Serializing.log', mode='a')\n",
    "formatter = logging.Formatter('%(asctime)s - %(name)s - %(levelname)s - %(message)s')\n",
    "fhandler.setFormatter(formatter)\n",
    "logger.addHandler(fhandler)\n",
    "logger.setLevel(logging.DEBUG)"
   ]
  },
  {
   "cell_type": "code",
   "execution_count": null,
   "metadata": {
    "ExecuteTime": {
     "end_time": "2021-06-15T11:41:55.646949Z",
     "start_time": "2021-06-15T11:41:55.643237Z"
    },
    "collapsed": true
   },
   "outputs": [],
   "source": [
    "# pdp_old = pd.read_csv('../../BL_Work/openPrescribe/uncompressed/T201206PDPI BNFT.csv.tar.gz',compression='infer',header=None,skiprows=1)"
   ]
  },
  {
   "cell_type": "code",
   "execution_count": null,
   "metadata": {
    "ExecuteTime": {
     "end_time": "2021-06-15T11:42:15.211385Z",
     "start_time": "2021-06-15T11:42:15.208334Z"
    }
   },
   "outputs": [],
   "source": [
    "# pdp_old.head()"
   ]
  },
  {
   "cell_type": "code",
   "execution_count": null,
   "metadata": {
    "ExecuteTime": {
     "end_time": "2021-06-15T11:44:13.816639Z",
     "start_time": "2021-06-15T11:42:33.196972Z"
    },
    "collapsed": true
   },
   "outputs": [],
   "source": [
    "pdp = pd.read_csv('/10TBDrive_2/sagar/NHS_data/'+'EPD_'+str(monthListAll[0]) +'.zip')"
   ]
  },
  {
   "cell_type": "code",
   "execution_count": null,
   "metadata": {
    "ExecuteTime": {
     "end_time": "2021-06-15T11:44:38.588429Z",
     "start_time": "2021-06-15T11:44:38.585484Z"
    },
    "collapsed": true
   },
   "outputs": [],
   "source": [
    "# pdp[1000:1009]"
   ]
  },
  {
   "cell_type": "code",
   "execution_count": null,
   "metadata": {
    "ExecuteTime": {
     "end_time": "2021-06-15T11:45:02.500092Z",
     "start_time": "2021-06-15T11:45:02.496888Z"
    }
   },
   "outputs": [],
   "source": [
    "# print set(pdp['BNF_CHAPTER_PLUS_CODE'])"
   ]
  },
  {
   "cell_type": "code",
   "execution_count": null,
   "metadata": {
    "ExecuteTime": {
     "end_time": "2021-06-15T11:45:28.714726Z",
     "start_time": "2021-06-15T11:45:28.710418Z"
    },
    "collapsed": true
   },
   "outputs": [],
   "source": [
    "# cat_filters = ['15: Anaesthesia', '20: Dressings', '23: Stoma Appliances', '21: Appliances','18: Preparations used in Diagnosis']"
   ]
  },
  {
   "cell_type": "code",
   "execution_count": null,
   "metadata": {
    "ExecuteTime": {
     "end_time": "2021-06-15T11:46:24.564703Z",
     "start_time": "2021-06-15T11:45:50.252282Z"
    }
   },
   "outputs": [],
   "source": [
    "pdp = pdp.dropna()\n",
    "pdp_filtered = pdp[pdp['PRACTICE_CODE'].isin(Open_filtered_GPs.keys())].copy(deep=True)\n",
    "# pdp_filtered = pdp[~pdp['BNF_CHAPTER_PLUS_CODE'].isin(cat_filters)]"
   ]
  },
  {
   "cell_type": "code",
   "execution_count": null,
   "metadata": {
    "ExecuteTime": {
     "end_time": "2021-06-15T11:46:54.394111Z",
     "start_time": "2021-06-15T11:46:54.385840Z"
    }
   },
   "outputs": [],
   "source": [
    "len(pdp) , len(pdp_filtered)"
   ]
  },
  {
   "cell_type": "code",
   "execution_count": null,
   "metadata": {
    "ExecuteTime": {
     "end_time": "2021-06-15T12:46:32.363462Z",
     "start_time": "2021-06-15T12:45:19.552852Z"
    },
    "collapsed": true
   },
   "outputs": [],
   "source": [
    "pdp_filtered = doImportantMappings_new(pdp_filtered)"
   ]
  },
  {
   "cell_type": "code",
   "execution_count": null,
   "metadata": {
    "ExecuteTime": {
     "end_time": "2021-06-15T12:47:07.764809Z",
     "start_time": "2021-06-15T12:47:07.761661Z"
    },
    "collapsed": true
   },
   "outputs": [],
   "source": [
    "# print(pdp_filtered.iloc[51000])"
   ]
  },
  {
   "cell_type": "code",
   "execution_count": null,
   "metadata": {
    "ExecuteTime": {
     "end_time": "2021-06-15T12:48:02.081372Z",
     "start_time": "2021-06-15T12:47:46.527532Z"
    }
   },
   "outputs": [],
   "source": [
    "print (pdp_filtered[pdp_filtered[16]=='0403040X0'].iloc[0])"
   ]
  },
  {
   "cell_type": "code",
   "execution_count": null,
   "metadata": {
    "ExecuteTime": {
     "end_time": "2021-06-15T12:48:37.738990Z",
     "start_time": "2021-06-15T12:48:37.733659Z"
    },
    "collapsed": true
   },
   "outputs": [],
   "source": [
    "# USE this for pre 2019-06 data\n",
    "# monthList = monthListAll\n",
    "# # monthList = [u'201601', u'201602', u'201603',]\n",
    "# for month in tqdm(monthList):\n",
    "#     filename = '../BL_Work/openPrescribe/serialized/' + month + '.gz'\n",
    "#     if not os.path.exists(filename):\n",
    "#         logging.info(\"working with File: \"+str(filename))\n",
    "#         pdp = readPrescriptions(month,files)\n",
    "#         pdp = pdp.dropna()\n",
    "#         pdp = getPostcode(pdp , postcodes)\n",
    "#         pdp_filtered = pdp[pdp[2].isin(Open_filtered_GPs.keys())].copy(deep=True)\n",
    "#         pdp_filtered = doImportantMappings(pdp_filtered,DiseaseDrugs,symptoms_matched)\n",
    "#         pdp_filtered.to_csv(filename,compression='gzip')"
   ]
  },
  {
   "cell_type": "code",
   "execution_count": null,
   "metadata": {
    "ExecuteTime": {
     "end_time": "2021-06-15T13:02:58.938310Z",
     "start_time": "2021-06-15T12:49:07.219948Z"
    }
   },
   "outputs": [],
   "source": [
    "# # USE this for post 2019-06 data\n",
    "monthList = monthListAll\n",
    "# monthList = [u'201601', u'201602', u'201603',]\n",
    "for month in tqdm(monthList):\n",
    "    filename = '/10TBDrive_2/sagar/NHS_data/serialized/' + month + '.gz'\n",
    "    logging.info(\"working with File: \"+str(filename))\n",
    "    pdp = pd.read_csv('/10TBDrive_2/sagar/NHS_data/'+'EPD_'+str(month) +'.zip')\n",
    "    pdp = pdp.dropna()\n",
    "    pdp_filtered = pdp[pdp['PRACTICE_CODE'].isin(Open_filtered_GPs.keys())].copy(deep=True)\n",
    "#         pdp_filtered = pdp[~pdp['BNF_CHAPTER_PLUS_CODE'].isin(cat_filters)]\n",
    "    pdp_filtered = doImportantMappings_new(pdp_filtered)\n",
    "    pdp_filtered.to_csv(filename,compression='gzip')\n",
    "    del pdp_filtered\n",
    "    del pdp"
   ]
  },
  {
   "cell_type": "code",
   "execution_count": null,
   "metadata": {
    "ExecuteTime": {
     "start_time": "2021-05-11T20:25:04.589Z"
    },
    "collapsed": true
   },
   "outputs": [],
   "source": [
    "# from itertools import izip_longest\n",
    "# def grouper(iterable, n, fillvalue=None):\n",
    "#     # grouper('ABCDEFG', 3, 'x') --> ABC DEF Gxx\n",
    "#     args = [iter(iterable)] * n\n",
    "#     return izip_longest(fillvalue=fillvalue, *args)\n",
    "\n",
    "# for months in grouper(monthListAll, 5):\n",
    "#     print months\n",
    "                        "
   ]
  },
  {
   "cell_type": "code",
   "execution_count": null,
   "metadata": {
    "collapsed": true
   },
   "outputs": [],
   "source": []
  }
 ],
 "metadata": {
  "kernelspec": {
   "display_name": "Python [conda env:root] *",
   "language": "python",
   "name": "conda-root-py"
  },
  "language_info": {
   "codemirror_mode": {
    "name": "ipython",
    "version": 3
   },
   "file_extension": ".py",
   "mimetype": "text/x-python",
   "name": "python",
   "nbconvert_exporter": "python",
   "pygments_lexer": "ipython3",
   "version": "3.6.3"
  },
  "latex_envs": {
   "LaTeX_envs_menu_present": true,
   "autoclose": false,
   "autocomplete": true,
   "bibliofile": "biblio.bib",
   "cite_by": "apalike",
   "current_citInitial": 1,
   "eqLabelWithNumbers": true,
   "eqNumInitial": 1,
   "hotkeys": {
    "equation": "Ctrl-E",
    "itemize": "Ctrl-I"
   },
   "labels_anchors": false,
   "latex_user_defs": false,
   "report_style_numbering": false,
   "user_envs_cfg": false
  },
  "toc": {
   "base_numbering": 1,
   "nav_menu": {},
   "number_sections": true,
   "sideBar": true,
   "skip_h1_title": false,
   "title_cell": "Table of Contents",
   "title_sidebar": "Contents",
   "toc_cell": false,
   "toc_position": {},
   "toc_section_display": true,
   "toc_window_display": false
  },
  "varInspector": {
   "cols": {
    "lenName": 16,
    "lenType": 16,
    "lenVar": 40
   },
   "kernels_config": {
    "python": {
     "delete_cmd_postfix": "",
     "delete_cmd_prefix": "del ",
     "library": "var_list.py",
     "varRefreshCmd": "print(var_dic_list())"
    },
    "r": {
     "delete_cmd_postfix": ") ",
     "delete_cmd_prefix": "rm(",
     "library": "var_list.r",
     "varRefreshCmd": "cat(var_dic_list()) "
    }
   },
   "types_to_exclude": [
    "module",
    "function",
    "builtin_function_or_method",
    "instance",
    "_Feature"
   ],
   "window_display": false
  }
 },
 "nbformat": 4,
 "nbformat_minor": 2
}
