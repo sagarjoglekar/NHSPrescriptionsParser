{
 "cells": [
  {
   "cell_type": "code",
   "execution_count": 1,
   "metadata": {
    "ExecuteTime": {
     "end_time": "2021-07-09T21:28:42.248845Z",
     "start_time": "2021-07-09T21:28:41.922692Z"
    }
   },
   "outputs": [],
   "source": [
    "import pandas as pd\n",
    "import matplotlib.pyplot as plt\n",
    "import seaborn as sns\n",
    "import numpy as np\n",
    "import json\n",
    "sns.set(rc={'figure.figsize':(12,8)})\n",
    "%matplotlib inline\n",
    "import geopandas as gpd"
   ]
  },
  {
   "cell_type": "code",
   "execution_count": 2,
   "metadata": {
    "ExecuteTime": {
     "end_time": "2021-07-09T21:28:43.308766Z",
     "start_time": "2021-07-09T21:28:42.632729Z"
    }
   },
   "outputs": [],
   "source": [
    "presc = pd.read_csv('../data_prep/depression_V4.csv.gz', compression='gzip')\n",
    "wards = pd.read_csv('../data_prep/Wards.csv')"
   ]
  },
  {
   "cell_type": "code",
   "execution_count": 3,
   "metadata": {
    "ExecuteTime": {
     "end_time": "2021-07-09T21:28:43.322684Z",
     "start_time": "2021-07-09T21:28:43.310586Z"
    }
   },
   "outputs": [
    {
     "data": {
      "text/html": [
       "<div>\n",
       "<style scoped>\n",
       "    .dataframe tbody tr th:only-of-type {\n",
       "        vertical-align: middle;\n",
       "    }\n",
       "\n",
       "    .dataframe tbody tr th {\n",
       "        vertical-align: top;\n",
       "    }\n",
       "\n",
       "    .dataframe thead th {\n",
       "        text-align: right;\n",
       "    }\n",
       "</style>\n",
       "<table border=\"1\" class=\"dataframe\">\n",
       "  <thead>\n",
       "    <tr style=\"text-align: right;\">\n",
       "      <th></th>\n",
       "      <th>YYYYMM</th>\n",
       "      <th>LSOA_CODE</th>\n",
       "      <th>Total_quantity</th>\n",
       "      <th>Dosage_ratio</th>\n",
       "      <th>Total_cost</th>\n",
       "      <th>Total_items</th>\n",
       "      <th>Patient_count</th>\n",
       "    </tr>\n",
       "  </thead>\n",
       "  <tbody>\n",
       "    <tr>\n",
       "      <th>0</th>\n",
       "      <td>201901</td>\n",
       "      <td>E01012190</td>\n",
       "      <td>5528.443524</td>\n",
       "      <td>28890.507539</td>\n",
       "      <td>325.828615</td>\n",
       "      <td>144.748521</td>\n",
       "      <td>1414.0</td>\n",
       "    </tr>\n",
       "    <tr>\n",
       "      <th>1</th>\n",
       "      <td>201901</td>\n",
       "      <td>E01012191</td>\n",
       "      <td>6304.076418</td>\n",
       "      <td>33211.748735</td>\n",
       "      <td>371.863143</td>\n",
       "      <td>165.890416</td>\n",
       "      <td>1618.0</td>\n",
       "    </tr>\n",
       "    <tr>\n",
       "      <th>2</th>\n",
       "      <td>201901</td>\n",
       "      <td>E01012192</td>\n",
       "      <td>5980.935350</td>\n",
       "      <td>32829.680515</td>\n",
       "      <td>350.484745</td>\n",
       "      <td>150.165290</td>\n",
       "      <td>1511.0</td>\n",
       "    </tr>\n",
       "    <tr>\n",
       "      <th>3</th>\n",
       "      <td>201901</td>\n",
       "      <td>E01012194</td>\n",
       "      <td>5704.954893</td>\n",
       "      <td>31238.477543</td>\n",
       "      <td>335.243875</td>\n",
       "      <td>143.202664</td>\n",
       "      <td>1480.0</td>\n",
       "    </tr>\n",
       "    <tr>\n",
       "      <th>4</th>\n",
       "      <td>201901</td>\n",
       "      <td>E01012195</td>\n",
       "      <td>6256.477717</td>\n",
       "      <td>34736.725948</td>\n",
       "      <td>367.127907</td>\n",
       "      <td>157.295769</td>\n",
       "      <td>1624.0</td>\n",
       "    </tr>\n",
       "  </tbody>\n",
       "</table>\n",
       "</div>"
      ],
      "text/plain": [
       "   YYYYMM  LSOA_CODE  Total_quantity  Dosage_ratio  Total_cost  Total_items  \\\n",
       "0  201901  E01012190     5528.443524  28890.507539  325.828615   144.748521   \n",
       "1  201901  E01012191     6304.076418  33211.748735  371.863143   165.890416   \n",
       "2  201901  E01012192     5980.935350  32829.680515  350.484745   150.165290   \n",
       "3  201901  E01012194     5704.954893  31238.477543  335.243875   143.202664   \n",
       "4  201901  E01012195     6256.477717  34736.725948  367.127907   157.295769   \n",
       "\n",
       "   Patient_count  \n",
       "0         1414.0  \n",
       "1         1618.0  \n",
       "2         1511.0  \n",
       "3         1480.0  \n",
       "4         1624.0  "
      ]
     },
     "execution_count": 3,
     "metadata": {},
     "output_type": "execute_result"
    }
   ],
   "source": [
    "presc.head(n=5)"
   ]
  },
  {
   "cell_type": "code",
   "execution_count": 4,
   "metadata": {
    "ExecuteTime": {
     "end_time": "2021-07-09T21:28:43.599746Z",
     "start_time": "2021-07-09T21:28:43.581277Z"
    }
   },
   "outputs": [
    {
     "data": {
      "text/html": [
       "<div>\n",
       "<style scoped>\n",
       "    .dataframe tbody tr th:only-of-type {\n",
       "        vertical-align: middle;\n",
       "    }\n",
       "\n",
       "    .dataframe tbody tr th {\n",
       "        vertical-align: top;\n",
       "    }\n",
       "\n",
       "    .dataframe thead th {\n",
       "        text-align: right;\n",
       "    }\n",
       "</style>\n",
       "<table border=\"1\" class=\"dataframe\">\n",
       "  <thead>\n",
       "    <tr style=\"text-align: right;\">\n",
       "      <th></th>\n",
       "      <th>Unnamed: 0</th>\n",
       "      <th>LSOA11CD</th>\n",
       "      <th>WD15CD</th>\n",
       "      <th>WD15NM</th>\n",
       "      <th>LAD15CD</th>\n",
       "      <th>LocalAuthorityName</th>\n",
       "      <th>CityName</th>\n",
       "      <th>Area Codes</th>\n",
       "      <th>All Ages</th>\n",
       "    </tr>\n",
       "  </thead>\n",
       "  <tbody>\n",
       "    <tr>\n",
       "      <th>0</th>\n",
       "      <td>0</td>\n",
       "      <td>E01000104</td>\n",
       "      <td>E05000041</td>\n",
       "      <td>Village</td>\n",
       "      <td>E09000002</td>\n",
       "      <td>Barking and Dagenham</td>\n",
       "      <td>London</td>\n",
       "      <td>E01000104</td>\n",
       "      <td>1811</td>\n",
       "    </tr>\n",
       "    <tr>\n",
       "      <th>1</th>\n",
       "      <td>1</td>\n",
       "      <td>E01000105</td>\n",
       "      <td>E05000041</td>\n",
       "      <td>Village</td>\n",
       "      <td>E09000002</td>\n",
       "      <td>Barking and Dagenham</td>\n",
       "      <td>London</td>\n",
       "      <td>E01000105</td>\n",
       "      <td>2349</td>\n",
       "    </tr>\n",
       "  </tbody>\n",
       "</table>\n",
       "</div>"
      ],
      "text/plain": [
       "   Unnamed: 0   LSOA11CD     WD15CD   WD15NM    LAD15CD    LocalAuthorityName  \\\n",
       "0           0  E01000104  E05000041  Village  E09000002  Barking and Dagenham   \n",
       "1           1  E01000105  E05000041  Village  E09000002  Barking and Dagenham   \n",
       "\n",
       "  CityName Area Codes  All Ages  \n",
       "0   London  E01000104      1811  \n",
       "1   London  E01000105      2349  "
      ]
     },
     "execution_count": 4,
     "metadata": {},
     "output_type": "execute_result"
    }
   ],
   "source": [
    "wards.head(n=2)"
   ]
  },
  {
   "cell_type": "code",
   "execution_count": 5,
   "metadata": {
    "ExecuteTime": {
     "end_time": "2021-07-09T21:28:44.374558Z",
     "start_time": "2021-07-09T21:28:44.238502Z"
    }
   },
   "outputs": [],
   "source": [
    "presc_merged = pd.merge(presc,wards,left_on='LSOA_CODE' , right_on='LSOA11CD')"
   ]
  },
  {
   "cell_type": "code",
   "execution_count": 6,
   "metadata": {
    "ExecuteTime": {
     "end_time": "2021-07-09T21:28:44.875969Z",
     "start_time": "2021-07-09T21:28:44.872059Z"
    }
   },
   "outputs": [
    {
     "data": {
      "text/plain": [
       "(393996, 393996)"
      ]
     },
     "execution_count": 6,
     "metadata": {},
     "output_type": "execute_result"
    }
   ],
   "source": [
    "len(presc_merged), len(presc)"
   ]
  },
  {
   "cell_type": "code",
   "execution_count": 12,
   "metadata": {
    "ExecuteTime": {
     "end_time": "2021-07-09T21:29:22.431276Z",
     "start_time": "2021-07-09T21:29:21.746854Z"
    }
   },
   "outputs": [
    {
     "name": "stderr",
     "output_type": "stream",
     "text": [
      "100%|██████████| 326/326 [00:00<00:00, 572.94it/s]\n"
     ]
    }
   ],
   "source": [
    "from tqdm import tqdm\n",
    "LAD_dict = {'LADCD':[], 'mean_cost':[] , 'mean_items' : [] , 'mean_quantity' : []}\n",
    "for name , group in tqdm(presc_merged.groupby('LAD15CD')):\n",
    "    LAD_dict['LADCD'].append(name)\n",
    "    LAD_dict['mean_cost'].append((np.sum(group['Total_cost'])/group['All Ages'])*1000)\n",
    "    LAD_dict['mean_items'].append((np.sum(group['Total_items'])/group.iloc[1]['All Ages'])*1000)\n",
    "    LAD_dict['mean_quantity'].append((np.sum(group['Total_items'])/group.iloc[1]['All Ages'])*1000)\n",
    "LAD_df = pd.DataFrame.from_dict(LAD_dict)"
   ]
  },
  {
   "cell_type": "code",
   "execution_count": 13,
   "metadata": {
    "ExecuteTime": {
     "end_time": "2021-07-09T21:29:23.070219Z",
     "start_time": "2021-07-09T21:29:23.025057Z"
    }
   },
   "outputs": [
    {
     "data": {
      "text/html": [
       "<div>\n",
       "<style scoped>\n",
       "    .dataframe tbody tr th:only-of-type {\n",
       "        vertical-align: middle;\n",
       "    }\n",
       "\n",
       "    .dataframe tbody tr th {\n",
       "        vertical-align: top;\n",
       "    }\n",
       "\n",
       "    .dataframe thead th {\n",
       "        text-align: right;\n",
       "    }\n",
       "</style>\n",
       "<table border=\"1\" class=\"dataframe\">\n",
       "  <thead>\n",
       "    <tr style=\"text-align: right;\">\n",
       "      <th></th>\n",
       "      <th>LADCD</th>\n",
       "      <th>mean_cost</th>\n",
       "      <th>mean_items</th>\n",
       "      <th>mean_quantity</th>\n",
       "    </tr>\n",
       "  </thead>\n",
       "  <tbody>\n",
       "    <tr>\n",
       "      <th>0</th>\n",
       "      <td>E06000001</td>\n",
       "      <td>108     101619.636922\n",
       "109     101619.636922\n",
       "11...</td>\n",
       "      <td>40817.187039</td>\n",
       "      <td>40817.187039</td>\n",
       "    </tr>\n",
       "    <tr>\n",
       "      <th>1</th>\n",
       "      <td>E06000002</td>\n",
       "      <td>84      142445.300314\n",
       "85      142445.300314\n",
       "86...</td>\n",
       "      <td>67789.033360</td>\n",
       "      <td>67789.033360</td>\n",
       "    </tr>\n",
       "    <tr>\n",
       "      <th>2</th>\n",
       "      <td>E06000003</td>\n",
       "      <td>1104    280457.883589\n",
       "1105    280457.883589\n",
       "11...</td>\n",
       "      <td>123064.956839</td>\n",
       "      <td>123064.956839</td>\n",
       "    </tr>\n",
       "    <tr>\n",
       "      <th>3</th>\n",
       "      <td>E06000004</td>\n",
       "      <td>0       318628.888080\n",
       "1       318628.888080\n",
       "2 ...</td>\n",
       "      <td>145097.967983</td>\n",
       "      <td>145097.967983</td>\n",
       "    </tr>\n",
       "    <tr>\n",
       "      <th>4</th>\n",
       "      <td>E06000005</td>\n",
       "      <td>72       148216.298352\n",
       "73       148216.298352\n",
       "...</td>\n",
       "      <td>74896.100519</td>\n",
       "      <td>74896.100519</td>\n",
       "    </tr>\n",
       "    <tr>\n",
       "      <th>...</th>\n",
       "      <td>...</td>\n",
       "      <td>...</td>\n",
       "      <td>...</td>\n",
       "      <td>...</td>\n",
       "    </tr>\n",
       "    <tr>\n",
       "      <th>321</th>\n",
       "      <td>E09000029</td>\n",
       "      <td>156624    215072.978501\n",
       "156625    215072.97850...</td>\n",
       "      <td>88298.956180</td>\n",
       "      <td>88298.956180</td>\n",
       "    </tr>\n",
       "    <tr>\n",
       "      <th>322</th>\n",
       "      <td>E09000030</td>\n",
       "      <td>24396     61227.240587\n",
       "24397     61227.240587\n",
       "...</td>\n",
       "      <td>27335.838718</td>\n",
       "      <td>27335.838718</td>\n",
       "    </tr>\n",
       "    <tr>\n",
       "      <th>323</th>\n",
       "      <td>E09000031</td>\n",
       "      <td>24612     152759.307701\n",
       "24613     152759.30770...</td>\n",
       "      <td>48369.333578</td>\n",
       "      <td>48369.333578</td>\n",
       "    </tr>\n",
       "    <tr>\n",
       "      <th>324</th>\n",
       "      <td>E09000032</td>\n",
       "      <td>24108     247179.690238\n",
       "24109     247179.69023...</td>\n",
       "      <td>64326.248488</td>\n",
       "      <td>64326.248488</td>\n",
       "    </tr>\n",
       "    <tr>\n",
       "      <th>325</th>\n",
       "      <td>E09000033</td>\n",
       "      <td>24384     45776.113969\n",
       "24385     45776.113969\n",
       "...</td>\n",
       "      <td>11811.313249</td>\n",
       "      <td>11811.313249</td>\n",
       "    </tr>\n",
       "  </tbody>\n",
       "</table>\n",
       "<p>326 rows × 4 columns</p>\n",
       "</div>"
      ],
      "text/plain": [
       "         LADCD                                          mean_cost  \\\n",
       "0    E06000001  108     101619.636922\n",
       "109     101619.636922\n",
       "11...   \n",
       "1    E06000002  84      142445.300314\n",
       "85      142445.300314\n",
       "86...   \n",
       "2    E06000003  1104    280457.883589\n",
       "1105    280457.883589\n",
       "11...   \n",
       "3    E06000004  0       318628.888080\n",
       "1       318628.888080\n",
       "2 ...   \n",
       "4    E06000005  72       148216.298352\n",
       "73       148216.298352\n",
       "...   \n",
       "..         ...                                                ...   \n",
       "321  E09000029  156624    215072.978501\n",
       "156625    215072.97850...   \n",
       "322  E09000030  24396     61227.240587\n",
       "24397     61227.240587\n",
       "...   \n",
       "323  E09000031  24612     152759.307701\n",
       "24613     152759.30770...   \n",
       "324  E09000032  24108     247179.690238\n",
       "24109     247179.69023...   \n",
       "325  E09000033  24384     45776.113969\n",
       "24385     45776.113969\n",
       "...   \n",
       "\n",
       "        mean_items  mean_quantity  \n",
       "0     40817.187039   40817.187039  \n",
       "1     67789.033360   67789.033360  \n",
       "2    123064.956839  123064.956839  \n",
       "3    145097.967983  145097.967983  \n",
       "4     74896.100519   74896.100519  \n",
       "..             ...            ...  \n",
       "321   88298.956180   88298.956180  \n",
       "322   27335.838718   27335.838718  \n",
       "323   48369.333578   48369.333578  \n",
       "324   64326.248488   64326.248488  \n",
       "325   11811.313249   11811.313249  \n",
       "\n",
       "[326 rows x 4 columns]"
      ]
     },
     "execution_count": 13,
     "metadata": {},
     "output_type": "execute_result"
    }
   ],
   "source": [
    "LAD_df"
   ]
  },
  {
   "cell_type": "code",
   "execution_count": null,
   "metadata": {
    "ExecuteTime": {
     "start_time": "2021-07-09T21:35:26.796Z"
    }
   },
   "outputs": [],
   "source": [
    "lad_boundries = gpd.read_file('../data_prep/geography/Local_Authority_Districts_(December_2015)_Boundaries.shp')"
   ]
  },
  {
   "cell_type": "code",
   "execution_count": null,
   "metadata": {
    "ExecuteTime": {
     "start_time": "2021-07-09T21:35:27.077Z"
    }
   },
   "outputs": [],
   "source": [
    "lad_boundries.head(n=2)"
   ]
  },
  {
   "cell_type": "code",
   "execution_count": null,
   "metadata": {
    "ExecuteTime": {
     "start_time": "2021-07-09T21:37:18.290Z"
    }
   },
   "outputs": [],
   "source": [
    "LAD_merged = pd.merge(LAD_df , lad_boundries , left_on='LADCD', right_on='lad15cd')"
   ]
  },
  {
   "cell_type": "code",
   "execution_count": 21,
   "metadata": {
    "ExecuteTime": {
     "end_time": "2021-07-09T21:33:05.417000Z",
     "start_time": "2021-07-09T21:33:05.411554Z"
    }
   },
   "outputs": [
    {
     "data": {
      "text/plain": [
       "326"
      ]
     },
     "execution_count": 21,
     "metadata": {},
     "output_type": "execute_result"
    }
   ],
   "source": [
    "len(LAD_merged)"
   ]
  },
  {
   "cell_type": "code",
   "execution_count": 22,
   "metadata": {
    "ExecuteTime": {
     "end_time": "2021-07-09T21:33:22.337744Z",
     "start_time": "2021-07-09T21:33:21.875526Z"
    }
   },
   "outputs": [
    {
     "data": {
      "text/plain": [
       "<matplotlib.axes._subplots.AxesSubplot at 0x7f7f11e5e2b0>"
      ]
     },
     "execution_count": 22,
     "metadata": {},
     "output_type": "execute_result"
    },
    {
     "data": {
      "image/png": "[encoded data removed]",
      "text/plain": [
       "<Figure size 432x288 with 1 Axes>"
      ]
     },
     "metadata": {
      "needs_background": "light"
     },
     "output_type": "display_data"
    }
   ],
   "source": [
    "LAD_merged.plot()"
   ]
  },
  {
   "cell_type": "code",
   "execution_count": null,
   "metadata": {},
   "outputs": [],
   "source": []
  }
 ],
 "metadata": {
  "kernelspec": {
   "display_name": "Python [conda env:root] *",
   "language": "python",
   "name": "conda-root-py"
  },
  "language_info": {
   "codemirror_mode": {
    "name": "ipython",
    "version": 3
   },
   "file_extension": ".py",
   "mimetype": "text/x-python",
   "name": "python",
   "nbconvert_exporter": "python",
   "pygments_lexer": "ipython3",
   "version": "3.7.0"
  }
 },
 "nbformat": 4,
 "nbformat_minor": 2
}
