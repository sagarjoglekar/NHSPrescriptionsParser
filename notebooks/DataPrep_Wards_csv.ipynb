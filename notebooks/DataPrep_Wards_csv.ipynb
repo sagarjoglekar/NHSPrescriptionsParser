{
 "cells": [
  {
   "cell_type": "code",
   "execution_count": 1,
   "metadata": {
    "ExecuteTime": {
     "end_time": "2021-07-09T08:02:41.766568Z",
     "start_time": "2021-07-09T08:02:41.509123Z"
    }
   },
   "outputs": [],
   "source": [
    "import pandas as pd\n",
    "import geopandas as gp \n",
    "import json\n",
    "from glob import glob\n",
    "import numpy as np\n",
    "import numpy as np\n",
    "from tqdm import tqdm"
   ]
  },
  {
   "cell_type": "code",
   "execution_count": 2,
   "metadata": {
    "ExecuteTime": {
     "end_time": "2021-07-09T08:02:41.890727Z",
     "start_time": "2021-07-09T08:02:41.770113Z"
    }
   },
   "outputs": [
    {
     "name": "stderr",
     "output_type": "stream",
     "text": [
      "/work/sagarj/miniconda3/lib/python3.7/site-packages/IPython/core/interactiveshell.py:3051: DtypeWarning: Columns (23,24,25,26,27,28,29,30,31,32,33,34,35) have mixed types. Specify dtype option on import or set low_memory=False.\n",
      "  interactivity=interactivity, compiler=compiler, result=result)\n"
     ]
    }
   ],
   "source": [
    "ward_pop = pd.read_csv('../mappings/ward_pop.csv')"
   ]
  },
  {
   "cell_type": "code",
   "execution_count": 3,
   "metadata": {
    "ExecuteTime": {
     "end_time": "2021-07-09T08:02:42.072220Z",
     "start_time": "2021-07-09T08:02:42.067752Z"
    }
   },
   "outputs": [
    {
     "name": "stdout",
     "output_type": "stream",
     "text": [
      "no stored variable or alias cityMap\n"
     ]
    }
   ],
   "source": [
    "%store -r cityMap"
   ]
  },
  {
   "cell_type": "code",
   "execution_count": 4,
   "metadata": {
    "ExecuteTime": {
     "end_time": "2021-07-09T08:02:43.564494Z",
     "start_time": "2021-07-09T08:02:42.609405Z"
    }
   },
   "outputs": [],
   "source": [
    "population = {}\n",
    "for index, row in ward_pop.iterrows():\n",
    "    population[row['Ward Code 1']] = float(row['All Ages'].replace(',',''))"
   ]
  },
  {
   "cell_type": "code",
   "execution_count": 5,
   "metadata": {
    "ExecuteTime": {
     "end_time": "2021-07-09T08:02:43.601466Z",
     "start_time": "2021-07-09T08:02:43.566274Z"
    }
   },
   "outputs": [],
   "source": [
    "df_LSOA_CITY = pd.read_csv('../mappings/lower_layer_super_output_area_2011_to_major_towns_and_cities_december_2015_lookup_in_england_and_wales.csv')"
   ]
  },
  {
   "cell_type": "code",
   "execution_count": 6,
   "metadata": {
    "ExecuteTime": {
     "end_time": "2021-07-09T08:02:43.762783Z",
     "start_time": "2021-07-09T08:02:43.603515Z"
    }
   },
   "outputs": [],
   "source": [
    "df_LSOA_WARD = pd.read_csv('../mappings/lower_layer_super_output_area_(2011)_to_ward_(2015)_lookup_in_england_and_wales.csv')"
   ]
  },
  {
   "cell_type": "code",
   "execution_count": 7,
   "metadata": {
    "ExecuteTime": {
     "end_time": "2021-07-09T08:02:43.984419Z",
     "start_time": "2021-07-09T08:02:43.959063Z"
    }
   },
   "outputs": [
    {
     "data": {
      "text/html": [
       "<div>\n",
       "<style scoped>\n",
       "    .dataframe tbody tr th:only-of-type {\n",
       "        vertical-align: middle;\n",
       "    }\n",
       "\n",
       "    .dataframe tbody tr th {\n",
       "        vertical-align: top;\n",
       "    }\n",
       "\n",
       "    .dataframe thead th {\n",
       "        text-align: right;\n",
       "    }\n",
       "</style>\n",
       "<table border=\"1\" class=\"dataframe\">\n",
       "  <thead>\n",
       "    <tr style=\"text-align: right;\">\n",
       "      <th></th>\n",
       "      <th>LSOA11CD</th>\n",
       "      <th>LSOA11NM</th>\n",
       "      <th>WD15CD</th>\n",
       "      <th>WD15NM</th>\n",
       "      <th>WD15NMW</th>\n",
       "      <th>LAD15CD</th>\n",
       "      <th>LAD15NM</th>\n",
       "      <th>FID</th>\n",
       "    </tr>\n",
       "  </thead>\n",
       "  <tbody>\n",
       "    <tr>\n",
       "      <th>0</th>\n",
       "      <td>E01000104</td>\n",
       "      <td>Barking and Dagenham 014B</td>\n",
       "      <td>E05000041</td>\n",
       "      <td>Village</td>\n",
       "      <td></td>\n",
       "      <td>E09000002</td>\n",
       "      <td>Barking and Dagenham</td>\n",
       "      <td>1</td>\n",
       "    </tr>\n",
       "    <tr>\n",
       "      <th>1</th>\n",
       "      <td>E01000105</td>\n",
       "      <td>Barking and Dagenham 014C</td>\n",
       "      <td>E05000041</td>\n",
       "      <td>Village</td>\n",
       "      <td></td>\n",
       "      <td>E09000002</td>\n",
       "      <td>Barking and Dagenham</td>\n",
       "      <td>2</td>\n",
       "    </tr>\n",
       "    <tr>\n",
       "      <th>2</th>\n",
       "      <td>E01000106</td>\n",
       "      <td>Barking and Dagenham 014D</td>\n",
       "      <td>E05000041</td>\n",
       "      <td>Village</td>\n",
       "      <td></td>\n",
       "      <td>E09000002</td>\n",
       "      <td>Barking and Dagenham</td>\n",
       "      <td>3</td>\n",
       "    </tr>\n",
       "    <tr>\n",
       "      <th>3</th>\n",
       "      <td>E01000107</td>\n",
       "      <td>Barking and Dagenham 010C</td>\n",
       "      <td>E05000041</td>\n",
       "      <td>Village</td>\n",
       "      <td></td>\n",
       "      <td>E09000002</td>\n",
       "      <td>Barking and Dagenham</td>\n",
       "      <td>4</td>\n",
       "    </tr>\n",
       "    <tr>\n",
       "      <th>4</th>\n",
       "      <td>E01000108</td>\n",
       "      <td>Barking and Dagenham 010D</td>\n",
       "      <td>E05000041</td>\n",
       "      <td>Village</td>\n",
       "      <td></td>\n",
       "      <td>E09000002</td>\n",
       "      <td>Barking and Dagenham</td>\n",
       "      <td>5</td>\n",
       "    </tr>\n",
       "  </tbody>\n",
       "</table>\n",
       "</div>"
      ],
      "text/plain": [
       "    LSOA11CD                   LSOA11NM     WD15CD   WD15NM WD15NMW  \\\n",
       "0  E01000104  Barking and Dagenham 014B  E05000041  Village           \n",
       "1  E01000105  Barking and Dagenham 014C  E05000041  Village           \n",
       "2  E01000106  Barking and Dagenham 014D  E05000041  Village           \n",
       "3  E01000107  Barking and Dagenham 010C  E05000041  Village           \n",
       "4  E01000108  Barking and Dagenham 010D  E05000041  Village           \n",
       "\n",
       "     LAD15CD               LAD15NM  FID  \n",
       "0  E09000002  Barking and Dagenham    1  \n",
       "1  E09000002  Barking and Dagenham    2  \n",
       "2  E09000002  Barking and Dagenham    3  \n",
       "3  E09000002  Barking and Dagenham    4  \n",
       "4  E09000002  Barking and Dagenham    5  "
      ]
     },
     "execution_count": 7,
     "metadata": {},
     "output_type": "execute_result"
    }
   ],
   "source": [
    "df_LSOA_WARD.head()"
   ]
  },
  {
   "cell_type": "code",
   "execution_count": 8,
   "metadata": {
    "ExecuteTime": {
     "end_time": "2021-07-09T08:02:46.187351Z",
     "start_time": "2021-07-09T08:02:46.172726Z"
    }
   },
   "outputs": [
    {
     "data": {
      "text/html": [
       "<div>\n",
       "<style scoped>\n",
       "    .dataframe tbody tr th:only-of-type {\n",
       "        vertical-align: middle;\n",
       "    }\n",
       "\n",
       "    .dataframe tbody tr th {\n",
       "        vertical-align: top;\n",
       "    }\n",
       "\n",
       "    .dataframe thead th {\n",
       "        text-align: right;\n",
       "    }\n",
       "</style>\n",
       "<table border=\"1\" class=\"dataframe\">\n",
       "  <thead>\n",
       "    <tr style=\"text-align: right;\">\n",
       "      <th></th>\n",
       "      <th>LSOA11CD</th>\n",
       "      <th>LSOA11NM</th>\n",
       "      <th>TCITY15CD</th>\n",
       "      <th>TCITY15NM</th>\n",
       "      <th>FID</th>\n",
       "    </tr>\n",
       "  </thead>\n",
       "  <tbody>\n",
       "    <tr>\n",
       "      <th>0</th>\n",
       "      <td>E01002351</td>\n",
       "      <td>Havering 016C</td>\n",
       "      <td>J01000055</td>\n",
       "      <td>London</td>\n",
       "      <td>2001</td>\n",
       "    </tr>\n",
       "    <tr>\n",
       "      <th>1</th>\n",
       "      <td>E01002352</td>\n",
       "      <td>Havering 016D</td>\n",
       "      <td>J01000055</td>\n",
       "      <td>London</td>\n",
       "      <td>2002</td>\n",
       "    </tr>\n",
       "    <tr>\n",
       "      <th>2</th>\n",
       "      <td>E01002100</td>\n",
       "      <td>Haringey 008B</td>\n",
       "      <td>J01000055</td>\n",
       "      <td>London</td>\n",
       "      <td>2003</td>\n",
       "    </tr>\n",
       "    <tr>\n",
       "      <th>3</th>\n",
       "      <td>E01002301</td>\n",
       "      <td>Havering 003A</td>\n",
       "      <td>J01000055</td>\n",
       "      <td>London</td>\n",
       "      <td>2004</td>\n",
       "    </tr>\n",
       "    <tr>\n",
       "      <th>4</th>\n",
       "      <td>E01002353</td>\n",
       "      <td>Havering 013B</td>\n",
       "      <td>J01000055</td>\n",
       "      <td>London</td>\n",
       "      <td>2005</td>\n",
       "    </tr>\n",
       "  </tbody>\n",
       "</table>\n",
       "</div>"
      ],
      "text/plain": [
       "    LSOA11CD       LSOA11NM  TCITY15CD TCITY15NM   FID\n",
       "0  E01002351  Havering 016C  J01000055    London  2001\n",
       "1  E01002352  Havering 016D  J01000055    London  2002\n",
       "2  E01002100  Haringey 008B  J01000055    London  2003\n",
       "3  E01002301  Havering 003A  J01000055    London  2004\n",
       "4  E01002353  Havering 013B  J01000055    London  2005"
      ]
     },
     "execution_count": 8,
     "metadata": {},
     "output_type": "execute_result"
    }
   ],
   "source": [
    "df_LSOA_CITY.head()"
   ]
  },
  {
   "cell_type": "code",
   "execution_count": 9,
   "metadata": {
    "ExecuteTime": {
     "end_time": "2021-07-09T08:02:46.616979Z",
     "start_time": "2021-07-09T08:02:46.548821Z"
    }
   },
   "outputs": [],
   "source": [
    "mega_df = pd.merge(df_LSOA_WARD,df_LSOA_CITY,left_on='LSOA11CD' , right_on='LSOA11CD')"
   ]
  },
  {
   "cell_type": "code",
   "execution_count": 10,
   "metadata": {
    "ExecuteTime": {
     "end_time": "2021-07-09T08:02:50.202265Z",
     "start_time": "2021-07-09T08:02:50.177986Z"
    }
   },
   "outputs": [
    {
     "data": {
      "text/html": [
       "<div>\n",
       "<style scoped>\n",
       "    .dataframe tbody tr th:only-of-type {\n",
       "        vertical-align: middle;\n",
       "    }\n",
       "\n",
       "    .dataframe tbody tr th {\n",
       "        vertical-align: top;\n",
       "    }\n",
       "\n",
       "    .dataframe thead th {\n",
       "        text-align: right;\n",
       "    }\n",
       "</style>\n",
       "<table border=\"1\" class=\"dataframe\">\n",
       "  <thead>\n",
       "    <tr style=\"text-align: right;\">\n",
       "      <th></th>\n",
       "      <th>LSOA11CD</th>\n",
       "      <th>LSOA11NM_x</th>\n",
       "      <th>WD15CD</th>\n",
       "      <th>WD15NM</th>\n",
       "      <th>WD15NMW</th>\n",
       "      <th>LAD15CD</th>\n",
       "      <th>LAD15NM</th>\n",
       "      <th>FID_x</th>\n",
       "      <th>LSOA11NM_y</th>\n",
       "      <th>TCITY15CD</th>\n",
       "      <th>TCITY15NM</th>\n",
       "      <th>FID_y</th>\n",
       "    </tr>\n",
       "  </thead>\n",
       "  <tbody>\n",
       "    <tr>\n",
       "      <th>0</th>\n",
       "      <td>E01000104</td>\n",
       "      <td>Barking and Dagenham 014B</td>\n",
       "      <td>E05000041</td>\n",
       "      <td>Village</td>\n",
       "      <td></td>\n",
       "      <td>E09000002</td>\n",
       "      <td>Barking and Dagenham</td>\n",
       "      <td>1</td>\n",
       "      <td>Barking and Dagenham 014B</td>\n",
       "      <td>J01000055</td>\n",
       "      <td>London</td>\n",
       "      <td>151</td>\n",
       "    </tr>\n",
       "    <tr>\n",
       "      <th>1</th>\n",
       "      <td>E01000105</td>\n",
       "      <td>Barking and Dagenham 014C</td>\n",
       "      <td>E05000041</td>\n",
       "      <td>Village</td>\n",
       "      <td></td>\n",
       "      <td>E09000002</td>\n",
       "      <td>Barking and Dagenham</td>\n",
       "      <td>2</td>\n",
       "      <td>Barking and Dagenham 014C</td>\n",
       "      <td>J01000055</td>\n",
       "      <td>London</td>\n",
       "      <td>152</td>\n",
       "    </tr>\n",
       "    <tr>\n",
       "      <th>2</th>\n",
       "      <td>E01000106</td>\n",
       "      <td>Barking and Dagenham 014D</td>\n",
       "      <td>E05000041</td>\n",
       "      <td>Village</td>\n",
       "      <td></td>\n",
       "      <td>E09000002</td>\n",
       "      <td>Barking and Dagenham</td>\n",
       "      <td>3</td>\n",
       "      <td>Barking and Dagenham 014D</td>\n",
       "      <td>J01000055</td>\n",
       "      <td>London</td>\n",
       "      <td>153</td>\n",
       "    </tr>\n",
       "    <tr>\n",
       "      <th>3</th>\n",
       "      <td>E01000107</td>\n",
       "      <td>Barking and Dagenham 010C</td>\n",
       "      <td>E05000041</td>\n",
       "      <td>Village</td>\n",
       "      <td></td>\n",
       "      <td>E09000002</td>\n",
       "      <td>Barking and Dagenham</td>\n",
       "      <td>4</td>\n",
       "      <td>Barking and Dagenham 010C</td>\n",
       "      <td>J01000055</td>\n",
       "      <td>London</td>\n",
       "      <td>154</td>\n",
       "    </tr>\n",
       "    <tr>\n",
       "      <th>4</th>\n",
       "      <td>E01000108</td>\n",
       "      <td>Barking and Dagenham 010D</td>\n",
       "      <td>E05000041</td>\n",
       "      <td>Village</td>\n",
       "      <td></td>\n",
       "      <td>E09000002</td>\n",
       "      <td>Barking and Dagenham</td>\n",
       "      <td>5</td>\n",
       "      <td>Barking and Dagenham 010D</td>\n",
       "      <td>J01000055</td>\n",
       "      <td>London</td>\n",
       "      <td>155</td>\n",
       "    </tr>\n",
       "  </tbody>\n",
       "</table>\n",
       "</div>"
      ],
      "text/plain": [
       "    LSOA11CD                 LSOA11NM_x     WD15CD   WD15NM WD15NMW  \\\n",
       "0  E01000104  Barking and Dagenham 014B  E05000041  Village           \n",
       "1  E01000105  Barking and Dagenham 014C  E05000041  Village           \n",
       "2  E01000106  Barking and Dagenham 014D  E05000041  Village           \n",
       "3  E01000107  Barking and Dagenham 010C  E05000041  Village           \n",
       "4  E01000108  Barking and Dagenham 010D  E05000041  Village           \n",
       "\n",
       "     LAD15CD               LAD15NM  FID_x                 LSOA11NM_y  \\\n",
       "0  E09000002  Barking and Dagenham      1  Barking and Dagenham 014B   \n",
       "1  E09000002  Barking and Dagenham      2  Barking and Dagenham 014C   \n",
       "2  E09000002  Barking and Dagenham      3  Barking and Dagenham 014D   \n",
       "3  E09000002  Barking and Dagenham      4  Barking and Dagenham 010C   \n",
       "4  E09000002  Barking and Dagenham      5  Barking and Dagenham 010D   \n",
       "\n",
       "   TCITY15CD TCITY15NM  FID_y  \n",
       "0  J01000055    London    151  \n",
       "1  J01000055    London    152  \n",
       "2  J01000055    London    153  \n",
       "3  J01000055    London    154  \n",
       "4  J01000055    London    155  "
      ]
     },
     "execution_count": 10,
     "metadata": {},
     "output_type": "execute_result"
    }
   ],
   "source": [
    "mega_df.head()"
   ]
  },
  {
   "cell_type": "code",
   "execution_count": 11,
   "metadata": {
    "ExecuteTime": {
     "end_time": "2021-07-09T08:02:50.794583Z",
     "start_time": "2021-07-09T08:02:50.766055Z"
    }
   },
   "outputs": [],
   "source": [
    "sub_data = mega_df[['LSOA11CD','WD15CD','WD15NM','LAD15CD','LAD15NM','TCITY15NM']].copy()"
   ]
  },
  {
   "cell_type": "code",
   "execution_count": 12,
   "metadata": {
    "ExecuteTime": {
     "end_time": "2021-07-09T08:02:51.466710Z",
     "start_time": "2021-07-09T08:02:51.458871Z"
    }
   },
   "outputs": [],
   "source": [
    "sub_data.rename(columns={'LAD15NM':'LocalAuthorityName' , 'TCITY15NM':'CityName'},inplace=True)"
   ]
  },
  {
   "cell_type": "code",
   "execution_count": 13,
   "metadata": {
    "ExecuteTime": {
     "end_time": "2021-07-09T08:02:52.127656Z",
     "start_time": "2021-07-09T08:02:52.118763Z"
    }
   },
   "outputs": [],
   "source": [
    "sub_data.CityName = sub_data.CityName.fillna('')"
   ]
  },
  {
   "cell_type": "code",
   "execution_count": 14,
   "metadata": {
    "ExecuteTime": {
     "end_time": "2021-07-09T08:02:54.220324Z",
     "start_time": "2021-07-09T08:02:54.198735Z"
    }
   },
   "outputs": [
    {
     "data": {
      "text/html": [
       "<div>\n",
       "<style scoped>\n",
       "    .dataframe tbody tr th:only-of-type {\n",
       "        vertical-align: middle;\n",
       "    }\n",
       "\n",
       "    .dataframe tbody tr th {\n",
       "        vertical-align: top;\n",
       "    }\n",
       "\n",
       "    .dataframe thead th {\n",
       "        text-align: right;\n",
       "    }\n",
       "</style>\n",
       "<table border=\"1\" class=\"dataframe\">\n",
       "  <thead>\n",
       "    <tr style=\"text-align: right;\">\n",
       "      <th></th>\n",
       "      <th>LSOA11CD</th>\n",
       "      <th>WD15CD</th>\n",
       "      <th>WD15NM</th>\n",
       "      <th>LAD15CD</th>\n",
       "      <th>LocalAuthorityName</th>\n",
       "      <th>CityName</th>\n",
       "    </tr>\n",
       "  </thead>\n",
       "  <tbody>\n",
       "    <tr>\n",
       "      <th>0</th>\n",
       "      <td>E01000104</td>\n",
       "      <td>E05000041</td>\n",
       "      <td>Village</td>\n",
       "      <td>E09000002</td>\n",
       "      <td>Barking and Dagenham</td>\n",
       "      <td>London</td>\n",
       "    </tr>\n",
       "    <tr>\n",
       "      <th>1</th>\n",
       "      <td>E01000105</td>\n",
       "      <td>E05000041</td>\n",
       "      <td>Village</td>\n",
       "      <td>E09000002</td>\n",
       "      <td>Barking and Dagenham</td>\n",
       "      <td>London</td>\n",
       "    </tr>\n",
       "    <tr>\n",
       "      <th>2</th>\n",
       "      <td>E01000106</td>\n",
       "      <td>E05000041</td>\n",
       "      <td>Village</td>\n",
       "      <td>E09000002</td>\n",
       "      <td>Barking and Dagenham</td>\n",
       "      <td>London</td>\n",
       "    </tr>\n",
       "    <tr>\n",
       "      <th>3</th>\n",
       "      <td>E01000107</td>\n",
       "      <td>E05000041</td>\n",
       "      <td>Village</td>\n",
       "      <td>E09000002</td>\n",
       "      <td>Barking and Dagenham</td>\n",
       "      <td>London</td>\n",
       "    </tr>\n",
       "    <tr>\n",
       "      <th>4</th>\n",
       "      <td>E01000108</td>\n",
       "      <td>E05000041</td>\n",
       "      <td>Village</td>\n",
       "      <td>E09000002</td>\n",
       "      <td>Barking and Dagenham</td>\n",
       "      <td>London</td>\n",
       "    </tr>\n",
       "    <tr>\n",
       "      <th>...</th>\n",
       "      <td>...</td>\n",
       "      <td>...</td>\n",
       "      <td>...</td>\n",
       "      <td>...</td>\n",
       "      <td>...</td>\n",
       "      <td>...</td>\n",
       "    </tr>\n",
       "    <tr>\n",
       "      <th>34748</th>\n",
       "      <td>W01001911</td>\n",
       "      <td>W05000635</td>\n",
       "      <td>Castleland</td>\n",
       "      <td>W06000014</td>\n",
       "      <td>Vale of Glamorgan</td>\n",
       "      <td></td>\n",
       "    </tr>\n",
       "    <tr>\n",
       "      <th>34749</th>\n",
       "      <td>W01001860</td>\n",
       "      <td>W05000877</td>\n",
       "      <td>Riverside</td>\n",
       "      <td>W06000015</td>\n",
       "      <td>Cardiff</td>\n",
       "      <td>Cardiff</td>\n",
       "    </tr>\n",
       "    <tr>\n",
       "      <th>34750</th>\n",
       "      <td>W01001753</td>\n",
       "      <td>W05000861</td>\n",
       "      <td>Fairwater</td>\n",
       "      <td>W06000015</td>\n",
       "      <td>Cardiff</td>\n",
       "      <td>Cardiff</td>\n",
       "    </tr>\n",
       "    <tr>\n",
       "      <th>34751</th>\n",
       "      <td>W01001754</td>\n",
       "      <td>W05000861</td>\n",
       "      <td>Fairwater</td>\n",
       "      <td>W06000015</td>\n",
       "      <td>Cardiff</td>\n",
       "      <td>Cardiff</td>\n",
       "    </tr>\n",
       "    <tr>\n",
       "      <th>34752</th>\n",
       "      <td>W01001755</td>\n",
       "      <td>W05000862</td>\n",
       "      <td>Gabalfa</td>\n",
       "      <td>W06000015</td>\n",
       "      <td>Cardiff</td>\n",
       "      <td>Cardiff</td>\n",
       "    </tr>\n",
       "  </tbody>\n",
       "</table>\n",
       "<p>34753 rows × 6 columns</p>\n",
       "</div>"
      ],
      "text/plain": [
       "        LSOA11CD     WD15CD      WD15NM    LAD15CD    LocalAuthorityName  \\\n",
       "0      E01000104  E05000041     Village  E09000002  Barking and Dagenham   \n",
       "1      E01000105  E05000041     Village  E09000002  Barking and Dagenham   \n",
       "2      E01000106  E05000041     Village  E09000002  Barking and Dagenham   \n",
       "3      E01000107  E05000041     Village  E09000002  Barking and Dagenham   \n",
       "4      E01000108  E05000041     Village  E09000002  Barking and Dagenham   \n",
       "...          ...        ...         ...        ...                   ...   \n",
       "34748  W01001911  W05000635  Castleland  W06000014     Vale of Glamorgan   \n",
       "34749  W01001860  W05000877   Riverside  W06000015               Cardiff   \n",
       "34750  W01001753  W05000861   Fairwater  W06000015               Cardiff   \n",
       "34751  W01001754  W05000861   Fairwater  W06000015               Cardiff   \n",
       "34752  W01001755  W05000862     Gabalfa  W06000015               Cardiff   \n",
       "\n",
       "      CityName  \n",
       "0       London  \n",
       "1       London  \n",
       "2       London  \n",
       "3       London  \n",
       "4       London  \n",
       "...        ...  \n",
       "34748           \n",
       "34749  Cardiff  \n",
       "34750  Cardiff  \n",
       "34751  Cardiff  \n",
       "34752  Cardiff  \n",
       "\n",
       "[34753 rows x 6 columns]"
      ]
     },
     "execution_count": 14,
     "metadata": {},
     "output_type": "execute_result"
    }
   ],
   "source": [
    "sub_data"
   ]
  },
  {
   "cell_type": "code",
   "execution_count": 15,
   "metadata": {
    "ExecuteTime": {
     "end_time": "2021-07-09T08:02:56.675030Z",
     "start_time": "2021-07-09T08:02:56.638035Z"
    }
   },
   "outputs": [],
   "source": [
    "pop = pd.read_csv('../mappings/2015_england_pop.csv',thousands=',')"
   ]
  },
  {
   "cell_type": "code",
   "execution_count": 16,
   "metadata": {
    "ExecuteTime": {
     "end_time": "2021-07-09T08:02:58.309656Z",
     "start_time": "2021-07-09T08:02:58.298902Z"
    }
   },
   "outputs": [
    {
     "data": {
      "text/html": [
       "<div>\n",
       "<style scoped>\n",
       "    .dataframe tbody tr th:only-of-type {\n",
       "        vertical-align: middle;\n",
       "    }\n",
       "\n",
       "    .dataframe tbody tr th {\n",
       "        vertical-align: top;\n",
       "    }\n",
       "\n",
       "    .dataframe thead th {\n",
       "        text-align: right;\n",
       "    }\n",
       "</style>\n",
       "<table border=\"1\" class=\"dataframe\">\n",
       "  <thead>\n",
       "    <tr style=\"text-align: right;\">\n",
       "      <th></th>\n",
       "      <th>Area Codes</th>\n",
       "      <th>All Ages</th>\n",
       "    </tr>\n",
       "  </thead>\n",
       "  <tbody>\n",
       "    <tr>\n",
       "      <th>0</th>\n",
       "      <td>E06000047</td>\n",
       "      <td>519695</td>\n",
       "    </tr>\n",
       "    <tr>\n",
       "      <th>1</th>\n",
       "      <td>E01020634</td>\n",
       "      <td>1521</td>\n",
       "    </tr>\n",
       "    <tr>\n",
       "      <th>2</th>\n",
       "      <td>E01020635</td>\n",
       "      <td>1307</td>\n",
       "    </tr>\n",
       "  </tbody>\n",
       "</table>\n",
       "</div>"
      ],
      "text/plain": [
       "  Area Codes  All Ages\n",
       "0  E06000047    519695\n",
       "1  E01020634      1521\n",
       "2  E01020635      1307"
      ]
     },
     "execution_count": 16,
     "metadata": {},
     "output_type": "execute_result"
    }
   ],
   "source": [
    "pop.head(n=3)"
   ]
  },
  {
   "cell_type": "code",
   "execution_count": 17,
   "metadata": {
    "ExecuteTime": {
     "end_time": "2021-07-09T08:02:59.282871Z",
     "start_time": "2021-07-09T08:02:59.246055Z"
    }
   },
   "outputs": [],
   "source": [
    "final_sub = pd.merge(sub_data,pop,left_on='LSOA11CD',right_on='Area Codes')"
   ]
  },
  {
   "cell_type": "code",
   "execution_count": 18,
   "metadata": {
    "ExecuteTime": {
     "end_time": "2021-07-09T08:03:01.664481Z",
     "start_time": "2021-07-09T08:03:01.658962Z"
    }
   },
   "outputs": [
    {
     "data": {
      "text/plain": [
       "34753"
      ]
     },
     "execution_count": 18,
     "metadata": {},
     "output_type": "execute_result"
    }
   ],
   "source": [
    "len(final_sub)"
   ]
  },
  {
   "cell_type": "code",
   "execution_count": 19,
   "metadata": {
    "ExecuteTime": {
     "end_time": "2021-07-09T08:03:05.371103Z",
     "start_time": "2021-07-09T08:03:05.177856Z"
    }
   },
   "outputs": [],
   "source": [
    "final_sub.to_csv('../data_prep/Wards.csv')"
   ]
  },
  {
   "cell_type": "code",
   "execution_count": 20,
   "metadata": {
    "ExecuteTime": {
     "end_time": "2021-07-09T08:03:33.095463Z",
     "start_time": "2021-07-09T08:03:33.092069Z"
    }
   },
   "outputs": [],
   "source": [
    "# LSOA_dist = json.load(open('../mappings/GP_LSOA_PATIENTSDIST.json','rb'))"
   ]
  },
  {
   "cell_type": "code",
   "execution_count": 21,
   "metadata": {
    "ExecuteTime": {
     "end_time": "2021-07-09T08:03:33.208700Z",
     "start_time": "2021-07-09T08:03:33.157177Z"
    }
   },
   "outputs": [],
   "source": [
    "# LSOA_dist_2021 = json.load(open('mappings/GP_LSOA_PATIENTSDIST_2021.json','rb'))"
   ]
  },
  {
   "cell_type": "code",
   "execution_count": 22,
   "metadata": {
    "ExecuteTime": {
     "end_time": "2021-07-09T08:03:33.453060Z",
     "start_time": "2021-07-09T08:03:33.449626Z"
    }
   },
   "outputs": [],
   "source": [
    "# LSOA_dist['Y02811'].values()"
   ]
  },
  {
   "cell_type": "code",
   "execution_count": 31,
   "metadata": {
    "ExecuteTime": {
     "end_time": "2021-07-09T08:12:51.417999Z",
     "start_time": "2021-07-09T08:12:51.006499Z"
    }
   },
   "outputs": [],
   "source": [
    "#This file comes from here https://digital.nhs.uk/data-and-information/publications/statistical/patients-registered-at-a-gp-practice.\n",
    "# LSOA_dist_new = pd.read_csv('mappings/gp-reg-pat-prac-lsoa-all.csv')\n",
    "LSOA_dist_new = pd.read_csv('../mappings/gp-reg-patients-04-2014-totals-lsoa-alt.csv')"
   ]
  },
  {
   "cell_type": "code",
   "execution_count": 32,
   "metadata": {
    "ExecuteTime": {
     "end_time": "2021-07-09T08:12:52.259591Z",
     "start_time": "2021-07-09T08:12:52.255487Z"
    }
   },
   "outputs": [
    {
     "data": {
      "text/plain": [
       "Index(['PRACTICE_CODE', 'ORG_NAME', 'LSOA_CODE', 'Male Patients',\n",
       "       'Female Patients', 'All Patients'],\n",
       "      dtype='object')"
      ]
     },
     "execution_count": 32,
     "metadata": {},
     "output_type": "execute_result"
    }
   ],
   "source": [
    "LSOA_dist_new.columns"
   ]
  },
  {
   "cell_type": "code",
   "execution_count": 33,
   "metadata": {
    "ExecuteTime": {
     "end_time": "2021-07-09T08:12:56.481422Z",
     "start_time": "2021-07-09T08:12:56.466135Z"
    }
   },
   "outputs": [
    {
     "data": {
      "text/html": [
       "<div>\n",
       "<style scoped>\n",
       "    .dataframe tbody tr th:only-of-type {\n",
       "        vertical-align: middle;\n",
       "    }\n",
       "\n",
       "    .dataframe tbody tr th {\n",
       "        vertical-align: top;\n",
       "    }\n",
       "\n",
       "    .dataframe thead th {\n",
       "        text-align: right;\n",
       "    }\n",
       "</style>\n",
       "<table border=\"1\" class=\"dataframe\">\n",
       "  <thead>\n",
       "    <tr style=\"text-align: right;\">\n",
       "      <th></th>\n",
       "      <th>PRACTICE_CODE</th>\n",
       "      <th>ORG_NAME</th>\n",
       "      <th>LSOA_CODE</th>\n",
       "      <th>Male Patients</th>\n",
       "      <th>Female Patients</th>\n",
       "      <th>All Patients</th>\n",
       "    </tr>\n",
       "  </thead>\n",
       "  <tbody>\n",
       "    <tr>\n",
       "      <th>0</th>\n",
       "      <td>A81001</td>\n",
       "      <td>THE DENSHAM SURGERY</td>\n",
       "      <td>E01012187</td>\n",
       "      <td>0</td>\n",
       "      <td>4</td>\n",
       "      <td>4</td>\n",
       "    </tr>\n",
       "    <tr>\n",
       "      <th>1</th>\n",
       "      <td>A81001</td>\n",
       "      <td>THE DENSHAM SURGERY</td>\n",
       "      <td>E01012188</td>\n",
       "      <td>43</td>\n",
       "      <td>48</td>\n",
       "      <td>91</td>\n",
       "    </tr>\n",
       "    <tr>\n",
       "      <th>2</th>\n",
       "      <td>A81001</td>\n",
       "      <td>THE DENSHAM SURGERY</td>\n",
       "      <td>E01012189</td>\n",
       "      <td>26</td>\n",
       "      <td>32</td>\n",
       "      <td>58</td>\n",
       "    </tr>\n",
       "    <tr>\n",
       "      <th>3</th>\n",
       "      <td>A81001</td>\n",
       "      <td>THE DENSHAM SURGERY</td>\n",
       "      <td>E01012190</td>\n",
       "      <td>68</td>\n",
       "      <td>86</td>\n",
       "      <td>154</td>\n",
       "    </tr>\n",
       "    <tr>\n",
       "      <th>4</th>\n",
       "      <td>A81001</td>\n",
       "      <td>THE DENSHAM SURGERY</td>\n",
       "      <td>E01012191</td>\n",
       "      <td>72</td>\n",
       "      <td>90</td>\n",
       "      <td>162</td>\n",
       "    </tr>\n",
       "  </tbody>\n",
       "</table>\n",
       "</div>"
      ],
      "text/plain": [
       "  PRACTICE_CODE             ORG_NAME  LSOA_CODE  Male Patients  \\\n",
       "0        A81001  THE DENSHAM SURGERY  E01012187              0   \n",
       "1        A81001  THE DENSHAM SURGERY  E01012188             43   \n",
       "2        A81001  THE DENSHAM SURGERY  E01012189             26   \n",
       "3        A81001  THE DENSHAM SURGERY  E01012190             68   \n",
       "4        A81001  THE DENSHAM SURGERY  E01012191             72   \n",
       "\n",
       "   Female Patients  All Patients  \n",
       "0                4             4  \n",
       "1               48            91  \n",
       "2               32            58  \n",
       "3               86           154  \n",
       "4               90           162  "
      ]
     },
     "execution_count": 33,
     "metadata": {},
     "output_type": "execute_result"
    }
   ],
   "source": [
    "LSOA_dist_new.head()"
   ]
  },
  {
   "cell_type": "code",
   "execution_count": 58,
   "metadata": {
    "ExecuteTime": {
     "end_time": "2021-07-09T08:24:17.549391Z",
     "start_time": "2021-07-09T08:23:01.206004Z"
    }
   },
   "outputs": [
    {
     "name": "stderr",
     "output_type": "stream",
     "text": [
      "100%|██████████| 7997/7997 [01:15<00:00, 105.28it/s]\n"
     ]
    }
   ],
   "source": [
    "LSOA_dist_2013 = {}\n",
    "for name , group in tqdm(LSOA_dist_new.groupby('PRACTICE_CODE')):\n",
    "    LSOA_dist_2013[name] = {}\n",
    "    total = sum(group['All Patients'])\n",
    "    LSOA_dist_2013[name]['Patient_registry_LSOA'] = {}\n",
    "    LSOA_dist_2013[name]['Total_patients'] = total\n",
    "    LSOA_dist_2013[name]['GP_Name'] = group['ORG_NAME'].iloc[0]\n",
    "    LSOA_dist_2013[name]['GP_Postcode'] = ''\n",
    "    LSOA_dist_2013[name]['GP_Address'] = ''\n",
    "    for index , row in group.iterrows():\n",
    "        LSOA_dist_2013[name]['Patient_registry_LSOA'][row['LSOA_CODE']] = float(row['All Patients'])"
   ]
  },
  {
   "cell_type": "code",
   "execution_count": null,
   "metadata": {},
   "outputs": [],
   "source": []
  },
  {
   "cell_type": "code",
   "execution_count": 59,
   "metadata": {
    "ExecuteTime": {
     "end_time": "2021-07-09T08:24:18.396157Z",
     "start_time": "2021-07-09T08:24:18.392985Z"
    }
   },
   "outputs": [],
   "source": [
    "# LSOA_dist_2021 = {}\n",
    "# for name , group in tqdm(LSOA_dist_new.groupby('PRACTICE_CODE')):\n",
    "#     LSOA_dist_2021[name] = {}\n",
    "#     total = sum(group['Number of Patients'])\n",
    "#     LSOA_dist_2021[name]['Patient_registry_LSOA'] = {}\n",
    "#     LSOA_dist_2021[name]['Total_patients'] = total\n",
    "#     LSOA_dist_2021[name]['GP_Name'] = group['PRACTICE_NAME'].iloc[0]\n",
    "#     LSOA_dist_2021[name]['GP_Postcode'] = ''\n",
    "#     LSOA_dist_2021[name]['GP_Address'] = ''\n",
    "#     for index , row in group.iterrows():\n",
    "#         LSOA_dist_2021[name]['Patient_registry_LSOA'][row['LSOA_CODE']] = float(row['Number of Patients'])"
   ]
  },
  {
   "cell_type": "code",
   "execution_count": 60,
   "metadata": {
    "ExecuteTime": {
     "end_time": "2021-07-09T08:24:18.929742Z",
     "start_time": "2021-07-09T08:24:18.821537Z"
    }
   },
   "outputs": [
    {
     "data": {
      "text/plain": [
       "56442636"
      ]
     },
     "execution_count": 60,
     "metadata": {},
     "output_type": "execute_result"
    }
   ],
   "source": [
    "sum(LSOA_dist_new['All Patients'])"
   ]
  },
  {
   "cell_type": "code",
   "execution_count": 61,
   "metadata": {
    "ExecuteTime": {
     "end_time": "2021-07-09T08:24:19.471616Z",
     "start_time": "2021-07-09T08:24:19.468606Z"
    }
   },
   "outputs": [],
   "source": [
    "# LSOA_dist_new_codes = LSOA_dist_2013.keys()\n",
    "# LSOA_dist_codes = LSOA_dist.keys()\n",
    "# print(len(set(LSOA_dist_new_codes).intersection(LSOA_dist_codes))) , print(len(LSOA_dist_new_codes)) , print(len(LSOA_dist_codes))"
   ]
  },
  {
   "cell_type": "code",
   "execution_count": 63,
   "metadata": {
    "ExecuteTime": {
     "end_time": "2021-07-09T08:25:47.072877Z",
     "start_time": "2021-07-09T08:24:45.165265Z"
    }
   },
   "outputs": [
    {
     "name": "stderr",
     "output_type": "stream",
     "text": [
      "/work/sagarj/miniconda3/lib/python3.7/site-packages/IPython/core/interactiveshell.py:3051: DtypeWarning: Columns (7) have mixed types. Specify dtype option on import or set low_memory=False.\n",
      "  interactivity=interactivity, compiler=compiler, result=result)\n"
     ]
    }
   ],
   "source": [
    "presc1 = pd.read_csv('/datasets/sagarj/NHS_serialized_data/201401.gz',compression='gzip')"
   ]
  },
  {
   "cell_type": "code",
   "execution_count": 64,
   "metadata": {
    "ExecuteTime": {
     "end_time": "2021-07-09T08:25:47.077056Z",
     "start_time": "2021-07-09T08:25:47.074918Z"
    }
   },
   "outputs": [],
   "source": [
    "# presc2 = pd.read_csv('/datasets/sagarj/NHS_serialized_data/202101.gz',compression='gzip')"
   ]
  },
  {
   "cell_type": "code",
   "execution_count": 65,
   "metadata": {
    "ExecuteTime": {
     "end_time": "2021-07-09T08:25:47.193233Z",
     "start_time": "2021-07-09T08:25:47.078899Z"
    }
   },
   "outputs": [],
   "source": [
    "# presc2.head(n=2)"
   ]
  },
  {
   "cell_type": "code",
   "execution_count": 66,
   "metadata": {
    "ExecuteTime": {
     "end_time": "2021-07-09T08:25:47.294587Z",
     "start_time": "2021-07-09T08:25:47.195296Z"
    }
   },
   "outputs": [
    {
     "data": {
      "text/html": [
       "<div>\n",
       "<style scoped>\n",
       "    .dataframe tbody tr th:only-of-type {\n",
       "        vertical-align: middle;\n",
       "    }\n",
       "\n",
       "    .dataframe tbody tr th {\n",
       "        vertical-align: top;\n",
       "    }\n",
       "\n",
       "    .dataframe thead th {\n",
       "        text-align: right;\n",
       "    }\n",
       "</style>\n",
       "<table border=\"1\" class=\"dataframe\">\n",
       "  <thead>\n",
       "    <tr style=\"text-align: right;\">\n",
       "      <th></th>\n",
       "      <th>Unnamed: 0</th>\n",
       "      <th>YEAR_MONTH</th>\n",
       "      <th>REGIONAL_OFFICE_NAME</th>\n",
       "      <th>REGIONAL_OFFICE_CODE</th>\n",
       "      <th>STP_NAME</th>\n",
       "      <th>STP_CODE</th>\n",
       "      <th>PCO_NAME</th>\n",
       "      <th>PCO_CODE</th>\n",
       "      <th>PRACTICE_NAME</th>\n",
       "      <th>PRACTICE_CODE</th>\n",
       "      <th>...</th>\n",
       "      <th>NIC</th>\n",
       "      <th>ACTUAL_COST</th>\n",
       "      <th>UNIDENTIFIED</th>\n",
       "      <th>15</th>\n",
       "      <th>16</th>\n",
       "      <th>17</th>\n",
       "      <th>18</th>\n",
       "      <th>19</th>\n",
       "      <th>20</th>\n",
       "      <th>21</th>\n",
       "    </tr>\n",
       "  </thead>\n",
       "  <tbody>\n",
       "    <tr>\n",
       "      <th>0</th>\n",
       "      <td>0</td>\n",
       "      <td>202102</td>\n",
       "      <td>SOUTH EAST</td>\n",
       "      <td>Y59</td>\n",
       "      <td>BUCKS, OXFORDSHIRE &amp; BERKSHIRE WEST STP</td>\n",
       "      <td>QU9</td>\n",
       "      <td>OXFORDSHIRE CCG</td>\n",
       "      <td>10Q00</td>\n",
       "      <td>MORLAND HOUSE SURGERY</td>\n",
       "      <td>K84014</td>\n",
       "      <td>...</td>\n",
       "      <td>6.66</td>\n",
       "      <td>6.21560</td>\n",
       "      <td>N</td>\n",
       "      <td>0.0</td>\n",
       "      <td>130201100</td>\n",
       "      <td>500.0</td>\n",
       "      <td>1.0</td>\n",
       "      <td>500.0</td>\n",
       "      <td>BB</td>\n",
       "      <td>0.0</td>\n",
       "    </tr>\n",
       "    <tr>\n",
       "      <th>1</th>\n",
       "      <td>1</td>\n",
       "      <td>202102</td>\n",
       "      <td>SOUTH EAST</td>\n",
       "      <td>Y59</td>\n",
       "      <td>BUCKS, OXFORDSHIRE &amp; BERKSHIRE WEST STP</td>\n",
       "      <td>QU9</td>\n",
       "      <td>OXFORDSHIRE CCG</td>\n",
       "      <td>10Q00</td>\n",
       "      <td>MORLAND HOUSE SURGERY</td>\n",
       "      <td>K84014</td>\n",
       "      <td>...</td>\n",
       "      <td>7.10</td>\n",
       "      <td>6.62542</td>\n",
       "      <td>N</td>\n",
       "      <td>0.0</td>\n",
       "      <td>130201100</td>\n",
       "      <td>400.0</td>\n",
       "      <td>1.0</td>\n",
       "      <td>400.0</td>\n",
       "      <td>BB</td>\n",
       "      <td>0.0</td>\n",
       "    </tr>\n",
       "  </tbody>\n",
       "</table>\n",
       "<p>2 rows × 34 columns</p>\n",
       "</div>"
      ],
      "text/plain": [
       "   Unnamed: 0  YEAR_MONTH REGIONAL_OFFICE_NAME REGIONAL_OFFICE_CODE  \\\n",
       "0           0      202102           SOUTH EAST                  Y59   \n",
       "1           1      202102           SOUTH EAST                  Y59   \n",
       "\n",
       "                                  STP_NAME STP_CODE         PCO_NAME PCO_CODE  \\\n",
       "0  BUCKS, OXFORDSHIRE & BERKSHIRE WEST STP      QU9  OXFORDSHIRE CCG    10Q00   \n",
       "1  BUCKS, OXFORDSHIRE & BERKSHIRE WEST STP      QU9  OXFORDSHIRE CCG    10Q00   \n",
       "\n",
       "           PRACTICE_NAME PRACTICE_CODE  ...   NIC ACTUAL_COST UNIDENTIFIED  \\\n",
       "0  MORLAND HOUSE SURGERY        K84014  ...  6.66     6.21560            N   \n",
       "1  MORLAND HOUSE SURGERY        K84014  ...  7.10     6.62542            N   \n",
       "\n",
       "    15         16     17   18     19  20   21  \n",
       "0  0.0  130201100  500.0  1.0  500.0  BB  0.0  \n",
       "1  0.0  130201100  400.0  1.0  400.0  BB  0.0  \n",
       "\n",
       "[2 rows x 34 columns]"
      ]
     },
     "execution_count": 66,
     "metadata": {},
     "output_type": "execute_result"
    }
   ],
   "source": [
    "presc1.head(n=2)"
   ]
  },
  {
   "cell_type": "code",
   "execution_count": 67,
   "metadata": {
    "ExecuteTime": {
     "end_time": "2021-07-09T08:25:50.113101Z",
     "start_time": "2021-07-09T08:25:47.296591Z"
    }
   },
   "outputs": [],
   "source": [
    "# filter_new_presc_new_codes = presc2[presc2['PRACTICE_CODE'].isin(LSOA_dist_new_codes)]\n",
    "# filter_new_presc_old_codes = presc2[presc2['PRACTICE_CODE'].isin(LSOA_dist_codes)]\n",
    "# filter_old_presc_new_codes = presc1[presc1['PRACTICE_CODE'].isin(LSOA_dist_new_codes)]\n",
    "filter_old_presc_old_codes = presc1[presc1['PRACTICE_CODE'].isin(LSOA_dist_2013)]"
   ]
  },
  {
   "cell_type": "code",
   "execution_count": 68,
   "metadata": {
    "ExecuteTime": {
     "end_time": "2021-07-09T08:25:50.116936Z",
     "start_time": "2021-07-09T08:25:50.114714Z"
    }
   },
   "outputs": [],
   "source": [
    "# filter_old_presc_old_codes['2'].nunique() , filter_old_presc_new_codes['2'].nunique() "
   ]
  },
  {
   "cell_type": "code",
   "execution_count": 69,
   "metadata": {
    "ExecuteTime": {
     "end_time": "2021-07-09T08:25:50.235032Z",
     "start_time": "2021-07-09T08:25:50.118682Z"
    }
   },
   "outputs": [],
   "source": [
    "# filter_new_presc_old_codes['PRACTICE_CODE'].nunique() , filter_new_presc_new_codes['PRACTICE_CODE'].nunique() "
   ]
  },
  {
   "cell_type": "code",
   "execution_count": 70,
   "metadata": {
    "ExecuteTime": {
     "end_time": "2021-07-09T08:25:50.306908Z",
     "start_time": "2021-07-09T08:25:50.237163Z"
    }
   },
   "outputs": [],
   "source": [
    "# presc2.columns"
   ]
  },
  {
   "cell_type": "code",
   "execution_count": 71,
   "metadata": {
    "ExecuteTime": {
     "end_time": "2021-07-09T08:25:50.837806Z",
     "start_time": "2021-07-09T08:25:50.309320Z"
    }
   },
   "outputs": [
    {
     "data": {
      "text/html": [
       "<div>\n",
       "<style scoped>\n",
       "    .dataframe tbody tr th:only-of-type {\n",
       "        vertical-align: middle;\n",
       "    }\n",
       "\n",
       "    .dataframe tbody tr th {\n",
       "        vertical-align: top;\n",
       "    }\n",
       "\n",
       "    .dataframe thead th {\n",
       "        text-align: right;\n",
       "    }\n",
       "</style>\n",
       "<table border=\"1\" class=\"dataframe\">\n",
       "  <thead>\n",
       "    <tr style=\"text-align: right;\">\n",
       "      <th></th>\n",
       "      <th>PRACTICE_CODE</th>\n",
       "      <th>ADDRESS_1</th>\n",
       "      <th>ADDRESS_2</th>\n",
       "      <th>ADDRESS_3</th>\n",
       "      <th>ADDRESS_4</th>\n",
       "      <th>POSTCODE</th>\n",
       "    </tr>\n",
       "  </thead>\n",
       "  <tbody>\n",
       "    <tr>\n",
       "      <th>0</th>\n",
       "      <td>K84014</td>\n",
       "      <td>MORLAND HOUSE SURGERY</td>\n",
       "      <td>LONDON ROAD, WHEATLEY</td>\n",
       "      <td>OXFORD</td>\n",
       "      <td>OXFORDSHIRE</td>\n",
       "      <td>OX33 1YJ</td>\n",
       "    </tr>\n",
       "    <tr>\n",
       "      <th>1</th>\n",
       "      <td>K84014</td>\n",
       "      <td>MORLAND HOUSE SURGERY</td>\n",
       "      <td>LONDON ROAD, WHEATLEY</td>\n",
       "      <td>OXFORD</td>\n",
       "      <td>OXFORDSHIRE</td>\n",
       "      <td>OX33 1YJ</td>\n",
       "    </tr>\n",
       "    <tr>\n",
       "      <th>2</th>\n",
       "      <td>K84014</td>\n",
       "      <td>MORLAND HOUSE SURGERY</td>\n",
       "      <td>LONDON ROAD, WHEATLEY</td>\n",
       "      <td>OXFORD</td>\n",
       "      <td>OXFORDSHIRE</td>\n",
       "      <td>OX33 1YJ</td>\n",
       "    </tr>\n",
       "    <tr>\n",
       "      <th>3</th>\n",
       "      <td>K84014</td>\n",
       "      <td>MORLAND HOUSE SURGERY</td>\n",
       "      <td>LONDON ROAD, WHEATLEY</td>\n",
       "      <td>OXFORD</td>\n",
       "      <td>OXFORDSHIRE</td>\n",
       "      <td>OX33 1YJ</td>\n",
       "    </tr>\n",
       "    <tr>\n",
       "      <th>4</th>\n",
       "      <td>K84014</td>\n",
       "      <td>MORLAND HOUSE SURGERY</td>\n",
       "      <td>LONDON ROAD, WHEATLEY</td>\n",
       "      <td>OXFORD</td>\n",
       "      <td>OXFORDSHIRE</td>\n",
       "      <td>OX33 1YJ</td>\n",
       "    </tr>\n",
       "    <tr>\n",
       "      <th>...</th>\n",
       "      <td>...</td>\n",
       "      <td>...</td>\n",
       "      <td>...</td>\n",
       "      <td>...</td>\n",
       "      <td>...</td>\n",
       "      <td>...</td>\n",
       "    </tr>\n",
       "    <tr>\n",
       "      <th>13142278</th>\n",
       "      <td>M85156</td>\n",
       "      <td>RIVER BROOK MEDICAL CTRE</td>\n",
       "      <td>3 RIVER BROOK DRIVE</td>\n",
       "      <td>STIRCHLEY</td>\n",
       "      <td>BIRMINGHAM</td>\n",
       "      <td>B30 2SH</td>\n",
       "    </tr>\n",
       "    <tr>\n",
       "      <th>13142279</th>\n",
       "      <td>M85156</td>\n",
       "      <td>RIVER BROOK MEDICAL CTRE</td>\n",
       "      <td>3 RIVER BROOK DRIVE</td>\n",
       "      <td>STIRCHLEY</td>\n",
       "      <td>BIRMINGHAM</td>\n",
       "      <td>B30 2SH</td>\n",
       "    </tr>\n",
       "    <tr>\n",
       "      <th>13142280</th>\n",
       "      <td>M85156</td>\n",
       "      <td>RIVER BROOK MEDICAL CTRE</td>\n",
       "      <td>3 RIVER BROOK DRIVE</td>\n",
       "      <td>STIRCHLEY</td>\n",
       "      <td>BIRMINGHAM</td>\n",
       "      <td>B30 2SH</td>\n",
       "    </tr>\n",
       "    <tr>\n",
       "      <th>13142281</th>\n",
       "      <td>M85156</td>\n",
       "      <td>RIVER BROOK MEDICAL CTRE</td>\n",
       "      <td>3 RIVER BROOK DRIVE</td>\n",
       "      <td>STIRCHLEY</td>\n",
       "      <td>BIRMINGHAM</td>\n",
       "      <td>B30 2SH</td>\n",
       "    </tr>\n",
       "    <tr>\n",
       "      <th>13142282</th>\n",
       "      <td>M85156</td>\n",
       "      <td>RIVER BROOK MEDICAL CTRE</td>\n",
       "      <td>3 RIVER BROOK DRIVE</td>\n",
       "      <td>STIRCHLEY</td>\n",
       "      <td>BIRMINGHAM</td>\n",
       "      <td>B30 2SH</td>\n",
       "    </tr>\n",
       "  </tbody>\n",
       "</table>\n",
       "<p>13142283 rows × 6 columns</p>\n",
       "</div>"
      ],
      "text/plain": [
       "         PRACTICE_CODE                 ADDRESS_1              ADDRESS_2  \\\n",
       "0               K84014     MORLAND HOUSE SURGERY  LONDON ROAD, WHEATLEY   \n",
       "1               K84014     MORLAND HOUSE SURGERY  LONDON ROAD, WHEATLEY   \n",
       "2               K84014     MORLAND HOUSE SURGERY  LONDON ROAD, WHEATLEY   \n",
       "3               K84014     MORLAND HOUSE SURGERY  LONDON ROAD, WHEATLEY   \n",
       "4               K84014     MORLAND HOUSE SURGERY  LONDON ROAD, WHEATLEY   \n",
       "...                ...                       ...                    ...   \n",
       "13142278        M85156  RIVER BROOK MEDICAL CTRE    3 RIVER BROOK DRIVE   \n",
       "13142279        M85156  RIVER BROOK MEDICAL CTRE    3 RIVER BROOK DRIVE   \n",
       "13142280        M85156  RIVER BROOK MEDICAL CTRE    3 RIVER BROOK DRIVE   \n",
       "13142281        M85156  RIVER BROOK MEDICAL CTRE    3 RIVER BROOK DRIVE   \n",
       "13142282        M85156  RIVER BROOK MEDICAL CTRE    3 RIVER BROOK DRIVE   \n",
       "\n",
       "          ADDRESS_3    ADDRESS_4  POSTCODE  \n",
       "0            OXFORD  OXFORDSHIRE  OX33 1YJ  \n",
       "1            OXFORD  OXFORDSHIRE  OX33 1YJ  \n",
       "2            OXFORD  OXFORDSHIRE  OX33 1YJ  \n",
       "3            OXFORD  OXFORDSHIRE  OX33 1YJ  \n",
       "4            OXFORD  OXFORDSHIRE  OX33 1YJ  \n",
       "...             ...          ...       ...  \n",
       "13142278  STIRCHLEY   BIRMINGHAM   B30 2SH  \n",
       "13142279  STIRCHLEY   BIRMINGHAM   B30 2SH  \n",
       "13142280  STIRCHLEY   BIRMINGHAM   B30 2SH  \n",
       "13142281  STIRCHLEY   BIRMINGHAM   B30 2SH  \n",
       "13142282  STIRCHLEY   BIRMINGHAM   B30 2SH  \n",
       "\n",
       "[13142283 rows x 6 columns]"
      ]
     },
     "execution_count": 71,
     "metadata": {},
     "output_type": "execute_result"
    }
   ],
   "source": [
    "presc1[['PRACTICE_CODE' , 'ADDRESS_1' , 'ADDRESS_2' , 'ADDRESS_3', 'ADDRESS_4', 'POSTCODE']]"
   ]
  },
  {
   "cell_type": "code",
   "execution_count": 72,
   "metadata": {
    "ExecuteTime": {
     "end_time": "2021-07-09T08:25:56.676460Z",
     "start_time": "2021-07-09T08:25:50.839557Z"
    }
   },
   "outputs": [
    {
     "name": "stderr",
     "output_type": "stream",
     "text": [
      "100%|██████████| 5106/5106 [00:05<00:00, 1008.73it/s]\n"
     ]
    }
   ],
   "source": [
    "GP_address = {}\n",
    "for name , group in tqdm(presc1.groupby('PRACTICE_CODE')):\n",
    "    GP_address[name] = {}\n",
    "    GP_address[name]['GP_Postcode'] = group['POSTCODE'].iloc[0]\n",
    "    GP_address[name]['GP_Address'] = ' '.join([group['ADDRESS_1'].iloc[0] ,group['ADDRESS_2'].iloc[0] ,group['ADDRESS_3'].iloc[0] ,group['ADDRESS_4'].iloc[0] ])"
   ]
  },
  {
   "cell_type": "code",
   "execution_count": 73,
   "metadata": {
    "ExecuteTime": {
     "end_time": "2021-07-09T08:25:56.689238Z",
     "start_time": "2021-07-09T08:25:56.677990Z"
    }
   },
   "outputs": [
    {
     "name": "stderr",
     "output_type": "stream",
     "text": [
      "100%|██████████| 5106/5106 [00:00<00:00, 896221.80it/s]\n"
     ]
    }
   ],
   "source": [
    "for k in tqdm(GP_address):\n",
    "    if k in LSOA_dist_2013:\n",
    "        LSOA_dist_2013[k]['GP_Address'] = GP_address[k]['GP_Address']\n",
    "        LSOA_dist_2013[k]['GP_Postcode'] = GP_address[k]['GP_Postcode']"
   ]
  },
  {
   "cell_type": "code",
   "execution_count": 74,
   "metadata": {
    "ExecuteTime": {
     "end_time": "2021-07-09T08:25:56.796267Z",
     "start_time": "2021-07-09T08:25:56.690503Z"
    }
   },
   "outputs": [
    {
     "data": {
      "text/plain": [
       "{'Patient_registry_LSOA': {'E01006419': 106.0,\n",
       "  'E01006420': 135.0,\n",
       "  'E01006421': 64.0,\n",
       "  'E01006422': 78.0,\n",
       "  'E01006423': 105.0,\n",
       "  'E01006424': 3.0,\n",
       "  'E01006425': 45.0,\n",
       "  'E01006426': 206.0,\n",
       "  'E01006427': 147.0,\n",
       "  'E01006428': 227.0,\n",
       "  'E01006429': 208.0,\n",
       "  'E01006430': 42.0,\n",
       "  'E01006431': 185.0,\n",
       "  'E01006432': 412.0,\n",
       "  'E01006433': 41.0,\n",
       "  'E01006441': 4.0,\n",
       "  'E01006443': 1.0,\n",
       "  'E01006463': 1.0,\n",
       "  'E01006483': 3.0,\n",
       "  'E01006503': 1.0,\n",
       "  'E01006505': 5.0,\n",
       "  'E01006521': 1.0,\n",
       "  'E01006524': 1.0,\n",
       "  'E01006530': 2.0,\n",
       "  'E01006531': 6.0,\n",
       "  'E01006532': 4.0,\n",
       "  'E01006533': 6.0,\n",
       "  'E01006535': 2.0,\n",
       "  'E01006536': 3.0,\n",
       "  'E01006537': 30.0,\n",
       "  'E01006538': 10.0,\n",
       "  'E01006540': 1.0,\n",
       "  'E01006551': 1.0,\n",
       "  'E01006560': 1.0,\n",
       "  'E01006570': 4.0,\n",
       "  'E01006575': 1.0,\n",
       "  'E01006576': 1.0,\n",
       "  'E01006581': 3.0,\n",
       "  'E01006589': 2.0,\n",
       "  'E01006590': 2.0,\n",
       "  'E01006593': 1.0,\n",
       "  'E01006594': 1.0,\n",
       "  'E01006682': 3.0,\n",
       "  'E01006689': 3.0,\n",
       "  'E01006706': 1.0,\n",
       "  'E01006708': 11.0,\n",
       "  'E01006709': 7.0,\n",
       "  'E01006710': 11.0,\n",
       "  'E01006741': 6.0,\n",
       "  'E01006742': 4.0,\n",
       "  'E01006745': 2.0,\n",
       "  'E01006748': 1.0,\n",
       "  'E01006753': 1.0,\n",
       "  'E01006754': 2.0,\n",
       "  'E01006755': 3.0,\n",
       "  'E01006756': 3.0,\n",
       "  'E01006758': 1.0,\n",
       "  'E01006769': 1.0,\n",
       "  'E01006771': 3.0,\n",
       "  'E01006772': 1.0,\n",
       "  'E01006774': 1.0,\n",
       "  'E01006775': 1.0,\n",
       "  'E01006792': 3.0,\n",
       "  'E01006793': 4.0,\n",
       "  'E01006794': 2.0,\n",
       "  'E01006797': 7.0,\n",
       "  'E01006799': 1.0,\n",
       "  'E01006816': 1.0,\n",
       "  'E01006827': 1.0,\n",
       "  'E01006963': 1.0,\n",
       "  'E01007044': 1.0,\n",
       "  'E01012391': 10.0,\n",
       "  'E01012401': 12.0,\n",
       "  'E01012425': 2.0,\n",
       "  'E01018423': 1.0,\n",
       "  'E01032904': 3.0,\n",
       "  'E01033762': 2.0},\n",
       " 'Total_patients': 2219,\n",
       " 'GP_Name': 'ROSEHEATH SURGERY',\n",
       " 'GP_Postcode': 'L26 9UH',\n",
       " 'GP_Address': 'ROSEHEATH SURGERY ROSEHEATH DRIVE HALEWOOD MERSEYSIDE'}"
      ]
     },
     "execution_count": 74,
     "metadata": {},
     "output_type": "execute_result"
    }
   ],
   "source": [
    "LSOA_dist_2013['N83031']"
   ]
  },
  {
   "cell_type": "code",
   "execution_count": 75,
   "metadata": {
    "ExecuteTime": {
     "end_time": "2021-07-09T08:25:56.866029Z",
     "start_time": "2021-07-09T08:25:56.797873Z"
    }
   },
   "outputs": [
    {
     "data": {
      "text/plain": [
       "7997"
      ]
     },
     "execution_count": 75,
     "metadata": {},
     "output_type": "execute_result"
    }
   ],
   "source": [
    "len(LSOA_dist_2013.keys())"
   ]
  },
  {
   "cell_type": "code",
   "execution_count": 82,
   "metadata": {
    "ExecuteTime": {
     "end_time": "2021-07-09T08:27:46.220377Z",
     "start_time": "2021-07-09T08:27:44.758595Z"
    }
   },
   "outputs": [],
   "source": [
    "json.dump(LSOA_dist_2013,open('../mappings/GPs_2013.json','w'))"
   ]
  },
  {
   "cell_type": "code",
   "execution_count": 79,
   "metadata": {
    "ExecuteTime": {
     "end_time": "2021-07-09T08:26:36.911440Z",
     "start_time": "2021-07-09T08:26:36.908104Z"
    }
   },
   "outputs": [
    {
     "data": {
      "text/plain": [
       "7997"
      ]
     },
     "execution_count": 79,
     "metadata": {},
     "output_type": "execute_result"
    }
   ],
   "source": [
    "len(LSOA_dist_2013.keys())"
   ]
  },
  {
   "cell_type": "code",
   "execution_count": 80,
   "metadata": {
    "ExecuteTime": {
     "end_time": "2021-07-09T08:27:12.727869Z",
     "start_time": "2021-07-09T08:27:11.938901Z"
    }
   },
   "outputs": [],
   "source": [
    "LSOA_GP_dict_df = {'GP_ID' : [] , 'LSOA2011' : [] , 'Patient_registry_fraction' : [] , 'Total_patients' : []}\n",
    "for gpid in LSOA_dist_2013:\n",
    "    total = LSOA_dist_2013[gpid]['Total_patients']\n",
    "    for lsoa in LSOA_dist_2013[gpid]['Patient_registry_LSOA']:\n",
    "        LSOA_GP_dict_df['GP_ID'].append(gpid)\n",
    "        LSOA_GP_dict_df['LSOA2011'].append(lsoa)\n",
    "        LSOA_GP_dict_df['Patient_registry_fraction'].append(float(LSOA_dist_2013[gpid]['Patient_registry_LSOA'][lsoa])/float(total))\n",
    "        LSOA_GP_dict_df['Total_patients'].append(total)\n",
    "LSOA_GP_df = pd.DataFrame.from_dict(LSOA_GP_dict_df)\n",
    "    "
   ]
  },
  {
   "cell_type": "code",
   "execution_count": 81,
   "metadata": {
    "ExecuteTime": {
     "end_time": "2021-07-09T08:27:18.264227Z",
     "start_time": "2021-07-09T08:27:18.179868Z"
    }
   },
   "outputs": [
    {
     "data": {
      "text/plain": [
       "1.0"
      ]
     },
     "execution_count": 81,
     "metadata": {},
     "output_type": "execute_result"
    }
   ],
   "source": [
    "sum(LSOA_GP_df[LSOA_GP_df['GP_ID']=='A81001']['Patient_registry_fraction'])"
   ]
  },
  {
   "cell_type": "code",
   "execution_count": 83,
   "metadata": {
    "ExecuteTime": {
     "end_time": "2021-07-09T08:27:59.467457Z",
     "start_time": "2021-07-09T08:27:56.710753Z"
    }
   },
   "outputs": [],
   "source": [
    "LSOA_GP_df.to_csv('../mappings/GP_LSOA_weights_2013.csv')"
   ]
  },
  {
   "cell_type": "code",
   "execution_count": 84,
   "metadata": {
    "ExecuteTime": {
     "end_time": "2021-07-09T08:27:59.472729Z",
     "start_time": "2021-07-09T08:27:59.469276Z"
    }
   },
   "outputs": [
    {
     "data": {
      "text/plain": [
       "729516"
      ]
     },
     "execution_count": 84,
     "metadata": {},
     "output_type": "execute_result"
    }
   ],
   "source": [
    "len(LSOA_GP_df)"
   ]
  },
  {
   "cell_type": "code",
   "execution_count": 85,
   "metadata": {
    "ExecuteTime": {
     "end_time": "2021-07-09T08:28:04.855394Z",
     "start_time": "2021-07-09T08:28:04.766856Z"
    }
   },
   "outputs": [
    {
     "data": {
      "text/html": [
       "<div>\n",
       "<style scoped>\n",
       "    .dataframe tbody tr th:only-of-type {\n",
       "        vertical-align: middle;\n",
       "    }\n",
       "\n",
       "    .dataframe tbody tr th {\n",
       "        vertical-align: top;\n",
       "    }\n",
       "\n",
       "    .dataframe thead th {\n",
       "        text-align: right;\n",
       "    }\n",
       "</style>\n",
       "<table border=\"1\" class=\"dataframe\">\n",
       "  <thead>\n",
       "    <tr style=\"text-align: right;\">\n",
       "      <th></th>\n",
       "      <th>GP_ID</th>\n",
       "      <th>LSOA2011</th>\n",
       "      <th>Patient_registry_fraction</th>\n",
       "      <th>Total_patients</th>\n",
       "    </tr>\n",
       "  </thead>\n",
       "  <tbody>\n",
       "    <tr>\n",
       "      <th>610077</th>\n",
       "      <td>N83031</td>\n",
       "      <td>E01006419</td>\n",
       "      <td>0.047769</td>\n",
       "      <td>2219</td>\n",
       "    </tr>\n",
       "    <tr>\n",
       "      <th>610078</th>\n",
       "      <td>N83031</td>\n",
       "      <td>E01006420</td>\n",
       "      <td>0.060838</td>\n",
       "      <td>2219</td>\n",
       "    </tr>\n",
       "    <tr>\n",
       "      <th>610079</th>\n",
       "      <td>N83031</td>\n",
       "      <td>E01006421</td>\n",
       "      <td>0.028842</td>\n",
       "      <td>2219</td>\n",
       "    </tr>\n",
       "    <tr>\n",
       "      <th>610080</th>\n",
       "      <td>N83031</td>\n",
       "      <td>E01006422</td>\n",
       "      <td>0.035151</td>\n",
       "      <td>2219</td>\n",
       "    </tr>\n",
       "    <tr>\n",
       "      <th>610081</th>\n",
       "      <td>N83031</td>\n",
       "      <td>E01006423</td>\n",
       "      <td>0.047319</td>\n",
       "      <td>2219</td>\n",
       "    </tr>\n",
       "  </tbody>\n",
       "</table>\n",
       "</div>"
      ],
      "text/plain": [
       "         GP_ID   LSOA2011  Patient_registry_fraction  Total_patients\n",
       "610077  N83031  E01006419                   0.047769            2219\n",
       "610078  N83031  E01006420                   0.060838            2219\n",
       "610079  N83031  E01006421                   0.028842            2219\n",
       "610080  N83031  E01006422                   0.035151            2219\n",
       "610081  N83031  E01006423                   0.047319            2219"
      ]
     },
     "execution_count": 85,
     "metadata": {},
     "output_type": "execute_result"
    }
   ],
   "source": [
    "LSOA_GP_df[LSOA_GP_df['GP_ID']=='N83031'].head()"
   ]
  },
  {
   "cell_type": "code",
   "execution_count": null,
   "metadata": {
    "collapsed": true
   },
   "outputs": [],
   "source": []
  }
 ],
 "metadata": {
  "kernelspec": {
   "display_name": "Python [conda env:root] *",
   "language": "python",
   "name": "conda-root-py"
  },
  "language_info": {
   "codemirror_mode": {
    "name": "ipython",
    "version": 3
   },
   "file_extension": ".py",
   "mimetype": "text/x-python",
   "name": "python",
   "nbconvert_exporter": "python",
   "pygments_lexer": "ipython3",
   "version": "3.7.0"
  },
  "latex_envs": {
   "LaTeX_envs_menu_present": true,
   "autoclose": false,
   "autocomplete": true,
   "bibliofile": "biblio.bib",
   "cite_by": "apalike",
   "current_citInitial": 1,
   "eqLabelWithNumbers": true,
   "eqNumInitial": 1,
   "hotkeys": {
    "equation": "Ctrl-E",
    "itemize": "Ctrl-I"
   },
   "labels_anchors": false,
   "latex_user_defs": false,
   "report_style_numbering": false,
   "user_envs_cfg": false
  },
  "notify_time": "10",
  "toc": {
   "base_numbering": 1,
   "nav_menu": {},
   "number_sections": true,
   "sideBar": true,
   "skip_h1_title": false,
   "title_cell": "Table of Contents",
   "title_sidebar": "Contents",
   "toc_cell": false,
   "toc_position": {},
   "toc_section_display": true,
   "toc_window_display": false
  },
  "varInspector": {
   "cols": {
    "lenName": 16,
    "lenType": 16,
    "lenVar": 40
   },
   "kernels_config": {
    "python": {
     "delete_cmd_postfix": "",
     "delete_cmd_prefix": "del ",
     "library": "var_list.py",
     "varRefreshCmd": "print(var_dic_list())"
    },
    "r": {
     "delete_cmd_postfix": ") ",
     "delete_cmd_prefix": "rm(",
     "library": "var_list.r",
     "varRefreshCmd": "cat(var_dic_list()) "
    }
   },
   "types_to_exclude": [
    "module",
    "function",
    "builtin_function_or_method",
    "instance",
    "_Feature"
   ],
   "window_display": false
  }
 },
 "nbformat": 4,
 "nbformat_minor": 2
}
