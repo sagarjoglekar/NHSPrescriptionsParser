{
 "cells": [
  {
   "cell_type": "code",
   "execution_count": 1,
   "metadata": {
    "ExecuteTime": {
     "end_time": "2021-06-01T14:13:03.104585Z",
     "start_time": "2021-06-01T14:13:02.224450Z"
    },
    "collapsed": true
   },
   "outputs": [],
   "source": [
    "import pandas as pd\n",
    "import geopandas as gp \n",
    "import json\n",
    "from glob import glob\n",
    "import numpy as np\n",
    "import matplotlib.pyplot as plt\n",
    "import seaborn as sns\n",
    "\n",
    "sns.set(rc={'figure.figsize':(12,8)})\n",
    "%matplotlib inline\n",
    "from tqdm import tqdm\n",
    "import glob\n",
    "import numpy as np\n",
    "from scipy.stats import pearsonr\n",
    "from scipy.stats import linregress\n",
    "import pickle as pkl"
   ]
  },
  {
   "cell_type": "code",
   "execution_count": 2,
   "metadata": {
    "ExecuteTime": {
     "end_time": "2021-06-01T14:13:03.926583Z",
     "start_time": "2021-06-01T14:13:03.109298Z"
    },
    "collapsed": true
   },
   "outputs": [],
   "source": [
    "with open('../mappings/Bipartite_Drug_graph.pkl','rb') as f:\n",
    "    drug_association_graph  = pkl.load(f)\n",
    "\n",
    "with open('../mappings/Bipartite_Drug_category_graph.pkl','rb') as f:\n",
    "    drug_cat_association_graph  = pkl.load(f)"
   ]
  },
  {
   "cell_type": "code",
   "execution_count": 3,
   "metadata": {
    "ExecuteTime": {
     "end_time": "2021-06-01T14:13:04.346582Z",
     "start_time": "2021-06-01T14:13:03.932605Z"
    },
    "collapsed": true
   },
   "outputs": [],
   "source": [
    "def cleanStringofUTF(string):\n",
    "    cleaned = string.encode('utf-8').replace('\\xe8','e').replace('\\xf6','o')\n",
    "    return cleaned\n",
    "\n",
    "def enrichdrugs(chem_dict , drugs):\n",
    "    diabetes_drug_words = [drugs[k]['name'].lower() for k in drugs]\n",
    "    for drug in chem_dict:\n",
    "        Name = chem_dict[drug]['name'].replace('(','').replace(')','')\n",
    "        slot1 = Name.lower().split('/')\n",
    "        slot2 = Name.lower().split(' ')\n",
    "        slot3 = Name.lower().split(' & ')\n",
    "        common1 = set(diabetes_drug_words).intersection(slot1)\n",
    "        common2 = set(diabetes_drug_words).intersection(slot2)\n",
    "        common3 = set(diabetes_drug_words).intersection(slot3)\n",
    "        \n",
    "        if len(common1) > 0 or len(common2) > 0 or len(common3) > 0:\n",
    "#             print common1 , common2 , common3\n",
    "            drugs[chem_dict[drug]['code']] = {'disease':'' , 'disease_given_drug':0.0 , 'matched_disease':'', 'name':chem_dict[drug]['name'].strip() }\n",
    "\n",
    "            \n",
    "            \n",
    "def makeChemDict(BNF_Chem):\n",
    "    chem_dict = {}\n",
    "    for index, row in BNF_Chem.iterrows():\n",
    "        chem_dict[row['UNII_drugbank']] = {}\n",
    "        chem_dict[row['UNII_drugbank']]['name'] = row['NAME']\n",
    "        chem_dict[row['UNII_drugbank']]['code'] = row['BNF_code']\n",
    "    return chem_dict\n",
    "    \n",
    "def getDrugCategory(categorylist, BNF_Chem, drugbankDict):\n",
    "    allMatched = []\n",
    "    drugs = {}\n",
    "    chem_dict = makeChemDict(BNF_Chem)\n",
    "    \n",
    "    for k in drugbankDict:\n",
    "        if len(drugbankDict[k]['Categories']) > 0:\n",
    "            for cat in drugbankDict[k]['Categories']:\n",
    "                matched_memo = []\n",
    "                catString = cat.values()[0]#.split('\\u2014')[-1]\n",
    "                t = catString.lower().strip()\n",
    "                for categoryString in categorylist:\n",
    "                    categoryString = categoryString.lower()\n",
    "                    if t.find(categoryString) >= 0:\n",
    "                        matched_memo.append(categoryString)\n",
    "                if k in chem_dict:\n",
    "                    if len(matched_memo) > 0:# == len(categorylist):\n",
    "                        allMatched.append(k)\n",
    "#                         print chem_dict[k]\n",
    "                        drugs[chem_dict[k]['code']] = {}\n",
    "                        drugs[chem_dict[k]['code']]['name'] = chem_dict[k]['name']\n",
    "                        drugs[chem_dict[k]['code']]['matched_cat'] = categorylist\n",
    "    enrichdrugs(chem_dict,drugs)               \n",
    "    return list(set(allMatched)) , drugs\n",
    "\n",
    "\n",
    "def getDrugforDiseaseDrugbank(categorylist, BNF_Chem, drugbankDict):\n",
    "    allMatched = []\n",
    "    drugs = {}\n",
    "    chem_dict = makeChemDict(BNF_Chem)\n",
    "    \n",
    "    for k in drugbankDict:\n",
    "        if len(drugbankDict[k]['Associations']) > 0:\n",
    "            for cat in drugbankDict[k]['Associations']:\n",
    "                matched_memo = []\n",
    "                catString = cat.values()[0]\n",
    "                t = catString.lower().strip()\n",
    "                for categoryString in categorylist:\n",
    "                    categoryString = categoryString.lower()\n",
    "                    if t.find(categoryString) >= 0:\n",
    "                        matched_memo.append(categoryString)\n",
    "                if k in chem_dict:\n",
    "                    if len(matched_memo) > 0:\n",
    "                        allMatched.append(k)\n",
    "#                         print chem_dict[k]\n",
    "                        drugs[chem_dict[k]['code']] = {}\n",
    "                        drugs[chem_dict[k]['code']]['name'] = chem_dict[k]['name']\n",
    "                        drugs[chem_dict[k]['code']]['matched_cat'] = categorylist\n",
    "    enrichdrugs(chem_dict,drugs)               \n",
    "    return  allMatched , drugs\n",
    "\n",
    "\n",
    "def findDrugsForDisease(Graph, Disease, BNF_Chem ):#,threshProb):\n",
    "    chem_dict = makeChemDict(BNF_Chem)\n",
    "    drugs = {}\n",
    "    for e in Graph.edges(data=True):\n",
    "        if (cleanStringofUTF(e[1]).lower().find(Disease.lower()) >=0) or (cleanStringofUTF(e[0]).lower().find(Disease.lower()) >= 0) :\n",
    "            drugNode = ''\n",
    "            matchedDisease = ''\n",
    "            if Graph.node[e[0]]['type'] == 'symptom':\n",
    "                drugNode = e[1]\n",
    "                matchedDisease = e[0]\n",
    "            else:\n",
    "                drugNode = e[0]\n",
    "                matchedDisease = e[1]\n",
    "            drugs[Graph.node[drugNode]['Id']] = {}\n",
    "            drugs[Graph.node[drugNode]['Id']]['name'] = drugNode\n",
    "            drugs[Graph.node[drugNode]['Id']]['matched_disease'] = matchedDisease\n",
    "            drugs[Graph.node[drugNode]['Id']]['disease'] = Disease\n",
    "    enrichdrugs(chem_dict,drugs)\n",
    "    return drugs\n",
    "\n",
    "\n",
    "def generateConfidence(drugs,Graph):\n",
    "    shared = []\n",
    "    All = []\n",
    "    denom = max(Graph.degree().values())\n",
    "    for d in drugs:\n",
    "        name = drugs[d]['name']\n",
    "        for e in Graph.edges(data=True):\n",
    "            if Graph.node[e[0]]['type'] == 'symptom':\n",
    "                if e[1] == name:\n",
    "                    shared.append(Graph.degree()[e[1]]-1)\n",
    "                else:\n",
    "                    continue\n",
    "            else:\n",
    "                \n",
    "                if e[0] == name:\n",
    "                    shared.append(Graph.degree()[e[0]]-1)\n",
    "                else:\n",
    "                    continue\n",
    "#     shared = [float(k) for k in shared]\n",
    "    num = [k for k in shared if k > 1]\n",
    "\n",
    "    return float(len(num)+1.0)/float(len(shared)+1.0)\n",
    "#     return float(len(num))/float(len(shared)) * 10.0\n",
    "#     return len(num)\n",
    "                \n",
    "                \n",
    "def findDrugsForCategory(Graph, Cat, BNF_Chem ):#,threshProb):\n",
    "    chem_dict = makeChemDict(BNF_Chem)\n",
    "    drugs = {}\n",
    "    for e in Graph.edges(data=True):\n",
    "        if (cleanStringofUTF(e[1]).lower().find(Cat.lower()) >=0) or (cleanStringofUTF(e[0]).lower().find(Cat.lower()) >= 0) :\n",
    "            drugNode = ''\n",
    "            matchedDisease = ''\n",
    "            if Graph.node[e[0]]['type'] == 'category':\n",
    "                drugNode = e[1]\n",
    "                matchedDisease = e[0]\n",
    "            else:\n",
    "                drugNode = e[0]\n",
    "                matchedDisease = e[1]\n",
    "            print Graph.node[drugNode]['Id']\n",
    "            drugs[Graph.node[drugNode]['Id']] = {}\n",
    "            drugs[Graph.node[drugNode]['Id']]['name'] = drugNode\n",
    "            drugs[Graph.node[drugNode]['Id']]['matched_cat'] = matchedDisease\n",
    "            drugs[Graph.node[drugNode]['Id']]['category'] = Cat\n",
    "    enrichdrugs(chem_dict,drugs)\n",
    "    return drugs\n"
   ]
  },
  {
   "cell_type": "code",
   "execution_count": 4,
   "metadata": {
    "ExecuteTime": {
     "end_time": "2021-06-01T14:13:04.371611Z",
     "start_time": "2021-06-01T14:13:04.350700Z"
    }
   },
   "outputs": [
    {
     "name": "stdout",
     "output_type": "stream",
     "text": [
      "['../../BL_Work/openPrescribe/serialized/201810.gz', '../../BL_Work/openPrescribe/serialized/201710.gz', '../../BL_Work/openPrescribe/serialized/201203.gz', '../../BL_Work/openPrescribe/serialized/201110.gz', '../../BL_Work/openPrescribe/serialized/202010.gz', '../../BL_Work/openPrescribe/serialized/201804.gz', '../../BL_Work/openPrescribe/serialized/201911.gz', '../../BL_Work/openPrescribe/serialized/201308.gz', '../../BL_Work/openPrescribe/serialized/201708.gz', '../../BL_Work/openPrescribe/serialized/202005.gz', '../../BL_Work/openPrescribe/serialized/201211.gz', '../../BL_Work/openPrescribe/serialized/201707.gz', '../../BL_Work/openPrescribe/serialized/201803.gz', '../../BL_Work/openPrescribe/serialized/201410.gz', '../../BL_Work/openPrescribe/serialized/201301.gz', '../../BL_Work/openPrescribe/serialized/201201.gz', '../../BL_Work/openPrescribe/serialized/201409.gz', '../../BL_Work/openPrescribe/serialized/201812.gz', '../../BL_Work/openPrescribe/serialized/201603.gz', '../../BL_Work/openPrescribe/serialized/201109.gz', '../../BL_Work/openPrescribe/serialized/201512.gz', '../../BL_Work/openPrescribe/serialized/202004.gz', '../../BL_Work/openPrescribe/serialized/201601.gz', '../../BL_Work/openPrescribe/serialized/201101.gz', '../../BL_Work/openPrescribe/serialized/201402.gz', '../../BL_Work/openPrescribe/serialized/201602.gz', '../../BL_Work/openPrescribe/serialized/201206.gz', '../../BL_Work/openPrescribe/serialized/201207.gz', '../../BL_Work/openPrescribe/serialized/201210.gz', '../../BL_Work/openPrescribe/serialized/201404.gz', '../../BL_Work/openPrescribe/serialized/201105.gz', '../../BL_Work/openPrescribe/serialized/201705.gz', '../../BL_Work/openPrescribe/serialized/201509.gz', '../../BL_Work/openPrescribe/serialized/202007.gz', '../../BL_Work/openPrescribe/serialized/201802.gz', '../../BL_Work/openPrescribe/serialized/201307.gz', '../../BL_Work/openPrescribe/serialized/201902.gz', '../../BL_Work/openPrescribe/serialized/201204.gz', '../../BL_Work/openPrescribe/serialized/201104.gz', '../../BL_Work/openPrescribe/serialized/201102.gz', '../../BL_Work/openPrescribe/serialized/201507.gz', '../../BL_Work/openPrescribe/serialized/201502.gz', '../../BL_Work/openPrescribe/serialized/201103.gz', '../../BL_Work/openPrescribe/serialized/201704.gz', '../../BL_Work/openPrescribe/serialized/201511.gz', '../../BL_Work/openPrescribe/serialized/201406.gz', '../../BL_Work/openPrescribe/serialized/201808.gz', '../../BL_Work/openPrescribe/serialized/202012.gz', '../../BL_Work/openPrescribe/serialized/201904.gz', '../../BL_Work/openPrescribe/serialized/201407.gz', '../../BL_Work/openPrescribe/serialized/202101.gz', '../../BL_Work/openPrescribe/serialized/201805.gz', '../../BL_Work/openPrescribe/serialized/202002.gz', '../../BL_Work/openPrescribe/serialized/201506.gz', '../../BL_Work/openPrescribe/serialized/201008.gz', '../../BL_Work/openPrescribe/serialized/201611.gz', '../../BL_Work/openPrescribe/serialized/201604.gz', '../../BL_Work/openPrescribe/serialized/202011.gz', '../../BL_Work/openPrescribe/serialized/201012.gz', '../../BL_Work/openPrescribe/serialized/201411.gz', '../../BL_Work/openPrescribe/serialized/201701.gz', '../../BL_Work/openPrescribe/serialized/201501.gz', '../../BL_Work/openPrescribe/serialized/201903.gz', '../../BL_Work/openPrescribe/serialized/201612.gz', '../../BL_Work/openPrescribe/serialized/201205.gz', '../../BL_Work/openPrescribe/serialized/201608.gz', '../../BL_Work/openPrescribe/serialized/201901.gz', '../../BL_Work/openPrescribe/serialized/201912.gz', '../../BL_Work/openPrescribe/serialized/201510.gz', '../../BL_Work/openPrescribe/serialized/201011.gz', '../../BL_Work/openPrescribe/serialized/201909.gz', '../../BL_Work/openPrescribe/serialized/201811.gz', '../../BL_Work/openPrescribe/serialized/201202.gz', '../../BL_Work/openPrescribe/serialized/201009.gz', '../../BL_Work/openPrescribe/serialized/201905.gz', '../../BL_Work/openPrescribe/serialized/201405.gz', '../../BL_Work/openPrescribe/serialized/201605.gz', '../../BL_Work/openPrescribe/serialized/201908.gz', '../../BL_Work/openPrescribe/serialized/201709.gz', '../../BL_Work/openPrescribe/serialized/201610.gz', '../../BL_Work/openPrescribe/serialized/201503.gz', '../../BL_Work/openPrescribe/serialized/201305.gz', '../../BL_Work/openPrescribe/serialized/202008.gz', '../../BL_Work/openPrescribe/serialized/201906.gz', '../../BL_Work/openPrescribe/serialized/201107.gz', '../../BL_Work/openPrescribe/serialized/201208.gz', '../../BL_Work/openPrescribe/serialized/201209.gz', '../../BL_Work/openPrescribe/serialized/201609.gz', '../../BL_Work/openPrescribe/serialized/201310.gz', '../../BL_Work/openPrescribe/serialized/202102.gz', '../../BL_Work/openPrescribe/serialized/201401.gz', '../../BL_Work/openPrescribe/serialized/201304.gz', '../../BL_Work/openPrescribe/serialized/201504.gz', '../../BL_Work/openPrescribe/serialized/202006.gz', '../../BL_Work/openPrescribe/serialized/201508.gz', '../../BL_Work/openPrescribe/serialized/202001.gz', '../../BL_Work/openPrescribe/serialized/201403.gz', '../../BL_Work/openPrescribe/serialized/201807.gz', '../../BL_Work/openPrescribe/serialized/201312.gz', '../../BL_Work/openPrescribe/serialized/201212.gz', '../../BL_Work/openPrescribe/serialized/201408.gz', '../../BL_Work/openPrescribe/serialized/201806.gz', '../../BL_Work/openPrescribe/serialized/201412.gz', '../../BL_Work/openPrescribe/serialized/201311.gz', '../../BL_Work/openPrescribe/serialized/201907.gz', '../../BL_Work/openPrescribe/serialized/201702.gz', '../../BL_Work/openPrescribe/serialized/201010.gz', '../../BL_Work/openPrescribe/serialized/201505.gz', '../../BL_Work/openPrescribe/serialized/201302.gz', '../../BL_Work/openPrescribe/serialized/201112.gz', '../../BL_Work/openPrescribe/serialized/201703.gz', '../../BL_Work/openPrescribe/serialized/201801.gz', '../../BL_Work/openPrescribe/serialized/201809.gz', '../../BL_Work/openPrescribe/serialized/202009.gz', '../../BL_Work/openPrescribe/serialized/201607.gz', '../../BL_Work/openPrescribe/serialized/201712.gz', '../../BL_Work/openPrescribe/serialized/201606.gz', '../../BL_Work/openPrescribe/serialized/202003.gz', '../../BL_Work/openPrescribe/serialized/201910.gz', '../../BL_Work/openPrescribe/serialized/201711.gz', '../../BL_Work/openPrescribe/serialized/201111.gz', '../../BL_Work/openPrescribe/serialized/201309.gz', '../../BL_Work/openPrescribe/serialized/201106.gz', '../../BL_Work/openPrescribe/serialized/201706.gz', '../../BL_Work/openPrescribe/serialized/201306.gz', '../../BL_Work/openPrescribe/serialized/201303.gz', '../../BL_Work/openPrescribe/serialized/201108.gz']\n"
     ]
    }
   ],
   "source": [
    "files = glob.glob('../../BL_Work/openPrescribe/serialized/*.gz')\n",
    "print(files)"
   ]
  },
  {
   "cell_type": "code",
   "execution_count": 5,
   "metadata": {
    "ExecuteTime": {
     "end_time": "2021-06-01T14:13:13.215650Z",
     "start_time": "2021-06-01T14:13:04.374531Z"
    },
    "collapsed": true
   },
   "outputs": [],
   "source": [
    "chem = pd.read_csv('../mappings/CHEM_MASTER_MAP.csv')\n",
    "len(chem)\n",
    "\n",
    "# chem = chem.dropna()\n",
    "\n",
    "matched = chem[chem['UNII_drugbank']!='[]']\n",
    "\n",
    "matchedMap = {}\n",
    "for index,row in matched.iterrows():\n",
    "    if row['UNII_drugbank'] not in matchedMap:\n",
    "         matchedMap[row['UNII_drugbank']] = []\n",
    "    matchedMap[row['UNII_drugbank']].append(row['BNF_code'])\n",
    "\n",
    "diseases = [\n",
    " \"anxiety\",\n",
    " \"rheumatoid\",\n",
    " \"osteoporosis\",\n",
    " \"depression\",\n",
    " \"diabetes\",\n",
    " \"stroke\",\n",
    " \"hypertension\",\n",
    " \"chronic obstructive pulmonary disease\", \n",
    " \"dementia\",\n",
    " \"asthma\",\n",
    " \"sleeplessness\",\n",
    "]\n",
    "\n",
    "DiseaseDrugs = {}\n",
    "for d in diseases:\n",
    "    drugs = findDrugsForDisease(drug_association_graph,d ,chem)\n",
    "#     _ , drugs = getDrugforDiseaseDrugbank([d] ,chem,drugbank_dict)\n",
    "    for drug in drugs:\n",
    "        DiseaseDrugs[drug] = {}\n",
    "        DiseaseDrugs[drug]['chemName'] = drugs[drug]['name']\n",
    "        DiseaseDrugs[drug]['disease'] = d"
   ]
  },
  {
   "cell_type": "code",
   "execution_count": 6,
   "metadata": {
    "ExecuteTime": {
     "end_time": "2021-06-01T14:13:13.225247Z",
     "start_time": "2021-06-01T14:13:13.220323Z"
    },
    "collapsed": true
   },
   "outputs": [],
   "source": [
    "# findDrugsForDisease(drug_association_graph,'sleeplessness',chem)"
   ]
  },
  {
   "cell_type": "code",
   "execution_count": 7,
   "metadata": {
    "ExecuteTime": {
     "end_time": "2021-06-01T14:13:13.355332Z",
     "start_time": "2021-06-01T14:13:13.229962Z"
    }
   },
   "outputs": [
    {
     "data": {
      "text/plain": [
       "{'0101010T0': {'chemName': 'Magnesium Sulphate', 'disease': 'asthma'},\n",
       " '0103010S0': {'chemName': 'Ranitidine Bismuth Citrate',\n",
       "  'disease': 'hypertension'},\n",
       " '0103010T0': {'chemName': 'Ranitidine Hydrochloride',\n",
       "  'disease': 'hypertension'},\n",
       " '0105010E0': {'chemName': 'Sulfasalazine', 'disease': 'rheumatoid'},\n",
       " '0105020A0': {'chemName': 'Budesonide', 'disease': 'asthma'},\n",
       " '0107010AA': {'chemName': 'Diltiazem Hydrochloride',\n",
       "  'disease': 'hypertension'},\n",
       " '0107040A0': {'chemName': 'Glyceryl Trinitrate', 'disease': 'hypertension'},\n",
       " '0202010B0': {'chemName': 'Bendroflumethiazide', 'disease': 'hypertension'},\n",
       " '0202010D0': {'chemName': 'Chlorothiazide', 'disease': 'hypertension'},\n",
       " '0202010L0': {'chemName': 'Hydrochlorothiazide', 'disease': 'hypertension'},\n",
       " '0202010P0': {'chemName': 'Indapamide', 'disease': 'hypertension'},\n",
       " '0202010T0': {'chemName': 'Methyclothiazide', 'disease': 'hypertension'},\n",
       " '0202010V0': {'chemName': 'Metolazone', 'disease': 'hypertension'},\n",
       " '0202020L0': {'chemName': 'Furosemide', 'disease': 'hypertension'},\n",
       " '0202020U0': {'chemName': 'Torasemide', 'disease': 'hypertension'},\n",
       " '0202030C0': {'chemName': 'Amiloride Hydrochloride',\n",
       "  'disease': 'hypertension'},\n",
       " '0202030S0': {'chemName': 'Spironolactone', 'disease': 'hypertension'},\n",
       " '0202030W0': {'chemName': 'Triamterene', 'disease': 'hypertension'},\n",
       " '0202030X0': {'chemName': 'Eplerenone', 'disease': 'hypertension'},\n",
       " '0202040T0': {'chemName': 'Spironolactone With Loop Diuretics',\n",
       "  'disease': 'hypertension'},\n",
       " '0202040V0': {'chemName': 'Triamterene With Thiazides',\n",
       "  'disease': 'hypertension'},\n",
       " '0202080B0': {'chemName': 'Bendroflumethiazide/Potassium',\n",
       "  'disease': 'hypertension'},\n",
       " '0202080K0': {'chemName': 'Furosemide/Potassium', 'disease': 'hypertension'},\n",
       " '0202080M0': {'chemName': 'Hydrochlorothiazide/Potassium',\n",
       "  'disease': 'hypertension'},\n",
       " '0203020C0': {'chemName': 'Adenosine', 'disease': 'hypertension'},\n",
       " '020400010': {'chemName': 'Pindolol With Diuretic',\n",
       "  'disease': 'hypertension'},\n",
       " '020400070': {'chemName': 'Esmolol Hydrochloride', 'disease': 'hypertension'},\n",
       " '020400080': {'chemName': 'Carvedilol', 'disease': 'hypertension'},\n",
       " '0204000AB': {'chemName': 'Nebivolol', 'disease': 'hypertension'},\n",
       " '0204000AC': {'chemName': 'Bisoprolol Fumarate/Aspirin',\n",
       "  'disease': 'hypertension'},\n",
       " '0204000C0': {'chemName': 'Acebutolol Hydrochloride',\n",
       "  'disease': 'hypertension'},\n",
       " '0204000E0': {'chemName': 'Atenolol', 'disease': 'hypertension'},\n",
       " '0204000G0': {'chemName': 'Betaxolol Hydrochloride',\n",
       "  'disease': 'hypertension'},\n",
       " '0204000H0': {'chemName': 'Bisoprolol Fumarate', 'disease': 'hypertension'},\n",
       " '0204000I0': {'chemName': 'Labetalol Hydrochloride',\n",
       "  'disease': 'hypertension'},\n",
       " '0204000J0': {'chemName': 'Metoprolol Fumarate', 'disease': 'hypertension'},\n",
       " '0204000K0': {'chemName': 'Metoprolol Tartrate', 'disease': 'hypertension'},\n",
       " '0204000M0': {'chemName': 'Nadolol', 'disease': 'hypertension'},\n",
       " '0204000P0': {'chemName': 'Pindolol', 'disease': 'hypertension'},\n",
       " '0204000R0': {'chemName': 'Propranolol Hydrochloride',\n",
       "  'disease': 'hypertension'},\n",
       " '0204000U0': {'chemName': 'Atenolol With Calcium Channel Blocker',\n",
       "  'disease': 'hypertension'},\n",
       " '0204000V0': {'chemName': 'Timolol', 'disease': 'hypertension'},\n",
       " '0204000X0': {'chemName': 'Nadolol With Diuretic', 'disease': 'hypertension'},\n",
       " '0205010AA': {'chemName': 'Macitentan', 'disease': 'hypertension'},\n",
       " '0205010AB': {'chemName': 'Riociguat', 'disease': 'hypertension'},\n",
       " '0205010J0': {'chemName': 'Hydralazine Hydrochloride',\n",
       "  'disease': 'hypertension'},\n",
       " '0205010U0': {'chemName': 'Bosentan', 'disease': 'hypertension'},\n",
       " '0205010V0': {'chemName': 'Iloprost', 'disease': 'hypertension'},\n",
       " '0205010X0': {'chemName': 'Ambrisentan', 'disease': 'hypertension'},\n",
       " '0205020E0': {'chemName': 'Clonidine Hydrochloride',\n",
       "  'disease': 'hypertension'},\n",
       " '0205020G0': {'chemName': 'Guanfacine Hydrochloride',\n",
       "  'disease': 'hypertension'},\n",
       " '0205020H0': {'chemName': 'Methyldopa', 'disease': 'hypertension'},\n",
       " '0205020J0': {'chemName': 'Methyldopate Hydrochloride',\n",
       "  'disease': 'hypertension'},\n",
       " '0205040D0': {'chemName': 'Doxazosin Mesilate', 'disease': 'hypertension'},\n",
       " '0205040S0': {'chemName': 'Prazosin Hydrochloride',\n",
       "  'disease': 'hypertension'},\n",
       " '0205051C0': {'chemName': 'Moexipril Hydrochloride',\n",
       "  'disease': 'hypertension'},\n",
       " '0205051E0': {'chemName': 'Cilazapril', 'disease': 'hypertension'},\n",
       " '0205051F0': {'chemName': 'Captopril', 'disease': 'hypertension'},\n",
       " '0205051I0': {'chemName': 'Enalapril Maleate', 'disease': 'hypertension'},\n",
       " '0205051J0': {'chemName': 'Fosinopril Sodium', 'disease': 'hypertension'},\n",
       " '0205051L0': {'chemName': 'Lisinopril', 'disease': 'hypertension'},\n",
       " '0205051M0': {'chemName': 'Perindopril Erbumine', 'disease': 'hypertension'},\n",
       " '0205051Q0': {'chemName': 'Quinapril Hydrochloride',\n",
       "  'disease': 'hypertension'},\n",
       " '0205051R0': {'chemName': 'Ramipril', 'disease': 'hypertension'},\n",
       " '0205051U0': {'chemName': 'Trandolapril', 'disease': 'hypertension'},\n",
       " '0205051V0': {'chemName': 'Trandolapril + Calcium Channel Blocker',\n",
       "  'disease': 'hypertension'},\n",
       " '0205051Y0': {'chemName': 'Perindopril Arginine', 'disease': 'hypertension'},\n",
       " '0205052AB': {'chemName': 'Olmesartan Medoxomil/Amlodipine',\n",
       "  'disease': 'hypertension'},\n",
       " '0205052AD': {'chemName': 'Azilsartan Medoxomil', 'disease': 'hypertension'},\n",
       " '0205052B0': {'chemName': 'Olmesartan Medoxomil', 'disease': 'hypertension'},\n",
       " '0205052C0': {'chemName': 'Candesartan Cilexetil', 'disease': 'hypertension'},\n",
       " '0205052I0': {'chemName': 'Irbesartan', 'disease': 'hypertension'},\n",
       " '0205052N0': {'chemName': 'Losartan Potassium', 'disease': 'hypertension'},\n",
       " '0205052Q0': {'chemName': 'Telmisartan', 'disease': 'hypertension'},\n",
       " '0205052R0': {'chemName': 'Telmisartan with Diuretic',\n",
       "  'disease': 'hypertension'},\n",
       " '0205052V0': {'chemName': 'Valsartan', 'disease': 'hypertension'},\n",
       " '0205052W0': {'chemName': 'Eprosartan', 'disease': 'hypertension'},\n",
       " '0205052X0': {'chemName': 'Valsartan with Diuretic',\n",
       "  'disease': 'hypertension'},\n",
       " '0205052Y0': {'chemName': 'Olmesartan Medoxomil/Hydrochlorothiazide',\n",
       "  'disease': 'hypertension'},\n",
       " '0205053A0': {'chemName': 'Aliskiren', 'disease': 'hypertension'},\n",
       " '0206010I0': {'chemName': 'Isosorbide Dinitrate', 'disease': 'hypertension'},\n",
       " '0206020A0': {'chemName': 'Amlodipine', 'disease': 'hypertension'},\n",
       " '0206020F0': {'chemName': 'Felodipine', 'disease': 'hypertension'},\n",
       " '0206020I0': {'chemName': 'Isradipine', 'disease': 'hypertension'},\n",
       " '0206020Q0': {'chemName': 'Nicardipine Hydrochloride',\n",
       "  'disease': 'hypertension'},\n",
       " '0206020R0': {'chemName': 'Nifedipine', 'disease': 'hypertension'},\n",
       " '0206020T0': {'chemName': 'Verapamil Hydrochloride',\n",
       "  'disease': 'hypertension'},\n",
       " '0206020W0': {'chemName': 'Nisoldipine', 'disease': 'hypertension'},\n",
       " '0206020Z0': {'chemName': 'Valsartan/Amlodipine', 'disease': 'hypertension'},\n",
       " '0207030A0': {'chemName': 'Adrenaline', 'disease': 'asthma'},\n",
       " '0208010C0': {'chemName': 'Danaparoid Sodium', 'disease': 'stroke'},\n",
       " '0208020AA': {'chemName': 'Edoxaban', 'disease': 'stroke'},\n",
       " '0208020V0': {'chemName': 'Warfarin Sodium', 'disease': 'stroke'},\n",
       " '0208020X0': {'chemName': 'Dabigatran Etexilate', 'disease': 'stroke'},\n",
       " '0208020Y0': {'chemName': 'Rivaroxaban', 'disease': 'stroke'},\n",
       " '0208020Z0': {'chemName': 'Apixaban', 'disease': 'stroke'},\n",
       " '0209000L0': {'chemName': 'Dipyridamole', 'disease': 'stroke'},\n",
       " '0209000U0': {'chemName': 'Ticlopidine Hydrochloride', 'disease': 'stroke'},\n",
       " '0209000V0': {'chemName': 'Dipyridamole & Aspirin', 'disease': 'stroke'},\n",
       " '0210020V0': {'chemName': 'Alteplase', 'disease': 'stroke'},\n",
       " '0212000AC': {'chemName': 'Simvastatin & Ezetimibe', 'disease': 'stroke'},\n",
       " '0212000AD': {'chemName': 'Colesevelam Hydrochloride', 'disease': 'diabetes'},\n",
       " '0212000AI': {'chemName': 'Alirocumab', 'disease': 'stroke'},\n",
       " '0212000B0': {'chemName': 'Atorvastatin', 'disease': 'stroke'},\n",
       " '0212000X0': {'chemName': 'Pravastatin Sodium', 'disease': 'stroke'},\n",
       " '0212000Y0': {'chemName': 'Simvastatin', 'disease': 'stroke'},\n",
       " '0301011E0': {'chemName': 'Formoterol Fumarate', 'disease': 'asthma'},\n",
       " '0301011U0': {'chemName': 'Salmeterol', 'disease': 'asthma'},\n",
       " '0301011X0': {'chemName': 'Indacaterol Maleate',\n",
       "  'disease': 'chronic obstructive pulmonary disease'},\n",
       " '0301011Z0': {'chemName': 'Olodaterol',\n",
       "  'disease': 'chronic obstructive pulmonary disease'},\n",
       " '0301012F0': {'chemName': 'Ephedrine Hydrochloride', 'disease': 'asthma'},\n",
       " '0301020I0': {'chemName': 'Ipratropium Bromide', 'disease': 'asthma'},\n",
       " '0301020Q0': {'chemName': 'Tiotropium', 'disease': 'asthma'},\n",
       " '0301020R0': {'chemName': 'Aclidinium Bromide',\n",
       "  'disease': 'chronic obstructive pulmonary disease'},\n",
       " '0301020S0': {'chemName': 'Glycopyrronium Bromide',\n",
       "  'disease': 'chronic obstructive pulmonary disease'},\n",
       " '0301030B0': {'chemName': 'Aminophylline', 'disease': 'asthma'},\n",
       " '0301030D0': {'chemName': 'Aminophylline With Antacid', 'disease': 'asthma'},\n",
       " '0301040J0': {'chemName': 'Ephedrine Sulfate', 'disease': 'asthma'},\n",
       " '0301040X0': {'chemName': 'Tiotropium Brom/Olodaterol', 'disease': 'asthma'},\n",
       " '0301040Y0': {'chemName': 'Indacaterol/Glycopyrronium',\n",
       "  'disease': 'chronic obstructive pulmonary disease'},\n",
       " '0302000C0': {'chemName': 'Beclometasone Dipropionate', 'disease': 'asthma'},\n",
       " '0302000T0': {'chemName': 'Triamcinolone Acetonide', 'disease': 'rheumatoid'},\n",
       " '0302000U0': {'chemName': 'Ciclesonide', 'disease': 'asthma'},\n",
       " '0303020G0': {'chemName': 'Montelukast', 'disease': 'asthma'},\n",
       " '0303020Y0': {'chemName': 'Zileuton', 'disease': 'asthma'},\n",
       " '0303020Z0': {'chemName': 'Zafirlukast', 'disease': 'asthma'},\n",
       " '0303030B0': {'chemName': 'Roflumilast',\n",
       "  'disease': 'chronic obstructive pulmonary disease'},\n",
       " '0304010J0': {'chemName': 'Hydroxyzine Hydrochloride', 'disease': 'anxiety'},\n",
       " '0304020AA': {'chemName': 'Benralizumab', 'disease': 'asthma'},\n",
       " '0304020X0': {'chemName': 'Omalizumab', 'disease': 'asthma'},\n",
       " '0304020Y0': {'chemName': 'Mepolizumab', 'disease': 'asthma'},\n",
       " '0304020Z0': {'chemName': 'Reslizumab', 'disease': 'asthma'},\n",
       " '0305010W0': {'chemName': 'Doxapram Hydrochloride', 'disease': 'depression'},\n",
       " '0309010Y0': {'chemName': 'Ephedrine HCl/Dextrometh Hydrob',\n",
       "  'disease': 'asthma'},\n",
       " '030902040': {'chemName': 'Diphenhydramine Hydrochloride',\n",
       "  'disease': 'sleeplessness'},\n",
       " '0309020AA': {'chemName': 'Ibuprofen/Pseudoephed HCl',\n",
       "  'disease': 'rheumatoid'},\n",
       " '0309020AB': {'chemName': 'Diphenhydramine HCl/Pholcodine',\n",
       "  'disease': 'sleeplessness'},\n",
       " '0309020AE': {'chemName': 'Ephedrine HCl/Ipecacuanha', 'disease': 'asthma'},\n",
       " '0401010AD': {'chemName': 'Melatonin', 'disease': 'sleeplessness'},\n",
       " '0401010L0': {'chemName': 'Flurazepam Hydrochloride',\n",
       "  'disease': 'sleeplessness'},\n",
       " '0401010R0': {'chemName': 'Nitrazepam', 'disease': 'sleeplessness'},\n",
       " '0401010T0': {'chemName': 'Temazepam', 'disease': 'sleeplessness'},\n",
       " '0401010V0': {'chemName': 'Triazolam', 'disease': 'sleeplessness'},\n",
       " '0401010W0': {'chemName': 'Zaleplon', 'disease': 'sleeplessness'},\n",
       " '0401010Y0': {'chemName': 'Zolpidem Tartrate', 'disease': 'sleeplessness'},\n",
       " '0401010Z0': {'chemName': 'Zopiclone', 'disease': 'sleeplessness'},\n",
       " '0401020A0': {'chemName': 'Alprazolam', 'disease': 'anxiety'},\n",
       " '0401020B0': {'chemName': 'Buspirone Hydrochloride', 'disease': 'depression'},\n",
       " '0401020D0': {'chemName': 'Chlordiazepoxide', 'disease': 'depression'},\n",
       " '0401020E0': {'chemName': 'Chlordiazepoxide Hydrochloride',\n",
       "  'disease': 'depression'},\n",
       " '0401020G0': {'chemName': 'Bromazepam', 'disease': 'anxiety'},\n",
       " '0401020K0': {'chemName': 'Diazepam', 'disease': 'anxiety'},\n",
       " '0401020P0': {'chemName': 'Lorazepam', 'disease': 'sleeplessness'},\n",
       " '0401020R0': {'chemName': 'Meprobamate', 'disease': 'anxiety'},\n",
       " '0401020T0': {'chemName': 'Oxazepam', 'disease': 'depression'},\n",
       " '0401020V0': {'chemName': 'Clorazepate Dipotassium', 'disease': 'anxiety'},\n",
       " '0401030Q0': {'chemName': 'Pentobarbital Sodium', 'disease': 'sleeplessness'},\n",
       " '0401030T0': {'chemName': 'Secobarbital Sodium', 'disease': 'sleeplessness'},\n",
       " '040201030': {'chemName': 'Risperidone', 'disease': 'dementia'},\n",
       " '0402010AB': {'chemName': 'Quetiapine', 'disease': 'anxiety'},\n",
       " '0402010AD': {'chemName': 'Aripiprazole', 'disease': 'depression'},\n",
       " '0402010Q0': {'chemName': 'Perphenazine', 'disease': 'depression'},\n",
       " '0402010X0': {'chemName': 'Trifluoperazine', 'disease': 'anxiety'},\n",
       " '0402020AA': {'chemName': 'Risperidone', 'disease': 'dementia'},\n",
       " '0402020AD': {'chemName': 'Aripiprazole', 'disease': 'depression'},\n",
       " '0403010B0': {'chemName': 'Amitriptyline Hydrochloride',\n",
       "  'disease': 'sleeplessness'},\n",
       " '0403010C0': {'chemName': 'Amoxapine', 'disease': 'depression'},\n",
       " '0403010F0': {'chemName': 'Clomipramine Hydrochloride',\n",
       "  'disease': 'depression'},\n",
       " '0403010H0': {'chemName': 'Desipramine Hydrochloride',\n",
       "  'disease': 'sleeplessness'},\n",
       " '0403010L0': {'chemName': 'Doxepin', 'disease': 'sleeplessness'},\n",
       " '0403010W0': {'chemName': 'Protriptyline Hydrochloride',\n",
       "  'disease': 'depression'},\n",
       " '0403010X0': {'chemName': 'Trazodone Hydrochloride',\n",
       "  'disease': 'sleeplessness'},\n",
       " '0403010Y0': {'chemName': 'Trimipramine Maleate', 'disease': 'sleeplessness'},\n",
       " '0403020H0': {'chemName': 'Isocarboxazid', 'disease': 'depression'},\n",
       " '0403020M0': {'chemName': 'Phenelzine Sulfate', 'disease': 'depression'},\n",
       " '0403030D0': {'chemName': 'Citalopram Hydrobromide', 'disease': 'depression'},\n",
       " '0403030E0': {'chemName': 'Fluoxetine Hydrochloride',\n",
       "  'disease': 'depression'},\n",
       " '0403030P0': {'chemName': 'Paroxetine Hydrochloride', 'disease': 'anxiety'},\n",
       " '0403030X0': {'chemName': 'Escitalopram', 'disease': 'anxiety'},\n",
       " '0403040T0': {'chemName': 'Nefazodone Hydrochloride',\n",
       "  'disease': 'depression'},\n",
       " '0403040W0': {'chemName': 'Venlafaxine', 'disease': 'anxiety'},\n",
       " '0403040X0': {'chemName': 'Mirtazapine', 'disease': 'sleeplessness'},\n",
       " '0404000A0': {'chemName': 'Amfetamine Sulfate', 'disease': 'depression'},\n",
       " '0404000V0': {'chemName': 'Guanfacine', 'disease': 'hypertension'},\n",
       " '0406000AA': {'chemName': 'Doxylamine Succinate/Pyridoxine HCl',\n",
       "  'disease': 'sleeplessness'},\n",
       " '0406000T0': {'chemName': 'Prochlorperazine Maleate', 'disease': 'anxiety'},\n",
       " '0407010A0': {'chemName': 'Aspirin & Papaveretum', 'disease': 'stroke'},\n",
       " '0407010AA': {'chemName': 'Aspirin & Caffeine', 'disease': 'stroke'},\n",
       " '0407010B0': {'chemName': 'Aspirin', 'disease': 'stroke'},\n",
       " '0407010R0': {'chemName': 'Aspirin Phenacetin & Codeine(Codeine Co)',\n",
       "  'disease': 'stroke'},\n",
       " '0407010S0': {'chemName': 'Aspirin & Paracetamol', 'disease': 'stroke'},\n",
       " '0408010G0': {'chemName': 'Gabapentin', 'disease': 'anxiety'},\n",
       " '0408010H0': {'chemName': 'Lamotrigine', 'disease': 'depression'},\n",
       " '0408010N0': {'chemName': 'Phenobarbital', 'disease': 'sleeplessness'},\n",
       " '0408010S0': {'chemName': 'Phenobarbital & Phenytoin',\n",
       "  'disease': 'sleeplessness'},\n",
       " '0411000D0': {'chemName': 'Donepezil Hydrochloride', 'disease': 'dementia'},\n",
       " '0411000E0': {'chemName': 'Rivastigmine', 'disease': 'dementia'},\n",
       " '0411000F0': {'chemName': 'Galantamine', 'disease': 'dementia'},\n",
       " '0411000G0': {'chemName': 'Memantine Hydrochloride', 'disease': 'dementia'},\n",
       " '0504010F0': {'chemName': 'Chloroquine Phosphate', 'disease': 'rheumatoid'},\n",
       " '0504010G0': {'chemName': 'Chloroquine Sulfate', 'disease': 'rheumatoid'},\n",
       " '0601011A0': {'chemName': 'Insulin Aspart', 'disease': 'diabetes'},\n",
       " '0601011L0': {'chemName': 'Insulin Lispro', 'disease': 'diabetes'},\n",
       " '0601011P0': {'chemName': 'Insulin Glulisine', 'disease': 'diabetes'},\n",
       " '0601011R0': {'chemName': 'Insulin Human', 'disease': 'diabetes'},\n",
       " '0601012AB': {'chemName': 'Insulin Glargine/Lixisenatide',\n",
       "  'disease': 'diabetes'},\n",
       " '0601012S0': {'chemName': 'Isophane Insulin', 'disease': 'diabetes'},\n",
       " '0601012V0': {'chemName': 'Insulin Glargine', 'disease': 'diabetes'},\n",
       " '0601012X0': {'chemName': 'Insulin Detemir', 'disease': 'diabetes'},\n",
       " '0601012Z0': {'chemName': 'Insulin Degludec', 'disease': 'diabetes'},\n",
       " '0601021A0': {'chemName': 'Glimepiride', 'disease': 'diabetes'},\n",
       " '0601021E0': {'chemName': 'Chlorpropamide', 'disease': 'diabetes'},\n",
       " '0601021H0': {'chemName': 'Glibenclamide', 'disease': 'diabetes'},\n",
       " '0601021M0': {'chemName': 'Gliclazide', 'disease': 'diabetes'},\n",
       " '0601021P0': {'chemName': 'Glipizide', 'disease': 'diabetes'},\n",
       " '0601021V0': {'chemName': 'Tolazamide', 'disease': 'diabetes'},\n",
       " '0601021X0': {'chemName': 'Tolbutamide', 'disease': 'diabetes'},\n",
       " '0601022B0': {'chemName': 'Metformin Hydrochloride', 'disease': 'diabetes'},\n",
       " '0601023A0': {'chemName': 'Acarbose', 'disease': 'diabetes'},\n",
       " '0601023AA': {'chemName': 'Vildagliptin', 'disease': 'diabetes'},\n",
       " '0601023AB': {'chemName': 'Liraglutide', 'disease': 'diabetes'},\n",
       " '0601023AC': {'chemName': 'Saxagliptin', 'disease': 'diabetes'},\n",
       " '0601023AD': {'chemName': 'Metformin Hydrochloride/Sitagliptin',\n",
       "  'disease': 'diabetes'},\n",
       " '0601023AE': {'chemName': 'Linagliptin', 'disease': 'diabetes'},\n",
       " '0601023AF': {'chemName': 'Linagliptin/Metformin', 'disease': 'diabetes'},\n",
       " '0601023AG': {'chemName': 'Dapagliflozin', 'disease': 'diabetes'},\n",
       " '0601023AH': {'chemName': 'Saxagliptin/Metformin', 'disease': 'diabetes'},\n",
       " '0601023AI': {'chemName': 'Lixisenatide', 'disease': 'diabetes'},\n",
       " '0601023AJ': {'chemName': 'Alogliptin/Metformin', 'disease': 'diabetes'},\n",
       " '0601023AK': {'chemName': 'Alogliptin', 'disease': 'diabetes'},\n",
       " '0601023AL': {'chemName': 'Dapagliflozin/Metformin', 'disease': 'diabetes'},\n",
       " '0601023AM': {'chemName': 'Canagliflozin', 'disease': 'diabetes'},\n",
       " '0601023AN': {'chemName': 'Empagliflozin', 'disease': 'diabetes'},\n",
       " '0601023AP': {'chemName': 'Canagliflozin/Metformin', 'disease': 'diabetes'},\n",
       " '0601023AQ': {'chemName': 'Dulaglutide', 'disease': 'diabetes'},\n",
       " '0601023AR': {'chemName': 'Empagliflozin/Metformin', 'disease': 'diabetes'},\n",
       " '0601023AS': {'chemName': 'Albiglutide', 'disease': 'diabetes'},\n",
       " '0601023AV': {'chemName': 'Saxagliptin/Dapagliflozin', 'disease': 'diabetes'},\n",
       " '0601023AW': {'chemName': 'Semaglutide', 'disease': 'diabetes'},\n",
       " '0601023AX': {'chemName': 'Ertugliflozin', 'disease': 'diabetes'},\n",
       " '0601023B0': {'chemName': 'Pioglitazone Hydrochloride',\n",
       "  'disease': 'diabetes'},\n",
       " '0601023M0': {'chemName': 'Miglitol', 'disease': 'diabetes'},\n",
       " '0601023R0': {'chemName': 'Repaglinide', 'disease': 'diabetes'},\n",
       " '0601023S0': {'chemName': 'Rosiglitazone', 'disease': 'diabetes'},\n",
       " '0601023U0': {'chemName': 'Nateglinide', 'disease': 'diabetes'},\n",
       " '0601023V0': {'chemName': 'Metformin Hydrochloride/Rosiglitazone',\n",
       "  'disease': 'diabetes'},\n",
       " '0601023W0': {'chemName': 'Metformin Hydrochloride/Pioglitazone',\n",
       "  'disease': 'diabetes'},\n",
       " '0601023X0': {'chemName': 'Sitagliptin', 'disease': 'diabetes'},\n",
       " '0601023Y0': {'chemName': 'Exenatide', 'disease': 'diabetes'},\n",
       " '0601023Z0': {'chemName': 'Metformin Hydrochloride/Vildagliptin',\n",
       "  'disease': 'diabetes'},\n",
       " '0603020AA': {'chemName': 'Dexamethasone Phosphate', 'disease': 'asthma'},\n",
       " '0603020B0': {'chemName': 'Betamethasone', 'disease': 'asthma'},\n",
       " '0603020D0': {'chemName': 'Betamethasone Valerate', 'disease': 'asthma'},\n",
       " '0603020F0': {'chemName': 'Cortisone Acetate', 'disease': 'asthma'},\n",
       " '0603020H0': {'chemName': 'Dexamethasone Sodium Phosphate',\n",
       "  'disease': 'asthma'},\n",
       " '0603020S0': {'chemName': 'Methylprednisolone', 'disease': 'asthma'},\n",
       " '0603020T0': {'chemName': 'Prednisolone', 'disease': 'asthma'},\n",
       " '0603020X0': {'chemName': 'Prednisone', 'disease': 'asthma'},\n",
       " '0603020Y0': {'chemName': 'Triamcinolone', 'disease': 'rheumatoid'},\n",
       " '0604011R0': {'chemName': 'Estropipate', 'disease': 'osteoporosis'},\n",
       " '0604011X0': {'chemName': 'Raloxifene Hydrochloride',\n",
       "  'disease': 'osteoporosis'},\n",
       " '0605010J0': {'chemName': 'Corticotropin', 'disease': 'rheumatoid'},\n",
       " '0605010T0': {'chemName': 'Tetracosactide', 'disease': 'rheumatoid'},\n",
       " '0605020E0': {'chemName': 'Desmopressin Acetate', 'disease': 'diabetes'},\n",
       " '0606010U0': {'chemName': 'Teriparatide', 'disease': 'osteoporosis'},\n",
       " '0606020A0': {'chemName': 'Alendronic Acid', 'disease': 'osteoporosis'},\n",
       " '0606020R0': {'chemName': 'Risedronate Sodium', 'disease': 'osteoporosis'},\n",
       " '0606020V0': {'chemName': 'Zoledronic Acid', 'disease': 'osteoporosis'},\n",
       " '0606020W0': {'chemName': 'Ibandronic Acid', 'disease': 'osteoporosis'},\n",
       " '0606020X0': {'chemName': 'Strontium Ranelate', 'disease': 'osteoporosis'},\n",
       " '0606020Y0': {'chemName': 'Alendronic Acid & Colecalciferol',\n",
       "  'disease': 'osteoporosis'},\n",
       " '0606020Z0': {'chemName': 'Denosumab', 'disease': 'osteoporosis'},\n",
       " '0607010B0': {'chemName': 'Bromocriptine', 'disease': 'diabetes'},\n",
       " '0701030N0': {'chemName': 'Orciprenaline Sulfate', 'disease': 'asthma'},\n",
       " '0702010E0': {'chemName': 'Ethinylestradiol', 'disease': 'osteoporosis'},\n",
       " '0702010G0': {'chemName': 'Estradiol', 'disease': 'osteoporosis'},\n",
       " '0703010Q0': {'chemName': 'Combined Ethinylestradiol 135mcg',\n",
       "  'disease': 'osteoporosis'},\n",
       " '0703010R0': {'chemName': 'Estradiol Val&Estradiol Val + Dienogest',\n",
       "  'disease': 'osteoporosis'},\n",
       " '0703010S0': {'chemName': 'Estradiol & Nomegestrol',\n",
       "  'disease': 'osteoporosis'},\n",
       " '0703021N0': {'chemName': 'Norethisterone', 'disease': 'osteoporosis'},\n",
       " '0703022M0': {'chemName': 'Medroxyprogesterone Acetate',\n",
       "  'disease': 'osteoporosis'},\n",
       " '0703023L0': {'chemName': 'Levonorgestrel', 'disease': 'osteoporosis'},\n",
       " '0703050A0': {'chemName': 'Levonorgestrel', 'disease': 'osteoporosis'},\n",
       " '0704010T0': {'chemName': 'Terazosin Hydrochloride',\n",
       "  'disease': 'hypertension'},\n",
       " '0704020AA': {'chemName': 'Duloxetine Hydrochloride', 'disease': 'anxiety'},\n",
       " '0704050R0': {'chemName': 'Tadalafil', 'disease': 'hypertension'},\n",
       " '0802010G0': {'chemName': 'Azathioprine', 'disease': 'rheumatoid'},\n",
       " '0802020G0': {'chemName': 'Ciclosporin', 'disease': 'rheumatoid'},\n",
       " '0802030F0': {'chemName': 'Rituximab', 'disease': 'rheumatoid'},\n",
       " '0803020Q0': {'chemName': 'Norethisterone Acetate',\n",
       "  'disease': 'osteoporosis'},\n",
       " '0905013N0': {'chemName': 'Magnesium Sulfate', 'disease': 'asthma'},\n",
       " '100101040': {'chemName': 'Tenoxicam', 'disease': 'rheumatoid'},\n",
       " '100101070': {'chemName': 'Naproxen Sodium', 'disease': 'rheumatoid'},\n",
       " '1001010AA': {'chemName': 'Meloxicam', 'disease': 'rheumatoid'},\n",
       " '1001010AD': {'chemName': 'Ibuprofen Lysine', 'disease': 'rheumatoid'},\n",
       " '1001010AG': {'chemName': 'Diclofenac Potassium', 'disease': 'rheumatoid'},\n",
       " '1001010AH': {'chemName': 'Celecoxib', 'disease': 'rheumatoid'},\n",
       " '1001010D0': {'chemName': 'Diflunisal', 'disease': 'rheumatoid'},\n",
       " '1001010E0': {'chemName': 'Etodolac', 'disease': 'rheumatoid'},\n",
       " '1001010G0': {'chemName': 'Fenoprofen', 'disease': 'rheumatoid'},\n",
       " '1001010I0': {'chemName': 'Flurbiprofen', 'disease': 'rheumatoid'},\n",
       " '1001010J0': {'chemName': 'Ibuprofen', 'disease': 'rheumatoid'},\n",
       " '1001010K0': {'chemName': 'Indometacin', 'disease': 'rheumatoid'},\n",
       " '1001010M0': {'chemName': 'Choline Magnesium Trisalicylate',\n",
       "  'disease': 'rheumatoid'},\n",
       " '1001010P0': {'chemName': 'Naproxen', 'disease': 'rheumatoid'},\n",
       " '1001010S0': {'chemName': 'Sulindac', 'disease': 'rheumatoid'},\n",
       " '1001010T0': {'chemName': 'Tiaprofenic Acid', 'disease': 'rheumatoid'},\n",
       " '1001010V0': {'chemName': 'Tolmetin', 'disease': 'rheumatoid'},\n",
       " '1001010X0': {'chemName': 'Nabumetone', 'disease': 'rheumatoid'},\n",
       " '1001022K0': {'chemName': 'Methylprednisolone Acetate', 'disease': 'asthma'},\n",
       " '1001022N0': {'chemName': 'Prednisolone Acetate', 'disease': 'asthma'},\n",
       " '1001022Y0': {'chemName': 'Triamcinolone Hexacetonide',\n",
       "  'disease': 'rheumatoid'},\n",
       " '1001030A0': {'chemName': 'Auranofin', 'disease': 'rheumatoid'},\n",
       " '1001030AB': {'chemName': 'Tofacitinib', 'disease': 'rheumatoid'},\n",
       " '1001030AC': {'chemName': 'Baricitinib', 'disease': 'rheumatoid'},\n",
       " '1001030AD': {'chemName': 'Sarilumab', 'disease': 'rheumatoid'},\n",
       " '1001030C0': {'chemName': 'Hydroxychloroquine Sulfate',\n",
       "  'disease': 'rheumatoid'},\n",
       " '1001030D0': {'chemName': 'Etanercept', 'disease': 'rheumatoid'},\n",
       " '1001030F0': {'chemName': 'Penicillamine', 'disease': 'rheumatoid'},\n",
       " '1001030J0': {'chemName': 'Sodium Aurothiomalate', 'disease': 'rheumatoid'},\n",
       " '1001030L0': {'chemName': 'Leflunomide', 'disease': 'rheumatoid'},\n",
       " '1001030R0': {'chemName': 'Anakinra', 'disease': 'rheumatoid'},\n",
       " '1001030S0': {'chemName': 'Adalimumab', 'disease': 'rheumatoid'},\n",
       " '1001030T0': {'chemName': 'Infliximab', 'disease': 'rheumatoid'},\n",
       " '1001030U0': {'chemName': 'Methotrexate', 'disease': 'rheumatoid'},\n",
       " '1001030V0': {'chemName': 'Abatacept', 'disease': 'rheumatoid'},\n",
       " '1001030X0': {'chemName': 'Golimumab', 'disease': 'rheumatoid'},\n",
       " '1001030Y0': {'chemName': 'Certolizumab Pegol', 'disease': 'rheumatoid'},\n",
       " '1002010H0': {'chemName': 'Edrophonium Chloride', 'disease': 'depression'},\n",
       " '1002020T0': {'chemName': 'Tizanidine Hydrochloride',\n",
       "  'disease': 'sleeplessness'},\n",
       " '100302010': {'chemName': 'Ketoprofen', 'disease': 'rheumatoid'},\n",
       " '1003020P0': {'chemName': 'Ibuprofen', 'disease': 'rheumatoid'},\n",
       " '1003020R0': {'chemName': 'Piroxicam', 'disease': 'rheumatoid'},\n",
       " '1003020U0': {'chemName': 'Diclofenac Sodium', 'disease': 'rheumatoid'},\n",
       " '1104010I0': {'chemName': 'Dexamethasone', 'disease': 'asthma'},\n",
       " '1104010M0': {'chemName': 'Hydrocortisone Acetate', 'disease': 'rheumatoid'},\n",
       " '1104020G0': {'chemName': 'Flurbiprofen Sodium', 'disease': 'rheumatoid'},\n",
       " '1104020L0': {'chemName': 'Indometacin', 'disease': 'rheumatoid'},\n",
       " '1104020Y0': {'chemName': 'Ketotifen Fumarate', 'disease': 'asthma'},\n",
       " '1106000AC': {'chemName': 'Brinzolamide', 'disease': 'hypertension'},\n",
       " '1106000AD': {'chemName': 'Latanoprost & Timolol', 'disease': 'hypertension'},\n",
       " '1106000AF': {'chemName': 'Bimatoprost', 'disease': 'hypertension'},\n",
       " '1106000AG': {'chemName': 'Timolol & Brimonidine', 'disease': 'hypertension'},\n",
       " '1106000AH': {'chemName': 'Timolol & Travoprost', 'disease': 'hypertension'},\n",
       " '1106000AI': {'chemName': 'Timolol & Bimatoprost', 'disease': 'hypertension'},\n",
       " '1106000AJ': {'chemName': 'Brinzolamide & Timolol',\n",
       "  'disease': 'hypertension'},\n",
       " '1106000AL': {'chemName': 'Brinzolamide/Brimonidine',\n",
       "  'disease': 'hypertension'},\n",
       " '1106000I0': {'chemName': 'Betaxolol', 'disease': 'hypertension'},\n",
       " '1106000L0': {'chemName': 'Latanoprost', 'disease': 'hypertension'},\n",
       " '1106000T0': {'chemName': 'Levobunolol Hydrochloride',\n",
       "  'disease': 'hypertension'},\n",
       " '1106000U0': {'chemName': 'Metipranolol', 'disease': 'hypertension'},\n",
       " '1106000Z0': {'chemName': 'Timolol', 'disease': 'hypertension'},\n",
       " '1108010AA': {'chemName': 'Ciclosporin', 'disease': 'rheumatoid'},\n",
       " '1108020J0': {'chemName': 'Apraclonidine', 'disease': 'hypertension'},\n",
       " '1201010E0': {'chemName': 'Betamethasone Sodium Phosphate',\n",
       "  'disease': 'asthma'},\n",
       " '1202010L0': {'chemName': 'Flunisolide', 'disease': 'asthma'},\n",
       " '1202010P0': {'chemName': 'Sodium Cromoglicate', 'disease': 'asthma'},\n",
       " '1202010Q0': {'chemName': 'Nedocromil Sodium', 'disease': 'asthma'},\n",
       " '1202010W0': {'chemName': 'Fluticasone Furoate', 'disease': 'asthma'},\n",
       " '1303000F0': {'chemName': 'Doxepin Hydrochloride',\n",
       "  'disease': 'sleeplessness'},\n",
       " '1304000A0': {'chemName': 'Methyl Prednisolone Acetate', 'disease': 'asthma'},\n",
       " '1304000E0': {'chemName': 'Budesonide', 'disease': 'asthma'},\n",
       " '1304000F0': {'chemName': 'Betamethasone Valerate', 'disease': 'asthma'},\n",
       " '1304000K0': {'chemName': 'Dexamethasone Sodium Phosphate',\n",
       "  'disease': 'asthma'},\n",
       " '1304000V0': {'chemName': 'Hydrocortisone', 'disease': 'asthma'},\n",
       " '1304000W0': {'chemName': 'Hydrocortisone Butyrate', 'disease': 'asthma'},\n",
       " '1304000Y0': {'chemName': 'Mometasone Furoate', 'disease': 'asthma'},\n",
       " '1304000Z0': {'chemName': 'Triamcinolone Acetonide', 'disease': 'rheumatoid'},\n",
       " '1305030C0': {'chemName': 'Tacrolimus', 'disease': 'rheumatoid'},\n",
       " '1309000H0': {'chemName': 'Minoxidil', 'disease': 'hypertension'},\n",
       " '1501010R0': {'chemName': 'Esketamine Hydrochloride',\n",
       "  'disease': 'depression'},\n",
       " '1502010C0': {'chemName': 'Bupivacaine Hydrochloride',\n",
       "  'disease': 'rheumatoid'},\n",
       " '1502010W0': {'chemName': 'Articaine Hydrochloride & Adrenaline',\n",
       "  'disease': 'asthma'},\n",
       " '1502010Z0': {'chemName': 'Bupivacaine Hydrochloride & Fentanyl Cit',\n",
       "  'disease': 'rheumatoid'},\n",
       " '1902070Q0': {'chemName': 'Naloxone Hydrochloride', 'disease': 'depression'}}"
      ]
     },
     "execution_count": 7,
     "metadata": {},
     "output_type": "execute_result"
    }
   ],
   "source": [
    "DiseaseDrugs"
   ]
  },
  {
   "cell_type": "code",
   "execution_count": 8,
   "metadata": {
    "ExecuteTime": {
     "end_time": "2021-06-01T14:13:13.366394Z",
     "start_time": "2021-06-01T14:13:13.359465Z"
    },
    "collapsed": true
   },
   "outputs": [],
   "source": [
    "disease_drug_map = {}\n",
    "for k in DiseaseDrugs:\n",
    "    if DiseaseDrugs[k]['disease'] not in disease_drug_map:\n",
    "        disease_drug_map[DiseaseDrugs[k]['disease']] = []\n",
    "    disease_drug_map[DiseaseDrugs[k]['disease']].append(k)"
   ]
  },
  {
   "cell_type": "code",
   "execution_count": 57,
   "metadata": {
    "ExecuteTime": {
     "end_time": "2021-06-02T09:11:13.969870Z",
     "start_time": "2021-06-02T09:11:13.945267Z"
    },
    "collapsed": true
   },
   "outputs": [],
   "source": [
    "drug_map_dict = {'BNF_code':[], 'Drug_name':[] , 'Mapped_Condition': []}\n",
    "for k in DiseaseDrugs:\n",
    "    drug_map_dict['BNF_code'].append(k)\n",
    "    drug_map_dict['Drug_name'].append(DiseaseDrugs[k]['chemName'])\n",
    "    drug_map_dict['Mapped_Condition'].append(DiseaseDrugs[k]['disease'])\n",
    "drug_map_df = pd.DataFrame.from_dict(drug_map_dict)    \n",
    "drug_map_df.to_csv('data_prep/Drugs.csv',index=False)"
   ]
  },
  {
   "cell_type": "code",
   "execution_count": 9,
   "metadata": {
    "ExecuteTime": {
     "end_time": "2021-06-01T14:13:13.425174Z",
     "start_time": "2021-06-01T14:13:13.370512Z"
    }
   },
   "outputs": [
    {
     "data": {
      "text/plain": [
       "['anxiety',\n",
       " 'asthma',\n",
       " 'osteoporosis',\n",
       " 'stroke',\n",
       " 'sleeplessness',\n",
       " 'hypertension',\n",
       " 'chronic obstructive pulmonary disease',\n",
       " 'dementia',\n",
       " 'rheumatoid',\n",
       " 'depression',\n",
       " 'diabetes']"
      ]
     },
     "execution_count": 9,
     "metadata": {},
     "output_type": "execute_result"
    }
   ],
   "source": [
    "disease_drug_map.keys()"
   ]
  },
  {
   "cell_type": "code",
   "execution_count": 10,
   "metadata": {
    "ExecuteTime": {
     "end_time": "2021-06-01T14:13:14.405671Z",
     "start_time": "2021-06-01T14:13:13.429451Z"
    },
    "collapsed": true
   },
   "outputs": [],
   "source": [
    "LSOA_dist = json.load(open('../mappings/GP_LSOA_PATIENTSDIST.json','rb'))"
   ]
  },
  {
   "cell_type": "code",
   "execution_count": 11,
   "metadata": {
    "ExecuteTime": {
     "end_time": "2021-06-01T14:13:15.522442Z",
     "start_time": "2021-06-01T14:13:14.411133Z"
    },
    "collapsed": true
   },
   "outputs": [],
   "source": [
    "LSOA_dist_2021 = json.load(open('mappings/GP_LSOA_PATIENTSDIST_2021.json','rb'))"
   ]
  },
  {
   "cell_type": "code",
   "execution_count": 12,
   "metadata": {
    "ExecuteTime": {
     "end_time": "2021-06-01T14:13:15.537976Z",
     "start_time": "2021-06-01T14:13:15.529528Z"
    }
   },
   "outputs": [
    {
     "data": {
      "text/plain": [
       "0.11856400566839868"
      ]
     },
     "execution_count": 12,
     "metadata": {},
     "output_type": "execute_result"
    }
   ],
   "source": [
    "LSOA_dist['A81001']['E01033477']"
   ]
  },
  {
   "cell_type": "code",
   "execution_count": 13,
   "metadata": {
    "ExecuteTime": {
     "end_time": "2021-06-01T14:13:15.560522Z",
     "start_time": "2021-06-01T14:13:15.542455Z"
    }
   },
   "outputs": [
    {
     "data": {
      "text/plain": [
       "0.1600780868716447"
      ]
     },
     "execution_count": 13,
     "metadata": {},
     "output_type": "execute_result"
    }
   ],
   "source": [
    "LSOA_dist_2021['A81001']['E01033477']"
   ]
  },
  {
   "cell_type": "code",
   "execution_count": 14,
   "metadata": {
    "ExecuteTime": {
     "end_time": "2021-06-01T14:13:15.614609Z",
     "start_time": "2021-06-01T14:13:15.565058Z"
    },
    "collapsed": true
   },
   "outputs": [],
   "source": [
    "# LSOA_dist_new = pd.read_csv('mappings/gp-reg-pat-prac-lsoa-all.csv')"
   ]
  },
  {
   "cell_type": "code",
   "execution_count": 15,
   "metadata": {
    "ExecuteTime": {
     "end_time": "2021-06-01T14:13:15.695728Z",
     "start_time": "2021-06-01T14:13:15.618996Z"
    },
    "collapsed": true
   },
   "outputs": [],
   "source": [
    "# LSOA_dist_new.head()"
   ]
  },
  {
   "cell_type": "code",
   "execution_count": 16,
   "metadata": {
    "ExecuteTime": {
     "end_time": "2021-06-01T14:13:15.773706Z",
     "start_time": "2021-06-01T14:13:15.699773Z"
    },
    "collapsed": true
   },
   "outputs": [],
   "source": [
    "# LSOA_dist_2021 = {}\n",
    "# for name , group in LSOA_dist_new.groupby('PRACTICE_CODE'):\n",
    "#     LSOA_dist_2021[name] = {}\n",
    "#     total = sum(group['Number of Patients'])\n",
    "#     for index , row in group.iterrows():\n",
    "#         LSOA_dist_2021[name][row['LSOA_CODE']] = float(row['Number of Patients'])/float(total)\n",
    "    \n",
    "        "
   ]
  },
  {
   "cell_type": "code",
   "execution_count": 17,
   "metadata": {
    "ExecuteTime": {
     "end_time": "2021-06-01T14:13:15.856434Z",
     "start_time": "2021-06-01T14:13:15.779540Z"
    },
    "collapsed": true
   },
   "outputs": [],
   "source": [
    "# json.dump(LSOA_dist_2021 , open('mappings/GP_LSOA_PATIENTSDIST_2021.json','w'))"
   ]
  },
  {
   "cell_type": "code",
   "execution_count": 18,
   "metadata": {
    "ExecuteTime": {
     "end_time": "2021-06-01T14:13:15.946060Z",
     "start_time": "2021-06-01T14:13:15.860724Z"
    },
    "collapsed": true
   },
   "outputs": [],
   "source": [
    "%store -r taxonomyDict"
   ]
  },
  {
   "cell_type": "code",
   "execution_count": 19,
   "metadata": {
    "ExecuteTime": {
     "end_time": "2021-06-01T14:13:16.001033Z",
     "start_time": "2021-06-01T14:13:15.949040Z"
    },
    "collapsed": true
   },
   "outputs": [],
   "source": [
    "# json.dump(taxonomyDict, open('mappings/taxomomy_dict.json','w'))"
   ]
  },
  {
   "cell_type": "code",
   "execution_count": 20,
   "metadata": {
    "ExecuteTime": {
     "end_time": "2021-06-01T14:13:16.060561Z",
     "start_time": "2021-06-01T14:13:16.003593Z"
    },
    "collapsed": true
   },
   "outputs": [],
   "source": [
    "%store -r cityMap"
   ]
  },
  {
   "cell_type": "code",
   "execution_count": 21,
   "metadata": {
    "ExecuteTime": {
     "end_time": "2021-06-01T14:13:16.121735Z",
     "start_time": "2021-06-01T14:13:16.064647Z"
    },
    "collapsed": true
   },
   "outputs": [],
   "source": [
    "# json.dump(cityMap, open('mappings/City_map_dict.json','w'))"
   ]
  },
  {
   "cell_type": "code",
   "execution_count": 22,
   "metadata": {
    "ExecuteTime": {
     "end_time": "2021-06-01T14:13:16.348654Z",
     "start_time": "2021-06-01T14:13:16.130471Z"
    }
   },
   "outputs": [
    {
     "name": "stderr",
     "output_type": "stream",
     "text": [
      "/home/sagar/anaconda3/envs/env_py2/lib/python2.7/site-packages/IPython/core/interactiveshell.py:2714: DtypeWarning: Columns (23,24,25,26,27,28,29,30,31,32,33,34,35) have mixed types. Specify dtype option on import or set low_memory=False.\n",
      "  interactivity=interactivity, compiler=compiler, result=result)\n"
     ]
    }
   ],
   "source": [
    "ward_pop = pd.read_csv('../mappings/ward_pop.csv')"
   ]
  },
  {
   "cell_type": "code",
   "execution_count": 23,
   "metadata": {
    "ExecuteTime": {
     "end_time": "2021-06-01T14:13:17.872930Z",
     "start_time": "2021-06-01T14:13:16.353586Z"
    },
    "collapsed": true
   },
   "outputs": [],
   "source": [
    "population = {}\n",
    "for index, row in ward_pop.iterrows():\n",
    "    population[row['Ward Code 1']] = float(row['All Ages'].replace(',',''))"
   ]
  },
  {
   "cell_type": "code",
   "execution_count": 24,
   "metadata": {
    "ExecuteTime": {
     "end_time": "2021-06-01T14:13:17.940691Z",
     "start_time": "2021-06-01T14:13:17.878693Z"
    },
    "collapsed": true
   },
   "outputs": [],
   "source": [
    "df_city = pd.read_csv('../mappings/lower_layer_super_output_area_2011_to_major_towns_and_cities_december_2015_lookup_in_england_and_wales.csv')"
   ]
  },
  {
   "cell_type": "code",
   "execution_count": 25,
   "metadata": {
    "ExecuteTime": {
     "end_time": "2021-06-01T14:13:17.973009Z",
     "start_time": "2021-06-01T14:13:17.944022Z"
    }
   },
   "outputs": [
    {
     "data": {
      "text/html": [
       "<div>\n",
       "<style scoped>\n",
       "    .dataframe tbody tr th:only-of-type {\n",
       "        vertical-align: middle;\n",
       "    }\n",
       "\n",
       "    .dataframe tbody tr th {\n",
       "        vertical-align: top;\n",
       "    }\n",
       "\n",
       "    .dataframe thead th {\n",
       "        text-align: right;\n",
       "    }\n",
       "</style>\n",
       "<table border=\"1\" class=\"dataframe\">\n",
       "  <thead>\n",
       "    <tr style=\"text-align: right;\">\n",
       "      <th></th>\n",
       "      <th>LSOA11CD</th>\n",
       "      <th>LSOA11NM</th>\n",
       "      <th>TCITY15CD</th>\n",
       "      <th>TCITY15NM</th>\n",
       "      <th>FID</th>\n",
       "    </tr>\n",
       "  </thead>\n",
       "  <tbody>\n",
       "    <tr>\n",
       "      <th>0</th>\n",
       "      <td>E01002351</td>\n",
       "      <td>Havering 016C</td>\n",
       "      <td>J01000055</td>\n",
       "      <td>London</td>\n",
       "      <td>2001</td>\n",
       "    </tr>\n",
       "    <tr>\n",
       "      <th>1</th>\n",
       "      <td>E01002352</td>\n",
       "      <td>Havering 016D</td>\n",
       "      <td>J01000055</td>\n",
       "      <td>London</td>\n",
       "      <td>2002</td>\n",
       "    </tr>\n",
       "    <tr>\n",
       "      <th>2</th>\n",
       "      <td>E01002100</td>\n",
       "      <td>Haringey 008B</td>\n",
       "      <td>J01000055</td>\n",
       "      <td>London</td>\n",
       "      <td>2003</td>\n",
       "    </tr>\n",
       "    <tr>\n",
       "      <th>3</th>\n",
       "      <td>E01002301</td>\n",
       "      <td>Havering 003A</td>\n",
       "      <td>J01000055</td>\n",
       "      <td>London</td>\n",
       "      <td>2004</td>\n",
       "    </tr>\n",
       "    <tr>\n",
       "      <th>4</th>\n",
       "      <td>E01002353</td>\n",
       "      <td>Havering 013B</td>\n",
       "      <td>J01000055</td>\n",
       "      <td>London</td>\n",
       "      <td>2005</td>\n",
       "    </tr>\n",
       "  </tbody>\n",
       "</table>\n",
       "</div>"
      ],
      "text/plain": [
       "    LSOA11CD       LSOA11NM  TCITY15CD TCITY15NM   FID\n",
       "0  E01002351  Havering 016C  J01000055    London  2001\n",
       "1  E01002352  Havering 016D  J01000055    London  2002\n",
       "2  E01002100  Haringey 008B  J01000055    London  2003\n",
       "3  E01002301  Havering 003A  J01000055    London  2004\n",
       "4  E01002353  Havering 013B  J01000055    London  2005"
      ]
     },
     "execution_count": 25,
     "metadata": {},
     "output_type": "execute_result"
    }
   ],
   "source": [
    "df_city.head()"
   ]
  },
  {
   "cell_type": "code",
   "execution_count": 26,
   "metadata": {
    "ExecuteTime": {
     "end_time": "2021-06-01T14:13:18.026771Z",
     "start_time": "2021-06-01T14:13:17.977500Z"
    },
    "collapsed": true
   },
   "outputs": [],
   "source": [
    "cityMap = {}\n",
    "for name , group in df_city.groupby('TCITY15NM'):\n",
    "        cityMap[name] = list(group['LSOA11CD'])"
   ]
  },
  {
   "cell_type": "code",
   "execution_count": 27,
   "metadata": {
    "ExecuteTime": {
     "end_time": "2021-06-01T14:13:18.132621Z",
     "start_time": "2021-06-01T14:13:18.031624Z"
    },
    "collapsed": true
   },
   "outputs": [],
   "source": [
    "LSOA_survey_takers = json.load(open('../mappings/LSOA_suvery_pop.json'))"
   ]
  },
  {
   "cell_type": "code",
   "execution_count": 28,
   "metadata": {
    "ExecuteTime": {
     "end_time": "2021-06-01T14:13:18.141879Z",
     "start_time": "2021-06-01T14:13:18.137079Z"
    },
    "collapsed": true
   },
   "outputs": [],
   "source": [
    "disease_drugs = json.load(open(\"../mappings/Disease_Drug_DrugBank.json\",'rb'))"
   ]
  },
  {
   "cell_type": "code",
   "execution_count": 29,
   "metadata": {
    "ExecuteTime": {
     "end_time": "2021-06-01T14:13:18.433809Z",
     "start_time": "2021-06-01T14:13:18.146129Z"
    },
    "collapsed": true
   },
   "outputs": [],
   "source": [
    "drugbank_dict = json.load(open('../mappings/Drugbank_drugs_data.json','rb'))"
   ]
  },
  {
   "cell_type": "code",
   "execution_count": 30,
   "metadata": {
    "ExecuteTime": {
     "end_time": "2021-06-01T14:13:18.839436Z",
     "start_time": "2021-06-01T14:13:18.438241Z"
    }
   },
   "outputs": [
    {
     "data": {
      "text/plain": [
       "{'Barnsley': ['E01007344',\n",
       "  'E01007355',\n",
       "  'E01007356',\n",
       "  'E01007357',\n",
       "  'E01007358',\n",
       "  'E01007359',\n",
       "  'E01007360',\n",
       "  'E01007361',\n",
       "  'E01007362',\n",
       "  'E01007363',\n",
       "  'E01007379',\n",
       "  'E01007380',\n",
       "  'E01007381',\n",
       "  'E01007386',\n",
       "  'E01007387',\n",
       "  'E01007317',\n",
       "  'E01007318',\n",
       "  'E01007319',\n",
       "  'E01007320',\n",
       "  'E01007321',\n",
       "  'E01007322',\n",
       "  'E01007323',\n",
       "  'E01007324',\n",
       "  'E01007325',\n",
       "  'E01007326',\n",
       "  'E01007327',\n",
       "  'E01007334',\n",
       "  'E01007335',\n",
       "  'E01007336',\n",
       "  'E01007337',\n",
       "  'E01007338',\n",
       "  'E01007339',\n",
       "  'E01007340',\n",
       "  'E01007446',\n",
       "  'E01007400',\n",
       "  'E01007402',\n",
       "  'E01007403',\n",
       "  'E01007404',\n",
       "  'E01007405',\n",
       "  'E01007406',\n",
       "  'E01007408',\n",
       "  'E01007409',\n",
       "  'E01007410',\n",
       "  'E01007411',\n",
       "  'E01007413',\n",
       "  'E01007414',\n",
       "  'E01007415',\n",
       "  'E01007416',\n",
       "  'E01007417',\n",
       "  'E01007437',\n",
       "  'E01007441',\n",
       "  'E01007442',\n",
       "  'E01007443',\n",
       "  'E01007444',\n",
       "  'E01007445',\n",
       "  'E01032550',\n",
       "  'E01032551'],\n",
       " 'Basildon': ['E01021323',\n",
       "  'E01021324',\n",
       "  'E01021325',\n",
       "  'E01021326',\n",
       "  'E01021327',\n",
       "  'E01021273',\n",
       "  'E01021328',\n",
       "  'E01021274',\n",
       "  'E01021275',\n",
       "  'E01021276',\n",
       "  'E01021277',\n",
       "  'E01021278',\n",
       "  'E01021279',\n",
       "  'E01021280',\n",
       "  'E01021281',\n",
       "  'E01021282',\n",
       "  'E01021283',\n",
       "  'E01021284',\n",
       "  'E01021285',\n",
       "  'E01021286',\n",
       "  'E01021287',\n",
       "  'E01021288',\n",
       "  'E01021289',\n",
       "  'E01021290',\n",
       "  'E01021291',\n",
       "  'E01021292',\n",
       "  'E01021293',\n",
       "  'E01021294',\n",
       "  'E01021295',\n",
       "  'E01021296',\n",
       "  'E01021297',\n",
       "  'E01021298',\n",
       "  'E01021299',\n",
       "  'E01021300',\n",
       "  'E01021301',\n",
       "  'E01021302',\n",
       "  'E01021303',\n",
       "  'E01021304',\n",
       "  'E01021305',\n",
       "  'E01021306',\n",
       "  'E01021307',\n",
       "  'E01021308',\n",
       "  'E01021309',\n",
       "  'E01021260',\n",
       "  'E01021310',\n",
       "  'E01021261',\n",
       "  'E01021311',\n",
       "  'E01021262',\n",
       "  'E01021263',\n",
       "  'E01021313',\n",
       "  'E01021314',\n",
       "  'E01021265',\n",
       "  'E01021315',\n",
       "  'E01021266',\n",
       "  'E01021316',\n",
       "  'E01021267',\n",
       "  'E01021317',\n",
       "  'E01021268',\n",
       "  'E01021318',\n",
       "  'E01021269',\n",
       "  'E01021319',\n",
       "  'E01021270',\n",
       "  'E01021320',\n",
       "  'E01021271',\n",
       "  'E01021321',\n",
       "  'E01021272',\n",
       "  'E01021322'],\n",
       " 'Basingstoke': ['E01022496',\n",
       "  'E01022497',\n",
       "  'E01022498',\n",
       "  'E01022552',\n",
       "  'E01022502',\n",
       "  'E01022503',\n",
       "  'E01022504',\n",
       "  'E01022505',\n",
       "  'E01022506',\n",
       "  'E01022507',\n",
       "  'E01022509',\n",
       "  'E01022510',\n",
       "  'E01022511',\n",
       "  'E01022512',\n",
       "  'E01022515',\n",
       "  'E01022516',\n",
       "  'E01022566',\n",
       "  'E01022517',\n",
       "  'E01022567',\n",
       "  'E01022518',\n",
       "  'E01022568',\n",
       "  'E01022519',\n",
       "  'E01022569',\n",
       "  'E01022570',\n",
       "  'E01022523',\n",
       "  'E01022524',\n",
       "  'E01022467',\n",
       "  'E01022525',\n",
       "  'E01022526',\n",
       "  'E01022469',\n",
       "  'E01022527',\n",
       "  'E01022470',\n",
       "  'E01022471',\n",
       "  'E01022474',\n",
       "  'E01022475',\n",
       "  'E01022476',\n",
       "  'E01022477',\n",
       "  'E01022478',\n",
       "  'E01022479',\n",
       "  'E01022480',\n",
       "  'E01022481',\n",
       "  'E01022482',\n",
       "  'E01022484',\n",
       "  'E01022485',\n",
       "  'E01022486',\n",
       "  'E01022487',\n",
       "  'E01022494',\n",
       "  'E01022495',\n",
       "  'E01022539',\n",
       "  'E01022540',\n",
       "  'E01022542',\n",
       "  'E01022543',\n",
       "  'E01022548',\n",
       "  'E01022549',\n",
       "  'E01022550',\n",
       "  'E01022551',\n",
       "  'E01032840',\n",
       "  'E01032841',\n",
       "  'E01032842',\n",
       "  'E01032843',\n",
       "  'E01032844',\n",
       "  'E01032845',\n",
       "  'E01032846',\n",
       "  'E01032847',\n",
       "  'E01032848',\n",
       "  'E01032849',\n",
       "  'E01032850',\n",
       "  'E01032851'],\n",
       " 'Bath': ['E01014381',\n",
       "  'E01014387',\n",
       "  'E01014388',\n",
       "  'E01014389',\n",
       "  'E01014390',\n",
       "  'E01014405',\n",
       "  'E01014407',\n",
       "  'E01014409',\n",
       "  'E01014410',\n",
       "  'E01014411',\n",
       "  'E01014412',\n",
       "  'E01014413',\n",
       "  'E01014414',\n",
       "  'E01014415',\n",
       "  'E01014416',\n",
       "  'E01014417',\n",
       "  'E01014370',\n",
       "  'E01014371',\n",
       "  'E01014372',\n",
       "  'E01014373',\n",
       "  'E01014374',\n",
       "  'E01014376',\n",
       "  'E01014377',\n",
       "  'E01014427',\n",
       "  'E01014428',\n",
       "  'E01014380',\n",
       "  'E01014429',\n",
       "  'E01014430',\n",
       "  'E01014431',\n",
       "  'E01014432',\n",
       "  'E01014433',\n",
       "  'E01014434',\n",
       "  'E01014483',\n",
       "  'E01014435',\n",
       "  'E01014484',\n",
       "  'E01014436',\n",
       "  'E01014437',\n",
       "  'E01014438',\n",
       "  'E01014455',\n",
       "  'E01014456',\n",
       "  'E01014457',\n",
       "  'E01014458',\n",
       "  'E01014461',\n",
       "  'E01014462',\n",
       "  'E01014463',\n",
       "  'E01014464',\n",
       "  'E01014465',\n",
       "  'E01014466',\n",
       "  'E01014467',\n",
       "  'E01014468',\n",
       "  'E01014473',\n",
       "  'E01014474',\n",
       "  'E01014475',\n",
       "  'E01014476',\n",
       "  'E01014477',\n",
       "  'E01014478',\n",
       "  'E01014479',\n",
       "  'E01014480',\n",
       "  'E01014481',\n",
       "  'E01014482',\n",
       "  'E01033080'],\n",
       " 'Bedford': ['E01017453',\n",
       "  'E01017454',\n",
       "  'E01017455',\n",
       "  'E01017456',\n",
       "  'E01017457',\n",
       "  'E01017458',\n",
       "  'E01017460',\n",
       "  'E01017466',\n",
       "  'E01017467',\n",
       "  'E01017468',\n",
       "  'E01017469',\n",
       "  'E01017470',\n",
       "  'E01017471',\n",
       "  'E01017472',\n",
       "  'E01017473',\n",
       "  'E01017474',\n",
       "  'E01017475',\n",
       "  'E01017476',\n",
       "  'E01017477',\n",
       "  'E01017482',\n",
       "  'E01017483',\n",
       "  'E01017484',\n",
       "  'E01017485',\n",
       "  'E01017488',\n",
       "  'E01017489',\n",
       "  'E01017490',\n",
       "  'E01017491',\n",
       "  'E01017492',\n",
       "  'E01017493',\n",
       "  'E01017497',\n",
       "  'E01017498',\n",
       "  'E01017499',\n",
       "  'E01017500',\n",
       "  'E01017501',\n",
       "  'E01017502',\n",
       "  'E01017518',\n",
       "  'E01017519',\n",
       "  'E01017520',\n",
       "  'E01017521',\n",
       "  'E01017522',\n",
       "  'E01017523',\n",
       "  'E01017524',\n",
       "  'E01017525',\n",
       "  'E01017526',\n",
       "  'E01017527',\n",
       "  'E01017529',\n",
       "  'E01017530',\n",
       "  'E01017531',\n",
       "  'E01017532',\n",
       "  'E01017533',\n",
       "  'E01017534',\n",
       "  'E01017535',\n",
       "  'E01017536',\n",
       "  'E01017537',\n",
       "  'E01017538',\n",
       "  'E01017539',\n",
       "  'E01017550',\n",
       "  'E01033431',\n",
       "  'E01033432'],\n",
       " 'Birkenhead': ['E01007243',\n",
       "  'E01007244',\n",
       "  'E01007245',\n",
       "  'E01007246',\n",
       "  'E01007293',\n",
       "  'E01007247',\n",
       "  'E01007294',\n",
       "  'E01007248',\n",
       "  'E01007295',\n",
       "  'E01007296',\n",
       "  'E01007250',\n",
       "  'E01007252',\n",
       "  'E01007253',\n",
       "  'E01007254',\n",
       "  'E01007289',\n",
       "  'E01007290',\n",
       "  'E01007291',\n",
       "  'E01007292',\n",
       "  'E01007155',\n",
       "  'E01007156',\n",
       "  'E01007157',\n",
       "  'E01007158',\n",
       "  'E01007159',\n",
       "  'E01007160',\n",
       "  'E01007161',\n",
       "  'E01007162',\n",
       "  'E01007163',\n",
       "  'E01007119',\n",
       "  'E01007120',\n",
       "  'E01007173',\n",
       "  'E01007121',\n",
       "  'E01007122',\n",
       "  'E01007123',\n",
       "  'E01007124',\n",
       "  'E01007125',\n",
       "  'E01007126',\n",
       "  'E01007127',\n",
       "  'E01007128',\n",
       "  'E01007129',\n",
       "  'E01007130',\n",
       "  'E01007131',\n",
       "  'E01007133',\n",
       "  'E01007174',\n",
       "  'E01007175',\n",
       "  'E01007176',\n",
       "  'E01007177',\n",
       "  'E01007178',\n",
       "  'E01007179',\n",
       "  'E01007180',\n",
       "  'E01007181',\n",
       "  'E01007239',\n",
       "  'E01007240',\n",
       "  'E01007241',\n",
       "  'E01007242',\n",
       "  'E01032903'],\n",
       " 'Birmingham': ['E01010357',\n",
       "  'E01010355',\n",
       "  'E01010356',\n",
       "  'E01010358',\n",
       "  'E01010359',\n",
       "  'E01010360',\n",
       "  'E01008994',\n",
       "  'E01008883',\n",
       "  'E01008941',\n",
       "  'E01008995',\n",
       "  'E01008884',\n",
       "  'E01008942',\n",
       "  'E01008996',\n",
       "  'E01008885',\n",
       "  'E01008943',\n",
       "  'E01008997',\n",
       "  'E01008886',\n",
       "  'E01008944',\n",
       "  'E01008998',\n",
       "  'E01008887',\n",
       "  'E01008945',\n",
       "  'E01008999',\n",
       "  'E01008888',\n",
       "  'E01008946',\n",
       "  'E01009000',\n",
       "  'E01008889',\n",
       "  'E01008947',\n",
       "  'E01009001',\n",
       "  'E01008890',\n",
       "  'E01008948',\n",
       "  'E01009002',\n",
       "  'E01008891',\n",
       "  'E01008949',\n",
       "  'E01009003',\n",
       "  'E01008892',\n",
       "  'E01009005',\n",
       "  'E01008950',\n",
       "  'E01008893',\n",
       "  'E01009006',\n",
       "  'E01008951',\n",
       "  'E01008894',\n",
       "  'E01009007',\n",
       "  'E01008952',\n",
       "  'E01008895',\n",
       "  'E01009008',\n",
       "  'E01008953',\n",
       "  'E01008896',\n",
       "  'E01009009',\n",
       "  'E01008954',\n",
       "  'E01008897',\n",
       "  'E01009011',\n",
       "  'E01008955',\n",
       "  'E01008898',\n",
       "  'E01009012',\n",
       "  'E01008956',\n",
       "  'E01008957',\n",
       "  'E01008958',\n",
       "  'E01008959',\n",
       "  'E01008960',\n",
       "  'E01008961',\n",
       "  'E01008962',\n",
       "  'E01008963',\n",
       "  'E01008964',\n",
       "  'E01008899',\n",
       "  'E01008965',\n",
       "  'E01008901',\n",
       "  'E01009013',\n",
       "  'E01008905',\n",
       "  'E01009014',\n",
       "  'E01008966',\n",
       "  'E01008906',\n",
       "  'E01009015',\n",
       "  'E01008967',\n",
       "  'E01008907',\n",
       "  'E01009016',\n",
       "  'E01008968',\n",
       "  'E01008909',\n",
       "  'E01009017',\n",
       "  'E01008969',\n",
       "  'E01008910',\n",
       "  'E01009018',\n",
       "  'E01008970',\n",
       "  'E01008911',\n",
       "  'E01009019',\n",
       "  'E01008971',\n",
       "  'E01008913',\n",
       "  'E01009020',\n",
       "  'E01008972',\n",
       "  'E01008914',\n",
       "  'E01009021',\n",
       "  'E01008973',\n",
       "  'E01008915',\n",
       "  'E01009022',\n",
       "  'E01008974',\n",
       "  'E01008916',\n",
       "  'E01009023',\n",
       "  'E01008975',\n",
       "  'E01008976',\n",
       "  'E01008977',\n",
       "  'E01008978',\n",
       "  'E01008979',\n",
       "  'E01008980',\n",
       "  'E01008981',\n",
       "  'E01008982',\n",
       "  'E01008984',\n",
       "  'E01008986',\n",
       "  'E01008987',\n",
       "  'E01008988',\n",
       "  'E01008989',\n",
       "  'E01008990',\n",
       "  'E01008991',\n",
       "  'E01008992',\n",
       "  'E01008917',\n",
       "  'E01008918',\n",
       "  'E01008919',\n",
       "  'E01008920',\n",
       "  'E01008921',\n",
       "  'E01008923',\n",
       "  'E01008924',\n",
       "  'E01008925',\n",
       "  'E01008927',\n",
       "  'E01008928',\n",
       "  'E01008929',\n",
       "  'E01008930',\n",
       "  'E01008931',\n",
       "  'E01008932',\n",
       "  'E01008933',\n",
       "  'E01008934',\n",
       "  'E01008935',\n",
       "  'E01008936',\n",
       "  'E01008937',\n",
       "  'E01008938',\n",
       "  'E01008939',\n",
       "  'E01008940',\n",
       "  'E01009024',\n",
       "  'E01009025',\n",
       "  'E01009026',\n",
       "  'E01009028',\n",
       "  'E01009029',\n",
       "  'E01009030',\n",
       "  'E01009031',\n",
       "  'E01009032',\n",
       "  'E01009033',\n",
       "  'E01009034',\n",
       "  'E01009035',\n",
       "  'E01009036',\n",
       "  'E01009037',\n",
       "  'E01009039',\n",
       "  'E01009040',\n",
       "  'E01009041',\n",
       "  'E01009042',\n",
       "  'E01009043',\n",
       "  'E01009044',\n",
       "  'E01009045',\n",
       "  'E01009046',\n",
       "  'E01009047',\n",
       "  'E01008881',\n",
       "  'E01008882',\n",
       "  'E01009159',\n",
       "  'E01009318',\n",
       "  'E01009160',\n",
       "  'E01009161',\n",
       "  'E01009162',\n",
       "  'E01009319',\n",
       "  'E01009163',\n",
       "  'E01009048',\n",
       "  'E01009320',\n",
       "  'E01009102',\n",
       "  'E01009374',\n",
       "  'E01009215',\n",
       "  'E01009164',\n",
       "  'E01009165',\n",
       "  'E01009166',\n",
       "  'E01009167',\n",
       "  'E01009168',\n",
       "  'E01009169',\n",
       "  'E01009170',\n",
       "  'E01009171',\n",
       "  'E01009172',\n",
       "  'E01009173',\n",
       "  'E01009174',\n",
       "  'E01009265',\n",
       "  'E01009175',\n",
       "  'E01009176',\n",
       "  'E01009177',\n",
       "  'E01009178',\n",
       "  'E01009179',\n",
       "  'E01009182',\n",
       "  'E01009183',\n",
       "  'E01009184',\n",
       "  'E01009185',\n",
       "  'E01009186',\n",
       "  'E01009187',\n",
       "  'E01009188',\n",
       "  'E01009189',\n",
       "  'E01009192',\n",
       "  'E01009194',\n",
       "  'E01009195',\n",
       "  'E01009197',\n",
       "  'E01009198',\n",
       "  'E01009199',\n",
       "  'E01009200',\n",
       "  'E01009201',\n",
       "  'E01009202',\n",
       "  'E01009203',\n",
       "  'E01009204',\n",
       "  'E01009205',\n",
       "  'E01009206',\n",
       "  'E01009207',\n",
       "  'E01009208',\n",
       "  'E01009209',\n",
       "  'E01009210',\n",
       "  'E01009211',\n",
       "  'E01009212',\n",
       "  'E01009213',\n",
       "  'E01009214',\n",
       "  'E01009266',\n",
       "  'E01009267',\n",
       "  'E01009268',\n",
       "  'E01009269',\n",
       "  'E01009270',\n",
       "  'E01009271',\n",
       "  'E01009272',\n",
       "  'E01009273',\n",
       "  'E01009274',\n",
       "  'E01009275',\n",
       "  'E01009276',\n",
       "  'E01009278',\n",
       "  'E01009279',\n",
       "  'E01009280',\n",
       "  'E01009281',\n",
       "  'E01009282',\n",
       "  'E01009283',\n",
       "  'E01009284',\n",
       "  'E01009286',\n",
       "  'E01009288',\n",
       "  'E01009289',\n",
       "  'E01009290',\n",
       "  'E01009291',\n",
       "  'E01009292',\n",
       "  'E01009293',\n",
       "  'E01009294',\n",
       "  'E01009295',\n",
       "  'E01009296',\n",
       "  'E01009297',\n",
       "  'E01009298',\n",
       "  'E01009299',\n",
       "  'E01009300',\n",
       "  'E01009301',\n",
       "  'E01009302',\n",
       "  'E01009303',\n",
       "  'E01009304',\n",
       "  'E01009305',\n",
       "  'E01009306',\n",
       "  'E01009307',\n",
       "  'E01009308',\n",
       "  'E01009309',\n",
       "  'E01009310',\n",
       "  'E01009311',\n",
       "  'E01009312',\n",
       "  'E01009313',\n",
       "  'E01009314',\n",
       "  'E01009315',\n",
       "  'E01009316',\n",
       "  'E01009317',\n",
       "  'E01009103',\n",
       "  'E01009321',\n",
       "  'E01009049',\n",
       "  'E01009216',\n",
       "  'E01009375',\n",
       "  'E01009322',\n",
       "  'E01009376',\n",
       "  'E01009323',\n",
       "  'E01009377',\n",
       "  'E01009324',\n",
       "  'E01009217',\n",
       "  'E01009050',\n",
       "  'E01009378',\n",
       "  'E01009325',\n",
       "  'E01009218',\n",
       "  'E01009051',\n",
       "  'E01009379',\n",
       "  'E01009104',\n",
       "  'E01009326',\n",
       "  'E01009219',\n",
       "  'E01009053',\n",
       "  'E01009380',\n",
       "  'E01009105',\n",
       "  'E01009327',\n",
       "  'E01009220',\n",
       "  'E01009054',\n",
       "  'E01009382',\n",
       "  'E01009106',\n",
       "  'E01009328',\n",
       "  'E01009221',\n",
       "  'E01009056',\n",
       "  'E01009383',\n",
       "  'E01009107',\n",
       "  'E01009329',\n",
       "  'E01009331',\n",
       "  'E01009332',\n",
       "  'E01009333',\n",
       "  'E01009334',\n",
       "  'E01009335',\n",
       "  'E01009337',\n",
       "  'E01009338',\n",
       "  'E01009339',\n",
       "  'E01009340',\n",
       "  'E01009341',\n",
       "  'E01009342',\n",
       "  'E01009343',\n",
       "  'E01009344',\n",
       "  'E01009345',\n",
       "  'E01009346',\n",
       "  'E01009347',\n",
       "  'E01009348',\n",
       "  'E01009349',\n",
       "  'E01009350',\n",
       "  'E01009351',\n",
       "  'E01009352',\n",
       "  'E01009353',\n",
       "  'E01009354',\n",
       "  'E01009355',\n",
       "  'E01009358',\n",
       "  'E01009359',\n",
       "  'E01009360',\n",
       "  'E01009361',\n",
       "  'E01009362',\n",
       "  'E01009363',\n",
       "  'E01009364',\n",
       "  'E01009365',\n",
       "  'E01009366',\n",
       "  'E01009367',\n",
       "  'E01009368',\n",
       "  'E01009371',\n",
       "  'E01009372',\n",
       "  'E01009373',\n",
       "  'E01009384',\n",
       "  'E01009057',\n",
       "  'E01009222',\n",
       "  'E01009385',\n",
       "  'E01009058',\n",
       "  'E01009108',\n",
       "  'E01009223',\n",
       "  'E01009389',\n",
       "  'E01009059',\n",
       "  'E01009109',\n",
       "  'E01009224',\n",
       "  'E01009390',\n",
       "  'E01009060',\n",
       "  'E01009110',\n",
       "  'E01009225',\n",
       "  'E01009391',\n",
       "  'E01009439',\n",
       "  'E01009061',\n",
       "  'E01009111',\n",
       "  'E01009226',\n",
       "  'E01009392',\n",
       "  'E01009062',\n",
       "  'E01009112',\n",
       "  'E01009227',\n",
       "  'E01009228',\n",
       "  'E01009229',\n",
       "  'E01009230',\n",
       "  'E01009231',\n",
       "  'E01009232',\n",
       "  'E01009233',\n",
       "  'E01009234',\n",
       "  'E01009235',\n",
       "  'E01009236',\n",
       "  'E01009237',\n",
       "  'E01009238',\n",
       "  'E01009239',\n",
       "  'E01009240',\n",
       "  'E01009241',\n",
       "  'E01009242',\n",
       "  'E01009243',\n",
       "  'E01009244',\n",
       "  'E01009245',\n",
       "  'E01009246',\n",
       "  'E01009247',\n",
       "  'E01009248',\n",
       "  'E01009249',\n",
       "  'E01009250',\n",
       "  'E01009251',\n",
       "  'E01009252',\n",
       "  'E01009253',\n",
       "  'E01009254',\n",
       "  'E01009255',\n",
       "  'E01009256',\n",
       "  'E01009257',\n",
       "  'E01009258',\n",
       "  'E01009259',\n",
       "  'E01009260',\n",
       "  'E01009261',\n",
       "  'E01009262',\n",
       "  'E01009263',\n",
       "  'E01009264',\n",
       "  'E01009393',\n",
       "  'E01009441',\n",
       "  'E01009113',\n",
       "  'E01009394',\n",
       "  'E01009114',\n",
       "  'E01009395',\n",
       "  'E01009115',\n",
       "  'E01009396',\n",
       "  'E01009064',\n",
       "  'E01009116',\n",
       "  'E01009397',\n",
       "  'E01009065',\n",
       "  'E01009117',\n",
       "  'E01009399',\n",
       "  'E01009066',\n",
       "  'E01009118',\n",
       "  'E01009400',\n",
       "  'E01009067',\n",
       "  'E01009119',\n",
       "  'E01009401',\n",
       "  'E01009068',\n",
       "  'E01009069',\n",
       "  'E01009070',\n",
       "  'E01009071',\n",
       "  'E01009072',\n",
       "  'E01009073',\n",
       "  'E01009074',\n",
       "  'E01009075',\n",
       "  'E01009077',\n",
       "  'E01009078',\n",
       "  'E01009079',\n",
       "  'E01009080',\n",
       "  'E01009081',\n",
       "  'E01009082',\n",
       "  'E01009083',\n",
       "  'E01009084',\n",
       "  'E01009085',\n",
       "  'E01009086',\n",
       "  'E01009087',\n",
       "  'E01009088',\n",
       "  'E01009089',\n",
       "  'E01009090',\n",
       "  'E01009091',\n",
       "  'E01009092',\n",
       "  'E01009093',\n",
       "  'E01009094',\n",
       "  'E01009095',\n",
       "  'E01009096',\n",
       "  'E01009097',\n",
       "  'E01009098',\n",
       "  'E01009099',\n",
       "  'E01009100',\n",
       "  'E01009101',\n",
       "  'E01009475',\n",
       "  'E01009476',\n",
       "  'E01009477',\n",
       "  'E01009478',\n",
       "  'E01009479',\n",
       "  'E01009120',\n",
       "  'E01009403',\n",
       "  'E01009121',\n",
       "  'E01009122',\n",
       "  'E01009123',\n",
       "  'E01009124',\n",
       "  'E01009125',\n",
       "  'E01009126',\n",
       "  'E01009127',\n",
       "  'E01009128',\n",
       "  'E01009129',\n",
       "  'E01009130',\n",
       "  'E01009131',\n",
       "  'E01009132',\n",
       "  'E01009133',\n",
       "  'E01009134',\n",
       "  'E01009135',\n",
       "  'E01009404',\n",
       "  'E01009136',\n",
       "  'E01009405',\n",
       "  'E01009137',\n",
       "  'E01009406',\n",
       "  'E01009138',\n",
       "  'E01009407',\n",
       "  'E01009139',\n",
       "  'E01009408',\n",
       "  'E01009140',\n",
       "  'E01009409',\n",
       "  'E01009141',\n",
       "  'E01009410',\n",
       "  'E01009143',\n",
       "  'E01009411',\n",
       "  'E01009145',\n",
       "  'E01009412',\n",
       "  'E01009146',\n",
       "  'E01009413',\n",
       "  'E01009147',\n",
       "  'E01009414',\n",
       "  'E01009151',\n",
       "  'E01009152',\n",
       "  'E01009153',\n",
       "  'E01009155',\n",
       "  'E01009157',\n",
       "  'E01009158',\n",
       "  'E01009480',\n",
       "  'E01009481',\n",
       "  'E01009482',\n",
       "  'E01009483',\n",
       "  'E01009484',\n",
       "  'E01009485',\n",
       "  'E01009486',\n",
       "  'E01009487',\n",
       "  'E01009488',\n",
       "  'E01009489',\n",
       "  'E01009490',\n",
       "  'E01009491',\n",
       "  'E01009492',\n",
       "  'E01009493',\n",
       "  'E01009494',\n",
       "  'E01009495',\n",
       "  'E01009496',\n",
       "  'E01009497',\n",
       "  'E01009498',\n",
       "  'E01009499',\n",
       "  'E01009500',\n",
       "  'E01009501',\n",
       "  'E01009502',\n",
       "  'E01009503',\n",
       "  'E01009504',\n",
       "  'E01009505',\n",
       "  'E01009506',\n",
       "  'E01009507',\n",
       "  'E01009508',\n",
       "  'E01009509',\n",
       "  'E01009510',\n",
       "  'E01009511',\n",
       "  'E01009512',\n",
       "  'E01009513',\n",
       "  'E01009514',\n",
       "  'E01009515',\n",
       "  'E01009516',\n",
       "  'E01009517',\n",
       "  'E01009518',\n",
       "  'E01009519',\n",
       "  'E01009520',\n",
       "  'E01009521',\n",
       "  'E01010109',\n",
       "  'E01010110',\n",
       "  'E01010111',\n",
       "  'E01010112',\n",
       "  'E01010113',\n",
       "  'E01010114',\n",
       "  'E01010117',\n",
       "  'E01010118',\n",
       "  'E01010119',\n",
       "  'E01010120',\n",
       "  'E01010121',\n",
       "  'E01010122',\n",
       "  'E01010123',\n",
       "  'E01010124',\n",
       "  'E01010125',\n",
       "  'E01010126',\n",
       "  'E01010127',\n",
       "  'E01010128',\n",
       "  'E01010129',\n",
       "  'E01010130',\n",
       "  'E01010131',\n",
       "  'E01010139',\n",
       "  'E01010140',\n",
       "  'E01010141',\n",
       "  'E01010142',\n",
       "  'E01010143',\n",
       "  'E01010144',\n",
       "  'E01010145',\n",
       "  'E01010146',\n",
       "  'E01010147',\n",
       "  'E01010148',\n",
       "  'E01010149',\n",
       "  'E01010001',\n",
       "  'E01010022',\n",
       "  'E01010023',\n",
       "  'E01010234',\n",
       "  'E01010235',\n",
       "  'E01010236',\n",
       "  'E01010237',\n",
       "  'E01010238',\n",
       "  'E01010239',\n",
       "  'E01010240',\n",
       "  'E01010024',\n",
       "  'E01010025',\n",
       "  'E01010026',\n",
       "  'E01010027',\n",
       "  'E01010028',\n",
       "  'E01009921',\n",
       "  'E01009937',\n",
       "  'E01009939',\n",
       "  'E01009940',\n",
       "  'E01033625',\n",
       "  'E01033615',\n",
       "  'E01033616',\n",
       "  'E01033617',\n",
       "  'E01033618',\n",
       "  'E01033619',\n",
       "  'E01033620',\n",
       "  'E01033621',\n",
       "  'E01033622',\n",
       "  'E01033623',\n",
       "  'E01033624',\n",
       "  'E01033626',\n",
       "  'E01033627',\n",
       "  'E01033628',\n",
       "  'E01033629',\n",
       "  'E01033630',\n",
       "  'E01033631',\n",
       "  'E01033632',\n",
       "  'E01033633',\n",
       "  'E01033634',\n",
       "  'E01033635',\n",
       "  'E01033636',\n",
       "  'E01033637',\n",
       "  'E01033638',\n",
       "  'E01033639',\n",
       "  'E01033640',\n",
       "  'E01033641',\n",
       "  'E01033642',\n",
       "  'E01033643',\n",
       "  'E01033644',\n",
       "  'E01033645',\n",
       "  'E01033646',\n",
       "  'E01033647',\n",
       "  'E01033648',\n",
       "  'E01033649',\n",
       "  'E01033650',\n",
       "  'E01033557',\n",
       "  'E01033559',\n",
       "  'E01033561',\n",
       "  'E01033562',\n",
       "  'E01033564',\n",
       "  'E01033565',\n",
       "  'E01033567',\n",
       "  'E01032170',\n",
       "  'E01032171',\n",
       "  'E01032172',\n",
       "  'E01032126',\n",
       "  'E01032133',\n",
       "  'E01032135',\n",
       "  'E01032142',\n",
       "  'E01032145',\n",
       "  'E01032147',\n",
       "  'E01032589',\n",
       "  'E01032591'],\n",
       " 'Blackburn': ['E01012571',\n",
       "  'E01012572',\n",
       "  'E01012573',\n",
       "  'E01012574',\n",
       "  'E01012575',\n",
       "  'E01012576',\n",
       "  'E01012577',\n",
       "  'E01012578',\n",
       "  'E01012579',\n",
       "  'E01012580',\n",
       "  'E01012581',\n",
       "  'E01012582',\n",
       "  'E01012583',\n",
       "  'E01012584',\n",
       "  'E01012585',\n",
       "  'E01012586',\n",
       "  'E01012587',\n",
       "  'E01012588',\n",
       "  'E01012643',\n",
       "  'E01012644',\n",
       "  'E01012645',\n",
       "  'E01012593',\n",
       "  'E01012594',\n",
       "  'E01012595',\n",
       "  'E01012596',\n",
       "  'E01012597',\n",
       "  'E01012598',\n",
       "  'E01012599',\n",
       "  'E01012600',\n",
       "  'E01012601',\n",
       "  'E01012655',\n",
       "  'E01012656',\n",
       "  'E01012602',\n",
       "  'E01012603',\n",
       "  'E01012604',\n",
       "  'E01012657',\n",
       "  'E01012605',\n",
       "  'E01012658',\n",
       "  'E01012606',\n",
       "  'E01012607',\n",
       "  'E01012608',\n",
       "  'E01012609',\n",
       "  'E01012610',\n",
       "  'E01012612',\n",
       "  'E01012613',\n",
       "  'E01012618',\n",
       "  'E01012619',\n",
       "  'E01012620',\n",
       "  'E01012621',\n",
       "  'E01012622',\n",
       "  'E01012623',\n",
       "  'E01012624',\n",
       "  'E01012625',\n",
       "  'E01012629',\n",
       "  'E01012630',\n",
       "  'E01012631',\n",
       "  'E01012632',\n",
       "  'E01012633',\n",
       "  'E01012634',\n",
       "  'E01012635',\n",
       "  'E01012636',\n",
       "  'E01012637',\n",
       "  'E01012638',\n",
       "  'E01012639',\n",
       "  'E01012640',\n",
       "  'E01012641',\n",
       "  'E01012642',\n",
       "  'E01025323',\n",
       "  'E01025324',\n",
       "  'E01025352',\n",
       "  'E01025353',\n",
       "  'E01025079'],\n",
       " 'Blackpool': ['E01012743',\n",
       "  'E01012693',\n",
       "  'E01012744',\n",
       "  'E01012745',\n",
       "  'E01012746',\n",
       "  'E01012747',\n",
       "  'E01012694',\n",
       "  'E01012748',\n",
       "  'E01012695',\n",
       "  'E01012749',\n",
       "  'E01012696',\n",
       "  'E01012750',\n",
       "  'E01012697',\n",
       "  'E01012751',\n",
       "  'E01012698',\n",
       "  'E01012752',\n",
       "  'E01012699',\n",
       "  'E01012753',\n",
       "  'E01012700',\n",
       "  'E01012754',\n",
       "  'E01012701',\n",
       "  'E01012755',\n",
       "  'E01012702',\n",
       "  'E01012703',\n",
       "  'E01012704',\n",
       "  'E01012705',\n",
       "  'E01012706',\n",
       "  'E01012707',\n",
       "  'E01012708',\n",
       "  'E01012662',\n",
       "  'E01012709',\n",
       "  'E01012663',\n",
       "  'E01012710',\n",
       "  'E01012664',\n",
       "  'E01012711',\n",
       "  'E01012665',\n",
       "  'E01012712',\n",
       "  'E01012666',\n",
       "  'E01012713',\n",
       "  'E01012667',\n",
       "  'E01012714',\n",
       "  'E01012668',\n",
       "  'E01012715',\n",
       "  'E01012669',\n",
       "  'E01012716',\n",
       "  'E01012670',\n",
       "  'E01012717',\n",
       "  'E01012718',\n",
       "  'E01012719',\n",
       "  'E01012720',\n",
       "  'E01012721',\n",
       "  'E01012722',\n",
       "  'E01012723',\n",
       "  'E01012724',\n",
       "  'E01012725',\n",
       "  'E01012726',\n",
       "  'E01012727',\n",
       "  'E01012728',\n",
       "  'E01012729',\n",
       "  'E01012730',\n",
       "  'E01012731',\n",
       "  'E01012732',\n",
       "  'E01012733',\n",
       "  'E01012734',\n",
       "  'E01012735',\n",
       "  'E01012736',\n",
       "  'E01012737',\n",
       "  'E01012738',\n",
       "  'E01012739',\n",
       "  'E01012740',\n",
       "  'E01012741',\n",
       "  'E01012742',\n",
       "  'E01012671',\n",
       "  'E01012672',\n",
       "  'E01012673',\n",
       "  'E01012674',\n",
       "  'E01012675',\n",
       "  'E01012676',\n",
       "  'E01012677',\n",
       "  'E01012678',\n",
       "  'E01012679',\n",
       "  'E01012680',\n",
       "  'E01012681',\n",
       "  'E01012682',\n",
       "  'E01012683',\n",
       "  'E01012684',\n",
       "  'E01012685',\n",
       "  'E01012686',\n",
       "  'E01012687',\n",
       "  'E01012688',\n",
       "  'E01012689',\n",
       "  'E01012690',\n",
       "  'E01012691',\n",
       "  'E01012692',\n",
       "  'E01025602',\n",
       "  'E01025031',\n",
       "  'E01025568'],\n",
       " 'Bolton': ['E01004766',\n",
       "  'E01004767',\n",
       "  'E01004768',\n",
       "  'E01004769',\n",
       "  'E01004770',\n",
       "  'E01004771',\n",
       "  'E01004772',\n",
       "  'E01004773',\n",
       "  'E01004825',\n",
       "  'E01004774',\n",
       "  'E01004784',\n",
       "  'E01004785',\n",
       "  'E01004786',\n",
       "  'E01004787',\n",
       "  'E01004788',\n",
       "  'E01004789',\n",
       "  'E01004790',\n",
       "  'E01004791',\n",
       "  'E01004792',\n",
       "  'E01004793',\n",
       "  'E01004794',\n",
       "  'E01004795',\n",
       "  'E01004796',\n",
       "  'E01004797',\n",
       "  'E01004798',\n",
       "  'E01004799',\n",
       "  'E01004800',\n",
       "  'E01004801',\n",
       "  'E01004802',\n",
       "  'E01004803',\n",
       "  'E01004804',\n",
       "  'E01004805',\n",
       "  'E01004806',\n",
       "  'E01004807',\n",
       "  'E01004808',\n",
       "  'E01004809',\n",
       "  'E01004810',\n",
       "  'E01004811',\n",
       "  'E01004812',\n",
       "  'E01004813',\n",
       "  'E01004815',\n",
       "  'E01004816',\n",
       "  'E01004817',\n",
       "  'E01004818',\n",
       "  'E01004819',\n",
       "  'E01004820',\n",
       "  'E01004822',\n",
       "  'E01004823',\n",
       "  'E01004824',\n",
       "  'E01004826',\n",
       "  'E01004827',\n",
       "  'E01004828',\n",
       "  'E01004829',\n",
       "  'E01004830',\n",
       "  'E01004831',\n",
       "  'E01004832',\n",
       "  'E01004833',\n",
       "  'E01004834',\n",
       "  'E01004835',\n",
       "  'E01004836',\n",
       "  'E01004837',\n",
       "  'E01004838',\n",
       "  'E01004839',\n",
       "  'E01004840',\n",
       "  'E01004841',\n",
       "  'E01004842',\n",
       "  'E01004843',\n",
       "  'E01004844',\n",
       "  'E01004845',\n",
       "  'E01004846',\n",
       "  'E01004847',\n",
       "  'E01004848',\n",
       "  'E01004849',\n",
       "  'E01004850',\n",
       "  'E01004851',\n",
       "  'E01004852',\n",
       "  'E01004853',\n",
       "  'E01004854',\n",
       "  'E01004864',\n",
       "  'E01004865',\n",
       "  'E01004866',\n",
       "  'E01004867',\n",
       "  'E01004868',\n",
       "  'E01004869',\n",
       "  'E01004870',\n",
       "  'E01004871',\n",
       "  'E01004877',\n",
       "  'E01004878',\n",
       "  'E01004879',\n",
       "  'E01004897',\n",
       "  'E01004900',\n",
       "  'E01004917',\n",
       "  'E01004919',\n",
       "  'E01004920',\n",
       "  'E01004921',\n",
       "  'E01004922',\n",
       "  'E01004923',\n",
       "  'E01004924',\n",
       "  'E01004925',\n",
       "  'E01004926',\n",
       "  'E01004927',\n",
       "  'E01004928',\n",
       "  'E01004929',\n",
       "  'E01004930',\n",
       "  'E01004931',\n",
       "  'E01004932',\n",
       "  'E01033217',\n",
       "  'E01033220'],\n",
       " 'Bournemouth': ['E01015276',\n",
       "  'E01015328',\n",
       "  'E01015435',\n",
       "  'E01015277',\n",
       "  'E01015329',\n",
       "  'E01015436',\n",
       "  'E01015330',\n",
       "  'E01015437',\n",
       "  'E01015331',\n",
       "  'E01015279',\n",
       "  'E01015332',\n",
       "  'E01015280',\n",
       "  'E01015333',\n",
       "  'E01015281',\n",
       "  'E01015334',\n",
       "  'E01015282',\n",
       "  'E01015335',\n",
       "  'E01015283',\n",
       "  'E01015336',\n",
       "  'E01015285',\n",
       "  'E01015337',\n",
       "  'E01015286',\n",
       "  'E01015287',\n",
       "  'E01015288',\n",
       "  'E01015338',\n",
       "  'E01015289',\n",
       "  'E01015339',\n",
       "  'E01015290',\n",
       "  'E01015340',\n",
       "  'E01015291',\n",
       "  'E01015341',\n",
       "  'E01015292',\n",
       "  'E01015342',\n",
       "  'E01015293',\n",
       "  'E01015343',\n",
       "  'E01015294',\n",
       "  'E01015344',\n",
       "  'E01015345',\n",
       "  'E01015346',\n",
       "  'E01015348',\n",
       "  'E01015349',\n",
       "  'E01015350',\n",
       "  'E01015351',\n",
       "  'E01015352',\n",
       "  'E01015353',\n",
       "  'E01015354',\n",
       "  'E01015355',\n",
       "  'E01015356',\n",
       "  'E01015357',\n",
       "  'E01015358',\n",
       "  'E01015359',\n",
       "  'E01015295',\n",
       "  'E01015296',\n",
       "  'E01015297',\n",
       "  'E01015298',\n",
       "  'E01015299',\n",
       "  'E01015300',\n",
       "  'E01015301',\n",
       "  'E01015302',\n",
       "  'E01015303',\n",
       "  'E01015304',\n",
       "  'E01015305',\n",
       "  'E01015306',\n",
       "  'E01015307',\n",
       "  'E01015308',\n",
       "  'E01015309',\n",
       "  'E01015310',\n",
       "  'E01015311',\n",
       "  'E01015360',\n",
       "  'E01015312',\n",
       "  'E01015361',\n",
       "  'E01015313',\n",
       "  'E01015362',\n",
       "  'E01015314',\n",
       "  'E01015363',\n",
       "  'E01015315',\n",
       "  'E01015364',\n",
       "  'E01015316',\n",
       "  'E01015365',\n",
       "  'E01015317',\n",
       "  'E01015366',\n",
       "  'E01015318',\n",
       "  'E01015367',\n",
       "  'E01015368',\n",
       "  'E01015369',\n",
       "  'E01015370',\n",
       "  'E01015371',\n",
       "  'E01015372',\n",
       "  'E01015373',\n",
       "  'E01015374',\n",
       "  'E01015375',\n",
       "  'E01015376',\n",
       "  'E01015377',\n",
       "  'E01015378',\n",
       "  'E01015319',\n",
       "  'E01015320',\n",
       "  'E01015321',\n",
       "  'E01015322',\n",
       "  'E01015323',\n",
       "  'E01015272',\n",
       "  'E01015324',\n",
       "  'E01015273',\n",
       "  'E01015325',\n",
       "  'E01015274',\n",
       "  'E01015326',\n",
       "  'E01015275',\n",
       "  'E01015327',\n",
       "  'E01033241',\n",
       "  'E01033242',\n",
       "  'E01033283',\n",
       "  'E01033285',\n",
       "  'E01033286',\n",
       "  'E01033288'],\n",
       " 'Bracknell': ['E01016224',\n",
       "  'E01016225',\n",
       "  'E01016226',\n",
       "  'E01016231',\n",
       "  'E01016232',\n",
       "  'E01016181',\n",
       "  'E01016233',\n",
       "  'E01016184',\n",
       "  'E01016185',\n",
       "  'E01016187',\n",
       "  'E01016188',\n",
       "  'E01016190',\n",
       "  'E01016191',\n",
       "  'E01016238',\n",
       "  'E01016239',\n",
       "  'E01016240',\n",
       "  'E01016241',\n",
       "  'E01016242',\n",
       "  'E01016243',\n",
       "  'E01016245',\n",
       "  'E01016246',\n",
       "  'E01016247',\n",
       "  'E01016248',\n",
       "  'E01016249',\n",
       "  'E01016250',\n",
       "  'E01016253',\n",
       "  'E01016200',\n",
       "  'E01016201',\n",
       "  'E01016202',\n",
       "  'E01016203',\n",
       "  'E01016204',\n",
       "  'E01016205',\n",
       "  'E01016209',\n",
       "  'E01016210',\n",
       "  'E01016212',\n",
       "  'E01016213',\n",
       "  'E01016214',\n",
       "  'E01016215',\n",
       "  'E01016216',\n",
       "  'E01016217',\n",
       "  'E01016218',\n",
       "  'E01016219',\n",
       "  'E01016220',\n",
       "  'E01016221',\n",
       "  'E01016222',\n",
       "  'E01016223',\n",
       "  'E01032724',\n",
       "  'E01032725',\n",
       "  'E01032726',\n",
       "  'E01032727',\n",
       "  'E01032728'],\n",
       " 'Bradford': ['E01010607',\n",
       "  'E01010657',\n",
       "  'E01010658',\n",
       "  'E01010608',\n",
       "  'E01010659',\n",
       "  'E01010609',\n",
       "  'E01010662',\n",
       "  'E01010610',\n",
       "  'E01010663',\n",
       "  'E01010611',\n",
       "  'E01010664',\n",
       "  'E01010612',\n",
       "  'E01010665',\n",
       "  'E01010613',\n",
       "  'E01010666',\n",
       "  'E01010614',\n",
       "  'E01010667',\n",
       "  'E01010668',\n",
       "  'E01010615',\n",
       "  'E01010616',\n",
       "  'E01010617',\n",
       "  'E01010618',\n",
       "  'E01010619',\n",
       "  'E01010669',\n",
       "  'E01010670',\n",
       "  'E01010671',\n",
       "  'E01010620',\n",
       "  'E01010621',\n",
       "  'E01010622',\n",
       "  'E01010623',\n",
       "  'E01010624',\n",
       "  'E01010625',\n",
       "  'E01010626',\n",
       "  'E01010627',\n",
       "  'E01010628',\n",
       "  'E01010629',\n",
       "  'E01010630',\n",
       "  'E01010631',\n",
       "  'E01010632',\n",
       "  'E01010633',\n",
       "  'E01010634',\n",
       "  'E01010635',\n",
       "  'E01010636',\n",
       "  'E01010637',\n",
       "  'E01010649',\n",
       "  'E01010650',\n",
       "  'E01010651',\n",
       "  'E01010652',\n",
       "  'E01010653',\n",
       "  'E01010654',\n",
       "  'E01010655',\n",
       "  'E01010656',\n",
       "  'E01010672',\n",
       "  'E01010673',\n",
       "  'E01010674',\n",
       "  'E01010675',\n",
       "  'E01010676',\n",
       "  'E01010677',\n",
       "  'E01010678',\n",
       "  'E01010679',\n",
       "  'E01010680',\n",
       "  'E01010681',\n",
       "  'E01010682',\n",
       "  'E01010683',\n",
       "  'E01010684',\n",
       "  'E01010685',\n",
       "  'E01010686',\n",
       "  'E01010687',\n",
       "  'E01010688',\n",
       "  'E01010689',\n",
       "  'E01010690',\n",
       "  'E01010597',\n",
       "  'E01010598',\n",
       "  'E01010599',\n",
       "  'E01010600',\n",
       "  'E01010601',\n",
       "  'E01010602',\n",
       "  'E01010603',\n",
       "  'E01010604',\n",
       "  'E01010605',\n",
       "  'E01010606',\n",
       "  'E01011051',\n",
       "  'E01011055',\n",
       "  'E01011056',\n",
       "  'E01011057',\n",
       "  'E01011058',\n",
       "  'E01011064',\n",
       "  'E01010864',\n",
       "  'E01010865',\n",
       "  'E01010866',\n",
       "  'E01010867',\n",
       "  'E01010868',\n",
       "  'E01010869',\n",
       "  'E01010870',\n",
       "  'E01010871',\n",
       "  'E01010872',\n",
       "  'E01010873',\n",
       "  'E01010874',\n",
       "  'E01010760',\n",
       "  'E01010811',\n",
       "  'E01010812',\n",
       "  'E01010813',\n",
       "  'E01010814',\n",
       "  'E01010815',\n",
       "  'E01010816',\n",
       "  'E01010817',\n",
       "  'E01010818',\n",
       "  'E01010819',\n",
       "  'E01010820',\n",
       "  'E01010821',\n",
       "  'E01010822',\n",
       "  'E01010824',\n",
       "  'E01010825',\n",
       "  'E01010826',\n",
       "  'E01010827',\n",
       "  'E01010828',\n",
       "  'E01010829',\n",
       "  'E01010830',\n",
       "  'E01010831',\n",
       "  'E01010832',\n",
       "  'E01010833',\n",
       "  'E01010834',\n",
       "  'E01010835',\n",
       "  'E01010836',\n",
       "  'E01010837',\n",
       "  'E01010838',\n",
       "  'E01010839',\n",
       "  'E01010840',\n",
       "  'E01010841',\n",
       "  'E01010842',\n",
       "  'E01010843',\n",
       "  'E01010845',\n",
       "  'E01010846',\n",
       "  'E01010847',\n",
       "  'E01010848',\n",
       "  'E01010849',\n",
       "  'E01010850',\n",
       "  'E01010851',\n",
       "  'E01010852',\n",
       "  'E01010853',\n",
       "  'E01010761',\n",
       "  'E01010762',\n",
       "  'E01010763',\n",
       "  'E01010778',\n",
       "  'E01010793',\n",
       "  'E01010794',\n",
       "  'E01010799',\n",
       "  'E01010800',\n",
       "  'E01010801',\n",
       "  'E01010802',\n",
       "  'E01010803',\n",
       "  'E01010804',\n",
       "  'E01010805',\n",
       "  'E01010806',\n",
       "  'E01010807',\n",
       "  'E01010808',\n",
       "  'E01010809',\n",
       "  'E01010810',\n",
       "  'E01011069',\n",
       "  'E01010932',\n",
       "  'E01010730',\n",
       "  'E01010731',\n",
       "  'E01010732',\n",
       "  'E01010733',\n",
       "  'E01010734',\n",
       "  'E01010735',\n",
       "  'E01010736',\n",
       "  'E01010737',\n",
       "  'E01010738',\n",
       "  'E01010739',\n",
       "  'E01010740',\n",
       "  'E01010741',\n",
       "  'E01010742',\n",
       "  'E01010743',\n",
       "  'E01010744',\n",
       "  'E01010745',\n",
       "  'E01010746',\n",
       "  'E01010747',\n",
       "  'E01010748',\n",
       "  'E01010749',\n",
       "  'E01010750',\n",
       "  'E01010751',\n",
       "  'E01010752',\n",
       "  'E01010753',\n",
       "  'E01010754',\n",
       "  'E01010755',\n",
       "  'E01010756',\n",
       "  'E01010758',\n",
       "  'E01010759',\n",
       "  'E01011606',\n",
       "  'E01011588',\n",
       "  'E01011589',\n",
       "  'E01011590',\n",
       "  'E01033690',\n",
       "  'E01033691',\n",
       "  'E01033692',\n",
       "  'E01033693',\n",
       "  'E01033695',\n",
       "  'E01033696',\n",
       "  'E01033697'],\n",
       " 'Brighton and Hove': ['E01016849',\n",
       "  'E01016850',\n",
       "  'E01016851',\n",
       "  'E01016852',\n",
       "  'E01016853',\n",
       "  'E01016854',\n",
       "  'E01016855',\n",
       "  'E01016856',\n",
       "  'E01016857',\n",
       "  'E01016858',\n",
       "  'E01016859',\n",
       "  'E01016860',\n",
       "  'E01016861',\n",
       "  'E01016862',\n",
       "  'E01016863',\n",
       "  'E01016864',\n",
       "  'E01016865',\n",
       "  'E01016866',\n",
       "  'E01016867',\n",
       "  'E01016868',\n",
       "  'E01016869',\n",
       "  'E01016870',\n",
       "  'E01016871',\n",
       "  'E01016872',\n",
       "  'E01016873',\n",
       "  'E01016874',\n",
       "  'E01016875',\n",
       "  'E01016876',\n",
       "  'E01016877',\n",
       "  'E01016878',\n",
       "  'E01016879',\n",
       "  'E01016880',\n",
       "  'E01016881',\n",
       "  'E01016882',\n",
       "  'E01016883',\n",
       "  'E01016884',\n",
       "  'E01016885',\n",
       "  'E01016886',\n",
       "  'E01016887',\n",
       "  'E01016888',\n",
       "  'E01016889',\n",
       "  'E01016890',\n",
       "  'E01016891',\n",
       "  'E01016892',\n",
       "  'E01016893',\n",
       "  'E01016894',\n",
       "  'E01016895',\n",
       "  'E01016896',\n",
       "  'E01016995',\n",
       "  'E01016897',\n",
       "  'E01016996',\n",
       "  'E01016898',\n",
       "  'E01016997',\n",
       "  'E01016998',\n",
       "  'E01016900',\n",
       "  'E01016999',\n",
       "  'E01016901',\n",
       "  'E01017000',\n",
       "  'E01016902',\n",
       "  'E01016944',\n",
       "  'E01017001',\n",
       "  'E01016903',\n",
       "  'E01016945',\n",
       "  'E01017002',\n",
       "  'E01016904',\n",
       "  'E01016946',\n",
       "  'E01016905',\n",
       "  'E01016947',\n",
       "  'E01017003',\n",
       "  'E01016906',\n",
       "  'E01016948',\n",
       "  'E01017004',\n",
       "  'E01016907',\n",
       "  'E01016908',\n",
       "  'E01017005',\n",
       "  'E01016909',\n",
       "  'E01017006',\n",
       "  'E01016910',\n",
       "  'E01016911',\n",
       "  'E01016912',\n",
       "  'E01016913',\n",
       "  'E01016949',\n",
       "  'E01016950',\n",
       "  'E01016914',\n",
       "  'E01016951',\n",
       "  'E01016915',\n",
       "  'E01016952',\n",
       "  'E01016953',\n",
       "  'E01016954',\n",
       "  'E01016955',\n",
       "  'E01016957',\n",
       "  'E01016923',\n",
       "  'E01016924',\n",
       "  'E01016925',\n",
       "  'E01016926',\n",
       "  'E01016927',\n",
       "  'E01016963',\n",
       "  'E01016928',\n",
       "  'E01016964',\n",
       "  'E01016929',\n",
       "  'E01016966',\n",
       "  'E01016930',\n",
       "  'E01016967',\n",
       "  'E01016931',\n",
       "  'E01016968',\n",
       "  'E01016932',\n",
       "  'E01016969',\n",
       "  'E01016933',\n",
       "  'E01016934',\n",
       "  'E01016935',\n",
       "  'E01016936',\n",
       "  'E01016937',\n",
       "  'E01016938',\n",
       "  'E01016939',\n",
       "  'E01016940',\n",
       "  'E01016941',\n",
       "  'E01016942',\n",
       "  'E01016943',\n",
       "  'E01016970',\n",
       "  'E01016971',\n",
       "  'E01016972',\n",
       "  'E01016979',\n",
       "  'E01016980',\n",
       "  'E01016981',\n",
       "  'E01016982',\n",
       "  'E01016983',\n",
       "  'E01016984',\n",
       "  'E01016985',\n",
       "  'E01016986',\n",
       "  'E01016987',\n",
       "  'E01016988',\n",
       "  'E01016989',\n",
       "  'E01016990',\n",
       "  'E01016991',\n",
       "  'E01016992',\n",
       "  'E01016993',\n",
       "  'E01016994',\n",
       "  'E01033328',\n",
       "  'E01033329'],\n",
       " 'Bristol': ['E01014694',\n",
       "  'E01014695',\n",
       "  'E01014696',\n",
       "  'E01014698',\n",
       "  'E01014699',\n",
       "  'E01014700',\n",
       "  'E01014701',\n",
       "  'E01014702',\n",
       "  'E01014703',\n",
       "  'E01014641',\n",
       "  'E01014704',\n",
       "  'E01014705',\n",
       "  'E01014706',\n",
       "  'E01014587',\n",
       "  'E01014642',\n",
       "  'E01014707',\n",
       "  'E01014588',\n",
       "  'E01014643',\n",
       "  'E01014708',\n",
       "  'E01014535',\n",
       "  'E01014589',\n",
       "  'E01014644',\n",
       "  'E01014709',\n",
       "  'E01014590',\n",
       "  'E01014536',\n",
       "  'E01014645',\n",
       "  'E01014710',\n",
       "  'E01014485',\n",
       "  'E01014591',\n",
       "  'E01014537',\n",
       "  'E01014646',\n",
       "  'E01014711',\n",
       "  'E01014486',\n",
       "  'E01014592',\n",
       "  'E01014538',\n",
       "  'E01014647',\n",
       "  'E01014712',\n",
       "  'E01014487',\n",
       "  'E01014593',\n",
       "  'E01014539',\n",
       "  'E01014648',\n",
       "  'E01014713',\n",
       "  'E01014488',\n",
       "  'E01014594',\n",
       "  'E01014540',\n",
       "  'E01014649',\n",
       "  'E01014714',\n",
       "  'E01014489',\n",
       "  'E01014595',\n",
       "  'E01014542',\n",
       "  'E01014650',\n",
       "  'E01014715',\n",
       "  'E01014651',\n",
       "  'E01014544',\n",
       "  'E01014491',\n",
       "  'E01014596',\n",
       "  'E01014545',\n",
       "  'E01014653',\n",
       "  'E01014716',\n",
       "  'E01014597',\n",
       "  'E01014492',\n",
       "  'E01014546',\n",
       "  'E01014654',\n",
       "  'E01014717',\n",
       "  'E01014598',\n",
       "  'E01014493',\n",
       "  'E01014547',\n",
       "  'E01014655',\n",
       "  'E01014718',\n",
       "  'E01014599',\n",
       "  'E01014494',\n",
       "  'E01014548',\n",
       "  'E01014658',\n",
       "  'E01014719',\n",
       "  'E01014600',\n",
       "  'E01014495',\n",
       "  'E01014549',\n",
       "  'E01014659',\n",
       "  'E01014720',\n",
       "  'E01014601',\n",
       "  'E01014496',\n",
       "  'E01014550',\n",
       "  'E01014660',\n",
       "  'E01014447',\n",
       "  'E01014721',\n",
       "  'E01014602',\n",
       "  'E01014497',\n",
       "  'E01014551',\n",
       "  'E01014661',\n",
       "  'E01014722',\n",
       "  'E01014603',\n",
       "  'E01014498',\n",
       "  'E01014552',\n",
       "  'E01014662',\n",
       "  'E01014723',\n",
       "  'E01014553',\n",
       "  'E01014605',\n",
       "  'E01014663',\n",
       "  'E01014499',\n",
       "  'E01014664',\n",
       "  'E01014500',\n",
       "  'E01014554',\n",
       "  'E01014725',\n",
       "  'E01014607',\n",
       "  'E01014665',\n",
       "  'E01014501',\n",
       "  'E01014555',\n",
       "  'E01014726',\n",
       "  'E01014608',\n",
       "  'E01014666',\n",
       "  'E01014502',\n",
       "  'E01014556',\n",
       "  'E01014727',\n",
       "  'E01014609',\n",
       "  'E01014667',\n",
       "  'E01014504',\n",
       "  'E01014557',\n",
       "  'E01014729',\n",
       "  'E01014610',\n",
       "  'E01014668',\n",
       "  'E01014505',\n",
       "  'E01014558',\n",
       "  'E01014730',\n",
       "  'E01014611',\n",
       "  'E01014669',\n",
       "  'E01014506',\n",
       "  'E01014559',\n",
       "  'E01014731',\n",
       "  'E01014612',\n",
       "  'E01014670',\n",
       "  'E01014507',\n",
       "  'E01014560',\n",
       "  'E01014732',\n",
       "  'E01014613',\n",
       "  'E01014733',\n",
       "  'E01014561',\n",
       "  'E01014671',\n",
       "  'E01014508',\n",
       "  'E01014734',\n",
       "  'E01014614',\n",
       "  'E01014562',\n",
       "  'E01014672',\n",
       "  'E01014509',\n",
       "  'E01014735',\n",
       "  'E01014615',\n",
       "  'E01014563',\n",
       "  'E01014673',\n",
       "  'E01014510',\n",
       "  'E01014736',\n",
       "  'E01014616',\n",
       "  'E01014564',\n",
       "  'E01014674',\n",
       "  'E01014511',\n",
       "  'E01014617',\n",
       "  'E01014565',\n",
       "  'E01014675',\n",
       "  'E01014512',\n",
       "  'E01014618',\n",
       "  'E01014566',\n",
       "  'E01014676',\n",
       "  'E01014513',\n",
       "  'E01014619',\n",
       "  'E01014567',\n",
       "  'E01014677',\n",
       "  'E01014514',\n",
       "  'E01014620',\n",
       "  'E01014678',\n",
       "  'E01014568',\n",
       "  'E01014621',\n",
       "  'E01014515',\n",
       "  'E01014679',\n",
       "  'E01014569',\n",
       "  'E01014622',\n",
       "  'E01014516',\n",
       "  'E01014680',\n",
       "  'E01014570',\n",
       "  'E01014623',\n",
       "  'E01014517',\n",
       "  'E01014681',\n",
       "  'E01014571',\n",
       "  'E01014624',\n",
       "  'E01014518',\n",
       "  'E01014682',\n",
       "  'E01014572',\n",
       "  'E01014626',\n",
       "  'E01014519',\n",
       "  'E01014683',\n",
       "  'E01014573',\n",
       "  'E01014627',\n",
       "  'E01014520',\n",
       "  'E01014684',\n",
       "  'E01014574',\n",
       "  'E01014629',\n",
       "  'E01014521',\n",
       "  'E01014685',\n",
       "  'E01014575',\n",
       "  'E01014630',\n",
       "  'E01014522',\n",
       "  'E01014686',\n",
       "  'E01014576',\n",
       "  'E01014631',\n",
       "  'E01014523',\n",
       "  'E01014687',\n",
       "  'E01014688',\n",
       "  'E01014689',\n",
       "  'E01014690',\n",
       "  'E01014691',\n",
       "  'E01014692',\n",
       "  'E01014693',\n",
       "  'E01014524',\n",
       "  'E01014525',\n",
       "  'E01014632',\n",
       "  'E01014526',\n",
       "  'E01014633',\n",
       "  'E01014527',\n",
       "  'E01014577',\n",
       "  'E01014634',\n",
       "  'E01014528',\n",
       "  'E01014578',\n",
       "  'E01014635',\n",
       "  'E01014529',\n",
       "  'E01014579',\n",
       "  'E01014636',\n",
       "  'E01014530',\n",
       "  'E01014580',\n",
       "  'E01014637',\n",
       "  'E01014531',\n",
       "  'E01014581',\n",
       "  'E01014638',\n",
       "  'E01014532',\n",
       "  'E01014582',\n",
       "  'E01014639',\n",
       "  'E01014533',\n",
       "  'E01014583',\n",
       "  'E01014640',\n",
       "  'E01014534',\n",
       "  'E01014584',\n",
       "  'E01014585',\n",
       "  'E01014586',\n",
       "  'E01014955',\n",
       "  'E01014956',\n",
       "  'E01014957',\n",
       "  'E01014958',\n",
       "  'E01014959',\n",
       "  'E01014960',\n",
       "  'E01014961',\n",
       "  'E01014964',\n",
       "  'E01014965',\n",
       "  'E01014903',\n",
       "  'E01015006',\n",
       "  'E01014966',\n",
       "  'E01014967',\n",
       "  'E01014968',\n",
       "  'E01014969',\n",
       "  'E01014972',\n",
       "  'E01014973',\n",
       "  'E01014974',\n",
       "  'E01014975',\n",
       "  'E01014976',\n",
       "  'E01014977',\n",
       "  'E01014996',\n",
       "  'E01015002',\n",
       "  'E01015003',\n",
       "  'E01015004',\n",
       "  'E01015005',\n",
       "  'E01015007',\n",
       "  'E01015008',\n",
       "  'E01014865',\n",
       "  'E01014866',\n",
       "  'E01014915',\n",
       "  'E01014916',\n",
       "  'E01014917',\n",
       "  'E01014918',\n",
       "  'E01014919',\n",
       "  'E01014920',\n",
       "  'E01014921',\n",
       "  'E01014922',\n",
       "  'E01014923',\n",
       "  'E01014924',\n",
       "  'E01014925',\n",
       "  'E01014926',\n",
       "  'E01014927',\n",
       "  'E01014928',\n",
       "  'E01014931',\n",
       "  'E01014932',\n",
       "  'E01014933',\n",
       "  'E01014934',\n",
       "  'E01014935',\n",
       "  'E01014936',\n",
       "  'E01014937',\n",
       "  'E01014938',\n",
       "  'E01014939',\n",
       "  'E01014940',\n",
       "  'E01014941',\n",
       "  'E01014942',\n",
       "  'E01014943',\n",
       "  'E01014944',\n",
       "  'E01014897',\n",
       "  'E01014945',\n",
       "  'E01014898',\n",
       "  'E01014899',\n",
       "  'E01014900',\n",
       "  'E01014901',\n",
       "  'E01014902',\n",
       "  'E01033338',\n",
       "  'E01033339',\n",
       "  'E01033342',\n",
       "  'E01033344',\n",
       "  'E01033345',\n",
       "  'E01033347',\n",
       "  'E01033334',\n",
       "  'E01033336',\n",
       "  'E01033348',\n",
       "  'E01033350',\n",
       "  'E01033352',\n",
       "  'E01033353',\n",
       "  'E01033355',\n",
       "  'E01033356',\n",
       "  'E01033358',\n",
       "  'E01033359',\n",
       "  'E01033361',\n",
       "  'E01033362',\n",
       "  'E01033364',\n",
       "  'E01033366',\n",
       "  'E01033367',\n",
       "  'E01033369',\n",
       "  'E01033370',\n",
       "  'E01032514',\n",
       "  'E01032515',\n",
       "  'E01032516',\n",
       "  'E01032517',\n",
       "  'E01032518',\n",
       "  'E01032519'],\n",
       " 'Burnley': ['E01024860',\n",
       "  'E01024861',\n",
       "  'E01024862',\n",
       "  'E01024863',\n",
       "  'E01024864',\n",
       "  'E01024865',\n",
       "  'E01024866',\n",
       "  'E01024867',\n",
       "  'E01024869',\n",
       "  'E01024871',\n",
       "  'E01024872',\n",
       "  'E01024873',\n",
       "  'E01024874',\n",
       "  'E01024875',\n",
       "  'E01024876',\n",
       "  'E01024877',\n",
       "  'E01024878',\n",
       "  'E01024879',\n",
       "  'E01024880',\n",
       "  'E01024881',\n",
       "  'E01024882',\n",
       "  'E01024883',\n",
       "  'E01024884',\n",
       "  'E01024885',\n",
       "  'E01024886',\n",
       "  'E01024887',\n",
       "  'E01024889',\n",
       "  'E01024890',\n",
       "  'E01024891',\n",
       "  'E01024892',\n",
       "  'E01024893',\n",
       "  'E01024894',\n",
       "  'E01024895',\n",
       "  'E01024896',\n",
       "  'E01024897',\n",
       "  'E01024898',\n",
       "  'E01024899',\n",
       "  'E01024900',\n",
       "  'E01024901',\n",
       "  'E01024902',\n",
       "  'E01024903',\n",
       "  'E01024904',\n",
       "  'E01024905',\n",
       "  'E01024906',\n",
       "  'E01024907',\n",
       "  'E01024908',\n",
       "  'E01024909',\n",
       "  'E01024910',\n",
       "  'E01024911',\n",
       "  'E01024912',\n",
       "  'E01024913',\n",
       "  'E01024914',\n",
       "  'E01024855',\n",
       "  'E01024856',\n",
       "  'E01024857',\n",
       "  'E01024858',\n",
       "  'E01024859'],\n",
       " 'Burton upon Trent': ['E01019867',\n",
       "  'E01032896',\n",
       "  'E01032897',\n",
       "  'E01032898',\n",
       "  'E01029407',\n",
       "  'E01029408',\n",
       "  'E01029454',\n",
       "  'E01029409',\n",
       "  'E01029410',\n",
       "  'E01029413',\n",
       "  'E01029414',\n",
       "  'E01029415',\n",
       "  'E01029416',\n",
       "  'E01029417',\n",
       "  'E01029418',\n",
       "  'E01029419',\n",
       "  'E01029420',\n",
       "  'E01029426',\n",
       "  'E01029427',\n",
       "  'E01029428',\n",
       "  'E01029429',\n",
       "  'E01029434',\n",
       "  'E01029435',\n",
       "  'E01029436',\n",
       "  'E01029437',\n",
       "  'E01029438',\n",
       "  'E01029445',\n",
       "  'E01029446',\n",
       "  'E01029447',\n",
       "  'E01029448',\n",
       "  'E01029449',\n",
       "  'E01029450',\n",
       "  'E01029451',\n",
       "  'E01029452',\n",
       "  'E01029453',\n",
       "  'E01029455',\n",
       "  'E01029456',\n",
       "  'E01029457',\n",
       "  'E01029458',\n",
       "  'E01029466',\n",
       "  'E01029468',\n",
       "  'E01029469',\n",
       "  'E01029470',\n",
       "  'E01029471',\n",
       "  'E01029472'],\n",
       " 'Bury': ['E01004959',\n",
       "  'E01004960',\n",
       "  'E01004961',\n",
       "  'E01004962',\n",
       "  'E01004963',\n",
       "  'E01004964',\n",
       "  'E01004965',\n",
       "  'E01004966',\n",
       "  'E01004967',\n",
       "  'E01004968',\n",
       "  'E01005049',\n",
       "  'E01005050',\n",
       "  'E01005051',\n",
       "  'E01005052',\n",
       "  'E01005053',\n",
       "  'E01005054',\n",
       "  'E01005055',\n",
       "  'E01005056',\n",
       "  'E01005057',\n",
       "  'E01005058',\n",
       "  'E01005060',\n",
       "  'E01005024',\n",
       "  'E01005025',\n",
       "  'E01004976',\n",
       "  'E01005026',\n",
       "  'E01004977',\n",
       "  'E01005027',\n",
       "  'E01004978',\n",
       "  'E01005028',\n",
       "  'E01004979',\n",
       "  'E01005029',\n",
       "  'E01004980',\n",
       "  'E01005030',\n",
       "  'E01004981',\n",
       "  'E01004982',\n",
       "  'E01004945',\n",
       "  'E01004947',\n",
       "  'E01004948',\n",
       "  'E01004949',\n",
       "  'E01004950',\n",
       "  'E01004951',\n",
       "  'E01004952',\n",
       "  'E01004953',\n",
       "  'E01004954',\n",
       "  'E01004955',\n",
       "  'E01004956',\n",
       "  'E01004957',\n",
       "  'E01004958'],\n",
       " 'Cambridge': ['E01017971',\n",
       "  'E01017972',\n",
       "  'E01017973',\n",
       "  'E01017974',\n",
       "  'E01017975',\n",
       "  'E01017976',\n",
       "  'E01017977',\n",
       "  'E01017978',\n",
       "  'E01017979',\n",
       "  'E01017980',\n",
       "  'E01017983',\n",
       "  'E01017984',\n",
       "  'E01017985',\n",
       "  'E01017986',\n",
       "  'E01017987',\n",
       "  'E01017988',\n",
       "  'E01017989',\n",
       "  'E01017990',\n",
       "  'E01017991',\n",
       "  'E01017992',\n",
       "  'E01017993',\n",
       "  'E01017994',\n",
       "  'E01017995',\n",
       "  'E01017996',\n",
       "  'E01017997',\n",
       "  'E01017998',\n",
       "  'E01017999',\n",
       "  'E01017943',\n",
       "  'E01017944',\n",
       "  'E01017945',\n",
       "  'E01017946',\n",
       "  'E01017947',\n",
       "  'E01017948',\n",
       "  'E01017949',\n",
       "  'E01017950',\n",
       "  'E01017951',\n",
       "  'E01017952',\n",
       "  'E01017953',\n",
       "  'E01017954',\n",
       "  'E01017955',\n",
       "  'E01017956',\n",
       "  'E01017957',\n",
       "  'E01017958',\n",
       "  'E01017959',\n",
       "  'E01017960',\n",
       "  'E01017961',\n",
       "  'E01017962',\n",
       "  'E01017963',\n",
       "  'E01017964',\n",
       "  'E01017965',\n",
       "  'E01017966',\n",
       "  'E01017967',\n",
       "  'E01017968',\n",
       "  'E01017969',\n",
       "  'E01018000',\n",
       "  'E01018001',\n",
       "  'E01018002',\n",
       "  'E01018003',\n",
       "  'E01018005',\n",
       "  'E01018006',\n",
       "  'E01018007',\n",
       "  'E01018008',\n",
       "  'E01018009',\n",
       "  'E01018010',\n",
       "  'E01018287',\n",
       "  'E01018242',\n",
       "  'E01018243',\n",
       "  'E01018244',\n",
       "  'E01018292',\n",
       "  'E01018293',\n",
       "  'E01018294',\n",
       "  'E01018248',\n",
       "  'E01018295',\n",
       "  'E01018272',\n",
       "  'E01018273',\n",
       "  'E01018274',\n",
       "  'E01033120',\n",
       "  'E01033121',\n",
       "  'E01032792',\n",
       "  'E01032794',\n",
       "  'E01032795',\n",
       "  'E01032797',\n",
       "  'E01032802'],\n",
       " 'Cardiff': ['W01001861',\n",
       "  'W01001809',\n",
       "  'W01001862',\n",
       "  'W01001863',\n",
       "  'W01001864',\n",
       "  'W01001810',\n",
       "  'W01001865',\n",
       "  'W01001811',\n",
       "  'W01001866',\n",
       "  'W01001812',\n",
       "  'W01001867',\n",
       "  'W01001813',\n",
       "  'W01001704',\n",
       "  'W01001868',\n",
       "  'W01001814',\n",
       "  'W01001705',\n",
       "  'W01001756',\n",
       "  'W01001869',\n",
       "  'W01001815',\n",
       "  'W01001706',\n",
       "  'W01001757',\n",
       "  'W01001870',\n",
       "  'W01001816',\n",
       "  'W01001707',\n",
       "  'W01001758',\n",
       "  'W01001871',\n",
       "  'W01001759',\n",
       "  'W01001817',\n",
       "  'W01001872',\n",
       "  'W01001708',\n",
       "  'W01001818',\n",
       "  'W01001709',\n",
       "  'W01001873',\n",
       "  'W01001760',\n",
       "  'W01001710',\n",
       "  'W01001922',\n",
       "  'W01001874',\n",
       "  'W01001761',\n",
       "  'W01001711',\n",
       "  'W01001875',\n",
       "  'W01001762',\n",
       "  'W01001821',\n",
       "  'W01001712',\n",
       "  'W01001876',\n",
       "  'W01001764',\n",
       "  'W01001822',\n",
       "  'W01001713',\n",
       "  'W01001877',\n",
       "  'W01001765',\n",
       "  'W01001823',\n",
       "  'W01001714',\n",
       "  'W01001878',\n",
       "  'W01001766',\n",
       "  'W01001824',\n",
       "  'W01001715',\n",
       "  'W01001879',\n",
       "  'W01001767',\n",
       "  'W01001825',\n",
       "  'W01001716',\n",
       "  'W01001880',\n",
       "  'W01001768',\n",
       "  'W01001826',\n",
       "  'W01001717',\n",
       "  'W01001881',\n",
       "  'W01001769',\n",
       "  'W01001827',\n",
       "  'W01001718',\n",
       "  'W01001882',\n",
       "  'W01001883',\n",
       "  'W01001719',\n",
       "  'W01001884',\n",
       "  'W01001720',\n",
       "  'W01001885',\n",
       "  'W01001721',\n",
       "  'W01001886',\n",
       "  'W01001770',\n",
       "  'W01001722',\n",
       "  'W01001887',\n",
       "  'W01001771',\n",
       "  'W01001724',\n",
       "  'W01001888',\n",
       "  'W01001772',\n",
       "  'W01001725',\n",
       "  'W01001889',\n",
       "  'W01001773',\n",
       "  'W01001726',\n",
       "  'W01001890',\n",
       "  'W01001774',\n",
       "  'W01001828',\n",
       "  'W01001891',\n",
       "  'W01001775',\n",
       "  'W01001939',\n",
       "  'W01001829',\n",
       "  'W01001892',\n",
       "  'W01001730',\n",
       "  'W01001776',\n",
       "  'W01001830',\n",
       "  'W01001940',\n",
       "  'W01001731',\n",
       "  'W01001777',\n",
       "  'W01001831',\n",
       "  'W01001941',\n",
       "  'W01001894',\n",
       "  'W01001732',\n",
       "  'W01001778',\n",
       "  'W01001832',\n",
       "  'W01001942',\n",
       "  'W01001895',\n",
       "  'W01001733',\n",
       "  'W01001779',\n",
       "  'W01001833',\n",
       "  'W01001943',\n",
       "  'W01001896',\n",
       "  'W01001734',\n",
       "  'W01001780',\n",
       "  'W01001834',\n",
       "  'W01001944',\n",
       "  'W01001735',\n",
       "  'W01001781',\n",
       "  'W01001835',\n",
       "  'W01001736',\n",
       "  'W01001782',\n",
       "  'W01001836',\n",
       "  'W01001946',\n",
       "  'W01001737',\n",
       "  'W01001783',\n",
       "  'W01001837',\n",
       "  'W01001947',\n",
       "  'W01001738',\n",
       "  'W01001784',\n",
       "  'W01001838',\n",
       "  'W01001948',\n",
       "  'W01001739',\n",
       "  'W01001785',\n",
       "  'W01001839',\n",
       "  'W01001949',\n",
       "  'W01001740',\n",
       "  'W01001786',\n",
       "  'W01001840',\n",
       "  'W01001950',\n",
       "  'W01001741',\n",
       "  'W01001787',\n",
       "  'W01001788',\n",
       "  'W01001789',\n",
       "  'W01001790',\n",
       "  'W01001791',\n",
       "  'W01001792',\n",
       "  'W01001793',\n",
       "  'W01001794',\n",
       "  'W01001795',\n",
       "  'W01001796',\n",
       "  'W01001797',\n",
       "  'W01001798',\n",
       "  'W01001799',\n",
       "  'W01001800',\n",
       "  'W01001802',\n",
       "  'W01001803',\n",
       "  'W01001804',\n",
       "  'W01001805',\n",
       "  'W01001806',\n",
       "  'W01001807',\n",
       "  'W01001808',\n",
       "  'W01001841',\n",
       "  'W01001742',\n",
       "  'W01001842',\n",
       "  'W01001743',\n",
       "  'W01001843',\n",
       "  'W01001951',\n",
       "  'W01001744',\n",
       "  'W01001844',\n",
       "  'W01001952',\n",
       "  'W01001745',\n",
       "  'W01001846',\n",
       "  'W01001953',\n",
       "  'W01001746',\n",
       "  'W01001847',\n",
       "  'W01001954',\n",
       "  'W01001747',\n",
       "  'W01001848',\n",
       "  'W01001748',\n",
       "  'W01001849',\n",
       "  'W01001749',\n",
       "  'W01001850',\n",
       "  'W01001750',\n",
       "  'W01001851',\n",
       "  'W01001751',\n",
       "  'W01001852',\n",
       "  'W01001694',\n",
       "  'W01001853',\n",
       "  'W01001752',\n",
       "  'W01001695',\n",
       "  'W01001854',\n",
       "  'W01001753',\n",
       "  'W01001696',\n",
       "  'W01001855',\n",
       "  'W01001754',\n",
       "  'W01001697',\n",
       "  'W01001856',\n",
       "  'W01001755',\n",
       "  'W01001698',\n",
       "  'W01001699',\n",
       "  'W01001702',\n",
       "  'W01001703',\n",
       "  'W01001857',\n",
       "  'W01001858',\n",
       "  'W01001859',\n",
       "  'W01001860'],\n",
       " 'Carlisle': ['E01019244',\n",
       "  'E01019245',\n",
       "  'E01019246',\n",
       "  'E01019247',\n",
       "  'E01019194',\n",
       "  'E01019248',\n",
       "  'E01019195',\n",
       "  'E01019196',\n",
       "  'E01019197',\n",
       "  'E01019198',\n",
       "  'E01019252',\n",
       "  'E01019199',\n",
       "  'E01019253',\n",
       "  'E01019254',\n",
       "  'E01019255',\n",
       "  'E01019188',\n",
       "  'E01019189',\n",
       "  'E01019190',\n",
       "  'E01019191',\n",
       "  'E01019192',\n",
       "  'E01019193',\n",
       "  'E01019204',\n",
       "  'E01019205',\n",
       "  'E01019206',\n",
       "  'E01019207',\n",
       "  'E01019208',\n",
       "  'E01019209',\n",
       "  'E01019210',\n",
       "  'E01019211',\n",
       "  'E01019213',\n",
       "  'E01019215',\n",
       "  'E01019216',\n",
       "  'E01019217',\n",
       "  'E01019218',\n",
       "  'E01019220',\n",
       "  'E01019221',\n",
       "  'E01019222',\n",
       "  'E01019223',\n",
       "  'E01019230',\n",
       "  'E01019231',\n",
       "  'E01019232',\n",
       "  'E01019233',\n",
       "  'E01019234',\n",
       "  'E01019235',\n",
       "  'E01019236',\n",
       "  'E01019237',\n",
       "  'E01019241',\n",
       "  'E01019242',\n",
       "  'E01019243'],\n",
       " 'Chatham': ['E01016020',\n",
       "  'E01016021',\n",
       "  'E01016022',\n",
       "  'E01016023',\n",
       "  'E01016024',\n",
       "  'E01016025',\n",
       "  'E01016016',\n",
       "  'E01016017',\n",
       "  'E01016018',\n",
       "  'E01016019',\n",
       "  'E01016055',\n",
       "  'E01016056',\n",
       "  'E01016057',\n",
       "  'E01016058',\n",
       "  'E01016059',\n",
       "  'E01016060',\n",
       "  'E01016061',\n",
       "  'E01016062',\n",
       "  'E01016063',\n",
       "  'E01016064',\n",
       "  'E01016065',\n",
       "  'E01016066',\n",
       "  'E01016067',\n",
       "  'E01016068',\n",
       "  'E01016069',\n",
       "  'E01016172',\n",
       "  'E01016173',\n",
       "  'E01016122',\n",
       "  'E01016123',\n",
       "  'E01016125',\n",
       "  'E01016078',\n",
       "  'E01016079',\n",
       "  'E01016080',\n",
       "  'E01016168',\n",
       "  'E01016169',\n",
       "  'E01016170',\n",
       "  'E01016171',\n",
       "  'E01016081',\n",
       "  'E01016082',\n",
       "  'E01016083',\n",
       "  'E01016084',\n",
       "  'E01016111',\n",
       "  'E01016121',\n",
       "  'E01024333',\n",
       "  'E01024334',\n",
       "  'E01024338',\n",
       "  'E01024720',\n",
       "  'E01024721',\n",
       "  'E01024722'],\n",
       " 'Chelmsford': ['E01021598',\n",
       "  'E01021599',\n",
       "  'E01021600',\n",
       "  'E01021601',\n",
       "  'E01021616',\n",
       "  'E01021617',\n",
       "  'E01021618',\n",
       "  'E01021619',\n",
       "  'E01021620',\n",
       "  'E01021621',\n",
       "  'E01021622',\n",
       "  'E01021623',\n",
       "  'E01021624',\n",
       "  'E01021625',\n",
       "  'E01021626',\n",
       "  'E01021627',\n",
       "  'E01021628',\n",
       "  'E01021629',\n",
       "  'E01021631',\n",
       "  'E01033137',\n",
       "  'E01033138',\n",
       "  'E01033139',\n",
       "  'E01033140',\n",
       "  'E01033141',\n",
       "  'E01033142',\n",
       "  'E01033144',\n",
       "  'E01033145',\n",
       "  'E01021579',\n",
       "  'E01021580',\n",
       "  'E01021632',\n",
       "  'E01021582',\n",
       "  'E01021583',\n",
       "  'E01021584',\n",
       "  'E01021585',\n",
       "  'E01021586',\n",
       "  'E01021587',\n",
       "  'E01021588',\n",
       "  'E01021589',\n",
       "  'E01021590',\n",
       "  'E01021591',\n",
       "  'E01021592',\n",
       "  'E01021541',\n",
       "  'E01021542',\n",
       "  'E01021543',\n",
       "  'E01021544',\n",
       "  'E01021545',\n",
       "  'E01021546',\n",
       "  'E01021547',\n",
       "  'E01021548',\n",
       "  'E01021552',\n",
       "  'E01021553',\n",
       "  'E01021554',\n",
       "  'E01021555',\n",
       "  'E01021556',\n",
       "  'E01021557',\n",
       "  'E01021558',\n",
       "  'E01021559',\n",
       "  'E01021560',\n",
       "  'E01021561',\n",
       "  'E01021562',\n",
       "  'E01021563',\n",
       "  'E01021564',\n",
       "  'E01021565',\n",
       "  'E01021566',\n",
       "  'E01021573',\n",
       "  'E01021574',\n",
       "  'E01021575',\n",
       "  'E01021576',\n",
       "  'E01021577',\n",
       "  'E01021578',\n",
       "  'E01021596',\n",
       "  'E01021597'],\n",
       " 'Cheltenham': ['E01022142',\n",
       "  'E01022143',\n",
       "  'E01022144',\n",
       "  'E01022145',\n",
       "  'E01022146',\n",
       "  'E01022147',\n",
       "  'E01022148',\n",
       "  'E01022149',\n",
       "  'E01022150',\n",
       "  'E01022151',\n",
       "  'E01022152',\n",
       "  'E01022100',\n",
       "  'E01022153',\n",
       "  'E01022101',\n",
       "  'E01022154',\n",
       "  'E01022102',\n",
       "  'E01022155',\n",
       "  'E01022103',\n",
       "  'E01022156',\n",
       "  'E01022104',\n",
       "  'E01022157',\n",
       "  'E01022105',\n",
       "  'E01022158',\n",
       "  'E01022106',\n",
       "  'E01022159',\n",
       "  'E01022107',\n",
       "  'E01022160',\n",
       "  'E01022108',\n",
       "  'E01022161',\n",
       "  'E01022109',\n",
       "  'E01022162',\n",
       "  'E01022110',\n",
       "  'E01022163',\n",
       "  'E01022111',\n",
       "  'E01022164',\n",
       "  'E01022112',\n",
       "  'E01022165',\n",
       "  'E01022113',\n",
       "  'E01022166',\n",
       "  'E01022167',\n",
       "  'E01022168',\n",
       "  'E01022169',\n",
       "  'E01022170',\n",
       "  'E01022171',\n",
       "  'E01022172',\n",
       "  'E01022173',\n",
       "  'E01022174',\n",
       "  'E01022114',\n",
       "  'E01022115',\n",
       "  'E01022116',\n",
       "  'E01022117',\n",
       "  'E01022118',\n",
       "  'E01022119',\n",
       "  'E01022120',\n",
       "  'E01022121',\n",
       "  'E01022122',\n",
       "  'E01022123',\n",
       "  'E01022124',\n",
       "  'E01022125',\n",
       "  'E01022126',\n",
       "  'E01022127',\n",
       "  'E01022128',\n",
       "  'E01022129',\n",
       "  'E01022130',\n",
       "  'E01022131',\n",
       "  'E01022132',\n",
       "  'E01022133',\n",
       "  'E01022134',\n",
       "  'E01022135',\n",
       "  'E01022136',\n",
       "  'E01022137',\n",
       "  'E01022138',\n",
       "  'E01022139',\n",
       "  'E01022140',\n",
       "  'E01022141'],\n",
       " 'Chester': ['E01018340',\n",
       "  'E01018341',\n",
       "  'E01018342',\n",
       "  'E01018343',\n",
       "  'E01018344',\n",
       "  'E01018345',\n",
       "  'E01018346',\n",
       "  'E01018347',\n",
       "  'E01018348',\n",
       "  'E01018351',\n",
       "  'E01018352',\n",
       "  'E01018353',\n",
       "  'E01018354',\n",
       "  'E01018361',\n",
       "  'E01018309',\n",
       "  'E01018362',\n",
       "  'E01018310',\n",
       "  'E01018363',\n",
       "  'E01018311',\n",
       "  'E01018364',\n",
       "  'E01018312',\n",
       "  'E01018365',\n",
       "  'E01018313',\n",
       "  'E01018314',\n",
       "  'E01018315',\n",
       "  'E01018316',\n",
       "  'E01018317',\n",
       "  'E01018319',\n",
       "  'E01018320',\n",
       "  'E01018321',\n",
       "  'E01018322',\n",
       "  'E01018374',\n",
       "  'E01018326',\n",
       "  'E01018327',\n",
       "  'E01018328',\n",
       "  'E01018329',\n",
       "  'E01018330',\n",
       "  'E01018331',\n",
       "  'E01018332',\n",
       "  'E01018333',\n",
       "  'E01018334',\n",
       "  'E01018375',\n",
       "  'E01018376',\n",
       "  'E01018377',\n",
       "  'E01018378',\n",
       "  'E01018379',\n",
       "  'E01018380',\n",
       "  'E01018381',\n",
       "  'E01018382',\n",
       "  'E01018383',\n",
       "  'E01018384',\n",
       "  'E01032930',\n",
       "  'E01032931',\n",
       "  'W01000329',\n",
       "  'W01000330',\n",
       "  'W01000331'],\n",
       " 'Chesterfield': ['E01019545',\n",
       "  'E01019546',\n",
       "  'E01019547',\n",
       "  'E01019548',\n",
       "  'E01019554',\n",
       "  'E01019555',\n",
       "  'E01019556',\n",
       "  'E01019557',\n",
       "  'E01019558',\n",
       "  'E01019559',\n",
       "  'E01019560',\n",
       "  'E01019561',\n",
       "  'E01019562',\n",
       "  'E01019569',\n",
       "  'E01019570',\n",
       "  'E01019571',\n",
       "  'E01019572',\n",
       "  'E01019573',\n",
       "  'E01019574',\n",
       "  'E01019575',\n",
       "  'E01019576',\n",
       "  'E01019577',\n",
       "  'E01019578',\n",
       "  'E01019579',\n",
       "  'E01019580',\n",
       "  'E01019581',\n",
       "  'E01019582',\n",
       "  'E01019583',\n",
       "  'E01019585',\n",
       "  'E01019586',\n",
       "  'E01019587',\n",
       "  'E01019588',\n",
       "  'E01019589',\n",
       "  'E01019590',\n",
       "  'E01019591',\n",
       "  'E01019592',\n",
       "  'E01019593',\n",
       "  'E01019526',\n",
       "  'E01019528',\n",
       "  'E01019529',\n",
       "  'E01019530',\n",
       "  'E01019531',\n",
       "  'E01019532',\n",
       "  'E01019533',\n",
       "  'E01019534',\n",
       "  'E01019535',\n",
       "  'E01019536',\n",
       "  'E01019537',\n",
       "  'E01019538',\n",
       "  'E01019539',\n",
       "  'E01019540',\n",
       "  'E01019541',\n",
       "  'E01019542',\n",
       "  'E01019543',\n",
       "  'E01019544',\n",
       "  'E01019821',\n",
       "  'E01019772',\n",
       "  'E01019823',\n",
       "  'E01033387',\n",
       "  'E01033388'],\n",
       " 'Colchester': ['E01021649',\n",
       "  'E01021650',\n",
       "  'E01021651',\n",
       "  'E01021696',\n",
       "  'E01021652',\n",
       "  'E01021697',\n",
       "  'E01021653',\n",
       "  'E01021698',\n",
       "  'E01021654',\n",
       "  'E01021699',\n",
       "  'E01021700',\n",
       "  'E01021702',\n",
       "  'E01021703',\n",
       "  'E01021658',\n",
       "  'E01021704',\n",
       "  'E01021705',\n",
       "  'E01021706',\n",
       "  'E01021707',\n",
       "  'E01021664',\n",
       "  'E01021665',\n",
       "  'E01021666',\n",
       "  'E01021667',\n",
       "  'E01021668',\n",
       "  'E01021669',\n",
       "  'E01021670',\n",
       "  'E01021671',\n",
       "  'E01021673',\n",
       "  'E01021674',\n",
       "  'E01021675',\n",
       "  'E01021676',\n",
       "  'E01021679',\n",
       "  'E01021680',\n",
       "  'E01021681',\n",
       "  'E01021682',\n",
       "  'E01021708',\n",
       "  'E01021709',\n",
       "  'E01021710',\n",
       "  'E01021711',\n",
       "  'E01021713',\n",
       "  'E01021714',\n",
       "  'E01021715',\n",
       "  'E01021717',\n",
       "  'E01021718',\n",
       "  'E01021719',\n",
       "  'E01021720',\n",
       "  'E01021721',\n",
       "  'E01021722',\n",
       "  'E01033719',\n",
       "  'E01033720',\n",
       "  'E01033721',\n",
       "  'E01033722',\n",
       "  'E01033723',\n",
       "  'E01021637',\n",
       "  'E01021683',\n",
       "  'E01021638',\n",
       "  'E01021684',\n",
       "  'E01021685',\n",
       "  'E01021639',\n",
       "  'E01021686',\n",
       "  'E01021640',\n",
       "  'E01021687',\n",
       "  'E01021641',\n",
       "  'E01021688',\n",
       "  'E01021642',\n",
       "  'E01021689',\n",
       "  'E01021690',\n",
       "  'E01021691',\n",
       "  'E01021646',\n",
       "  'E01021692',\n",
       "  'E01021647',\n",
       "  'E01021693',\n",
       "  'E01021648'],\n",
       " 'Coventry': ['E01009641',\n",
       "  'E01009696',\n",
       "  'E01009586',\n",
       "  'E01009642',\n",
       "  'E01009643',\n",
       "  'E01009644',\n",
       "  'E01009645',\n",
       "  'E01009646',\n",
       "  'E01009647',\n",
       "  'E01009648',\n",
       "  'E01009649',\n",
       "  'E01009650',\n",
       "  'E01009651',\n",
       "  'E01009652',\n",
       "  'E01009653',\n",
       "  'E01009654',\n",
       "  'E01009655',\n",
       "  'E01009656',\n",
       "  'E01009657',\n",
       "  'E01009658',\n",
       "  'E01009659',\n",
       "  'E01009660',\n",
       "  'E01009661',\n",
       "  'E01009662',\n",
       "  'E01009663',\n",
       "  'E01009664',\n",
       "  'E01009665',\n",
       "  'E01009666',\n",
       "  'E01009667',\n",
       "  'E01009668',\n",
       "  'E01009669',\n",
       "  'E01009670',\n",
       "  'E01009671',\n",
       "  'E01009672',\n",
       "  'E01009674',\n",
       "  'E01009676',\n",
       "  'E01009679',\n",
       "  'E01009681',\n",
       "  'E01009682',\n",
       "  'E01009683',\n",
       "  'E01009684',\n",
       "  'E01009685',\n",
       "  'E01009686',\n",
       "  'E01009687',\n",
       "  'E01009688',\n",
       "  'E01009689',\n",
       "  'E01009690',\n",
       "  'E01009691',\n",
       "  'E01009692',\n",
       "  'E01009693',\n",
       "  'E01009694',\n",
       "  'E01009695',\n",
       "  'E01009530',\n",
       "  'E01009697',\n",
       "  'E01009587',\n",
       "  'E01009588',\n",
       "  'E01009589',\n",
       "  'E01009590',\n",
       "  'E01009531',\n",
       "  'E01009591',\n",
       "  'E01009532',\n",
       "  'E01009592',\n",
       "  'E01009698',\n",
       "  'E01009535',\n",
       "  'E01009593',\n",
       "  'E01009699',\n",
       "  'E01009536',\n",
       "  'E01009594',\n",
       "  'E01009700',\n",
       "  'E01009537',\n",
       "  'E01009596',\n",
       "  'E01009701',\n",
       "  'E01009538',\n",
       "  'E01009597',\n",
       "  'E01009702',\n",
       "  'E01009539',\n",
       "  'E01009598',\n",
       "  'E01009703',\n",
       "  'E01009540',\n",
       "  'E01009599',\n",
       "  'E01009704',\n",
       "  'E01009541',\n",
       "  'E01009604',\n",
       "  'E01009705',\n",
       "  'E01009542',\n",
       "  'E01009605',\n",
       "  'E01009606',\n",
       "  'E01009607',\n",
       "  'E01009608',\n",
       "  'E01009609',\n",
       "  'E01009610',\n",
       "  'E01009611',\n",
       "  'E01009612',\n",
       "  'E01009613',\n",
       "  'E01009614',\n",
       "  'E01009706',\n",
       "  'E01009615',\n",
       "  'E01009543',\n",
       "  'E01009544',\n",
       "  'E01009548',\n",
       "  'E01009549',\n",
       "  'E01009550',\n",
       "  'E01009552',\n",
       "  'E01009553',\n",
       "  'E01009554',\n",
       "  'E01009555',\n",
       "  'E01009556',\n",
       "  'E01009557',\n",
       "  'E01009558',\n",
       "  'E01009559',\n",
       "  'E01009560',\n",
       "  'E01009561',\n",
       "  'E01009562',\n",
       "  'E01009563',\n",
       "  'E01009564',\n",
       "  'E01009565',\n",
       "  'E01009566',\n",
       "  'E01009567',\n",
       "  'E01009568',\n",
       "  'E01009569',\n",
       "  'E01009570',\n",
       "  'E01009571',\n",
       "  'E01009572',\n",
       "  'E01009573',\n",
       "  'E01009574',\n",
       "  'E01009575',\n",
       "  'E01009707',\n",
       "  'E01009576',\n",
       "  'E01009616',\n",
       "  'E01009708',\n",
       "  'E01009577',\n",
       "  'E01009617',\n",
       "  'E01009709',\n",
       "  'E01009578',\n",
       "  'E01009618',\n",
       "  'E01009710',\n",
       "  'E01009579',\n",
       "  'E01009619',\n",
       "  'E01009620',\n",
       "  'E01009621',\n",
       "  'E01009622',\n",
       "  'E01009623',\n",
       "  'E01009624',\n",
       "  'E01009625',\n",
       "  'E01009626',\n",
       "  'E01009627',\n",
       "  'E01009628',\n",
       "  'E01009629',\n",
       "  'E01009630',\n",
       "  'E01009631',\n",
       "  'E01009632',\n",
       "  'E01009633',\n",
       "  'E01009634',\n",
       "  'E01009635',\n",
       "  'E01009636',\n",
       "  'E01009637',\n",
       "  'E01009638',\n",
       "  'E01009639',\n",
       "  'E01009640',\n",
       "  'E01009711',\n",
       "  'E01009712',\n",
       "  'E01009713',\n",
       "  'E01009714',\n",
       "  'E01009715',\n",
       "  'E01009716',\n",
       "  'E01009717',\n",
       "  'E01009718',\n",
       "  'E01009580',\n",
       "  'E01009581',\n",
       "  'E01009582',\n",
       "  'E01009583',\n",
       "  'E01009584',\n",
       "  'E01009585',\n",
       "  'E01009522',\n",
       "  'E01009523',\n",
       "  'E01009524',\n",
       "  'E01009525',\n",
       "  'E01009526',\n",
       "  'E01009527',\n",
       "  'E01009528',\n",
       "  'E01009529',\n",
       "  'E01033058',\n",
       "  'E01031099',\n",
       "  'E01031077',\n",
       "  'E01031078',\n",
       "  'E01032587',\n",
       "  'E01032588',\n",
       "  'E01032527',\n",
       "  'E01032528',\n",
       "  'E01032529',\n",
       "  'E01032530',\n",
       "  'E01032531',\n",
       "  'E01032532',\n",
       "  'E01032533',\n",
       "  'E01032534',\n",
       "  'E01032535',\n",
       "  'E01032536',\n",
       "  'E01032537',\n",
       "  'E01032538'],\n",
       " 'Crawley': ['E01032835',\n",
       "  'E01032836',\n",
       "  'E01031546',\n",
       "  'E01031547',\n",
       "  'E01031548',\n",
       "  'E01031549',\n",
       "  'E01031550',\n",
       "  'E01031551',\n",
       "  'E01031552',\n",
       "  'E01031553',\n",
       "  'E01031554',\n",
       "  'E01031555',\n",
       "  'E01031556',\n",
       "  'E01031557',\n",
       "  'E01031558',\n",
       "  'E01031559',\n",
       "  'E01031560',\n",
       "  'E01031561',\n",
       "  'E01031562',\n",
       "  'E01031563',\n",
       "  'E01031564',\n",
       "  'E01031565',\n",
       "  'E01031566',\n",
       "  'E01031567',\n",
       "  'E01031568',\n",
       "  'E01031569',\n",
       "  'E01031570',\n",
       "  'E01031571',\n",
       "  'E01031572',\n",
       "  'E01031573',\n",
       "  'E01031574',\n",
       "  'E01031575',\n",
       "  'E01031576',\n",
       "  'E01031577',\n",
       "  'E01031578',\n",
       "  'E01031579',\n",
       "  'E01031580',\n",
       "  'E01031581',\n",
       "  'E01031582',\n",
       "  'E01031583',\n",
       "  'E01031584',\n",
       "  'E01031585',\n",
       "  'E01031586',\n",
       "  'E01031587',\n",
       "  'E01031588',\n",
       "  'E01031589',\n",
       "  'E01031590',\n",
       "  'E01031591',\n",
       "  'E01031592',\n",
       "  'E01031593',\n",
       "  'E01031594',\n",
       "  'E01031595',\n",
       "  'E01031596',\n",
       "  'E01031597',\n",
       "  'E01031598',\n",
       "  'E01031599',\n",
       "  'E01031600',\n",
       "  'E01031601',\n",
       "  'E01031603',\n",
       "  'E01031604',\n",
       "  'E01031605',\n",
       "  'E01031606',\n",
       "  'E01031607',\n",
       "  'E01031608',\n",
       "  'E01031609',\n",
       "  'E01031610'],\n",
       " 'Darlington': ['E01012340',\n",
       "  'E01012341',\n",
       "  'E01012342',\n",
       "  'E01012343',\n",
       "  'E01012347',\n",
       "  'E01012348',\n",
       "  'E01012349',\n",
       "  'E01012350',\n",
       "  'E01012351',\n",
       "  'E01012352',\n",
       "  'E01012353',\n",
       "  'E01012354',\n",
       "  'E01012355',\n",
       "  'E01012356',\n",
       "  'E01012357',\n",
       "  'E01012358',\n",
       "  'E01012359',\n",
       "  'E01012360',\n",
       "  'E01012361',\n",
       "  'E01012362',\n",
       "  'E01012363',\n",
       "  'E01012364',\n",
       "  'E01012365',\n",
       "  'E01012304',\n",
       "  'E01012305',\n",
       "  'E01012306',\n",
       "  'E01012307',\n",
       "  'E01012309',\n",
       "  'E01012310',\n",
       "  'E01012311',\n",
       "  'E01012312',\n",
       "  'E01012313',\n",
       "  'E01012314',\n",
       "  'E01012315',\n",
       "  'E01012316',\n",
       "  'E01012317',\n",
       "  'E01012318',\n",
       "  'E01012319',\n",
       "  'E01012323',\n",
       "  'E01012324',\n",
       "  'E01012325',\n",
       "  'E01012326',\n",
       "  'E01012327',\n",
       "  'E01012328',\n",
       "  'E01012329',\n",
       "  'E01012330',\n",
       "  'E01012331',\n",
       "  'E01012332',\n",
       "  'E01012333',\n",
       "  'E01012336',\n",
       "  'E01012337',\n",
       "  'E01033481',\n",
       "  'E01033482',\n",
       "  'E01033483',\n",
       "  'E01033484',\n",
       "  'E01032545',\n",
       "  'E01032546'],\n",
       " 'Derby': ['E01013455',\n",
       "  'E01013507',\n",
       "  'E01013453',\n",
       "  'E01013454',\n",
       "  'E01013558',\n",
       "  'E01013508',\n",
       "  'E01013456',\n",
       "  'E01013559',\n",
       "  'E01013509',\n",
       "  'E01013457',\n",
       "  'E01013560',\n",
       "  'E01013510',\n",
       "  'E01013458',\n",
       "  'E01013561',\n",
       "  'E01013511',\n",
       "  'E01013459',\n",
       "  'E01013562',\n",
       "  'E01013512',\n",
       "  'E01013460',\n",
       "  'E01013563',\n",
       "  'E01013461',\n",
       "  'E01013564',\n",
       "  'E01013513',\n",
       "  'E01013462',\n",
       "  'E01013565',\n",
       "  'E01013514',\n",
       "  'E01013463',\n",
       "  'E01013566',\n",
       "  'E01013515',\n",
       "  'E01013464',\n",
       "  'E01013567',\n",
       "  'E01013517',\n",
       "  'E01013465',\n",
       "  'E01013518',\n",
       "  'E01013466',\n",
       "  'E01013519',\n",
       "  'E01013568',\n",
       "  'E01013467',\n",
       "  'E01013520',\n",
       "  'E01013569',\n",
       "  'E01013468',\n",
       "  'E01013521',\n",
       "  'E01013570',\n",
       "  'E01013469',\n",
       "  'E01013522',\n",
       "  'E01013571',\n",
       "  'E01013470',\n",
       "  'E01013523',\n",
       "  'E01013572',\n",
       "  'E01013471',\n",
       "  'E01013524',\n",
       "  'E01013573',\n",
       "  'E01013574',\n",
       "  'E01013575',\n",
       "  'E01013576',\n",
       "  'E01013577',\n",
       "  'E01013578',\n",
       "  'E01013579',\n",
       "  'E01013580',\n",
       "  'E01013581',\n",
       "  'E01013582',\n",
       "  'E01013583',\n",
       "  'E01013584',\n",
       "  'E01013585',\n",
       "  'E01013586',\n",
       "  'E01013587',\n",
       "  'E01013588',\n",
       "  'E01013589',\n",
       "  'E01013590',\n",
       "  'E01013591',\n",
       "  'E01013592',\n",
       "  'E01013593',\n",
       "  'E01013594',\n",
       "  'E01013595',\n",
       "  'E01013596',\n",
       "  'E01013597',\n",
       "  'E01013598',\n",
       "  'E01013599',\n",
       "  'E01013472',\n",
       "  'E01013525',\n",
       "  'E01013473',\n",
       "  'E01013526',\n",
       "  'E01013474',\n",
       "  'E01013527',\n",
       "  'E01013475',\n",
       "  'E01013528',\n",
       "  'E01013476',\n",
       "  'E01013529',\n",
       "  'E01013477',\n",
       "  'E01013530',\n",
       "  'E01013479',\n",
       "  'E01013531',\n",
       "  'E01013480',\n",
       "  'E01013532',\n",
       "  'E01013481',\n",
       "  'E01013533',\n",
       "  'E01013483',\n",
       "  'E01013534',\n",
       "  'E01013484',\n",
       "  'E01013535',\n",
       "  'E01013485',\n",
       "  'E01013536',\n",
       "  'E01013486',\n",
       "  'E01013537',\n",
       "  'E01013487',\n",
       "  'E01013538',\n",
       "  'E01013488',\n",
       "  'E01013539',\n",
       "  'E01013489',\n",
       "  'E01013540',\n",
       "  'E01013490',\n",
       "  'E01013541',\n",
       "  'E01013491',\n",
       "  'E01013542',\n",
       "  'E01013492',\n",
       "  'E01013543',\n",
       "  'E01013493',\n",
       "  'E01013544',\n",
       "  'E01013494',\n",
       "  'E01013545',\n",
       "  'E01013495',\n",
       "  'E01013546',\n",
       "  'E01013496',\n",
       "  'E01013547',\n",
       "  'E01013497',\n",
       "  'E01013548',\n",
       "  'E01013498',\n",
       "  'E01013549',\n",
       "  'E01013499',\n",
       "  'E01013550',\n",
       "  'E01013500',\n",
       "  'E01013551',\n",
       "  'E01013501',\n",
       "  'E01013552',\n",
       "  'E01013502',\n",
       "  'E01013503',\n",
       "  'E01013504',\n",
       "  'E01013505',\n",
       "  'E01013506',\n",
       "  'E01013553',\n",
       "  'E01013554',\n",
       "  'E01013555',\n",
       "  'E01013556',\n",
       "  'E01013557',\n",
       "  'E01019873',\n",
       "  'E01019874',\n",
       "  'E01019875',\n",
       "  'E01019835',\n",
       "  'E01019839',\n",
       "  'E01033166',\n",
       "  'E01033167',\n",
       "  'E01033168',\n",
       "  'E01033169',\n",
       "  'E01033170',\n",
       "  'E01033171',\n",
       "  'E01033172'],\n",
       " 'Doncaster': ['E01007498',\n",
       "  'E01007499',\n",
       "  'E01007548',\n",
       "  'E01007500',\n",
       "  'E01007648',\n",
       "  'E01007549',\n",
       "  'E01007501',\n",
       "  'E01007475',\n",
       "  'E01007476',\n",
       "  'E01007477',\n",
       "  'E01007494',\n",
       "  'E01007495',\n",
       "  'E01007496',\n",
       "  'E01007497',\n",
       "  'E01007649',\n",
       "  'E01007502',\n",
       "  'E01007550',\n",
       "  'E01007650',\n",
       "  'E01007503',\n",
       "  'E01007551',\n",
       "  'E01007651',\n",
       "  'E01007552',\n",
       "  'E01007652',\n",
       "  'E01007653',\n",
       "  'E01007654',\n",
       "  'E01007655',\n",
       "  'E01007656',\n",
       "  'E01007604',\n",
       "  'E01007605',\n",
       "  'E01007606',\n",
       "  'E01007607',\n",
       "  'E01007618',\n",
       "  'E01007621',\n",
       "  'E01007622',\n",
       "  'E01007623',\n",
       "  'E01007624',\n",
       "  'E01007643',\n",
       "  'E01007644',\n",
       "  'E01007564',\n",
       "  'E01007645',\n",
       "  'E01007565',\n",
       "  'E01007646',\n",
       "  'E01007566',\n",
       "  'E01007647',\n",
       "  'E01007567',\n",
       "  'E01007520',\n",
       "  'E01007521',\n",
       "  'E01007522',\n",
       "  'E01007523',\n",
       "  'E01007524',\n",
       "  'E01007525',\n",
       "  'E01007526',\n",
       "  'E01007527',\n",
       "  'E01007528',\n",
       "  'E01007529',\n",
       "  'E01007530',\n",
       "  'E01007531',\n",
       "  'E01007532',\n",
       "  'E01007533',\n",
       "  'E01007534',\n",
       "  'E01007535',\n",
       "  'E01007568',\n",
       "  'E01007569',\n",
       "  'E01007570',\n",
       "  'E01007545',\n",
       "  'E01007546',\n",
       "  'E01007547',\n",
       "  'E01007584',\n",
       "  'E01007585'],\n",
       " 'Dudley': ['E01009871',\n",
       "  'E01009872',\n",
       "  'E01009873',\n",
       "  'E01009874',\n",
       "  'E01009875',\n",
       "  'E01009876',\n",
       "  'E01009877',\n",
       "  'E01009878',\n",
       "  'E01009879',\n",
       "  'E01009880',\n",
       "  'E01009881',\n",
       "  'E01009882',\n",
       "  'E01009883',\n",
       "  'E01009884',\n",
       "  'E01009885',\n",
       "  'E01009886',\n",
       "  'E01009887',\n",
       "  'E01009888',\n",
       "  'E01009889',\n",
       "  'E01009891',\n",
       "  'E01009892',\n",
       "  'E01009893',\n",
       "  'E01009894',\n",
       "  'E01009752',\n",
       "  'E01009756',\n",
       "  'E01009757',\n",
       "  'E01009762',\n",
       "  'E01009784',\n",
       "  'E01009787',\n",
       "  'E01009839',\n",
       "  'E01009840',\n",
       "  'E01009841',\n",
       "  'E01009842',\n",
       "  'E01009843',\n",
       "  'E01009844',\n",
       "  'E01009952',\n",
       "  'E01009953',\n",
       "  'E01009954',\n",
       "  'E01009955',\n",
       "  'E01009956',\n",
       "  'E01009957',\n",
       "  'E01009958',\n",
       "  'E01009959',\n",
       "  'E01010042',\n",
       "  'E01009933',\n",
       "  'E01033187'],\n",
       " 'Eastbourne': ['E01032832',\n",
       "  'E01032833',\n",
       "  'E01020922',\n",
       "  'E01020923',\n",
       "  'E01020924',\n",
       "  'E01020925',\n",
       "  'E01020926',\n",
       "  'E01020927',\n",
       "  'E01020928',\n",
       "  'E01020929',\n",
       "  'E01020930',\n",
       "  'E01020931',\n",
       "  'E01020932',\n",
       "  'E01020933',\n",
       "  'E01020934',\n",
       "  'E01020935',\n",
       "  'E01020936',\n",
       "  'E01020937',\n",
       "  'E01020938',\n",
       "  'E01020939',\n",
       "  'E01020940',\n",
       "  'E01020941',\n",
       "  'E01020942',\n",
       "  'E01020943',\n",
       "  'E01020944',\n",
       "  'E01020945',\n",
       "  'E01020946',\n",
       "  'E01020947',\n",
       "  'E01020948',\n",
       "  'E01020949',\n",
       "  'E01020950',\n",
       "  'E01020951',\n",
       "  'E01020952',\n",
       "  'E01020953',\n",
       "  'E01020954',\n",
       "  'E01020955',\n",
       "  'E01020956',\n",
       "  'E01020957',\n",
       "  'E01020959',\n",
       "  'E01020960',\n",
       "  'E01020961',\n",
       "  'E01020962',\n",
       "  'E01020963',\n",
       "  'E01020964',\n",
       "  'E01020965',\n",
       "  'E01020966',\n",
       "  'E01020967',\n",
       "  'E01020968',\n",
       "  'E01020910',\n",
       "  'E01020911',\n",
       "  'E01020912',\n",
       "  'E01020913',\n",
       "  'E01020914',\n",
       "  'E01020915',\n",
       "  'E01020916',\n",
       "  'E01020917',\n",
       "  'E01020918',\n",
       "  'E01020919',\n",
       "  'E01020920',\n",
       "  'E01020921',\n",
       "  'E01021208',\n",
       "  'E01021210',\n",
       "  'E01021232',\n",
       "  'E01021233',\n",
       "  'E01021234',\n",
       "  'E01021235',\n",
       "  'E01032831'],\n",
       " 'Exeter': ['E01019968',\n",
       "  'E01019969',\n",
       "  'E01019970',\n",
       "  'E01019971',\n",
       "  'E01019972',\n",
       "  'E01019973',\n",
       "  'E01019974',\n",
       "  'E01019975',\n",
       "  'E01019976',\n",
       "  'E01019977',\n",
       "  'E01019980',\n",
       "  'E01019981',\n",
       "  'E01019982',\n",
       "  'E01019983',\n",
       "  'E01019984',\n",
       "  'E01019985',\n",
       "  'E01019986',\n",
       "  'E01019987',\n",
       "  'E01019988',\n",
       "  'E01019989',\n",
       "  'E01019990',\n",
       "  'E01019991',\n",
       "  'E01019992',\n",
       "  'E01019993',\n",
       "  'E01019994',\n",
       "  'E01019995',\n",
       "  'E01019996',\n",
       "  'E01019997',\n",
       "  'E01019998',\n",
       "  'E01019999',\n",
       "  'E01020000',\n",
       "  'E01020001',\n",
       "  'E01020002',\n",
       "  'E01020003',\n",
       "  'E01020004',\n",
       "  'E01020005',\n",
       "  'E01020006',\n",
       "  'E01020007',\n",
       "  'E01020008',\n",
       "  'E01020009',\n",
       "  'E01020010',\n",
       "  'E01020011',\n",
       "  'E01020012',\n",
       "  'E01020013',\n",
       "  'E01020014',\n",
       "  'E01020015',\n",
       "  'E01020016',\n",
       "  'E01020017',\n",
       "  'E01020018',\n",
       "  'E01020019',\n",
       "  'E01020020',\n",
       "  'E01020021',\n",
       "  'E01020022',\n",
       "  'E01020023',\n",
       "  'E01020024',\n",
       "  'E01020025',\n",
       "  'E01020026',\n",
       "  'E01020027',\n",
       "  'E01020029',\n",
       "  'E01020030',\n",
       "  'E01020031',\n",
       "  'E01020032',\n",
       "  'E01020035',\n",
       "  'E01020036',\n",
       "  'E01020037',\n",
       "  'E01020038',\n",
       "  'E01020039',\n",
       "  'E01020040',\n",
       "  'E01033232',\n",
       "  'E01033233',\n",
       "  'E01033234'],\n",
       " 'Gateshead': ['E01008214',\n",
       "  'E01008215',\n",
       "  'E01008216',\n",
       "  'E01008217',\n",
       "  'E01008218',\n",
       "  'E01008219',\n",
       "  'E01008220',\n",
       "  'E01008221',\n",
       "  'E01008225',\n",
       "  'E01008227',\n",
       "  'E01008228',\n",
       "  'E01008229',\n",
       "  'E01008230',\n",
       "  'E01008231',\n",
       "  'E01008232',\n",
       "  'E01008233',\n",
       "  'E01008234',\n",
       "  'E01008235',\n",
       "  'E01008236',\n",
       "  'E01008237',\n",
       "  'E01008238',\n",
       "  'E01008239',\n",
       "  'E01008240',\n",
       "  'E01008241',\n",
       "  'E01008242',\n",
       "  'E01008243',\n",
       "  'E01008244',\n",
       "  'E01008251',\n",
       "  'E01008252',\n",
       "  'E01008253',\n",
       "  'E01008254',\n",
       "  'E01008255',\n",
       "  'E01008256',\n",
       "  'E01008257',\n",
       "  'E01008258',\n",
       "  'E01008259',\n",
       "  'E01008260',\n",
       "  'E01008261',\n",
       "  'E01008281',\n",
       "  'E01008282',\n",
       "  'E01008283',\n",
       "  'E01008284',\n",
       "  'E01008285',\n",
       "  'E01008286',\n",
       "  'E01008287',\n",
       "  'E01008164',\n",
       "  'E01008165',\n",
       "  'E01008166',\n",
       "  'E01008167',\n",
       "  'E01008168',\n",
       "  'E01008169',\n",
       "  'E01008170',\n",
       "  'E01008171',\n",
       "  'E01008189',\n",
       "  'E01008190',\n",
       "  'E01008191',\n",
       "  'E01008192',\n",
       "  'E01008193',\n",
       "  'E01008194',\n",
       "  'E01008201',\n",
       "  'E01008202',\n",
       "  'E01008203',\n",
       "  'E01008204',\n",
       "  'E01008205',\n",
       "  'E01008206',\n",
       "  'E01008207',\n",
       "  'E01008208',\n",
       "  'E01008209',\n",
       "  'E01008210',\n",
       "  'E01008211',\n",
       "  'E01008212',\n",
       "  'E01008213',\n",
       "  'E01008162',\n",
       "  'E01008163'],\n",
       " 'Gillingham': ['E01016030',\n",
       "  'E01016031',\n",
       "  'E01016032',\n",
       "  'E01016033',\n",
       "  'E01016034',\n",
       "  'E01016035',\n",
       "  'E01016036',\n",
       "  'E01016037',\n",
       "  'E01016038',\n",
       "  'E01016039',\n",
       "  'E01016040',\n",
       "  'E01016041',\n",
       "  'E01016042',\n",
       "  'E01016043',\n",
       "  'E01016044',\n",
       "  'E01016045',\n",
       "  'E01016046',\n",
       "  'E01016047',\n",
       "  'E01016048',\n",
       "  'E01016049',\n",
       "  'E01016050',\n",
       "  'E01016051',\n",
       "  'E01016052',\n",
       "  'E01016053',\n",
       "  'E01016054',\n",
       "  'E01016174',\n",
       "  'E01016175',\n",
       "  'E01016176',\n",
       "  'E01016177',\n",
       "  'E01016178',\n",
       "  'E01016179',\n",
       "  'E01016159',\n",
       "  'E01016160',\n",
       "  'E01016161',\n",
       "  'E01016162',\n",
       "  'E01016163',\n",
       "  'E01016164',\n",
       "  'E01016165',\n",
       "  'E01016166',\n",
       "  'E01016167',\n",
       "  'E01016085',\n",
       "  'E01016086',\n",
       "  'E01016087',\n",
       "  'E01016088',\n",
       "  'E01016089',\n",
       "  'E01016090',\n",
       "  'E01016091',\n",
       "  'E01016092',\n",
       "  'E01016093',\n",
       "  'E01016094',\n",
       "  'E01016095',\n",
       "  'E01016096',\n",
       "  'E01016097',\n",
       "  'E01016098',\n",
       "  'E01016099',\n",
       "  'E01016100',\n",
       "  'E01016101',\n",
       "  'E01016102',\n",
       "  'E01016103',\n",
       "  'E01016104',\n",
       "  'E01016105',\n",
       "  'E01016106',\n",
       "  'E01016107',\n",
       "  'E01016112',\n",
       "  'E01032798'],\n",
       " 'Gloucester': ['E01022276',\n",
       "  'E01022277',\n",
       "  'E01022278',\n",
       "  'E01022279',\n",
       "  'E01022280',\n",
       "  'E01022281',\n",
       "  'E01022282',\n",
       "  'E01022283',\n",
       "  'E01022284',\n",
       "  'E01022285',\n",
       "  'E01022286',\n",
       "  'E01022287',\n",
       "  'E01022288',\n",
       "  'E01022289',\n",
       "  'E01022290',\n",
       "  'E01022291',\n",
       "  'E01022292',\n",
       "  'E01022343',\n",
       "  'E01022344',\n",
       "  'E01022293',\n",
       "  'E01022446',\n",
       "  'E01022345',\n",
       "  'E01022294',\n",
       "  'E01022346',\n",
       "  'E01022295',\n",
       "  'E01022347',\n",
       "  'E01022296',\n",
       "  'E01022348',\n",
       "  'E01022297',\n",
       "  'E01022298',\n",
       "  'E01022299',\n",
       "  'E01022300',\n",
       "  'E01022301',\n",
       "  'E01022302',\n",
       "  'E01022303',\n",
       "  'E01022304',\n",
       "  'E01022305',\n",
       "  'E01022306',\n",
       "  'E01022307',\n",
       "  'E01022308',\n",
       "  'E01022412',\n",
       "  'E01022309',\n",
       "  'E01022310',\n",
       "  'E01022311',\n",
       "  'E01022312',\n",
       "  'E01022313',\n",
       "  'E01022314',\n",
       "  'E01022421',\n",
       "  'E01022315',\n",
       "  'E01022422',\n",
       "  'E01022316',\n",
       "  'E01022423',\n",
       "  'E01022317',\n",
       "  'E01022424',\n",
       "  'E01022318',\n",
       "  'E01022319',\n",
       "  'E01022320',\n",
       "  'E01022321',\n",
       "  'E01022322',\n",
       "  'E01022323',\n",
       "  'E01022324',\n",
       "  'E01022325',\n",
       "  'E01022326',\n",
       "  'E01022327',\n",
       "  'E01022328',\n",
       "  'E01022329',\n",
       "  'E01022330',\n",
       "  'E01022331',\n",
       "  'E01022332',\n",
       "  'E01022333',\n",
       "  'E01022334',\n",
       "  'E01022335',\n",
       "  'E01022336',\n",
       "  'E01022338',\n",
       "  'E01022339',\n",
       "  'E01022340',\n",
       "  'E01022341',\n",
       "  'E01022342',\n",
       "  'E01022378',\n",
       "  'E01022379',\n",
       "  'E01022440',\n",
       "  'E01032932',\n",
       "  'E01032933',\n",
       "  'E01032934',\n",
       "  'E01032935',\n",
       "  'E01032936',\n",
       "  'E01032937'],\n",
       " 'Grimsby': ['E01013150',\n",
       "  'E01013158',\n",
       "  'E01013159',\n",
       "  'E01013160',\n",
       "  'E01013161',\n",
       "  'E01013162',\n",
       "  'E01013163',\n",
       "  'E01013164',\n",
       "  'E01013165',\n",
       "  'E01013181',\n",
       "  'E01013182',\n",
       "  'E01013183',\n",
       "  'E01013184',\n",
       "  'E01013185',\n",
       "  'E01013186',\n",
       "  'E01013187',\n",
       "  'E01013188',\n",
       "  'E01013189',\n",
       "  'E01013190',\n",
       "  'E01013191',\n",
       "  'E01013192',\n",
       "  'E01013193',\n",
       "  'E01013136',\n",
       "  'E01013137',\n",
       "  'E01013138',\n",
       "  'E01013139',\n",
       "  'E01013140',\n",
       "  'E01013141',\n",
       "  'E01013142',\n",
       "  'E01013143',\n",
       "  'E01013144',\n",
       "  'E01013145',\n",
       "  'E01013146',\n",
       "  'E01013147',\n",
       "  'E01013148',\n",
       "  'E01013149',\n",
       "  'E01013194',\n",
       "  'E01013204',\n",
       "  'E01013205',\n",
       "  'E01013206',\n",
       "  'E01013207',\n",
       "  'E01013208',\n",
       "  'E01013209',\n",
       "  'E01013210',\n",
       "  'E01013211',\n",
       "  'E01013212',\n",
       "  'E01013218',\n",
       "  'E01013219',\n",
       "  'E01013220',\n",
       "  'E01013221',\n",
       "  'E01013222',\n",
       "  'E01013227',\n",
       "  'E01013228',\n",
       "  'E01013229',\n",
       "  'E01013231',\n",
       "  'E01013233',\n",
       "  'E01013234',\n",
       "  'E01033414'],\n",
       " 'Guildford': ['E01030483',\n",
       "  'E01030484',\n",
       "  'E01030485',\n",
       "  'E01030486',\n",
       "  'E01030487',\n",
       "  'E01030488',\n",
       "  'E01030489',\n",
       "  'E01030493',\n",
       "  'E01030494',\n",
       "  'E01030495',\n",
       "  'E01030496',\n",
       "  'E01030497',\n",
       "  'E01030498',\n",
       "  'E01030500',\n",
       "  'E01030501',\n",
       "  'E01030504',\n",
       "  'E01030434',\n",
       "  'E01030435',\n",
       "  'E01030436',\n",
       "  'E01030437',\n",
       "  'E01030438',\n",
       "  'E01030439',\n",
       "  'E01030448',\n",
       "  'E01030449',\n",
       "  'E01030450',\n",
       "  'E01030451',\n",
       "  'E01030452',\n",
       "  'E01030453',\n",
       "  'E01030454',\n",
       "  'E01030455',\n",
       "  'E01030456',\n",
       "  'E01030457',\n",
       "  'E01030460',\n",
       "  'E01030461',\n",
       "  'E01030462',\n",
       "  'E01030463',\n",
       "  'E01030464',\n",
       "  'E01030467',\n",
       "  'E01030468',\n",
       "  'E01030469',\n",
       "  'E01030470',\n",
       "  'E01030480',\n",
       "  'E01030481',\n",
       "  'E01030482'],\n",
       " 'Halifax': ['E01010911',\n",
       "  'E01010912',\n",
       "  'E01010965',\n",
       "  'E01010913',\n",
       "  'E01010914',\n",
       "  'E01010966',\n",
       "  'E01010915',\n",
       "  'E01010916',\n",
       "  'E01010967',\n",
       "  'E01010968',\n",
       "  'E01010969',\n",
       "  'E01010970',\n",
       "  'E01010924',\n",
       "  'E01010971',\n",
       "  'E01010925',\n",
       "  'E01010972',\n",
       "  'E01010926',\n",
       "  'E01010973',\n",
       "  'E01010927',\n",
       "  'E01010974',\n",
       "  'E01010928',\n",
       "  'E01010975',\n",
       "  'E01010929',\n",
       "  'E01010930',\n",
       "  'E01010976',\n",
       "  'E01010977',\n",
       "  'E01010978',\n",
       "  'E01010979',\n",
       "  'E01010980',\n",
       "  'E01010934',\n",
       "  'E01010981',\n",
       "  'E01010938',\n",
       "  'E01010939',\n",
       "  'E01010940',\n",
       "  'E01010941',\n",
       "  'E01010942',\n",
       "  'E01010989',\n",
       "  'E01010943',\n",
       "  'E01010990',\n",
       "  'E01010944',\n",
       "  'E01010991',\n",
       "  'E01010992',\n",
       "  'E01010993',\n",
       "  'E01010960',\n",
       "  'E01010961',\n",
       "  'E01010964',\n",
       "  'E01010994',\n",
       "  'E01010995',\n",
       "  'E01010996',\n",
       "  'E01010997',\n",
       "  'E01010998',\n",
       "  'E01010999',\n",
       "  'E01011000',\n",
       "  'E01011001',\n",
       "  'E01011002',\n",
       "  'E01011003',\n",
       "  'E01032923'],\n",
       " 'Harlow': ['E01021836',\n",
       "  'E01021837',\n",
       "  'E01021838',\n",
       "  'E01021839',\n",
       "  'E01021840',\n",
       "  'E01021841',\n",
       "  'E01021842',\n",
       "  'E01021843',\n",
       "  'E01021844',\n",
       "  'E01021845',\n",
       "  'E01021846',\n",
       "  'E01021847',\n",
       "  'E01021848',\n",
       "  'E01021849',\n",
       "  'E01021850',\n",
       "  'E01021851',\n",
       "  'E01021852',\n",
       "  'E01021853',\n",
       "  'E01021854',\n",
       "  'E01021855',\n",
       "  'E01021856',\n",
       "  'E01021858',\n",
       "  'E01021859',\n",
       "  'E01021860',\n",
       "  'E01021861',\n",
       "  'E01021862',\n",
       "  'E01021863',\n",
       "  'E01021864',\n",
       "  'E01021865',\n",
       "  'E01021866',\n",
       "  'E01021867',\n",
       "  'E01021868',\n",
       "  'E01021869',\n",
       "  'E01021870',\n",
       "  'E01021871',\n",
       "  'E01021819',\n",
       "  'E01021872',\n",
       "  'E01021820',\n",
       "  'E01021821',\n",
       "  'E01021822',\n",
       "  'E01021823',\n",
       "  'E01021824',\n",
       "  'E01021825',\n",
       "  'E01021826',\n",
       "  'E01021827',\n",
       "  'E01021828',\n",
       "  'E01021829',\n",
       "  'E01021830',\n",
       "  'E01021831',\n",
       "  'E01021832',\n",
       "  'E01021833',\n",
       "  'E01021834',\n",
       "  'E01021835'],\n",
       " 'Harrogate': ['E01027663',\n",
       "  'E01027716',\n",
       "  'E01027717',\n",
       "  'E01027718',\n",
       "  'E01027719',\n",
       "  'E01027720',\n",
       "  'E01027721',\n",
       "  'E01027722',\n",
       "  'E01027723',\n",
       "  'E01027726',\n",
       "  'E01027727',\n",
       "  'E01027728',\n",
       "  'E01027729',\n",
       "  'E01027730',\n",
       "  'E01027731',\n",
       "  'E01027732',\n",
       "  'E01027733',\n",
       "  'E01027738',\n",
       "  'E01027739',\n",
       "  'E01027740',\n",
       "  'E01027741',\n",
       "  'E01027677',\n",
       "  'E01027678',\n",
       "  'E01027679',\n",
       "  'E01027680',\n",
       "  'E01027689',\n",
       "  'E01027690',\n",
       "  'E01027691',\n",
       "  'E01027692',\n",
       "  'E01027638',\n",
       "  'E01027697',\n",
       "  'E01027639',\n",
       "  'E01027698',\n",
       "  'E01027640',\n",
       "  'E01027641',\n",
       "  'E01027648',\n",
       "  'E01027649',\n",
       "  'E01027650',\n",
       "  'E01027651',\n",
       "  'E01027652',\n",
       "  'E01027653',\n",
       "  'E01027654',\n",
       "  'E01027655',\n",
       "  'E01027656',\n",
       "  'E01027657',\n",
       "  'E01027658',\n",
       "  'E01027659',\n",
       "  'E01027660',\n",
       "  'E01027661',\n",
       "  'E01027662'],\n",
       " 'Hartlepool': ['E01011949',\n",
       "  'E01011950',\n",
       "  'E01011951',\n",
       "  'E01011952',\n",
       "  'E01011953',\n",
       "  'E01011954',\n",
       "  'E01011955',\n",
       "  'E01011957',\n",
       "  'E01011960',\n",
       "  'E01011961',\n",
       "  'E01011962',\n",
       "  'E01011963',\n",
       "  'E01011964',\n",
       "  'E01011965',\n",
       "  'E01011966',\n",
       "  'E01011967',\n",
       "  'E01011969',\n",
       "  'E01011970',\n",
       "  'E01011971',\n",
       "  'E01011973',\n",
       "  'E01011974',\n",
       "  'E01011975',\n",
       "  'E01011976',\n",
       "  'E01011977',\n",
       "  'E01011978',\n",
       "  'E01011979',\n",
       "  'E01011980',\n",
       "  'E01011981',\n",
       "  'E01011982',\n",
       "  'E01011983',\n",
       "  'E01011984',\n",
       "  'E01011985',\n",
       "  'E01011986',\n",
       "  'E01011987',\n",
       "  'E01011988',\n",
       "  'E01011989',\n",
       "  'E01011990',\n",
       "  'E01011991',\n",
       "  'E01011992',\n",
       "  'E01011993',\n",
       "  'E01011994',\n",
       "  'E01011995',\n",
       "  'E01011996',\n",
       "  'E01011997',\n",
       "  'E01011998',\n",
       "  'E01011999',\n",
       "  'E01012000',\n",
       "  'E01012001',\n",
       "  'E01012002',\n",
       "  'E01012003',\n",
       "  'E01012005',\n",
       "  'E01033465',\n",
       "  'E01033466',\n",
       "  'E01033467',\n",
       "  'E01032540',\n",
       "  'E01032541'],\n",
       " 'Hastings': ['E01020969',\n",
       "  'E01020970',\n",
       "  'E01020971',\n",
       "  'E01020972',\n",
       "  'E01020973',\n",
       "  'E01020974',\n",
       "  'E01020975',\n",
       "  'E01020976',\n",
       "  'E01020977',\n",
       "  'E01020978',\n",
       "  'E01020979',\n",
       "  'E01020980',\n",
       "  'E01020981',\n",
       "  'E01020982',\n",
       "  'E01020983',\n",
       "  'E01020984',\n",
       "  'E01020985',\n",
       "  'E01020986',\n",
       "  'E01020987',\n",
       "  'E01020988',\n",
       "  'E01020989',\n",
       "  'E01020990',\n",
       "  'E01020991',\n",
       "  'E01020992',\n",
       "  'E01020993',\n",
       "  'E01020994',\n",
       "  'E01020995',\n",
       "  'E01020996',\n",
       "  'E01020997',\n",
       "  'E01020998',\n",
       "  'E01020999',\n",
       "  'E01021000',\n",
       "  'E01021001',\n",
       "  'E01021002',\n",
       "  'E01021003',\n",
       "  'E01021004',\n",
       "  'E01021005',\n",
       "  'E01021006',\n",
       "  'E01021007',\n",
       "  'E01021008',\n",
       "  'E01021009',\n",
       "  'E01021010',\n",
       "  'E01021011',\n",
       "  'E01021012',\n",
       "  'E01021013',\n",
       "  'E01021014',\n",
       "  'E01021015',\n",
       "  'E01021016',\n",
       "  'E01021017',\n",
       "  'E01021018',\n",
       "  'E01021019',\n",
       "  'E01021020',\n",
       "  'E01021021'],\n",
       " 'Hemel Hempstead': ['E01023378',\n",
       "  'E01023379',\n",
       "  'E01023380',\n",
       "  'E01023381',\n",
       "  'E01023382',\n",
       "  'E01023383',\n",
       "  'E01023384',\n",
       "  'E01023385',\n",
       "  'E01023386',\n",
       "  'E01023387',\n",
       "  'E01023388',\n",
       "  'E01023389',\n",
       "  'E01023390',\n",
       "  'E01023391',\n",
       "  'E01023392',\n",
       "  'E01023393',\n",
       "  'E01023394',\n",
       "  'E01023395',\n",
       "  'E01023396',\n",
       "  'E01023397',\n",
       "  'E01023345',\n",
       "  'E01023398',\n",
       "  'E01023346',\n",
       "  'E01023399',\n",
       "  'E01023347',\n",
       "  'E01023400',\n",
       "  'E01023348',\n",
       "  'E01023401',\n",
       "  'E01023349',\n",
       "  'E01023402',\n",
       "  'E01023350',\n",
       "  'E01023403',\n",
       "  'E01023351',\n",
       "  'E01023404',\n",
       "  'E01023405',\n",
       "  'E01023354',\n",
       "  'E01023406',\n",
       "  'E01023407',\n",
       "  'E01023408',\n",
       "  'E01023357',\n",
       "  'E01023409',\n",
       "  'E01023358',\n",
       "  'E01023410',\n",
       "  'E01023359',\n",
       "  'E01023411',\n",
       "  'E01023360',\n",
       "  'E01023412',\n",
       "  'E01023413',\n",
       "  'E01023414',\n",
       "  'E01023415',\n",
       "  'E01023427',\n",
       "  'E01023428',\n",
       "  'E01023429',\n",
       "  'E01023434',\n",
       "  'E01023435',\n",
       "  'E01023436',\n",
       "  'E01023437',\n",
       "  'E01023808',\n",
       "  'E01033022',\n",
       "  'E01033023'],\n",
       " 'High Wycombe': ['E01017920',\n",
       "  'E01017921',\n",
       "  'E01017873',\n",
       "  'E01017773',\n",
       "  'E01017922',\n",
       "  'E01017774',\n",
       "  'E01017923',\n",
       "  'E01017924',\n",
       "  'E01017925',\n",
       "  'E01017926',\n",
       "  'E01017927',\n",
       "  'E01017880',\n",
       "  'E01017928',\n",
       "  'E01017881',\n",
       "  'E01017882',\n",
       "  'E01017883',\n",
       "  'E01017884',\n",
       "  'E01017784',\n",
       "  'E01017836',\n",
       "  'E01017837',\n",
       "  'E01017838',\n",
       "  'E01017839',\n",
       "  'E01017937',\n",
       "  'E01017938',\n",
       "  'E01017939',\n",
       "  'E01017940',\n",
       "  'E01017941',\n",
       "  'E01017942',\n",
       "  'E01017840',\n",
       "  'E01017841',\n",
       "  'E01017843',\n",
       "  'E01017844',\n",
       "  'E01017845',\n",
       "  'E01017850',\n",
       "  'E01017899',\n",
       "  'E01017851',\n",
       "  'E01017900',\n",
       "  'E01017852',\n",
       "  'E01017901',\n",
       "  'E01017853',\n",
       "  'E01017902',\n",
       "  'E01017903',\n",
       "  'E01017904',\n",
       "  'E01017905',\n",
       "  'E01017857',\n",
       "  'E01017906',\n",
       "  'E01017858',\n",
       "  'E01017859',\n",
       "  'E01017907',\n",
       "  'E01017908',\n",
       "  'E01017860',\n",
       "  'E01017909',\n",
       "  'E01017861',\n",
       "  'E01017910',\n",
       "  'E01017862',\n",
       "  'E01017911',\n",
       "  'E01017863',\n",
       "  'E01017912',\n",
       "  'E01017913',\n",
       "  'E01017914',\n",
       "  'E01017919',\n",
       "  'E01032609',\n",
       "  'E01032610'],\n",
       " 'Huddersfield': ['E01011038',\n",
       "  'E01011039',\n",
       "  'E01011040',\n",
       "  'E01011041',\n",
       "  'E01011042',\n",
       "  'E01011043',\n",
       "  'E01011044',\n",
       "  'E01011045',\n",
       "  'E01011046',\n",
       "  'E01011047',\n",
       "  'E01011070',\n",
       "  'E01011071',\n",
       "  'E01011072',\n",
       "  'E01011073',\n",
       "  'E01011077',\n",
       "  'E01011078',\n",
       "  'E01011079',\n",
       "  'E01011080',\n",
       "  'E01011081',\n",
       "  'E01011082',\n",
       "  'E01011083',\n",
       "  'E01011084',\n",
       "  'E01011085',\n",
       "  'E01011086',\n",
       "  'E01011089',\n",
       "  'E01011090',\n",
       "  'E01011091',\n",
       "  'E01011092',\n",
       "  'E01011093',\n",
       "  'E01011094',\n",
       "  'E01011095',\n",
       "  'E01011096',\n",
       "  'E01011097',\n",
       "  'E01011098',\n",
       "  'E01011099',\n",
       "  'E01011100',\n",
       "  'E01011101',\n",
       "  'E01011102',\n",
       "  'E01011103',\n",
       "  'E01011104',\n",
       "  'E01011105',\n",
       "  'E01011106',\n",
       "  'E01011107',\n",
       "  'E01011108',\n",
       "  'E01011004',\n",
       "  'E01011005',\n",
       "  'E01011006',\n",
       "  'E01011007',\n",
       "  'E01011008',\n",
       "  'E01011009',\n",
       "  'E01011010',\n",
       "  'E01011011',\n",
       "  'E01011012',\n",
       "  'E01011222',\n",
       "  'E01011223',\n",
       "  'E01011224',\n",
       "  'E01011225',\n",
       "  'E01011226',\n",
       "  'E01011227',\n",
       "  'E01011228',\n",
       "  'E01011229',\n",
       "  'E01011230',\n",
       "  'E01011231',\n",
       "  'E01011232',\n",
       "  'E01011233',\n",
       "  'E01011234',\n",
       "  'E01011235',\n",
       "  'E01011236',\n",
       "  'E01011237',\n",
       "  'E01011238',\n",
       "  'E01011239',\n",
       "  'E01011240',\n",
       "  'E01011145',\n",
       "  'E01011146',\n",
       "  'E01011147',\n",
       "  'E01011148',\n",
       "  'E01011149',\n",
       "  'E01011150',\n",
       "  'E01011151',\n",
       "  'E01011152',\n",
       "  'E01011153',\n",
       "  'E01011154',\n",
       "  'E01011155',\n",
       "  'E01011190',\n",
       "  'E01011191',\n",
       "  'E01011194',\n",
       "  'E01011196',\n",
       "  'E01011197',\n",
       "  'E01011200',\n",
       "  'E01011201',\n",
       "  'E01011202',\n",
       "  'E01011203',\n",
       "  'E01011204',\n",
       "  'E01011205',\n",
       "  'E01011206',\n",
       "  'E01011207',\n",
       "  'E01011208',\n",
       "  'E01011209',\n",
       "  'E01011210',\n",
       "  'E01011211'],\n",
       " 'Ipswich': ['E01033122',\n",
       "  'E01033123',\n",
       "  'E01033124',\n",
       "  'E01033125',\n",
       "  'E01033126',\n",
       "  'E01033127',\n",
       "  'E01033128',\n",
       "  'E01033129',\n",
       "  'E01033130',\n",
       "  'E01033131',\n",
       "  'E01029958',\n",
       "  'E01029960',\n",
       "  'E01029961',\n",
       "  'E01029962',\n",
       "  'E01029963',\n",
       "  'E01029964',\n",
       "  'E01029965',\n",
       "  'E01029966',\n",
       "  'E01029967',\n",
       "  'E01029968',\n",
       "  'E01029969',\n",
       "  'E01029970',\n",
       "  'E01029971',\n",
       "  'E01029973',\n",
       "  'E01029974',\n",
       "  'E01029975',\n",
       "  'E01029976',\n",
       "  'E01029977',\n",
       "  'E01029978',\n",
       "  'E01029979',\n",
       "  'E01029980',\n",
       "  'E01029981',\n",
       "  'E01029982',\n",
       "  'E01029983',\n",
       "  'E01029984',\n",
       "  'E01029985',\n",
       "  'E01029986',\n",
       "  'E01029987',\n",
       "  'E01029988',\n",
       "  'E01029990',\n",
       "  'E01029991',\n",
       "  'E01029992',\n",
       "  'E01029994',\n",
       "  'E01029995',\n",
       "  'E01029996',\n",
       "  'E01029997',\n",
       "  'E01029998',\n",
       "  'E01029999',\n",
       "  'E01030000',\n",
       "  'E01030001',\n",
       "  'E01030002',\n",
       "  'E01030003',\n",
       "  'E01030004',\n",
       "  'E01030005',\n",
       "  'E01030006',\n",
       "  'E01030007',\n",
       "  'E01030008',\n",
       "  'E01030009',\n",
       "  'E01030010',\n",
       "  'E01030011',\n",
       "  'E01030012',\n",
       "  'E01030013',\n",
       "  'E01030014',\n",
       "  'E01030015',\n",
       "  'E01030016',\n",
       "  'E01030017',\n",
       "  'E01030018',\n",
       "  'E01030019',\n",
       "  'E01030020',\n",
       "  'E01030021',\n",
       "  'E01030022',\n",
       "  'E01030023',\n",
       "  'E01030024',\n",
       "  'E01030025',\n",
       "  'E01030026',\n",
       "  'E01030027',\n",
       "  'E01030028',\n",
       "  'E01030029',\n",
       "  'E01030030',\n",
       "  'E01030031',\n",
       "  'E01030032',\n",
       "  'E01030033',\n",
       "  'E01030034',\n",
       "  'E01030035',\n",
       "  'E01030036',\n",
       "  'E01030196',\n",
       "  'E01030204',\n",
       "  'E01030205',\n",
       "  'E01030206',\n",
       "  'E01029908',\n",
       "  'E01029909',\n",
       "  'E01029910'],\n",
       " 'Kingston upon Hull': ['E01012756',\n",
       "  'E01012757',\n",
       "  'E01012758',\n",
       "  'E01012759',\n",
       "  'E01012760',\n",
       "  'E01012761',\n",
       "  'E01012762',\n",
       "  'E01012763',\n",
       "  'E01012764',\n",
       "  'E01012765',\n",
       "  'E01012766',\n",
       "  'E01012767',\n",
       "  'E01012768',\n",
       "  'E01012769',\n",
       "  'E01012770',\n",
       "  'E01012771',\n",
       "  'E01012772',\n",
       "  'E01012773',\n",
       "  'E01012774',\n",
       "  'E01012775',\n",
       "  'E01012776',\n",
       "  'E01012777',\n",
       "  'E01012778',\n",
       "  'E01012779',\n",
       "  'E01012780',\n",
       "  'E01012781',\n",
       "  'E01012782',\n",
       "  'E01012783',\n",
       "  'E01012784',\n",
       "  'E01012785',\n",
       "  'E01012786',\n",
       "  'E01012787',\n",
       "  'E01012788',\n",
       "  'E01012789',\n",
       "  'E01012790',\n",
       "  'E01012791',\n",
       "  'E01012792',\n",
       "  'E01012793',\n",
       "  'E01012794',\n",
       "  'E01012898',\n",
       "  'E01012795',\n",
       "  'E01012899',\n",
       "  'E01012844',\n",
       "  'E01012796',\n",
       "  'E01012797',\n",
       "  'E01012798',\n",
       "  'E01012799',\n",
       "  'E01012845',\n",
       "  'E01012900',\n",
       "  'E01013103',\n",
       "  'E01012901',\n",
       "  'E01012846',\n",
       "  'E01012800',\n",
       "  'E01012902',\n",
       "  'E01012847',\n",
       "  'E01012801',\n",
       "  'E01013104',\n",
       "  'E01012903',\n",
       "  'E01012848',\n",
       "  'E01012953',\n",
       "  'E01012802',\n",
       "  'E01013105',\n",
       "  'E01012904',\n",
       "  'E01012849',\n",
       "  'E01012803',\n",
       "  'E01013106',\n",
       "  'E01012905',\n",
       "  'E01012850',\n",
       "  'E01012804',\n",
       "  'E01013107',\n",
       "  'E01012906',\n",
       "  'E01012851',\n",
       "  'E01012805',\n",
       "  'E01013108',\n",
       "  'E01012907',\n",
       "  'E01012852',\n",
       "  'E01013110',\n",
       "  'E01012806',\n",
       "  'E01012854',\n",
       "  'E01013111',\n",
       "  'E01012807',\n",
       "  'E01012855',\n",
       "  'E01013112',\n",
       "  'E01012808',\n",
       "  'E01012908',\n",
       "  'E01012856',\n",
       "  'E01013113',\n",
       "  'E01012809',\n",
       "  'E01012909',\n",
       "  'E01012857',\n",
       "  'E01013114',\n",
       "  'E01013031',\n",
       "  'E01013032',\n",
       "  'E01012858',\n",
       "  'E01012910',\n",
       "  'E01013115',\n",
       "  'E01012859',\n",
       "  'E01012911',\n",
       "  'E01013116',\n",
       "  'E01012860',\n",
       "  'E01012912',\n",
       "  'E01012810',\n",
       "  'E01013117',\n",
       "  'E01012862',\n",
       "  'E01012913',\n",
       "  'E01012811',\n",
       "  'E01013118',\n",
       "  'E01012863',\n",
       "  'E01012914',\n",
       "  'E01012812',\n",
       "  'E01012864',\n",
       "  'E01012915',\n",
       "  'E01012865',\n",
       "  'E01012813',\n",
       "  'E01012866',\n",
       "  'E01012916',\n",
       "  'E01012814',\n",
       "  'E01012964',\n",
       "  'E01012867',\n",
       "  'E01012917',\n",
       "  'E01012815',\n",
       "  'E01012868',\n",
       "  'E01012918',\n",
       "  'E01012816',\n",
       "  'E01012869',\n",
       "  'E01012817',\n",
       "  'E01012870',\n",
       "  'E01012818',\n",
       "  'E01012871',\n",
       "  'E01012819',\n",
       "  'E01012872',\n",
       "  'E01012820',\n",
       "  'E01012873',\n",
       "  'E01012821',\n",
       "  'E01012874',\n",
       "  'E01012875',\n",
       "  'E01012876',\n",
       "  'E01012822',\n",
       "  'E01012877',\n",
       "  'E01012823',\n",
       "  'E01012878',\n",
       "  'E01012879',\n",
       "  'E01012880',\n",
       "  'E01012881',\n",
       "  'E01012882',\n",
       "  'E01012883',\n",
       "  'E01012884',\n",
       "  'E01012886',\n",
       "  'E01012887',\n",
       "  'E01012888',\n",
       "  'E01012889',\n",
       "  'E01012891',\n",
       "  'E01012892',\n",
       "  'E01012893',\n",
       "  'E01012894',\n",
       "  'E01012895',\n",
       "  'E01012896',\n",
       "  'E01012897',\n",
       "  'E01012824',\n",
       "  'E01012825',\n",
       "  'E01012826',\n",
       "  'E01012827',\n",
       "  'E01012828',\n",
       "  'E01012829',\n",
       "  'E01012830',\n",
       "  'E01012832',\n",
       "  'E01012833',\n",
       "  'E01012834',\n",
       "  'E01012835',\n",
       "  'E01012836',\n",
       "  'E01012837',\n",
       "  'E01012838',\n",
       "  'E01012839',\n",
       "  'E01012840',\n",
       "  'E01012841',\n",
       "  'E01012842',\n",
       "  'E01012843',\n",
       "  'E01033104',\n",
       "  'E01033105',\n",
       "  'E01033106',\n",
       "  'E01033107',\n",
       "  'E01033108',\n",
       "  'E01033109',\n",
       "  'E01033110',\n",
       "  'E01032595',\n",
       "  'E01032596'],\n",
       " 'Leeds': ['E01011426',\n",
       "  'E01011322',\n",
       "  'E01011480',\n",
       "  'E01011281',\n",
       "  'E01011282',\n",
       "  'E01011283',\n",
       "  'E01011284',\n",
       "  'E01011286',\n",
       "  'E01011287',\n",
       "  'E01011292',\n",
       "  'E01011293',\n",
       "  'E01011294',\n",
       "  'E01011295',\n",
       "  'E01011312',\n",
       "  'E01011313',\n",
       "  'E01011314',\n",
       "  'E01011315',\n",
       "  'E01011316',\n",
       "  'E01011317',\n",
       "  'E01011318',\n",
       "  'E01011319',\n",
       "  'E01011320',\n",
       "  'E01011321',\n",
       "  'E01011427',\n",
       "  'E01011481',\n",
       "  'E01011482',\n",
       "  'E01011483',\n",
       "  'E01011484',\n",
       "  'E01011485',\n",
       "  'E01011488',\n",
       "  'E01011489',\n",
       "  'E01011490',\n",
       "  'E01011491',\n",
       "  'E01011492',\n",
       "  'E01011493',\n",
       "  'E01011494',\n",
       "  'E01011497',\n",
       "  'E01011502',\n",
       "  'E01011504',\n",
       "  'E01011505',\n",
       "  'E01011506',\n",
       "  'E01011507',\n",
       "  'E01011508',\n",
       "  'E01011509',\n",
       "  'E01011510',\n",
       "  'E01011511',\n",
       "  'E01011512',\n",
       "  'E01011513',\n",
       "  'E01011514',\n",
       "  'E01011515',\n",
       "  'E01011516',\n",
       "  'E01011517',\n",
       "  'E01011428',\n",
       "  'E01011323',\n",
       "  'E01011429',\n",
       "  'E01011374',\n",
       "  'E01011324',\n",
       "  'E01011375',\n",
       "  'E01011325',\n",
       "  'E01011376',\n",
       "  'E01011326',\n",
       "  'E01011377',\n",
       "  'E01011327',\n",
       "  'E01011378',\n",
       "  'E01011328',\n",
       "  'E01011430',\n",
       "  'E01011379',\n",
       "  'E01011329',\n",
       "  'E01011431',\n",
       "  'E01011380',\n",
       "  'E01011330',\n",
       "  'E01011432',\n",
       "  'E01011381',\n",
       "  'E01011331',\n",
       "  'E01011433',\n",
       "  'E01011382',\n",
       "  'E01011383',\n",
       "  'E01011384',\n",
       "  'E01011385',\n",
       "  'E01011386',\n",
       "  'E01011388',\n",
       "  'E01011406',\n",
       "  'E01011407',\n",
       "  'E01011408',\n",
       "  'E01011409',\n",
       "  'E01011410',\n",
       "  'E01011411',\n",
       "  'E01011412',\n",
       "  'E01011413',\n",
       "  'E01011414',\n",
       "  'E01011415',\n",
       "  'E01011416',\n",
       "  'E01011417',\n",
       "  'E01011418',\n",
       "  'E01011419',\n",
       "  'E01011420',\n",
       "  'E01011421',\n",
       "  'E01011422',\n",
       "  'E01011423',\n",
       "  'E01011424',\n",
       "  'E01011425',\n",
       "  'E01011332',\n",
       "  'E01011333',\n",
       "  'E01011334',\n",
       "  'E01011335',\n",
       "  'E01011336',\n",
       "  'E01011337',\n",
       "  'E01011338',\n",
       "  'E01011339',\n",
       "  'E01011340',\n",
       "  'E01011341',\n",
       "  'E01011342',\n",
       "  'E01011343',\n",
       "  'E01011344',\n",
       "  'E01011345',\n",
       "  'E01011346',\n",
       "  'E01011347',\n",
       "  'E01011348',\n",
       "  'E01011349',\n",
       "  'E01011350',\n",
       "  'E01011351',\n",
       "  'E01011352',\n",
       "  'E01011353',\n",
       "  'E01011354',\n",
       "  'E01011355',\n",
       "  'E01011356',\n",
       "  'E01011357',\n",
       "  'E01011358',\n",
       "  'E01011359',\n",
       "  'E01011360',\n",
       "  'E01011361',\n",
       "  'E01011362',\n",
       "  'E01011363',\n",
       "  'E01011364',\n",
       "  'E01011366',\n",
       "  'E01011368',\n",
       "  'E01011434',\n",
       "  'E01011435',\n",
       "  'E01011440',\n",
       "  'E01011441',\n",
       "  'E01011442',\n",
       "  'E01011443',\n",
       "  'E01011444',\n",
       "  'E01011445',\n",
       "  'E01011446',\n",
       "  'E01011447',\n",
       "  'E01011448',\n",
       "  'E01011449',\n",
       "  'E01011450',\n",
       "  'E01011451',\n",
       "  'E01011466',\n",
       "  'E01011467',\n",
       "  'E01011468',\n",
       "  'E01011469',\n",
       "  'E01011470',\n",
       "  'E01011471',\n",
       "  'E01011472',\n",
       "  'E01011473',\n",
       "  'E01011474',\n",
       "  'E01011475',\n",
       "  'E01011476',\n",
       "  'E01011477',\n",
       "  'E01011478',\n",
       "  'E01011479',\n",
       "  'E01011369',\n",
       "  'E01011370',\n",
       "  'E01011371',\n",
       "  'E01011372',\n",
       "  'E01011373',\n",
       "  'E01011645',\n",
       "  'E01011646',\n",
       "  'E01011647',\n",
       "  'E01011648',\n",
       "  'E01011650',\n",
       "  'E01011651',\n",
       "  'E01011652',\n",
       "  'E01011653',\n",
       "  'E01011654',\n",
       "  'E01011655',\n",
       "  'E01011656',\n",
       "  'E01011608',\n",
       "  'E01011609',\n",
       "  'E01011611',\n",
       "  'E01011615',\n",
       "  'E01011616',\n",
       "  'E01011617',\n",
       "  'E01011618',\n",
       "  'E01011620',\n",
       "  'E01011621',\n",
       "  'E01011622',\n",
       "  'E01011623',\n",
       "  'E01011624',\n",
       "  'E01011625',\n",
       "  'E01011626',\n",
       "  'E01011641',\n",
       "  'E01011642',\n",
       "  'E01011643',\n",
       "  'E01011644',\n",
       "  'E01011657',\n",
       "  'E01011658',\n",
       "  'E01011659',\n",
       "  'E01011660',\n",
       "  'E01011661',\n",
       "  'E01011662',\n",
       "  'E01011663',\n",
       "  'E01011664',\n",
       "  'E01011665',\n",
       "  'E01011666',\n",
       "  'E01011667',\n",
       "  'E01011668',\n",
       "  'E01011669',\n",
       "  'E01011670',\n",
       "  'E01011671',\n",
       "  'E01011673',\n",
       "  'E01011677',\n",
       "  'E01011678',\n",
       "  'E01011681',\n",
       "  'E01011684',\n",
       "  'E01011685',\n",
       "  'E01011686',\n",
       "  'E01011687',\n",
       "  'E01011688',\n",
       "  'E01011689',\n",
       "  'E01011690',\n",
       "  'E01011691',\n",
       "  'E01011692',\n",
       "  'E01011693',\n",
       "  'E01011694',\n",
       "  'E01011695',\n",
       "  'E01011714',\n",
       "  'E01011716',\n",
       "  'E01011717',\n",
       "  'E01011718',\n",
       "  'E01011720',\n",
       "  'E01011721',\n",
       "  'E01011722',\n",
       "  'E01011723',\n",
       "  'E01011724',\n",
       "  'E01011725',\n",
       "  'E01011726',\n",
       "  'E01011727',\n",
       "  'E01011728',\n",
       "  'E01011729',\n",
       "  'E01011730',\n",
       "  'E01011731',\n",
       "  'E01011732',\n",
       "  'E01011733',\n",
       "  'E01011734',\n",
       "  'E01011735',\n",
       "  'E01011736',\n",
       "  'E01011737',\n",
       "  'E01011738',\n",
       "  'E01011739',\n",
       "  'E01011554',\n",
       "  'E01011555',\n",
       "  'E01011556',\n",
       "  'E01011557',\n",
       "  'E01011558',\n",
       "  'E01011559',\n",
       "  'E01011560',\n",
       "  'E01011562',\n",
       "  'E01011563',\n",
       "  'E01011564',\n",
       "  'E01011565',\n",
       "  'E01011566',\n",
       "  'E01011567',\n",
       "  'E01011568',\n",
       "  'E01011591',\n",
       "  'E01032945',\n",
       "  'E01032946',\n",
       "  'E01033002',\n",
       "  'E01033003',\n",
       "  'E01033005',\n",
       "  'E01033006',\n",
       "  'E01033008',\n",
       "  'E01033010',\n",
       "  'E01033011',\n",
       "  'E01033013',\n",
       "  'E01033015',\n",
       "  'E01033016',\n",
       "  'E01033018',\n",
       "  'E01033019',\n",
       "  'E01033021',\n",
       "  'E01033031',\n",
       "  'E01033032',\n",
       "  'E01033033',\n",
       "  'E01033034',\n",
       "  'E01033035',\n",
       "  'E01032876',\n",
       "  'E01032606',\n",
       "  'E01032607',\n",
       "  'E01032608',\n",
       "  'E01032493',\n",
       "  'E01032494',\n",
       "  'E01032495',\n",
       "  'E01032497',\n",
       "  'E01032498',\n",
       "  'E01032499',\n",
       "  'E01032500',\n",
       "  'E01032501',\n",
       "  'E01032502'],\n",
       " 'Leicester': ['E01013600',\n",
       "  'E01013601',\n",
       "  'E01013602',\n",
       "  'E01013603',\n",
       "  'E01013604',\n",
       "  'E01013605',\n",
       "  'E01013606',\n",
       "  'E01013607',\n",
       "  'E01013712',\n",
       "  'E01013608',\n",
       "  'E01013660',\n",
       "  'E01013763',\n",
       "  'E01013713',\n",
       "  'E01013714',\n",
       "  'E01013715',\n",
       "  'E01013716',\n",
       "  'E01013717',\n",
       "  'E01013718',\n",
       "  'E01013719',\n",
       "  'E01013720',\n",
       "  'E01013721',\n",
       "  'E01013722',\n",
       "  'E01013723',\n",
       "  'E01013725',\n",
       "  'E01013726',\n",
       "  'E01013727',\n",
       "  'E01013728',\n",
       "  'E01013729',\n",
       "  'E01013730',\n",
       "  'E01013731',\n",
       "  'E01013732',\n",
       "  'E01013733',\n",
       "  'E01013734',\n",
       "  'E01013735',\n",
       "  'E01013736',\n",
       "  'E01013737',\n",
       "  'E01013738',\n",
       "  'E01013739',\n",
       "  'E01013740',\n",
       "  'E01013741',\n",
       "  'E01013742',\n",
       "  'E01013743',\n",
       "  'E01013744',\n",
       "  'E01013745',\n",
       "  'E01013746',\n",
       "  'E01013747',\n",
       "  'E01013748',\n",
       "  'E01013749',\n",
       "  'E01013750',\n",
       "  'E01013751',\n",
       "  'E01013752',\n",
       "  'E01013753',\n",
       "  'E01013754',\n",
       "  'E01013755',\n",
       "  'E01013756',\n",
       "  'E01013757',\n",
       "  'E01013758',\n",
       "  'E01013759',\n",
       "  'E01013760',\n",
       "  'E01013761',\n",
       "  'E01013762',\n",
       "  'E01013661',\n",
       "  'E01013609',\n",
       "  'E01013764',\n",
       "  'E01013662',\n",
       "  'E01013663',\n",
       "  'E01013664',\n",
       "  'E01013665',\n",
       "  'E01013666',\n",
       "  'E01013667',\n",
       "  'E01013668',\n",
       "  'E01013610',\n",
       "  'E01013669',\n",
       "  'E01013765',\n",
       "  'E01013611',\n",
       "  'E01013670',\n",
       "  'E01013766',\n",
       "  'E01013612',\n",
       "  'E01013671',\n",
       "  'E01013767',\n",
       "  'E01013613',\n",
       "  'E01013672',\n",
       "  'E01013768',\n",
       "  'E01013614',\n",
       "  'E01013673',\n",
       "  'E01013770',\n",
       "  'E01013615',\n",
       "  'E01013674',\n",
       "  'E01013771',\n",
       "  'E01013616',\n",
       "  'E01013675',\n",
       "  'E01013772',\n",
       "  'E01013773',\n",
       "  'E01013774',\n",
       "  'E01013775',\n",
       "  'E01013776',\n",
       "  'E01013777',\n",
       "  'E01013778',\n",
       "  'E01013779',\n",
       "  'E01013780',\n",
       "  'E01013781',\n",
       "  'E01013782',\n",
       "  'E01013783',\n",
       "  'E01013784',\n",
       "  'E01013785',\n",
       "  'E01013786',\n",
       "  'E01013617',\n",
       "  'E01013676',\n",
       "  'E01013618',\n",
       "  'E01013619',\n",
       "  'E01013620',\n",
       "  'E01013677',\n",
       "  'E01013621',\n",
       "  'E01013678',\n",
       "  'E01013622',\n",
       "  'E01013679',\n",
       "  'E01013623',\n",
       "  'E01013680',\n",
       "  'E01013624',\n",
       "  'E01013681',\n",
       "  'E01013625',\n",
       "  'E01013682',\n",
       "  'E01013626',\n",
       "  'E01013627',\n",
       "  'E01013628',\n",
       "  'E01013629',\n",
       "  'E01013630',\n",
       "  'E01013631',\n",
       "  'E01013632',\n",
       "  'E01013633',\n",
       "  'E01013634',\n",
       "  'E01013635',\n",
       "  'E01013636',\n",
       "  'E01013637',\n",
       "  'E01013638',\n",
       "  'E01013639',\n",
       "  'E01013640',\n",
       "  'E01013641',\n",
       "  'E01013642',\n",
       "  'E01013643',\n",
       "  'E01013646',\n",
       "  'E01013647',\n",
       "  'E01013648',\n",
       "  'E01013649',\n",
       "  'E01013650',\n",
       "  'E01013651',\n",
       "  'E01013652',\n",
       "  'E01013653',\n",
       "  'E01013654',\n",
       "  'E01013655',\n",
       "  'E01013656',\n",
       "  'E01013657',\n",
       "  'E01013658',\n",
       "  'E01013659',\n",
       "  'E01013683',\n",
       "  'E01013684',\n",
       "  'E01013685',\n",
       "  'E01013686',\n",
       "  'E01013687',\n",
       "  'E01013688',\n",
       "  'E01013689',\n",
       "  'E01013690',\n",
       "  'E01013691',\n",
       "  'E01013692',\n",
       "  'E01013693',\n",
       "  'E01013694',\n",
       "  'E01013695',\n",
       "  'E01013696',\n",
       "  'E01013697',\n",
       "  'E01013698',\n",
       "  'E01013699',\n",
       "  'E01013700',\n",
       "  'E01013702',\n",
       "  'E01013703',\n",
       "  'E01013704',\n",
       "  'E01013705',\n",
       "  'E01013706',\n",
       "  'E01013707',\n",
       "  'E01013709',\n",
       "  'E01013710',\n",
       "  'E01013711',\n",
       "  'E01025639',\n",
       "  'E01025640',\n",
       "  'E01025652',\n",
       "  'E01025653',\n",
       "  'E01025654',\n",
       "  'E01025655',\n",
       "  'E01025656',\n",
       "  'E01025657',\n",
       "  'E01025658',\n",
       "  'E01025812',\n",
       "  'E01025660',\n",
       "  'E01025813',\n",
       "  'E01025762',\n",
       "  'E01025763',\n",
       "  'E01025666',\n",
       "  'E01025764',\n",
       "  'E01025667',\n",
       "  'E01025765',\n",
       "  'E01025668',\n",
       "  'E01025766',\n",
       "  'E01025669',\n",
       "  'E01025767',\n",
       "  'E01025622',\n",
       "  'E01025623',\n",
       "  'E01025624',\n",
       "  'E01025629',\n",
       "  'E01025630',\n",
       "  'E01025631',\n",
       "  'E01025632',\n",
       "  'E01025633',\n",
       "  'E01025634',\n",
       "  'E01025635',\n",
       "  'E01025636',\n",
       "  'E01025637',\n",
       "  'E01025638',\n",
       "  'E01032862',\n",
       "  'E01032863',\n",
       "  'E01032865',\n",
       "  'E01032867',\n",
       "  'E01032868',\n",
       "  'E01032872',\n",
       "  'E01032873',\n",
       "  'E01032875',\n",
       "  'E01032597',\n",
       "  'E01032598',\n",
       "  'E01032599',\n",
       "  'E01032602',\n",
       "  'E01032603'],\n",
       " 'Lincoln': ['E01026127',\n",
       "  'E01026177',\n",
       "  'E01026128',\n",
       "  'E01026178',\n",
       "  'E01026129',\n",
       "  'E01026237',\n",
       "  'E01026130',\n",
       "  'E01026238',\n",
       "  'E01026131',\n",
       "  'E01026132',\n",
       "  'E01026133',\n",
       "  'E01026184',\n",
       "  'E01026134',\n",
       "  'E01026185',\n",
       "  'E01026135',\n",
       "  'E01026136',\n",
       "  'E01026137',\n",
       "  'E01026138',\n",
       "  'E01026139',\n",
       "  'E01026140',\n",
       "  'E01026141',\n",
       "  'E01026142',\n",
       "  'E01026143',\n",
       "  'E01026144',\n",
       "  'E01026145',\n",
       "  'E01026146',\n",
       "  'E01026147',\n",
       "  'E01026148',\n",
       "  'E01026149',\n",
       "  'E01026150',\n",
       "  'E01026151',\n",
       "  'E01026152',\n",
       "  'E01026153',\n",
       "  'E01026154',\n",
       "  'E01026155',\n",
       "  'E01026156',\n",
       "  'E01026157',\n",
       "  'E01026158',\n",
       "  'E01026159',\n",
       "  'E01026160',\n",
       "  'E01026161',\n",
       "  'E01026162',\n",
       "  'E01026163',\n",
       "  'E01026164',\n",
       "  'E01026165',\n",
       "  'E01026166',\n",
       "  'E01026167',\n",
       "  'E01026168',\n",
       "  'E01026169',\n",
       "  'E01026170',\n",
       "  'E01026171',\n",
       "  'E01026172',\n",
       "  'E01026173',\n",
       "  'E01026174',\n",
       "  'E01026175',\n",
       "  'E01026176',\n",
       "  'E01026122',\n",
       "  'E01026123',\n",
       "  'E01026124',\n",
       "  'E01026125',\n",
       "  'E01026126'],\n",
       " 'Liverpool': ['E01006514',\n",
       "  'E01006412',\n",
       "  'E01006515',\n",
       "  'E01006413',\n",
       "  'E01006414',\n",
       "  'E01006518',\n",
       "  'E01006519',\n",
       "  'E01006520',\n",
       "  'E01006521',\n",
       "  'E01006465',\n",
       "  'E01006522',\n",
       "  'E01006419',\n",
       "  'E01006523',\n",
       "  'E01006420',\n",
       "  'E01006467',\n",
       "  'E01006524',\n",
       "  'E01006421',\n",
       "  'E01006470',\n",
       "  'E01006471',\n",
       "  'E01006525',\n",
       "  'E01006472',\n",
       "  'E01006526',\n",
       "  'E01006422',\n",
       "  'E01006527',\n",
       "  'E01006423',\n",
       "  'E01006474',\n",
       "  'E01006528',\n",
       "  'E01006424',\n",
       "  'E01006475',\n",
       "  'E01006529',\n",
       "  'E01006425',\n",
       "  'E01006476',\n",
       "  'E01006530',\n",
       "  'E01006426',\n",
       "  'E01006477',\n",
       "  'E01006531',\n",
       "  'E01006427',\n",
       "  'E01006478',\n",
       "  'E01006532',\n",
       "  'E01006428',\n",
       "  'E01006479',\n",
       "  'E01006429',\n",
       "  'E01006480',\n",
       "  'E01006533',\n",
       "  'E01006534',\n",
       "  'E01006535',\n",
       "  'E01006536',\n",
       "  'E01006537',\n",
       "  'E01006481',\n",
       "  'E01006538',\n",
       "  'E01006430',\n",
       "  'E01006482',\n",
       "  'E01006539',\n",
       "  'E01006431',\n",
       "  'E01006483',\n",
       "  'E01006540',\n",
       "  'E01006432',\n",
       "  'E01006484',\n",
       "  'E01006541',\n",
       "  'E01006433',\n",
       "  'E01006485',\n",
       "  'E01006542',\n",
       "  'E01006486',\n",
       "  'E01006543',\n",
       "  'E01006487',\n",
       "  'E01006544',\n",
       "  'E01006488',\n",
       "  'E01006545',\n",
       "  'E01006489',\n",
       "  'E01006546',\n",
       "  'E01006547',\n",
       "  'E01006548',\n",
       "  'E01006440',\n",
       "  'E01006549',\n",
       "  'E01006441',\n",
       "  'E01006442',\n",
       "  'E01006443',\n",
       "  'E01006444',\n",
       "  'E01006445',\n",
       "  'E01006449',\n",
       "  'E01006450',\n",
       "  'E01006451',\n",
       "  'E01006452',\n",
       "  'E01006453',\n",
       "  'E01006550',\n",
       "  'E01006551',\n",
       "  'E01006552',\n",
       "  'E01006553',\n",
       "  'E01006554',\n",
       "  'E01006556',\n",
       "  'E01006557',\n",
       "  'E01006558',\n",
       "  'E01006560',\n",
       "  'E01006562',\n",
       "  'E01006563',\n",
       "  'E01006564',\n",
       "  'E01006565',\n",
       "  'E01006506',\n",
       "  'E01006566',\n",
       "  'E01006567',\n",
       "  'E01006508',\n",
       "  'E01006568',\n",
       "  'E01006510',\n",
       "  'E01006512',\n",
       "  'E01006513',\n",
       "  'E01006784',\n",
       "  'E01006785',\n",
       "  'E01006786',\n",
       "  'E01006569',\n",
       "  'E01006787',\n",
       "  'E01006788',\n",
       "  'E01006570',\n",
       "  'E01006621',\n",
       "  'E01006730',\n",
       "  'E01006677',\n",
       "  'E01006790',\n",
       "  'E01006571',\n",
       "  'E01006622',\n",
       "  'E01006731',\n",
       "  'E01006678',\n",
       "  'E01006791',\n",
       "  'E01006572',\n",
       "  'E01006623',\n",
       "  'E01006732',\n",
       "  'E01006679',\n",
       "  'E01006792',\n",
       "  'E01006573',\n",
       "  'E01006624',\n",
       "  'E01006734',\n",
       "  'E01006680',\n",
       "  'E01006793',\n",
       "  'E01006574',\n",
       "  'E01006625',\n",
       "  'E01006735',\n",
       "  'E01006681',\n",
       "  'E01006794',\n",
       "  'E01006575',\n",
       "  'E01006626',\n",
       "  'E01006736',\n",
       "  'E01006682',\n",
       "  'E01006795',\n",
       "  'E01006576',\n",
       "  'E01006627',\n",
       "  'E01006737',\n",
       "  'E01006738',\n",
       "  'E01006739',\n",
       "  'E01006796',\n",
       "  'E01006740',\n",
       "  'E01006683',\n",
       "  'E01006577',\n",
       "  'E01006628',\n",
       "  'E01006741',\n",
       "  'E01006684',\n",
       "  'E01006629',\n",
       "  'E01006797',\n",
       "  'E01006578',\n",
       "  'E01006742',\n",
       "  'E01006685',\n",
       "  'E01006630',\n",
       "  'E01006798',\n",
       "  'E01006579',\n",
       "  'E01006743',\n",
       "  'E01006686',\n",
       "  'E01006632',\n",
       "  'E01006799',\n",
       "  'E01006580',\n",
       "  'E01006744',\n",
       "  'E01006687',\n",
       "  'E01006633',\n",
       "  'E01006800',\n",
       "  'E01006581',\n",
       "  'E01006745',\n",
       "  'E01006688',\n",
       "  'E01006637',\n",
       "  'E01006801',\n",
       "  'E01006582',\n",
       "  'E01006746',\n",
       "  'E01006689',\n",
       "  'E01006638',\n",
       "  'E01006583',\n",
       "  'E01006747',\n",
       "  'E01006690',\n",
       "  'E01006639',\n",
       "  'E01006584',\n",
       "  'E01006585',\n",
       "  'E01006748',\n",
       "  'E01006640',\n",
       "  'E01006691',\n",
       "  'E01006641',\n",
       "  'E01006692',\n",
       "  'E01006586',\n",
       "  'E01006751',\n",
       "  'E01006642',\n",
       "  'E01006693',\n",
       "  'E01006587',\n",
       "  'E01006752',\n",
       "  'E01006643',\n",
       "  'E01006694',\n",
       "  'E01006588',\n",
       "  'E01006753',\n",
       "  'E01006644',\n",
       "  'E01006695',\n",
       "  'E01006589',\n",
       "  'E01006754',\n",
       "  'E01006645',\n",
       "  'E01006696',\n",
       "  'E01006590',\n",
       "  'E01006755',\n",
       "  'E01006646',\n",
       "  'E01006697',\n",
       "  'E01006591',\n",
       "  'E01006756',\n",
       "  'E01006647',\n",
       "  'E01006698',\n",
       "  'E01006592',\n",
       "  'E01006757',\n",
       "  'E01006648',\n",
       "  'E01006699',\n",
       "  'E01006593',\n",
       "  'E01006758',\n",
       "  'E01006594',\n",
       "  'E01006759',\n",
       "  'E01006595',\n",
       "  'E01006700',\n",
       "  'E01006651',\n",
       "  'E01006760',\n",
       "  'E01006596',\n",
       "  'E01006701',\n",
       "  'E01006652',\n",
       "  'E01006761',\n",
       "  'E01006597',\n",
       "  'E01006702',\n",
       "  'E01006653',\n",
       "  'E01006762',\n",
       "  'E01006598',\n",
       "  'E01006703',\n",
       "  'E01006654',\n",
       "  'E01006763',\n",
       "  'E01006599',\n",
       "  'E01006705',\n",
       "  'E01006655',\n",
       "  'E01006764',\n",
       "  'E01006600',\n",
       "  'E01006706',\n",
       "  'E01006656',\n",
       "  'E01006765',\n",
       "  'E01006603',\n",
       "  'E01006707',\n",
       "  'E01006657',\n",
       "  'E01006766',\n",
       "  'E01006604',\n",
       "  'E01006708',\n",
       "  'E01006658',\n",
       "  'E01006767',\n",
       "  'E01006605',\n",
       "  'E01006709',\n",
       "  'E01006710',\n",
       "  'E01006711',\n",
       "  'E01006712',\n",
       "  'E01006713',\n",
       "  'E01006716',\n",
       "  'E01006717',\n",
       "  'E01006718',\n",
       "  'E01006719',\n",
       "  'E01006720',\n",
       "  'E01006721',\n",
       "  'E01006722',\n",
       "  'E01006723',\n",
       "  'E01006724',\n",
       "  'E01006725',\n",
       "  'E01006726',\n",
       "  'E01006727',\n",
       "  'E01006728',\n",
       "  'E01006729',\n",
       "  'E01006659',\n",
       "  'E01006606',\n",
       "  'E01006660',\n",
       "  'E01006607',\n",
       "  'E01006661',\n",
       "  'E01006768',\n",
       "  'E01006608',\n",
       "  'E01006662',\n",
       "  'E01006769',\n",
       "  'E01006609',\n",
       "  'E01006663',\n",
       "  'E01006770',\n",
       "  'E01006610',\n",
       "  'E01006664',\n",
       "  'E01006771',\n",
       "  'E01006611',\n",
       "  'E01006665',\n",
       "  'E01006772',\n",
       "  'E01006612',\n",
       "  'E01006666',\n",
       "  'E01006773',\n",
       "  'E01006613',\n",
       "  'E01006667',\n",
       "  'E01006774',\n",
       "  'E01006614',\n",
       "  'E01006775',\n",
       "  'E01006615',\n",
       "  'E01006668',\n",
       "  'E01006776',\n",
       "  'E01006616',\n",
       "  'E01006669',\n",
       "  'E01006778',\n",
       "  'E01006617',\n",
       "  'E01006670',\n",
       "  'E01006779',\n",
       "  'E01006618',\n",
       "  'E01006671',\n",
       "  'E01006780',\n",
       "  'E01006619',\n",
       "  'E01006672',\n",
       "  'E01006781',\n",
       "  'E01006620',\n",
       "  'E01006673',\n",
       "  'E01006782',\n",
       "  'E01006674',\n",
       "  'E01006783',\n",
       "  'E01006675',\n",
       "  'E01006676',\n",
       "  'E01007041',\n",
       "  'E01007042',\n",
       "  'E01007043',\n",
       "  'E01007044',\n",
       "  'E01007045',\n",
       "  'E01033228',\n",
       "  'E01033747',\n",
       "  'E01033748',\n",
       "  'E01033749',\n",
       "  'E01033750',\n",
       "  'E01033751',\n",
       "  'E01033752',\n",
       "  'E01033753',\n",
       "  'E01033754',\n",
       "  'E01033755',\n",
       "  'E01033756',\n",
       "  'E01033757',\n",
       "  'E01033758',\n",
       "  'E01033759',\n",
       "  'E01033760',\n",
       "  'E01033761',\n",
       "  'E01033762',\n",
       "  'E01033763',\n",
       "  'E01033764',\n",
       "  'E01033765',\n",
       "  'E01033766',\n",
       "  'E01033767',\n",
       "  'E01033768',\n",
       "  'E01032511',\n",
       "  'E01032505',\n",
       "  'E01032506',\n",
       "  'E01032507',\n",
       "  'E01032508',\n",
       "  'E01032509',\n",
       "  'E01032510'],\n",
       " 'London': ['E01002351',\n",
       "  'E01002352',\n",
       "  'E01002100',\n",
       "  'E01002301',\n",
       "  'E01002353',\n",
       "  'E01002101',\n",
       "  'E01002050',\n",
       "  'E01002354',\n",
       "  'E01002302',\n",
       "  'E01002102',\n",
       "  'E01002051',\n",
       "  'E01002355',\n",
       "  'E01002303',\n",
       "  'E01002103',\n",
       "  'E01002052',\n",
       "  'E01002356',\n",
       "  'E01002304',\n",
       "  'E01002104',\n",
       "  'E01002053',\n",
       "  'E01002358',\n",
       "  'E01002305',\n",
       "  'E01002105',\n",
       "  'E01002054',\n",
       "  'E01002359',\n",
       "  'E01002306',\n",
       "  'E01002106',\n",
       "  'E01002055',\n",
       "  'E01002360',\n",
       "  'E01002251',\n",
       "  'E01002150',\n",
       "  'E01002402',\n",
       "  'E01002200',\n",
       "  'E01002307',\n",
       "  'E01002308',\n",
       "  'E01002309',\n",
       "  'E01002310',\n",
       "  'E01002311',\n",
       "  'E01002312',\n",
       "  'E01002313',\n",
       "  'E01002314',\n",
       "  'E01002315',\n",
       "  'E01002316',\n",
       "  'E01002317',\n",
       "  'E01002318',\n",
       "  'E01002319',\n",
       "  'E01002320',\n",
       "  'E01002321',\n",
       "  'E01002322',\n",
       "  'E01002323',\n",
       "  'E01002324',\n",
       "  'E01002325',\n",
       "  'E01002326',\n",
       "  'E01002327',\n",
       "  'E01002328',\n",
       "  'E01002329',\n",
       "  'E01002330',\n",
       "  'E01002331',\n",
       "  'E01002332',\n",
       "  'E01002333',\n",
       "  'E01002334',\n",
       "  'E01002335',\n",
       "  'E01002336',\n",
       "  'E01002337',\n",
       "  'E01002338',\n",
       "  'E01002339',\n",
       "  'E01002340',\n",
       "  'E01002341',\n",
       "  'E01002342',\n",
       "  'E01002343',\n",
       "  'E01002344',\n",
       "  'E01002345',\n",
       "  'E01002346',\n",
       "  'E01002347',\n",
       "  'E01002348',\n",
       "  'E01002349',\n",
       "  'E01002350',\n",
       "  'E01002151',\n",
       "  'E01002107',\n",
       "  'E01002403',\n",
       "  'E01002361',\n",
       "  'E01002252',\n",
       "  'E01002056',\n",
       "  'E01002152',\n",
       "  'E01002201',\n",
       "  'E01002108',\n",
       "  'E01002404',\n",
       "  'E01002362',\n",
       "  'E01002253',\n",
       "  'E01002057',\n",
       "  'E01002153',\n",
       "  'E01002202',\n",
       "  'E01002109',\n",
       "  'E01002405',\n",
       "  'E01002363',\n",
       "  'E01002254',\n",
       "  'E01002058',\n",
       "  'E01002154',\n",
       "  'E01002203',\n",
       "  'E01002110',\n",
       "  'E01002406',\n",
       "  'E01002364',\n",
       "  'E01002255',\n",
       "  'E01002059',\n",
       "  'E01002155',\n",
       "  'E01002204',\n",
       "  'E01002206',\n",
       "  'E01002207',\n",
       "  'E01002208',\n",
       "  'E01002209',\n",
       "  'E01002210',\n",
       "  'E01002211',\n",
       "  'E01002212',\n",
       "  'E01002213',\n",
       "  'E01002214',\n",
       "  'E01002215',\n",
       "  'E01002216',\n",
       "  'E01002217',\n",
       "  'E01002218',\n",
       "  'E01002219',\n",
       "  'E01002220',\n",
       "  'E01002221',\n",
       "  'E01002222',\n",
       "  'E01002223',\n",
       "  'E01002224',\n",
       "  'E01002225',\n",
       "  'E01002226',\n",
       "  'E01002227',\n",
       "  'E01002228',\n",
       "  'E01002229',\n",
       "  'E01002230',\n",
       "  'E01002231',\n",
       "  'E01002232',\n",
       "  'E01002233',\n",
       "  'E01002234',\n",
       "  'E01002235',\n",
       "  'E01002236',\n",
       "  'E01002237',\n",
       "  'E01002238',\n",
       "  'E01002239',\n",
       "  'E01002240',\n",
       "  'E01002241',\n",
       "  'E01002242',\n",
       "  'E01002243',\n",
       "  'E01002244',\n",
       "  'E01002245',\n",
       "  'E01002246',\n",
       "  'E01002247',\n",
       "  'E01002248',\n",
       "  'E01002249',\n",
       "  'E01002250',\n",
       "  'E01002111',\n",
       "  'E01002060',\n",
       "  'E01002112',\n",
       "  'E01002365',\n",
       "  'E01002407',\n",
       "  'E01002061',\n",
       "  'E01002113',\n",
       "  'E01002366',\n",
       "  'E01002256',\n",
       "  'E01002408',\n",
       "  'E01002062',\n",
       "  'E01002114',\n",
       "  'E01002156',\n",
       "  'E01002367',\n",
       "  'E01002257',\n",
       "  'E01002409',\n",
       "  'E01002063',\n",
       "  'E01002115',\n",
       "  'E01002157',\n",
       "  'E01002368',\n",
       "  'E01002258',\n",
       "  'E01002410',\n",
       "  'E01002064',\n",
       "  'E01002116',\n",
       "  'E01002158',\n",
       "  'E01002369',\n",
       "  'E01002259',\n",
       "  'E01002411',\n",
       "  'E01002412',\n",
       "  'E01002413',\n",
       "  'E01002414',\n",
       "  'E01002415',\n",
       "  'E01002416',\n",
       "  'E01002417',\n",
       "  'E01002418',\n",
       "  'E01002419',\n",
       "  'E01002420',\n",
       "  'E01002421',\n",
       "  'E01002422',\n",
       "  'E01002423',\n",
       "  'E01002424',\n",
       "  'E01002425',\n",
       "  'E01002426',\n",
       "  'E01002427',\n",
       "  'E01002428',\n",
       "  'E01002429',\n",
       "  'E01002430',\n",
       "  'E01002431',\n",
       "  'E01002432',\n",
       "  'E01002433',\n",
       "  'E01002434',\n",
       "  'E01002435',\n",
       "  'E01002436',\n",
       "  'E01002437',\n",
       "  'E01002443',\n",
       "  'E01002444',\n",
       "  'E01002445',\n",
       "  'E01002447',\n",
       "  'E01002448',\n",
       "  'E01002449',\n",
       "  'E01002450',\n",
       "  'E01002451',\n",
       "  'E01002117',\n",
       "  'E01002065',\n",
       "  'E01002159',\n",
       "  'E01002118',\n",
       "  'E01002066',\n",
       "  'E01002160',\n",
       "  'E01002119',\n",
       "  'E01002260',\n",
       "  'E01002067',\n",
       "  'E01002161',\n",
       "  'E01002120',\n",
       "  'E01002370',\n",
       "  'E01002261',\n",
       "  'E01002068',\n",
       "  'E01002162',\n",
       "  'E01002121',\n",
       "  'E01002371',\n",
       "  'E01002262',\n",
       "  'E01002069',\n",
       "  'E01002163',\n",
       "  'E01002122',\n",
       "  'E01002372',\n",
       "  'E01002263',\n",
       "  'E01002070',\n",
       "  'E01002164',\n",
       "  'E01002123',\n",
       "  'E01002373',\n",
       "  'E01002264',\n",
       "  'E01002071',\n",
       "  'E01002165',\n",
       "  'E01002124',\n",
       "  'E01002374',\n",
       "  'E01002375',\n",
       "  'E01002376',\n",
       "  'E01002377',\n",
       "  'E01002378',\n",
       "  'E01002379',\n",
       "  'E01002380',\n",
       "  'E01002381',\n",
       "  'E01002382',\n",
       "  'E01002383',\n",
       "  'E01002384',\n",
       "  'E01002385',\n",
       "  'E01002386',\n",
       "  'E01002387',\n",
       "  'E01002388',\n",
       "  'E01002389',\n",
       "  'E01002390',\n",
       "  'E01002391',\n",
       "  'E01002392',\n",
       "  'E01002393',\n",
       "  'E01002394',\n",
       "  'E01002395',\n",
       "  'E01002396',\n",
       "  'E01002397',\n",
       "  'E01002398',\n",
       "  'E01002399',\n",
       "  'E01002400',\n",
       "  'E01002401',\n",
       "  'E01002265',\n",
       "  'E01002125',\n",
       "  'E01002166',\n",
       "  'E01002266',\n",
       "  'E01002126',\n",
       "  'E01002167',\n",
       "  'E01002267',\n",
       "  'E01002072',\n",
       "  'E01002127',\n",
       "  'E01002168',\n",
       "  'E01002268',\n",
       "  'E01002073',\n",
       "  'E01002128',\n",
       "  'E01002169',\n",
       "  'E01002269',\n",
       "  'E01002074',\n",
       "  'E01002129',\n",
       "  'E01002170',\n",
       "  'E01002270',\n",
       "  'E01002075',\n",
       "  'E01002130',\n",
       "  'E01002171',\n",
       "  'E01002271',\n",
       "  'E01002076',\n",
       "  'E01002131',\n",
       "  'E01002172',\n",
       "  'E01002272',\n",
       "  'E01002077',\n",
       "  'E01002132',\n",
       "  'E01002173',\n",
       "  'E01002273',\n",
       "  'E01002078',\n",
       "  'E01002133',\n",
       "  'E01002174',\n",
       "  'E01002274',\n",
       "  'E01002079',\n",
       "  'E01002134',\n",
       "  'E01002175',\n",
       "  'E01002275',\n",
       "  'E01002080',\n",
       "  'E01002135',\n",
       "  'E01002176',\n",
       "  'E01002276',\n",
       "  'E01002081',\n",
       "  'E01002136',\n",
       "  'E01002137',\n",
       "  'E01002138',\n",
       "  'E01002139',\n",
       "  'E01002140',\n",
       "  'E01002141',\n",
       "  'E01002142',\n",
       "  'E01002143',\n",
       "  'E01002144',\n",
       "  'E01002145',\n",
       "  'E01002146',\n",
       "  'E01002147',\n",
       "  'E01002148',\n",
       "  'E01002149',\n",
       "  'E01002177',\n",
       "  'E01002178',\n",
       "  'E01002179',\n",
       "  'E01002180',\n",
       "  'E01002181',\n",
       "  'E01002182',\n",
       "  'E01002183',\n",
       "  'E01002184',\n",
       "  'E01002185',\n",
       "  'E01002186',\n",
       "  'E01002187',\n",
       "  'E01002188',\n",
       "  'E01002189',\n",
       "  'E01002190',\n",
       "  'E01002191',\n",
       "  'E01002192',\n",
       "  'E01002082',\n",
       "  'E01002193',\n",
       "  'E01002277',\n",
       "  'E01002083',\n",
       "  'E01002194',\n",
       "  'E01002278',\n",
       "  'E01002084',\n",
       "  'E01002195',\n",
       "  'E01002279',\n",
       "  'E01002085',\n",
       "  'E01002196',\n",
       "  'E01002280',\n",
       "  'E01002086',\n",
       "  'E01002197',\n",
       "  'E01002281',\n",
       "  'E01002087',\n",
       "  'E01002198',\n",
       "  'E01002282',\n",
       "  'E01002088',\n",
       "  'E01002199',\n",
       "  'E01002283',\n",
       "  'E01002089',\n",
       "  'E01002284',\n",
       "  'E01002090',\n",
       "  'E01002285',\n",
       "  'E01002091',\n",
       "  'E01002286',\n",
       "  'E01002092',\n",
       "  'E01002287',\n",
       "  'E01002093',\n",
       "  'E01002288',\n",
       "  'E01002094',\n",
       "  'E01002289',\n",
       "  'E01002095',\n",
       "  'E01002290',\n",
       "  'E01002096',\n",
       "  'E01002291',\n",
       "  'E01002097',\n",
       "  'E01002292',\n",
       "  'E01002098',\n",
       "  'E01002293',\n",
       "  'E01002099',\n",
       "  'E01002294',\n",
       "  'E01002295',\n",
       "  'E01002296',\n",
       "  'E01002297',\n",
       "  'E01002298',\n",
       "  'E01002299',\n",
       "  'E01002300',\n",
       "  'E01002452',\n",
       "  'E01002659',\n",
       "  'E01002453',\n",
       "  'E01002454',\n",
       "  'E01002455',\n",
       "  'E01002660',\n",
       "  'E01002456',\n",
       "  'E01002557',\n",
       "  'E01002712',\n",
       "  'E01002661',\n",
       "  'E01002457',\n",
       "  'E01002558',\n",
       "  'E01002713',\n",
       "  'E01002662',\n",
       "  'E01002458',\n",
       "  'E01002559',\n",
       "  'E01002714',\n",
       "  'E01002663',\n",
       "  'E01002459',\n",
       "  'E01002560',\n",
       "  'E01002715',\n",
       "  'E01002664',\n",
       "  'E01002460',\n",
       "  'E01002561',\n",
       "  'E01002716',\n",
       "  'E01002665',\n",
       "  'E01002461',\n",
       "  'E01002562',\n",
       "  'E01002717',\n",
       "  'E01002666',\n",
       "  'E01002462',\n",
       "  'E01002815',\n",
       "  'E01002563',\n",
       "  'E01002608',\n",
       "  'E01002718',\n",
       "  'E01002667',\n",
       "  'E01002463',\n",
       "  'E01002816',\n",
       "  'E01002564',\n",
       "  'E01002609',\n",
       "  'E01002719',\n",
       "  'E01002668',\n",
       "  'E01002464',\n",
       "  'E01002817',\n",
       "  'E01002565',\n",
       "  'E01002610',\n",
       "  'E01002720',\n",
       "  'E01002669',\n",
       "  'E01002465',\n",
       "  'E01002818',\n",
       "  'E01002566',\n",
       "  'E01002611',\n",
       "  'E01002721',\n",
       "  'E01002670',\n",
       "  'E01002466',\n",
       "  'E01002819',\n",
       "  'E01002567',\n",
       "  'E01002612',\n",
       "  'E01002722',\n",
       "  'E01002671',\n",
       "  'E01002467',\n",
       "  'E01002820',\n",
       "  'E01002568',\n",
       "  'E01002503',\n",
       "  'E01002613',\n",
       "  'E01002723',\n",
       "  'E01002672',\n",
       "  'E01002468',\n",
       "  'E01002765',\n",
       "  'E01002821',\n",
       "  'E01002822',\n",
       "  'E01002823',\n",
       "  'E01002824',\n",
       "  'E01002825',\n",
       "  'E01002826',\n",
       "  'E01002827',\n",
       "  'E01002828',\n",
       "  'E01002829',\n",
       "  'E01002830',\n",
       "  'E01002831',\n",
       "  'E01002832',\n",
       "  'E01002833',\n",
       "  'E01002834',\n",
       "  'E01002835',\n",
       "  'E01002836',\n",
       "  'E01002837',\n",
       "  'E01002838',\n",
       "  'E01002839',\n",
       "  'E01002840',\n",
       "  'E01002841',\n",
       "  'E01002842',\n",
       "  'E01002843',\n",
       "  'E01002844',\n",
       "  'E01002845',\n",
       "  'E01002846',\n",
       "  'E01002847',\n",
       "  'E01002848',\n",
       "  'E01002849',\n",
       "  'E01002850',\n",
       "  'E01002851',\n",
       "  'E01002852',\n",
       "  'E01002853',\n",
       "  'E01002854',\n",
       "  'E01002855',\n",
       "  'E01002856',\n",
       "  'E01002857',\n",
       "  'E01002858',\n",
       "  'E01002859',\n",
       "  'E01002860',\n",
       "  'E01002861',\n",
       "  'E01002862',\n",
       "  'E01002863',\n",
       "  'E01002864',\n",
       "  'E01002569',\n",
       "  'E01002673',\n",
       "  'E01002614',\n",
       "  'E01002570',\n",
       "  'E01002504',\n",
       "  'E01002766',\n",
       "  'E01002724',\n",
       "  'E01002674',\n",
       "  'E01002615',\n",
       "  'E01002571',\n",
       "  'E01002505',\n",
       "  'E01002767',\n",
       "  'E01002725',\n",
       "  'E01002675',\n",
       "  'E01002616',\n",
       "  'E01002572',\n",
       "  'E01002506',\n",
       "  'E01002507',\n",
       "  'E01002508',\n",
       "  'E01002509',\n",
       "  'E01002511',\n",
       "  'E01002512',\n",
       "  'E01002513',\n",
       "  'E01002514',\n",
       "  'E01002515',\n",
       "  'E01002516',\n",
       "  'E01002518',\n",
       "  'E01002519',\n",
       "  'E01002520',\n",
       "  'E01002521',\n",
       "  'E01002523',\n",
       "  'E01002525',\n",
       "  'E01002526',\n",
       "  'E01002527',\n",
       "  'E01002528',\n",
       "  'E01002529',\n",
       "  'E01002530',\n",
       "  'E01002531',\n",
       "  'E01002532',\n",
       "  'E01002533',\n",
       "  'E01002534',\n",
       "  'E01002535',\n",
       "  'E01002536',\n",
       "  'E01002537',\n",
       "  'E01002538',\n",
       "  'E01002539',\n",
       "  'E01002540',\n",
       "  'E01002541',\n",
       "  'E01002542',\n",
       "  'E01002543',\n",
       "  'E01002544',\n",
       "  'E01002545',\n",
       "  'E01002546',\n",
       "  'E01002547',\n",
       "  'E01002548',\n",
       "  'E01002549',\n",
       "  'E01002550',\n",
       "  'E01002551',\n",
       "  'E01002552',\n",
       "  'E01002553',\n",
       "  'E01002554',\n",
       "  'E01002555',\n",
       "  'E01002556',\n",
       "  'E01002469',\n",
       "  'E01002573',\n",
       "  'E01002574',\n",
       "  'E01002575',\n",
       "  'E01002576',\n",
       "  'E01002577',\n",
       "  'E01002578',\n",
       "  'E01002579',\n",
       "  'E01002580',\n",
       "  'E01002581',\n",
       "  'E01002582',\n",
       "  'E01002583',\n",
       "  'E01002584',\n",
       "  'E01002585',\n",
       "  'E01002586',\n",
       "  'E01002587',\n",
       "  'E01002588',\n",
       "  'E01002589',\n",
       "  'E01002590',\n",
       "  'E01002591',\n",
       "  'E01002592',\n",
       "  'E01002593',\n",
       "  'E01002594',\n",
       "  'E01002595',\n",
       "  'E01002596',\n",
       "  'E01002598',\n",
       "  'E01002599',\n",
       "  'E01002600',\n",
       "  'E01002601',\n",
       "  'E01002602',\n",
       "  'E01002603',\n",
       "  'E01002604',\n",
       "  'E01002605',\n",
       "  'E01002606',\n",
       "  'E01002607',\n",
       "  'E01002617',\n",
       "  'E01002768',\n",
       "  'E01002676',\n",
       "  'E01002726',\n",
       "  'E01002470',\n",
       "  'E01002727',\n",
       "  'E01002618',\n",
       "  'E01002728',\n",
       "  'E01002471',\n",
       "  'E01002619',\n",
       "  'E01002729',\n",
       "  'E01002472',\n",
       "  'E01002677',\n",
       "  'E01002620',\n",
       "  'E01002730',\n",
       "  'E01002473',\n",
       "  'E01002678',\n",
       "  'E01002769',\n",
       "  'E01002621',\n",
       "  'E01002731',\n",
       "  'E01002474',\n",
       "  'E01002679',\n",
       "  'E01002770',\n",
       "  'E01002622',\n",
       "  'E01002475',\n",
       "  'E01002732',\n",
       "  'E01002680',\n",
       "  'E01002771',\n",
       "  'E01002623',\n",
       "  'E01002476',\n",
       "  'E01002733',\n",
       "  'E01002681',\n",
       "  'E01002772',\n",
       "  'E01002624',\n",
       "  'E01002477',\n",
       "  'E01002734',\n",
       "  'E01002682',\n",
       "  'E01002773',\n",
       "  'E01002625',\n",
       "  'E01002478',\n",
       "  'E01002735',\n",
       "  'E01002683',\n",
       "  'E01002774',\n",
       "  'E01002626',\n",
       "  'E01002479',\n",
       "  'E01002736',\n",
       "  'E01002684',\n",
       "  'E01002775',\n",
       "  'E01002627',\n",
       "  'E01002480',\n",
       "  'E01002737',\n",
       "  'E01002686',\n",
       "  'E01002776',\n",
       "  'E01002628',\n",
       "  'E01002481',\n",
       "  'E01002738',\n",
       "  'E01002687',\n",
       "  'E01002777',\n",
       "  'E01002629',\n",
       "  'E01002482',\n",
       "  'E01002739',\n",
       "  'E01002689',\n",
       "  'E01002778',\n",
       "  'E01002630',\n",
       "  'E01002483',\n",
       "  'E01002740',\n",
       "  'E01002741',\n",
       "  'E01002742',\n",
       "  'E01002743',\n",
       "  'E01002744',\n",
       "  'E01002745',\n",
       "  'E01002747',\n",
       "  'E01002748',\n",
       "  'E01002749',\n",
       "  'E01002751',\n",
       "  'E01002752',\n",
       "  'E01002753',\n",
       "  'E01002754',\n",
       "  'E01002755',\n",
       "  'E01002756',\n",
       "  'E01002757',\n",
       "  'E01002758',\n",
       "  'E01002759',\n",
       "  'E01002760',\n",
       "  'E01002762',\n",
       "  'E01002763',\n",
       "  'E01002764',\n",
       "  'E01002690',\n",
       "  'E01002779',\n",
       "  'E01002484',\n",
       "  'E01002691',\n",
       "  'E01002631',\n",
       "  'E01002780',\n",
       "  'E01002485',\n",
       "  'E01002692',\n",
       "  'E01002632',\n",
       "  'E01002781',\n",
       "  'E01002486',\n",
       "  'E01002693',\n",
       "  'E01002633',\n",
       "  'E01002782',\n",
       "  'E01002487',\n",
       "  'E01002694',\n",
       "  'E01002634',\n",
       "  'E01002783',\n",
       "  'E01002488',\n",
       "  'E01002695',\n",
       "  'E01002635',\n",
       "  'E01002784',\n",
       "  'E01002489',\n",
       "  'E01002696',\n",
       "  'E01002636',\n",
       "  'E01002785',\n",
       "  'E01002490',\n",
       "  'E01002697',\n",
       "  'E01002637',\n",
       "  'E01002786',\n",
       "  'E01002491',\n",
       "  'E01002698',\n",
       "  'E01002638',\n",
       "  'E01002787',\n",
       "  'E01002492',\n",
       "  'E01002699',\n",
       "  'E01002639',\n",
       "  'E01002788',\n",
       "  'E01002493',\n",
       "  'E01002700',\n",
       "  'E01002640',\n",
       "  'E01002789',\n",
       "  'E01002494',\n",
       "  'E01002701',\n",
       "  'E01002641',\n",
       "  'E01002790',\n",
       "  'E01002495',\n",
       "  'E01002702',\n",
       "  'E01002642',\n",
       "  'E01002643',\n",
       "  'E01002645',\n",
       "  'E01002646',\n",
       "  'E01002647',\n",
       "  'E01002648',\n",
       "  'E01002649',\n",
       "  'E01002650',\n",
       "  'E01002651',\n",
       "  'E01002652',\n",
       "  'E01002653',\n",
       "  'E01002654',\n",
       "  'E01002655',\n",
       "  'E01002656',\n",
       "  'E01002657',\n",
       "  'E01002658',\n",
       "  'E01002703',\n",
       "  'E01002704',\n",
       "  'E01002791',\n",
       "  'E01002706',\n",
       "  'E01002792',\n",
       "  'E01002707',\n",
       "  'E01002793',\n",
       "  'E01002496',\n",
       "  'E01002708',\n",
       "  'E01002794',\n",
       "  'E01002497',\n",
       "  'E01002709',\n",
       "  'E01002795',\n",
       "  'E01002498',\n",
       "  'E01002710',\n",
       "  'E01002796',\n",
       "  'E01002499',\n",
       "  'E01002711',\n",
       "  'E01002797',\n",
       "  'E01002501',\n",
       "  'E01002798',\n",
       "  'E01002502',\n",
       "  'E01002799',\n",
       "  'E01002800',\n",
       "  'E01002801',\n",
       "  'E01002802',\n",
       "  'E01002803',\n",
       "  'E01002804',\n",
       "  'E01002805',\n",
       "  'E01002806',\n",
       "  'E01002807',\n",
       "  'E01002808',\n",
       "  'E01002809',\n",
       "  'E01002810',\n",
       "  'E01002811',\n",
       "  'E01002812',\n",
       "  'E01002813',\n",
       "  'E01002814',\n",
       "  'E01002966',\n",
       "  'E01002967',\n",
       "  'E01002968',\n",
       "  'E01002969',\n",
       "  'E01002970',\n",
       "  'E01002971',\n",
       "  'E01002972',\n",
       "  'E01002973',\n",
       "  'E01002974',\n",
       "  'E01002975',\n",
       "  'E01002976',\n",
       "  'E01002865',\n",
       "  'E01002977',\n",
       "  'E01002978',\n",
       "  'E01002979',\n",
       "  'E01002980',\n",
       "  'E01002981',\n",
       "  'E01002982',\n",
       "  'E01002983',\n",
       "  'E01002984',\n",
       "  'E01002985',\n",
       "  'E01002986',\n",
       "  'E01002987',\n",
       "  'E01002988',\n",
       "  'E01002989',\n",
       "  'E01002990',\n",
       "  'E01002991',\n",
       "  'E01002992',\n",
       "  'E01002993',\n",
       "  'E01002994',\n",
       "  'E01002995',\n",
       "  'E01002996',\n",
       "  'E01002997',\n",
       "  'E01002998',\n",
       "  'E01002999',\n",
       "  'E01003000',\n",
       "  'E01003001',\n",
       "  'E01003002',\n",
       "  'E01003003',\n",
       "  'E01003004',\n",
       "  'E01003005',\n",
       "  'E01003006',\n",
       "  'E01003007',\n",
       "  'E01003008',\n",
       "  'E01003009',\n",
       "  'E01003010',\n",
       "  'E01003011',\n",
       "  'E01003013',\n",
       "  'E01003014',\n",
       "  'E01003015',\n",
       "  'E01003016',\n",
       "  'E01002915',\n",
       "  'E01003219',\n",
       "  'E01003017',\n",
       "  'E01003168',\n",
       "  'E01003118',\n",
       "  'E01003067',\n",
       "  'E01002916',\n",
       "  'E01002917',\n",
       "  'E01002918',\n",
       "  'E01002919',\n",
       "  'E01002920',\n",
       "  'E01002921',\n",
       "  'E01002922',\n",
       "  'E01002923',\n",
       "  'E01002924',\n",
       "  'E01002925',\n",
       "  'E01002926',\n",
       "  'E01002927',\n",
       "  'E01002928',\n",
       "  'E01002929',\n",
       "  'E01002930',\n",
       "  'E01002931',\n",
       "  'E01002932',\n",
       "  'E01002933',\n",
       "  'E01002934',\n",
       "  'E01002935',\n",
       "  'E01002937',\n",
       "  'E01002938',\n",
       "  'E01002939',\n",
       "  'E01002940',\n",
       "  'E01002941',\n",
       "  'E01002942',\n",
       "  'E01002943',\n",
       "  'E01002944',\n",
       "  'E01002945',\n",
       "  'E01002946',\n",
       "  'E01002947',\n",
       "  'E01002948',\n",
       "  'E01002949',\n",
       "  'E01002950',\n",
       "  'E01002951',\n",
       "  'E01002952',\n",
       "  'E01002953',\n",
       "  'E01002954',\n",
       "  'E01002955',\n",
       "  'E01002956',\n",
       "  'E01002957',\n",
       "  'E01002958',\n",
       "  'E01002959',\n",
       "  'E01002960',\n",
       "  'E01002961',\n",
       "  'E01002962',\n",
       "  'E01002963',\n",
       "  'E01002964',\n",
       "  'E01002965',\n",
       "  'E01003018',\n",
       "  'E01003169',\n",
       "  'E01003068',\n",
       "  'E01003220',\n",
       "  'E01003119',\n",
       "  'E01003019',\n",
       "  'E01003170',\n",
       "  'E01003221',\n",
       "  'E01003069',\n",
       "  'E01003020',\n",
       "  'E01003120',\n",
       "  'E01003171',\n",
       "  'E01003222',\n",
       "  'E01003070',\n",
       "  'E01003021',\n",
       "  'E01003121',\n",
       "  'E01003172',\n",
       "  'E01003223',\n",
       "  'E01003071',\n",
       "  'E01003022',\n",
       "  'E01003122',\n",
       "  'E01003173',\n",
       "  'E01003224',\n",
       "  'E01003072',\n",
       "  'E01003023',\n",
       "  'E01003123',\n",
       "  'E01003174',\n",
       "  'E01003225',\n",
       "  'E01003073',\n",
       "  'E01003024',\n",
       "  'E01003124',\n",
       "  'E01003175',\n",
       "  'E01003226',\n",
       "  'E01003074',\n",
       "  'E01003025',\n",
       "  'E01003125',\n",
       "  'E01003176',\n",
       "  'E01003227',\n",
       "  'E01003075',\n",
       "  'E01003026',\n",
       "  'E01003126',\n",
       "  'E01003177',\n",
       "  'E01003178',\n",
       "  'E01003179',\n",
       "  'E01003180',\n",
       "  'E01003181',\n",
       "  'E01003182',\n",
       "  'E01003183',\n",
       "  'E01003184',\n",
       "  'E01003185',\n",
       "  'E01003186',\n",
       "  'E01003187',\n",
       "  'E01003188',\n",
       "  'E01003189',\n",
       "  'E01003190',\n",
       "  'E01003191',\n",
       "  'E01003192',\n",
       "  'E01003193',\n",
       "  'E01003194',\n",
       "  'E01003195',\n",
       "  'E01003196',\n",
       "  'E01003197',\n",
       "  'E01003198',\n",
       "  'E01003199',\n",
       "  'E01003200',\n",
       "  'E01003201',\n",
       "  'E01003202',\n",
       "  'E01003203',\n",
       "  'E01003204',\n",
       "  'E01003205',\n",
       "  'E01003206',\n",
       "  'E01003207',\n",
       "  'E01003209',\n",
       "  'E01003210',\n",
       "  'E01003211',\n",
       "  'E01003212',\n",
       "  'E01003213',\n",
       "  'E01003214',\n",
       "  'E01003215',\n",
       "  'E01003216',\n",
       "  'E01003217',\n",
       "  'E01003218',\n",
       "  'E01003228',\n",
       "  'E01003127',\n",
       "  'E01003027',\n",
       "  'E01003229',\n",
       "  'E01003128',\n",
       "  'E01003028',\n",
       "  'E01003230',\n",
       "  'E01003129',\n",
       "  'E01003029',\n",
       "  'E01003231',\n",
       "  'E01003130',\n",
       "  'E01003030',\n",
       "  'E01000001',\n",
       "  'E01000205',\n",
       "  'E01000002',\n",
       "  'E01000003',\n",
       "  'E01000206',\n",
       "  'E01000207',\n",
       "  ...],\n",
       " 'Luton': ['E01017582',\n",
       "  'E01017583',\n",
       "  'E01017584',\n",
       "  'E01017585',\n",
       "  'E01017616',\n",
       "  'E01015768',\n",
       "  'E01015718',\n",
       "  'E01015769',\n",
       "  'E01015719',\n",
       "  'E01015770',\n",
       "  'E01015693',\n",
       "  'E01015694',\n",
       "  'E01015695',\n",
       "  'E01015696',\n",
       "  'E01015697',\n",
       "  'E01015698',\n",
       "  'E01015699',\n",
       "  'E01015700',\n",
       "  'E01015701',\n",
       "  'E01015702',\n",
       "  'E01015703',\n",
       "  'E01015704',\n",
       "  'E01015705',\n",
       "  'E01015706',\n",
       "  'E01015707',\n",
       "  'E01015708',\n",
       "  'E01015709',\n",
       "  'E01015710',\n",
       "  'E01015711',\n",
       "  'E01015712',\n",
       "  'E01015713',\n",
       "  'E01015714',\n",
       "  'E01015715',\n",
       "  'E01015716',\n",
       "  'E01015717',\n",
       "  'E01015720',\n",
       "  'E01015771',\n",
       "  'E01015721',\n",
       "  'E01015772',\n",
       "  'E01015722',\n",
       "  'E01015773',\n",
       "  'E01015723',\n",
       "  'E01015774',\n",
       "  'E01015775',\n",
       "  'E01015724',\n",
       "  'E01015776',\n",
       "  'E01015725',\n",
       "  'E01015777',\n",
       "  'E01015726',\n",
       "  'E01015778',\n",
       "  'E01015727',\n",
       "  'E01015779',\n",
       "  'E01015728',\n",
       "  'E01015780',\n",
       "  'E01015729',\n",
       "  'E01015781',\n",
       "  'E01015730',\n",
       "  'E01015782',\n",
       "  'E01015731',\n",
       "  'E01015783',\n",
       "  'E01015732',\n",
       "  'E01015784',\n",
       "  'E01015733',\n",
       "  'E01015785',\n",
       "  'E01015734',\n",
       "  'E01015735',\n",
       "  'E01015736',\n",
       "  'E01015786',\n",
       "  'E01015787',\n",
       "  'E01015737',\n",
       "  'E01015788',\n",
       "  'E01015738',\n",
       "  'E01015789',\n",
       "  'E01015739',\n",
       "  'E01015790',\n",
       "  'E01015740',\n",
       "  'E01015791',\n",
       "  'E01015741',\n",
       "  'E01015792',\n",
       "  'E01015742',\n",
       "  'E01015793',\n",
       "  'E01015743',\n",
       "  'E01015794',\n",
       "  'E01015744',\n",
       "  'E01015795',\n",
       "  'E01015745',\n",
       "  'E01015746',\n",
       "  'E01015747',\n",
       "  'E01015748',\n",
       "  'E01015749',\n",
       "  'E01015750',\n",
       "  'E01015751',\n",
       "  'E01015752',\n",
       "  'E01015753',\n",
       "  'E01015754',\n",
       "  'E01015755',\n",
       "  'E01015756',\n",
       "  'E01015757',\n",
       "  'E01015758',\n",
       "  'E01015759',\n",
       "  'E01015760',\n",
       "  'E01015761',\n",
       "  'E01015762',\n",
       "  'E01015763',\n",
       "  'E01015764',\n",
       "  'E01015765',\n",
       "  'E01015766',\n",
       "  'E01015767',\n",
       "  'E01015796',\n",
       "  'E01015797',\n",
       "  'E01015798',\n",
       "  'E01015799',\n",
       "  'E01015800',\n",
       "  'E01015801',\n",
       "  'E01015802',\n",
       "  'E01015803',\n",
       "  'E01015804',\n",
       "  'E01015805',\n",
       "  'E01015806',\n",
       "  'E01015807',\n",
       "  'E01015808',\n",
       "  'E01015809',\n",
       "  'E01015810',\n",
       "  'E01015811',\n",
       "  'E01015812',\n",
       "  'E01015813'],\n",
       " 'Maidstone': ['E01024399',\n",
       "  'E01024400',\n",
       "  'E01024401',\n",
       "  'E01024348',\n",
       "  'E01024402',\n",
       "  'E01024349',\n",
       "  'E01024403',\n",
       "  'E01024350',\n",
       "  'E01024404',\n",
       "  'E01024351',\n",
       "  'E01024405',\n",
       "  'E01024352',\n",
       "  'E01024353',\n",
       "  'E01024354',\n",
       "  'E01024355',\n",
       "  'E01024356',\n",
       "  'E01024357',\n",
       "  'E01024358',\n",
       "  'E01024360',\n",
       "  'E01024367',\n",
       "  'E01024369',\n",
       "  'E01024371',\n",
       "  'E01024372',\n",
       "  'E01024373',\n",
       "  'E01024374',\n",
       "  'E01024376',\n",
       "  'E01024382',\n",
       "  'E01024383',\n",
       "  'E01024384',\n",
       "  'E01024385',\n",
       "  'E01024386',\n",
       "  'E01024388',\n",
       "  'E01024389',\n",
       "  'E01024390',\n",
       "  'E01024391',\n",
       "  'E01024392',\n",
       "  'E01024393',\n",
       "  'E01024394',\n",
       "  'E01024395',\n",
       "  'E01024396',\n",
       "  'E01024397',\n",
       "  'E01024398',\n",
       "  'E01024320',\n",
       "  'E01024321',\n",
       "  'E01024322',\n",
       "  'E01024323',\n",
       "  'E01024324',\n",
       "  'E01024325',\n",
       "  'E01024326',\n",
       "  'E01024327',\n",
       "  'E01024328',\n",
       "  'E01024329',\n",
       "  'E01024330',\n",
       "  'E01024331',\n",
       "  'E01024336',\n",
       "  'E01024337',\n",
       "  'E01024339',\n",
       "  'E01024340',\n",
       "  'E01024341',\n",
       "  'E01033087',\n",
       "  'E01033088',\n",
       "  'E01033089',\n",
       "  'E01033090',\n",
       "  'E01033091',\n",
       "  'E01033092'],\n",
       " 'Manchester': ['E01004970',\n",
       "  'E01004972',\n",
       "  'E01004973',\n",
       "  'E01004974',\n",
       "  'E01004975',\n",
       "  'E01005094',\n",
       "  'E01005202',\n",
       "  'E01005097',\n",
       "  'E01005270',\n",
       "  'E01005203',\n",
       "  'E01005036',\n",
       "  'E01005098',\n",
       "  'E01005271',\n",
       "  'E01005205',\n",
       "  'E01005037',\n",
       "  'E01005099',\n",
       "  'E01005272',\n",
       "  'E01005206',\n",
       "  'E01005038',\n",
       "  'E01005100',\n",
       "  'E01005273',\n",
       "  'E01005207',\n",
       "  'E01005039',\n",
       "  'E01005101',\n",
       "  'E01005274',\n",
       "  'E01005208',\n",
       "  'E01005040',\n",
       "  'E01005102',\n",
       "  'E01005275',\n",
       "  'E01005209',\n",
       "  'E01005041',\n",
       "  'E01005103',\n",
       "  'E01005276',\n",
       "  'E01005277',\n",
       "  'E01005278',\n",
       "  'E01005279',\n",
       "  'E01005280',\n",
       "  'E01005281',\n",
       "  'E01005282',\n",
       "  'E01005283',\n",
       "  'E01005284',\n",
       "  'E01005285',\n",
       "  'E01005286',\n",
       "  'E01005287',\n",
       "  'E01005288',\n",
       "  'E01005042',\n",
       "  'E01005043',\n",
       "  'E01005044',\n",
       "  'E01005210',\n",
       "  'E01005045',\n",
       "  'E01005212',\n",
       "  'E01005213',\n",
       "  'E01005104',\n",
       "  'E01005214',\n",
       "  'E01005105',\n",
       "  'E01005215',\n",
       "  'E01005106',\n",
       "  'E01005216',\n",
       "  'E01005107',\n",
       "  'E01005217',\n",
       "  'E01005108',\n",
       "  'E01005218',\n",
       "  'E01005219',\n",
       "  'E01005220',\n",
       "  'E01005221',\n",
       "  'E01005222',\n",
       "  'E01005223',\n",
       "  'E01005224',\n",
       "  'E01005061',\n",
       "  'E01005062',\n",
       "  'E01005063',\n",
       "  'E01005065',\n",
       "  'E01005066',\n",
       "  'E01005067',\n",
       "  'E01005076',\n",
       "  'E01005225',\n",
       "  'E01005226',\n",
       "  'E01005227',\n",
       "  'E01005118',\n",
       "  'E01005228',\n",
       "  'E01005119',\n",
       "  'E01005229',\n",
       "  'E01005120',\n",
       "  'E01005230',\n",
       "  'E01005121',\n",
       "  'E01005231',\n",
       "  'E01005122',\n",
       "  'E01005232',\n",
       "  'E01005123',\n",
       "  'E01005233',\n",
       "  'E01005124',\n",
       "  'E01005234',\n",
       "  'E01005125',\n",
       "  'E01005235',\n",
       "  'E01005126',\n",
       "  'E01005236',\n",
       "  'E01005128',\n",
       "  'E01005237',\n",
       "  'E01005129',\n",
       "  'E01005238',\n",
       "  'E01005130',\n",
       "  'E01005239',\n",
       "  'E01005132',\n",
       "  'E01005133',\n",
       "  'E01005914',\n",
       "  'E01005961',\n",
       "  'E01006111',\n",
       "  'E01005915',\n",
       "  'E01005962',\n",
       "  'E01006112',\n",
       "  'E01005963',\n",
       "  'E01006113',\n",
       "  'E01005964',\n",
       "  'E01006114',\n",
       "  'E01005965',\n",
       "  'E01006115',\n",
       "  'E01005967',\n",
       "  'E01005921',\n",
       "  'E01005922',\n",
       "  'E01005968',\n",
       "  'E01005969',\n",
       "  'E01005886',\n",
       "  'E01005887',\n",
       "  'E01005888',\n",
       "  'E01005889',\n",
       "  'E01005890',\n",
       "  'E01005891',\n",
       "  'E01005892',\n",
       "  'E01005893',\n",
       "  'E01005894',\n",
       "  'E01005895',\n",
       "  'E01005896',\n",
       "  'E01006109',\n",
       "  'E01006110',\n",
       "  'E01006145',\n",
       "  'E01006146',\n",
       "  'E01005296',\n",
       "  'E01005297',\n",
       "  'E01005298',\n",
       "  'E01005299',\n",
       "  'E01005300',\n",
       "  'E01005301',\n",
       "  'E01005302',\n",
       "  'E01005304',\n",
       "  'E01005305',\n",
       "  'E01005306',\n",
       "  'E01005135',\n",
       "  'E01005307',\n",
       "  'E01005077',\n",
       "  'E01005308',\n",
       "  'E01005309',\n",
       "  'E01005310',\n",
       "  'E01005311',\n",
       "  'E01005078',\n",
       "  'E01005188',\n",
       "  'E01005240',\n",
       "  'E01005136',\n",
       "  'E01005312',\n",
       "  'E01005079',\n",
       "  'E01005189',\n",
       "  'E01005138',\n",
       "  'E01005241',\n",
       "  'E01005081',\n",
       "  'E01005190',\n",
       "  'E01005139',\n",
       "  'E01005242',\n",
       "  'E01005082',\n",
       "  'E01005191',\n",
       "  'E01005140',\n",
       "  'E01005243',\n",
       "  'E01005083',\n",
       "  'E01005192',\n",
       "  'E01005141',\n",
       "  'E01005244',\n",
       "  'E01005084',\n",
       "  'E01005031',\n",
       "  'E01005142',\n",
       "  'E01005143',\n",
       "  'E01005145',\n",
       "  'E01005146',\n",
       "  'E01005147',\n",
       "  'E01005149',\n",
       "  'E01005150',\n",
       "  'E01005151',\n",
       "  'E01005152',\n",
       "  'E01005153',\n",
       "  'E01005154',\n",
       "  'E01005155',\n",
       "  'E01005156',\n",
       "  'E01005157',\n",
       "  'E01005158',\n",
       "  'E01005159',\n",
       "  'E01005160',\n",
       "  'E01005161',\n",
       "  'E01005162',\n",
       "  'E01005163',\n",
       "  'E01005164',\n",
       "  'E01005165',\n",
       "  'E01005166',\n",
       "  'E01005167',\n",
       "  'E01005168',\n",
       "  'E01005169',\n",
       "  'E01005170',\n",
       "  'E01005171',\n",
       "  'E01005172',\n",
       "  'E01005173',\n",
       "  'E01005174',\n",
       "  'E01005175',\n",
       "  'E01005176',\n",
       "  'E01005177',\n",
       "  'E01005178',\n",
       "  'E01005179',\n",
       "  'E01005180',\n",
       "  'E01005181',\n",
       "  'E01005182',\n",
       "  'E01005183',\n",
       "  'E01005184',\n",
       "  'E01005185',\n",
       "  'E01005186',\n",
       "  'E01005187',\n",
       "  'E01005245',\n",
       "  'E01005246',\n",
       "  'E01005247',\n",
       "  'E01005248',\n",
       "  'E01005249',\n",
       "  'E01005250',\n",
       "  'E01005251',\n",
       "  'E01005252',\n",
       "  'E01005253',\n",
       "  'E01005254',\n",
       "  'E01005255',\n",
       "  'E01005256',\n",
       "  'E01005257',\n",
       "  'E01005258',\n",
       "  'E01005259',\n",
       "  'E01005260',\n",
       "  'E01005261',\n",
       "  'E01005194',\n",
       "  'E01005195',\n",
       "  'E01005196',\n",
       "  'E01005197',\n",
       "  'E01005032',\n",
       "  'E01005198',\n",
       "  'E01005033',\n",
       "  'E01005199',\n",
       "  'E01005034',\n",
       "  'E01005092',\n",
       "  'E01005200',\n",
       "  'E01005035',\n",
       "  'E01005093',\n",
       "  'E01005201',\n",
       "  'E01006185',\n",
       "  'E01006186',\n",
       "  'E01006188',\n",
       "  'E01033675',\n",
       "  'E01033676',\n",
       "  'E01033677',\n",
       "  'E01033678',\n",
       "  'E01033679',\n",
       "  'E01033680',\n",
       "  'E01033681',\n",
       "  'E01033682',\n",
       "  'E01033683',\n",
       "  'E01033684',\n",
       "  'E01033685',\n",
       "  'E01033686',\n",
       "  'E01033687',\n",
       "  'E01033688',\n",
       "  'E01033651',\n",
       "  'E01033652',\n",
       "  'E01033653',\n",
       "  'E01033654',\n",
       "  'E01033655',\n",
       "  'E01033656',\n",
       "  'E01033657',\n",
       "  'E01033658',\n",
       "  'E01033659',\n",
       "  'E01033660',\n",
       "  'E01033661',\n",
       "  'E01033662',\n",
       "  'E01033663',\n",
       "  'E01033664',\n",
       "  'E01033665',\n",
       "  'E01033666',\n",
       "  'E01033667',\n",
       "  'E01033668',\n",
       "  'E01033669',\n",
       "  'E01033670',\n",
       "  'E01033671',\n",
       "  'E01033672',\n",
       "  'E01033673',\n",
       "  'E01033674'],\n",
       " 'Mansfield': ['E01033389',\n",
       "  'E01033390',\n",
       "  'E01033391',\n",
       "  'E01033392',\n",
       "  'E01028220',\n",
       "  'E01028274',\n",
       "  'E01028275',\n",
       "  'E01028276',\n",
       "  'E01028222',\n",
       "  'E01028227',\n",
       "  'E01028282',\n",
       "  'E01028228',\n",
       "  'E01028283',\n",
       "  'E01028229',\n",
       "  'E01028284',\n",
       "  'E01028230',\n",
       "  'E01028231',\n",
       "  'E01028232',\n",
       "  'E01028233',\n",
       "  'E01028234',\n",
       "  'E01028235',\n",
       "  'E01028236',\n",
       "  'E01028237',\n",
       "  'E01028238',\n",
       "  'E01028239',\n",
       "  'E01028240',\n",
       "  'E01028241',\n",
       "  'E01028242',\n",
       "  'E01028243',\n",
       "  'E01028244',\n",
       "  'E01028245',\n",
       "  'E01028246',\n",
       "  'E01028247',\n",
       "  'E01028248',\n",
       "  'E01028249',\n",
       "  'E01028255',\n",
       "  'E01028256',\n",
       "  'E01028261',\n",
       "  'E01028262',\n",
       "  'E01028263',\n",
       "  'E01028264',\n",
       "  'E01028267',\n",
       "  'E01028268',\n",
       "  'E01028269',\n",
       "  'E01028270',\n",
       "  'E01028219',\n",
       "  'E01028313',\n",
       "  'E01028314'],\n",
       " 'Middlesbrough': ['E01012008',\n",
       "  'E01012009',\n",
       "  'E01012010',\n",
       "  'E01012060',\n",
       "  'E01012061',\n",
       "  'E01012062',\n",
       "  'E01012063',\n",
       "  'E01012064',\n",
       "  'E01012065',\n",
       "  'E01012066',\n",
       "  'E01012067',\n",
       "  'E01012068',\n",
       "  'E01012071',\n",
       "  'E01012073',\n",
       "  'E01012074',\n",
       "  'E01012075',\n",
       "  'E01012076',\n",
       "  'E01012077',\n",
       "  'E01012078',\n",
       "  'E01012079',\n",
       "  'E01012080',\n",
       "  'E01012081',\n",
       "  'E01012082',\n",
       "  'E01012083',\n",
       "  'E01012084',\n",
       "  'E01012085',\n",
       "  'E01012088',\n",
       "  'E01012089',\n",
       "  'E01012090',\n",
       "  'E01012091',\n",
       "  'E01012092',\n",
       "  'E01012093',\n",
       "  'E01012094',\n",
       "  'E01012108',\n",
       "  'E01012110',\n",
       "  'E01012111',\n",
       "  'E01012112',\n",
       "  'E01012113',\n",
       "  'E01012114',\n",
       "  'E01012011',\n",
       "  'E01012012',\n",
       "  'E01012013',\n",
       "  'E01012014',\n",
       "  'E01012015',\n",
       "  'E01012016',\n",
       "  'E01012017',\n",
       "  'E01012018',\n",
       "  'E01012019',\n",
       "  'E01012020',\n",
       "  'E01012021',\n",
       "  'E01012022',\n",
       "  'E01012023',\n",
       "  'E01012024',\n",
       "  'E01012025',\n",
       "  'E01012026',\n",
       "  'E01012027',\n",
       "  'E01012030',\n",
       "  'E01012031',\n",
       "  'E01012032',\n",
       "  'E01012033',\n",
       "  'E01012034',\n",
       "  'E01012145',\n",
       "  'E01012035',\n",
       "  'E01012146',\n",
       "  'E01012007',\n",
       "  'E01012036',\n",
       "  'E01012037',\n",
       "  'E01012147',\n",
       "  'E01012038',\n",
       "  'E01012148',\n",
       "  'E01012039',\n",
       "  'E01012149',\n",
       "  'E01012040',\n",
       "  'E01012150',\n",
       "  'E01012041',\n",
       "  'E01012151',\n",
       "  'E01012042',\n",
       "  'E01012152',\n",
       "  'E01012167',\n",
       "  'E01012168',\n",
       "  'E01012170',\n",
       "  'E01012171',\n",
       "  'E01012172',\n",
       "  'E01012173',\n",
       "  'E01012174',\n",
       "  'E01012175',\n",
       "  'E01012043',\n",
       "  'E01012044',\n",
       "  'E01012045',\n",
       "  'E01012046',\n",
       "  'E01012047',\n",
       "  'E01012048',\n",
       "  'E01012049',\n",
       "  'E01012050',\n",
       "  'E01012051',\n",
       "  'E01012052',\n",
       "  'E01012053',\n",
       "  'E01012054',\n",
       "  'E01012055',\n",
       "  'E01012056',\n",
       "  'E01012057',\n",
       "  'E01012058',\n",
       "  'E01012059',\n",
       "  'E01033468',\n",
       "  'E01033469',\n",
       "  'E01033470',\n",
       "  'E01033471',\n",
       "  'E01032593',\n",
       "  'E01032594',\n",
       "  'E01032552',\n",
       "  'E01032553'],\n",
       " 'Milton Keynes': ['E01016844',\n",
       "  'E01016845',\n",
       "  'E01016846',\n",
       "  'E01016847',\n",
       "  'E01016848',\n",
       "  'E01016804',\n",
       "  'E01016805',\n",
       "  'E01016806',\n",
       "  'E01016807',\n",
       "  'E01016808',\n",
       "  'E01016809',\n",
       "  'E01016810',\n",
       "  'E01016811',\n",
       "  'E01016812',\n",
       "  'E01016813',\n",
       "  'E01016814',\n",
       "  'E01016815',\n",
       "  'E01016816',\n",
       "  'E01016817',\n",
       "  'E01016818',\n",
       "  'E01016819',\n",
       "  'E01016820',\n",
       "  'E01016821',\n",
       "  'E01016822',\n",
       "  'E01016823',\n",
       "  'E01016824',\n",
       "  'E01016825',\n",
       "  'E01016826',\n",
       "  'E01016827',\n",
       "  'E01016828',\n",
       "  'E01016835',\n",
       "  'E01016836',\n",
       "  'E01016837',\n",
       "  'E01016838',\n",
       "  'E01016839',\n",
       "  'E01016840',\n",
       "  'E01016841',\n",
       "  'E01016842',\n",
       "  'E01016843',\n",
       "  'E01016748',\n",
       "  'E01016717',\n",
       "  'E01016718',\n",
       "  'E01016719',\n",
       "  'E01016720',\n",
       "  'E01016721',\n",
       "  'E01016722',\n",
       "  'E01016723',\n",
       "  'E01016724',\n",
       "  'E01016725',\n",
       "  'E01016726',\n",
       "  'E01016727',\n",
       "  'E01016728',\n",
       "  'E01016729',\n",
       "  'E01016731',\n",
       "  'E01016732',\n",
       "  'E01016733',\n",
       "  'E01016750',\n",
       "  'E01016751',\n",
       "  'E01016752',\n",
       "  'E01016753',\n",
       "  'E01016754',\n",
       "  'E01016755',\n",
       "  'E01016756',\n",
       "  'E01016757',\n",
       "  'E01016758',\n",
       "  'E01016762',\n",
       "  'E01016763',\n",
       "  'E01016764',\n",
       "  'E01016765',\n",
       "  'E01016766',\n",
       "  'E01016767',\n",
       "  'E01016768',\n",
       "  'E01016769',\n",
       "  'E01016770',\n",
       "  'E01016771',\n",
       "  'E01016772',\n",
       "  'E01016773',\n",
       "  'E01016774',\n",
       "  'E01016775',\n",
       "  'E01016776',\n",
       "  'E01016777',\n",
       "  'E01016778',\n",
       "  'E01016780',\n",
       "  'E01016781',\n",
       "  'E01016783',\n",
       "  'E01016784',\n",
       "  'E01033511',\n",
       "  'E01033512',\n",
       "  'E01033514',\n",
       "  'E01033515',\n",
       "  'E01033517',\n",
       "  'E01033519',\n",
       "  'E01033520',\n",
       "  'E01033522',\n",
       "  'E01033523',\n",
       "  'E01033525',\n",
       "  'E01033499',\n",
       "  'E01033500',\n",
       "  'E01033501',\n",
       "  'E01033503',\n",
       "  'E01033505',\n",
       "  'E01033506',\n",
       "  'E01033508',\n",
       "  'E01033509'],\n",
       " 'Newcastle upon Tyne': ['E01008419',\n",
       "  'E01008420',\n",
       "  'E01008365',\n",
       "  'E01008315',\n",
       "  'E01008421',\n",
       "  'E01008366',\n",
       "  'E01008316',\n",
       "  'E01008422',\n",
       "  'E01008367',\n",
       "  'E01008317',\n",
       "  'E01008423',\n",
       "  'E01008368',\n",
       "  'E01008318',\n",
       "  'E01008424',\n",
       "  'E01008369',\n",
       "  'E01008425',\n",
       "  'E01008319',\n",
       "  'E01008426',\n",
       "  'E01008370',\n",
       "  'E01008320',\n",
       "  'E01008427',\n",
       "  'E01008371',\n",
       "  'E01008321',\n",
       "  'E01008428',\n",
       "  'E01008372',\n",
       "  'E01008322',\n",
       "  'E01008429',\n",
       "  'E01008373',\n",
       "  'E01008323',\n",
       "  'E01008430',\n",
       "  'E01008374',\n",
       "  'E01008375',\n",
       "  'E01008431',\n",
       "  'E01008324',\n",
       "  'E01008432',\n",
       "  'E01008325',\n",
       "  'E01008376',\n",
       "  'E01008433',\n",
       "  'E01008326',\n",
       "  'E01008377',\n",
       "  'E01008434',\n",
       "  'E01008327',\n",
       "  'E01008378',\n",
       "  'E01008435',\n",
       "  'E01008328',\n",
       "  'E01008379',\n",
       "  'E01008436',\n",
       "  'E01008329',\n",
       "  'E01008380',\n",
       "  'E01008437',\n",
       "  'E01008330',\n",
       "  'E01008381',\n",
       "  'E01008438',\n",
       "  'E01008331',\n",
       "  'E01008382',\n",
       "  'E01008439',\n",
       "  'E01008332',\n",
       "  'E01008383',\n",
       "  'E01008288',\n",
       "  'E01008289',\n",
       "  'E01008290',\n",
       "  'E01008291',\n",
       "  'E01008292',\n",
       "  'E01008293',\n",
       "  'E01008294',\n",
       "  'E01008295',\n",
       "  'E01008296',\n",
       "  'E01008297',\n",
       "  'E01008298',\n",
       "  'E01008299',\n",
       "  'E01008300',\n",
       "  'E01008301',\n",
       "  'E01008302',\n",
       "  'E01008303',\n",
       "  'E01008304',\n",
       "  'E01008305',\n",
       "  'E01008309',\n",
       "  'E01008311',\n",
       "  'E01008312',\n",
       "  'E01008313',\n",
       "  'E01008314',\n",
       "  'E01008333',\n",
       "  'E01008384',\n",
       "  'E01008334',\n",
       "  'E01008385',\n",
       "  'E01008335',\n",
       "  'E01008386',\n",
       "  'E01008441',\n",
       "  'E01008336',\n",
       "  'E01008387',\n",
       "  'E01008442',\n",
       "  'E01008337',\n",
       "  'E01008388',\n",
       "  'E01008443',\n",
       "  'E01008338',\n",
       "  'E01008389',\n",
       "  'E01008444',\n",
       "  'E01008339',\n",
       "  'E01008390',\n",
       "  'E01008445',\n",
       "  'E01008340',\n",
       "  'E01008391',\n",
       "  'E01008446',\n",
       "  'E01008341',\n",
       "  'E01008392',\n",
       "  'E01008447',\n",
       "  'E01008342',\n",
       "  'E01008394',\n",
       "  'E01008448',\n",
       "  'E01008343',\n",
       "  'E01008395',\n",
       "  'E01008449',\n",
       "  'E01008344',\n",
       "  'E01008396',\n",
       "  'E01008450',\n",
       "  'E01008345',\n",
       "  'E01008397',\n",
       "  'E01008451',\n",
       "  'E01008346',\n",
       "  'E01008398',\n",
       "  'E01008452',\n",
       "  'E01008347',\n",
       "  'E01008399',\n",
       "  'E01008453',\n",
       "  'E01008348',\n",
       "  'E01008455',\n",
       "  'E01008349',\n",
       "  'E01008350',\n",
       "  'E01008456',\n",
       "  'E01008351',\n",
       "  'E01008457',\n",
       "  'E01008352',\n",
       "  'E01008353',\n",
       "  'E01008459',\n",
       "  'E01008354',\n",
       "  'E01008460',\n",
       "  'E01008406',\n",
       "  'E01008355',\n",
       "  'E01008407',\n",
       "  'E01008356',\n",
       "  'E01008409',\n",
       "  'E01008357',\n",
       "  'E01008410',\n",
       "  'E01008358',\n",
       "  'E01008411',\n",
       "  'E01008359',\n",
       "  'E01008412',\n",
       "  'E01008360',\n",
       "  'E01008413',\n",
       "  'E01008361',\n",
       "  'E01008415',\n",
       "  'E01008362',\n",
       "  'E01008416',\n",
       "  'E01008363',\n",
       "  'E01008364',\n",
       "  'E01008469',\n",
       "  'E01008418',\n",
       "  'E01033543',\n",
       "  'E01033545',\n",
       "  'E01033547',\n",
       "  'E01033548',\n",
       "  'E01033550',\n",
       "  'E01033551',\n",
       "  'E01033553',\n",
       "  'E01033554',\n",
       "  'E01033556'],\n",
       " 'Newcastle-under-Lyme': ['E01033257',\n",
       "  'E01029536',\n",
       "  'E01029537',\n",
       "  'E01029538',\n",
       "  'E01029539',\n",
       "  'E01029544',\n",
       "  'E01029545',\n",
       "  'E01029546',\n",
       "  'E01029547',\n",
       "  'E01029548',\n",
       "  'E01029549',\n",
       "  'E01029551',\n",
       "  'E01029552',\n",
       "  'E01029553',\n",
       "  'E01029554',\n",
       "  'E01029555',\n",
       "  'E01029607',\n",
       "  'E01029608',\n",
       "  'E01029609',\n",
       "  'E01029610',\n",
       "  'E01029558',\n",
       "  'E01029611',\n",
       "  'E01029559',\n",
       "  'E01029612',\n",
       "  'E01029560',\n",
       "  'E01029566',\n",
       "  'E01029567',\n",
       "  'E01029568',\n",
       "  'E01029577',\n",
       "  'E01029578',\n",
       "  'E01029579',\n",
       "  'E01029580',\n",
       "  'E01029583',\n",
       "  'E01029584',\n",
       "  'E01029585',\n",
       "  'E01029589',\n",
       "  'E01029590',\n",
       "  'E01029591',\n",
       "  'E01029593',\n",
       "  'E01029594',\n",
       "  'E01029598',\n",
       "  'E01029599',\n",
       "  'E01029600',\n",
       "  'E01029601',\n",
       "  'E01029602',\n",
       "  'E01029603',\n",
       "  'E01029604',\n",
       "  'E01029605',\n",
       "  'E01029606'],\n",
       " 'Newport': ['W01001912',\n",
       "  'W01001913',\n",
       "  'W01001600',\n",
       "  'W01001651',\n",
       "  'W01001601',\n",
       "  'W01001652',\n",
       "  'W01001602',\n",
       "  'W01001653',\n",
       "  'W01001654',\n",
       "  'W01001603',\n",
       "  'W01001604',\n",
       "  'W01001655',\n",
       "  'W01001605',\n",
       "  'W01001606',\n",
       "  'W01001607',\n",
       "  'W01001659',\n",
       "  'W01001608',\n",
       "  'W01001660',\n",
       "  'W01001609',\n",
       "  'W01001661',\n",
       "  'W01001610',\n",
       "  'W01001662',\n",
       "  'W01001611',\n",
       "  'W01001663',\n",
       "  'W01001612',\n",
       "  'W01001664',\n",
       "  'W01001613',\n",
       "  'W01001614',\n",
       "  'W01001615',\n",
       "  'W01001616',\n",
       "  'W01001617',\n",
       "  'W01001618',\n",
       "  'W01001619',\n",
       "  'W01001620',\n",
       "  'W01001621',\n",
       "  'W01001622',\n",
       "  'W01001629',\n",
       "  'W01001630',\n",
       "  'W01001631',\n",
       "  'W01001632',\n",
       "  'W01001633',\n",
       "  'W01001634',\n",
       "  'W01001635',\n",
       "  'W01001636',\n",
       "  'W01001637',\n",
       "  'W01001638',\n",
       "  'W01001639',\n",
       "  'W01001641',\n",
       "  'W01001642',\n",
       "  'W01001643',\n",
       "  'W01001644',\n",
       "  'W01001645',\n",
       "  'W01001646',\n",
       "  'W01001647',\n",
       "  'W01001648',\n",
       "  'W01001665',\n",
       "  'W01001666',\n",
       "  'W01001667',\n",
       "  'W01001668',\n",
       "  'W01001669',\n",
       "  'W01001670',\n",
       "  'W01001671',\n",
       "  'W01001672',\n",
       "  'W01001673',\n",
       "  'W01001674',\n",
       "  'W01001675',\n",
       "  'W01001676',\n",
       "  'W01001677',\n",
       "  'W01001678',\n",
       "  'W01001679',\n",
       "  'W01001680',\n",
       "  'W01001681',\n",
       "  'W01001682',\n",
       "  'W01001683',\n",
       "  'W01001684',\n",
       "  'W01001685',\n",
       "  'W01001686',\n",
       "  'W01001687',\n",
       "  'W01001688',\n",
       "  'W01001689',\n",
       "  'W01001690',\n",
       "  'W01001691',\n",
       "  'W01001692',\n",
       "  'W01001693'],\n",
       " 'Northampton': ['E01027019',\n",
       "  'E01027020',\n",
       "  'E01026997',\n",
       "  'E01027203',\n",
       "  'E01027204',\n",
       "  'E01027205',\n",
       "  'E01027206',\n",
       "  'E01027207',\n",
       "  'E01027208',\n",
       "  'E01027209',\n",
       "  'E01027210',\n",
       "  'E01027211',\n",
       "  'E01027212',\n",
       "  'E01027213',\n",
       "  'E01027214',\n",
       "  'E01027215',\n",
       "  'E01027216',\n",
       "  'E01027217',\n",
       "  'E01027218',\n",
       "  'E01027219',\n",
       "  'E01027220',\n",
       "  'E01027221',\n",
       "  'E01027222',\n",
       "  'E01027223',\n",
       "  'E01027224',\n",
       "  'E01027225',\n",
       "  'E01027226',\n",
       "  'E01027227',\n",
       "  'E01027228',\n",
       "  'E01027229',\n",
       "  'E01027230',\n",
       "  'E01027231',\n",
       "  'E01027232',\n",
       "  'E01027233',\n",
       "  'E01027234',\n",
       "  'E01027235',\n",
       "  'E01027236',\n",
       "  'E01027237',\n",
       "  'E01027238',\n",
       "  'E01027239',\n",
       "  'E01027240',\n",
       "  'E01027241',\n",
       "  'E01027242',\n",
       "  'E01027243',\n",
       "  'E01027244',\n",
       "  'E01027245',\n",
       "  'E01027246',\n",
       "  'E01027247',\n",
       "  'E01027248',\n",
       "  'E01027249',\n",
       "  'E01027250',\n",
       "  'E01027252',\n",
       "  'E01027253',\n",
       "  'E01027152',\n",
       "  'E01027254',\n",
       "  'E01027153',\n",
       "  'E01027154',\n",
       "  'E01027155',\n",
       "  'E01027255',\n",
       "  'E01027156',\n",
       "  'E01027256',\n",
       "  'E01027257',\n",
       "  'E01027258',\n",
       "  'E01027259',\n",
       "  'E01027260',\n",
       "  'E01027158',\n",
       "  'E01027159',\n",
       "  'E01027160',\n",
       "  'E01027161',\n",
       "  'E01027162',\n",
       "  'E01027163',\n",
       "  'E01027164',\n",
       "  'E01027165',\n",
       "  'E01027166',\n",
       "  'E01027167',\n",
       "  'E01027168',\n",
       "  'E01027169',\n",
       "  'E01027170',\n",
       "  'E01027171',\n",
       "  'E01027172',\n",
       "  'E01027132',\n",
       "  'E01027133',\n",
       "  'E01027134',\n",
       "  'E01027135',\n",
       "  'E01027136',\n",
       "  'E01027137',\n",
       "  'E01027138',\n",
       "  'E01027139',\n",
       "  'E01027140',\n",
       "  'E01027141',\n",
       "  'E01027142',\n",
       "  'E01027143',\n",
       "  'E01027144',\n",
       "  'E01027145',\n",
       "  'E01027146',\n",
       "  'E01027147',\n",
       "  'E01027148',\n",
       "  'E01027149',\n",
       "  'E01027151',\n",
       "  'E01027173',\n",
       "  'E01027174',\n",
       "  'E01027175',\n",
       "  'E01027176',\n",
       "  'E01027177',\n",
       "  'E01027178',\n",
       "  'E01027179',\n",
       "  'E01027180',\n",
       "  'E01027181',\n",
       "  'E01027182',\n",
       "  'E01027183',\n",
       "  'E01027184',\n",
       "  'E01027185',\n",
       "  'E01027186',\n",
       "  'E01027187',\n",
       "  'E01027188',\n",
       "  'E01027189',\n",
       "  'E01027190',\n",
       "  'E01027191',\n",
       "  'E01027192',\n",
       "  'E01027193',\n",
       "  'E01027194',\n",
       "  'E01027195',\n",
       "  'E01027196',\n",
       "  'E01027197',\n",
       "  'E01027198',\n",
       "  'E01027199',\n",
       "  'E01027200',\n",
       "  'E01027201',\n",
       "  'E01027202',\n",
       "  'E01032975',\n",
       "  'E01032977',\n",
       "  'E01032978',\n",
       "  'E01032979',\n",
       "  'E01032980',\n",
       "  'E01032981'],\n",
       " 'Norwich': ['E01026540',\n",
       "  'E01026541',\n",
       "  'E01026542',\n",
       "  'E01026543',\n",
       "  'E01026544',\n",
       "  'E01026526',\n",
       "  'E01026527',\n",
       "  'E01026528',\n",
       "  'E01026529',\n",
       "  'E01026530',\n",
       "  'E01026531',\n",
       "  'E01026532',\n",
       "  'E01026553',\n",
       "  'E01026554',\n",
       "  'E01026555',\n",
       "  'E01026556',\n",
       "  'E01026557',\n",
       "  'E01026558',\n",
       "  'E01026559',\n",
       "  'E01026560',\n",
       "  'E01026561',\n",
       "  'E01026569',\n",
       "  'E01026570',\n",
       "  'E01026571',\n",
       "  'E01026572',\n",
       "  'E01026573',\n",
       "  'E01026574',\n",
       "  'E01026575',\n",
       "  'E01026576',\n",
       "  'E01026577',\n",
       "  'E01026840',\n",
       "  'E01026841',\n",
       "  'E01026791',\n",
       "  'E01026842',\n",
       "  'E01026792',\n",
       "  'E01026843',\n",
       "  'E01026793',\n",
       "  'E01026844',\n",
       "  'E01026794',\n",
       "  'E01026845',\n",
       "  'E01026796',\n",
       "  'E01026846',\n",
       "  'E01026797',\n",
       "  'E01026848',\n",
       "  'E01026798',\n",
       "  'E01026849',\n",
       "  'E01026799',\n",
       "  'E01026850',\n",
       "  'E01026800',\n",
       "  'E01026852',\n",
       "  'E01026853',\n",
       "  'E01026855',\n",
       "  'E01026856',\n",
       "  'E01026857',\n",
       "  'E01026858',\n",
       "  'E01026859',\n",
       "  'E01026860',\n",
       "  'E01026861',\n",
       "  'E01026862',\n",
       "  'E01026863',\n",
       "  'E01026864',\n",
       "  'E01026865',\n",
       "  'E01026866',\n",
       "  'E01026867',\n",
       "  'E01026868',\n",
       "  'E01026869',\n",
       "  'E01026801',\n",
       "  'E01026802',\n",
       "  'E01026803',\n",
       "  'E01026804',\n",
       "  'E01026805',\n",
       "  'E01026806',\n",
       "  'E01026807',\n",
       "  'E01026808',\n",
       "  'E01026916',\n",
       "  'E01026917',\n",
       "  'E01026918',\n",
       "  'E01026925',\n",
       "  'E01026809',\n",
       "  'E01026810',\n",
       "  'E01026811',\n",
       "  'E01026812',\n",
       "  'E01026813',\n",
       "  'E01026814',\n",
       "  'E01026815',\n",
       "  'E01026816',\n",
       "  'E01026817',\n",
       "  'E01026818',\n",
       "  'E01026819',\n",
       "  'E01026820',\n",
       "  'E01026821',\n",
       "  'E01026822',\n",
       "  'E01026823',\n",
       "  'E01026824',\n",
       "  'E01026825',\n",
       "  'E01026826',\n",
       "  'E01026827',\n",
       "  'E01026828',\n",
       "  'E01026829',\n",
       "  'E01026830',\n",
       "  'E01026831',\n",
       "  'E01026832',\n",
       "  'E01026833',\n",
       "  'E01026834',\n",
       "  'E01026835',\n",
       "  'E01026836',\n",
       "  'E01026837',\n",
       "  'E01026838',\n",
       "  'E01026839',\n",
       "  'E01033434',\n",
       "  'E01033435',\n",
       "  'E01033436',\n",
       "  'E01033437',\n",
       "  'E01033438',\n",
       "  'E01033439',\n",
       "  'E01033440',\n",
       "  'E01033441'],\n",
       " 'Nottingham': ['E01013917',\n",
       "  'E01013918',\n",
       "  'E01013919',\n",
       "  'E01013920',\n",
       "  'E01013921',\n",
       "  'E01013924',\n",
       "  'E01013926',\n",
       "  'E01013928',\n",
       "  'E01013929',\n",
       "  'E01013930',\n",
       "  'E01013931',\n",
       "  'E01013932',\n",
       "  'E01013933',\n",
       "  'E01013934',\n",
       "  'E01013935',\n",
       "  'E01013936',\n",
       "  'E01013937',\n",
       "  'E01013938',\n",
       "  'E01013939',\n",
       "  'E01013940',\n",
       "  'E01013941',\n",
       "  'E01013942',\n",
       "  'E01013943',\n",
       "  'E01013944',\n",
       "  'E01013945',\n",
       "  'E01013947',\n",
       "  'E01013948',\n",
       "  'E01013953',\n",
       "  'E01013954',\n",
       "  'E01013957',\n",
       "  'E01013958',\n",
       "  'E01013959',\n",
       "  'E01013960',\n",
       "  'E01013961',\n",
       "  'E01013962',\n",
       "  'E01013964',\n",
       "  'E01013965',\n",
       "  'E01013966',\n",
       "  'E01013967',\n",
       "  'E01013968',\n",
       "  'E01013969',\n",
       "  'E01013970',\n",
       "  'E01013971',\n",
       "  'E01013972',\n",
       "  'E01013973',\n",
       "  'E01013974',\n",
       "  'E01013975',\n",
       "  'E01013976',\n",
       "  'E01013977',\n",
       "  'E01013814',\n",
       "  'E01013866',\n",
       "  'E01013815',\n",
       "  'E01013816',\n",
       "  'E01013817',\n",
       "  'E01013818',\n",
       "  'E01013819',\n",
       "  'E01013820',\n",
       "  'E01013821',\n",
       "  'E01013822',\n",
       "  'E01013823',\n",
       "  'E01013824',\n",
       "  'E01013825',\n",
       "  'E01013826',\n",
       "  'E01013827',\n",
       "  'E01013828',\n",
       "  'E01013829',\n",
       "  'E01013830',\n",
       "  'E01013831',\n",
       "  'E01013832',\n",
       "  'E01013833',\n",
       "  'E01013834',\n",
       "  'E01013835',\n",
       "  'E01013836',\n",
       "  'E01013837',\n",
       "  'E01013838',\n",
       "  'E01013839',\n",
       "  'E01013840',\n",
       "  'E01013841',\n",
       "  'E01013842',\n",
       "  'E01013843',\n",
       "  'E01013844',\n",
       "  'E01013845',\n",
       "  'E01013846',\n",
       "  'E01013847',\n",
       "  'E01013849',\n",
       "  'E01013850',\n",
       "  'E01013851',\n",
       "  'E01013852',\n",
       "  'E01013853',\n",
       "  'E01013854',\n",
       "  'E01013855',\n",
       "  'E01013856',\n",
       "  'E01013858',\n",
       "  'E01013859',\n",
       "  'E01013860',\n",
       "  'E01013861',\n",
       "  'E01013862',\n",
       "  'E01013863',\n",
       "  'E01013864',\n",
       "  'E01013865',\n",
       "  'E01013978',\n",
       "  'E01013867',\n",
       "  'E01013979',\n",
       "  'E01013868',\n",
       "  'E01013870',\n",
       "  'E01013871',\n",
       "  'E01013872',\n",
       "  'E01013873',\n",
       "  'E01013874',\n",
       "  'E01013810',\n",
       "  'E01013811',\n",
       "  'E01013812',\n",
       "  'E01013813',\n",
       "  'E01013980',\n",
       "  'E01013875',\n",
       "  'E01013876',\n",
       "  'E01013981',\n",
       "  'E01013982',\n",
       "  'E01013877',\n",
       "  'E01013983',\n",
       "  'E01013878',\n",
       "  'E01013984',\n",
       "  'E01013879',\n",
       "  'E01013985',\n",
       "  'E01013880',\n",
       "  'E01013881',\n",
       "  'E01013882',\n",
       "  'E01013883',\n",
       "  'E01013884',\n",
       "  'E01013885',\n",
       "  'E01013886',\n",
       "  'E01013887',\n",
       "  'E01013888',\n",
       "  'E01013889',\n",
       "  'E01013890',\n",
       "  'E01013891',\n",
       "  'E01013892',\n",
       "  'E01013893',\n",
       "  'E01013894',\n",
       "  'E01013913',\n",
       "  'E01013914',\n",
       "  'E01013915',\n",
       "  'E01013916',\n",
       "  'E01033405',\n",
       "  'E01033406',\n",
       "  'E01033407',\n",
       "  'E01033408',\n",
       "  'E01033409',\n",
       "  'E01033410',\n",
       "  'E01033411',\n",
       "  'E01033395',\n",
       "  'E01033396',\n",
       "  'E01033397',\n",
       "  'E01033398',\n",
       "  'E01033399',\n",
       "  'E01033400',\n",
       "  'E01033401',\n",
       "  'E01033402',\n",
       "  'E01033403',\n",
       "  'E01033404',\n",
       "  'E01028119',\n",
       "  'E01028120',\n",
       "  'E01028121',\n",
       "  'E01028142',\n",
       "  'E01028146',\n",
       "  'E01028147',\n",
       "  'E01028166',\n",
       "  'E01032621',\n",
       "  'E01032622',\n",
       "  'E01032520',\n",
       "  'E01032522'],\n",
       " 'Nuneaton': ['E01032890',\n",
       "  'E01031043',\n",
       "  'E01031044',\n",
       "  'E01031045',\n",
       "  'E01031046',\n",
       "  'E01031047',\n",
       "  'E01031048',\n",
       "  'E01031049',\n",
       "  'E01031050',\n",
       "  'E01031051',\n",
       "  'E01031090',\n",
       "  'E01031052',\n",
       "  'E01031091',\n",
       "  'E01031092',\n",
       "  'E01031093',\n",
       "  'E01031094',\n",
       "  'E01031053',\n",
       "  'E01031008',\n",
       "  'E01031054',\n",
       "  'E01031055',\n",
       "  'E01031056',\n",
       "  'E01031057',\n",
       "  'E01031058',\n",
       "  'E01031100',\n",
       "  'E01031059',\n",
       "  'E01031101',\n",
       "  'E01031060',\n",
       "  'E01031102',\n",
       "  'E01031061',\n",
       "  'E01031103',\n",
       "  'E01031104',\n",
       "  'E01031073',\n",
       "  'E01031074',\n",
       "  'E01031075',\n",
       "  'E01031081',\n",
       "  'E01031082',\n",
       "  'E01031029',\n",
       "  'E01031030',\n",
       "  'E01031083',\n",
       "  'E01031084',\n",
       "  'E01031085',\n",
       "  'E01031110',\n",
       "  'E01031111',\n",
       "  'E01031112',\n",
       "  'E01031113',\n",
       "  'E01031114',\n",
       "  'E01031115',\n",
       "  'E01031116',\n",
       "  'E01031117',\n",
       "  'E01031118',\n",
       "  'E01031119',\n",
       "  'E01031120',\n",
       "  'E01031121',\n",
       "  'E01031122',\n",
       "  'E01031123',\n",
       "  'E01031124'],\n",
       " 'Oldham': ['E01005325',\n",
       "  'E01005326',\n",
       "  'E01005449',\n",
       "  'E01005450',\n",
       "  'E01005451',\n",
       "  'E01005413',\n",
       "  'E01005417',\n",
       "  'E01005418',\n",
       "  'E01005419',\n",
       "  'E01005420',\n",
       "  'E01005421',\n",
       "  'E01005422',\n",
       "  'E01005427',\n",
       "  'E01005428',\n",
       "  'E01005429',\n",
       "  'E01005430',\n",
       "  'E01005431',\n",
       "  'E01005432',\n",
       "  'E01005433',\n",
       "  'E01005434',\n",
       "  'E01005435',\n",
       "  'E01005436',\n",
       "  'E01005437',\n",
       "  'E01005438',\n",
       "  'E01005439',\n",
       "  'E01005440',\n",
       "  'E01005448',\n",
       "  'E01005348',\n",
       "  'E01005349',\n",
       "  'E01005452',\n",
       "  'E01005350',\n",
       "  'E01005453',\n",
       "  'E01005454',\n",
       "  'E01005352',\n",
       "  'E01005455',\n",
       "  'E01005353',\n",
       "  'E01005456',\n",
       "  'E01005354',\n",
       "  'E01005459',\n",
       "  'E01005460',\n",
       "  'E01005461',\n",
       "  'E01005462',\n",
       "  'E01005463',\n",
       "  'E01005376',\n",
       "  'E01005377',\n",
       "  'E01005378',\n",
       "  'E01005379',\n",
       "  'E01005380',\n",
       "  'E01005381',\n",
       "  'E01005382',\n",
       "  'E01005383',\n",
       "  'E01005386',\n",
       "  'E01005387',\n",
       "  'E01005388',\n",
       "  'E01005389',\n",
       "  'E01005320',\n",
       "  'E01005321',\n",
       "  'E01005322',\n",
       "  'E01005323',\n",
       "  'E01005324',\n",
       "  'E01032920',\n",
       "  'E01032921',\n",
       "  'E01032556',\n",
       "  'E01032557',\n",
       "  'E01032558',\n",
       "  'E01032559'],\n",
       " 'Oxford': ['E01033282',\n",
       "  'E01028578',\n",
       "  'E01028579',\n",
       "  'E01028580',\n",
       "  'E01028581',\n",
       "  'E01028582',\n",
       "  'E01028526',\n",
       "  'E01028583',\n",
       "  'E01028584',\n",
       "  'E01028585',\n",
       "  'E01028586',\n",
       "  'E01028587',\n",
       "  'E01028588',\n",
       "  'E01028591',\n",
       "  'E01028592',\n",
       "  'E01028594',\n",
       "  'E01028596',\n",
       "  'E01028597',\n",
       "  'E01028527',\n",
       "  'E01028528',\n",
       "  'E01028529',\n",
       "  'E01028530',\n",
       "  'E01028531',\n",
       "  'E01028532',\n",
       "  'E01028533',\n",
       "  'E01028534',\n",
       "  'E01028535',\n",
       "  'E01028536',\n",
       "  'E01028537',\n",
       "  'E01028538',\n",
       "  'E01028539',\n",
       "  'E01028540',\n",
       "  'E01028541',\n",
       "  'E01028542',\n",
       "  'E01028543',\n",
       "  'E01028544',\n",
       "  'E01028545',\n",
       "  'E01028546',\n",
       "  'E01028547',\n",
       "  'E01028708',\n",
       "  'E01028709',\n",
       "  'E01028710',\n",
       "  'E01028548',\n",
       "  'E01028549',\n",
       "  'E01028550',\n",
       "  'E01028551',\n",
       "  'E01028552',\n",
       "  'E01028553',\n",
       "  'E01028554',\n",
       "  'E01028657',\n",
       "  'E01028555',\n",
       "  'E01028556',\n",
       "  'E01028557',\n",
       "  'E01028558',\n",
       "  'E01028559',\n",
       "  'E01028560',\n",
       "  'E01028561',\n",
       "  'E01028562',\n",
       "  'E01028563',\n",
       "  'E01028565',\n",
       "  'E01028567',\n",
       "  'E01028568',\n",
       "  'E01028569',\n",
       "  'E01028570',\n",
       "  'E01028571',\n",
       "  'E01028572',\n",
       "  'E01028573',\n",
       "  'E01028574',\n",
       "  'E01028575',\n",
       "  'E01028576',\n",
       "  'E01028577',\n",
       "  'E01028513',\n",
       "  'E01028514',\n",
       "  'E01028515',\n",
       "  'E01028516',\n",
       "  'E01028517',\n",
       "  'E01028518',\n",
       "  'E01028519',\n",
       "  'E01028520',\n",
       "  'E01028521',\n",
       "  'E01028522',\n",
       "  'E01028523',\n",
       "  'E01028524',\n",
       "  'E01028525',\n",
       "  'E01028740',\n",
       "  'E01028741',\n",
       "  'E01028742',\n",
       "  'E01032554',\n",
       "  'E01032555'],\n",
       " 'Peterborough': ['E01015641',\n",
       "  'E01015642',\n",
       "  'E01015643',\n",
       "  'E01015644',\n",
       "  'E01015645',\n",
       "  'E01015646',\n",
       "  'E01015647',\n",
       "  'E01015648',\n",
       "  'E01015650',\n",
       "  'E01015591',\n",
       "  'E01015651',\n",
       "  'E01015592',\n",
       "  'E01015652',\n",
       "  'E01015593',\n",
       "  'E01015594',\n",
       "  'E01015595',\n",
       "  'E01015596',\n",
       "  'E01015597',\n",
       "  'E01015598',\n",
       "  'E01015599',\n",
       "  'E01015600',\n",
       "  'E01015601',\n",
       "  'E01015602',\n",
       "  'E01015603',\n",
       "  'E01015604',\n",
       "  'E01015605',\n",
       "  'E01015606',\n",
       "  'E01015607',\n",
       "  'E01015608',\n",
       "  'E01015609',\n",
       "  'E01015610',\n",
       "  'E01015611',\n",
       "  'E01015612',\n",
       "  'E01015613',\n",
       "  'E01015614',\n",
       "  'E01015615',\n",
       "  'E01015653',\n",
       "  'E01015654',\n",
       "  'E01015655',\n",
       "  'E01015656',\n",
       "  'E01015657',\n",
       "  'E01015658',\n",
       "  'E01015659',\n",
       "  'E01015660',\n",
       "  'E01015661',\n",
       "  'E01015662',\n",
       "  'E01015663',\n",
       "  'E01015664',\n",
       "  'E01015665',\n",
       "  'E01015666',\n",
       "  'E01015667',\n",
       "  'E01015668',\n",
       "  'E01015669',\n",
       "  'E01015670',\n",
       "  'E01015671',\n",
       "  'E01015672',\n",
       "  'E01015673',\n",
       "  'E01015674',\n",
       "  'E01015675',\n",
       "  'E01015676',\n",
       "  'E01015677',\n",
       "  'E01015678',\n",
       "  'E01015679',\n",
       "  'E01015680',\n",
       "  'E01015681',\n",
       "  'E01015682',\n",
       "  'E01015683',\n",
       "  'E01015684',\n",
       "  'E01015685',\n",
       "  'E01015686',\n",
       "  'E01015687',\n",
       "  'E01015688',\n",
       "  'E01015689',\n",
       "  'E01015690',\n",
       "  'E01015691',\n",
       "  'E01015692',\n",
       "  'E01015616',\n",
       "  'E01015621',\n",
       "  'E01015622',\n",
       "  'E01015623',\n",
       "  'E01015624',\n",
       "  'E01015632',\n",
       "  'E01015633',\n",
       "  'E01015634',\n",
       "  'E01015637',\n",
       "  'E01015638',\n",
       "  'E01015639',\n",
       "  'E01015640',\n",
       "  'E01033173',\n",
       "  'E01033174',\n",
       "  'E01033175',\n",
       "  'E01033176',\n",
       "  'E01033177',\n",
       "  'E01033178',\n",
       "  'E01033179',\n",
       "  'E01033180',\n",
       "  'E01033181',\n",
       "  'E01033182'],\n",
       " 'Plymouth': ['E01015157',\n",
       "  'E01015106',\n",
       "  'E01015056',\n",
       "  'E01015158',\n",
       "  'E01015057',\n",
       "  'E01015159',\n",
       "  'E01015107',\n",
       "  'E01015058',\n",
       "  'E01015160',\n",
       "  'E01015108',\n",
       "  'E01015059',\n",
       "  'E01015161',\n",
       "  'E01015109',\n",
       "  'E01015060',\n",
       "  'E01015162',\n",
       "  'E01015110',\n",
       "  'E01015111',\n",
       "  'E01015163',\n",
       "  'E01015112',\n",
       "  'E01015061',\n",
       "  'E01015164',\n",
       "  'E01015062',\n",
       "  'E01015113',\n",
       "  'E01015165',\n",
       "  'E01015063',\n",
       "  'E01015114',\n",
       "  'E01015166',\n",
       "  'E01015064',\n",
       "  'E01015115',\n",
       "  'E01015167',\n",
       "  'E01015065',\n",
       "  'E01015116',\n",
       "  'E01015168',\n",
       "  'E01015066',\n",
       "  'E01015117',\n",
       "  'E01015169',\n",
       "  'E01015067',\n",
       "  'E01015118',\n",
       "  'E01015170',\n",
       "  'E01015068',\n",
       "  'E01015119',\n",
       "  'E01015171',\n",
       "  'E01015023',\n",
       "  'E01015069',\n",
       "  'E01015120',\n",
       "  'E01015172',\n",
       "  'E01015024',\n",
       "  'E01015070',\n",
       "  'E01015121',\n",
       "  'E01015173',\n",
       "  'E01015025',\n",
       "  'E01015026',\n",
       "  'E01015027',\n",
       "  'E01015028',\n",
       "  'E01015029',\n",
       "  'E01015030',\n",
       "  'E01015031',\n",
       "  'E01015032',\n",
       "  'E01015033',\n",
       "  'E01015034',\n",
       "  'E01015035',\n",
       "  'E01015036',\n",
       "  'E01015037',\n",
       "  'E01015038',\n",
       "  'E01015039',\n",
       "  'E01015040',\n",
       "  'E01015041',\n",
       "  'E01015042',\n",
       "  'E01015043',\n",
       "  'E01015044',\n",
       "  'E01015045',\n",
       "  'E01015046',\n",
       "  'E01015047',\n",
       "  'E01015048',\n",
       "  'E01015049',\n",
       "  'E01015050',\n",
       "  'E01015051',\n",
       "  'E01015052',\n",
       "  'E01015053',\n",
       "  'E01015054',\n",
       "  'E01015055',\n",
       "  'E01015071',\n",
       "  'E01015174',\n",
       "  'E01015122',\n",
       "  'E01015072',\n",
       "  'E01015175',\n",
       "  'E01015123',\n",
       "  'E01015073',\n",
       "  'E01015176',\n",
       "  'E01015124',\n",
       "  'E01015074',\n",
       "  'E01015177',\n",
       "  'E01015125',\n",
       "  'E01015075',\n",
       "  'E01015178',\n",
       "  'E01015126',\n",
       "  'E01015076',\n",
       "  'E01015179',\n",
       "  'E01015127',\n",
       "  'E01015077',\n",
       "  'E01015180',\n",
       "  'E01015181',\n",
       "  'E01015128',\n",
       "  'E01015182',\n",
       "  'E01015078',\n",
       "  'E01015129',\n",
       "  'E01015079',\n",
       "  'E01015130',\n",
       "  'E01015080',\n",
       "  'E01015131',\n",
       "  'E01015081',\n",
       "  'E01015132',\n",
       "  'E01015082',\n",
       "  'E01015133',\n",
       "  'E01015083',\n",
       "  'E01015134',\n",
       "  'E01015084',\n",
       "  'E01015135',\n",
       "  'E01015085',\n",
       "  'E01015136',\n",
       "  'E01015086',\n",
       "  'E01015137',\n",
       "  'E01015087',\n",
       "  'E01015138',\n",
       "  'E01015088',\n",
       "  'E01015139',\n",
       "  'E01015140',\n",
       "  'E01015141',\n",
       "  'E01015142',\n",
       "  'E01015143',\n",
       "  'E01015144',\n",
       "  'E01015145',\n",
       "  'E01015146',\n",
       "  'E01015147',\n",
       "  'E01015148',\n",
       "  'E01015149',\n",
       "  'E01015150',\n",
       "  'E01015151',\n",
       "  'E01015152',\n",
       "  'E01015153',\n",
       "  'E01015155',\n",
       "  'E01015156',\n",
       "  'E01015089',\n",
       "  'E01015090',\n",
       "  'E01015091',\n",
       "  'E01015092',\n",
       "  'E01015093',\n",
       "  'E01015094',\n",
       "  'E01015095',\n",
       "  'E01015096',\n",
       "  'E01015097',\n",
       "  'E01015098',\n",
       "  'E01015099',\n",
       "  'E01015100',\n",
       "  'E01015101',\n",
       "  'E01015102',\n",
       "  'E01015103',\n",
       "  'E01015104',\n",
       "  'E01015105',\n",
       "  'E01020144',\n",
       "  'E01020146',\n",
       "  'E01032657',\n",
       "  'E01032658'],\n",
       " 'Poole': ['E01015438',\n",
       "  'E01015439',\n",
       "  'E01015440',\n",
       "  'E01015441',\n",
       "  'E01015442',\n",
       "  'E01015443',\n",
       "  'E01015444',\n",
       "  'E01015445',\n",
       "  'E01015446',\n",
       "  'E01015447',\n",
       "  'E01015448',\n",
       "  'E01015449',\n",
       "  'E01015450',\n",
       "  'E01015451',\n",
       "  'E01015452',\n",
       "  'E01015453',\n",
       "  'E01015454',\n",
       "  'E01015455',\n",
       "  'E01015456',\n",
       "  'E01015457',\n",
       "  'E01015458',\n",
       "  'E01015459',\n",
       "  'E01015460',\n",
       "  'E01015461',\n",
       "  'E01015462',\n",
       "  'E01015463',\n",
       "  'E01015464',\n",
       "  'E01015465',\n",
       "  'E01015410',\n",
       "  'E01015466',\n",
       "  'E01015411',\n",
       "  'E01015468',\n",
       "  'E01015412',\n",
       "  'E01015413',\n",
       "  'E01015414',\n",
       "  'E01015415',\n",
       "  'E01015416',\n",
       "  'E01015417',\n",
       "  'E01015379',\n",
       "  'E01015380',\n",
       "  'E01015381',\n",
       "  'E01015382',\n",
       "  'E01015383',\n",
       "  'E01015384',\n",
       "  'E01015385',\n",
       "  'E01015386',\n",
       "  'E01015387',\n",
       "  'E01015388',\n",
       "  'E01015389',\n",
       "  'E01015390',\n",
       "  'E01015391',\n",
       "  'E01015392',\n",
       "  'E01015393',\n",
       "  'E01015394',\n",
       "  'E01015395',\n",
       "  'E01015396',\n",
       "  'E01015397',\n",
       "  'E01015398',\n",
       "  'E01015399',\n",
       "  'E01015400',\n",
       "  'E01015401',\n",
       "  'E01015402',\n",
       "  'E01015403',\n",
       "  'E01015404',\n",
       "  'E01015405',\n",
       "  'E01015406',\n",
       "  'E01015407',\n",
       "  'E01015408',\n",
       "  'E01015409',\n",
       "  'E01015418',\n",
       "  'E01015419',\n",
       "  'E01015420',\n",
       "  'E01015421',\n",
       "  'E01015422',\n",
       "  'E01015423',\n",
       "  'E01015424',\n",
       "  'E01015425',\n",
       "  'E01015426',\n",
       "  'E01015427',\n",
       "  'E01015428',\n",
       "  'E01015429',\n",
       "  'E01015430',\n",
       "  'E01020471',\n",
       "  'E01020472',\n",
       "  'E01020473',\n",
       "  'E01020474',\n",
       "  'E01020475',\n",
       "  'E01020382',\n",
       "  'E01020383',\n",
       "  'E01020384',\n",
       "  'E01020385',\n",
       "  'E01020386',\n",
       "  'E01020387',\n",
       "  'E01020388',\n",
       "  'E01032659',\n",
       "  'E01032660',\n",
       "  'E01032661',\n",
       "  'E01032662'],\n",
       " 'Portsmouth': ['E01017097',\n",
       "  'E01017046',\n",
       "  'E01017098',\n",
       "  'E01017047',\n",
       "  'E01017099',\n",
       "  'E01017048',\n",
       "  'E01017100',\n",
       "  'E01017049',\n",
       "  'E01017101',\n",
       "  'E01017050',\n",
       "  'E01017102',\n",
       "  'E01017051',\n",
       "  'E01017103',\n",
       "  'E01017052',\n",
       "  'E01017104',\n",
       "  'E01017053',\n",
       "  'E01017105',\n",
       "  'E01017106',\n",
       "  'E01017054',\n",
       "  'E01017107',\n",
       "  'E01017055',\n",
       "  'E01017108',\n",
       "  'E01017056',\n",
       "  'E01017109',\n",
       "  'E01017110',\n",
       "  'E01017111',\n",
       "  'E01017112',\n",
       "  'E01017013',\n",
       "  'E01017014',\n",
       "  'E01017015',\n",
       "  'E01017016',\n",
       "  'E01017017',\n",
       "  'E01017018',\n",
       "  'E01017019',\n",
       "  'E01017020',\n",
       "  'E01017021',\n",
       "  'E01017022',\n",
       "  'E01017023',\n",
       "  'E01017024',\n",
       "  'E01017025',\n",
       "  'E01017026',\n",
       "  'E01017027',\n",
       "  'E01017028',\n",
       "  'E01017029',\n",
       "  'E01017030',\n",
       "  'E01017031',\n",
       "  'E01017032',\n",
       "  'E01017034',\n",
       "  'E01017035',\n",
       "  'E01017036',\n",
       "  'E01017037',\n",
       "  'E01017038',\n",
       "  'E01017039',\n",
       "  'E01017040',\n",
       "  'E01017041',\n",
       "  'E01017042',\n",
       "  'E01017043',\n",
       "  'E01017044',\n",
       "  'E01017045',\n",
       "  'E01017057',\n",
       "  'E01017058',\n",
       "  'E01017113',\n",
       "  'E01017059',\n",
       "  'E01017114',\n",
       "  'E01017060',\n",
       "  'E01017115',\n",
       "  'E01017061',\n",
       "  'E01017116',\n",
       "  'E01017062',\n",
       "  'E01017063',\n",
       "  'E01017064',\n",
       "  'E01017117',\n",
       "  'E01017066',\n",
       "  'E01017118',\n",
       "  'E01017067',\n",
       "  'E01017119',\n",
       "  'E01017068',\n",
       "  'E01017120',\n",
       "  'E01017069',\n",
       "  'E01017121',\n",
       "  'E01017070',\n",
       "  'E01017122',\n",
       "  'E01017071',\n",
       "  'E01017123',\n",
       "  'E01017072',\n",
       "  'E01017124',\n",
       "  'E01017073',\n",
       "  'E01017125',\n",
       "  'E01017074',\n",
       "  'E01017126',\n",
       "  'E01017075',\n",
       "  'E01017127',\n",
       "  'E01017076',\n",
       "  'E01017128',\n",
       "  'E01017077',\n",
       "  'E01017078',\n",
       "  'E01017129',\n",
       "  'E01017079',\n",
       "  'E01017130',\n",
       "  'E01017080',\n",
       "  'E01017131',\n",
       "  'E01017081',\n",
       "  'E01017132',\n",
       "  'E01017082',\n",
       "  'E01017133',\n",
       "  'E01017083',\n",
       "  'E01017135',\n",
       "  'E01017084',\n",
       "  'E01017085',\n",
       "  'E01017086',\n",
       "  'E01017087',\n",
       "  'E01017088',\n",
       "  'E01017089',\n",
       "  'E01017090',\n",
       "  'E01017091',\n",
       "  'E01017092',\n",
       "  'E01017093',\n",
       "  'E01017094',\n",
       "  'E01017095',\n",
       "  'E01017096',\n",
       "  'E01022759',\n",
       "  'E01022760',\n",
       "  'E01022761',\n",
       "  'E01022762',\n",
       "  'E01022763',\n",
       "  'E01022764',\n",
       "  'E01022765',\n",
       "  'E01022767',\n",
       "  'E01022768',\n",
       "  'E01022770',\n",
       "  'E01033380',\n",
       "  'E01033381',\n",
       "  'E01033383',\n",
       "  'E01033384',\n",
       "  'E01032604'],\n",
       " 'Preston': ['E01025427',\n",
       "  'E01025448',\n",
       "  'E01025449',\n",
       "  'E01025265',\n",
       "  'E01025266',\n",
       "  'E01025267',\n",
       "  'E01025268',\n",
       "  'E01025269',\n",
       "  'E01025270',\n",
       "  'E01025271',\n",
       "  'E01025272',\n",
       "  'E01025273',\n",
       "  'E01025274',\n",
       "  'E01025275',\n",
       "  'E01025276',\n",
       "  'E01025283',\n",
       "  'E01025284',\n",
       "  'E01025285',\n",
       "  'E01025286',\n",
       "  'E01025287',\n",
       "  'E01025288',\n",
       "  'E01025289',\n",
       "  'E01025290',\n",
       "  'E01025291',\n",
       "  'E01025292',\n",
       "  'E01025293',\n",
       "  'E01025294',\n",
       "  'E01025295',\n",
       "  'E01025296',\n",
       "  'E01025297',\n",
       "  'E01025298',\n",
       "  'E01025299',\n",
       "  'E01025300',\n",
       "  'E01025301',\n",
       "  'E01025302',\n",
       "  'E01025303',\n",
       "  'E01025304',\n",
       "  'E01025305',\n",
       "  'E01025306',\n",
       "  'E01025308',\n",
       "  'E01025309',\n",
       "  'E01025310',\n",
       "  'E01025311',\n",
       "  'E01025312',\n",
       "  'E01025313',\n",
       "  'E01025314',\n",
       "  'E01025231',\n",
       "  'E01025232',\n",
       "  'E01025233',\n",
       "  'E01025234',\n",
       "  'E01025235',\n",
       "  'E01025236',\n",
       "  'E01025237',\n",
       "  'E01025238',\n",
       "  'E01025239',\n",
       "  'E01025240',\n",
       "  'E01025241',\n",
       "  'E01025242',\n",
       "  'E01025243',\n",
       "  'E01025244',\n",
       "  'E01025245',\n",
       "  'E01025246',\n",
       "  'E01025247',\n",
       "  'E01025248',\n",
       "  'E01025249',\n",
       "  'E01025250',\n",
       "  'E01025251',\n",
       "  'E01025252',\n",
       "  'E01025253',\n",
       "  'E01025254',\n",
       "  'E01025255',\n",
       "  'E01025256',\n",
       "  'E01025257',\n",
       "  'E01025258',\n",
       "  'E01025259',\n",
       "  'E01025260',\n",
       "  'E01025261',\n",
       "  'E01025262',\n",
       "  'E01025263',\n",
       "  'E01025264',\n",
       "  'E01033223',\n",
       "  'E01033224',\n",
       "  'E01033226'],\n",
       " 'Reading': ['E01016685',\n",
       "  'E01016686',\n",
       "  'E01016687',\n",
       "  'E01016688',\n",
       "  'E01016689',\n",
       "  'E01016644',\n",
       "  'E01016645',\n",
       "  'E01016646',\n",
       "  'E01016647',\n",
       "  'E01016648',\n",
       "  'E01016649',\n",
       "  'E01016651',\n",
       "  'E01016652',\n",
       "  'E01016653',\n",
       "  'E01016654',\n",
       "  'E01016655',\n",
       "  'E01016658',\n",
       "  'E01016659',\n",
       "  'E01016660',\n",
       "  'E01016661',\n",
       "  'E01016662',\n",
       "  'E01016663',\n",
       "  'E01016664',\n",
       "  'E01016665',\n",
       "  'E01016666',\n",
       "  'E01016668',\n",
       "  'E01016669',\n",
       "  'E01016613',\n",
       "  'E01016614',\n",
       "  'E01016615',\n",
       "  'E01016616',\n",
       "  'E01016617',\n",
       "  'E01016618',\n",
       "  'E01016679',\n",
       "  'E01016680',\n",
       "  'E01016621',\n",
       "  'E01016622',\n",
       "  'E01016623',\n",
       "  'E01016684',\n",
       "  'E01016624',\n",
       "  'E01016379',\n",
       "  'E01016380',\n",
       "  'E01016381',\n",
       "  'E01016382',\n",
       "  'E01016383',\n",
       "  'E01016384',\n",
       "  'E01016385',\n",
       "  'E01016386',\n",
       "  'E01016387',\n",
       "  'E01016388',\n",
       "  'E01016389',\n",
       "  'E01016390',\n",
       "  'E01016391',\n",
       "  'E01016392',\n",
       "  'E01016393',\n",
       "  'E01016394',\n",
       "  'E01016395',\n",
       "  'E01016396',\n",
       "  'E01016397',\n",
       "  'E01016398',\n",
       "  'E01016399',\n",
       "  'E01016400',\n",
       "  'E01016401',\n",
       "  'E01016402',\n",
       "  'E01016403',\n",
       "  'E01016404',\n",
       "  'E01016405',\n",
       "  'E01016406',\n",
       "  'E01016407',\n",
       "  'E01016408',\n",
       "  'E01016409',\n",
       "  'E01016410',\n",
       "  'E01016411',\n",
       "  'E01016429',\n",
       "  'E01016412',\n",
       "  'E01016413',\n",
       "  'E01016430',\n",
       "  'E01016414',\n",
       "  'E01016431',\n",
       "  'E01016276',\n",
       "  'E01016415',\n",
       "  'E01016432',\n",
       "  'E01016433',\n",
       "  'E01016434',\n",
       "  'E01016435',\n",
       "  'E01016436',\n",
       "  'E01016437',\n",
       "  'E01016438',\n",
       "  'E01016439',\n",
       "  'E01016440',\n",
       "  'E01016441',\n",
       "  'E01016442',\n",
       "  'E01016443',\n",
       "  'E01016416',\n",
       "  'E01016417',\n",
       "  'E01016418',\n",
       "  'E01016419',\n",
       "  'E01016420',\n",
       "  'E01016421',\n",
       "  'E01016315',\n",
       "  'E01016316',\n",
       "  'E01016317',\n",
       "  'E01016318',\n",
       "  'E01016422',\n",
       "  'E01016423',\n",
       "  'E01016424',\n",
       "  'E01016425',\n",
       "  'E01016426',\n",
       "  'E01016427',\n",
       "  'E01016428',\n",
       "  'E01016349',\n",
       "  'E01016350',\n",
       "  'E01016353',\n",
       "  'E01016355',\n",
       "  'E01016356',\n",
       "  'E01016258',\n",
       "  'E01016259',\n",
       "  'E01016260',\n",
       "  'E01016261',\n",
       "  'E01016262',\n",
       "  'E01016271',\n",
       "  'E01016272',\n",
       "  'E01016273',\n",
       "  'E01016274',\n",
       "  'E01016275',\n",
       "  'E01016357',\n",
       "  'E01016358',\n",
       "  'E01016359',\n",
       "  'E01016360',\n",
       "  'E01016361',\n",
       "  'E01016362',\n",
       "  'E01016363',\n",
       "  'E01016364',\n",
       "  'E01016365',\n",
       "  'E01016366',\n",
       "  'E01016367',\n",
       "  'E01016368',\n",
       "  'E01016369',\n",
       "  'E01016370',\n",
       "  'E01016371',\n",
       "  'E01016372',\n",
       "  'E01016373',\n",
       "  'E01016374',\n",
       "  'E01016375',\n",
       "  'E01016376',\n",
       "  'E01016377',\n",
       "  'E01016378',\n",
       "  'E01033415',\n",
       "  'E01033417',\n",
       "  'E01033418',\n",
       "  'E01033420',\n",
       "  'E01033421',\n",
       "  'E01033422',\n",
       "  'E01033423',\n",
       "  'E01032758',\n",
       "  'E01032759',\n",
       "  'E01032761'],\n",
       " 'Redditch': ['E01032259',\n",
       "  'E01032260',\n",
       "  'E01032261',\n",
       "  'E01032262',\n",
       "  'E01032263',\n",
       "  'E01032264',\n",
       "  'E01032265',\n",
       "  'E01032266',\n",
       "  'E01032267',\n",
       "  'E01032268',\n",
       "  'E01032269',\n",
       "  'E01032270',\n",
       "  'E01032271',\n",
       "  'E01032272',\n",
       "  'E01032224',\n",
       "  'E01032273',\n",
       "  'E01032225',\n",
       "  'E01032226',\n",
       "  'E01032274',\n",
       "  'E01032227',\n",
       "  'E01032275',\n",
       "  'E01032276',\n",
       "  'E01032229',\n",
       "  'E01032277',\n",
       "  'E01032230',\n",
       "  'E01032278',\n",
       "  'E01032231',\n",
       "  'E01032232',\n",
       "  'E01032233',\n",
       "  'E01032234',\n",
       "  'E01032235',\n",
       "  'E01032236',\n",
       "  'E01032237',\n",
       "  'E01032238',\n",
       "  'E01032239',\n",
       "  'E01032240',\n",
       "  'E01032241',\n",
       "  'E01032242',\n",
       "  'E01032243',\n",
       "  'E01032244',\n",
       "  'E01032245',\n",
       "  'E01032246',\n",
       "  'E01032247',\n",
       "  'E01032248',\n",
       "  'E01032249',\n",
       "  'E01032250',\n",
       "  'E01032251',\n",
       "  'E01032252',\n",
       "  'E01032253',\n",
       "  'E01032254',\n",
       "  'E01032255',\n",
       "  'E01032256',\n",
       "  'E01032257',\n",
       "  'E01032258'],\n",
       " 'Rochdale': ['E01005563',\n",
       "  'E01005564',\n",
       "  'E01005565',\n",
       "  'E01005566',\n",
       "  'E01005568',\n",
       "  'E01005569',\n",
       "  'E01005570',\n",
       "  'E01005464',\n",
       "  'E01005571',\n",
       "  'E01005465',\n",
       "  'E01005572',\n",
       "  'E01005466',\n",
       "  'E01005573',\n",
       "  'E01005467',\n",
       "  'E01005574',\n",
       "  'E01005469',\n",
       "  'E01005575',\n",
       "  'E01005470',\n",
       "  'E01005576',\n",
       "  'E01005471',\n",
       "  'E01005577',\n",
       "  'E01005472',\n",
       "  'E01005578',\n",
       "  'E01005473',\n",
       "  'E01005579',\n",
       "  'E01005474',\n",
       "  'E01005580',\n",
       "  'E01005475',\n",
       "  'E01005581',\n",
       "  'E01005476',\n",
       "  'E01005583',\n",
       "  'E01005477',\n",
       "  'E01005585',\n",
       "  'E01005478',\n",
       "  'E01005479',\n",
       "  'E01005480',\n",
       "  'E01005481',\n",
       "  'E01005482',\n",
       "  'E01005483',\n",
       "  'E01005484',\n",
       "  'E01005485',\n",
       "  'E01005486',\n",
       "  'E01005487',\n",
       "  'E01005488',\n",
       "  'E01005489',\n",
       "  'E01005490',\n",
       "  'E01005491',\n",
       "  'E01005492',\n",
       "  'E01005493',\n",
       "  'E01005494',\n",
       "  'E01005495',\n",
       "  'E01005496',\n",
       "  'E01005586',\n",
       "  'E01005587',\n",
       "  'E01005588',\n",
       "  'E01005589',\n",
       "  'E01005590',\n",
       "  'E01005591',\n",
       "  'E01005592',\n",
       "  'E01005593',\n",
       "  'E01005594',\n",
       "  'E01005595',\n",
       "  'E01005596',\n",
       "  'E01005597',\n",
       "  'E01033258'],\n",
       " 'Rotherham': ['E01007765',\n",
       "  'E01007766',\n",
       "  'E01007767',\n",
       "  'E01007768',\n",
       "  'E01007769',\n",
       "  'E01007770',\n",
       "  'E01007708',\n",
       "  'E01007709',\n",
       "  'E01007710',\n",
       "  'E01007711',\n",
       "  'E01007712',\n",
       "  'E01007713',\n",
       "  'E01007675',\n",
       "  'E01007677',\n",
       "  'E01007678',\n",
       "  'E01007679',\n",
       "  'E01007680',\n",
       "  'E01007681',\n",
       "  'E01007682',\n",
       "  'E01007683',\n",
       "  'E01007684',\n",
       "  'E01007686',\n",
       "  'E01007687',\n",
       "  'E01007688',\n",
       "  'E01007689',\n",
       "  'E01007690',\n",
       "  'E01007691',\n",
       "  'E01007692',\n",
       "  'E01007714',\n",
       "  'E01007715',\n",
       "  'E01007716',\n",
       "  'E01007717',\n",
       "  'E01007718',\n",
       "  'E01007719',\n",
       "  'E01007720',\n",
       "  'E01007721',\n",
       "  'E01007723',\n",
       "  'E01007724',\n",
       "  'E01007725',\n",
       "  'E01007726',\n",
       "  'E01007727',\n",
       "  'E01007728',\n",
       "  'E01007729',\n",
       "  'E01007730',\n",
       "  'E01007731',\n",
       "  'E01007732',\n",
       "  'E01007733',\n",
       "  'E01007734',\n",
       "  'E01007735',\n",
       "  'E01007736',\n",
       "  'E01007737',\n",
       "  'E01007738',\n",
       "  'E01007739',\n",
       "  'E01007740',\n",
       "  'E01007741',\n",
       "  'E01007742',\n",
       "  'E01007743',\n",
       "  'E01007744',\n",
       "  'E01007745',\n",
       "  'E01007746',\n",
       "  'E01007801',\n",
       "  'E01007804',\n",
       "  'E01007805',\n",
       "  'E01007806',\n",
       "  'E01007807',\n",
       "  'E01007811',\n",
       "  'E01007812',\n",
       "  'E01007813',\n",
       "  'E01007814',\n",
       "  'E01032926',\n",
       "  'E01032927'],\n",
       " 'Salford': ['E01005656',\n",
       "  'E01005657',\n",
       "  'E01005658',\n",
       "  'E01005609',\n",
       "  'E01005610',\n",
       "  'E01005611',\n",
       "  'E01005612',\n",
       "  'E01005667',\n",
       "  'E01005680',\n",
       "  'E01005681',\n",
       "  'E01005682',\n",
       "  'E01005683',\n",
       "  'E01005719',\n",
       "  'E01005613',\n",
       "  'E01005720',\n",
       "  'E01005614',\n",
       "  'E01005721',\n",
       "  'E01005615',\n",
       "  'E01005722',\n",
       "  'E01005723',\n",
       "  'E01005724',\n",
       "  'E01005622',\n",
       "  'E01005623',\n",
       "  'E01005624',\n",
       "  'E01005625',\n",
       "  'E01005626',\n",
       "  'E01005627',\n",
       "  'E01005628',\n",
       "  'E01005629',\n",
       "  'E01005630',\n",
       "  'E01005646',\n",
       "  'E01005647',\n",
       "  'E01005648',\n",
       "  'E01005649',\n",
       "  'E01005650',\n",
       "  'E01005651',\n",
       "  'E01005652',\n",
       "  'E01005653',\n",
       "  'E01005654',\n",
       "  'E01005655',\n",
       "  'E01032906',\n",
       "  'E01032907',\n",
       "  'E01032909',\n",
       "  'E01032911',\n",
       "  'E01032912',\n",
       "  'E01032914',\n",
       "  'E01032915',\n",
       "  'E01032917',\n",
       "  'E01032919',\n",
       "  'E01033330',\n",
       "  'E01032684',\n",
       "  'E01032685',\n",
       "  'E01032686',\n",
       "  'E01032687'],\n",
       " 'Scunthorpe': ['E01013236',\n",
       "  'E01013237',\n",
       "  'E01013238',\n",
       "  'E01013239',\n",
       "  'E01013240',\n",
       "  'E01013310',\n",
       "  'E01013260',\n",
       "  'E01013311',\n",
       "  'E01013261',\n",
       "  'E01013312',\n",
       "  'E01013262',\n",
       "  'E01013263',\n",
       "  'E01013264',\n",
       "  'E01013265',\n",
       "  'E01013266',\n",
       "  'E01013278',\n",
       "  'E01013279',\n",
       "  'E01013280',\n",
       "  'E01013281',\n",
       "  'E01013282',\n",
       "  'E01013283',\n",
       "  'E01013284',\n",
       "  'E01013285',\n",
       "  'E01013286',\n",
       "  'E01013289',\n",
       "  'E01013295',\n",
       "  'E01013296',\n",
       "  'E01013297',\n",
       "  'E01013298',\n",
       "  'E01013299',\n",
       "  'E01013300',\n",
       "  'E01013301',\n",
       "  'E01013302',\n",
       "  'E01013313',\n",
       "  'E01013314',\n",
       "  'E01013315',\n",
       "  'E01013316',\n",
       "  'E01013317',\n",
       "  'E01013318',\n",
       "  'E01013319',\n",
       "  'E01013320',\n",
       "  'E01013321',\n",
       "  'E01013330',\n",
       "  'E01013331',\n",
       "  'E01013332',\n",
       "  'E01013333',\n",
       "  'E01013334',\n",
       "  'E01033296',\n",
       "  'E01033297'],\n",
       " 'Sheffield': ['E01007702',\n",
       "  'E01007703',\n",
       "  'E01007704',\n",
       "  'E01007705',\n",
       "  'E01007706',\n",
       "  'E01007707',\n",
       "  'E01007676',\n",
       "  'E01007956',\n",
       "  'E01007957',\n",
       "  'E01007958',\n",
       "  'E01007959',\n",
       "  'E01007960',\n",
       "  'E01007961',\n",
       "  'E01007962',\n",
       "  'E01008006',\n",
       "  'E01007963',\n",
       "  'E01007964',\n",
       "  'E01007965',\n",
       "  'E01008111',\n",
       "  'E01008057',\n",
       "  'E01008007',\n",
       "  'E01007853',\n",
       "  'E01007966',\n",
       "  'E01008112',\n",
       "  'E01008058',\n",
       "  'E01008008',\n",
       "  'E01007854',\n",
       "  'E01007967',\n",
       "  'E01008113',\n",
       "  'E01008059',\n",
       "  'E01008009',\n",
       "  'E01007855',\n",
       "  'E01007968',\n",
       "  'E01008114',\n",
       "  'E01008060',\n",
       "  'E01007823',\n",
       "  'E01007824',\n",
       "  'E01007825',\n",
       "  'E01007906',\n",
       "  'E01007826',\n",
       "  'E01007827',\n",
       "  'E01007828',\n",
       "  'E01007829',\n",
       "  'E01007830',\n",
       "  'E01007831',\n",
       "  'E01007832',\n",
       "  'E01007833',\n",
       "  'E01007834',\n",
       "  'E01007835',\n",
       "  'E01007836',\n",
       "  'E01007838',\n",
       "  'E01007839',\n",
       "  'E01007841',\n",
       "  'E01007842',\n",
       "  'E01007843',\n",
       "  'E01007846',\n",
       "  'E01007847',\n",
       "  'E01007848',\n",
       "  'E01007849',\n",
       "  'E01007850',\n",
       "  'E01007851',\n",
       "  'E01007852',\n",
       "  'E01008061',\n",
       "  'E01008062',\n",
       "  'E01008063',\n",
       "  'E01008064',\n",
       "  'E01008065',\n",
       "  'E01008066',\n",
       "  'E01008067',\n",
       "  'E01008068',\n",
       "  'E01008069',\n",
       "  'E01008072',\n",
       "  'E01008073',\n",
       "  'E01008074',\n",
       "  'E01008075',\n",
       "  'E01008076',\n",
       "  'E01008077',\n",
       "  'E01008078',\n",
       "  'E01008079',\n",
       "  'E01008080',\n",
       "  'E01008081',\n",
       "  'E01008082',\n",
       "  'E01008010',\n",
       "  'E01008083',\n",
       "  'E01008011',\n",
       "  'E01008084',\n",
       "  'E01008012',\n",
       "  'E01008013',\n",
       "  'E01008014',\n",
       "  'E01008015',\n",
       "  'E01008016',\n",
       "  'E01008017',\n",
       "  'E01008018',\n",
       "  'E01008019',\n",
       "  'E01008020',\n",
       "  'E01008021',\n",
       "  'E01008022',\n",
       "  'E01008023',\n",
       "  'E01008024',\n",
       "  'E01008025',\n",
       "  'E01008027',\n",
       "  'E01008028',\n",
       "  'E01008029',\n",
       "  'E01008030',\n",
       "  'E01008031',\n",
       "  'E01008032',\n",
       "  'E01008033',\n",
       "  'E01008034',\n",
       "  'E01008035',\n",
       "  'E01008036',\n",
       "  'E01008037',\n",
       "  'E01008038',\n",
       "  'E01008039',\n",
       "  'E01008040',\n",
       "  'E01008041',\n",
       "  'E01008042',\n",
       "  'E01008043',\n",
       "  'E01008044',\n",
       "  'E01008045',\n",
       "  'E01008046',\n",
       "  'E01008047',\n",
       "  'E01008048',\n",
       "  'E01008049',\n",
       "  'E01008050',\n",
       "  'E01008051',\n",
       "  'E01008052',\n",
       "  'E01008053',\n",
       "  'E01008054',\n",
       "  'E01008055',\n",
       "  'E01008056',\n",
       "  'E01007856',\n",
       "  'E01007907',\n",
       "  'E01007969',\n",
       "  'E01008115',\n",
       "  'E01008085',\n",
       "  'E01007970',\n",
       "  'E01007908',\n",
       "  'E01008116',\n",
       "  'E01008086',\n",
       "  'E01007857',\n",
       "  'E01007971',\n",
       "  'E01007909',\n",
       "  'E01008117',\n",
       "  'E01008087',\n",
       "  'E01007858',\n",
       "  'E01007972',\n",
       "  'E01007910',\n",
       "  'E01008118',\n",
       "  'E01008088',\n",
       "  'E01007859',\n",
       "  'E01007973',\n",
       "  'E01007911',\n",
       "  'E01008119',\n",
       "  'E01008089',\n",
       "  'E01008090',\n",
       "  'E01008091',\n",
       "  'E01008092',\n",
       "  'E01008093',\n",
       "  'E01008094',\n",
       "  'E01008095',\n",
       "  'E01008096',\n",
       "  'E01008097',\n",
       "  'E01008098',\n",
       "  'E01008099',\n",
       "  'E01008100',\n",
       "  'E01008101',\n",
       "  'E01008102',\n",
       "  'E01008103',\n",
       "  'E01008104',\n",
       "  'E01008105',\n",
       "  'E01008107',\n",
       "  'E01008108',\n",
       "  'E01008109',\n",
       "  'E01007860',\n",
       "  'E01007912',\n",
       "  'E01007861',\n",
       "  'E01008122',\n",
       "  'E01007913',\n",
       "  'E01007862',\n",
       "  'E01008123',\n",
       "  'E01007914',\n",
       "  'E01007863',\n",
       "  'E01008124',\n",
       "  'E01007915',\n",
       "  'E01007864',\n",
       "  'E01008125',\n",
       "  'E01007916',\n",
       "  'E01007865',\n",
       "  'E01007917',\n",
       "  'E01007866',\n",
       "  'E01007918',\n",
       "  'E01007867',\n",
       "  'E01007919',\n",
       "  'E01007868',\n",
       "  'E01008130',\n",
       "  'E01007920',\n",
       "  'E01007869',\n",
       "  'E01008131',\n",
       "  'E01007921',\n",
       "  'E01007870',\n",
       "  'E01008132',\n",
       "  'E01007922',\n",
       "  'E01007871',\n",
       "  'E01008133',\n",
       "  'E01007923',\n",
       "  'E01007872',\n",
       "  'E01008134',\n",
       "  'E01007924',\n",
       "  'E01007873',\n",
       "  'E01007874',\n",
       "  'E01007925',\n",
       "  'E01007875',\n",
       "  'E01008135',\n",
       "  'E01007926',\n",
       "  'E01008137',\n",
       "  'E01007877',\n",
       "  'E01007927',\n",
       "  'E01008138',\n",
       "  'E01007878',\n",
       "  'E01007928',\n",
       "  'E01008139',\n",
       "  'E01007879',\n",
       "  'E01007929',\n",
       "  'E01007881',\n",
       "  'E01007930',\n",
       "  'E01008141',\n",
       "  'E01007882',\n",
       "  'E01007931',\n",
       "  'E01007883',\n",
       "  'E01007932',\n",
       "  'E01007885',\n",
       "  'E01007933',\n",
       "  'E01007886',\n",
       "  'E01007934',\n",
       "  'E01007935',\n",
       "  'E01007936',\n",
       "  'E01007937',\n",
       "  'E01007938',\n",
       "  'E01007939',\n",
       "  'E01007940',\n",
       "  'E01008151',\n",
       "  'E01007941',\n",
       "  'E01008152',\n",
       "  'E01007942',\n",
       "  'E01007943',\n",
       "  'E01007944',\n",
       "  'E01007945',\n",
       "  'E01007946',\n",
       "  'E01007947',\n",
       "  'E01007948',\n",
       "  'E01007949',\n",
       "  'E01007950',\n",
       "  'E01007951',\n",
       "  'E01007952',\n",
       "  'E01007953',\n",
       "  'E01007954',\n",
       "  'E01007955',\n",
       "  'E01007902',\n",
       "  'E01007903',\n",
       "  'E01007904',\n",
       "  'E01007905',\n",
       "  'E01008153',\n",
       "  'E01008154',\n",
       "  'E01008155',\n",
       "  'E01008156',\n",
       "  'E01008157',\n",
       "  'E01008158',\n",
       "  'E01008159',\n",
       "  'E01008160',\n",
       "  'E01008161',\n",
       "  'E01007974',\n",
       "  'E01007975',\n",
       "  'E01007976',\n",
       "  'E01007977',\n",
       "  'E01007978',\n",
       "  'E01007979',\n",
       "  'E01007980',\n",
       "  'E01007981',\n",
       "  'E01007982',\n",
       "  'E01007983',\n",
       "  'E01007984',\n",
       "  'E01007985',\n",
       "  'E01007986',\n",
       "  'E01007987',\n",
       "  'E01007988',\n",
       "  'E01007989',\n",
       "  'E01007990',\n",
       "  'E01007991',\n",
       "  'E01007992',\n",
       "  'E01007993',\n",
       "  'E01007994',\n",
       "  'E01007995',\n",
       "  'E01007996',\n",
       "  'E01007997',\n",
       "  'E01007998',\n",
       "  'E01007999',\n",
       "  'E01008000',\n",
       "  'E01008001',\n",
       "  'E01008002',\n",
       "  'E01008003',\n",
       "  'E01008004',\n",
       "  'E01008005',\n",
       "  'E01033261',\n",
       "  'E01033262',\n",
       "  'E01033263',\n",
       "  'E01033264',\n",
       "  'E01033265',\n",
       "  'E01033266',\n",
       "  'E01033267',\n",
       "  'E01033268',\n",
       "  'E01033269',\n",
       "  'E01033270',\n",
       "  'E01033271',\n",
       "  'E01033272',\n",
       "  'E01033273',\n",
       "  'E01033274',\n",
       "  'E01033275',\n",
       "  'E01033276',\n",
       "  'E01033277',\n",
       "  'E01033278',\n",
       "  'E01033279',\n",
       "  'E01032585'],\n",
       " 'Shrewsbury': ['E01028940',\n",
       "  'E01028941',\n",
       "  'E01028942',\n",
       "  'E01028943',\n",
       "  'E01028944',\n",
       "  'E01028945',\n",
       "  'E01028946',\n",
       "  'E01028947',\n",
       "  'E01028948',\n",
       "  'E01028949',\n",
       "  'E01028951',\n",
       "  'E01028952',\n",
       "  'E01028953',\n",
       "  'E01028956',\n",
       "  'E01028957',\n",
       "  'E01028958',\n",
       "  'E01028962',\n",
       "  'E01028963',\n",
       "  'E01028964',\n",
       "  'E01028965',\n",
       "  'E01028966',\n",
       "  'E01028967',\n",
       "  'E01028968',\n",
       "  'E01028929',\n",
       "  'E01028930',\n",
       "  'E01028972',\n",
       "  'E01028931',\n",
       "  'E01028973',\n",
       "  'E01028932',\n",
       "  'E01028974',\n",
       "  'E01028933',\n",
       "  'E01028934',\n",
       "  'E01028938',\n",
       "  'E01028939',\n",
       "  'E01028981',\n",
       "  'E01028982',\n",
       "  'E01028983',\n",
       "  'E01028984',\n",
       "  'E01028985',\n",
       "  'E01028986',\n",
       "  'E01028987',\n",
       "  'E01028988',\n",
       "  'E01028989'],\n",
       " 'Slough': ['E01016480',\n",
       "  'E01016483',\n",
       "  'E01016484',\n",
       "  'E01016485',\n",
       "  'E01016486',\n",
       "  'E01016487',\n",
       "  'E01016488',\n",
       "  'E01016490',\n",
       "  'E01016491',\n",
       "  'E01016492',\n",
       "  'E01016493',\n",
       "  'E01016494',\n",
       "  'E01016495',\n",
       "  'E01016496',\n",
       "  'E01016497',\n",
       "  'E01016498',\n",
       "  'E01016499',\n",
       "  'E01016500',\n",
       "  'E01016501',\n",
       "  'E01016502',\n",
       "  'E01016503',\n",
       "  'E01016504',\n",
       "  'E01016505',\n",
       "  'E01016506',\n",
       "  'E01016507',\n",
       "  'E01016508',\n",
       "  'E01016509',\n",
       "  'E01016510',\n",
       "  'E01016511',\n",
       "  'E01016512',\n",
       "  'E01016513',\n",
       "  'E01016514',\n",
       "  'E01016515',\n",
       "  'E01016516',\n",
       "  'E01016517',\n",
       "  'E01016518',\n",
       "  'E01016519',\n",
       "  'E01016520',\n",
       "  'E01016521',\n",
       "  'E01016444',\n",
       "  'E01016445',\n",
       "  'E01016446',\n",
       "  'E01016447',\n",
       "  'E01016448',\n",
       "  'E01016449',\n",
       "  'E01016450',\n",
       "  'E01016451',\n",
       "  'E01016452',\n",
       "  'E01016453',\n",
       "  'E01016454',\n",
       "  'E01016455',\n",
       "  'E01016456',\n",
       "  'E01016457',\n",
       "  'E01016458',\n",
       "  'E01016459',\n",
       "  'E01016460',\n",
       "  'E01016461',\n",
       "  'E01016462',\n",
       "  'E01016463',\n",
       "  'E01016464',\n",
       "  'E01016465',\n",
       "  'E01016467',\n",
       "  'E01016468',\n",
       "  'E01016469',\n",
       "  'E01016470',\n",
       "  'E01016471',\n",
       "  'E01016472',\n",
       "  'E01016473',\n",
       "  'E01016474',\n",
       "  'E01016475',\n",
       "  'E01016476',\n",
       "  'E01016477',\n",
       "  'E01016478',\n",
       "  'E01016479',\n",
       "  'E01017803',\n",
       "  'E01017804',\n",
       "  'E01017805',\n",
       "  'E01017806',\n",
       "  'E01017807',\n",
       "  'E01017808',\n",
       "  'E01017809',\n",
       "  'E01032729',\n",
       "  'E01032730',\n",
       "  'E01032731',\n",
       "  'E01032732'],\n",
       " 'Solihull': ['E01010202',\n",
       "  'E01010115',\n",
       "  'E01010116',\n",
       "  'E01010132',\n",
       "  'E01010133',\n",
       "  'E01010134',\n",
       "  'E01010135',\n",
       "  'E01010136',\n",
       "  'E01010137',\n",
       "  'E01010138',\n",
       "  'E01010203',\n",
       "  'E01010204',\n",
       "  'E01010205',\n",
       "  'E01010206',\n",
       "  'E01010207',\n",
       "  'E01010208',\n",
       "  'E01010209',\n",
       "  'E01010210',\n",
       "  'E01010157',\n",
       "  'E01010211',\n",
       "  'E01010158',\n",
       "  'E01010212',\n",
       "  'E01010159',\n",
       "  'E01010213',\n",
       "  'E01010160',\n",
       "  'E01010214',\n",
       "  'E01010161',\n",
       "  'E01010215',\n",
       "  'E01010162',\n",
       "  'E01010163',\n",
       "  'E01010216',\n",
       "  'E01010217',\n",
       "  'E01010218',\n",
       "  'E01010219',\n",
       "  'E01010220',\n",
       "  'E01010221',\n",
       "  'E01010222',\n",
       "  'E01010172',\n",
       "  'E01010223',\n",
       "  'E01010225',\n",
       "  'E01010226',\n",
       "  'E01010227',\n",
       "  'E01010228',\n",
       "  'E01010229',\n",
       "  'E01010230',\n",
       "  'E01010231',\n",
       "  'E01010232',\n",
       "  'E01010233',\n",
       "  'E01010173',\n",
       "  'E01010174',\n",
       "  'E01010175',\n",
       "  'E01010176',\n",
       "  'E01010177',\n",
       "  'E01010178',\n",
       "  'E01010179',\n",
       "  'E01010190',\n",
       "  'E01010191',\n",
       "  'E01010192',\n",
       "  'E01010193',\n",
       "  'E01010194',\n",
       "  'E01010195',\n",
       "  'E01010196',\n",
       "  'E01010197',\n",
       "  'E01010198',\n",
       "  'E01010199',\n",
       "  'E01010200',\n",
       "  'E01010201',\n",
       "  'E01032590'],\n",
       " 'South Shields': ['E01008590',\n",
       "  'E01008591',\n",
       "  'E01008592',\n",
       "  'E01008593',\n",
       "  'E01008594',\n",
       "  'E01008595',\n",
       "  'E01008596',\n",
       "  'E01008597',\n",
       "  'E01008598',\n",
       "  'E01008599',\n",
       "  'E01008605',\n",
       "  'E01008606',\n",
       "  'E01008607',\n",
       "  'E01008608',\n",
       "  'E01008609',\n",
       "  'E01008622',\n",
       "  'E01008624',\n",
       "  'E01008625',\n",
       "  'E01008675',\n",
       "  'E01008676',\n",
       "  'E01008677',\n",
       "  'E01008678',\n",
       "  'E01008679',\n",
       "  'E01008680',\n",
       "  'E01008633',\n",
       "  'E01008681',\n",
       "  'E01008634',\n",
       "  'E01008682',\n",
       "  'E01008635',\n",
       "  'E01008683',\n",
       "  'E01008636',\n",
       "  'E01008637',\n",
       "  'E01008647',\n",
       "  'E01008648',\n",
       "  'E01008649',\n",
       "  'E01008650',\n",
       "  'E01008651',\n",
       "  'E01008664',\n",
       "  'E01008665',\n",
       "  'E01008666',\n",
       "  'E01008667',\n",
       "  'E01008668',\n",
       "  'E01008671',\n",
       "  'E01008673',\n",
       "  'E01008674',\n",
       "  'E01008684',\n",
       "  'E01008688',\n",
       "  'E01008689',\n",
       "  'E01008690',\n",
       "  'E01008691',\n",
       "  'E01008692',\n",
       "  'E01033074'],\n",
       " 'Southampton': ['E01017150',\n",
       "  'E01017151',\n",
       "  'E01017253',\n",
       "  'E01017152',\n",
       "  'E01017201',\n",
       "  'E01017254',\n",
       "  'E01017153',\n",
       "  'E01017202',\n",
       "  'E01017255',\n",
       "  'E01017154',\n",
       "  'E01017203',\n",
       "  'E01017256',\n",
       "  'E01017155',\n",
       "  'E01017204',\n",
       "  'E01017257',\n",
       "  'E01017156',\n",
       "  'E01017205',\n",
       "  'E01017258',\n",
       "  'E01017157',\n",
       "  'E01017206',\n",
       "  'E01017259',\n",
       "  'E01017158',\n",
       "  'E01017207',\n",
       "  'E01017260',\n",
       "  'E01017159',\n",
       "  'E01017208',\n",
       "  'E01017261',\n",
       "  'E01017160',\n",
       "  'E01017162',\n",
       "  'E01017163',\n",
       "  'E01017164',\n",
       "  'E01017165',\n",
       "  'E01017166',\n",
       "  'E01017167',\n",
       "  'E01017168',\n",
       "  'E01017169',\n",
       "  'E01017170',\n",
       "  'E01017171',\n",
       "  'E01017172',\n",
       "  'E01017173',\n",
       "  'E01017174',\n",
       "  'E01017175',\n",
       "  'E01017176',\n",
       "  'E01017177',\n",
       "  'E01017178',\n",
       "  'E01017179',\n",
       "  'E01017180',\n",
       "  'E01017181',\n",
       "  'E01017182',\n",
       "  'E01017183',\n",
       "  'E01017184',\n",
       "  'E01017185',\n",
       "  'E01017186',\n",
       "  'E01017187',\n",
       "  'E01017188',\n",
       "  'E01017189',\n",
       "  'E01017190',\n",
       "  'E01017191',\n",
       "  'E01017192',\n",
       "  'E01017193',\n",
       "  'E01017194',\n",
       "  'E01017195',\n",
       "  'E01017196',\n",
       "  'E01017197',\n",
       "  'E01017198',\n",
       "  'E01017199',\n",
       "  'E01017200',\n",
       "  'E01017262',\n",
       "  'E01017263',\n",
       "  'E01017209',\n",
       "  'E01017264',\n",
       "  'E01017210',\n",
       "  'E01017265',\n",
       "  'E01017211',\n",
       "  'E01017212',\n",
       "  'E01017213',\n",
       "  'E01017214',\n",
       "  'E01017215',\n",
       "  'E01017216',\n",
       "  'E01017217',\n",
       "  'E01017218',\n",
       "  'E01017219',\n",
       "  'E01017220',\n",
       "  'E01017221',\n",
       "  'E01017222',\n",
       "  'E01017223',\n",
       "  'E01017224',\n",
       "  'E01017225',\n",
       "  'E01017226',\n",
       "  'E01017227',\n",
       "  'E01017228',\n",
       "  'E01017231',\n",
       "  'E01017232',\n",
       "  'E01017233',\n",
       "  'E01017234',\n",
       "  'E01017235',\n",
       "  'E01017236',\n",
       "  'E01017237',\n",
       "  'E01017238',\n",
       "  'E01017239',\n",
       "  'E01017240',\n",
       "  'E01017241',\n",
       "  'E01017242',\n",
       "  'E01017243',\n",
       "  'E01017244',\n",
       "  'E01017245',\n",
       "  'E01017246',\n",
       "  'E01017247',\n",
       "  'E01017248',\n",
       "  'E01017249',\n",
       "  'E01017250',\n",
       "  'E01017251',\n",
       "  'E01017252',\n",
       "  'E01017266',\n",
       "  'E01017267',\n",
       "  'E01017270',\n",
       "  'E01017271',\n",
       "  'E01017272',\n",
       "  'E01017273',\n",
       "  'E01017274',\n",
       "  'E01017275',\n",
       "  'E01017276',\n",
       "  'E01017277',\n",
       "  'E01017278',\n",
       "  'E01017279',\n",
       "  'E01017280',\n",
       "  'E01017281',\n",
       "  'E01017136',\n",
       "  'E01017137',\n",
       "  'E01017138',\n",
       "  'E01017139',\n",
       "  'E01017140',\n",
       "  'E01017142',\n",
       "  'E01017144',\n",
       "  'E01017145',\n",
       "  'E01017146',\n",
       "  'E01017147',\n",
       "  'E01017148',\n",
       "  'E01017149',\n",
       "  'E01022713',\n",
       "  'E01022714',\n",
       "  'E01022715',\n",
       "  'E01022716',\n",
       "  'E01022717',\n",
       "  'E01022718',\n",
       "  'E01022719',\n",
       "  'E01023170',\n",
       "  'E01023171',\n",
       "  'E01023172',\n",
       "  'E01023173',\n",
       "  'E01032738',\n",
       "  'E01032745',\n",
       "  'E01032746',\n",
       "  'E01032748',\n",
       "  'E01032750',\n",
       "  'E01032751',\n",
       "  'E01032753',\n",
       "  'E01032755',\n",
       "  'E01032756'],\n",
       " 'Southend-on-Sea': ['E01015868',\n",
       "  'E01015869',\n",
       "  'E01015870',\n",
       "  'E01015871',\n",
       "  'E01015818',\n",
       "  'E01015918',\n",
       "  'E01015872',\n",
       "  'E01015819',\n",
       "  'E01015919',\n",
       "  'E01015820',\n",
       "  'E01015873',\n",
       "  'E01015920',\n",
       "  'E01015821',\n",
       "  'E01015874',\n",
       "  'E01015822',\n",
       "  'E01015875',\n",
       "  'E01015823',\n",
       "  'E01015824',\n",
       "  'E01015876',\n",
       "  'E01015825',\n",
       "  'E01015877',\n",
       "  'E01015826',\n",
       "  'E01015878',\n",
       "  'E01015827',\n",
       "  'E01015879',\n",
       "  'E01015828',\n",
       "  'E01015880',\n",
       "  'E01015829',\n",
       "  'E01015881',\n",
       "  'E01015830',\n",
       "  'E01015882',\n",
       "  'E01015831',\n",
       "  'E01015883',\n",
       "  'E01015832',\n",
       "  'E01015884',\n",
       "  'E01015833',\n",
       "  'E01015885',\n",
       "  'E01015834',\n",
       "  'E01015835',\n",
       "  'E01015886',\n",
       "  'E01015887',\n",
       "  'E01015836',\n",
       "  'E01015888',\n",
       "  'E01015837',\n",
       "  'E01015889',\n",
       "  'E01015838',\n",
       "  'E01015890',\n",
       "  'E01015839',\n",
       "  'E01015891',\n",
       "  'E01015840',\n",
       "  'E01015892',\n",
       "  'E01015841',\n",
       "  'E01015893',\n",
       "  'E01015842',\n",
       "  'E01015894',\n",
       "  'E01015843',\n",
       "  'E01015895',\n",
       "  'E01015844',\n",
       "  'E01015845',\n",
       "  'E01015846',\n",
       "  'E01015896',\n",
       "  'E01015847',\n",
       "  'E01015897',\n",
       "  'E01015848',\n",
       "  'E01015898',\n",
       "  'E01015849',\n",
       "  'E01015899',\n",
       "  'E01015850',\n",
       "  'E01015900',\n",
       "  'E01015851',\n",
       "  'E01015901',\n",
       "  'E01015852',\n",
       "  'E01015902',\n",
       "  'E01015853',\n",
       "  'E01015903',\n",
       "  'E01015854',\n",
       "  'E01015855',\n",
       "  'E01015856',\n",
       "  'E01015904',\n",
       "  'E01015857',\n",
       "  'E01015905',\n",
       "  'E01015858',\n",
       "  'E01015906',\n",
       "  'E01015859',\n",
       "  'E01015907',\n",
       "  'E01015860',\n",
       "  'E01015908',\n",
       "  'E01015861',\n",
       "  'E01015909',\n",
       "  'E01015862',\n",
       "  'E01015910',\n",
       "  'E01015863',\n",
       "  'E01015911',\n",
       "  'E01015864',\n",
       "  'E01015912',\n",
       "  'E01015865',\n",
       "  'E01015913',\n",
       "  'E01015866',\n",
       "  'E01015914',\n",
       "  'E01015915',\n",
       "  'E01015867',\n",
       "  'E01015916',\n",
       "  'E01015814',\n",
       "  'E01015917',\n",
       "  'E01015815',\n",
       "  'E01015816',\n",
       "  'E01015817'],\n",
       " 'Southport': ['E01006944',\n",
       "  'E01006945',\n",
       "  'E01006946',\n",
       "  'E01006947',\n",
       "  'E01006948',\n",
       "  'E01006949',\n",
       "  'E01006950',\n",
       "  'E01006951',\n",
       "  'E01006920',\n",
       "  'E01006921',\n",
       "  'E01006922',\n",
       "  'E01006923',\n",
       "  'E01006924',\n",
       "  'E01006925',\n",
       "  'E01006926',\n",
       "  'E01006927',\n",
       "  'E01006928',\n",
       "  'E01006929',\n",
       "  'E01006930',\n",
       "  'E01006931',\n",
       "  'E01006932',\n",
       "  'E01006933',\n",
       "  'E01006934',\n",
       "  'E01006935',\n",
       "  'E01006968',\n",
       "  'E01006969',\n",
       "  'E01006970',\n",
       "  'E01006971',\n",
       "  'E01006972',\n",
       "  'E01006973',\n",
       "  'E01006974',\n",
       "  'E01006994',\n",
       "  'E01006995',\n",
       "  'E01006996',\n",
       "  'E01006997',\n",
       "  'E01006998',\n",
       "  'E01006999',\n",
       "  'E01007000',\n",
       "  'E01007001',\n",
       "  'E01007002',\n",
       "  'E01007028',\n",
       "  'E01007029',\n",
       "  'E01007030',\n",
       "  'E01007031',\n",
       "  'E01007032',\n",
       "  'E01007033',\n",
       "  'E01007034',\n",
       "  'E01007035',\n",
       "  'E01007036',\n",
       "  'E01007055',\n",
       "  'E01007056',\n",
       "  'E01007057',\n",
       "  'E01007058',\n",
       "  'E01007059',\n",
       "  'E01007060',\n",
       "  'E01007061',\n",
       "  'E01007062',\n",
       "  'E01007063',\n",
       "  'E01007064',\n",
       "  'E01033094',\n",
       "  'E01033097'],\n",
       " 'St Albans': ['E01023734',\n",
       "  'E01023735',\n",
       "  'E01023736',\n",
       "  'E01023737',\n",
       "  'E01023738',\n",
       "  'E01023739',\n",
       "  'E01023740',\n",
       "  'E01023741',\n",
       "  'E01023742',\n",
       "  'E01023743',\n",
       "  'E01023744',\n",
       "  'E01023745',\n",
       "  'E01023681',\n",
       "  'E01023682',\n",
       "  'E01023683',\n",
       "  'E01023684',\n",
       "  'E01023664',\n",
       "  'E01023665',\n",
       "  'E01023666',\n",
       "  'E01023667',\n",
       "  'E01023668',\n",
       "  'E01023669',\n",
       "  'E01023670',\n",
       "  'E01023671',\n",
       "  'E01023672',\n",
       "  'E01023673',\n",
       "  'E01023674',\n",
       "  'E01023675',\n",
       "  'E01023676',\n",
       "  'E01023677',\n",
       "  'E01023678',\n",
       "  'E01023704',\n",
       "  'E01023705',\n",
       "  'E01023706',\n",
       "  'E01023708',\n",
       "  'E01023709',\n",
       "  'E01023710',\n",
       "  'E01023711',\n",
       "  'E01023712',\n",
       "  'E01023713',\n",
       "  'E01023714',\n",
       "  'E01023715',\n",
       "  'E01023716',\n",
       "  'E01023726',\n",
       "  'E01023727',\n",
       "  'E01023728',\n",
       "  'E01023729',\n",
       "  'E01033028',\n",
       "  'E01033029'],\n",
       " 'St Helens': ['E01006896',\n",
       "  'E01006897',\n",
       "  'E01006898',\n",
       "  'E01006899',\n",
       "  'E01006900',\n",
       "  'E01006901',\n",
       "  'E01006835',\n",
       "  'E01006903',\n",
       "  'E01006904',\n",
       "  'E01006905',\n",
       "  'E01006906',\n",
       "  'E01006907',\n",
       "  'E01006908',\n",
       "  'E01006909',\n",
       "  'E01006844',\n",
       "  'E01006910',\n",
       "  'E01006845',\n",
       "  'E01006911',\n",
       "  'E01006846',\n",
       "  'E01006912',\n",
       "  'E01006847',\n",
       "  'E01006913',\n",
       "  'E01006848',\n",
       "  'E01006914',\n",
       "  'E01006849',\n",
       "  'E01006915',\n",
       "  'E01006850',\n",
       "  'E01006916',\n",
       "  'E01006851',\n",
       "  'E01006852',\n",
       "  'E01006917',\n",
       "  'E01006853',\n",
       "  'E01006918',\n",
       "  'E01006854',\n",
       "  'E01006919',\n",
       "  'E01006855',\n",
       "  'E01006810',\n",
       "  'E01006811',\n",
       "  'E01006812',\n",
       "  'E01006814',\n",
       "  'E01006815',\n",
       "  'E01006816',\n",
       "  'E01006817',\n",
       "  'E01006820',\n",
       "  'E01006821',\n",
       "  'E01006822',\n",
       "  'E01006823',\n",
       "  'E01006870',\n",
       "  'E01006824',\n",
       "  'E01006871',\n",
       "  'E01006825',\n",
       "  'E01006872',\n",
       "  'E01006826',\n",
       "  'E01006873',\n",
       "  'E01006827',\n",
       "  'E01006874',\n",
       "  'E01006875',\n",
       "  'E01006829',\n",
       "  'E01006876',\n",
       "  'E01006830',\n",
       "  'E01006877',\n",
       "  'E01006831',\n",
       "  'E01006832',\n",
       "  'E01006833',\n",
       "  'E01006834',\n",
       "  'E01006878',\n",
       "  'E01006879',\n",
       "  'E01006880',\n",
       "  'E01006881',\n",
       "  'E01032904',\n",
       "  'E01032905'],\n",
       " 'Stevenage': ['E01023780',\n",
       "  'E01023781',\n",
       "  'E01023782',\n",
       "  'E01023783',\n",
       "  'E01023784',\n",
       "  'E01023785',\n",
       "  'E01023786',\n",
       "  'E01023787',\n",
       "  'E01023788',\n",
       "  'E01023789',\n",
       "  'E01023790',\n",
       "  'E01023791',\n",
       "  'E01023792',\n",
       "  'E01023793',\n",
       "  'E01023794',\n",
       "  'E01023795',\n",
       "  'E01023796',\n",
       "  'E01023797',\n",
       "  'E01023798',\n",
       "  'E01023799',\n",
       "  'E01023800',\n",
       "  'E01023801',\n",
       "  'E01023750',\n",
       "  'E01023751',\n",
       "  'E01023752',\n",
       "  'E01023753',\n",
       "  'E01023754',\n",
       "  'E01023755',\n",
       "  'E01023756',\n",
       "  'E01023757',\n",
       "  'E01023758',\n",
       "  'E01023759',\n",
       "  'E01023760',\n",
       "  'E01023761',\n",
       "  'E01023762',\n",
       "  'E01023763',\n",
       "  'E01023764',\n",
       "  'E01023765',\n",
       "  'E01023766',\n",
       "  'E01023767',\n",
       "  'E01023768',\n",
       "  'E01023769',\n",
       "  'E01023770',\n",
       "  'E01023771',\n",
       "  'E01023772',\n",
       "  'E01023773',\n",
       "  'E01023774',\n",
       "  'E01023775',\n",
       "  'E01023776',\n",
       "  'E01023777',\n",
       "  'E01023778',\n",
       "  'E01023779',\n",
       "  'E01033024',\n",
       "  'E01033025',\n",
       "  'E01033026',\n",
       "  'E01033027'],\n",
       " 'Stockport': ['E01005757',\n",
       "  'E01005758',\n",
       "  'E01005759',\n",
       "  'E01005760',\n",
       "  'E01005816',\n",
       "  'E01005817',\n",
       "  'E01005818',\n",
       "  'E01005819',\n",
       "  'E01005820',\n",
       "  'E01005821',\n",
       "  'E01005822',\n",
       "  'E01005823',\n",
       "  'E01005824',\n",
       "  'E01005825',\n",
       "  'E01005826',\n",
       "  'E01005827',\n",
       "  'E01005828',\n",
       "  'E01005829',\n",
       "  'E01005861',\n",
       "  'E01005830',\n",
       "  'E01005916',\n",
       "  'E01005862',\n",
       "  'E01005831',\n",
       "  'E01005917',\n",
       "  'E01005863',\n",
       "  'E01005832',\n",
       "  'E01005918',\n",
       "  'E01005864',\n",
       "  'E01005833',\n",
       "  'E01005919',\n",
       "  'E01005865',\n",
       "  'E01005920',\n",
       "  'E01005866',\n",
       "  'E01005835',\n",
       "  'E01005837',\n",
       "  'E01005843',\n",
       "  'E01005852',\n",
       "  'E01005853',\n",
       "  'E01005854',\n",
       "  'E01005855',\n",
       "  'E01005856',\n",
       "  'E01005857',\n",
       "  'E01005858',\n",
       "  'E01005859',\n",
       "  'E01005860',\n",
       "  'E01005761',\n",
       "  'E01005867',\n",
       "  'E01005868',\n",
       "  'E01005869',\n",
       "  'E01005870',\n",
       "  'E01005871',\n",
       "  'E01005872',\n",
       "  'E01005873',\n",
       "  'E01005874',\n",
       "  'E01005875',\n",
       "  'E01005876',\n",
       "  'E01005877',\n",
       "  'E01005762',\n",
       "  'E01005763',\n",
       "  'E01005764',\n",
       "  'E01005765',\n",
       "  'E01005766',\n",
       "  'E01005797',\n",
       "  'E01005798',\n",
       "  'E01005799',\n",
       "  'E01005800',\n",
       "  'E01005801',\n",
       "  'E01005802',\n",
       "  'E01005803',\n",
       "  'E01005804'],\n",
       " 'Stockton-on-Tees': ['E01012247',\n",
       "  'E01012248',\n",
       "  'E01012249',\n",
       "  'E01012250',\n",
       "  'E01012251',\n",
       "  'E01012252',\n",
       "  'E01012253',\n",
       "  'E01012254',\n",
       "  'E01012258',\n",
       "  'E01012259',\n",
       "  'E01012260',\n",
       "  'E01012261',\n",
       "  'E01012262',\n",
       "  'E01012264',\n",
       "  'E01012266',\n",
       "  'E01012267',\n",
       "  'E01012268',\n",
       "  'E01012271',\n",
       "  'E01012272',\n",
       "  'E01012273',\n",
       "  'E01012274',\n",
       "  'E01012187',\n",
       "  'E01012188',\n",
       "  'E01012189',\n",
       "  'E01012190',\n",
       "  'E01012191',\n",
       "  'E01012192',\n",
       "  'E01012193',\n",
       "  'E01012194',\n",
       "  'E01012195',\n",
       "  'E01012204',\n",
       "  'E01012205',\n",
       "  'E01012206',\n",
       "  'E01012207',\n",
       "  'E01012208',\n",
       "  'E01012209',\n",
       "  'E01012210',\n",
       "  'E01012211',\n",
       "  'E01012212',\n",
       "  'E01012213',\n",
       "  'E01012217',\n",
       "  'E01012218',\n",
       "  'E01012219',\n",
       "  'E01012223',\n",
       "  'E01012224',\n",
       "  'E01012225',\n",
       "  'E01012226',\n",
       "  'E01033477',\n",
       "  'E01032542',\n",
       "  'E01032543',\n",
       "  'E01032544'],\n",
       " 'Stoke-on-Trent': ['E01014280',\n",
       "  'E01014281',\n",
       "  'E01014282',\n",
       "  'E01014283',\n",
       "  'E01014284',\n",
       "  'E01014285',\n",
       "  'E01014330',\n",
       "  'E01014229',\n",
       "  'E01014230',\n",
       "  'E01014331',\n",
       "  'E01014231',\n",
       "  'E01014286',\n",
       "  'E01014332',\n",
       "  'E01014233',\n",
       "  'E01014287',\n",
       "  'E01014333',\n",
       "  'E01014234',\n",
       "  'E01014288',\n",
       "  'E01014334',\n",
       "  'E01014289',\n",
       "  'E01014335',\n",
       "  'E01014235',\n",
       "  'E01014290',\n",
       "  'E01014336',\n",
       "  'E01014236',\n",
       "  'E01014291',\n",
       "  'E01014337',\n",
       "  'E01014237',\n",
       "  'E01014292',\n",
       "  'E01014338',\n",
       "  'E01014238',\n",
       "  'E01014293',\n",
       "  'E01014339',\n",
       "  'E01014239',\n",
       "  'E01014294',\n",
       "  'E01014340',\n",
       "  'E01014240',\n",
       "  'E01014295',\n",
       "  'E01014341',\n",
       "  'E01014241',\n",
       "  'E01014296',\n",
       "  'E01014342',\n",
       "  'E01014242',\n",
       "  'E01014297',\n",
       "  'E01014343',\n",
       "  'E01014243',\n",
       "  'E01014244',\n",
       "  'E01014245',\n",
       "  'E01014246',\n",
       "  'E01014247',\n",
       "  'E01014248',\n",
       "  'E01014249',\n",
       "  'E01014250',\n",
       "  'E01014251',\n",
       "  'E01014252',\n",
       "  'E01014253',\n",
       "  'E01014254',\n",
       "  'E01014255',\n",
       "  'E01014256',\n",
       "  'E01014257',\n",
       "  'E01014258',\n",
       "  'E01014259',\n",
       "  'E01014260',\n",
       "  'E01014261',\n",
       "  'E01014262',\n",
       "  'E01014263',\n",
       "  'E01014264',\n",
       "  'E01014265',\n",
       "  'E01014266',\n",
       "  'E01014267',\n",
       "  'E01014268',\n",
       "  'E01014269',\n",
       "  'E01014270',\n",
       "  'E01014271',\n",
       "  'E01014272',\n",
       "  'E01014273',\n",
       "  'E01014274',\n",
       "  'E01014275',\n",
       "  'E01014276',\n",
       "  'E01014277',\n",
       "  'E01014278',\n",
       "  'E01014279',\n",
       "  'E01014298',\n",
       "  'E01014344',\n",
       "  'E01014299',\n",
       "  'E01014345',\n",
       "  'E01014300',\n",
       "  'E01014346',\n",
       "  'E01014301',\n",
       "  'E01014347',\n",
       "  'E01014302',\n",
       "  'E01014348',\n",
       "  'E01014303',\n",
       "  'E01014349',\n",
       "  'E01014304',\n",
       "  'E01014350',\n",
       "  'E01014305',\n",
       "  'E01014351',\n",
       "  'E01014306',\n",
       "  'E01014352',\n",
       "  'E01014307',\n",
       "  'E01014353',\n",
       "  'E01014308',\n",
       "  'E01014354',\n",
       "  'E01014309',\n",
       "  'E01014355',\n",
       "  'E01014310',\n",
       "  'E01014356',\n",
       "  'E01014311',\n",
       "  'E01014357',\n",
       "  'E01014312',\n",
       "  'E01014313',\n",
       "  'E01014210',\n",
       "  'E01014358',\n",
       "  'E01014314',\n",
       "  'E01014359',\n",
       "  'E01014211',\n",
       "  'E01014315',\n",
       "  'E01014360',\n",
       "  'E01014212',\n",
       "  'E01014316',\n",
       "  'E01014361',\n",
       "  'E01014213',\n",
       "  'E01014317',\n",
       "  'E01014362',\n",
       "  'E01014214',\n",
       "  'E01014318',\n",
       "  'E01014363',\n",
       "  'E01014215',\n",
       "  'E01014319',\n",
       "  'E01014364',\n",
       "  'E01014216',\n",
       "  'E01014320',\n",
       "  'E01014365',\n",
       "  'E01014217',\n",
       "  'E01014321',\n",
       "  'E01014366',\n",
       "  'E01014218',\n",
       "  'E01014322',\n",
       "  'E01014367',\n",
       "  'E01014219',\n",
       "  'E01014220',\n",
       "  'E01014221',\n",
       "  'E01014222',\n",
       "  'E01014223',\n",
       "  'E01014224',\n",
       "  'E01014225',\n",
       "  'E01014226',\n",
       "  'E01014228',\n",
       "  'E01014323',\n",
       "  'E01014324',\n",
       "  'E01014325',\n",
       "  'E01014326',\n",
       "  'E01014368',\n",
       "  'E01014327',\n",
       "  'E01014369',\n",
       "  'E01014328',\n",
       "  'E01014329',\n",
       "  'E01033216',\n",
       "  'E01029818',\n",
       "  'E01029819',\n",
       "  'E01029702',\n",
       "  'E01029704',\n",
       "  'E01029705',\n",
       "  'E01029775',\n",
       "  'E01029776',\n",
       "  'E01029777',\n",
       "  'E01029779',\n",
       "  'E01029780',\n",
       "  'E01029798',\n",
       "  'E01029799',\n",
       "  'E01029800'],\n",
       " 'Sunderland': ['E01008776',\n",
       "  'E01008777',\n",
       "  'E01008778',\n",
       "  'E01008779',\n",
       "  'E01008780',\n",
       "  'E01008781',\n",
       "  'E01008782',\n",
       "  'E01008783',\n",
       "  'E01008784',\n",
       "  'E01008785',\n",
       "  'E01008786',\n",
       "  'E01008787',\n",
       "  'E01008788',\n",
       "  'E01008789',\n",
       "  'E01008790',\n",
       "  'E01008791',\n",
       "  'E01008792',\n",
       "  'E01008693',\n",
       "  'E01008802',\n",
       "  'E01008694',\n",
       "  'E01008803',\n",
       "  'E01008695',\n",
       "  'E01008804',\n",
       "  'E01008696',\n",
       "  'E01008805',\n",
       "  'E01008697',\n",
       "  'E01008808',\n",
       "  'E01008698',\n",
       "  'E01008809',\n",
       "  'E01008699',\n",
       "  'E01008810',\n",
       "  'E01008811',\n",
       "  'E01008812',\n",
       "  'E01008813',\n",
       "  'E01008814',\n",
       "  'E01008817',\n",
       "  'E01008700',\n",
       "  'E01008819',\n",
       "  'E01008701',\n",
       "  'E01008820',\n",
       "  'E01008702',\n",
       "  'E01008821',\n",
       "  'E01008703',\n",
       "  'E01008822',\n",
       "  'E01008704',\n",
       "  'E01008823',\n",
       "  'E01008705',\n",
       "  'E01008824',\n",
       "  'E01008833',\n",
       "  'E01008726',\n",
       "  'E01008727',\n",
       "  'E01008728',\n",
       "  'E01008729',\n",
       "  'E01008730',\n",
       "  'E01008731',\n",
       "  'E01008706',\n",
       "  'E01008825',\n",
       "  'E01008732',\n",
       "  'E01008834',\n",
       "  'E01008707',\n",
       "  'E01008826',\n",
       "  'E01008733',\n",
       "  'E01008835',\n",
       "  'E01008708',\n",
       "  'E01008827',\n",
       "  'E01008734',\n",
       "  'E01008836',\n",
       "  'E01008709',\n",
       "  'E01008828',\n",
       "  'E01008735',\n",
       "  'E01008837',\n",
       "  'E01008711',\n",
       "  'E01008829',\n",
       "  'E01008736',\n",
       "  'E01008838',\n",
       "  'E01008712',\n",
       "  'E01008830',\n",
       "  'E01008737',\n",
       "  'E01008839',\n",
       "  'E01008713',\n",
       "  'E01008831',\n",
       "  'E01008738',\n",
       "  'E01008840',\n",
       "  'E01008832',\n",
       "  'E01008739',\n",
       "  'E01008841',\n",
       "  'E01008740',\n",
       "  'E01008842',\n",
       "  'E01008741',\n",
       "  'E01008722',\n",
       "  'E01008723',\n",
       "  'E01008724',\n",
       "  'E01008725',\n",
       "  'E01008756',\n",
       "  'E01008757',\n",
       "  'E01008758',\n",
       "  'E01008759',\n",
       "  'E01008760',\n",
       "  'E01008761',\n",
       "  'E01008762',\n",
       "  'E01008763',\n",
       "  'E01008764',\n",
       "  'E01008765',\n",
       "  'E01008766',\n",
       "  'E01008767',\n",
       "  'E01008768',\n",
       "  'E01008769',\n",
       "  'E01008770',\n",
       "  'E01008771',\n",
       "  'E01008772',\n",
       "  'E01008773',\n",
       "  'E01008774',\n",
       "  'E01008775',\n",
       "  'E01033075',\n",
       "  'E01033076',\n",
       "  'E01033077'],\n",
       " 'Sutton Coldfield': ['E01010384',\n",
       "  'E01010385',\n",
       "  'E01010386',\n",
       "  'E01010387',\n",
       "  'E01010388',\n",
       "  'E01010389',\n",
       "  'E01010390',\n",
       "  'E01010391',\n",
       "  'E01010392',\n",
       "  'E01009430',\n",
       "  'E01009431',\n",
       "  'E01009432',\n",
       "  'E01009433',\n",
       "  'E01009434',\n",
       "  'E01009435',\n",
       "  'E01009436',\n",
       "  'E01009437',\n",
       "  'E01009438',\n",
       "  'E01009440',\n",
       "  'E01009442',\n",
       "  'E01009443',\n",
       "  'E01009444',\n",
       "  'E01009445',\n",
       "  'E01009446',\n",
       "  'E01009447',\n",
       "  'E01009448',\n",
       "  'E01009449',\n",
       "  'E01009450',\n",
       "  'E01009451',\n",
       "  'E01009452',\n",
       "  'E01009453',\n",
       "  'E01009454',\n",
       "  'E01009455',\n",
       "  'E01009456',\n",
       "  'E01009457',\n",
       "  'E01009458',\n",
       "  'E01009459',\n",
       "  'E01009460',\n",
       "  'E01009461',\n",
       "  'E01009462',\n",
       "  'E01009463',\n",
       "  'E01009464',\n",
       "  'E01009465',\n",
       "  'E01009466',\n",
       "  'E01009467',\n",
       "  'E01009468',\n",
       "  'E01009469',\n",
       "  'E01009470',\n",
       "  'E01009471',\n",
       "  'E01009472',\n",
       "  'E01009473',\n",
       "  'E01009474',\n",
       "  'E01009415',\n",
       "  'E01009416',\n",
       "  'E01009417',\n",
       "  'E01009418',\n",
       "  'E01009419',\n",
       "  'E01009420',\n",
       "  'E01009421',\n",
       "  'E01009422',\n",
       "  'E01009423',\n",
       "  'E01009424',\n",
       "  'E01009425',\n",
       "  'E01009426',\n",
       "  'E01009427',\n",
       "  'E01009428',\n",
       "  'E01009429',\n",
       "  'E01029513',\n",
       "  'E01029514'],\n",
       " 'Swansea': ['W01001938',\n",
       "  'W01001955',\n",
       "  'W01001956',\n",
       "  'W01001957',\n",
       "  'W01001958',\n",
       "  'W01000738',\n",
       "  'W01000739',\n",
       "  'W01000740',\n",
       "  'W01000741',\n",
       "  'W01000742',\n",
       "  'W01000744',\n",
       "  'W01000745',\n",
       "  'W01000746',\n",
       "  'W01000747',\n",
       "  'W01000749',\n",
       "  'W01000750',\n",
       "  'W01000751',\n",
       "  'W01000752',\n",
       "  'W01000753',\n",
       "  'W01000754',\n",
       "  'W01000755',\n",
       "  'W01000757',\n",
       "  'W01000758',\n",
       "  'W01000760',\n",
       "  'W01000761',\n",
       "  'W01000762',\n",
       "  'W01000763',\n",
       "  'W01000764',\n",
       "  'W01000765',\n",
       "  'W01000766',\n",
       "  'W01000767',\n",
       "  'W01000768',\n",
       "  'W01000769',\n",
       "  'W01000770',\n",
       "  'W01000781',\n",
       "  'W01000782',\n",
       "  'W01000787',\n",
       "  'W01000788',\n",
       "  'W01000789',\n",
       "  'W01000790',\n",
       "  'W01000791',\n",
       "  'W01000794',\n",
       "  'W01000795',\n",
       "  'W01000796',\n",
       "  'W01000797',\n",
       "  'W01000798',\n",
       "  'W01000799',\n",
       "  'W01000849',\n",
       "  'W01000801',\n",
       "  'W01000804',\n",
       "  'W01000805',\n",
       "  'W01000806',\n",
       "  'W01000807',\n",
       "  'W01000808',\n",
       "  'W01000809',\n",
       "  'W01000810',\n",
       "  'W01000811',\n",
       "  'W01000812',\n",
       "  'W01000813',\n",
       "  'W01000814',\n",
       "  'W01000815',\n",
       "  'W01000816',\n",
       "  'W01000817',\n",
       "  'W01000818',\n",
       "  'W01000819',\n",
       "  'W01000820',\n",
       "  'W01000821',\n",
       "  'W01000822',\n",
       "  'W01000823',\n",
       "  'W01000824',\n",
       "  'W01000825',\n",
       "  'W01000826',\n",
       "  'W01000827',\n",
       "  'W01000830',\n",
       "  'W01000831',\n",
       "  'W01000832',\n",
       "  'W01000833',\n",
       "  'W01000834',\n",
       "  'W01000835',\n",
       "  'W01000836',\n",
       "  'W01000850',\n",
       "  'W01000851',\n",
       "  'W01000852',\n",
       "  'W01000853',\n",
       "  'W01000854',\n",
       "  'W01000855',\n",
       "  'W01000856',\n",
       "  'W01000857',\n",
       "  'W01000858',\n",
       "  'W01000859',\n",
       "  'W01000860',\n",
       "  'W01000861',\n",
       "  'W01000862',\n",
       "  'W01000863',\n",
       "  'W01000864',\n",
       "  'W01000865',\n",
       "  'W01000866',\n",
       "  'W01000867',\n",
       "  'W01000868',\n",
       "  'W01000869',\n",
       "  'W01000870',\n",
       "  'W01000871',\n",
       "  'W01000872',\n",
       "  'W01000873',\n",
       "  'W01000874',\n",
       "  'W01000875',\n",
       "  'W01000876',\n",
       "  'W01000879',\n",
       "  'W01000880',\n",
       "  'W01000881',\n",
       "  'W01000882'],\n",
       " 'Swindon': ['E01015582',\n",
       "  'E01015487',\n",
       "  'E01015539',\n",
       "  'E01015488',\n",
       "  'E01015540',\n",
       "  'E01015489',\n",
       "  'E01015541',\n",
       "  'E01015542',\n",
       "  'E01015543',\n",
       "  'E01015544',\n",
       "  'E01015545',\n",
       "  'E01015546',\n",
       "  'E01015549',\n",
       "  'E01015550',\n",
       "  'E01015551',\n",
       "  'E01015552',\n",
       "  'E01015553',\n",
       "  'E01015554',\n",
       "  'E01015555',\n",
       "  'E01015556',\n",
       "  'E01015557',\n",
       "  'E01015558',\n",
       "  'E01015559',\n",
       "  'E01015560',\n",
       "  'E01015561',\n",
       "  'E01015562',\n",
       "  'E01015563',\n",
       "  'E01015564',\n",
       "  'E01015490',\n",
       "  'E01015491',\n",
       "  'E01015492',\n",
       "  'E01015493',\n",
       "  'E01015494',\n",
       "  'E01015496',\n",
       "  'E01015497',\n",
       "  'E01015498',\n",
       "  'E01015499',\n",
       "  'E01015500',\n",
       "  'E01015501',\n",
       "  'E01015502',\n",
       "  'E01015503',\n",
       "  'E01015504',\n",
       "  'E01015505',\n",
       "  'E01015506',\n",
       "  'E01015507',\n",
       "  'E01015508',\n",
       "  'E01015509',\n",
       "  'E01015510',\n",
       "  'E01015511',\n",
       "  'E01015512',\n",
       "  'E01015513',\n",
       "  'E01015514',\n",
       "  'E01015515',\n",
       "  'E01015565',\n",
       "  'E01015516',\n",
       "  'E01015566',\n",
       "  'E01015517',\n",
       "  'E01015567',\n",
       "  'E01015518',\n",
       "  'E01015568',\n",
       "  'E01015472',\n",
       "  'E01015569',\n",
       "  'E01015473',\n",
       "  'E01015570',\n",
       "  'E01015571',\n",
       "  'E01015475',\n",
       "  'E01015572',\n",
       "  'E01015525',\n",
       "  'E01015476',\n",
       "  'E01015526',\n",
       "  'E01015477',\n",
       "  'E01015527',\n",
       "  'E01015478',\n",
       "  'E01015528',\n",
       "  'E01015573',\n",
       "  'E01015479',\n",
       "  'E01015529',\n",
       "  'E01015530',\n",
       "  'E01015574',\n",
       "  'E01015480',\n",
       "  'E01015532',\n",
       "  'E01015575',\n",
       "  'E01015481',\n",
       "  'E01015533',\n",
       "  'E01015576',\n",
       "  'E01015482',\n",
       "  'E01015534',\n",
       "  'E01015578',\n",
       "  'E01015483',\n",
       "  'E01015535',\n",
       "  'E01015579',\n",
       "  'E01015484',\n",
       "  'E01015536',\n",
       "  'E01015580',\n",
       "  'E01015485',\n",
       "  'E01015537',\n",
       "  'E01015581',\n",
       "  'E01015486',\n",
       "  'E01015538',\n",
       "  'E01032715',\n",
       "  'E01032716',\n",
       "  'E01032700',\n",
       "  'E01032701',\n",
       "  'E01032702',\n",
       "  'E01032703',\n",
       "  'E01032704',\n",
       "  'E01032705',\n",
       "  'E01032706',\n",
       "  'E01032707',\n",
       "  'E01032708',\n",
       "  'E01032709',\n",
       "  'E01032710',\n",
       "  'E01032711',\n",
       "  'E01032712',\n",
       "  'E01032713',\n",
       "  'E01032714'],\n",
       " 'Telford': ['E01014102',\n",
       "  'E01014103',\n",
       "  'E01014104',\n",
       "  'E01014105',\n",
       "  'E01014106',\n",
       "  'E01014107',\n",
       "  'E01014108',\n",
       "  'E01014109',\n",
       "  'E01014110',\n",
       "  'E01014113',\n",
       "  'E01014114',\n",
       "  'E01014115',\n",
       "  'E01014116',\n",
       "  'E01014117',\n",
       "  'E01014118',\n",
       "  'E01014119',\n",
       "  'E01014120',\n",
       "  'E01014121',\n",
       "  'E01014122',\n",
       "  'E01014123',\n",
       "  'E01014124',\n",
       "  'E01014125',\n",
       "  'E01014126',\n",
       "  'E01014127',\n",
       "  'E01014128',\n",
       "  'E01014179',\n",
       "  'E01014180',\n",
       "  'E01014129',\n",
       "  'E01014181',\n",
       "  'E01014130',\n",
       "  'E01014182',\n",
       "  'E01014183',\n",
       "  'E01014133',\n",
       "  'E01014185',\n",
       "  'E01014134',\n",
       "  'E01014186',\n",
       "  'E01014187',\n",
       "  'E01014188',\n",
       "  'E01014137',\n",
       "  'E01014189',\n",
       "  'E01014138',\n",
       "  'E01014190',\n",
       "  'E01014139',\n",
       "  'E01014191',\n",
       "  'E01014140',\n",
       "  'E01014192',\n",
       "  'E01014141',\n",
       "  'E01014193',\n",
       "  'E01014194',\n",
       "  'E01014142',\n",
       "  'E01014195',\n",
       "  'E01014143',\n",
       "  'E01014196',\n",
       "  'E01014144',\n",
       "  'E01014197',\n",
       "  'E01014198',\n",
       "  'E01014199',\n",
       "  'E01014145',\n",
       "  'E01014200',\n",
       "  'E01014146',\n",
       "  'E01014201',\n",
       "  'E01014147',\n",
       "  'E01014148',\n",
       "  'E01014203',\n",
       "  'E01014149',\n",
       "  'E01014150',\n",
       "  'E01014205',\n",
       "  'E01014151',\n",
       "  'E01014206',\n",
       "  'E01014152',\n",
       "  'E01014207',\n",
       "  'E01014153',\n",
       "  'E01014208',\n",
       "  'E01014154',\n",
       "  'E01014209',\n",
       "  'E01014155',\n",
       "  'E01014156',\n",
       "  'E01014157',\n",
       "  'E01014158',\n",
       "  'E01014159',\n",
       "  'E01014160',\n",
       "  'E01014161',\n",
       "  'E01014162',\n",
       "  'E01014163',\n",
       "  'E01014164',\n",
       "  'E01014165',\n",
       "  'E01014166',\n",
       "  'E01014167',\n",
       "  'E01014168',\n",
       "  'E01014169',\n",
       "  'E01014170'],\n",
       " 'Wakefield': ['E01011500',\n",
       "  'E01011873',\n",
       "  'E01011876',\n",
       "  'E01011877',\n",
       "  'E01011878',\n",
       "  'E01011880',\n",
       "  'E01011881',\n",
       "  'E01011884',\n",
       "  'E01011886',\n",
       "  'E01011887',\n",
       "  'E01011888',\n",
       "  'E01011889',\n",
       "  'E01011890',\n",
       "  'E01011891',\n",
       "  'E01011892',\n",
       "  'E01011893',\n",
       "  'E01011894',\n",
       "  'E01011895',\n",
       "  'E01011896',\n",
       "  'E01011897',\n",
       "  'E01011898',\n",
       "  'E01011899',\n",
       "  'E01011900',\n",
       "  'E01011901',\n",
       "  'E01011902',\n",
       "  'E01011903',\n",
       "  'E01011904',\n",
       "  'E01011905',\n",
       "  'E01011906',\n",
       "  'E01011907',\n",
       "  'E01011908',\n",
       "  'E01011909',\n",
       "  'E01011910',\n",
       "  'E01011911',\n",
       "  'E01011912',\n",
       "  'E01011913',\n",
       "  'E01011914',\n",
       "  'E01011915',\n",
       "  'E01011916',\n",
       "  'E01011917',\n",
       "  'E01011918',\n",
       "  'E01011919',\n",
       "  'E01011920',\n",
       "  'E01011921',\n",
       "  'E01011922',\n",
       "  'E01011923',\n",
       "  'E01011924',\n",
       "  'E01011925',\n",
       "  'E01011926',\n",
       "  'E01011927',\n",
       "  'E01011929',\n",
       "  'E01011930',\n",
       "  'E01011933',\n",
       "  'E01011934',\n",
       "  'E01011936',\n",
       "  'E01011937',\n",
       "  'E01011939',\n",
       "  'E01011940',\n",
       "  'E01011943',\n",
       "  'E01011944',\n",
       "  'E01011945',\n",
       "  'E01011947',\n",
       "  'E01011948'],\n",
       " 'Walsall': ['E01010317',\n",
       "  'E01010318',\n",
       "  'E01010325',\n",
       "  'E01010326',\n",
       "  'E01010327',\n",
       "  'E01010328',\n",
       "  'E01010329',\n",
       "  'E01010330',\n",
       "  'E01010331',\n",
       "  'E01010332',\n",
       "  'E01010333',\n",
       "  'E01010334',\n",
       "  'E01010335',\n",
       "  'E01010336',\n",
       "  'E01010337',\n",
       "  'E01010338',\n",
       "  'E01010339',\n",
       "  'E01010340',\n",
       "  'E01010341',\n",
       "  'E01010342',\n",
       "  'E01010343',\n",
       "  'E01010344',\n",
       "  'E01010361',\n",
       "  'E01010362',\n",
       "  'E01010363',\n",
       "  'E01010364',\n",
       "  'E01010365',\n",
       "  'E01010366',\n",
       "  'E01010367',\n",
       "  'E01010368',\n",
       "  'E01010369',\n",
       "  'E01010370',\n",
       "  'E01010371',\n",
       "  'E01010372',\n",
       "  'E01010373',\n",
       "  'E01010375',\n",
       "  'E01010267',\n",
       "  'E01010268',\n",
       "  'E01010269',\n",
       "  'E01010270'],\n",
       " 'Warrington': ['E01012541',\n",
       "  'E01012542',\n",
       "  'E01012543',\n",
       "  'E01012544',\n",
       "  'E01012545',\n",
       "  'E01012546',\n",
       "  'E01012547',\n",
       "  'E01012548',\n",
       "  'E01012549',\n",
       "  'E01012550',\n",
       "  'E01012551',\n",
       "  'E01012552',\n",
       "  'E01012553',\n",
       "  'E01012555',\n",
       "  'E01012556',\n",
       "  'E01012557',\n",
       "  'E01012558',\n",
       "  'E01012559',\n",
       "  'E01012560',\n",
       "  'E01012561',\n",
       "  'E01012562',\n",
       "  'E01012563',\n",
       "  'E01012564',\n",
       "  'E01012565',\n",
       "  'E01012566',\n",
       "  'E01012567',\n",
       "  'E01012568',\n",
       "  'E01012569',\n",
       "  'E01012570',\n",
       "  'E01012491',\n",
       "  'E01012492',\n",
       "  'E01012493',\n",
       "  'E01012494',\n",
       "  'E01012495',\n",
       "  'E01012496',\n",
       "  'E01012497',\n",
       "  'E01012498',\n",
       "  'E01012499',\n",
       "  'E01012500',\n",
       "  'E01012501',\n",
       "  'E01012502',\n",
       "  'E01012503',\n",
       "  'E01012504',\n",
       "  'E01012505',\n",
       "  'E01012506',\n",
       "  'E01012507',\n",
       "  'E01012508',\n",
       "  'E01012509',\n",
       "  'E01012510',\n",
       "  'E01012511',\n",
       "  'E01012446',\n",
       "  'E01012512',\n",
       "  'E01012447',\n",
       "  'E01012449',\n",
       "  'E01012450',\n",
       "  'E01012451',\n",
       "  'E01012452',\n",
       "  'E01012453',\n",
       "  'E01012454',\n",
       "  'E01012455',\n",
       "  'E01012520',\n",
       "  'E01012457',\n",
       "  'E01012521',\n",
       "  'E01012458',\n",
       "  'E01012522',\n",
       "  'E01012459',\n",
       "  'E01012523',\n",
       "  'E01012460',\n",
       "  'E01012524',\n",
       "  'E01012461',\n",
       "  'E01012525',\n",
       "  'E01012526',\n",
       "  'E01012462',\n",
       "  'E01012463',\n",
       "  'E01012527',\n",
       "  'E01012464',\n",
       "  'E01012528',\n",
       "  'E01012465',\n",
       "  'E01012529',\n",
       "  'E01012466',\n",
       "  'E01012530',\n",
       "  'E01012531',\n",
       "  'E01012532',\n",
       "  'E01012533',\n",
       "  'E01012534',\n",
       "  'E01012535',\n",
       "  'E01012536',\n",
       "  'E01012537',\n",
       "  'E01012538',\n",
       "  'E01012539',\n",
       "  'E01012540',\n",
       "  'E01012478',\n",
       "  'E01012479',\n",
       "  'E01012480',\n",
       "  'E01012481',\n",
       "  'E01012482',\n",
       "  'E01012483',\n",
       "  'E01012485',\n",
       "  'E01012486',\n",
       "  'E01012487',\n",
       "  'E01012489',\n",
       "  'E01012490',\n",
       "  'E01033299',\n",
       "  'E01033300',\n",
       "  'E01033302',\n",
       "  'E01033303'],\n",
       " 'Watford': ['E01023732',\n",
       "  'E01023733',\n",
       "  'E01023802',\n",
       "  'E01023803',\n",
       "  'E01023804',\n",
       "  'E01023805',\n",
       "  'E01023806',\n",
       "  'E01023809',\n",
       "  'E01023810',\n",
       "  'E01023811',\n",
       "  'E01023827',\n",
       "  'E01023828',\n",
       "  'E01023829',\n",
       "  'E01023717',\n",
       "  'E01023830',\n",
       "  'E01023831',\n",
       "  'E01023832',\n",
       "  'E01023833',\n",
       "  'E01023834',\n",
       "  'E01023842',\n",
       "  'E01023843',\n",
       "  'E01023844',\n",
       "  'E01023845',\n",
       "  'E01023846',\n",
       "  'E01023855',\n",
       "  'E01023856',\n",
       "  'E01023857',\n",
       "  'E01023858',\n",
       "  'E01023859',\n",
       "  'E01023860',\n",
       "  'E01023861',\n",
       "  'E01023862',\n",
       "  'E01023863',\n",
       "  'E01023864',\n",
       "  'E01023865',\n",
       "  'E01023866',\n",
       "  'E01023867',\n",
       "  'E01023868',\n",
       "  'E01023869',\n",
       "  'E01023870',\n",
       "  'E01023871',\n",
       "  'E01023872',\n",
       "  'E01023873',\n",
       "  'E01023874',\n",
       "  'E01023875',\n",
       "  'E01023876',\n",
       "  'E01023877',\n",
       "  'E01023878',\n",
       "  'E01023879',\n",
       "  'E01023880',\n",
       "  'E01023881',\n",
       "  'E01023882',\n",
       "  'E01023883',\n",
       "  'E01023884',\n",
       "  'E01023885',\n",
       "  'E01023886',\n",
       "  'E01023887',\n",
       "  'E01023888',\n",
       "  'E01023889',\n",
       "  'E01023890',\n",
       "  'E01023891',\n",
       "  'E01023892',\n",
       "  'E01023893',\n",
       "  'E01023894',\n",
       "  'E01023895',\n",
       "  'E01023896',\n",
       "  'E01023897',\n",
       "  'E01023898',\n",
       "  'E01023899',\n",
       "  'E01023900',\n",
       "  'E01023901',\n",
       "  'E01023902',\n",
       "  'E01023903',\n",
       "  'E01023904',\n",
       "  'E01023905',\n",
       "  'E01023906',\n",
       "  'E01023907'],\n",
       " 'West Bromwich': ['E01010101',\n",
       "  'E01010102',\n",
       "  'E01010103',\n",
       "  'E01010104',\n",
       "  'E01010105',\n",
       "  'E01010106',\n",
       "  'E01010107',\n",
       "  'E01010093',\n",
       "  'E01010094',\n",
       "  'E01010095',\n",
       "  'E01010098',\n",
       "  'E01010099',\n",
       "  'E01010100',\n",
       "  'E01009950',\n",
       "  'E01009951',\n",
       "  'E01009962',\n",
       "  'E01009963',\n",
       "  'E01009964',\n",
       "  'E01009965',\n",
       "  'E01009969',\n",
       "  'E01009970',\n",
       "  'E01009971',\n",
       "  'E01009973',\n",
       "  'E01009979',\n",
       "  'E01009981',\n",
       "  'E01009985',\n",
       "  'E01009986',\n",
       "  'E01009987',\n",
       "  'E01009988',\n",
       "  'E01009989',\n",
       "  'E01009991',\n",
       "  'E01009992',\n",
       "  'E01009993',\n",
       "  'E01009994',\n",
       "  'E01009995',\n",
       "  'E01009996',\n",
       "  'E01009997',\n",
       "  'E01009998',\n",
       "  'E01009946',\n",
       "  'E01009947',\n",
       "  'E01009948',\n",
       "  'E01032887',\n",
       "  'E01032592'],\n",
       " 'Weston-Super-Mare': ['E01014801',\n",
       "  'E01014802',\n",
       "  'E01014803',\n",
       "  'E01014804',\n",
       "  'E01014805',\n",
       "  'E01014806',\n",
       "  'E01014807',\n",
       "  'E01014808',\n",
       "  'E01014809',\n",
       "  'E01014810',\n",
       "  'E01014811',\n",
       "  'E01014812',\n",
       "  'E01014813',\n",
       "  'E01014815',\n",
       "  'E01014816',\n",
       "  'E01014817',\n",
       "  'E01014818',\n",
       "  'E01014771',\n",
       "  'E01014819',\n",
       "  'E01014820',\n",
       "  'E01014773',\n",
       "  'E01014821',\n",
       "  'E01014774',\n",
       "  'E01014822',\n",
       "  'E01014823',\n",
       "  'E01014824',\n",
       "  'E01014825',\n",
       "  'E01014826',\n",
       "  'E01014827',\n",
       "  'E01014828',\n",
       "  'E01014829',\n",
       "  'E01014830',\n",
       "  'E01014831',\n",
       "  'E01014832',\n",
       "  'E01014833',\n",
       "  'E01014834',\n",
       "  'E01014835',\n",
       "  'E01014836',\n",
       "  'E01014838',\n",
       "  'E01014839',\n",
       "  'E01014840',\n",
       "  'E01014841',\n",
       "  'E01014842',\n",
       "  'E01014843',\n",
       "  'E01014844',\n",
       "  'E01014799',\n",
       "  'E01014845',\n",
       "  'E01014800',\n",
       "  'E01014846',\n",
       "  'E01032666',\n",
       "  'E01032667',\n",
       "  'E01032668',\n",
       "  'E01032669',\n",
       "  'E01032670',\n",
       "  'E01032671',\n",
       "  'E01032672',\n",
       "  'E01032673',\n",
       "  'E01032679'],\n",
       " 'Wigan': ['E01006361',\n",
       "  'E01006369',\n",
       "  'E01006370',\n",
       "  'E01006371',\n",
       "  'E01006372',\n",
       "  'E01006373',\n",
       "  'E01006374',\n",
       "  'E01006375',\n",
       "  'E01006411',\n",
       "  'E01006386',\n",
       "  'E01006387',\n",
       "  'E01006349',\n",
       "  'E01006350',\n",
       "  'E01006351',\n",
       "  'E01006352',\n",
       "  'E01006353',\n",
       "  'E01006354',\n",
       "  'E01006355',\n",
       "  'E01006356',\n",
       "  'E01006357',\n",
       "  'E01006358',\n",
       "  'E01006359',\n",
       "  'E01006360',\n",
       "  'E01006388',\n",
       "  'E01006389',\n",
       "  'E01006390',\n",
       "  'E01006391',\n",
       "  'E01006392',\n",
       "  'E01006393',\n",
       "  'E01006394',\n",
       "  'E01006306',\n",
       "  'E01006395',\n",
       "  'E01006396',\n",
       "  'E01006397',\n",
       "  'E01006398',\n",
       "  'E01006399',\n",
       "  'E01006400',\n",
       "  'E01006401',\n",
       "  'E01006402',\n",
       "  'E01006403',\n",
       "  'E01006404',\n",
       "  'E01006405',\n",
       "  'E01006406',\n",
       "  'E01006407',\n",
       "  'E01006408',\n",
       "  'E01006409',\n",
       "  'E01006410',\n",
       "  'E01006253',\n",
       "  'E01006254',\n",
       "  'E01006255',\n",
       "  'E01006256',\n",
       "  'E01006257',\n",
       "  'E01006258',\n",
       "  'E01006259',\n",
       "  'E01006260'],\n",
       " 'Woking': ['E01030985',\n",
       "  'E01030986',\n",
       "  'E01030988',\n",
       "  'E01030989',\n",
       "  'E01030990',\n",
       "  'E01030991',\n",
       "  'E01030992',\n",
       "  'E01030993',\n",
       "  'E01030994',\n",
       "  'E01030995',\n",
       "  'E01030996',\n",
       "  'E01030997',\n",
       "  'E01030998',\n",
       "  'E01030999',\n",
       "  'E01031000',\n",
       "  'E01031001',\n",
       "  'E01031002',\n",
       "  'E01031003',\n",
       "  'E01030951',\n",
       "  'E01031004',\n",
       "  'E01030952',\n",
       "  'E01030953',\n",
       "  'E01030954',\n",
       "  'E01030955',\n",
       "  'E01030956',\n",
       "  'E01030957',\n",
       "  'E01030958',\n",
       "  'E01030959',\n",
       "  'E01030960',\n",
       "  'E01030961',\n",
       "  'E01030962',\n",
       "  'E01030963',\n",
       "  'E01030964',\n",
       "  'E01030965',\n",
       "  'E01030966',\n",
       "  'E01030967',\n",
       "  'E01030968',\n",
       "  'E01030969',\n",
       "  'E01030970',\n",
       "  'E01030971',\n",
       "  'E01030972',\n",
       "  'E01030973',\n",
       "  'E01030974',\n",
       "  'E01030975',\n",
       "  'E01030976',\n",
       "  'E01030977',\n",
       "  'E01030978',\n",
       "  'E01030979',\n",
       "  'E01030980',\n",
       "  'E01030981',\n",
       "  'E01030982',\n",
       "  'E01030983',\n",
       "  'E01030984',\n",
       "  'E01030683',\n",
       "  'E01030693',\n",
       "  'E01030694',\n",
       "  'E01030695',\n",
       "  'E01030696',\n",
       "  'E01030761',\n",
       "  'E01030762',\n",
       "  'E01030681',\n",
       "  'E01030682'],\n",
       " 'Wolverhampton': ['E01010557',\n",
       "  'E01010457',\n",
       "  'E01010507',\n",
       "  'E01010558',\n",
       "  'E01010559',\n",
       "  'E01010458',\n",
       "  'E01010560',\n",
       "  'E01010459',\n",
       "  'E01010561',\n",
       "  'E01010508',\n",
       "  'E01010460',\n",
       "  'E01010562',\n",
       "  'E01010509',\n",
       "  'E01010461',\n",
       "  'E01010563',\n",
       "  'E01010510',\n",
       "  'E01010462',\n",
       "  'E01010564',\n",
       "  'E01010511',\n",
       "  'E01010463',\n",
       "  'E01010565',\n",
       "  'E01010512',\n",
       "  'E01010464',\n",
       "  'E01010566',\n",
       "  'E01010513',\n",
       "  'E01010465',\n",
       "  'E01010567',\n",
       "  'E01010514',\n",
       "  'E01010466',\n",
       "  'E01010418',\n",
       "  'E01010423',\n",
       "  'E01010424',\n",
       "  'E01010425',\n",
       "  'E01010426',\n",
       "  'E01010427',\n",
       "  'E01010428',\n",
       "  'E01010429',\n",
       "  'E01010430',\n",
       "  'E01010431',\n",
       "  'E01010432',\n",
       "  'E01010433',\n",
       "  'E01010434',\n",
       "  'E01010435',\n",
       "  'E01010436',\n",
       "  'E01010437',\n",
       "  'E01010438',\n",
       "  'E01010439',\n",
       "  'E01010440',\n",
       "  'E01010441',\n",
       "  'E01010442',\n",
       "  'E01010443',\n",
       "  'E01010444',\n",
       "  'E01010445',\n",
       "  'E01010446',\n",
       "  'E01010447',\n",
       "  'E01010448',\n",
       "  'E01010449',\n",
       "  'E01010452',\n",
       "  'E01010453',\n",
       "  'E01010454',\n",
       "  'E01010456',\n",
       "  'E01010467',\n",
       "  'E01010515',\n",
       "  'E01010516',\n",
       "  'E01010517',\n",
       "  'E01010468',\n",
       "  'E01010518',\n",
       "  'E01010469',\n",
       "  'E01010519',\n",
       "  'E01010470',\n",
       "  'E01010520',\n",
       "  'E01010521',\n",
       "  'E01010471',\n",
       "  'E01010472',\n",
       "  'E01010473',\n",
       "  'E01010474',\n",
       "  'E01010475',\n",
       "  'E01010476',\n",
       "  'E01010477',\n",
       "  'E01010478',\n",
       "  'E01010479',\n",
       "  'E01010480',\n",
       "  'E01010481',\n",
       "  'E01010482',\n",
       "  'E01010483',\n",
       "  'E01010484',\n",
       "  'E01010485',\n",
       "  'E01010486',\n",
       "  'E01010487',\n",
       "  'E01010488',\n",
       "  'E01010489',\n",
       "  'E01010490',\n",
       "  'E01010491',\n",
       "  'E01010492',\n",
       "  'E01010493',\n",
       "  'E01010494',\n",
       "  'E01010495',\n",
       "  'E01010496',\n",
       "  'E01010497',\n",
       "  'E01010498',\n",
       "  'E01010499',\n",
       "  'E01010500',\n",
       "  'E01010501',\n",
       "  'E01010502',\n",
       "  'E01010503',\n",
       "  'E01010504',\n",
       "  'E01010505',\n",
       "  'E01010506',\n",
       "  'E01010522',\n",
       "  'E01010523',\n",
       "  'E01010524',\n",
       "  'E01010525',\n",
       "  'E01010526',\n",
       "  'E01010527',\n",
       "  'E01010528',\n",
       "  'E01010529',\n",
       "  'E01010530',\n",
       "  'E01010531',\n",
       "  'E01010532',\n",
       "  'E01010533',\n",
       "  'E01010534',\n",
       "  'E01010535',\n",
       "  'E01010536',\n",
       "  'E01010537',\n",
       "  'E01010538',\n",
       "  'E01010539',\n",
       "  'E01010540',\n",
       "  'E01010541',\n",
       "  'E01010542',\n",
       "  'E01010543',\n",
       "  'E01010544',\n",
       "  'E01010545',\n",
       "  'E01010546',\n",
       "  'E01010547',\n",
       "  'E01010548',\n",
       "  'E01010549',\n",
       "  'E01010550',\n",
       "  'E01010551',\n",
       "  'E01010552',\n",
       "  'E01010553',\n",
       "  'E01010554',\n",
       "  'E01010555',\n",
       "  'E01010556',\n",
       "  'E01029661',\n",
       "  'E01029662',\n",
       "  'E01029663',\n",
       "  'E01029664',\n",
       "  'E01029665',\n",
       "  'E01029666',\n",
       "  'E01029672'],\n",
       " 'Worcester': ['E01033246',\n",
       "  'E01033247',\n",
       "  'E01033248',\n",
       "  'E01033249',\n",
       "  'E01032311',\n",
       "  'E01032312',\n",
       "  'E01032313',\n",
       "  'E01032314',\n",
       "  'E01032315',\n",
       "  'E01032316',\n",
       "  'E01032317',\n",
       "  'E01032318',\n",
       "  'E01032319',\n",
       "  'E01032320',\n",
       "  'E01032321',\n",
       "  'E01032322',\n",
       "  'E01032323',\n",
       "  'E01032324',\n",
       "  'E01032325',\n",
       "  'E01032326',\n",
       "  'E01032327',\n",
       "  'E01032328',\n",
       "  'E01032329',\n",
       "  'E01032330',\n",
       "  'E01032331',\n",
       "  'E01032332',\n",
       "  'E01032333',\n",
       "  'E01032334',\n",
       "  'E01032335',\n",
       "  'E01032336',\n",
       "  'E01032337',\n",
       "  'E01032338',\n",
       "  'E01032339',\n",
       "  'E01032182',\n",
       "  'E01032279',\n",
       "  'E01032280',\n",
       "  'E01032281',\n",
       "  'E01032282',\n",
       "  'E01032283',\n",
       "  'E01032284',\n",
       "  'E01032285',\n",
       "  'E01032286',\n",
       "  'E01032287',\n",
       "  'E01032288',\n",
       "  'E01032289',\n",
       "  'E01032290',\n",
       "  'E01032292',\n",
       "  'E01032294',\n",
       "  'E01032295',\n",
       "  'E01032296',\n",
       "  'E01032297',\n",
       "  'E01032298',\n",
       "  'E01032299',\n",
       "  'E01032300',\n",
       "  'E01032301',\n",
       "  'E01032302',\n",
       "  'E01032303',\n",
       "  'E01032304',\n",
       "  'E01032305',\n",
       "  'E01032306',\n",
       "  'E01032307',\n",
       "  'E01032308',\n",
       "  'E01032309',\n",
       "  'E01032310'],\n",
       " 'Worthing': ['E01031422',\n",
       "  'E01031423',\n",
       "  'E01031424',\n",
       "  'E01031797',\n",
       "  'E01031798',\n",
       "  'E01031799',\n",
       "  'E01031800',\n",
       "  'E01031801',\n",
       "  'E01031802',\n",
       "  'E01031803',\n",
       "  'E01031804',\n",
       "  'E01031805',\n",
       "  'E01031806',\n",
       "  'E01031807',\n",
       "  'E01031808',\n",
       "  'E01031809',\n",
       "  'E01031810',\n",
       "  'E01031811',\n",
       "  'E01031812',\n",
       "  'E01031813',\n",
       "  'E01031814',\n",
       "  'E01031815',\n",
       "  'E01031816',\n",
       "  'E01031817',\n",
       "  'E01031818',\n",
       "  'E01031819',\n",
       "  'E01031820',\n",
       "  'E01031821',\n",
       "  'E01031822',\n",
       "  'E01031823',\n",
       "  'E01031824',\n",
       "  'E01031776',\n",
       "  'E01031825',\n",
       "  'E01031777',\n",
       "  'E01031826',\n",
       "  'E01031778',\n",
       "  'E01031827',\n",
       "  'E01031779',\n",
       "  'E01031828',\n",
       "  'E01031780',\n",
       "  'E01031829',\n",
       "  'E01031781',\n",
       "  'E01031830',\n",
       "  'E01031782',\n",
       "  'E01031831',\n",
       "  'E01031783',\n",
       "  'E01031832',\n",
       "  'E01031784',\n",
       "  'E01031833',\n",
       "  'E01031785',\n",
       "  'E01031834',\n",
       "  'E01031835',\n",
       "  'E01031836',\n",
       "  'E01031786',\n",
       "  'E01031787',\n",
       "  'E01031837',\n",
       "  'E01031788',\n",
       "  'E01031838',\n",
       "  'E01031789',\n",
       "  'E01031839',\n",
       "  'E01031790',\n",
       "  'E01031840',\n",
       "  'E01031791',\n",
       "  'E01031792',\n",
       "  'E01031793',\n",
       "  'E01031794',\n",
       "  'E01031795',\n",
       "  'E01031796'],\n",
       " 'York': ['E01013404',\n",
       "  'E01013405',\n",
       "  'E01013406',\n",
       "  'E01013407',\n",
       "  'E01013408',\n",
       "  'E01013409',\n",
       "  'E01013410',\n",
       "  'E01013411',\n",
       "  'E01013412',\n",
       "  'E01013413',\n",
       "  'E01013414',\n",
       "  'E01013416',\n",
       "  'E01013417',\n",
       "  'E01013418',\n",
       "  'E01013419',\n",
       "  'E01013420',\n",
       "  'E01013428',\n",
       "  'E01013429',\n",
       "  'E01013431',\n",
       "  'E01013432',\n",
       "  'E01013433',\n",
       "  'E01013434',\n",
       "  'E01013435',\n",
       "  'E01013441',\n",
       "  'E01013442',\n",
       "  'E01013443',\n",
       "  'E01013444',\n",
       "  'E01013445',\n",
       "  'E01013446',\n",
       "  'E01013447',\n",
       "  'E01013448',\n",
       "  'E01013449',\n",
       "  'E01013353',\n",
       "  'E01013354',\n",
       "  'E01013355',\n",
       "  'E01013356',\n",
       "  'E01013357',\n",
       "  'E01013358',\n",
       "  'E01013359',\n",
       "  'E01013360',\n",
       "  'E01013361',\n",
       "  'E01013362',\n",
       "  'E01013363',\n",
       "  'E01013364',\n",
       "  'E01013365',\n",
       "  'E01013366',\n",
       "  'E01013368',\n",
       "  'E01013369',\n",
       "  'E01013378',\n",
       "  'E01013379',\n",
       "  'E01013380',\n",
       "  'E01013381',\n",
       "  'E01013382',\n",
       "  'E01013383',\n",
       "  'E01013384',\n",
       "  'E01013385',\n",
       "  'E01013386',\n",
       "  'E01013387',\n",
       "  'E01013388',\n",
       "  'E01013389',\n",
       "  'E01013390',\n",
       "  'E01013391',\n",
       "  'E01013392',\n",
       "  'E01013393',\n",
       "  'E01013394',\n",
       "  'E01013395',\n",
       "  'E01013396',\n",
       "  'E01013397',\n",
       "  'E01013398',\n",
       "  'E01013399',\n",
       "  'E01013400',\n",
       "  'E01013401',\n",
       "  'E01013402',\n",
       "  'E01013403',\n",
       "  'E01013335',\n",
       "  'E01013336',\n",
       "  'E01013337',\n",
       "  'E01013338',\n",
       "  'E01013339',\n",
       "  'E01013343',\n",
       "  'E01013344',\n",
       "  'E01013345',\n",
       "  'E01013346',\n",
       "  'E01013347',\n",
       "  'E01013348',\n",
       "  'E01013349',\n",
       "  'E01013350',\n",
       "  'E01033067',\n",
       "  'E01033068',\n",
       "  'E01033069',\n",
       "  'E01033070']}"
      ]
     },
     "execution_count": 30,
     "metadata": {},
     "output_type": "execute_result"
    }
   ],
   "source": [
    "cityMap"
   ]
  },
  {
   "cell_type": "code",
   "execution_count": 31,
   "metadata": {
    "ExecuteTime": {
     "end_time": "2021-06-01T14:13:19.106383Z",
     "start_time": "2021-06-01T14:13:18.843802Z"
    },
    "collapsed": true
   },
   "outputs": [],
   "source": [
    "IMD_df = pd.read_csv('../../BL_Work/File_7_ID_2015_All_ranks__deciles_and_scores_for_the_Indices_of_Deprivation__and_population_denominators.csv')"
   ]
  },
  {
   "cell_type": "code",
   "execution_count": 32,
   "metadata": {
    "ExecuteTime": {
     "end_time": "2021-06-01T14:13:19.164632Z",
     "start_time": "2021-06-01T14:13:19.111004Z"
    }
   },
   "outputs": [
    {
     "data": {
      "text/html": [
       "<div>\n",
       "<style scoped>\n",
       "    .dataframe tbody tr th:only-of-type {\n",
       "        vertical-align: middle;\n",
       "    }\n",
       "\n",
       "    .dataframe tbody tr th {\n",
       "        vertical-align: top;\n",
       "    }\n",
       "\n",
       "    .dataframe thead th {\n",
       "        text-align: right;\n",
       "    }\n",
       "</style>\n",
       "<table border=\"1\" class=\"dataframe\">\n",
       "  <thead>\n",
       "    <tr style=\"text-align: right;\">\n",
       "      <th></th>\n",
       "      <th>LSOA code (2011)</th>\n",
       "      <th>LSOA name (2011)</th>\n",
       "      <th>Local Authority District code (2013)</th>\n",
       "      <th>Local Authority District name (2013)</th>\n",
       "      <th>Index of Multiple Deprivation (IMD) Score</th>\n",
       "      <th>Index of Multiple Deprivation (IMD) Rank (where 1 is most deprived)</th>\n",
       "      <th>Index of Multiple Deprivation (IMD) Decile (where 1 is most deprived 10% of LSOAs)</th>\n",
       "      <th>Income Score (rate)</th>\n",
       "      <th>Income Rank (where 1 is most deprived)</th>\n",
       "      <th>Income Decile (where 1 is most deprived 10% of LSOAs)</th>\n",
       "      <th>...</th>\n",
       "      <th>Indoors Sub-domain Rank (where 1 is most deprived)</th>\n",
       "      <th>Indoors Sub-domain Decile (where 1 is most deprived 10% of LSOAs)</th>\n",
       "      <th>Outdoors Sub-domain Score</th>\n",
       "      <th>Outdoors Sub-domain Rank (where 1 is most deprived)</th>\n",
       "      <th>Outdoors Sub-domain Decile (where 1 is most deprived 10% of LSOAs)</th>\n",
       "      <th>Total population: mid 2012 (excluding prisoners)</th>\n",
       "      <th>Dependent Children aged 0-15: mid 2012 (excluding prisoners)</th>\n",
       "      <th>Population aged 16-59: mid 2012 (excluding prisoners)</th>\n",
       "      <th>Older population aged 60 and over: mid 2012 (excluding prisoners)</th>\n",
       "      <th>Working age population 18-59/64: for use with Employment Deprivation Domain (excluding prisoners)</th>\n",
       "    </tr>\n",
       "  </thead>\n",
       "  <tbody>\n",
       "    <tr>\n",
       "      <th>0</th>\n",
       "      <td>E01031349</td>\n",
       "      <td>Adur 001A</td>\n",
       "      <td>E07000223</td>\n",
       "      <td>Adur</td>\n",
       "      <td>12.389</td>\n",
       "      <td>21352</td>\n",
       "      <td>7</td>\n",
       "      <td>0.096</td>\n",
       "      <td>18992</td>\n",
       "      <td>6</td>\n",
       "      <td>...</td>\n",
       "      <td>20379</td>\n",
       "      <td>7</td>\n",
       "      <td>0.312</td>\n",
       "      <td>11318</td>\n",
       "      <td>4</td>\n",
       "      <td>1318</td>\n",
       "      <td>206</td>\n",
       "      <td>694</td>\n",
       "      <td>418</td>\n",
       "      <td>702.75</td>\n",
       "    </tr>\n",
       "    <tr>\n",
       "      <th>1</th>\n",
       "      <td>E01031350</td>\n",
       "      <td>Adur 001B</td>\n",
       "      <td>E07000223</td>\n",
       "      <td>Adur</td>\n",
       "      <td>28.619</td>\n",
       "      <td>8864</td>\n",
       "      <td>3</td>\n",
       "      <td>0.187</td>\n",
       "      <td>9233</td>\n",
       "      <td>3</td>\n",
       "      <td>...</td>\n",
       "      <td>16285</td>\n",
       "      <td>5</td>\n",
       "      <td>0.234</td>\n",
       "      <td>12445</td>\n",
       "      <td>4</td>\n",
       "      <td>1212</td>\n",
       "      <td>232</td>\n",
       "      <td>712</td>\n",
       "      <td>268</td>\n",
       "      <td>720.75</td>\n",
       "    </tr>\n",
       "    <tr>\n",
       "      <th>2</th>\n",
       "      <td>E01031351</td>\n",
       "      <td>Adur 001C</td>\n",
       "      <td>E07000223</td>\n",
       "      <td>Adur</td>\n",
       "      <td>11.713</td>\n",
       "      <td>22143</td>\n",
       "      <td>7</td>\n",
       "      <td>0.065</td>\n",
       "      <td>24539</td>\n",
       "      <td>8</td>\n",
       "      <td>...</td>\n",
       "      <td>25054</td>\n",
       "      <td>8</td>\n",
       "      <td>0.208</td>\n",
       "      <td>12820</td>\n",
       "      <td>4</td>\n",
       "      <td>1577</td>\n",
       "      <td>290</td>\n",
       "      <td>829</td>\n",
       "      <td>458</td>\n",
       "      <td>838.25</td>\n",
       "    </tr>\n",
       "    <tr>\n",
       "      <th>3</th>\n",
       "      <td>E01031352</td>\n",
       "      <td>Adur 001D</td>\n",
       "      <td>E07000223</td>\n",
       "      <td>Adur</td>\n",
       "      <td>16.446</td>\n",
       "      <td>17252</td>\n",
       "      <td>6</td>\n",
       "      <td>0.117</td>\n",
       "      <td>16087</td>\n",
       "      <td>5</td>\n",
       "      <td>...</td>\n",
       "      <td>24455</td>\n",
       "      <td>8</td>\n",
       "      <td>0.109</td>\n",
       "      <td>14350</td>\n",
       "      <td>5</td>\n",
       "      <td>1453</td>\n",
       "      <td>233</td>\n",
       "      <td>739</td>\n",
       "      <td>481</td>\n",
       "      <td>748.25</td>\n",
       "    </tr>\n",
       "    <tr>\n",
       "      <th>4</th>\n",
       "      <td>E01031370</td>\n",
       "      <td>Adur 001E</td>\n",
       "      <td>E07000223</td>\n",
       "      <td>Adur</td>\n",
       "      <td>18.265</td>\n",
       "      <td>15643</td>\n",
       "      <td>5</td>\n",
       "      <td>0.102</td>\n",
       "      <td>17918</td>\n",
       "      <td>6</td>\n",
       "      <td>...</td>\n",
       "      <td>20214</td>\n",
       "      <td>7</td>\n",
       "      <td>0.321</td>\n",
       "      <td>11202</td>\n",
       "      <td>4</td>\n",
       "      <td>1443</td>\n",
       "      <td>306</td>\n",
       "      <td>799</td>\n",
       "      <td>338</td>\n",
       "      <td>795.50</td>\n",
       "    </tr>\n",
       "  </tbody>\n",
       "</table>\n",
       "<p>5 rows × 57 columns</p>\n",
       "</div>"
      ],
      "text/plain": [
       "  LSOA code (2011) LSOA name (2011) Local Authority District code (2013)  \\\n",
       "0        E01031349        Adur 001A                            E07000223   \n",
       "1        E01031350        Adur 001B                            E07000223   \n",
       "2        E01031351        Adur 001C                            E07000223   \n",
       "3        E01031352        Adur 001D                            E07000223   \n",
       "4        E01031370        Adur 001E                            E07000223   \n",
       "\n",
       "  Local Authority District name (2013)  \\\n",
       "0                                 Adur   \n",
       "1                                 Adur   \n",
       "2                                 Adur   \n",
       "3                                 Adur   \n",
       "4                                 Adur   \n",
       "\n",
       "   Index of Multiple Deprivation (IMD) Score  \\\n",
       "0                                     12.389   \n",
       "1                                     28.619   \n",
       "2                                     11.713   \n",
       "3                                     16.446   \n",
       "4                                     18.265   \n",
       "\n",
       "   Index of Multiple Deprivation (IMD) Rank (where 1 is most deprived)  \\\n",
       "0                                              21352                     \n",
       "1                                               8864                     \n",
       "2                                              22143                     \n",
       "3                                              17252                     \n",
       "4                                              15643                     \n",
       "\n",
       "   Index of Multiple Deprivation (IMD) Decile (where 1 is most deprived 10% of LSOAs)  \\\n",
       "0                                                  7                                    \n",
       "1                                                  3                                    \n",
       "2                                                  7                                    \n",
       "3                                                  6                                    \n",
       "4                                                  5                                    \n",
       "\n",
       "   Income Score (rate)  Income Rank (where 1 is most deprived)  \\\n",
       "0                0.096                                   18992   \n",
       "1                0.187                                    9233   \n",
       "2                0.065                                   24539   \n",
       "3                0.117                                   16087   \n",
       "4                0.102                                   17918   \n",
       "\n",
       "   Income Decile (where 1 is most deprived 10% of LSOAs)  ...  \\\n",
       "0                                                  6      ...   \n",
       "1                                                  3      ...   \n",
       "2                                                  8      ...   \n",
       "3                                                  5      ...   \n",
       "4                                                  6      ...   \n",
       "\n",
       "   Indoors Sub-domain Rank (where 1 is most deprived)  \\\n",
       "0                                              20379    \n",
       "1                                              16285    \n",
       "2                                              25054    \n",
       "3                                              24455    \n",
       "4                                              20214    \n",
       "\n",
       "   Indoors Sub-domain Decile (where 1 is most deprived 10% of LSOAs)  \\\n",
       "0                                                  7                   \n",
       "1                                                  5                   \n",
       "2                                                  8                   \n",
       "3                                                  8                   \n",
       "4                                                  7                   \n",
       "\n",
       "   Outdoors Sub-domain Score  \\\n",
       "0                      0.312   \n",
       "1                      0.234   \n",
       "2                      0.208   \n",
       "3                      0.109   \n",
       "4                      0.321   \n",
       "\n",
       "   Outdoors Sub-domain Rank (where 1 is most deprived)  \\\n",
       "0                                              11318     \n",
       "1                                              12445     \n",
       "2                                              12820     \n",
       "3                                              14350     \n",
       "4                                              11202     \n",
       "\n",
       "   Outdoors Sub-domain Decile (where 1 is most deprived 10% of LSOAs)  \\\n",
       "0                                                  4                    \n",
       "1                                                  4                    \n",
       "2                                                  4                    \n",
       "3                                                  5                    \n",
       "4                                                  4                    \n",
       "\n",
       "   Total population: mid 2012 (excluding prisoners)  \\\n",
       "0                                              1318   \n",
       "1                                              1212   \n",
       "2                                              1577   \n",
       "3                                              1453   \n",
       "4                                              1443   \n",
       "\n",
       "   Dependent Children aged 0-15: mid 2012 (excluding prisoners)  \\\n",
       "0                                                206              \n",
       "1                                                232              \n",
       "2                                                290              \n",
       "3                                                233              \n",
       "4                                                306              \n",
       "\n",
       "   Population aged 16-59: mid 2012 (excluding prisoners)  \\\n",
       "0                                                694       \n",
       "1                                                712       \n",
       "2                                                829       \n",
       "3                                                739       \n",
       "4                                                799       \n",
       "\n",
       "   Older population aged 60 and over: mid 2012 (excluding prisoners)  \\\n",
       "0                                                418                   \n",
       "1                                                268                   \n",
       "2                                                458                   \n",
       "3                                                481                   \n",
       "4                                                338                   \n",
       "\n",
       "   Working age population 18-59/64: for use with Employment Deprivation Domain (excluding prisoners)   \n",
       "0                                             702.75                                                   \n",
       "1                                             720.75                                                   \n",
       "2                                             838.25                                                   \n",
       "3                                             748.25                                                   \n",
       "4                                             795.50                                                   \n",
       "\n",
       "[5 rows x 57 columns]"
      ]
     },
     "execution_count": 32,
     "metadata": {},
     "output_type": "execute_result"
    }
   ],
   "source": [
    "IMD_df.head()"
   ]
  },
  {
   "cell_type": "code",
   "execution_count": 33,
   "metadata": {
    "ExecuteTime": {
     "end_time": "2021-06-01T14:13:25.545511Z",
     "start_time": "2021-06-01T14:13:19.167665Z"
    },
    "collapsed": true
   },
   "outputs": [],
   "source": [
    "LSOA_pop = {}\n",
    "LSOA_IMD = {}\n",
    "for index, row in IMD_df.iterrows():\n",
    "    LSOA_pop[row['LSOA code (2011)']] = row['Total population: mid 2012 (excluding prisoners)']\n",
    "    LSOA_IMD[row['LSOA code (2011)']] = row['Index of Multiple Deprivation (IMD) Score']"
   ]
  },
  {
   "cell_type": "code",
   "execution_count": 34,
   "metadata": {
    "ExecuteTime": {
     "end_time": "2021-06-01T14:13:25.562634Z",
     "start_time": "2021-06-01T14:13:25.551274Z"
    }
   },
   "outputs": [
    {
     "data": {
      "text/plain": [
       "32844"
      ]
     },
     "execution_count": 34,
     "metadata": {},
     "output_type": "execute_result"
    }
   ],
   "source": [
    "len(LSOA_pop.keys())"
   ]
  },
  {
   "cell_type": "code",
   "execution_count": 35,
   "metadata": {
    "ExecuteTime": {
     "end_time": "2021-06-01T14:13:25.672245Z",
     "start_time": "2021-06-01T14:13:25.566912Z"
    }
   },
   "outputs": [
    {
     "name": "stdout",
     "output_type": "stream",
     "text": [
      "('could not find LSOA', 'W01001912')\n",
      "('could not find LSOA', 'W01001913')\n",
      "('could not find LSOA', 'W01001600')\n",
      "('could not find LSOA', 'W01001651')\n",
      "('could not find LSOA', 'W01001601')\n",
      "('could not find LSOA', 'W01001652')\n",
      "('could not find LSOA', 'W01001602')\n",
      "('could not find LSOA', 'W01001653')\n",
      "('could not find LSOA', 'W01001654')\n",
      "('could not find LSOA', 'W01001603')\n",
      "('could not find LSOA', 'W01001604')\n",
      "('could not find LSOA', 'W01001655')\n",
      "('could not find LSOA', 'W01001605')\n",
      "('could not find LSOA', 'W01001606')\n",
      "('could not find LSOA', 'W01001607')\n",
      "('could not find LSOA', 'W01001659')\n",
      "('could not find LSOA', 'W01001608')\n",
      "('could not find LSOA', 'W01001660')\n",
      "('could not find LSOA', 'W01001609')\n",
      "('could not find LSOA', 'W01001661')\n",
      "('could not find LSOA', 'W01001610')\n",
      "('could not find LSOA', 'W01001662')\n",
      "('could not find LSOA', 'W01001611')\n",
      "('could not find LSOA', 'W01001663')\n",
      "('could not find LSOA', 'W01001612')\n",
      "('could not find LSOA', 'W01001664')\n",
      "('could not find LSOA', 'W01001613')\n",
      "('could not find LSOA', 'W01001614')\n",
      "('could not find LSOA', 'W01001615')\n",
      "('could not find LSOA', 'W01001616')\n",
      "('could not find LSOA', 'W01001617')\n",
      "('could not find LSOA', 'W01001618')\n",
      "('could not find LSOA', 'W01001619')\n",
      "('could not find LSOA', 'W01001620')\n",
      "('could not find LSOA', 'W01001621')\n",
      "('could not find LSOA', 'W01001622')\n",
      "('could not find LSOA', 'W01001629')\n",
      "('could not find LSOA', 'W01001630')\n",
      "('could not find LSOA', 'W01001631')\n",
      "('could not find LSOA', 'W01001632')\n",
      "('could not find LSOA', 'W01001633')\n",
      "('could not find LSOA', 'W01001634')\n",
      "('could not find LSOA', 'W01001635')\n",
      "('could not find LSOA', 'W01001636')\n",
      "('could not find LSOA', 'W01001637')\n",
      "('could not find LSOA', 'W01001638')\n",
      "('could not find LSOA', 'W01001639')\n",
      "('could not find LSOA', 'W01001641')\n",
      "('could not find LSOA', 'W01001642')\n",
      "('could not find LSOA', 'W01001643')\n",
      "('could not find LSOA', 'W01001644')\n",
      "('could not find LSOA', 'W01001645')\n",
      "('could not find LSOA', 'W01001646')\n",
      "('could not find LSOA', 'W01001647')\n",
      "('could not find LSOA', 'W01001648')\n",
      "('could not find LSOA', 'W01001665')\n",
      "('could not find LSOA', 'W01001666')\n",
      "('could not find LSOA', 'W01001667')\n",
      "('could not find LSOA', 'W01001668')\n",
      "('could not find LSOA', 'W01001669')\n",
      "('could not find LSOA', 'W01001670')\n",
      "('could not find LSOA', 'W01001671')\n",
      "('could not find LSOA', 'W01001672')\n",
      "('could not find LSOA', 'W01001673')\n",
      "('could not find LSOA', 'W01001674')\n",
      "('could not find LSOA', 'W01001675')\n",
      "('could not find LSOA', 'W01001676')\n",
      "('could not find LSOA', 'W01001677')\n",
      "('could not find LSOA', 'W01001678')\n",
      "('could not find LSOA', 'W01001679')\n",
      "('could not find LSOA', 'W01001680')\n",
      "('could not find LSOA', 'W01001681')\n",
      "('could not find LSOA', 'W01001682')\n",
      "('could not find LSOA', 'W01001683')\n",
      "('could not find LSOA', 'W01001684')\n",
      "('could not find LSOA', 'W01001685')\n",
      "('could not find LSOA', 'W01001686')\n",
      "('could not find LSOA', 'W01001687')\n",
      "('could not find LSOA', 'W01001688')\n",
      "('could not find LSOA', 'W01001689')\n",
      "('could not find LSOA', 'W01001690')\n",
      "('could not find LSOA', 'W01001691')\n",
      "('could not find LSOA', 'W01001692')\n",
      "('could not find LSOA', 'W01001693')\n",
      "('could not find LSOA', 'W01000329')\n",
      "('could not find LSOA', 'W01000330')\n",
      "('could not find LSOA', 'W01000331')\n",
      "('could not find LSOA', 'W01001938')\n",
      "('could not find LSOA', 'W01001955')\n",
      "('could not find LSOA', 'W01001956')\n",
      "('could not find LSOA', 'W01001957')\n",
      "('could not find LSOA', 'W01001958')\n",
      "('could not find LSOA', 'W01000738')\n",
      "('could not find LSOA', 'W01000739')\n",
      "('could not find LSOA', 'W01000740')\n",
      "('could not find LSOA', 'W01000741')\n",
      "('could not find LSOA', 'W01000742')\n",
      "('could not find LSOA', 'W01000744')\n",
      "('could not find LSOA', 'W01000745')\n",
      "('could not find LSOA', 'W01000746')\n",
      "('could not find LSOA', 'W01000747')\n",
      "('could not find LSOA', 'W01000749')\n",
      "('could not find LSOA', 'W01000750')\n",
      "('could not find LSOA', 'W01000751')\n",
      "('could not find LSOA', 'W01000752')\n",
      "('could not find LSOA', 'W01000753')\n",
      "('could not find LSOA', 'W01000754')\n",
      "('could not find LSOA', 'W01000755')\n",
      "('could not find LSOA', 'W01000757')\n",
      "('could not find LSOA', 'W01000758')\n",
      "('could not find LSOA', 'W01000760')\n",
      "('could not find LSOA', 'W01000761')\n",
      "('could not find LSOA', 'W01000762')\n",
      "('could not find LSOA', 'W01000763')\n",
      "('could not find LSOA', 'W01000764')\n",
      "('could not find LSOA', 'W01000765')\n",
      "('could not find LSOA', 'W01000766')\n",
      "('could not find LSOA', 'W01000767')\n",
      "('could not find LSOA', 'W01000768')\n",
      "('could not find LSOA', 'W01000769')\n",
      "('could not find LSOA', 'W01000770')\n",
      "('could not find LSOA', 'W01000781')\n",
      "('could not find LSOA', 'W01000782')\n",
      "('could not find LSOA', 'W01000787')\n",
      "('could not find LSOA', 'W01000788')\n",
      "('could not find LSOA', 'W01000789')\n",
      "('could not find LSOA', 'W01000790')\n",
      "('could not find LSOA', 'W01000791')\n",
      "('could not find LSOA', 'W01000794')\n",
      "('could not find LSOA', 'W01000795')\n",
      "('could not find LSOA', 'W01000796')\n",
      "('could not find LSOA', 'W01000797')\n",
      "('could not find LSOA', 'W01000798')\n",
      "('could not find LSOA', 'W01000799')\n",
      "('could not find LSOA', 'W01000849')\n",
      "('could not find LSOA', 'W01000801')\n",
      "('could not find LSOA', 'W01000804')\n",
      "('could not find LSOA', 'W01000805')\n",
      "('could not find LSOA', 'W01000806')\n",
      "('could not find LSOA', 'W01000807')\n",
      "('could not find LSOA', 'W01000808')\n",
      "('could not find LSOA', 'W01000809')\n",
      "('could not find LSOA', 'W01000810')\n",
      "('could not find LSOA', 'W01000811')\n",
      "('could not find LSOA', 'W01000812')\n",
      "('could not find LSOA', 'W01000813')\n",
      "('could not find LSOA', 'W01000814')\n",
      "('could not find LSOA', 'W01000815')\n",
      "('could not find LSOA', 'W01000816')\n",
      "('could not find LSOA', 'W01000817')\n",
      "('could not find LSOA', 'W01000818')\n",
      "('could not find LSOA', 'W01000819')\n",
      "('could not find LSOA', 'W01000820')\n",
      "('could not find LSOA', 'W01000821')\n",
      "('could not find LSOA', 'W01000822')\n",
      "('could not find LSOA', 'W01000823')\n",
      "('could not find LSOA', 'W01000824')\n",
      "('could not find LSOA', 'W01000825')\n",
      "('could not find LSOA', 'W01000826')\n",
      "('could not find LSOA', 'W01000827')\n",
      "('could not find LSOA', 'W01000830')\n",
      "('could not find LSOA', 'W01000831')\n",
      "('could not find LSOA', 'W01000832')\n",
      "('could not find LSOA', 'W01000833')\n",
      "('could not find LSOA', 'W01000834')\n",
      "('could not find LSOA', 'W01000835')\n",
      "('could not find LSOA', 'W01000836')\n",
      "('could not find LSOA', 'W01000850')\n",
      "('could not find LSOA', 'W01000851')\n",
      "('could not find LSOA', 'W01000852')\n",
      "('could not find LSOA', 'W01000853')\n",
      "('could not find LSOA', 'W01000854')\n",
      "('could not find LSOA', 'W01000855')\n",
      "('could not find LSOA', 'W01000856')\n",
      "('could not find LSOA', 'W01000857')\n",
      "('could not find LSOA', 'W01000858')\n",
      "('could not find LSOA', 'W01000859')\n",
      "('could not find LSOA', 'W01000860')\n",
      "('could not find LSOA', 'W01000861')\n",
      "('could not find LSOA', 'W01000862')\n",
      "('could not find LSOA', 'W01000863')\n",
      "('could not find LSOA', 'W01000864')\n",
      "('could not find LSOA', 'W01000865')\n",
      "('could not find LSOA', 'W01000866')\n",
      "('could not find LSOA', 'W01000867')\n",
      "('could not find LSOA', 'W01000868')\n",
      "('could not find LSOA', 'W01000869')\n",
      "('could not find LSOA', 'W01000870')\n",
      "('could not find LSOA', 'W01000871')\n",
      "('could not find LSOA', 'W01000872')\n",
      "('could not find LSOA', 'W01000873')\n",
      "('could not find LSOA', 'W01000874')\n",
      "('could not find LSOA', 'W01000875')\n",
      "('could not find LSOA', 'W01000876')\n",
      "('could not find LSOA', 'W01000879')\n",
      "('could not find LSOA', 'W01000880')\n",
      "('could not find LSOA', 'W01000881')\n",
      "('could not find LSOA', 'W01000882')\n",
      "('could not find LSOA', 'W01001861')\n",
      "('could not find LSOA', 'W01001809')\n",
      "('could not find LSOA', 'W01001862')\n",
      "('could not find LSOA', 'W01001863')\n",
      "('could not find LSOA', 'W01001864')\n",
      "('could not find LSOA', 'W01001810')\n",
      "('could not find LSOA', 'W01001865')\n",
      "('could not find LSOA', 'W01001811')\n",
      "('could not find LSOA', 'W01001866')\n",
      "('could not find LSOA', 'W01001812')\n",
      "('could not find LSOA', 'W01001867')\n",
      "('could not find LSOA', 'W01001813')\n",
      "('could not find LSOA', 'W01001704')\n",
      "('could not find LSOA', 'W01001868')\n",
      "('could not find LSOA', 'W01001814')\n",
      "('could not find LSOA', 'W01001705')\n",
      "('could not find LSOA', 'W01001756')\n",
      "('could not find LSOA', 'W01001869')\n",
      "('could not find LSOA', 'W01001815')\n",
      "('could not find LSOA', 'W01001706')\n",
      "('could not find LSOA', 'W01001757')\n",
      "('could not find LSOA', 'W01001870')\n",
      "('could not find LSOA', 'W01001816')\n",
      "('could not find LSOA', 'W01001707')\n",
      "('could not find LSOA', 'W01001758')\n",
      "('could not find LSOA', 'W01001871')\n",
      "('could not find LSOA', 'W01001759')\n",
      "('could not find LSOA', 'W01001817')\n",
      "('could not find LSOA', 'W01001872')\n",
      "('could not find LSOA', 'W01001708')\n",
      "('could not find LSOA', 'W01001818')\n",
      "('could not find LSOA', 'W01001709')\n",
      "('could not find LSOA', 'W01001873')\n",
      "('could not find LSOA', 'W01001760')\n",
      "('could not find LSOA', 'W01001710')\n",
      "('could not find LSOA', 'W01001922')\n",
      "('could not find LSOA', 'W01001874')\n",
      "('could not find LSOA', 'W01001761')\n",
      "('could not find LSOA', 'W01001711')\n",
      "('could not find LSOA', 'W01001875')\n",
      "('could not find LSOA', 'W01001762')\n",
      "('could not find LSOA', 'W01001821')\n",
      "('could not find LSOA', 'W01001712')\n",
      "('could not find LSOA', 'W01001876')\n",
      "('could not find LSOA', 'W01001764')\n",
      "('could not find LSOA', 'W01001822')\n",
      "('could not find LSOA', 'W01001713')\n",
      "('could not find LSOA', 'W01001877')\n",
      "('could not find LSOA', 'W01001765')\n",
      "('could not find LSOA', 'W01001823')\n",
      "('could not find LSOA', 'W01001714')\n",
      "('could not find LSOA', 'W01001878')\n",
      "('could not find LSOA', 'W01001766')\n",
      "('could not find LSOA', 'W01001824')\n",
      "('could not find LSOA', 'W01001715')\n",
      "('could not find LSOA', 'W01001879')\n",
      "('could not find LSOA', 'W01001767')\n",
      "('could not find LSOA', 'W01001825')\n",
      "('could not find LSOA', 'W01001716')\n",
      "('could not find LSOA', 'W01001880')\n",
      "('could not find LSOA', 'W01001768')\n",
      "('could not find LSOA', 'W01001826')\n",
      "('could not find LSOA', 'W01001717')\n",
      "('could not find LSOA', 'W01001881')\n",
      "('could not find LSOA', 'W01001769')\n",
      "('could not find LSOA', 'W01001827')\n",
      "('could not find LSOA', 'W01001718')\n",
      "('could not find LSOA', 'W01001882')\n",
      "('could not find LSOA', 'W01001883')\n",
      "('could not find LSOA', 'W01001719')\n",
      "('could not find LSOA', 'W01001884')\n",
      "('could not find LSOA', 'W01001720')\n",
      "('could not find LSOA', 'W01001885')\n",
      "('could not find LSOA', 'W01001721')\n",
      "('could not find LSOA', 'W01001886')\n",
      "('could not find LSOA', 'W01001770')\n",
      "('could not find LSOA', 'W01001722')\n",
      "('could not find LSOA', 'W01001887')\n",
      "('could not find LSOA', 'W01001771')\n",
      "('could not find LSOA', 'W01001724')\n",
      "('could not find LSOA', 'W01001888')\n",
      "('could not find LSOA', 'W01001772')\n",
      "('could not find LSOA', 'W01001725')\n",
      "('could not find LSOA', 'W01001889')\n",
      "('could not find LSOA', 'W01001773')\n",
      "('could not find LSOA', 'W01001726')\n",
      "('could not find LSOA', 'W01001890')\n",
      "('could not find LSOA', 'W01001774')\n",
      "('could not find LSOA', 'W01001828')\n",
      "('could not find LSOA', 'W01001891')\n",
      "('could not find LSOA', 'W01001775')\n",
      "('could not find LSOA', 'W01001939')\n",
      "('could not find LSOA', 'W01001829')\n",
      "('could not find LSOA', 'W01001892')\n",
      "('could not find LSOA', 'W01001730')\n",
      "('could not find LSOA', 'W01001776')\n",
      "('could not find LSOA', 'W01001830')\n",
      "('could not find LSOA', 'W01001940')\n",
      "('could not find LSOA', 'W01001731')\n",
      "('could not find LSOA', 'W01001777')\n",
      "('could not find LSOA', 'W01001831')\n",
      "('could not find LSOA', 'W01001941')\n",
      "('could not find LSOA', 'W01001894')\n",
      "('could not find LSOA', 'W01001732')\n",
      "('could not find LSOA', 'W01001778')\n",
      "('could not find LSOA', 'W01001832')\n",
      "('could not find LSOA', 'W01001942')\n",
      "('could not find LSOA', 'W01001895')\n",
      "('could not find LSOA', 'W01001733')\n",
      "('could not find LSOA', 'W01001779')\n",
      "('could not find LSOA', 'W01001833')\n",
      "('could not find LSOA', 'W01001943')\n",
      "('could not find LSOA', 'W01001896')\n",
      "('could not find LSOA', 'W01001734')\n",
      "('could not find LSOA', 'W01001780')\n",
      "('could not find LSOA', 'W01001834')\n",
      "('could not find LSOA', 'W01001944')\n",
      "('could not find LSOA', 'W01001735')\n",
      "('could not find LSOA', 'W01001781')\n",
      "('could not find LSOA', 'W01001835')\n",
      "('could not find LSOA', 'W01001736')\n",
      "('could not find LSOA', 'W01001782')\n",
      "('could not find LSOA', 'W01001836')\n",
      "('could not find LSOA', 'W01001946')\n",
      "('could not find LSOA', 'W01001737')\n",
      "('could not find LSOA', 'W01001783')\n",
      "('could not find LSOA', 'W01001837')\n",
      "('could not find LSOA', 'W01001947')\n",
      "('could not find LSOA', 'W01001738')\n",
      "('could not find LSOA', 'W01001784')\n",
      "('could not find LSOA', 'W01001838')\n",
      "('could not find LSOA', 'W01001948')\n",
      "('could not find LSOA', 'W01001739')\n",
      "('could not find LSOA', 'W01001785')\n",
      "('could not find LSOA', 'W01001839')\n",
      "('could not find LSOA', 'W01001949')\n",
      "('could not find LSOA', 'W01001740')\n",
      "('could not find LSOA', 'W01001786')\n",
      "('could not find LSOA', 'W01001840')\n",
      "('could not find LSOA', 'W01001950')\n",
      "('could not find LSOA', 'W01001741')\n",
      "('could not find LSOA', 'W01001787')\n",
      "('could not find LSOA', 'W01001788')\n",
      "('could not find LSOA', 'W01001789')\n",
      "('could not find LSOA', 'W01001790')\n",
      "('could not find LSOA', 'W01001791')\n",
      "('could not find LSOA', 'W01001792')\n",
      "('could not find LSOA', 'W01001793')\n",
      "('could not find LSOA', 'W01001794')\n",
      "('could not find LSOA', 'W01001795')\n",
      "('could not find LSOA', 'W01001796')\n",
      "('could not find LSOA', 'W01001797')\n",
      "('could not find LSOA', 'W01001798')\n",
      "('could not find LSOA', 'W01001799')\n",
      "('could not find LSOA', 'W01001800')\n",
      "('could not find LSOA', 'W01001802')\n",
      "('could not find LSOA', 'W01001803')\n",
      "('could not find LSOA', 'W01001804')\n",
      "('could not find LSOA', 'W01001805')\n",
      "('could not find LSOA', 'W01001806')\n",
      "('could not find LSOA', 'W01001807')\n",
      "('could not find LSOA', 'W01001808')\n",
      "('could not find LSOA', 'W01001841')\n",
      "('could not find LSOA', 'W01001742')\n",
      "('could not find LSOA', 'W01001842')\n",
      "('could not find LSOA', 'W01001743')\n",
      "('could not find LSOA', 'W01001843')\n",
      "('could not find LSOA', 'W01001951')\n",
      "('could not find LSOA', 'W01001744')\n",
      "('could not find LSOA', 'W01001844')\n",
      "('could not find LSOA', 'W01001952')\n",
      "('could not find LSOA', 'W01001745')\n",
      "('could not find LSOA', 'W01001846')\n",
      "('could not find LSOA', 'W01001953')\n",
      "('could not find LSOA', 'W01001746')\n",
      "('could not find LSOA', 'W01001847')\n",
      "('could not find LSOA', 'W01001954')\n",
      "('could not find LSOA', 'W01001747')\n",
      "('could not find LSOA', 'W01001848')\n",
      "('could not find LSOA', 'W01001748')\n",
      "('could not find LSOA', 'W01001849')\n",
      "('could not find LSOA', 'W01001749')\n",
      "('could not find LSOA', 'W01001850')\n",
      "('could not find LSOA', 'W01001750')\n",
      "('could not find LSOA', 'W01001851')\n",
      "('could not find LSOA', 'W01001751')\n",
      "('could not find LSOA', 'W01001852')\n",
      "('could not find LSOA', 'W01001694')\n",
      "('could not find LSOA', 'W01001853')\n",
      "('could not find LSOA', 'W01001752')\n",
      "('could not find LSOA', 'W01001695')\n",
      "('could not find LSOA', 'W01001854')\n",
      "('could not find LSOA', 'W01001753')\n",
      "('could not find LSOA', 'W01001696')\n",
      "('could not find LSOA', 'W01001855')\n",
      "('could not find LSOA', 'W01001754')\n",
      "('could not find LSOA', 'W01001697')\n",
      "('could not find LSOA', 'W01001856')\n",
      "('could not find LSOA', 'W01001755')\n",
      "('could not find LSOA', 'W01001698')\n",
      "('could not find LSOA', 'W01001699')\n",
      "('could not find LSOA', 'W01001702')\n",
      "('could not find LSOA', 'W01001703')\n",
      "('could not find LSOA', 'W01001857')\n",
      "('could not find LSOA', 'W01001858')\n",
      "('could not find LSOA', 'W01001859')\n",
      "('could not find LSOA', 'W01001860')\n"
     ]
    }
   ],
   "source": [
    "cityPop = {}\n",
    "city_IMD = {}\n",
    "city_survey_pop = {}\n",
    "for k in cityMap:\n",
    "    pop = 0\n",
    "    surveypop = 0\n",
    "    IMD = []\n",
    "    for j in cityMap[k]:\n",
    "        try:\n",
    "            pop += LSOA_pop[j]\n",
    "            surveypop += LSOA_survey_takers[j]\n",
    "            IMD.append(LSOA_IMD[j])\n",
    "        except:\n",
    "            print(\"could not find LSOA\",j)\n",
    "    city_IMD[k] = {}\n",
    "    if pop > 0:\n",
    "        cityPop[k] = pop\n",
    "        city_survey_pop[k] = surveypop\n",
    "        city_IMD[k]['median_IMD'] = np.median(IMD)\n",
    "        city_IMD[k]['mean_IMD'] = np.mean(IMD)"
   ]
  },
  {
   "cell_type": "code",
   "execution_count": 36,
   "metadata": {
    "ExecuteTime": {
     "end_time": "2021-06-01T14:13:27.253604Z",
     "start_time": "2021-06-01T14:13:25.677846Z"
    }
   },
   "outputs": [
    {
     "name": "stderr",
     "output_type": "stream",
     "text": [
      "100%|██████████| 6623/6623 [00:00<00:00, 7762.73it/s]\n"
     ]
    }
   ],
   "source": [
    "LSOA_patient_pop = {}\n",
    "LSOA_patients_map = json.load(open('data_prep/GPs.json','r'))\n",
    "for GP in tqdm(LSOA_patients_map):\n",
    "    for lsoa in LSOA_patients_map[GP]['Patient_registry_LSOA']:\n",
    "        if lsoa not in LSOA_patient_pop:\n",
    "            LSOA_patient_pop[lsoa] = LSOA_patients_map[GP]['Patient_registry_LSOA'][lsoa]\n",
    "        else:\n",
    "            LSOA_patient_pop[lsoa] += LSOA_patients_map[GP]['Patient_registry_LSOA'][lsoa]"
   ]
  },
  {
   "cell_type": "code",
   "execution_count": 37,
   "metadata": {
    "ExecuteTime": {
     "end_time": "2021-06-01T14:13:27.266466Z",
     "start_time": "2021-06-01T14:13:27.257059Z"
    }
   },
   "outputs": [
    {
     "data": {
      "text/plain": [
       "60744002.0"
      ]
     },
     "execution_count": 37,
     "metadata": {},
     "output_type": "execute_result"
    }
   ],
   "source": [
    "sum(LSOA_patient_pop.values())"
   ]
  },
  {
   "cell_type": "code",
   "execution_count": 38,
   "metadata": {
    "ExecuteTime": {
     "end_time": "2021-06-01T14:13:27.278247Z",
     "start_time": "2021-06-01T14:13:27.270512Z"
    },
    "collapsed": true
   },
   "outputs": [],
   "source": [
    "import logging\n",
    "logger = logging.getLogger()\n",
    "fhandler = logging.FileHandler(filename='dataPrep_postcovid.log', mode='a')\n",
    "formatter = logging.Formatter('%(asctime)s - %(name)s - %(levelname)s - %(message)s')\n",
    "fhandler.setFormatter(formatter)\n",
    "logger.addHandler(fhandler)\n",
    "logger.setLevel(logging.INFO)"
   ]
  },
  {
   "cell_type": "code",
   "execution_count": 39,
   "metadata": {
    "ExecuteTime": {
     "end_time": "2021-06-01T14:13:27.342466Z",
     "start_time": "2021-06-01T14:13:27.282372Z"
    },
    "collapsed": true
   },
   "outputs": [],
   "source": [
    "def calculateTemporalMetrics_LSOA(all_presc , old = True):\n",
    "    LSOA_dosage = {}\n",
    "    LSOA_costs = {}\n",
    "    LSOA_patient_count = {}\n",
    "    fail = 0.0\n",
    "    LSOA_map = {}\n",
    "    if old:\n",
    "        dosageField = '8'\n",
    "        costField = '19'\n",
    "        practiceField = '2'\n",
    "        LSOA_map = LSOA_dist_2021\n",
    "    else:\n",
    "        dosageField = 'TOTAL_QUANTITY'\n",
    "        costField = '19'\n",
    "        practiceField = 'PRACTICE_CODE'\n",
    "        LSOA_map = LSOA_dist_2021\n",
    "\n",
    "    for name, group in all_presc.groupby(practiceField):\n",
    "        total_dosage = np.sum(group[dosageField])\n",
    "        total_cost = np.sum(group[costField])\n",
    "        if name in LSOA_map:        \n",
    "            for k in LSOA_map[name]:\n",
    "                if k not in LSOA_dosage:\n",
    "                    LSOA_dosage[k] = 0.0\n",
    "                    LSOA_costs[k] = 0.0\n",
    "                LSOA_dosage[k]+= float(total_dosage)*float(LSOA_map[name][k])\n",
    "                LSOA_costs[k]+= float(total_cost)*float(LSOA_map[name][k])\n",
    "                \n",
    "#     for lsoa in LSOA_dosage:\n",
    "#         LSOA_dosage[lsoa] = (LSOA_dosage[lsoa]/LSOA_patient_pop[lsoa]) * 1000\n",
    "#         LSOA_costs[lsoa] = (LSOA_costs[lsoa]/LSOA_patient_pop[lsoa]) * 1000\n",
    "    \n",
    "    return  LSOA_dosage , LSOA_costs"
   ]
  },
  {
   "cell_type": "code",
   "execution_count": 40,
   "metadata": {
    "ExecuteTime": {
     "end_time": "2021-06-01T14:13:27.433146Z",
     "start_time": "2021-06-01T14:13:27.348014Z"
    },
    "collapsed": true
   },
   "outputs": [],
   "source": []
  },
  {
   "cell_type": "code",
   "execution_count": 41,
   "metadata": {
    "ExecuteTime": {
     "end_time": "2021-06-01T14:13:27.516740Z",
     "start_time": "2021-06-01T14:13:27.438384Z"
    },
    "collapsed": true
   },
   "outputs": [],
   "source": [
    "# monthly_borough_dosage = {}\n",
    "# monthly_borough_costs = {}\n",
    "\n",
    "monthly_borough_dosage_new = {}\n",
    "monthly_borough_costs_new = {}"
   ]
  },
  {
   "cell_type": "code",
   "execution_count": 42,
   "metadata": {
    "ExecuteTime": {
     "end_time": "2021-06-01T14:22:48.938406Z",
     "start_time": "2021-06-01T14:22:48.931481Z"
    },
    "collapsed": true
   },
   "outputs": [],
   "source": [
    "files.sort()"
   ]
  },
  {
   "cell_type": "code",
   "execution_count": 43,
   "metadata": {
    "ExecuteTime": {
     "end_time": "2021-06-01T14:22:56.951666Z",
     "start_time": "2021-06-01T14:22:56.934435Z"
    }
   },
   "outputs": [
    {
     "data": {
      "text/plain": [
       "['../../BL_Work/openPrescribe/serialized/201501.gz',\n",
       " '../../BL_Work/openPrescribe/serialized/201502.gz',\n",
       " '../../BL_Work/openPrescribe/serialized/201503.gz',\n",
       " '../../BL_Work/openPrescribe/serialized/201504.gz',\n",
       " '../../BL_Work/openPrescribe/serialized/201505.gz',\n",
       " '../../BL_Work/openPrescribe/serialized/201506.gz',\n",
       " '../../BL_Work/openPrescribe/serialized/201507.gz',\n",
       " '../../BL_Work/openPrescribe/serialized/201508.gz',\n",
       " '../../BL_Work/openPrescribe/serialized/201509.gz',\n",
       " '../../BL_Work/openPrescribe/serialized/201510.gz',\n",
       " '../../BL_Work/openPrescribe/serialized/201511.gz',\n",
       " '../../BL_Work/openPrescribe/serialized/201512.gz',\n",
       " '../../BL_Work/openPrescribe/serialized/201601.gz',\n",
       " '../../BL_Work/openPrescribe/serialized/201602.gz',\n",
       " '../../BL_Work/openPrescribe/serialized/201603.gz',\n",
       " '../../BL_Work/openPrescribe/serialized/201604.gz',\n",
       " '../../BL_Work/openPrescribe/serialized/201605.gz',\n",
       " '../../BL_Work/openPrescribe/serialized/201606.gz',\n",
       " '../../BL_Work/openPrescribe/serialized/201607.gz',\n",
       " '../../BL_Work/openPrescribe/serialized/201608.gz',\n",
       " '../../BL_Work/openPrescribe/serialized/201609.gz',\n",
       " '../../BL_Work/openPrescribe/serialized/201610.gz',\n",
       " '../../BL_Work/openPrescribe/serialized/201611.gz',\n",
       " '../../BL_Work/openPrescribe/serialized/201612.gz',\n",
       " '../../BL_Work/openPrescribe/serialized/201701.gz',\n",
       " '../../BL_Work/openPrescribe/serialized/201702.gz',\n",
       " '../../BL_Work/openPrescribe/serialized/201703.gz',\n",
       " '../../BL_Work/openPrescribe/serialized/201704.gz',\n",
       " '../../BL_Work/openPrescribe/serialized/201705.gz',\n",
       " '../../BL_Work/openPrescribe/serialized/201706.gz',\n",
       " '../../BL_Work/openPrescribe/serialized/201707.gz',\n",
       " '../../BL_Work/openPrescribe/serialized/201708.gz',\n",
       " '../../BL_Work/openPrescribe/serialized/201709.gz',\n",
       " '../../BL_Work/openPrescribe/serialized/201710.gz',\n",
       " '../../BL_Work/openPrescribe/serialized/201711.gz',\n",
       " '../../BL_Work/openPrescribe/serialized/201712.gz',\n",
       " '../../BL_Work/openPrescribe/serialized/201801.gz',\n",
       " '../../BL_Work/openPrescribe/serialized/201802.gz',\n",
       " '../../BL_Work/openPrescribe/serialized/201803.gz',\n",
       " '../../BL_Work/openPrescribe/serialized/201804.gz',\n",
       " '../../BL_Work/openPrescribe/serialized/201805.gz',\n",
       " '../../BL_Work/openPrescribe/serialized/201806.gz',\n",
       " '../../BL_Work/openPrescribe/serialized/201807.gz',\n",
       " '../../BL_Work/openPrescribe/serialized/201808.gz',\n",
       " '../../BL_Work/openPrescribe/serialized/201809.gz',\n",
       " '../../BL_Work/openPrescribe/serialized/201810.gz',\n",
       " '../../BL_Work/openPrescribe/serialized/201811.gz',\n",
       " '../../BL_Work/openPrescribe/serialized/201812.gz',\n",
       " '../../BL_Work/openPrescribe/serialized/201901.gz',\n",
       " '../../BL_Work/openPrescribe/serialized/201902.gz',\n",
       " '../../BL_Work/openPrescribe/serialized/201903.gz',\n",
       " '../../BL_Work/openPrescribe/serialized/201904.gz',\n",
       " '../../BL_Work/openPrescribe/serialized/201905.gz',\n",
       " '../../BL_Work/openPrescribe/serialized/201906.gz',\n",
       " '../../BL_Work/openPrescribe/serialized/201907.gz',\n",
       " '../../BL_Work/openPrescribe/serialized/201908.gz',\n",
       " '../../BL_Work/openPrescribe/serialized/201909.gz',\n",
       " '../../BL_Work/openPrescribe/serialized/201910.gz',\n",
       " '../../BL_Work/openPrescribe/serialized/201911.gz',\n",
       " '../../BL_Work/openPrescribe/serialized/201912.gz',\n",
       " '../../BL_Work/openPrescribe/serialized/202001.gz',\n",
       " '../../BL_Work/openPrescribe/serialized/202002.gz',\n",
       " '../../BL_Work/openPrescribe/serialized/202003.gz',\n",
       " '../../BL_Work/openPrescribe/serialized/202004.gz',\n",
       " '../../BL_Work/openPrescribe/serialized/202005.gz',\n",
       " '../../BL_Work/openPrescribe/serialized/202006.gz',\n",
       " '../../BL_Work/openPrescribe/serialized/202007.gz',\n",
       " '../../BL_Work/openPrescribe/serialized/202008.gz',\n",
       " '../../BL_Work/openPrescribe/serialized/202009.gz',\n",
       " '../../BL_Work/openPrescribe/serialized/202010.gz',\n",
       " '../../BL_Work/openPrescribe/serialized/202011.gz',\n",
       " '../../BL_Work/openPrescribe/serialized/202012.gz',\n",
       " '../../BL_Work/openPrescribe/serialized/202101.gz',\n",
       " '../../BL_Work/openPrescribe/serialized/202102.gz']"
      ]
     },
     "execution_count": 43,
     "metadata": {},
     "output_type": "execute_result"
    }
   ],
   "source": [
    "files[53:]"
   ]
  },
  {
   "cell_type": "code",
   "execution_count": 44,
   "metadata": {
    "ExecuteTime": {
     "end_time": "2021-06-01T14:23:09.068470Z",
     "start_time": "2021-06-01T14:23:09.063282Z"
    },
    "collapsed": true
   },
   "outputs": [],
   "source": [
    "# files[107:]"
   ]
  },
  {
   "cell_type": "code",
   "execution_count": 45,
   "metadata": {
    "ExecuteTime": {
     "end_time": "2021-06-01T17:33:08.000878Z",
     "start_time": "2021-06-01T14:23:16.569087Z"
    }
   },
   "outputs": [
    {
     "name": "stderr",
     "output_type": "stream",
     "text": [
      "  0%|          | 0/74 [00:00<?, ?it/s]\n",
      "  0%|          | 0/11 [00:00<?, ?it/s]\u001b[A"
     ]
    },
    {
     "name": "stdout",
     "output_type": "stream",
     "text": [
      "Working with disease  anxiety\n"
     ]
    },
    {
     "name": "stderr",
     "output_type": "stream",
     "text": [
      "\n",
      "  9%|▉         | 1/11 [00:07<01:14,  7.43s/it]\u001b[A"
     ]
    },
    {
     "name": "stdout",
     "output_type": "stream",
     "text": [
      "Working with disease  asthma\n"
     ]
    },
    {
     "name": "stderr",
     "output_type": "stream",
     "text": [
      "\n",
      " 18%|█▊        | 2/11 [00:15<01:07,  7.50s/it]\u001b[A"
     ]
    },
    {
     "name": "stdout",
     "output_type": "stream",
     "text": [
      "Working with disease  osteoporosis\n"
     ]
    },
    {
     "name": "stderr",
     "output_type": "stream",
     "text": [
      "\n",
      " 27%|██▋       | 3/11 [00:22<01:00,  7.53s/it]\u001b[A"
     ]
    },
    {
     "name": "stdout",
     "output_type": "stream",
     "text": [
      "Working with disease  stroke\n"
     ]
    },
    {
     "name": "stderr",
     "output_type": "stream",
     "text": [
      "\n",
      " 36%|███▋      | 4/11 [00:30<00:52,  7.53s/it]\u001b[A"
     ]
    },
    {
     "name": "stdout",
     "output_type": "stream",
     "text": [
      "Working with disease  sleeplessness\n"
     ]
    },
    {
     "name": "stderr",
     "output_type": "stream",
     "text": [
      "\n",
      " 45%|████▌     | 5/11 [00:38<00:46,  7.69s/it]\u001b[A"
     ]
    },
    {
     "name": "stdout",
     "output_type": "stream",
     "text": [
      "Working with disease  hypertension\n"
     ]
    },
    {
     "name": "stderr",
     "output_type": "stream",
     "text": [
      "\n",
      " 55%|█████▍    | 6/11 [00:45<00:38,  7.69s/it]\u001b[A"
     ]
    },
    {
     "name": "stdout",
     "output_type": "stream",
     "text": [
      "Working with disease  chronic obstructive pulmonary disease\n"
     ]
    },
    {
     "name": "stderr",
     "output_type": "stream",
     "text": [
      "\n",
      " 64%|██████▎   | 7/11 [00:51<00:27,  6.92s/it]\u001b[A"
     ]
    },
    {
     "name": "stdout",
     "output_type": "stream",
     "text": [
      "Working with disease  dementia\n"
     ]
    },
    {
     "name": "stderr",
     "output_type": "stream",
     "text": [
      "\n",
      " 73%|███████▎  | 8/11 [00:58<00:21,  7.10s/it]\u001b[A"
     ]
    },
    {
     "name": "stdout",
     "output_type": "stream",
     "text": [
      "Working with disease  rheumatoid\n"
     ]
    },
    {
     "name": "stderr",
     "output_type": "stream",
     "text": [
      "\n",
      " 82%|████████▏ | 9/11 [01:05<00:14,  7.06s/it]\u001b[A"
     ]
    },
    {
     "name": "stdout",
     "output_type": "stream",
     "text": [
      "Working with disease  depression\n"
     ]
    },
    {
     "name": "stderr",
     "output_type": "stream",
     "text": [
      "\n",
      " 91%|█████████ | 10/11 [01:12<00:07,  7.15s/it]\u001b[A"
     ]
    },
    {
     "name": "stdout",
     "output_type": "stream",
     "text": [
      "Working with disease  diabetes\n"
     ]
    },
    {
     "name": "stderr",
     "output_type": "stream",
     "text": [
      "\n",
      "  1%|▏         | 1/74 [02:06<2:34:13, 126.76s/it]A\n",
      "  0%|          | 0/11 [00:00<?, ?it/s]\u001b[A"
     ]
    },
    {
     "name": "stdout",
     "output_type": "stream",
     "text": [
      "Working with disease  anxiety\n"
     ]
    },
    {
     "name": "stderr",
     "output_type": "stream",
     "text": [
      "\n",
      "  9%|▉         | 1/11 [00:07<01:16,  7.64s/it]\u001b[A"
     ]
    },
    {
     "name": "stdout",
     "output_type": "stream",
     "text": [
      "Working with disease  asthma\n"
     ]
    },
    {
     "name": "stderr",
     "output_type": "stream",
     "text": [
      "\n",
      " 18%|█▊        | 2/11 [00:15<01:08,  7.66s/it]\u001b[A"
     ]
    },
    {
     "name": "stdout",
     "output_type": "stream",
     "text": [
      "Working with disease  osteoporosis\n"
     ]
    },
    {
     "name": "stderr",
     "output_type": "stream",
     "text": [
      "\n",
      " 27%|██▋       | 3/11 [00:22<01:01,  7.65s/it]\u001b[A"
     ]
    },
    {
     "name": "stdout",
     "output_type": "stream",
     "text": [
      "Working with disease  stroke\n"
     ]
    },
    {
     "name": "stderr",
     "output_type": "stream",
     "text": [
      "\n",
      " 36%|███▋      | 4/11 [00:30<00:53,  7.65s/it]\u001b[A"
     ]
    },
    {
     "name": "stdout",
     "output_type": "stream",
     "text": [
      "Working with disease  sleeplessness\n"
     ]
    },
    {
     "name": "stderr",
     "output_type": "stream",
     "text": [
      "\n",
      " 45%|████▌     | 5/11 [00:38<00:46,  7.73s/it]\u001b[A"
     ]
    },
    {
     "name": "stdout",
     "output_type": "stream",
     "text": [
      "Working with disease  hypertension\n"
     ]
    },
    {
     "name": "stderr",
     "output_type": "stream",
     "text": [
      "\n",
      " 55%|█████▍    | 6/11 [00:46<00:38,  7.69s/it]\u001b[A"
     ]
    },
    {
     "name": "stdout",
     "output_type": "stream",
     "text": [
      "Working with disease  chronic obstructive pulmonary disease\n"
     ]
    },
    {
     "name": "stderr",
     "output_type": "stream",
     "text": [
      "\n",
      " 64%|██████▎   | 7/11 [00:51<00:27,  6.91s/it]\u001b[A"
     ]
    },
    {
     "name": "stdout",
     "output_type": "stream",
     "text": [
      "Working with disease  dementia\n"
     ]
    },
    {
     "name": "stderr",
     "output_type": "stream",
     "text": [
      "\n",
      " 73%|███████▎  | 8/11 [00:58<00:21,  7.07s/it]\u001b[A"
     ]
    },
    {
     "name": "stdout",
     "output_type": "stream",
     "text": [
      "Working with disease  rheumatoid\n"
     ]
    },
    {
     "name": "stderr",
     "output_type": "stream",
     "text": [
      "\n",
      " 82%|████████▏ | 9/11 [01:06<00:14,  7.19s/it]\u001b[A"
     ]
    },
    {
     "name": "stdout",
     "output_type": "stream",
     "text": [
      "Working with disease  depression\n"
     ]
    },
    {
     "name": "stderr",
     "output_type": "stream",
     "text": [
      "\n",
      " 91%|█████████ | 10/11 [01:13<00:07,  7.34s/it]\u001b[A"
     ]
    },
    {
     "name": "stdout",
     "output_type": "stream",
     "text": [
      "Working with disease  diabetes\n"
     ]
    },
    {
     "name": "stderr",
     "output_type": "stream",
     "text": [
      "\n",
      "  3%|▎         | 2/74 [04:12<2:31:47, 126.49s/it]A\n",
      "  0%|          | 0/11 [00:00<?, ?it/s]\u001b[A"
     ]
    },
    {
     "name": "stdout",
     "output_type": "stream",
     "text": [
      "Working with disease  anxiety\n"
     ]
    },
    {
     "name": "stderr",
     "output_type": "stream",
     "text": [
      "\n",
      "  9%|▉         | 1/11 [00:07<01:15,  7.59s/it]\u001b[A"
     ]
    },
    {
     "name": "stdout",
     "output_type": "stream",
     "text": [
      "Working with disease  asthma\n"
     ]
    },
    {
     "name": "stderr",
     "output_type": "stream",
     "text": [
      "\n",
      " 18%|█▊        | 2/11 [00:15<01:08,  7.57s/it]\u001b[A"
     ]
    },
    {
     "name": "stdout",
     "output_type": "stream",
     "text": [
      "Working with disease  osteoporosis\n"
     ]
    },
    {
     "name": "stderr",
     "output_type": "stream",
     "text": [
      "\n",
      " 27%|██▋       | 3/11 [00:22<01:00,  7.59s/it]\u001b[A"
     ]
    },
    {
     "name": "stdout",
     "output_type": "stream",
     "text": [
      "Working with disease  stroke\n"
     ]
    },
    {
     "name": "stderr",
     "output_type": "stream",
     "text": [
      "\n",
      " 36%|███▋      | 4/11 [00:30<00:53,  7.63s/it]\u001b[A"
     ]
    },
    {
     "name": "stdout",
     "output_type": "stream",
     "text": [
      "Working with disease  sleeplessness\n"
     ]
    },
    {
     "name": "stderr",
     "output_type": "stream",
     "text": [
      "\n",
      " 45%|████▌     | 5/11 [00:38<00:46,  7.74s/it]\u001b[A"
     ]
    },
    {
     "name": "stdout",
     "output_type": "stream",
     "text": [
      "Working with disease  hypertension\n"
     ]
    },
    {
     "name": "stderr",
     "output_type": "stream",
     "text": [
      "\n",
      " 55%|█████▍    | 6/11 [00:46<00:38,  7.74s/it]\u001b[A"
     ]
    },
    {
     "name": "stdout",
     "output_type": "stream",
     "text": [
      "Working with disease  chronic obstructive pulmonary disease\n"
     ]
    },
    {
     "name": "stderr",
     "output_type": "stream",
     "text": [
      "\n",
      " 64%|██████▎   | 7/11 [00:51<00:27,  6.98s/it]\u001b[A"
     ]
    },
    {
     "name": "stdout",
     "output_type": "stream",
     "text": [
      "Working with disease  dementia\n"
     ]
    },
    {
     "name": "stderr",
     "output_type": "stream",
     "text": [
      "\n",
      " 73%|███████▎  | 8/11 [00:58<00:21,  7.14s/it]\u001b[A"
     ]
    },
    {
     "name": "stdout",
     "output_type": "stream",
     "text": [
      "Working with disease  rheumatoid\n"
     ]
    },
    {
     "name": "stderr",
     "output_type": "stream",
     "text": [
      "\n",
      " 82%|████████▏ | 9/11 [01:06<00:14,  7.18s/it]\u001b[A"
     ]
    },
    {
     "name": "stdout",
     "output_type": "stream",
     "text": [
      "Working with disease  depression\n"
     ]
    },
    {
     "name": "stderr",
     "output_type": "stream",
     "text": [
      "\n",
      " 91%|█████████ | 10/11 [01:13<00:07,  7.31s/it]\u001b[A"
     ]
    },
    {
     "name": "stdout",
     "output_type": "stream",
     "text": [
      "Working with disease  diabetes\n"
     ]
    },
    {
     "name": "stderr",
     "output_type": "stream",
     "text": [
      "\n",
      "  4%|▍         | 3/74 [06:20<2:30:20, 127.04s/it]A\n",
      "  0%|          | 0/11 [00:00<?, ?it/s]\u001b[A"
     ]
    },
    {
     "name": "stdout",
     "output_type": "stream",
     "text": [
      "Working with disease  anxiety\n"
     ]
    },
    {
     "name": "stderr",
     "output_type": "stream",
     "text": [
      "\n",
      "  9%|▉         | 1/11 [00:07<01:15,  7.51s/it]\u001b[A"
     ]
    },
    {
     "name": "stdout",
     "output_type": "stream",
     "text": [
      "Working with disease  asthma\n"
     ]
    },
    {
     "name": "stderr",
     "output_type": "stream",
     "text": [
      "\n",
      " 18%|█▊        | 2/11 [00:15<01:08,  7.58s/it]\u001b[A"
     ]
    },
    {
     "name": "stdout",
     "output_type": "stream",
     "text": [
      "Working with disease  osteoporosis\n"
     ]
    },
    {
     "name": "stderr",
     "output_type": "stream",
     "text": [
      "\n",
      " 27%|██▋       | 3/11 [00:22<01:00,  7.57s/it]\u001b[A"
     ]
    },
    {
     "name": "stdout",
     "output_type": "stream",
     "text": [
      "Working with disease  stroke\n"
     ]
    },
    {
     "name": "stderr",
     "output_type": "stream",
     "text": [
      "\n",
      " 36%|███▋      | 4/11 [00:30<00:53,  7.59s/it]\u001b[A"
     ]
    },
    {
     "name": "stdout",
     "output_type": "stream",
     "text": [
      "Working with disease  sleeplessness\n"
     ]
    },
    {
     "name": "stderr",
     "output_type": "stream",
     "text": [
      "\n",
      " 45%|████▌     | 5/11 [00:38<00:46,  7.69s/it]\u001b[A"
     ]
    },
    {
     "name": "stdout",
     "output_type": "stream",
     "text": [
      "Working with disease  hypertension\n"
     ]
    },
    {
     "name": "stderr",
     "output_type": "stream",
     "text": [
      "\n",
      " 55%|█████▍    | 6/11 [00:46<00:38,  7.75s/it]\u001b[A"
     ]
    },
    {
     "name": "stdout",
     "output_type": "stream",
     "text": [
      "Working with disease  chronic obstructive pulmonary disease\n"
     ]
    },
    {
     "name": "stderr",
     "output_type": "stream",
     "text": [
      "\n",
      " 64%|██████▎   | 7/11 [00:51<00:28,  7.04s/it]\u001b[A"
     ]
    },
    {
     "name": "stdout",
     "output_type": "stream",
     "text": [
      "Working with disease  dementia\n"
     ]
    },
    {
     "name": "stderr",
     "output_type": "stream",
     "text": [
      "\n",
      " 73%|███████▎  | 8/11 [00:59<00:21,  7.22s/it]\u001b[A"
     ]
    },
    {
     "name": "stdout",
     "output_type": "stream",
     "text": [
      "Working with disease  rheumatoid\n"
     ]
    },
    {
     "name": "stderr",
     "output_type": "stream",
     "text": [
      "\n",
      " 82%|████████▏ | 9/11 [01:06<00:14,  7.30s/it]\u001b[A"
     ]
    },
    {
     "name": "stdout",
     "output_type": "stream",
     "text": [
      "Working with disease  depression\n"
     ]
    },
    {
     "name": "stderr",
     "output_type": "stream",
     "text": [
      "\n",
      " 91%|█████████ | 10/11 [01:14<00:07,  7.30s/it]\u001b[A"
     ]
    },
    {
     "name": "stdout",
     "output_type": "stream",
     "text": [
      "Working with disease  diabetes\n"
     ]
    },
    {
     "name": "stderr",
     "output_type": "stream",
     "text": [
      "\n",
      "  5%|▌         | 4/74 [08:30<2:28:57, 127.67s/it]A\n",
      "  0%|          | 0/11 [00:00<?, ?it/s]\u001b[A"
     ]
    },
    {
     "name": "stdout",
     "output_type": "stream",
     "text": [
      "Working with disease  anxiety\n"
     ]
    },
    {
     "name": "stderr",
     "output_type": "stream",
     "text": [
      "\n",
      "  9%|▉         | 1/11 [00:07<01:14,  7.45s/it]\u001b[A"
     ]
    },
    {
     "name": "stdout",
     "output_type": "stream",
     "text": [
      "Working with disease  asthma\n"
     ]
    },
    {
     "name": "stderr",
     "output_type": "stream",
     "text": [
      "\n",
      " 18%|█▊        | 2/11 [00:14<01:07,  7.45s/it]\u001b[A"
     ]
    },
    {
     "name": "stdout",
     "output_type": "stream",
     "text": [
      "Working with disease  osteoporosis\n"
     ]
    },
    {
     "name": "stderr",
     "output_type": "stream",
     "text": [
      "\n",
      " 27%|██▋       | 3/11 [00:22<00:59,  7.48s/it]\u001b[A"
     ]
    },
    {
     "name": "stdout",
     "output_type": "stream",
     "text": [
      "Working with disease  stroke\n"
     ]
    },
    {
     "name": "stderr",
     "output_type": "stream",
     "text": [
      "\n",
      " 36%|███▋      | 4/11 [00:30<00:52,  7.53s/it]\u001b[A"
     ]
    },
    {
     "name": "stdout",
     "output_type": "stream",
     "text": [
      "Working with disease  sleeplessness\n"
     ]
    },
    {
     "name": "stderr",
     "output_type": "stream",
     "text": [
      "\n",
      " 45%|████▌     | 5/11 [00:38<00:46,  7.69s/it]\u001b[A"
     ]
    },
    {
     "name": "stdout",
     "output_type": "stream",
     "text": [
      "Working with disease  hypertension\n"
     ]
    },
    {
     "name": "stderr",
     "output_type": "stream",
     "text": [
      "\n",
      " 55%|█████▍    | 6/11 [00:45<00:38,  7.72s/it]\u001b[A"
     ]
    },
    {
     "name": "stdout",
     "output_type": "stream",
     "text": [
      "Working with disease  chronic obstructive pulmonary disease\n"
     ]
    },
    {
     "name": "stderr",
     "output_type": "stream",
     "text": [
      "\n",
      " 64%|██████▎   | 7/11 [00:51<00:28,  7.01s/it]\u001b[A"
     ]
    },
    {
     "name": "stdout",
     "output_type": "stream",
     "text": [
      "Working with disease  dementia\n"
     ]
    },
    {
     "name": "stderr",
     "output_type": "stream",
     "text": [
      "\n",
      " 73%|███████▎  | 8/11 [00:58<00:21,  7.20s/it]\u001b[A"
     ]
    },
    {
     "name": "stdout",
     "output_type": "stream",
     "text": [
      "Working with disease  rheumatoid\n"
     ]
    },
    {
     "name": "stderr",
     "output_type": "stream",
     "text": [
      "\n",
      " 82%|████████▏ | 9/11 [01:06<00:14,  7.31s/it]\u001b[A"
     ]
    },
    {
     "name": "stdout",
     "output_type": "stream",
     "text": [
      "Working with disease  depression\n"
     ]
    },
    {
     "name": "stderr",
     "output_type": "stream",
     "text": [
      "\n",
      " 91%|█████████ | 10/11 [01:14<00:07,  7.40s/it]\u001b[A"
     ]
    },
    {
     "name": "stdout",
     "output_type": "stream",
     "text": [
      "Working with disease  diabetes\n"
     ]
    },
    {
     "name": "stderr",
     "output_type": "stream",
     "text": [
      "\n",
      "  7%|▋         | 5/74 [10:37<2:26:53, 127.73s/it]A\n",
      "  0%|          | 0/11 [00:00<?, ?it/s]\u001b[A"
     ]
    },
    {
     "name": "stdout",
     "output_type": "stream",
     "text": [
      "Working with disease  anxiety\n"
     ]
    },
    {
     "name": "stderr",
     "output_type": "stream",
     "text": [
      "\n",
      "  9%|▉         | 1/11 [00:07<01:14,  7.40s/it]\u001b[A"
     ]
    },
    {
     "name": "stdout",
     "output_type": "stream",
     "text": [
      "Working with disease  asthma\n"
     ]
    },
    {
     "name": "stderr",
     "output_type": "stream",
     "text": [
      "\n",
      " 18%|█▊        | 2/11 [00:14<01:06,  7.41s/it]\u001b[A"
     ]
    },
    {
     "name": "stdout",
     "output_type": "stream",
     "text": [
      "Working with disease  osteoporosis\n"
     ]
    },
    {
     "name": "stderr",
     "output_type": "stream",
     "text": [
      "\n",
      " 27%|██▋       | 3/11 [00:22<00:59,  7.46s/it]\u001b[A"
     ]
    },
    {
     "name": "stdout",
     "output_type": "stream",
     "text": [
      "Working with disease  stroke\n"
     ]
    },
    {
     "name": "stderr",
     "output_type": "stream",
     "text": [
      "\n",
      " 36%|███▋      | 4/11 [00:30<00:52,  7.55s/it]\u001b[A"
     ]
    },
    {
     "name": "stdout",
     "output_type": "stream",
     "text": [
      "Working with disease  sleeplessness\n"
     ]
    },
    {
     "name": "stderr",
     "output_type": "stream",
     "text": [
      "\n",
      " 45%|████▌     | 5/11 [00:38<00:46,  7.70s/it]\u001b[A"
     ]
    },
    {
     "name": "stdout",
     "output_type": "stream",
     "text": [
      "Working with disease  hypertension\n"
     ]
    },
    {
     "name": "stderr",
     "output_type": "stream",
     "text": [
      "\n",
      " 55%|█████▍    | 6/11 [00:45<00:38,  7.72s/it]\u001b[A"
     ]
    },
    {
     "name": "stdout",
     "output_type": "stream",
     "text": [
      "Working with disease  chronic obstructive pulmonary disease\n"
     ]
    },
    {
     "name": "stderr",
     "output_type": "stream",
     "text": [
      "\n",
      " 64%|██████▎   | 7/11 [00:51<00:27,  7.00s/it]\u001b[A"
     ]
    },
    {
     "name": "stdout",
     "output_type": "stream",
     "text": [
      "Working with disease  dementia\n"
     ]
    },
    {
     "name": "stderr",
     "output_type": "stream",
     "text": [
      "\n",
      " 73%|███████▎  | 8/11 [00:58<00:21,  7.16s/it]\u001b[A"
     ]
    },
    {
     "name": "stdout",
     "output_type": "stream",
     "text": [
      "Working with disease  rheumatoid\n"
     ]
    },
    {
     "name": "stderr",
     "output_type": "stream",
     "text": [
      "\n",
      " 82%|████████▏ | 9/11 [01:06<00:14,  7.30s/it]\u001b[A"
     ]
    },
    {
     "name": "stdout",
     "output_type": "stream",
     "text": [
      "Working with disease  depression\n"
     ]
    },
    {
     "name": "stderr",
     "output_type": "stream",
     "text": [
      "\n",
      " 91%|█████████ | 10/11 [01:14<00:07,  7.50s/it]\u001b[A"
     ]
    },
    {
     "name": "stdout",
     "output_type": "stream",
     "text": [
      "Working with disease  diabetes\n"
     ]
    },
    {
     "name": "stderr",
     "output_type": "stream",
     "text": [
      "\n",
      "  8%|▊         | 6/74 [12:47<2:25:21, 128.26s/it]A\n",
      "  0%|          | 0/11 [00:00<?, ?it/s]\u001b[A"
     ]
    },
    {
     "name": "stdout",
     "output_type": "stream",
     "text": [
      "Working with disease  anxiety\n"
     ]
    },
    {
     "name": "stderr",
     "output_type": "stream",
     "text": [
      "\n",
      "  9%|▉         | 1/11 [00:07<01:14,  7.50s/it]\u001b[A"
     ]
    },
    {
     "name": "stdout",
     "output_type": "stream",
     "text": [
      "Working with disease  asthma\n"
     ]
    },
    {
     "name": "stderr",
     "output_type": "stream",
     "text": [
      "\n",
      " 18%|█▊        | 2/11 [00:15<01:07,  7.51s/it]\u001b[A"
     ]
    },
    {
     "name": "stdout",
     "output_type": "stream",
     "text": [
      "Working with disease  osteoporosis\n"
     ]
    },
    {
     "name": "stderr",
     "output_type": "stream",
     "text": [
      "\n",
      " 27%|██▋       | 3/11 [00:22<01:00,  7.57s/it]\u001b[A"
     ]
    },
    {
     "name": "stdout",
     "output_type": "stream",
     "text": [
      "Working with disease  stroke\n"
     ]
    },
    {
     "name": "stderr",
     "output_type": "stream",
     "text": [
      "\n",
      " 36%|███▋      | 4/11 [00:30<00:53,  7.60s/it]\u001b[A"
     ]
    },
    {
     "name": "stdout",
     "output_type": "stream",
     "text": [
      "Working with disease  sleeplessness\n"
     ]
    },
    {
     "name": "stderr",
     "output_type": "stream",
     "text": [
      "\n",
      " 45%|████▌     | 5/11 [00:38<00:46,  7.77s/it]\u001b[A"
     ]
    },
    {
     "name": "stdout",
     "output_type": "stream",
     "text": [
      "Working with disease  hypertension\n"
     ]
    },
    {
     "name": "stderr",
     "output_type": "stream",
     "text": [
      "\n",
      " 55%|█████▍    | 6/11 [00:46<00:38,  7.79s/it]\u001b[A"
     ]
    },
    {
     "name": "stdout",
     "output_type": "stream",
     "text": [
      "Working with disease  chronic obstructive pulmonary disease\n"
     ]
    },
    {
     "name": "stderr",
     "output_type": "stream",
     "text": [
      "\n",
      " 64%|██████▎   | 7/11 [00:51<00:28,  7.09s/it]\u001b[A"
     ]
    },
    {
     "name": "stdout",
     "output_type": "stream",
     "text": [
      "Working with disease  dementia\n"
     ]
    },
    {
     "name": "stderr",
     "output_type": "stream",
     "text": [
      "\n",
      " 73%|███████▎  | 8/11 [00:59<00:21,  7.19s/it]\u001b[A"
     ]
    },
    {
     "name": "stdout",
     "output_type": "stream",
     "text": [
      "Working with disease  rheumatoid\n"
     ]
    },
    {
     "name": "stderr",
     "output_type": "stream",
     "text": [
      "\n",
      " 82%|████████▏ | 9/11 [01:06<00:14,  7.26s/it]\u001b[A"
     ]
    },
    {
     "name": "stdout",
     "output_type": "stream",
     "text": [
      "Working with disease  depression\n"
     ]
    },
    {
     "name": "stderr",
     "output_type": "stream",
     "text": [
      "\n",
      " 91%|█████████ | 10/11 [01:14<00:07,  7.43s/it]\u001b[A"
     ]
    },
    {
     "name": "stdout",
     "output_type": "stream",
     "text": [
      "Working with disease  diabetes\n"
     ]
    },
    {
     "name": "stderr",
     "output_type": "stream",
     "text": [
      "\n",
      "  9%|▉         | 7/74 [14:57<2:23:41, 128.68s/it]A\n",
      "  0%|          | 0/11 [00:00<?, ?it/s]\u001b[A"
     ]
    },
    {
     "name": "stdout",
     "output_type": "stream",
     "text": [
      "Working with disease  anxiety\n"
     ]
    },
    {
     "name": "stderr",
     "output_type": "stream",
     "text": [
      "\n",
      "  9%|▉         | 1/11 [00:07<01:13,  7.38s/it]\u001b[A"
     ]
    },
    {
     "name": "stdout",
     "output_type": "stream",
     "text": [
      "Working with disease  asthma\n"
     ]
    },
    {
     "name": "stderr",
     "output_type": "stream",
     "text": [
      "\n",
      " 18%|█▊        | 2/11 [00:15<01:07,  7.45s/it]\u001b[A"
     ]
    },
    {
     "name": "stdout",
     "output_type": "stream",
     "text": [
      "Working with disease  osteoporosis\n"
     ]
    },
    {
     "name": "stderr",
     "output_type": "stream",
     "text": [
      "\n",
      " 27%|██▋       | 3/11 [00:22<00:59,  7.48s/it]\u001b[A"
     ]
    },
    {
     "name": "stdout",
     "output_type": "stream",
     "text": [
      "Working with disease  stroke\n"
     ]
    },
    {
     "name": "stderr",
     "output_type": "stream",
     "text": [
      "\n",
      " 36%|███▋      | 4/11 [00:30<00:52,  7.54s/it]\u001b[A"
     ]
    },
    {
     "name": "stdout",
     "output_type": "stream",
     "text": [
      "Working with disease  sleeplessness\n"
     ]
    },
    {
     "name": "stderr",
     "output_type": "stream",
     "text": [
      "\n",
      " 45%|████▌     | 5/11 [00:38<00:46,  7.73s/it]\u001b[A"
     ]
    },
    {
     "name": "stdout",
     "output_type": "stream",
     "text": [
      "Working with disease  hypertension\n"
     ]
    },
    {
     "name": "stderr",
     "output_type": "stream",
     "text": [
      "\n",
      " 55%|█████▍    | 6/11 [00:46<00:38,  7.71s/it]\u001b[A"
     ]
    },
    {
     "name": "stdout",
     "output_type": "stream",
     "text": [
      "Working with disease  chronic obstructive pulmonary disease\n"
     ]
    },
    {
     "name": "stderr",
     "output_type": "stream",
     "text": [
      "\n",
      " 64%|██████▎   | 7/11 [00:51<00:28,  7.10s/it]\u001b[A"
     ]
    },
    {
     "name": "stdout",
     "output_type": "stream",
     "text": [
      "Working with disease  dementia\n"
     ]
    },
    {
     "name": "stderr",
     "output_type": "stream",
     "text": [
      "\n",
      " 73%|███████▎  | 8/11 [00:59<00:22,  7.40s/it]\u001b[A"
     ]
    },
    {
     "name": "stdout",
     "output_type": "stream",
     "text": [
      "Working with disease  rheumatoid\n"
     ]
    },
    {
     "name": "stderr",
     "output_type": "stream",
     "text": [
      "\n",
      " 82%|████████▏ | 9/11 [01:07<00:14,  7.50s/it]\u001b[A"
     ]
    },
    {
     "name": "stdout",
     "output_type": "stream",
     "text": [
      "Working with disease  depression\n"
     ]
    },
    {
     "name": "stderr",
     "output_type": "stream",
     "text": [
      "\n",
      " 91%|█████████ | 10/11 [01:15<00:07,  7.59s/it]\u001b[A"
     ]
    },
    {
     "name": "stdout",
     "output_type": "stream",
     "text": [
      "Working with disease  diabetes\n"
     ]
    },
    {
     "name": "stderr",
     "output_type": "stream",
     "text": [
      "\n",
      " 11%|█         | 8/74 [17:05<2:21:35, 128.72s/it]A\n",
      "  0%|          | 0/11 [00:00<?, ?it/s]\u001b[A"
     ]
    },
    {
     "name": "stdout",
     "output_type": "stream",
     "text": [
      "Working with disease  anxiety\n"
     ]
    },
    {
     "name": "stderr",
     "output_type": "stream",
     "text": [
      "\n",
      "  9%|▉         | 1/11 [00:07<01:17,  7.77s/it]\u001b[A"
     ]
    },
    {
     "name": "stdout",
     "output_type": "stream",
     "text": [
      "Working with disease  asthma\n"
     ]
    },
    {
     "name": "stderr",
     "output_type": "stream",
     "text": [
      "\n",
      " 18%|█▊        | 2/11 [00:15<01:10,  7.79s/it]\u001b[A"
     ]
    },
    {
     "name": "stdout",
     "output_type": "stream",
     "text": [
      "Working with disease  osteoporosis\n"
     ]
    },
    {
     "name": "stderr",
     "output_type": "stream",
     "text": [
      "\n",
      " 27%|██▋       | 3/11 [00:23<01:02,  7.82s/it]\u001b[A"
     ]
    },
    {
     "name": "stdout",
     "output_type": "stream",
     "text": [
      "Working with disease  stroke\n"
     ]
    },
    {
     "name": "stderr",
     "output_type": "stream",
     "text": [
      "\n",
      " 36%|███▋      | 4/11 [00:31<00:54,  7.85s/it]\u001b[A"
     ]
    },
    {
     "name": "stdout",
     "output_type": "stream",
     "text": [
      "Working with disease  sleeplessness\n"
     ]
    },
    {
     "name": "stderr",
     "output_type": "stream",
     "text": [
      "\n",
      " 45%|████▌     | 5/11 [00:39<00:47,  7.90s/it]\u001b[A"
     ]
    },
    {
     "name": "stdout",
     "output_type": "stream",
     "text": [
      "Working with disease  hypertension\n"
     ]
    },
    {
     "name": "stderr",
     "output_type": "stream",
     "text": [
      "\n",
      " 55%|█████▍    | 6/11 [00:47<00:39,  7.94s/it]\u001b[A"
     ]
    },
    {
     "name": "stdout",
     "output_type": "stream",
     "text": [
      "Working with disease  chronic obstructive pulmonary disease\n"
     ]
    },
    {
     "name": "stderr",
     "output_type": "stream",
     "text": [
      "\n",
      " 64%|██████▎   | 7/11 [00:53<00:28,  7.25s/it]\u001b[A"
     ]
    },
    {
     "name": "stdout",
     "output_type": "stream",
     "text": [
      "Working with disease  dementia\n"
     ]
    },
    {
     "name": "stderr",
     "output_type": "stream",
     "text": [
      "\n",
      " 73%|███████▎  | 8/11 [01:00<00:22,  7.38s/it]\u001b[A"
     ]
    },
    {
     "name": "stdout",
     "output_type": "stream",
     "text": [
      "Working with disease  rheumatoid\n"
     ]
    },
    {
     "name": "stderr",
     "output_type": "stream",
     "text": [
      "\n",
      " 82%|████████▏ | 9/11 [01:08<00:14,  7.47s/it]\u001b[A"
     ]
    },
    {
     "name": "stdout",
     "output_type": "stream",
     "text": [
      "Working with disease  depression\n"
     ]
    },
    {
     "name": "stderr",
     "output_type": "stream",
     "text": [
      "\n",
      " 91%|█████████ | 10/11 [01:16<00:07,  7.56s/it]\u001b[A"
     ]
    },
    {
     "name": "stdout",
     "output_type": "stream",
     "text": [
      "Working with disease  diabetes\n"
     ]
    },
    {
     "name": "stderr",
     "output_type": "stream",
     "text": [
      "\n",
      " 12%|█▏        | 9/74 [19:17<2:20:17, 129.51s/it]A\n",
      "  0%|          | 0/11 [00:00<?, ?it/s]\u001b[A"
     ]
    },
    {
     "name": "stdout",
     "output_type": "stream",
     "text": [
      "Working with disease  anxiety\n"
     ]
    },
    {
     "name": "stderr",
     "output_type": "stream",
     "text": [
      "\n",
      "  9%|▉         | 1/11 [00:07<01:17,  7.72s/it]\u001b[A"
     ]
    },
    {
     "name": "stdout",
     "output_type": "stream",
     "text": [
      "Working with disease  asthma\n"
     ]
    },
    {
     "name": "stderr",
     "output_type": "stream",
     "text": [
      "\n",
      " 18%|█▊        | 2/11 [00:15<01:09,  7.74s/it]\u001b[A"
     ]
    },
    {
     "name": "stdout",
     "output_type": "stream",
     "text": [
      "Working with disease  osteoporosis\n"
     ]
    },
    {
     "name": "stderr",
     "output_type": "stream",
     "text": [
      "\n",
      " 27%|██▋       | 3/11 [00:23<01:01,  7.73s/it]\u001b[A"
     ]
    },
    {
     "name": "stdout",
     "output_type": "stream",
     "text": [
      "Working with disease  stroke\n"
     ]
    },
    {
     "name": "stderr",
     "output_type": "stream",
     "text": [
      "\n",
      " 36%|███▋      | 4/11 [00:30<00:54,  7.74s/it]\u001b[A"
     ]
    },
    {
     "name": "stdout",
     "output_type": "stream",
     "text": [
      "Working with disease  sleeplessness\n"
     ]
    },
    {
     "name": "stderr",
     "output_type": "stream",
     "text": [
      "\n",
      " 45%|████▌     | 5/11 [00:38<00:46,  7.82s/it]\u001b[A"
     ]
    },
    {
     "name": "stdout",
     "output_type": "stream",
     "text": [
      "Working with disease  hypertension\n"
     ]
    },
    {
     "name": "stderr",
     "output_type": "stream",
     "text": [
      "\n",
      " 55%|█████▍    | 6/11 [00:46<00:39,  7.85s/it]\u001b[A"
     ]
    },
    {
     "name": "stdout",
     "output_type": "stream",
     "text": [
      "Working with disease  chronic obstructive pulmonary disease\n"
     ]
    },
    {
     "name": "stderr",
     "output_type": "stream",
     "text": [
      "\n",
      " 64%|██████▎   | 7/11 [00:52<00:28,  7.21s/it]\u001b[A"
     ]
    },
    {
     "name": "stdout",
     "output_type": "stream",
     "text": [
      "Working with disease  dementia\n"
     ]
    },
    {
     "name": "stderr",
     "output_type": "stream",
     "text": [
      "\n",
      " 73%|███████▎  | 8/11 [01:00<00:22,  7.39s/it]\u001b[A"
     ]
    },
    {
     "name": "stdout",
     "output_type": "stream",
     "text": [
      "Working with disease  rheumatoid\n"
     ]
    },
    {
     "name": "stderr",
     "output_type": "stream",
     "text": [
      "\n",
      " 82%|████████▏ | 9/11 [01:08<00:15,  7.50s/it]\u001b[A"
     ]
    },
    {
     "name": "stdout",
     "output_type": "stream",
     "text": [
      "Working with disease  depression\n"
     ]
    },
    {
     "name": "stderr",
     "output_type": "stream",
     "text": [
      "\n",
      " 91%|█████████ | 10/11 [01:16<00:07,  7.65s/it]\u001b[A"
     ]
    },
    {
     "name": "stdout",
     "output_type": "stream",
     "text": [
      "Working with disease  diabetes\n"
     ]
    },
    {
     "name": "stderr",
     "output_type": "stream",
     "text": [
      "\n",
      " 14%|█▎        | 10/74 [21:28<2:18:47, 130.12s/it]\n",
      "  0%|          | 0/11 [00:00<?, ?it/s]\u001b[A"
     ]
    },
    {
     "name": "stdout",
     "output_type": "stream",
     "text": [
      "Working with disease  anxiety\n"
     ]
    },
    {
     "name": "stderr",
     "output_type": "stream",
     "text": [
      "\n",
      "  9%|▉         | 1/11 [00:07<01:17,  7.72s/it]\u001b[A"
     ]
    },
    {
     "name": "stdout",
     "output_type": "stream",
     "text": [
      "Working with disease  asthma\n"
     ]
    },
    {
     "name": "stderr",
     "output_type": "stream",
     "text": [
      "\n",
      " 18%|█▊        | 2/11 [00:15<01:09,  7.77s/it]\u001b[A"
     ]
    },
    {
     "name": "stdout",
     "output_type": "stream",
     "text": [
      "Working with disease  osteoporosis\n"
     ]
    },
    {
     "name": "stderr",
     "output_type": "stream",
     "text": [
      "\n",
      " 27%|██▋       | 3/11 [00:23<01:01,  7.73s/it]\u001b[A"
     ]
    },
    {
     "name": "stdout",
     "output_type": "stream",
     "text": [
      "Working with disease  stroke\n"
     ]
    },
    {
     "name": "stderr",
     "output_type": "stream",
     "text": [
      "\n",
      " 36%|███▋      | 4/11 [00:31<00:54,  7.80s/it]\u001b[A"
     ]
    },
    {
     "name": "stdout",
     "output_type": "stream",
     "text": [
      "Working with disease  sleeplessness\n"
     ]
    },
    {
     "name": "stderr",
     "output_type": "stream",
     "text": [
      "\n",
      " 45%|████▌     | 5/11 [00:39<00:47,  7.98s/it]\u001b[A"
     ]
    },
    {
     "name": "stdout",
     "output_type": "stream",
     "text": [
      "Working with disease  hypertension\n"
     ]
    },
    {
     "name": "stderr",
     "output_type": "stream",
     "text": [
      "\n",
      " 55%|█████▍    | 6/11 [00:47<00:40,  8.01s/it]\u001b[A"
     ]
    },
    {
     "name": "stdout",
     "output_type": "stream",
     "text": [
      "Working with disease  chronic obstructive pulmonary disease\n"
     ]
    },
    {
     "name": "stderr",
     "output_type": "stream",
     "text": [
      "\n",
      " 64%|██████▎   | 7/11 [00:53<00:29,  7.34s/it]\u001b[A"
     ]
    },
    {
     "name": "stdout",
     "output_type": "stream",
     "text": [
      "Working with disease  dementia\n"
     ]
    },
    {
     "name": "stderr",
     "output_type": "stream",
     "text": [
      "\n",
      " 73%|███████▎  | 8/11 [01:01<00:22,  7.47s/it]\u001b[A"
     ]
    },
    {
     "name": "stdout",
     "output_type": "stream",
     "text": [
      "Working with disease  rheumatoid\n"
     ]
    },
    {
     "name": "stderr",
     "output_type": "stream",
     "text": [
      "\n",
      " 82%|████████▏ | 9/11 [01:09<00:15,  7.57s/it]\u001b[A"
     ]
    },
    {
     "name": "stdout",
     "output_type": "stream",
     "text": [
      "Working with disease  depression\n"
     ]
    },
    {
     "name": "stderr",
     "output_type": "stream",
     "text": [
      "\n",
      " 91%|█████████ | 10/11 [01:17<00:07,  7.70s/it]\u001b[A"
     ]
    },
    {
     "name": "stdout",
     "output_type": "stream",
     "text": [
      "Working with disease  diabetes\n"
     ]
    },
    {
     "name": "stderr",
     "output_type": "stream",
     "text": [
      "\n",
      " 15%|█▍        | 11/74 [23:40<2:16:58, 130.46s/it]\n",
      "  0%|          | 0/11 [00:00<?, ?it/s]\u001b[A"
     ]
    },
    {
     "name": "stdout",
     "output_type": "stream",
     "text": [
      "Working with disease  anxiety\n"
     ]
    },
    {
     "name": "stderr",
     "output_type": "stream",
     "text": [
      "\n",
      "  9%|▉         | 1/11 [00:07<01:15,  7.55s/it]\u001b[A"
     ]
    },
    {
     "name": "stdout",
     "output_type": "stream",
     "text": [
      "Working with disease  asthma\n"
     ]
    },
    {
     "name": "stderr",
     "output_type": "stream",
     "text": [
      "\n",
      " 18%|█▊        | 2/11 [00:15<01:07,  7.52s/it]\u001b[A"
     ]
    },
    {
     "name": "stdout",
     "output_type": "stream",
     "text": [
      "Working with disease  osteoporosis\n"
     ]
    },
    {
     "name": "stderr",
     "output_type": "stream",
     "text": [
      "\n",
      " 27%|██▋       | 3/11 [00:22<01:00,  7.51s/it]\u001b[A"
     ]
    },
    {
     "name": "stdout",
     "output_type": "stream",
     "text": [
      "Working with disease  stroke\n"
     ]
    },
    {
     "name": "stderr",
     "output_type": "stream",
     "text": [
      "\n",
      " 36%|███▋      | 4/11 [00:30<00:52,  7.53s/it]\u001b[A"
     ]
    },
    {
     "name": "stdout",
     "output_type": "stream",
     "text": [
      "Working with disease  sleeplessness\n"
     ]
    },
    {
     "name": "stderr",
     "output_type": "stream",
     "text": [
      "\n",
      " 45%|████▌     | 5/11 [00:37<00:45,  7.61s/it]\u001b[A"
     ]
    },
    {
     "name": "stdout",
     "output_type": "stream",
     "text": [
      "Working with disease  hypertension\n"
     ]
    },
    {
     "name": "stderr",
     "output_type": "stream",
     "text": [
      "\n",
      " 55%|█████▍    | 6/11 [00:45<00:38,  7.67s/it]\u001b[A"
     ]
    },
    {
     "name": "stdout",
     "output_type": "stream",
     "text": [
      "Working with disease  chronic obstructive pulmonary disease\n"
     ]
    },
    {
     "name": "stderr",
     "output_type": "stream",
     "text": [
      "\n",
      " 64%|██████▎   | 7/11 [00:51<00:28,  7.18s/it]\u001b[A"
     ]
    },
    {
     "name": "stdout",
     "output_type": "stream",
     "text": [
      "Working with disease  dementia\n"
     ]
    },
    {
     "name": "stderr",
     "output_type": "stream",
     "text": [
      "\n",
      " 73%|███████▎  | 8/11 [00:59<00:22,  7.37s/it]\u001b[A"
     ]
    },
    {
     "name": "stdout",
     "output_type": "stream",
     "text": [
      "Working with disease  rheumatoid\n"
     ]
    },
    {
     "name": "stderr",
     "output_type": "stream",
     "text": [
      "\n",
      " 82%|████████▏ | 9/11 [01:07<00:14,  7.48s/it]\u001b[A"
     ]
    },
    {
     "name": "stdout",
     "output_type": "stream",
     "text": [
      "Working with disease  depression\n"
     ]
    },
    {
     "name": "stderr",
     "output_type": "stream",
     "text": [
      "\n",
      " 91%|█████████ | 10/11 [01:14<00:07,  7.56s/it]\u001b[A"
     ]
    },
    {
     "name": "stdout",
     "output_type": "stream",
     "text": [
      "Working with disease  diabetes\n"
     ]
    },
    {
     "name": "stderr",
     "output_type": "stream",
     "text": [
      "\n",
      " 16%|█▌        | 12/74 [25:50<2:14:40, 130.32s/it]\n",
      "  0%|          | 0/11 [00:00<?, ?it/s]\u001b[A"
     ]
    },
    {
     "name": "stdout",
     "output_type": "stream",
     "text": [
      "Working with disease  anxiety\n"
     ]
    },
    {
     "name": "stderr",
     "output_type": "stream",
     "text": [
      "\n",
      "  9%|▉         | 1/11 [00:07<01:13,  7.35s/it]\u001b[A"
     ]
    },
    {
     "name": "stdout",
     "output_type": "stream",
     "text": [
      "Working with disease  asthma\n"
     ]
    },
    {
     "name": "stderr",
     "output_type": "stream",
     "text": [
      "\n",
      " 18%|█▊        | 2/11 [00:15<01:07,  7.50s/it]\u001b[A"
     ]
    },
    {
     "name": "stdout",
     "output_type": "stream",
     "text": [
      "Working with disease  osteoporosis\n"
     ]
    },
    {
     "name": "stderr",
     "output_type": "stream",
     "text": [
      "\n",
      " 27%|██▋       | 3/11 [00:22<01:00,  7.52s/it]\u001b[A"
     ]
    },
    {
     "name": "stdout",
     "output_type": "stream",
     "text": [
      "Working with disease  stroke\n"
     ]
    },
    {
     "name": "stderr",
     "output_type": "stream",
     "text": [
      "\n",
      " 36%|███▋      | 4/11 [00:30<00:52,  7.53s/it]\u001b[A"
     ]
    },
    {
     "name": "stdout",
     "output_type": "stream",
     "text": [
      "Working with disease  sleeplessness\n"
     ]
    },
    {
     "name": "stderr",
     "output_type": "stream",
     "text": [
      "\n",
      " 45%|████▌     | 5/11 [00:38<00:45,  7.65s/it]\u001b[A"
     ]
    },
    {
     "name": "stdout",
     "output_type": "stream",
     "text": [
      "Working with disease  hypertension\n"
     ]
    },
    {
     "name": "stderr",
     "output_type": "stream",
     "text": [
      "\n",
      " 55%|█████▍    | 6/11 [00:46<00:38,  7.68s/it]\u001b[A"
     ]
    },
    {
     "name": "stdout",
     "output_type": "stream",
     "text": [
      "Working with disease  chronic obstructive pulmonary disease\n"
     ]
    },
    {
     "name": "stderr",
     "output_type": "stream",
     "text": [
      "\n",
      " 64%|██████▎   | 7/11 [00:51<00:28,  7.09s/it]\u001b[A"
     ]
    },
    {
     "name": "stdout",
     "output_type": "stream",
     "text": [
      "Working with disease  dementia\n"
     ]
    },
    {
     "name": "stderr",
     "output_type": "stream",
     "text": [
      "\n",
      " 73%|███████▎  | 8/11 [00:59<00:21,  7.22s/it]\u001b[A"
     ]
    },
    {
     "name": "stdout",
     "output_type": "stream",
     "text": [
      "Working with disease  rheumatoid\n"
     ]
    },
    {
     "name": "stderr",
     "output_type": "stream",
     "text": [
      "\n",
      " 82%|████████▏ | 9/11 [01:06<00:14,  7.27s/it]\u001b[A"
     ]
    },
    {
     "name": "stdout",
     "output_type": "stream",
     "text": [
      "Working with disease  depression\n"
     ]
    },
    {
     "name": "stderr",
     "output_type": "stream",
     "text": [
      "\n",
      " 91%|█████████ | 10/11 [01:14<00:07,  7.42s/it]\u001b[A"
     ]
    },
    {
     "name": "stdout",
     "output_type": "stream",
     "text": [
      "Working with disease  diabetes\n"
     ]
    },
    {
     "name": "stderr",
     "output_type": "stream",
     "text": [
      "\n",
      " 18%|█▊        | 13/74 [27:58<2:12:03, 129.89s/it]\n",
      "  0%|          | 0/11 [00:00<?, ?it/s]\u001b[A"
     ]
    },
    {
     "name": "stdout",
     "output_type": "stream",
     "text": [
      "Working with disease  anxiety\n"
     ]
    },
    {
     "name": "stderr",
     "output_type": "stream",
     "text": [
      "\n",
      "  9%|▉         | 1/11 [00:07<01:14,  7.45s/it]\u001b[A"
     ]
    },
    {
     "name": "stdout",
     "output_type": "stream",
     "text": [
      "Working with disease  asthma\n"
     ]
    },
    {
     "name": "stderr",
     "output_type": "stream",
     "text": [
      "\n",
      " 18%|█▊        | 2/11 [00:15<01:07,  7.51s/it]\u001b[A"
     ]
    },
    {
     "name": "stdout",
     "output_type": "stream",
     "text": [
      "Working with disease  osteoporosis\n"
     ]
    },
    {
     "name": "stderr",
     "output_type": "stream",
     "text": [
      "\n",
      " 27%|██▋       | 3/11 [00:22<01:00,  7.53s/it]\u001b[A"
     ]
    },
    {
     "name": "stdout",
     "output_type": "stream",
     "text": [
      "Working with disease  stroke\n"
     ]
    },
    {
     "name": "stderr",
     "output_type": "stream",
     "text": [
      "\n",
      " 36%|███▋      | 4/11 [00:30<00:52,  7.55s/it]\u001b[A"
     ]
    },
    {
     "name": "stdout",
     "output_type": "stream",
     "text": [
      "Working with disease  sleeplessness\n"
     ]
    },
    {
     "name": "stderr",
     "output_type": "stream",
     "text": [
      "\n",
      " 45%|████▌     | 5/11 [00:38<00:46,  7.67s/it]\u001b[A"
     ]
    },
    {
     "name": "stdout",
     "output_type": "stream",
     "text": [
      "Working with disease  hypertension\n"
     ]
    },
    {
     "name": "stderr",
     "output_type": "stream",
     "text": [
      "\n",
      " 55%|█████▍    | 6/11 [00:46<00:38,  7.70s/it]\u001b[A"
     ]
    },
    {
     "name": "stdout",
     "output_type": "stream",
     "text": [
      "Working with disease  chronic obstructive pulmonary disease\n"
     ]
    },
    {
     "name": "stderr",
     "output_type": "stream",
     "text": [
      "\n",
      " 64%|██████▎   | 7/11 [00:51<00:28,  7.12s/it]\u001b[A"
     ]
    },
    {
     "name": "stdout",
     "output_type": "stream",
     "text": [
      "Working with disease  dementia\n"
     ]
    },
    {
     "name": "stderr",
     "output_type": "stream",
     "text": [
      "\n",
      " 73%|███████▎  | 8/11 [00:59<00:21,  7.31s/it]\u001b[A"
     ]
    },
    {
     "name": "stdout",
     "output_type": "stream",
     "text": [
      "Working with disease  rheumatoid\n"
     ]
    },
    {
     "name": "stderr",
     "output_type": "stream",
     "text": [
      "\n",
      " 82%|████████▏ | 9/11 [01:07<00:14,  7.43s/it]\u001b[A"
     ]
    },
    {
     "name": "stdout",
     "output_type": "stream",
     "text": [
      "Working with disease  depression\n"
     ]
    },
    {
     "name": "stderr",
     "output_type": "stream",
     "text": [
      "\n",
      " 91%|█████████ | 10/11 [01:14<00:07,  7.53s/it]\u001b[A"
     ]
    },
    {
     "name": "stdout",
     "output_type": "stream",
     "text": [
      "Working with disease  diabetes\n"
     ]
    },
    {
     "name": "stderr",
     "output_type": "stream",
     "text": [
      "\n",
      " 19%|█▉        | 14/74 [30:08<2:09:42, 129.71s/it]\n",
      "  0%|          | 0/11 [00:00<?, ?it/s]\u001b[A"
     ]
    },
    {
     "name": "stdout",
     "output_type": "stream",
     "text": [
      "Working with disease  anxiety\n"
     ]
    },
    {
     "name": "stderr",
     "output_type": "stream",
     "text": [
      "\n",
      "  9%|▉         | 1/11 [00:07<01:15,  7.58s/it]\u001b[A"
     ]
    },
    {
     "name": "stdout",
     "output_type": "stream",
     "text": [
      "Working with disease  asthma\n"
     ]
    },
    {
     "name": "stderr",
     "output_type": "stream",
     "text": [
      "\n",
      " 18%|█▊        | 2/11 [00:15<01:08,  7.58s/it]\u001b[A"
     ]
    },
    {
     "name": "stdout",
     "output_type": "stream",
     "text": [
      "Working with disease  osteoporosis\n"
     ]
    },
    {
     "name": "stderr",
     "output_type": "stream",
     "text": [
      "\n",
      " 27%|██▋       | 3/11 [00:22<01:00,  7.58s/it]\u001b[A"
     ]
    },
    {
     "name": "stdout",
     "output_type": "stream",
     "text": [
      "Working with disease  stroke\n"
     ]
    },
    {
     "name": "stderr",
     "output_type": "stream",
     "text": [
      "\n",
      " 36%|███▋      | 4/11 [00:30<00:53,  7.58s/it]\u001b[A"
     ]
    },
    {
     "name": "stdout",
     "output_type": "stream",
     "text": [
      "Working with disease  sleeplessness\n"
     ]
    },
    {
     "name": "stderr",
     "output_type": "stream",
     "text": [
      "\n",
      " 45%|████▌     | 5/11 [00:38<00:46,  7.74s/it]\u001b[A"
     ]
    },
    {
     "name": "stdout",
     "output_type": "stream",
     "text": [
      "Working with disease  hypertension\n"
     ]
    },
    {
     "name": "stderr",
     "output_type": "stream",
     "text": [
      "\n",
      " 55%|█████▍    | 6/11 [00:46<00:38,  7.72s/it]\u001b[A"
     ]
    },
    {
     "name": "stdout",
     "output_type": "stream",
     "text": [
      "Working with disease  chronic obstructive pulmonary disease\n"
     ]
    },
    {
     "name": "stderr",
     "output_type": "stream",
     "text": [
      "\n",
      " 64%|██████▎   | 7/11 [00:52<00:28,  7.19s/it]\u001b[A"
     ]
    },
    {
     "name": "stdout",
     "output_type": "stream",
     "text": [
      "Working with disease  dementia\n"
     ]
    },
    {
     "name": "stderr",
     "output_type": "stream",
     "text": [
      "\n",
      " 73%|███████▎  | 8/11 [00:59<00:21,  7.29s/it]\u001b[A"
     ]
    },
    {
     "name": "stdout",
     "output_type": "stream",
     "text": [
      "Working with disease  rheumatoid\n"
     ]
    },
    {
     "name": "stderr",
     "output_type": "stream",
     "text": [
      "\n",
      " 82%|████████▏ | 9/11 [01:07<00:14,  7.47s/it]\u001b[A"
     ]
    },
    {
     "name": "stdout",
     "output_type": "stream",
     "text": [
      "Working with disease  depression\n"
     ]
    },
    {
     "name": "stderr",
     "output_type": "stream",
     "text": [
      "\n",
      " 91%|█████████ | 10/11 [01:15<00:07,  7.62s/it]\u001b[A"
     ]
    },
    {
     "name": "stdout",
     "output_type": "stream",
     "text": [
      "Working with disease  diabetes\n"
     ]
    },
    {
     "name": "stderr",
     "output_type": "stream",
     "text": [
      "\n",
      " 20%|██        | 15/74 [32:18<2:07:34, 129.75s/it]\n",
      "  0%|          | 0/11 [00:00<?, ?it/s]\u001b[A"
     ]
    },
    {
     "name": "stdout",
     "output_type": "stream",
     "text": [
      "Working with disease  anxiety\n"
     ]
    },
    {
     "name": "stderr",
     "output_type": "stream",
     "text": [
      "\n",
      "  9%|▉         | 1/11 [00:07<01:15,  7.53s/it]\u001b[A"
     ]
    },
    {
     "name": "stdout",
     "output_type": "stream",
     "text": [
      "Working with disease  asthma\n"
     ]
    },
    {
     "name": "stderr",
     "output_type": "stream",
     "text": [
      "\n",
      " 18%|█▊        | 2/11 [00:15<01:07,  7.52s/it]\u001b[A"
     ]
    },
    {
     "name": "stdout",
     "output_type": "stream",
     "text": [
      "Working with disease  osteoporosis\n"
     ]
    },
    {
     "name": "stderr",
     "output_type": "stream",
     "text": [
      "\n",
      " 27%|██▋       | 3/11 [00:22<01:00,  7.52s/it]\u001b[A"
     ]
    },
    {
     "name": "stdout",
     "output_type": "stream",
     "text": [
      "Working with disease  stroke\n"
     ]
    },
    {
     "name": "stderr",
     "output_type": "stream",
     "text": [
      "\n",
      " 36%|███▋      | 4/11 [00:30<00:52,  7.56s/it]\u001b[A"
     ]
    },
    {
     "name": "stdout",
     "output_type": "stream",
     "text": [
      "Working with disease  sleeplessness\n"
     ]
    },
    {
     "name": "stderr",
     "output_type": "stream",
     "text": [
      "\n",
      " 45%|████▌     | 5/11 [00:38<00:46,  7.70s/it]\u001b[A"
     ]
    },
    {
     "name": "stdout",
     "output_type": "stream",
     "text": [
      "Working with disease  hypertension\n"
     ]
    },
    {
     "name": "stderr",
     "output_type": "stream",
     "text": [
      "\n",
      " 55%|█████▍    | 6/11 [00:46<00:38,  7.73s/it]\u001b[A"
     ]
    },
    {
     "name": "stdout",
     "output_type": "stream",
     "text": [
      "Working with disease  chronic obstructive pulmonary disease\n"
     ]
    },
    {
     "name": "stderr",
     "output_type": "stream",
     "text": [
      "\n",
      " 64%|██████▎   | 7/11 [00:52<00:28,  7.24s/it]\u001b[A"
     ]
    },
    {
     "name": "stdout",
     "output_type": "stream",
     "text": [
      "Working with disease  dementia\n"
     ]
    },
    {
     "name": "stderr",
     "output_type": "stream",
     "text": [
      "\n",
      " 73%|███████▎  | 8/11 [00:59<00:22,  7.39s/it]\u001b[A"
     ]
    },
    {
     "name": "stdout",
     "output_type": "stream",
     "text": [
      "Working with disease  rheumatoid\n"
     ]
    },
    {
     "name": "stderr",
     "output_type": "stream",
     "text": [
      "\n",
      " 82%|████████▏ | 9/11 [01:07<00:14,  7.44s/it]\u001b[A"
     ]
    },
    {
     "name": "stdout",
     "output_type": "stream",
     "text": [
      "Working with disease  depression\n"
     ]
    },
    {
     "name": "stderr",
     "output_type": "stream",
     "text": [
      "\n",
      " 91%|█████████ | 10/11 [01:15<00:07,  7.52s/it]\u001b[A"
     ]
    },
    {
     "name": "stdout",
     "output_type": "stream",
     "text": [
      "Working with disease  diabetes\n"
     ]
    },
    {
     "name": "stderr",
     "output_type": "stream",
     "text": [
      "\n",
      " 22%|██▏       | 16/74 [34:30<2:06:12, 130.56s/it]\n",
      "  0%|          | 0/11 [00:00<?, ?it/s]\u001b[A"
     ]
    },
    {
     "name": "stdout",
     "output_type": "stream",
     "text": [
      "Working with disease  anxiety\n"
     ]
    },
    {
     "name": "stderr",
     "output_type": "stream",
     "text": [
      "\n",
      "  9%|▉         | 1/11 [00:07<01:17,  7.73s/it]\u001b[A"
     ]
    },
    {
     "name": "stdout",
     "output_type": "stream",
     "text": [
      "Working with disease  asthma\n"
     ]
    },
    {
     "name": "stderr",
     "output_type": "stream",
     "text": [
      "\n",
      " 18%|█▊        | 2/11 [00:15<01:10,  7.86s/it]\u001b[A"
     ]
    },
    {
     "name": "stdout",
     "output_type": "stream",
     "text": [
      "Working with disease  osteoporosis\n"
     ]
    },
    {
     "name": "stderr",
     "output_type": "stream",
     "text": [
      "\n",
      " 27%|██▋       | 3/11 [00:23<01:02,  7.75s/it]\u001b[A"
     ]
    },
    {
     "name": "stdout",
     "output_type": "stream",
     "text": [
      "Working with disease  stroke\n"
     ]
    },
    {
     "name": "stderr",
     "output_type": "stream",
     "text": [
      "\n",
      " 36%|███▋      | 4/11 [00:31<00:54,  7.72s/it]\u001b[A"
     ]
    },
    {
     "name": "stdout",
     "output_type": "stream",
     "text": [
      "Working with disease  sleeplessness\n"
     ]
    },
    {
     "name": "stderr",
     "output_type": "stream",
     "text": [
      "\n",
      " 45%|████▌     | 5/11 [00:39<00:46,  7.83s/it]\u001b[A"
     ]
    },
    {
     "name": "stdout",
     "output_type": "stream",
     "text": [
      "Working with disease  hypertension\n"
     ]
    },
    {
     "name": "stderr",
     "output_type": "stream",
     "text": [
      "\n",
      " 55%|█████▍    | 6/11 [00:47<00:39,  7.92s/it]\u001b[A"
     ]
    },
    {
     "name": "stdout",
     "output_type": "stream",
     "text": [
      "Working with disease  chronic obstructive pulmonary disease\n"
     ]
    },
    {
     "name": "stderr",
     "output_type": "stream",
     "text": [
      "\n",
      " 64%|██████▎   | 7/11 [00:53<00:29,  7.34s/it]\u001b[A"
     ]
    },
    {
     "name": "stdout",
     "output_type": "stream",
     "text": [
      "Working with disease  dementia\n"
     ]
    },
    {
     "name": "stderr",
     "output_type": "stream",
     "text": [
      "\n",
      " 73%|███████▎  | 8/11 [01:00<00:22,  7.42s/it]\u001b[A"
     ]
    },
    {
     "name": "stdout",
     "output_type": "stream",
     "text": [
      "Working with disease  rheumatoid\n"
     ]
    },
    {
     "name": "stderr",
     "output_type": "stream",
     "text": [
      "\n",
      " 82%|████████▏ | 9/11 [01:08<00:14,  7.45s/it]\u001b[A"
     ]
    },
    {
     "name": "stdout",
     "output_type": "stream",
     "text": [
      "Working with disease  depression\n"
     ]
    },
    {
     "name": "stderr",
     "output_type": "stream",
     "text": [
      "\n",
      " 91%|█████████ | 10/11 [01:15<00:07,  7.41s/it]\u001b[A"
     ]
    },
    {
     "name": "stdout",
     "output_type": "stream",
     "text": [
      "Working with disease  diabetes\n"
     ]
    },
    {
     "name": "stderr",
     "output_type": "stream",
     "text": [
      "\n",
      " 23%|██▎       | 17/74 [36:41<2:04:12, 130.75s/it]\n",
      "  0%|          | 0/11 [00:00<?, ?it/s]\u001b[A"
     ]
    },
    {
     "name": "stdout",
     "output_type": "stream",
     "text": [
      "Working with disease  anxiety\n"
     ]
    },
    {
     "name": "stderr",
     "output_type": "stream",
     "text": [
      "\n",
      "  9%|▉         | 1/11 [00:07<01:15,  7.55s/it]\u001b[A"
     ]
    },
    {
     "name": "stdout",
     "output_type": "stream",
     "text": [
      "Working with disease  asthma\n"
     ]
    },
    {
     "name": "stderr",
     "output_type": "stream",
     "text": [
      "\n",
      " 18%|█▊        | 2/11 [00:15<01:07,  7.53s/it]\u001b[A"
     ]
    },
    {
     "name": "stdout",
     "output_type": "stream",
     "text": [
      "Working with disease  osteoporosis\n"
     ]
    },
    {
     "name": "stderr",
     "output_type": "stream",
     "text": [
      "\n",
      " 27%|██▋       | 3/11 [00:22<01:00,  7.54s/it]\u001b[A"
     ]
    },
    {
     "name": "stdout",
     "output_type": "stream",
     "text": [
      "Working with disease  stroke\n"
     ]
    },
    {
     "name": "stderr",
     "output_type": "stream",
     "text": [
      "\n",
      " 36%|███▋      | 4/11 [00:30<00:53,  7.60s/it]\u001b[A"
     ]
    },
    {
     "name": "stdout",
     "output_type": "stream",
     "text": [
      "Working with disease  sleeplessness\n"
     ]
    },
    {
     "name": "stderr",
     "output_type": "stream",
     "text": [
      "\n",
      " 45%|████▌     | 5/11 [00:38<00:46,  7.77s/it]\u001b[A"
     ]
    },
    {
     "name": "stdout",
     "output_type": "stream",
     "text": [
      "Working with disease  hypertension\n"
     ]
    },
    {
     "name": "stderr",
     "output_type": "stream",
     "text": [
      "\n",
      " 55%|█████▍    | 6/11 [00:46<00:39,  7.89s/it]\u001b[A"
     ]
    },
    {
     "name": "stdout",
     "output_type": "stream",
     "text": [
      "Working with disease  chronic obstructive pulmonary disease\n"
     ]
    },
    {
     "name": "stderr",
     "output_type": "stream",
     "text": [
      "\n",
      " 64%|██████▎   | 7/11 [00:52<00:29,  7.36s/it]\u001b[A"
     ]
    },
    {
     "name": "stdout",
     "output_type": "stream",
     "text": [
      "Working with disease  dementia\n"
     ]
    },
    {
     "name": "stderr",
     "output_type": "stream",
     "text": [
      "\n",
      " 73%|███████▎  | 8/11 [01:00<00:22,  7.44s/it]\u001b[A"
     ]
    },
    {
     "name": "stdout",
     "output_type": "stream",
     "text": [
      "Working with disease  rheumatoid\n"
     ]
    },
    {
     "name": "stderr",
     "output_type": "stream",
     "text": [
      "\n",
      " 82%|████████▏ | 9/11 [01:07<00:14,  7.44s/it]\u001b[A"
     ]
    },
    {
     "name": "stdout",
     "output_type": "stream",
     "text": [
      "Working with disease  depression\n"
     ]
    },
    {
     "name": "stderr",
     "output_type": "stream",
     "text": [
      "\n",
      " 91%|█████████ | 10/11 [01:15<00:07,  7.50s/it]\u001b[A"
     ]
    },
    {
     "name": "stdout",
     "output_type": "stream",
     "text": [
      "Working with disease  diabetes\n"
     ]
    },
    {
     "name": "stderr",
     "output_type": "stream",
     "text": [
      "\n",
      " 24%|██▍       | 18/74 [38:52<2:01:57, 130.67s/it]\n",
      "  0%|          | 0/11 [00:00<?, ?it/s]\u001b[A"
     ]
    },
    {
     "name": "stdout",
     "output_type": "stream",
     "text": [
      "Working with disease  anxiety\n"
     ]
    },
    {
     "name": "stderr",
     "output_type": "stream",
     "text": [
      "\n",
      "  9%|▉         | 1/11 [00:07<01:16,  7.62s/it]\u001b[A"
     ]
    },
    {
     "name": "stdout",
     "output_type": "stream",
     "text": [
      "Working with disease  asthma\n"
     ]
    },
    {
     "name": "stderr",
     "output_type": "stream",
     "text": [
      "\n",
      " 18%|█▊        | 2/11 [00:15<01:08,  7.62s/it]\u001b[A"
     ]
    },
    {
     "name": "stdout",
     "output_type": "stream",
     "text": [
      "Working with disease  osteoporosis\n"
     ]
    },
    {
     "name": "stderr",
     "output_type": "stream",
     "text": [
      "\n",
      " 27%|██▋       | 3/11 [00:23<01:01,  7.68s/it]\u001b[A"
     ]
    },
    {
     "name": "stdout",
     "output_type": "stream",
     "text": [
      "Working with disease  stroke\n"
     ]
    },
    {
     "name": "stderr",
     "output_type": "stream",
     "text": [
      "\n",
      " 36%|███▋      | 4/11 [00:30<00:53,  7.71s/it]\u001b[A"
     ]
    },
    {
     "name": "stdout",
     "output_type": "stream",
     "text": [
      "Working with disease  sleeplessness\n"
     ]
    },
    {
     "name": "stderr",
     "output_type": "stream",
     "text": [
      "\n",
      " 45%|████▌     | 5/11 [00:38<00:46,  7.80s/it]\u001b[A"
     ]
    },
    {
     "name": "stdout",
     "output_type": "stream",
     "text": [
      "Working with disease  hypertension\n"
     ]
    },
    {
     "name": "stderr",
     "output_type": "stream",
     "text": [
      "\n",
      " 55%|█████▍    | 6/11 [00:46<00:38,  7.74s/it]\u001b[A"
     ]
    },
    {
     "name": "stdout",
     "output_type": "stream",
     "text": [
      "Working with disease  chronic obstructive pulmonary disease\n"
     ]
    },
    {
     "name": "stderr",
     "output_type": "stream",
     "text": [
      "\n",
      " 64%|██████▎   | 7/11 [00:52<00:28,  7.20s/it]\u001b[A"
     ]
    },
    {
     "name": "stdout",
     "output_type": "stream",
     "text": [
      "Working with disease  dementia\n"
     ]
    },
    {
     "name": "stderr",
     "output_type": "stream",
     "text": [
      "\n",
      " 73%|███████▎  | 8/11 [00:59<00:21,  7.32s/it]\u001b[A"
     ]
    },
    {
     "name": "stdout",
     "output_type": "stream",
     "text": [
      "Working with disease  rheumatoid\n"
     ]
    },
    {
     "name": "stderr",
     "output_type": "stream",
     "text": [
      "\n",
      " 82%|████████▏ | 9/11 [01:07<00:14,  7.43s/it]\u001b[A"
     ]
    },
    {
     "name": "stdout",
     "output_type": "stream",
     "text": [
      "Working with disease  depression\n"
     ]
    },
    {
     "name": "stderr",
     "output_type": "stream",
     "text": [
      "\n",
      " 91%|█████████ | 10/11 [01:15<00:07,  7.55s/it]\u001b[A"
     ]
    },
    {
     "name": "stdout",
     "output_type": "stream",
     "text": [
      "Working with disease  diabetes\n"
     ]
    },
    {
     "name": "stderr",
     "output_type": "stream",
     "text": [
      "\n",
      " 26%|██▌       | 19/74 [41:02<1:59:36, 130.49s/it]\n",
      "  0%|          | 0/11 [00:00<?, ?it/s]\u001b[A"
     ]
    },
    {
     "name": "stdout",
     "output_type": "stream",
     "text": [
      "Working with disease  anxiety\n"
     ]
    },
    {
     "name": "stderr",
     "output_type": "stream",
     "text": [
      "\n",
      "  9%|▉         | 1/11 [00:07<01:18,  7.88s/it]\u001b[A"
     ]
    },
    {
     "name": "stdout",
     "output_type": "stream",
     "text": [
      "Working with disease  asthma\n"
     ]
    },
    {
     "name": "stderr",
     "output_type": "stream",
     "text": [
      "\n",
      " 18%|█▊        | 2/11 [00:15<01:10,  7.80s/it]\u001b[A"
     ]
    },
    {
     "name": "stdout",
     "output_type": "stream",
     "text": [
      "Working with disease  osteoporosis\n"
     ]
    },
    {
     "name": "stderr",
     "output_type": "stream",
     "text": [
      "\n",
      " 27%|██▋       | 3/11 [00:23<01:02,  7.75s/it]\u001b[A"
     ]
    },
    {
     "name": "stdout",
     "output_type": "stream",
     "text": [
      "Working with disease  stroke\n"
     ]
    },
    {
     "name": "stderr",
     "output_type": "stream",
     "text": [
      "\n",
      " 36%|███▋      | 4/11 [00:30<00:54,  7.76s/it]\u001b[A"
     ]
    },
    {
     "name": "stdout",
     "output_type": "stream",
     "text": [
      "Working with disease  sleeplessness\n"
     ]
    },
    {
     "name": "stderr",
     "output_type": "stream",
     "text": [
      "\n",
      " 45%|████▌     | 5/11 [00:38<00:47,  7.84s/it]\u001b[A"
     ]
    },
    {
     "name": "stdout",
     "output_type": "stream",
     "text": [
      "Working with disease  hypertension\n"
     ]
    },
    {
     "name": "stderr",
     "output_type": "stream",
     "text": [
      "\n",
      " 55%|█████▍    | 6/11 [00:46<00:39,  7.81s/it]\u001b[A"
     ]
    },
    {
     "name": "stdout",
     "output_type": "stream",
     "text": [
      "Working with disease  chronic obstructive pulmonary disease\n"
     ]
    },
    {
     "name": "stderr",
     "output_type": "stream",
     "text": [
      "\n",
      " 64%|██████▎   | 7/11 [00:52<00:29,  7.31s/it]\u001b[A"
     ]
    },
    {
     "name": "stdout",
     "output_type": "stream",
     "text": [
      "Working with disease  dementia\n"
     ]
    },
    {
     "name": "stderr",
     "output_type": "stream",
     "text": [
      "\n",
      " 73%|███████▎  | 8/11 [01:00<00:22,  7.40s/it]\u001b[A"
     ]
    },
    {
     "name": "stdout",
     "output_type": "stream",
     "text": [
      "Working with disease  rheumatoid\n"
     ]
    },
    {
     "name": "stderr",
     "output_type": "stream",
     "text": [
      "\n",
      " 82%|████████▏ | 9/11 [01:07<00:14,  7.42s/it]\u001b[A"
     ]
    },
    {
     "name": "stdout",
     "output_type": "stream",
     "text": [
      "Working with disease  depression\n"
     ]
    },
    {
     "name": "stderr",
     "output_type": "stream",
     "text": [
      "\n",
      " 91%|█████████ | 10/11 [01:15<00:07,  7.52s/it]\u001b[A"
     ]
    },
    {
     "name": "stdout",
     "output_type": "stream",
     "text": [
      "Working with disease  diabetes\n"
     ]
    },
    {
     "name": "stderr",
     "output_type": "stream",
     "text": [
      "\n",
      " 27%|██▋       | 20/74 [43:12<1:57:21, 130.40s/it]\n",
      "  0%|          | 0/11 [00:00<?, ?it/s]\u001b[A"
     ]
    },
    {
     "name": "stdout",
     "output_type": "stream",
     "text": [
      "Working with disease  anxiety\n"
     ]
    },
    {
     "name": "stderr",
     "output_type": "stream",
     "text": [
      "\n",
      "  9%|▉         | 1/11 [00:07<01:15,  7.53s/it]\u001b[A"
     ]
    },
    {
     "name": "stdout",
     "output_type": "stream",
     "text": [
      "Working with disease  asthma\n"
     ]
    },
    {
     "name": "stderr",
     "output_type": "stream",
     "text": [
      "\n",
      " 18%|█▊        | 2/11 [00:15<01:08,  7.56s/it]\u001b[A"
     ]
    },
    {
     "name": "stdout",
     "output_type": "stream",
     "text": [
      "Working with disease  osteoporosis\n"
     ]
    },
    {
     "name": "stderr",
     "output_type": "stream",
     "text": [
      "\n",
      " 27%|██▋       | 3/11 [00:22<01:00,  7.57s/it]\u001b[A"
     ]
    },
    {
     "name": "stdout",
     "output_type": "stream",
     "text": [
      "Working with disease  stroke\n"
     ]
    },
    {
     "name": "stderr",
     "output_type": "stream",
     "text": [
      "\n",
      " 36%|███▋      | 4/11 [00:30<00:53,  7.60s/it]\u001b[A"
     ]
    },
    {
     "name": "stdout",
     "output_type": "stream",
     "text": [
      "Working with disease  sleeplessness\n"
     ]
    },
    {
     "name": "stderr",
     "output_type": "stream",
     "text": [
      "\n",
      " 45%|████▌     | 5/11 [00:38<00:46,  7.72s/it]\u001b[A"
     ]
    },
    {
     "name": "stdout",
     "output_type": "stream",
     "text": [
      "Working with disease  hypertension\n"
     ]
    },
    {
     "name": "stderr",
     "output_type": "stream",
     "text": [
      "\n",
      " 55%|█████▍    | 6/11 [00:46<00:38,  7.73s/it]\u001b[A"
     ]
    },
    {
     "name": "stdout",
     "output_type": "stream",
     "text": [
      "Working with disease  chronic obstructive pulmonary disease\n"
     ]
    },
    {
     "name": "stderr",
     "output_type": "stream",
     "text": [
      "\n",
      " 64%|██████▎   | 7/11 [00:52<00:29,  7.25s/it]\u001b[A"
     ]
    },
    {
     "name": "stdout",
     "output_type": "stream",
     "text": [
      "Working with disease  dementia\n"
     ]
    },
    {
     "name": "stderr",
     "output_type": "stream",
     "text": [
      "\n",
      " 73%|███████▎  | 8/11 [01:00<00:22,  7.42s/it]\u001b[A"
     ]
    },
    {
     "name": "stdout",
     "output_type": "stream",
     "text": [
      "Working with disease  rheumatoid\n"
     ]
    },
    {
     "name": "stderr",
     "output_type": "stream",
     "text": [
      "\n",
      " 82%|████████▏ | 9/11 [01:07<00:14,  7.49s/it]\u001b[A"
     ]
    },
    {
     "name": "stdout",
     "output_type": "stream",
     "text": [
      "Working with disease  depression\n"
     ]
    },
    {
     "name": "stderr",
     "output_type": "stream",
     "text": [
      "\n",
      " 91%|█████████ | 10/11 [01:15<00:07,  7.58s/it]\u001b[A"
     ]
    },
    {
     "name": "stdout",
     "output_type": "stream",
     "text": [
      "Working with disease  diabetes\n"
     ]
    },
    {
     "name": "stderr",
     "output_type": "stream",
     "text": [
      "\n",
      " 28%|██▊       | 21/74 [45:23<1:55:20, 130.57s/it]\n",
      "  0%|          | 0/11 [00:00<?, ?it/s]\u001b[A"
     ]
    },
    {
     "name": "stdout",
     "output_type": "stream",
     "text": [
      "Working with disease  anxiety\n"
     ]
    },
    {
     "name": "stderr",
     "output_type": "stream",
     "text": [
      "\n",
      "  9%|▉         | 1/11 [00:07<01:17,  7.76s/it]\u001b[A"
     ]
    },
    {
     "name": "stdout",
     "output_type": "stream",
     "text": [
      "Working with disease  asthma\n"
     ]
    },
    {
     "name": "stderr",
     "output_type": "stream",
     "text": [
      "\n",
      " 18%|█▊        | 2/11 [00:15<01:10,  7.82s/it]\u001b[A"
     ]
    },
    {
     "name": "stdout",
     "output_type": "stream",
     "text": [
      "Working with disease  osteoporosis\n"
     ]
    },
    {
     "name": "stderr",
     "output_type": "stream",
     "text": [
      "\n",
      " 27%|██▋       | 3/11 [00:23<01:02,  7.83s/it]\u001b[A"
     ]
    },
    {
     "name": "stdout",
     "output_type": "stream",
     "text": [
      "Working with disease  stroke\n"
     ]
    },
    {
     "name": "stderr",
     "output_type": "stream",
     "text": [
      "\n",
      " 36%|███▋      | 4/11 [00:31<00:54,  7.80s/it]\u001b[A"
     ]
    },
    {
     "name": "stdout",
     "output_type": "stream",
     "text": [
      "Working with disease  sleeplessness\n"
     ]
    },
    {
     "name": "stderr",
     "output_type": "stream",
     "text": [
      "\n",
      " 45%|████▌     | 5/11 [00:39<00:47,  7.84s/it]\u001b[A"
     ]
    },
    {
     "name": "stdout",
     "output_type": "stream",
     "text": [
      "Working with disease  hypertension\n"
     ]
    },
    {
     "name": "stderr",
     "output_type": "stream",
     "text": [
      "\n",
      " 55%|█████▍    | 6/11 [00:46<00:38,  7.80s/it]\u001b[A"
     ]
    },
    {
     "name": "stdout",
     "output_type": "stream",
     "text": [
      "Working with disease  chronic obstructive pulmonary disease\n"
     ]
    },
    {
     "name": "stderr",
     "output_type": "stream",
     "text": [
      "\n",
      " 64%|██████▎   | 7/11 [00:53<00:29,  7.32s/it]\u001b[A"
     ]
    },
    {
     "name": "stdout",
     "output_type": "stream",
     "text": [
      "Working with disease  dementia\n"
     ]
    },
    {
     "name": "stderr",
     "output_type": "stream",
     "text": [
      "\n",
      " 73%|███████▎  | 8/11 [01:00<00:22,  7.41s/it]\u001b[A"
     ]
    },
    {
     "name": "stdout",
     "output_type": "stream",
     "text": [
      "Working with disease  rheumatoid\n"
     ]
    },
    {
     "name": "stderr",
     "output_type": "stream",
     "text": [
      "\n",
      " 82%|████████▏ | 9/11 [01:08<00:14,  7.38s/it]\u001b[A"
     ]
    },
    {
     "name": "stdout",
     "output_type": "stream",
     "text": [
      "Working with disease  depression\n"
     ]
    },
    {
     "name": "stderr",
     "output_type": "stream",
     "text": [
      "\n",
      " 91%|█████████ | 10/11 [01:15<00:07,  7.50s/it]\u001b[A"
     ]
    },
    {
     "name": "stdout",
     "output_type": "stream",
     "text": [
      "Working with disease  diabetes\n"
     ]
    },
    {
     "name": "stderr",
     "output_type": "stream",
     "text": [
      "\n",
      " 30%|██▉       | 22/74 [47:35<1:53:32, 131.01s/it]\n",
      "  0%|          | 0/11 [00:00<?, ?it/s]\u001b[A"
     ]
    },
    {
     "name": "stdout",
     "output_type": "stream",
     "text": [
      "Working with disease  anxiety\n"
     ]
    },
    {
     "name": "stderr",
     "output_type": "stream",
     "text": [
      "\n",
      "  9%|▉         | 1/11 [00:07<01:16,  7.68s/it]\u001b[A"
     ]
    },
    {
     "name": "stdout",
     "output_type": "stream",
     "text": [
      "Working with disease  asthma\n"
     ]
    },
    {
     "name": "stderr",
     "output_type": "stream",
     "text": [
      "\n",
      " 18%|█▊        | 2/11 [00:15<01:08,  7.67s/it]\u001b[A"
     ]
    },
    {
     "name": "stdout",
     "output_type": "stream",
     "text": [
      "Working with disease  osteoporosis\n"
     ]
    },
    {
     "name": "stderr",
     "output_type": "stream",
     "text": [
      "\n",
      " 27%|██▋       | 3/11 [00:22<01:01,  7.65s/it]\u001b[A"
     ]
    },
    {
     "name": "stdout",
     "output_type": "stream",
     "text": [
      "Working with disease  stroke\n"
     ]
    },
    {
     "name": "stderr",
     "output_type": "stream",
     "text": [
      "\n",
      " 36%|███▋      | 4/11 [00:30<00:53,  7.70s/it]\u001b[A"
     ]
    },
    {
     "name": "stdout",
     "output_type": "stream",
     "text": [
      "Working with disease  sleeplessness\n"
     ]
    },
    {
     "name": "stderr",
     "output_type": "stream",
     "text": [
      "\n",
      " 45%|████▌     | 5/11 [00:38<00:47,  7.84s/it]\u001b[A"
     ]
    },
    {
     "name": "stdout",
     "output_type": "stream",
     "text": [
      "Working with disease  hypertension\n"
     ]
    },
    {
     "name": "stderr",
     "output_type": "stream",
     "text": [
      "\n",
      " 55%|█████▍    | 6/11 [00:46<00:39,  7.82s/it]\u001b[A"
     ]
    },
    {
     "name": "stdout",
     "output_type": "stream",
     "text": [
      "Working with disease  chronic obstructive pulmonary disease\n"
     ]
    },
    {
     "name": "stderr",
     "output_type": "stream",
     "text": [
      "\n",
      " 64%|██████▎   | 7/11 [00:53<00:29,  7.39s/it]\u001b[A"
     ]
    },
    {
     "name": "stdout",
     "output_type": "stream",
     "text": [
      "Working with disease  dementia\n"
     ]
    },
    {
     "name": "stderr",
     "output_type": "stream",
     "text": [
      "\n",
      " 73%|███████▎  | 8/11 [01:00<00:22,  7.52s/it]\u001b[A"
     ]
    },
    {
     "name": "stdout",
     "output_type": "stream",
     "text": [
      "Working with disease  rheumatoid\n"
     ]
    },
    {
     "name": "stderr",
     "output_type": "stream",
     "text": [
      "\n",
      " 82%|████████▏ | 9/11 [01:08<00:15,  7.60s/it]\u001b[A"
     ]
    },
    {
     "name": "stdout",
     "output_type": "stream",
     "text": [
      "Working with disease  depression\n"
     ]
    },
    {
     "name": "stderr",
     "output_type": "stream",
     "text": [
      "\n",
      " 91%|█████████ | 10/11 [01:16<00:07,  7.64s/it]\u001b[A"
     ]
    },
    {
     "name": "stdout",
     "output_type": "stream",
     "text": [
      "Working with disease  diabetes\n"
     ]
    },
    {
     "name": "stderr",
     "output_type": "stream",
     "text": [
      "\n",
      " 31%|███       | 23/74 [49:49<1:52:00, 131.77s/it]\n",
      "  0%|          | 0/11 [00:00<?, ?it/s]\u001b[A"
     ]
    },
    {
     "name": "stdout",
     "output_type": "stream",
     "text": [
      "Working with disease  anxiety\n"
     ]
    },
    {
     "name": "stderr",
     "output_type": "stream",
     "text": [
      "\n",
      "  9%|▉         | 1/11 [00:07<01:14,  7.40s/it]\u001b[A"
     ]
    },
    {
     "name": "stdout",
     "output_type": "stream",
     "text": [
      "Working with disease  asthma\n"
     ]
    },
    {
     "name": "stderr",
     "output_type": "stream",
     "text": [
      "\n",
      " 18%|█▊        | 2/11 [00:15<01:07,  7.48s/it]\u001b[A"
     ]
    },
    {
     "name": "stdout",
     "output_type": "stream",
     "text": [
      "Working with disease  osteoporosis\n"
     ]
    },
    {
     "name": "stderr",
     "output_type": "stream",
     "text": [
      "\n",
      " 27%|██▋       | 3/11 [00:22<01:00,  7.50s/it]\u001b[A"
     ]
    },
    {
     "name": "stdout",
     "output_type": "stream",
     "text": [
      "Working with disease  stroke\n"
     ]
    },
    {
     "name": "stderr",
     "output_type": "stream",
     "text": [
      "\n",
      " 36%|███▋      | 4/11 [00:29<00:51,  7.43s/it]\u001b[A"
     ]
    },
    {
     "name": "stdout",
     "output_type": "stream",
     "text": [
      "Working with disease  sleeplessness\n"
     ]
    },
    {
     "name": "stderr",
     "output_type": "stream",
     "text": [
      "\n",
      " 45%|████▌     | 5/11 [00:37<00:45,  7.61s/it]\u001b[A"
     ]
    },
    {
     "name": "stdout",
     "output_type": "stream",
     "text": [
      "Working with disease  hypertension\n"
     ]
    },
    {
     "name": "stderr",
     "output_type": "stream",
     "text": [
      "\n",
      " 55%|█████▍    | 6/11 [00:45<00:38,  7.70s/it]\u001b[A"
     ]
    },
    {
     "name": "stdout",
     "output_type": "stream",
     "text": [
      "Working with disease  chronic obstructive pulmonary disease\n"
     ]
    },
    {
     "name": "stderr",
     "output_type": "stream",
     "text": [
      "\n",
      " 64%|██████▎   | 7/11 [00:52<00:29,  7.33s/it]\u001b[A"
     ]
    },
    {
     "name": "stdout",
     "output_type": "stream",
     "text": [
      "Working with disease  dementia\n"
     ]
    },
    {
     "name": "stderr",
     "output_type": "stream",
     "text": [
      "\n",
      " 73%|███████▎  | 8/11 [01:00<00:22,  7.49s/it]\u001b[A"
     ]
    },
    {
     "name": "stdout",
     "output_type": "stream",
     "text": [
      "Working with disease  rheumatoid\n"
     ]
    },
    {
     "name": "stderr",
     "output_type": "stream",
     "text": [
      "\n",
      " 82%|████████▏ | 9/11 [01:07<00:15,  7.53s/it]\u001b[A"
     ]
    },
    {
     "name": "stdout",
     "output_type": "stream",
     "text": [
      "Working with disease  depression\n"
     ]
    },
    {
     "name": "stderr",
     "output_type": "stream",
     "text": [
      "\n",
      " 91%|█████████ | 10/11 [01:15<00:07,  7.58s/it]\u001b[A"
     ]
    },
    {
     "name": "stdout",
     "output_type": "stream",
     "text": [
      "Working with disease  diabetes\n"
     ]
    },
    {
     "name": "stderr",
     "output_type": "stream",
     "text": [
      "\n",
      " 32%|███▏      | 24/74 [51:59<1:49:32, 131.45s/it]\n",
      "  0%|          | 0/11 [00:00<?, ?it/s]\u001b[A"
     ]
    },
    {
     "name": "stdout",
     "output_type": "stream",
     "text": [
      "Working with disease  anxiety\n"
     ]
    },
    {
     "name": "stderr",
     "output_type": "stream",
     "text": [
      "\n",
      "  9%|▉         | 1/11 [00:07<01:13,  7.35s/it]\u001b[A"
     ]
    },
    {
     "name": "stdout",
     "output_type": "stream",
     "text": [
      "Working with disease  asthma\n"
     ]
    },
    {
     "name": "stderr",
     "output_type": "stream",
     "text": [
      "\n",
      " 18%|█▊        | 2/11 [00:14<01:06,  7.41s/it]\u001b[A"
     ]
    },
    {
     "name": "stdout",
     "output_type": "stream",
     "text": [
      "Working with disease  osteoporosis\n"
     ]
    },
    {
     "name": "stderr",
     "output_type": "stream",
     "text": [
      "\n",
      " 27%|██▋       | 3/11 [00:22<00:59,  7.44s/it]\u001b[A"
     ]
    },
    {
     "name": "stdout",
     "output_type": "stream",
     "text": [
      "Working with disease  stroke\n"
     ]
    },
    {
     "name": "stderr",
     "output_type": "stream",
     "text": [
      "\n",
      " 36%|███▋      | 4/11 [00:30<00:52,  7.55s/it]\u001b[A"
     ]
    },
    {
     "name": "stdout",
     "output_type": "stream",
     "text": [
      "Working with disease  sleeplessness\n"
     ]
    },
    {
     "name": "stderr",
     "output_type": "stream",
     "text": [
      "\n",
      " 45%|████▌     | 5/11 [00:38<00:46,  7.72s/it]\u001b[A"
     ]
    },
    {
     "name": "stdout",
     "output_type": "stream",
     "text": [
      "Working with disease  hypertension\n"
     ]
    },
    {
     "name": "stderr",
     "output_type": "stream",
     "text": [
      "\n",
      " 55%|█████▍    | 6/11 [00:46<00:39,  7.84s/it]\u001b[A"
     ]
    },
    {
     "name": "stdout",
     "output_type": "stream",
     "text": [
      "Working with disease  chronic obstructive pulmonary disease\n"
     ]
    },
    {
     "name": "stderr",
     "output_type": "stream",
     "text": [
      "\n",
      " 64%|██████▎   | 7/11 [00:52<00:29,  7.42s/it]\u001b[A"
     ]
    },
    {
     "name": "stdout",
     "output_type": "stream",
     "text": [
      "Working with disease  dementia\n"
     ]
    },
    {
     "name": "stderr",
     "output_type": "stream",
     "text": [
      "\n",
      " 73%|███████▎  | 8/11 [01:00<00:22,  7.60s/it]\u001b[A"
     ]
    },
    {
     "name": "stdout",
     "output_type": "stream",
     "text": [
      "Working with disease  rheumatoid\n"
     ]
    },
    {
     "name": "stderr",
     "output_type": "stream",
     "text": [
      "\n",
      " 82%|████████▏ | 9/11 [01:08<00:15,  7.61s/it]\u001b[A"
     ]
    },
    {
     "name": "stdout",
     "output_type": "stream",
     "text": [
      "Working with disease  depression\n"
     ]
    },
    {
     "name": "stderr",
     "output_type": "stream",
     "text": [
      "\n",
      " 91%|█████████ | 10/11 [01:16<00:07,  7.67s/it]\u001b[A"
     ]
    },
    {
     "name": "stdout",
     "output_type": "stream",
     "text": [
      "Working with disease  diabetes\n"
     ]
    },
    {
     "name": "stderr",
     "output_type": "stream",
     "text": [
      "\n",
      " 34%|███▍      | 25/74 [54:10<1:47:18, 131.39s/it]\n",
      "  0%|          | 0/11 [00:00<?, ?it/s]\u001b[A"
     ]
    },
    {
     "name": "stdout",
     "output_type": "stream",
     "text": [
      "Working with disease  anxiety\n"
     ]
    },
    {
     "name": "stderr",
     "output_type": "stream",
     "text": [
      "\n",
      "  9%|▉         | 1/11 [00:07<01:13,  7.39s/it]\u001b[A"
     ]
    },
    {
     "name": "stdout",
     "output_type": "stream",
     "text": [
      "Working with disease  asthma\n"
     ]
    },
    {
     "name": "stderr",
     "output_type": "stream",
     "text": [
      "\n",
      " 18%|█▊        | 2/11 [00:14<01:06,  7.43s/it]\u001b[A"
     ]
    },
    {
     "name": "stdout",
     "output_type": "stream",
     "text": [
      "Working with disease  osteoporosis\n"
     ]
    },
    {
     "name": "stderr",
     "output_type": "stream",
     "text": [
      "\n",
      " 27%|██▋       | 3/11 [00:22<00:59,  7.47s/it]\u001b[A"
     ]
    },
    {
     "name": "stdout",
     "output_type": "stream",
     "text": [
      "Working with disease  stroke\n"
     ]
    },
    {
     "name": "stderr",
     "output_type": "stream",
     "text": [
      "\n",
      " 36%|███▋      | 4/11 [00:30<00:53,  7.57s/it]\u001b[A"
     ]
    },
    {
     "name": "stdout",
     "output_type": "stream",
     "text": [
      "Working with disease  sleeplessness\n"
     ]
    },
    {
     "name": "stderr",
     "output_type": "stream",
     "text": [
      "\n",
      " 45%|████▌     | 5/11 [00:38<00:46,  7.72s/it]\u001b[A"
     ]
    },
    {
     "name": "stdout",
     "output_type": "stream",
     "text": [
      "Working with disease  hypertension\n"
     ]
    },
    {
     "name": "stderr",
     "output_type": "stream",
     "text": [
      "\n",
      " 55%|█████▍    | 6/11 [00:46<00:38,  7.77s/it]\u001b[A"
     ]
    },
    {
     "name": "stdout",
     "output_type": "stream",
     "text": [
      "Working with disease  chronic obstructive pulmonary disease\n"
     ]
    },
    {
     "name": "stderr",
     "output_type": "stream",
     "text": [
      "\n",
      " 64%|██████▎   | 7/11 [00:52<00:29,  7.33s/it]\u001b[A"
     ]
    },
    {
     "name": "stdout",
     "output_type": "stream",
     "text": [
      "Working with disease  dementia\n"
     ]
    },
    {
     "name": "stderr",
     "output_type": "stream",
     "text": [
      "\n",
      " 73%|███████▎  | 8/11 [01:00<00:22,  7.40s/it]\u001b[A"
     ]
    },
    {
     "name": "stdout",
     "output_type": "stream",
     "text": [
      "Working with disease  rheumatoid\n"
     ]
    },
    {
     "name": "stderr",
     "output_type": "stream",
     "text": [
      "\n",
      " 82%|████████▏ | 9/11 [01:07<00:14,  7.39s/it]\u001b[A"
     ]
    },
    {
     "name": "stdout",
     "output_type": "stream",
     "text": [
      "Working with disease  depression\n"
     ]
    },
    {
     "name": "stderr",
     "output_type": "stream",
     "text": [
      "\n",
      " 91%|█████████ | 10/11 [01:15<00:07,  7.51s/it]\u001b[A"
     ]
    },
    {
     "name": "stdout",
     "output_type": "stream",
     "text": [
      "Working with disease  diabetes\n"
     ]
    },
    {
     "name": "stderr",
     "output_type": "stream",
     "text": [
      "\n",
      " 35%|███▌      | 26/74 [56:20<1:44:32, 130.69s/it]\n",
      "  0%|          | 0/11 [00:00<?, ?it/s]\u001b[A"
     ]
    },
    {
     "name": "stdout",
     "output_type": "stream",
     "text": [
      "Working with disease  anxiety\n"
     ]
    },
    {
     "name": "stderr",
     "output_type": "stream",
     "text": [
      "\n",
      "  9%|▉         | 1/11 [00:07<01:15,  7.59s/it]\u001b[A"
     ]
    },
    {
     "name": "stdout",
     "output_type": "stream",
     "text": [
      "Working with disease  asthma\n"
     ]
    },
    {
     "name": "stderr",
     "output_type": "stream",
     "text": [
      "\n",
      " 18%|█▊        | 2/11 [00:15<01:08,  7.61s/it]\u001b[A"
     ]
    },
    {
     "name": "stdout",
     "output_type": "stream",
     "text": [
      "Working with disease  osteoporosis\n"
     ]
    },
    {
     "name": "stderr",
     "output_type": "stream",
     "text": [
      "\n",
      " 27%|██▋       | 3/11 [00:22<01:00,  7.60s/it]\u001b[A"
     ]
    },
    {
     "name": "stdout",
     "output_type": "stream",
     "text": [
      "Working with disease  stroke\n"
     ]
    },
    {
     "name": "stderr",
     "output_type": "stream",
     "text": [
      "\n",
      " 36%|███▋      | 4/11 [00:30<00:53,  7.63s/it]\u001b[A"
     ]
    },
    {
     "name": "stdout",
     "output_type": "stream",
     "text": [
      "Working with disease  sleeplessness\n"
     ]
    },
    {
     "name": "stderr",
     "output_type": "stream",
     "text": [
      "\n",
      " 45%|████▌     | 5/11 [00:38<00:46,  7.73s/it]\u001b[A"
     ]
    },
    {
     "name": "stdout",
     "output_type": "stream",
     "text": [
      "Working with disease  hypertension\n"
     ]
    },
    {
     "name": "stderr",
     "output_type": "stream",
     "text": [
      "\n",
      " 55%|█████▍    | 6/11 [00:46<00:38,  7.73s/it]\u001b[A"
     ]
    },
    {
     "name": "stdout",
     "output_type": "stream",
     "text": [
      "Working with disease  chronic obstructive pulmonary disease\n"
     ]
    },
    {
     "name": "stderr",
     "output_type": "stream",
     "text": [
      "\n",
      " 64%|██████▎   | 7/11 [00:52<00:29,  7.35s/it]\u001b[A"
     ]
    },
    {
     "name": "stdout",
     "output_type": "stream",
     "text": [
      "Working with disease  dementia\n"
     ]
    },
    {
     "name": "stderr",
     "output_type": "stream",
     "text": [
      "\n",
      " 73%|███████▎  | 8/11 [01:00<00:22,  7.50s/it]\u001b[A"
     ]
    },
    {
     "name": "stdout",
     "output_type": "stream",
     "text": [
      "Working with disease  rheumatoid\n"
     ]
    },
    {
     "name": "stderr",
     "output_type": "stream",
     "text": [
      "\n",
      " 82%|████████▏ | 9/11 [01:08<00:15,  7.51s/it]\u001b[A"
     ]
    },
    {
     "name": "stdout",
     "output_type": "stream",
     "text": [
      "Working with disease  depression\n"
     ]
    },
    {
     "name": "stderr",
     "output_type": "stream",
     "text": [
      "\n",
      " 91%|█████████ | 10/11 [01:15<00:07,  7.59s/it]\u001b[A"
     ]
    },
    {
     "name": "stdout",
     "output_type": "stream",
     "text": [
      "Working with disease  diabetes\n"
     ]
    },
    {
     "name": "stderr",
     "output_type": "stream",
     "text": [
      "\n",
      " 36%|███▋      | 27/74 [58:32<1:42:47, 131.21s/it]\n",
      "  0%|          | 0/11 [00:00<?, ?it/s]\u001b[A"
     ]
    },
    {
     "name": "stdout",
     "output_type": "stream",
     "text": [
      "Working with disease  anxiety\n"
     ]
    },
    {
     "name": "stderr",
     "output_type": "stream",
     "text": [
      "\n",
      "  9%|▉         | 1/11 [00:07<01:16,  7.64s/it]\u001b[A"
     ]
    },
    {
     "name": "stdout",
     "output_type": "stream",
     "text": [
      "Working with disease  asthma\n"
     ]
    },
    {
     "name": "stderr",
     "output_type": "stream",
     "text": [
      "\n",
      " 18%|█▊        | 2/11 [00:15<01:08,  7.64s/it]\u001b[A"
     ]
    },
    {
     "name": "stdout",
     "output_type": "stream",
     "text": [
      "Working with disease  osteoporosis\n"
     ]
    },
    {
     "name": "stderr",
     "output_type": "stream",
     "text": [
      "\n",
      " 27%|██▋       | 3/11 [00:23<01:01,  7.67s/it]\u001b[A"
     ]
    },
    {
     "name": "stdout",
     "output_type": "stream",
     "text": [
      "Working with disease  stroke\n"
     ]
    },
    {
     "name": "stderr",
     "output_type": "stream",
     "text": [
      "\n",
      " 36%|███▋      | 4/11 [00:31<00:54,  7.77s/it]\u001b[A"
     ]
    },
    {
     "name": "stdout",
     "output_type": "stream",
     "text": [
      "Working with disease  sleeplessness\n"
     ]
    },
    {
     "name": "stderr",
     "output_type": "stream",
     "text": [
      "\n",
      " 45%|████▌     | 5/11 [00:39<00:47,  7.86s/it]\u001b[A"
     ]
    },
    {
     "name": "stdout",
     "output_type": "stream",
     "text": [
      "Working with disease  hypertension\n"
     ]
    },
    {
     "name": "stderr",
     "output_type": "stream",
     "text": [
      "\n",
      " 55%|█████▍    | 6/11 [00:46<00:39,  7.83s/it]\u001b[A"
     ]
    },
    {
     "name": "stdout",
     "output_type": "stream",
     "text": [
      "Working with disease  chronic obstructive pulmonary disease\n"
     ]
    },
    {
     "name": "stderr",
     "output_type": "stream",
     "text": [
      "\n",
      " 64%|██████▎   | 7/11 [00:53<00:29,  7.42s/it]\u001b[A"
     ]
    },
    {
     "name": "stdout",
     "output_type": "stream",
     "text": [
      "Working with disease  dementia\n"
     ]
    },
    {
     "name": "stderr",
     "output_type": "stream",
     "text": [
      "\n",
      " 73%|███████▎  | 8/11 [01:01<00:22,  7.53s/it]\u001b[A"
     ]
    },
    {
     "name": "stdout",
     "output_type": "stream",
     "text": [
      "Working with disease  rheumatoid\n"
     ]
    },
    {
     "name": "stderr",
     "output_type": "stream",
     "text": [
      "\n",
      " 82%|████████▏ | 9/11 [01:08<00:15,  7.53s/it]\u001b[A"
     ]
    },
    {
     "name": "stdout",
     "output_type": "stream",
     "text": [
      "Working with disease  depression\n"
     ]
    },
    {
     "name": "stderr",
     "output_type": "stream",
     "text": [
      "\n",
      " 91%|█████████ | 10/11 [01:16<00:07,  7.55s/it]\u001b[A"
     ]
    },
    {
     "name": "stdout",
     "output_type": "stream",
     "text": [
      "Working with disease  diabetes\n"
     ]
    },
    {
     "name": "stderr",
     "output_type": "stream",
     "text": [
      "\n",
      " 38%|███▊      | 28/74 [1:00:44<1:40:44, 131.41s/it]\n",
      "  0%|          | 0/11 [00:00<?, ?it/s]\u001b[A"
     ]
    },
    {
     "name": "stdout",
     "output_type": "stream",
     "text": [
      "Working with disease  anxiety\n"
     ]
    },
    {
     "name": "stderr",
     "output_type": "stream",
     "text": [
      "\n",
      "  9%|▉         | 1/11 [00:07<01:15,  7.56s/it]\u001b[A"
     ]
    },
    {
     "name": "stdout",
     "output_type": "stream",
     "text": [
      "Working with disease  asthma\n"
     ]
    },
    {
     "name": "stderr",
     "output_type": "stream",
     "text": [
      "\n",
      " 18%|█▊        | 2/11 [00:15<01:08,  7.62s/it]\u001b[A"
     ]
    },
    {
     "name": "stdout",
     "output_type": "stream",
     "text": [
      "Working with disease  osteoporosis\n"
     ]
    },
    {
     "name": "stderr",
     "output_type": "stream",
     "text": [
      "\n",
      " 27%|██▋       | 3/11 [00:23<01:01,  7.66s/it]\u001b[A"
     ]
    },
    {
     "name": "stdout",
     "output_type": "stream",
     "text": [
      "Working with disease  stroke\n"
     ]
    },
    {
     "name": "stderr",
     "output_type": "stream",
     "text": [
      "\n",
      " 36%|███▋      | 4/11 [00:30<00:53,  7.70s/it]\u001b[A"
     ]
    },
    {
     "name": "stdout",
     "output_type": "stream",
     "text": [
      "Working with disease  sleeplessness\n"
     ]
    },
    {
     "name": "stderr",
     "output_type": "stream",
     "text": [
      "\n",
      " 45%|████▌     | 5/11 [00:38<00:46,  7.77s/it]\u001b[A"
     ]
    },
    {
     "name": "stdout",
     "output_type": "stream",
     "text": [
      "Working with disease  hypertension\n"
     ]
    },
    {
     "name": "stderr",
     "output_type": "stream",
     "text": [
      "\n",
      " 55%|█████▍    | 6/11 [00:46<00:38,  7.76s/it]\u001b[A"
     ]
    },
    {
     "name": "stdout",
     "output_type": "stream",
     "text": [
      "Working with disease  chronic obstructive pulmonary disease\n"
     ]
    },
    {
     "name": "stderr",
     "output_type": "stream",
     "text": [
      "\n",
      " 64%|██████▎   | 7/11 [00:53<00:29,  7.39s/it]\u001b[A"
     ]
    },
    {
     "name": "stdout",
     "output_type": "stream",
     "text": [
      "Working with disease  dementia\n"
     ]
    },
    {
     "name": "stderr",
     "output_type": "stream",
     "text": [
      "\n",
      " 73%|███████▎  | 8/11 [01:00<00:22,  7.46s/it]\u001b[A"
     ]
    },
    {
     "name": "stdout",
     "output_type": "stream",
     "text": [
      "Working with disease  rheumatoid\n"
     ]
    },
    {
     "name": "stderr",
     "output_type": "stream",
     "text": [
      "\n",
      " 82%|████████▏ | 9/11 [01:08<00:14,  7.50s/it]\u001b[A"
     ]
    },
    {
     "name": "stdout",
     "output_type": "stream",
     "text": [
      "Working with disease  depression\n"
     ]
    },
    {
     "name": "stderr",
     "output_type": "stream",
     "text": [
      "\n",
      " 91%|█████████ | 10/11 [01:16<00:07,  7.59s/it]\u001b[A"
     ]
    },
    {
     "name": "stdout",
     "output_type": "stream",
     "text": [
      "Working with disease  diabetes\n"
     ]
    },
    {
     "name": "stderr",
     "output_type": "stream",
     "text": [
      "\n",
      " 39%|███▉      | 29/74 [1:02:56<1:38:46, 131.70s/it]\n",
      "  0%|          | 0/11 [00:00<?, ?it/s]\u001b[A"
     ]
    },
    {
     "name": "stdout",
     "output_type": "stream",
     "text": [
      "Working with disease  anxiety\n"
     ]
    },
    {
     "name": "stderr",
     "output_type": "stream",
     "text": [
      "\n",
      "  9%|▉         | 1/11 [00:07<01:13,  7.32s/it]\u001b[A"
     ]
    },
    {
     "name": "stdout",
     "output_type": "stream",
     "text": [
      "Working with disease  asthma\n"
     ]
    },
    {
     "name": "stderr",
     "output_type": "stream",
     "text": [
      "\n",
      " 18%|█▊        | 2/11 [00:15<01:07,  7.45s/it]\u001b[A"
     ]
    },
    {
     "name": "stdout",
     "output_type": "stream",
     "text": [
      "Working with disease  osteoporosis\n"
     ]
    },
    {
     "name": "stderr",
     "output_type": "stream",
     "text": [
      "\n",
      " 27%|██▋       | 3/11 [00:22<00:59,  7.48s/it]\u001b[A"
     ]
    },
    {
     "name": "stdout",
     "output_type": "stream",
     "text": [
      "Working with disease  stroke\n"
     ]
    },
    {
     "name": "stderr",
     "output_type": "stream",
     "text": [
      "\n",
      " 36%|███▋      | 4/11 [00:30<00:53,  7.58s/it]\u001b[A"
     ]
    },
    {
     "name": "stdout",
     "output_type": "stream",
     "text": [
      "Working with disease  sleeplessness\n"
     ]
    },
    {
     "name": "stderr",
     "output_type": "stream",
     "text": [
      "\n",
      " 45%|████▌     | 5/11 [00:38<00:46,  7.70s/it]\u001b[A"
     ]
    },
    {
     "name": "stdout",
     "output_type": "stream",
     "text": [
      "Working with disease  hypertension\n"
     ]
    },
    {
     "name": "stderr",
     "output_type": "stream",
     "text": [
      "\n",
      " 55%|█████▍    | 6/11 [00:46<00:38,  7.75s/it]\u001b[A"
     ]
    },
    {
     "name": "stdout",
     "output_type": "stream",
     "text": [
      "Working with disease  chronic obstructive pulmonary disease\n"
     ]
    },
    {
     "name": "stderr",
     "output_type": "stream",
     "text": [
      "\n",
      " 64%|██████▎   | 7/11 [00:52<00:29,  7.40s/it]\u001b[A"
     ]
    },
    {
     "name": "stdout",
     "output_type": "stream",
     "text": [
      "Working with disease  dementia\n"
     ]
    },
    {
     "name": "stderr",
     "output_type": "stream",
     "text": [
      "\n",
      " 73%|███████▎  | 8/11 [01:00<00:22,  7.49s/it]\u001b[A"
     ]
    },
    {
     "name": "stdout",
     "output_type": "stream",
     "text": [
      "Working with disease  rheumatoid\n"
     ]
    },
    {
     "name": "stderr",
     "output_type": "stream",
     "text": [
      "\n",
      " 82%|████████▏ | 9/11 [01:08<00:15,  7.52s/it]\u001b[A"
     ]
    },
    {
     "name": "stdout",
     "output_type": "stream",
     "text": [
      "Working with disease  depression\n"
     ]
    },
    {
     "name": "stderr",
     "output_type": "stream",
     "text": [
      "\n",
      " 91%|█████████ | 10/11 [01:16<00:07,  7.65s/it]\u001b[A"
     ]
    },
    {
     "name": "stdout",
     "output_type": "stream",
     "text": [
      "Working with disease  diabetes\n"
     ]
    },
    {
     "name": "stderr",
     "output_type": "stream",
     "text": [
      "\n",
      " 41%|████      | 30/74 [1:05:08<1:36:36, 131.75s/it]\n",
      "  0%|          | 0/11 [00:00<?, ?it/s]\u001b[A"
     ]
    },
    {
     "name": "stdout",
     "output_type": "stream",
     "text": [
      "Working with disease  anxiety\n"
     ]
    },
    {
     "name": "stderr",
     "output_type": "stream",
     "text": [
      "\n",
      "  9%|▉         | 1/11 [00:07<01:13,  7.38s/it]\u001b[A"
     ]
    },
    {
     "name": "stdout",
     "output_type": "stream",
     "text": [
      "Working with disease  asthma\n"
     ]
    },
    {
     "name": "stderr",
     "output_type": "stream",
     "text": [
      "\n",
      " 18%|█▊        | 2/11 [00:15<01:07,  7.52s/it]\u001b[A"
     ]
    },
    {
     "name": "stdout",
     "output_type": "stream",
     "text": [
      "Working with disease  osteoporosis\n"
     ]
    },
    {
     "name": "stderr",
     "output_type": "stream",
     "text": [
      "\n",
      " 27%|██▋       | 3/11 [00:22<01:00,  7.57s/it]\u001b[A"
     ]
    },
    {
     "name": "stdout",
     "output_type": "stream",
     "text": [
      "Working with disease  stroke\n"
     ]
    },
    {
     "name": "stderr",
     "output_type": "stream",
     "text": [
      "\n",
      " 36%|███▋      | 4/11 [00:30<00:53,  7.61s/it]\u001b[A"
     ]
    },
    {
     "name": "stdout",
     "output_type": "stream",
     "text": [
      "Working with disease  sleeplessness\n"
     ]
    },
    {
     "name": "stderr",
     "output_type": "stream",
     "text": [
      "\n",
      " 45%|████▌     | 5/11 [00:38<00:46,  7.72s/it]\u001b[A"
     ]
    },
    {
     "name": "stdout",
     "output_type": "stream",
     "text": [
      "Working with disease  hypertension\n"
     ]
    },
    {
     "name": "stderr",
     "output_type": "stream",
     "text": [
      "\n",
      " 55%|█████▍    | 6/11 [00:46<00:38,  7.77s/it]\u001b[A"
     ]
    },
    {
     "name": "stdout",
     "output_type": "stream",
     "text": [
      "Working with disease  chronic obstructive pulmonary disease\n"
     ]
    },
    {
     "name": "stderr",
     "output_type": "stream",
     "text": [
      "\n",
      " 64%|██████▎   | 7/11 [00:53<00:29,  7.46s/it]\u001b[A"
     ]
    },
    {
     "name": "stdout",
     "output_type": "stream",
     "text": [
      "Working with disease  dementia\n"
     ]
    },
    {
     "name": "stderr",
     "output_type": "stream",
     "text": [
      "\n",
      " 73%|███████▎  | 8/11 [01:00<00:22,  7.52s/it]\u001b[A"
     ]
    },
    {
     "name": "stdout",
     "output_type": "stream",
     "text": [
      "Working with disease  rheumatoid\n"
     ]
    },
    {
     "name": "stderr",
     "output_type": "stream",
     "text": [
      "\n",
      " 82%|████████▏ | 9/11 [01:08<00:15,  7.60s/it]\u001b[A"
     ]
    },
    {
     "name": "stdout",
     "output_type": "stream",
     "text": [
      "Working with disease  depression\n"
     ]
    },
    {
     "name": "stderr",
     "output_type": "stream",
     "text": [
      "\n",
      " 91%|█████████ | 10/11 [01:16<00:07,  7.74s/it]\u001b[A"
     ]
    },
    {
     "name": "stdout",
     "output_type": "stream",
     "text": [
      "Working with disease  diabetes\n"
     ]
    },
    {
     "name": "stderr",
     "output_type": "stream",
     "text": [
      "\n",
      " 42%|████▏     | 31/74 [1:07:21<1:34:45, 132.23s/it]\n",
      "  0%|          | 0/11 [00:00<?, ?it/s]\u001b[A"
     ]
    },
    {
     "name": "stdout",
     "output_type": "stream",
     "text": [
      "Working with disease  anxiety\n"
     ]
    },
    {
     "name": "stderr",
     "output_type": "stream",
     "text": [
      "\n",
      "  9%|▉         | 1/11 [00:07<01:16,  7.67s/it]\u001b[A"
     ]
    },
    {
     "name": "stdout",
     "output_type": "stream",
     "text": [
      "Working with disease  asthma\n"
     ]
    },
    {
     "name": "stderr",
     "output_type": "stream",
     "text": [
      "\n",
      " 18%|█▊        | 2/11 [00:15<01:09,  7.67s/it]\u001b[A"
     ]
    },
    {
     "name": "stdout",
     "output_type": "stream",
     "text": [
      "Working with disease  osteoporosis\n"
     ]
    },
    {
     "name": "stderr",
     "output_type": "stream",
     "text": [
      "\n",
      " 27%|██▋       | 3/11 [00:23<01:01,  7.69s/it]\u001b[A"
     ]
    },
    {
     "name": "stdout",
     "output_type": "stream",
     "text": [
      "Working with disease  stroke\n"
     ]
    },
    {
     "name": "stderr",
     "output_type": "stream",
     "text": [
      "\n",
      " 36%|███▋      | 4/11 [00:30<00:53,  7.66s/it]\u001b[A"
     ]
    },
    {
     "name": "stdout",
     "output_type": "stream",
     "text": [
      "Working with disease  sleeplessness\n"
     ]
    },
    {
     "name": "stderr",
     "output_type": "stream",
     "text": [
      "\n",
      " 45%|████▌     | 5/11 [00:38<00:46,  7.74s/it]\u001b[A"
     ]
    },
    {
     "name": "stdout",
     "output_type": "stream",
     "text": [
      "Working with disease  hypertension\n"
     ]
    },
    {
     "name": "stderr",
     "output_type": "stream",
     "text": [
      "\n",
      " 55%|█████▍    | 6/11 [00:46<00:38,  7.73s/it]\u001b[A"
     ]
    },
    {
     "name": "stdout",
     "output_type": "stream",
     "text": [
      "Working with disease  chronic obstructive pulmonary disease\n"
     ]
    },
    {
     "name": "stderr",
     "output_type": "stream",
     "text": [
      "\n",
      " 64%|██████▎   | 7/11 [00:52<00:29,  7.38s/it]\u001b[A"
     ]
    },
    {
     "name": "stdout",
     "output_type": "stream",
     "text": [
      "Working with disease  dementia\n"
     ]
    },
    {
     "name": "stderr",
     "output_type": "stream",
     "text": [
      "\n",
      " 73%|███████▎  | 8/11 [01:00<00:22,  7.50s/it]\u001b[A"
     ]
    },
    {
     "name": "stdout",
     "output_type": "stream",
     "text": [
      "Working with disease  rheumatoid\n"
     ]
    },
    {
     "name": "stderr",
     "output_type": "stream",
     "text": [
      "\n",
      " 82%|████████▏ | 9/11 [01:08<00:15,  7.60s/it]\u001b[A"
     ]
    },
    {
     "name": "stdout",
     "output_type": "stream",
     "text": [
      "Working with disease  depression\n"
     ]
    },
    {
     "name": "stderr",
     "output_type": "stream",
     "text": [
      "\n",
      " 91%|█████████ | 10/11 [01:16<00:07,  7.66s/it]\u001b[A"
     ]
    },
    {
     "name": "stdout",
     "output_type": "stream",
     "text": [
      "Working with disease  diabetes\n"
     ]
    },
    {
     "name": "stderr",
     "output_type": "stream",
     "text": [
      "\n",
      " 43%|████▎     | 32/74 [1:09:34<1:32:36, 132.29s/it]\n",
      "  0%|          | 0/11 [00:00<?, ?it/s]\u001b[A"
     ]
    },
    {
     "name": "stdout",
     "output_type": "stream",
     "text": [
      "Working with disease  anxiety\n"
     ]
    },
    {
     "name": "stderr",
     "output_type": "stream",
     "text": [
      "\n",
      "  9%|▉         | 1/11 [00:07<01:15,  7.55s/it]\u001b[A"
     ]
    },
    {
     "name": "stdout",
     "output_type": "stream",
     "text": [
      "Working with disease  asthma\n"
     ]
    },
    {
     "name": "stderr",
     "output_type": "stream",
     "text": [
      "\n",
      " 18%|█▊        | 2/11 [00:15<01:08,  7.56s/it]\u001b[A"
     ]
    },
    {
     "name": "stdout",
     "output_type": "stream",
     "text": [
      "Working with disease  osteoporosis\n"
     ]
    },
    {
     "name": "stderr",
     "output_type": "stream",
     "text": [
      "\n",
      " 27%|██▋       | 3/11 [00:22<01:00,  7.54s/it]\u001b[A"
     ]
    },
    {
     "name": "stdout",
     "output_type": "stream",
     "text": [
      "Working with disease  stroke\n"
     ]
    },
    {
     "name": "stderr",
     "output_type": "stream",
     "text": [
      "\n",
      " 36%|███▋      | 4/11 [00:30<00:52,  7.56s/it]\u001b[A"
     ]
    },
    {
     "name": "stdout",
     "output_type": "stream",
     "text": [
      "Working with disease  sleeplessness\n"
     ]
    },
    {
     "name": "stderr",
     "output_type": "stream",
     "text": [
      "\n",
      " 45%|████▌     | 5/11 [00:38<00:46,  7.68s/it]\u001b[A"
     ]
    },
    {
     "name": "stdout",
     "output_type": "stream",
     "text": [
      "Working with disease  hypertension\n"
     ]
    },
    {
     "name": "stderr",
     "output_type": "stream",
     "text": [
      "\n",
      " 55%|█████▍    | 6/11 [00:46<00:39,  7.89s/it]\u001b[A"
     ]
    },
    {
     "name": "stdout",
     "output_type": "stream",
     "text": [
      "Working with disease  chronic obstructive pulmonary disease\n"
     ]
    },
    {
     "name": "stderr",
     "output_type": "stream",
     "text": [
      "\n",
      " 64%|██████▎   | 7/11 [00:53<00:30,  7.54s/it]\u001b[A"
     ]
    },
    {
     "name": "stdout",
     "output_type": "stream",
     "text": [
      "Working with disease  dementia\n"
     ]
    },
    {
     "name": "stderr",
     "output_type": "stream",
     "text": [
      "\n",
      " 73%|███████▎  | 8/11 [01:01<00:22,  7.61s/it]\u001b[A"
     ]
    },
    {
     "name": "stdout",
     "output_type": "stream",
     "text": [
      "Working with disease  rheumatoid\n"
     ]
    },
    {
     "name": "stderr",
     "output_type": "stream",
     "text": [
      "\n",
      " 82%|████████▏ | 9/11 [01:08<00:15,  7.57s/it]\u001b[A"
     ]
    },
    {
     "name": "stdout",
     "output_type": "stream",
     "text": [
      "Working with disease  depression\n"
     ]
    },
    {
     "name": "stderr",
     "output_type": "stream",
     "text": [
      "\n",
      " 91%|█████████ | 10/11 [01:16<00:07,  7.59s/it]\u001b[A"
     ]
    },
    {
     "name": "stdout",
     "output_type": "stream",
     "text": [
      "Working with disease  diabetes\n"
     ]
    },
    {
     "name": "stderr",
     "output_type": "stream",
     "text": [
      "\n",
      " 45%|████▍     | 33/74 [1:11:46<1:30:20, 132.20s/it]\n",
      "  0%|          | 0/11 [00:00<?, ?it/s]\u001b[A"
     ]
    },
    {
     "name": "stdout",
     "output_type": "stream",
     "text": [
      "Working with disease  anxiety\n"
     ]
    },
    {
     "name": "stderr",
     "output_type": "stream",
     "text": [
      "\n",
      "  9%|▉         | 1/11 [00:07<01:13,  7.31s/it]\u001b[A"
     ]
    },
    {
     "name": "stdout",
     "output_type": "stream",
     "text": [
      "Working with disease  asthma\n"
     ]
    },
    {
     "name": "stderr",
     "output_type": "stream",
     "text": [
      "\n",
      " 18%|█▊        | 2/11 [00:14<01:05,  7.31s/it]\u001b[A"
     ]
    },
    {
     "name": "stdout",
     "output_type": "stream",
     "text": [
      "Working with disease  osteoporosis\n"
     ]
    },
    {
     "name": "stderr",
     "output_type": "stream",
     "text": [
      "\n",
      " 27%|██▋       | 3/11 [00:21<00:58,  7.30s/it]\u001b[A"
     ]
    },
    {
     "name": "stdout",
     "output_type": "stream",
     "text": [
      "Working with disease  stroke\n"
     ]
    },
    {
     "name": "stderr",
     "output_type": "stream",
     "text": [
      "\n",
      " 36%|███▋      | 4/11 [00:29<00:52,  7.47s/it]\u001b[A"
     ]
    },
    {
     "name": "stdout",
     "output_type": "stream",
     "text": [
      "Working with disease  sleeplessness\n"
     ]
    },
    {
     "name": "stderr",
     "output_type": "stream",
     "text": [
      "\n",
      " 45%|████▌     | 5/11 [00:37<00:45,  7.59s/it]\u001b[A"
     ]
    },
    {
     "name": "stdout",
     "output_type": "stream",
     "text": [
      "Working with disease  hypertension\n"
     ]
    },
    {
     "name": "stderr",
     "output_type": "stream",
     "text": [
      "\n",
      " 55%|█████▍    | 6/11 [00:45<00:38,  7.69s/it]\u001b[A"
     ]
    },
    {
     "name": "stdout",
     "output_type": "stream",
     "text": [
      "Working with disease  chronic obstructive pulmonary disease\n"
     ]
    },
    {
     "name": "stderr",
     "output_type": "stream",
     "text": [
      "\n",
      " 64%|██████▎   | 7/11 [00:52<00:29,  7.38s/it]\u001b[A"
     ]
    },
    {
     "name": "stdout",
     "output_type": "stream",
     "text": [
      "Working with disease  dementia\n"
     ]
    },
    {
     "name": "stderr",
     "output_type": "stream",
     "text": [
      "\n",
      " 73%|███████▎  | 8/11 [01:00<00:22,  7.51s/it]\u001b[A"
     ]
    },
    {
     "name": "stdout",
     "output_type": "stream",
     "text": [
      "Working with disease  rheumatoid\n"
     ]
    },
    {
     "name": "stderr",
     "output_type": "stream",
     "text": [
      "\n",
      " 82%|████████▏ | 9/11 [01:07<00:14,  7.44s/it]\u001b[A"
     ]
    },
    {
     "name": "stdout",
     "output_type": "stream",
     "text": [
      "Working with disease  depression\n"
     ]
    },
    {
     "name": "stderr",
     "output_type": "stream",
     "text": [
      "\n",
      " 91%|█████████ | 10/11 [01:14<00:07,  7.45s/it]\u001b[A"
     ]
    },
    {
     "name": "stdout",
     "output_type": "stream",
     "text": [
      "Working with disease  diabetes\n"
     ]
    },
    {
     "name": "stderr",
     "output_type": "stream",
     "text": [
      "\n",
      " 46%|████▌     | 34/74 [1:13:57<1:27:57, 131.95s/it]\n",
      "  0%|          | 0/11 [00:00<?, ?it/s]\u001b[A"
     ]
    },
    {
     "name": "stdout",
     "output_type": "stream",
     "text": [
      "Working with disease  anxiety\n"
     ]
    },
    {
     "name": "stderr",
     "output_type": "stream",
     "text": [
      "\n",
      "  9%|▉         | 1/11 [00:07<01:16,  7.61s/it]\u001b[A"
     ]
    },
    {
     "name": "stdout",
     "output_type": "stream",
     "text": [
      "Working with disease  asthma\n"
     ]
    },
    {
     "name": "stderr",
     "output_type": "stream",
     "text": [
      "\n",
      " 18%|█▊        | 2/11 [00:15<01:09,  7.78s/it]\u001b[A"
     ]
    },
    {
     "name": "stdout",
     "output_type": "stream",
     "text": [
      "Working with disease  osteoporosis\n"
     ]
    },
    {
     "name": "stderr",
     "output_type": "stream",
     "text": [
      "\n",
      " 27%|██▋       | 3/11 [00:23<01:02,  7.81s/it]\u001b[A"
     ]
    },
    {
     "name": "stdout",
     "output_type": "stream",
     "text": [
      "Working with disease  stroke\n"
     ]
    },
    {
     "name": "stderr",
     "output_type": "stream",
     "text": [
      "\n",
      " 36%|███▋      | 4/11 [00:31<00:54,  7.82s/it]\u001b[A"
     ]
    },
    {
     "name": "stdout",
     "output_type": "stream",
     "text": [
      "Working with disease  sleeplessness\n"
     ]
    },
    {
     "name": "stderr",
     "output_type": "stream",
     "text": [
      "\n",
      " 45%|████▌     | 5/11 [00:39<00:47,  7.88s/it]\u001b[A"
     ]
    },
    {
     "name": "stdout",
     "output_type": "stream",
     "text": [
      "Working with disease  hypertension\n"
     ]
    },
    {
     "name": "stderr",
     "output_type": "stream",
     "text": [
      "\n",
      " 55%|█████▍    | 6/11 [00:47<00:39,  7.85s/it]\u001b[A"
     ]
    },
    {
     "name": "stdout",
     "output_type": "stream",
     "text": [
      "Working with disease  chronic obstructive pulmonary disease\n"
     ]
    },
    {
     "name": "stderr",
     "output_type": "stream",
     "text": [
      "\n",
      " 64%|██████▎   | 7/11 [00:53<00:29,  7.50s/it]\u001b[A"
     ]
    },
    {
     "name": "stdout",
     "output_type": "stream",
     "text": [
      "Working with disease  dementia\n"
     ]
    },
    {
     "name": "stderr",
     "output_type": "stream",
     "text": [
      "\n",
      " 73%|███████▎  | 8/11 [01:01<00:22,  7.54s/it]\u001b[A"
     ]
    },
    {
     "name": "stdout",
     "output_type": "stream",
     "text": [
      "Working with disease  rheumatoid\n"
     ]
    },
    {
     "name": "stderr",
     "output_type": "stream",
     "text": [
      "\n",
      " 82%|████████▏ | 9/11 [01:09<00:15,  7.58s/it]\u001b[A"
     ]
    },
    {
     "name": "stdout",
     "output_type": "stream",
     "text": [
      "Working with disease  depression\n"
     ]
    },
    {
     "name": "stderr",
     "output_type": "stream",
     "text": [
      "\n",
      " 91%|█████████ | 10/11 [01:17<00:07,  7.66s/it]\u001b[A"
     ]
    },
    {
     "name": "stdout",
     "output_type": "stream",
     "text": [
      "Working with disease  diabetes\n"
     ]
    },
    {
     "name": "stderr",
     "output_type": "stream",
     "text": [
      "\n",
      " 47%|████▋     | 35/74 [1:16:11<1:26:09, 132.54s/it]\n",
      "  0%|          | 0/11 [00:00<?, ?it/s]\u001b[A"
     ]
    },
    {
     "name": "stdout",
     "output_type": "stream",
     "text": [
      "Working with disease  anxiety\n"
     ]
    },
    {
     "name": "stderr",
     "output_type": "stream",
     "text": [
      "\n",
      "  9%|▉         | 1/11 [00:07<01:16,  7.63s/it]\u001b[A"
     ]
    },
    {
     "name": "stdout",
     "output_type": "stream",
     "text": [
      "Working with disease  asthma\n"
     ]
    },
    {
     "name": "stderr",
     "output_type": "stream",
     "text": [
      "\n",
      " 18%|█▊        | 2/11 [00:15<01:09,  7.77s/it]\u001b[A"
     ]
    },
    {
     "name": "stdout",
     "output_type": "stream",
     "text": [
      "Working with disease  osteoporosis\n"
     ]
    },
    {
     "name": "stderr",
     "output_type": "stream",
     "text": [
      "\n",
      " 27%|██▋       | 3/11 [00:23<01:02,  7.84s/it]\u001b[A"
     ]
    },
    {
     "name": "stdout",
     "output_type": "stream",
     "text": [
      "Working with disease  stroke\n"
     ]
    },
    {
     "name": "stderr",
     "output_type": "stream",
     "text": [
      "\n",
      " 36%|███▋      | 4/11 [00:31<00:55,  7.94s/it]\u001b[A"
     ]
    },
    {
     "name": "stdout",
     "output_type": "stream",
     "text": [
      "Working with disease  sleeplessness\n"
     ]
    },
    {
     "name": "stderr",
     "output_type": "stream",
     "text": [
      "\n",
      " 45%|████▌     | 5/11 [00:40<00:47,  7.99s/it]\u001b[A"
     ]
    },
    {
     "name": "stdout",
     "output_type": "stream",
     "text": [
      "Working with disease  hypertension\n"
     ]
    },
    {
     "name": "stderr",
     "output_type": "stream",
     "text": [
      "\n",
      " 55%|█████▍    | 6/11 [00:47<00:39,  7.91s/it]\u001b[A"
     ]
    },
    {
     "name": "stdout",
     "output_type": "stream",
     "text": [
      "Working with disease  chronic obstructive pulmonary disease\n"
     ]
    },
    {
     "name": "stderr",
     "output_type": "stream",
     "text": [
      "\n",
      " 64%|██████▎   | 7/11 [00:54<00:30,  7.56s/it]\u001b[A"
     ]
    },
    {
     "name": "stdout",
     "output_type": "stream",
     "text": [
      "Working with disease  dementia\n"
     ]
    },
    {
     "name": "stderr",
     "output_type": "stream",
     "text": [
      "\n",
      " 73%|███████▎  | 8/11 [01:02<00:22,  7.60s/it]\u001b[A"
     ]
    },
    {
     "name": "stdout",
     "output_type": "stream",
     "text": [
      "Working with disease  rheumatoid\n"
     ]
    },
    {
     "name": "stderr",
     "output_type": "stream",
     "text": [
      "\n",
      " 82%|████████▏ | 9/11 [01:09<00:15,  7.58s/it]\u001b[A"
     ]
    },
    {
     "name": "stdout",
     "output_type": "stream",
     "text": [
      "Working with disease  depression\n"
     ]
    },
    {
     "name": "stderr",
     "output_type": "stream",
     "text": [
      "\n",
      " 91%|█████████ | 10/11 [01:17<00:07,  7.66s/it]\u001b[A"
     ]
    },
    {
     "name": "stdout",
     "output_type": "stream",
     "text": [
      "Working with disease  diabetes\n"
     ]
    },
    {
     "name": "stderr",
     "output_type": "stream",
     "text": [
      "\n",
      " 49%|████▊     | 36/74 [1:18:25<1:24:06, 132.79s/it]\n",
      "  0%|          | 0/11 [00:00<?, ?it/s]\u001b[A"
     ]
    },
    {
     "name": "stdout",
     "output_type": "stream",
     "text": [
      "Working with disease  anxiety\n"
     ]
    },
    {
     "name": "stderr",
     "output_type": "stream",
     "text": [
      "\n",
      "  9%|▉         | 1/11 [00:07<01:15,  7.55s/it]\u001b[A"
     ]
    },
    {
     "name": "stdout",
     "output_type": "stream",
     "text": [
      "Working with disease  asthma\n"
     ]
    },
    {
     "name": "stderr",
     "output_type": "stream",
     "text": [
      "\n",
      " 18%|█▊        | 2/11 [00:16<01:10,  7.82s/it]\u001b[A"
     ]
    },
    {
     "name": "stdout",
     "output_type": "stream",
     "text": [
      "Working with disease  osteoporosis\n"
     ]
    },
    {
     "name": "stderr",
     "output_type": "stream",
     "text": [
      "\n",
      " 27%|██▋       | 3/11 [00:23<01:02,  7.81s/it]\u001b[A"
     ]
    },
    {
     "name": "stdout",
     "output_type": "stream",
     "text": [
      "Working with disease  stroke\n"
     ]
    },
    {
     "name": "stderr",
     "output_type": "stream",
     "text": [
      "\n",
      " 36%|███▋      | 4/11 [00:31<00:54,  7.77s/it]\u001b[A"
     ]
    },
    {
     "name": "stdout",
     "output_type": "stream",
     "text": [
      "Working with disease  sleeplessness\n"
     ]
    },
    {
     "name": "stderr",
     "output_type": "stream",
     "text": [
      "\n",
      " 45%|████▌     | 5/11 [00:39<00:46,  7.73s/it]\u001b[A"
     ]
    },
    {
     "name": "stdout",
     "output_type": "stream",
     "text": [
      "Working with disease  hypertension\n"
     ]
    },
    {
     "name": "stderr",
     "output_type": "stream",
     "text": [
      "\n",
      " 55%|█████▍    | 6/11 [00:46<00:38,  7.70s/it]\u001b[A"
     ]
    },
    {
     "name": "stdout",
     "output_type": "stream",
     "text": [
      "Working with disease  chronic obstructive pulmonary disease\n"
     ]
    },
    {
     "name": "stderr",
     "output_type": "stream",
     "text": [
      "\n",
      " 64%|██████▎   | 7/11 [00:53<00:29,  7.34s/it]\u001b[A"
     ]
    },
    {
     "name": "stdout",
     "output_type": "stream",
     "text": [
      "Working with disease  dementia\n"
     ]
    },
    {
     "name": "stderr",
     "output_type": "stream",
     "text": [
      "\n",
      " 73%|███████▎  | 8/11 [01:00<00:22,  7.43s/it]\u001b[A"
     ]
    },
    {
     "name": "stdout",
     "output_type": "stream",
     "text": [
      "Working with disease  rheumatoid\n"
     ]
    },
    {
     "name": "stderr",
     "output_type": "stream",
     "text": [
      "\n",
      " 82%|████████▏ | 9/11 [01:08<00:14,  7.44s/it]\u001b[A"
     ]
    },
    {
     "name": "stdout",
     "output_type": "stream",
     "text": [
      "Working with disease  depression\n"
     ]
    },
    {
     "name": "stderr",
     "output_type": "stream",
     "text": [
      "\n",
      " 91%|█████████ | 10/11 [01:16<00:07,  7.53s/it]\u001b[A"
     ]
    },
    {
     "name": "stdout",
     "output_type": "stream",
     "text": [
      "Working with disease  diabetes\n"
     ]
    },
    {
     "name": "stderr",
     "output_type": "stream",
     "text": [
      "\n",
      " 50%|█████     | 37/74 [1:20:37<1:21:51, 132.73s/it]\n",
      "  0%|          | 0/11 [00:00<?, ?it/s]\u001b[A"
     ]
    },
    {
     "name": "stdout",
     "output_type": "stream",
     "text": [
      "Working with disease  anxiety\n"
     ]
    },
    {
     "name": "stderr",
     "output_type": "stream",
     "text": [
      "\n",
      "  9%|▉         | 1/11 [00:07<01:18,  7.81s/it]\u001b[A"
     ]
    },
    {
     "name": "stdout",
     "output_type": "stream",
     "text": [
      "Working with disease  asthma\n"
     ]
    },
    {
     "name": "stderr",
     "output_type": "stream",
     "text": [
      "\n",
      " 18%|█▊        | 2/11 [00:16<01:11,  7.99s/it]\u001b[A"
     ]
    },
    {
     "name": "stdout",
     "output_type": "stream",
     "text": [
      "Working with disease  osteoporosis\n"
     ]
    },
    {
     "name": "stderr",
     "output_type": "stream",
     "text": [
      "\n",
      " 27%|██▋       | 3/11 [00:23<01:03,  7.92s/it]\u001b[A"
     ]
    },
    {
     "name": "stdout",
     "output_type": "stream",
     "text": [
      "Working with disease  stroke\n"
     ]
    },
    {
     "name": "stderr",
     "output_type": "stream",
     "text": [
      "\n",
      " 36%|███▋      | 4/11 [00:31<00:54,  7.86s/it]\u001b[A"
     ]
    },
    {
     "name": "stdout",
     "output_type": "stream",
     "text": [
      "Working with disease  sleeplessness\n"
     ]
    },
    {
     "name": "stderr",
     "output_type": "stream",
     "text": [
      "\n",
      " 45%|████▌     | 5/11 [00:39<00:47,  7.87s/it]\u001b[A"
     ]
    },
    {
     "name": "stdout",
     "output_type": "stream",
     "text": [
      "Working with disease  hypertension\n"
     ]
    },
    {
     "name": "stderr",
     "output_type": "stream",
     "text": [
      "\n",
      " 55%|█████▍    | 6/11 [00:47<00:39,  7.85s/it]\u001b[A"
     ]
    },
    {
     "name": "stdout",
     "output_type": "stream",
     "text": [
      "Working with disease  chronic obstructive pulmonary disease\n"
     ]
    },
    {
     "name": "stderr",
     "output_type": "stream",
     "text": [
      "\n",
      " 64%|██████▎   | 7/11 [00:53<00:29,  7.46s/it]\u001b[A"
     ]
    },
    {
     "name": "stdout",
     "output_type": "stream",
     "text": [
      "Working with disease  dementia\n"
     ]
    },
    {
     "name": "stderr",
     "output_type": "stream",
     "text": [
      "\n",
      " 73%|███████▎  | 8/11 [01:01<00:22,  7.42s/it]\u001b[A"
     ]
    },
    {
     "name": "stdout",
     "output_type": "stream",
     "text": [
      "Working with disease  rheumatoid\n"
     ]
    },
    {
     "name": "stderr",
     "output_type": "stream",
     "text": [
      "\n",
      " 82%|████████▏ | 9/11 [01:08<00:14,  7.39s/it]\u001b[A"
     ]
    },
    {
     "name": "stdout",
     "output_type": "stream",
     "text": [
      "Working with disease  depression\n"
     ]
    },
    {
     "name": "stderr",
     "output_type": "stream",
     "text": [
      "\n",
      " 91%|█████████ | 10/11 [01:16<00:07,  7.49s/it]\u001b[A"
     ]
    },
    {
     "name": "stdout",
     "output_type": "stream",
     "text": [
      "Working with disease  diabetes\n"
     ]
    },
    {
     "name": "stderr",
     "output_type": "stream",
     "text": [
      "\n",
      " 51%|█████▏    | 38/74 [1:22:48<1:19:18, 132.18s/it]\n",
      "  0%|          | 0/11 [00:00<?, ?it/s]\u001b[A"
     ]
    },
    {
     "name": "stdout",
     "output_type": "stream",
     "text": [
      "Working with disease  anxiety\n"
     ]
    },
    {
     "name": "stderr",
     "output_type": "stream",
     "text": [
      "\n",
      "  9%|▉         | 1/11 [00:07<01:14,  7.48s/it]\u001b[A"
     ]
    },
    {
     "name": "stdout",
     "output_type": "stream",
     "text": [
      "Working with disease  asthma\n"
     ]
    },
    {
     "name": "stderr",
     "output_type": "stream",
     "text": [
      "\n",
      " 18%|█▊        | 2/11 [00:15<01:09,  7.73s/it]\u001b[A"
     ]
    },
    {
     "name": "stdout",
     "output_type": "stream",
     "text": [
      "Working with disease  osteoporosis\n"
     ]
    },
    {
     "name": "stderr",
     "output_type": "stream",
     "text": [
      "\n",
      " 27%|██▋       | 3/11 [00:23<01:01,  7.74s/it]\u001b[A"
     ]
    },
    {
     "name": "stdout",
     "output_type": "stream",
     "text": [
      "Working with disease  stroke\n"
     ]
    },
    {
     "name": "stderr",
     "output_type": "stream",
     "text": [
      "\n",
      " 36%|███▋      | 4/11 [00:31<00:54,  7.79s/it]\u001b[A"
     ]
    },
    {
     "name": "stdout",
     "output_type": "stream",
     "text": [
      "Working with disease  sleeplessness\n"
     ]
    },
    {
     "name": "stderr",
     "output_type": "stream",
     "text": [
      "\n",
      " 45%|████▌     | 5/11 [00:39<00:47,  7.85s/it]\u001b[A"
     ]
    },
    {
     "name": "stdout",
     "output_type": "stream",
     "text": [
      "Working with disease  hypertension\n"
     ]
    },
    {
     "name": "stderr",
     "output_type": "stream",
     "text": [
      "\n",
      " 55%|█████▍    | 6/11 [00:47<00:39,  7.87s/it]\u001b[A"
     ]
    },
    {
     "name": "stdout",
     "output_type": "stream",
     "text": [
      "Working with disease  chronic obstructive pulmonary disease\n"
     ]
    },
    {
     "name": "stderr",
     "output_type": "stream",
     "text": [
      "\n",
      " 64%|██████▎   | 7/11 [00:54<00:30,  7.51s/it]\u001b[A"
     ]
    },
    {
     "name": "stdout",
     "output_type": "stream",
     "text": [
      "Working with disease  dementia\n"
     ]
    },
    {
     "name": "stderr",
     "output_type": "stream",
     "text": [
      "\n",
      " 73%|███████▎  | 8/11 [01:01<00:22,  7.55s/it]\u001b[A"
     ]
    },
    {
     "name": "stdout",
     "output_type": "stream",
     "text": [
      "Working with disease  rheumatoid\n"
     ]
    },
    {
     "name": "stderr",
     "output_type": "stream",
     "text": [
      "\n",
      " 82%|████████▏ | 9/11 [01:09<00:15,  7.62s/it]\u001b[A"
     ]
    },
    {
     "name": "stdout",
     "output_type": "stream",
     "text": [
      "Working with disease  depression\n"
     ]
    },
    {
     "name": "stderr",
     "output_type": "stream",
     "text": [
      "\n",
      " 91%|█████████ | 10/11 [01:17<00:07,  7.72s/it]\u001b[A"
     ]
    },
    {
     "name": "stdout",
     "output_type": "stream",
     "text": [
      "Working with disease  diabetes\n"
     ]
    },
    {
     "name": "stderr",
     "output_type": "stream",
     "text": [
      "\n",
      " 53%|█████▎    | 39/74 [1:25:02<1:17:29, 132.84s/it]\n",
      "  0%|          | 0/11 [00:00<?, ?it/s]\u001b[A"
     ]
    },
    {
     "name": "stdout",
     "output_type": "stream",
     "text": [
      "Working with disease  anxiety\n"
     ]
    },
    {
     "name": "stderr",
     "output_type": "stream",
     "text": [
      "\n",
      "  9%|▉         | 1/11 [00:07<01:14,  7.43s/it]\u001b[A"
     ]
    },
    {
     "name": "stdout",
     "output_type": "stream",
     "text": [
      "Working with disease  asthma\n"
     ]
    },
    {
     "name": "stderr",
     "output_type": "stream",
     "text": [
      "\n",
      " 18%|█▊        | 2/11 [00:15<01:09,  7.75s/it]\u001b[A"
     ]
    },
    {
     "name": "stdout",
     "output_type": "stream",
     "text": [
      "Working with disease  osteoporosis\n"
     ]
    },
    {
     "name": "stderr",
     "output_type": "stream",
     "text": [
      "\n",
      " 27%|██▋       | 3/11 [00:23<01:01,  7.70s/it]\u001b[A"
     ]
    },
    {
     "name": "stdout",
     "output_type": "stream",
     "text": [
      "Working with disease  stroke\n"
     ]
    },
    {
     "name": "stderr",
     "output_type": "stream",
     "text": [
      "\n",
      " 36%|███▋      | 4/11 [00:31<00:53,  7.70s/it]\u001b[A"
     ]
    },
    {
     "name": "stdout",
     "output_type": "stream",
     "text": [
      "Working with disease  sleeplessness\n"
     ]
    },
    {
     "name": "stderr",
     "output_type": "stream",
     "text": [
      "\n",
      " 45%|████▌     | 5/11 [00:38<00:46,  7.71s/it]\u001b[A"
     ]
    },
    {
     "name": "stdout",
     "output_type": "stream",
     "text": [
      "Working with disease  hypertension\n"
     ]
    },
    {
     "name": "stderr",
     "output_type": "stream",
     "text": [
      "\n",
      " 55%|█████▍    | 6/11 [00:46<00:38,  7.74s/it]\u001b[A"
     ]
    },
    {
     "name": "stdout",
     "output_type": "stream",
     "text": [
      "Working with disease  chronic obstructive pulmonary disease\n"
     ]
    },
    {
     "name": "stderr",
     "output_type": "stream",
     "text": [
      "\n",
      " 64%|██████▎   | 7/11 [00:53<00:29,  7.42s/it]\u001b[A"
     ]
    },
    {
     "name": "stdout",
     "output_type": "stream",
     "text": [
      "Working with disease  dementia\n"
     ]
    },
    {
     "name": "stderr",
     "output_type": "stream",
     "text": [
      "\n",
      " 73%|███████▎  | 8/11 [01:01<00:22,  7.64s/it]\u001b[A"
     ]
    },
    {
     "name": "stdout",
     "output_type": "stream",
     "text": [
      "Working with disease  rheumatoid\n"
     ]
    },
    {
     "name": "stderr",
     "output_type": "stream",
     "text": [
      "\n",
      " 82%|████████▏ | 9/11 [01:10<00:15,  7.89s/it]\u001b[A"
     ]
    },
    {
     "name": "stdout",
     "output_type": "stream",
     "text": [
      "Working with disease  depression\n"
     ]
    },
    {
     "name": "stderr",
     "output_type": "stream",
     "text": [
      "\n",
      " 91%|█████████ | 10/11 [01:17<00:07,  7.87s/it]\u001b[A"
     ]
    },
    {
     "name": "stdout",
     "output_type": "stream",
     "text": [
      "Working with disease  diabetes\n"
     ]
    },
    {
     "name": "stderr",
     "output_type": "stream",
     "text": [
      "\n",
      " 54%|█████▍    | 40/74 [1:27:16<1:15:21, 132.98s/it]\n",
      "  0%|          | 0/11 [00:00<?, ?it/s]\u001b[A"
     ]
    },
    {
     "name": "stdout",
     "output_type": "stream",
     "text": [
      "Working with disease  anxiety\n"
     ]
    },
    {
     "name": "stderr",
     "output_type": "stream",
     "text": [
      "\n",
      "  9%|▉         | 1/11 [00:07<01:16,  7.65s/it]\u001b[A"
     ]
    },
    {
     "name": "stdout",
     "output_type": "stream",
     "text": [
      "Working with disease  asthma\n"
     ]
    },
    {
     "name": "stderr",
     "output_type": "stream",
     "text": [
      "\n",
      " 18%|█▊        | 2/11 [00:15<01:08,  7.64s/it]\u001b[A"
     ]
    },
    {
     "name": "stdout",
     "output_type": "stream",
     "text": [
      "Working with disease  osteoporosis\n"
     ]
    },
    {
     "name": "stderr",
     "output_type": "stream",
     "text": [
      "\n",
      " 27%|██▋       | 3/11 [00:22<01:00,  7.60s/it]\u001b[A"
     ]
    },
    {
     "name": "stdout",
     "output_type": "stream",
     "text": [
      "Working with disease  stroke\n"
     ]
    },
    {
     "name": "stderr",
     "output_type": "stream",
     "text": [
      "\n",
      " 36%|███▋      | 4/11 [00:30<00:53,  7.63s/it]\u001b[A"
     ]
    },
    {
     "name": "stdout",
     "output_type": "stream",
     "text": [
      "Working with disease  sleeplessness\n"
     ]
    },
    {
     "name": "stderr",
     "output_type": "stream",
     "text": [
      "\n",
      " 45%|████▌     | 5/11 [00:38<00:46,  7.73s/it]\u001b[A"
     ]
    },
    {
     "name": "stdout",
     "output_type": "stream",
     "text": [
      "Working with disease  hypertension\n"
     ]
    },
    {
     "name": "stderr",
     "output_type": "stream",
     "text": [
      "\n",
      " 55%|█████▍    | 6/11 [00:46<00:38,  7.74s/it]\u001b[A"
     ]
    },
    {
     "name": "stdout",
     "output_type": "stream",
     "text": [
      "Working with disease  chronic obstructive pulmonary disease\n"
     ]
    },
    {
     "name": "stderr",
     "output_type": "stream",
     "text": [
      "\n",
      " 64%|██████▎   | 7/11 [00:52<00:29,  7.37s/it]\u001b[A"
     ]
    },
    {
     "name": "stdout",
     "output_type": "stream",
     "text": [
      "Working with disease  dementia\n"
     ]
    },
    {
     "name": "stderr",
     "output_type": "stream",
     "text": [
      "\n",
      " 73%|███████▎  | 8/11 [01:00<00:22,  7.53s/it]\u001b[A"
     ]
    },
    {
     "name": "stdout",
     "output_type": "stream",
     "text": [
      "Working with disease  rheumatoid\n"
     ]
    },
    {
     "name": "stderr",
     "output_type": "stream",
     "text": [
      "\n",
      " 82%|████████▏ | 9/11 [01:08<00:15,  7.67s/it]\u001b[A"
     ]
    },
    {
     "name": "stdout",
     "output_type": "stream",
     "text": [
      "Working with disease  depression\n"
     ]
    },
    {
     "name": "stderr",
     "output_type": "stream",
     "text": [
      "\n",
      " 91%|█████████ | 10/11 [01:16<00:07,  7.68s/it]\u001b[A"
     ]
    },
    {
     "name": "stdout",
     "output_type": "stream",
     "text": [
      "Working with disease  diabetes\n"
     ]
    },
    {
     "name": "stderr",
     "output_type": "stream",
     "text": [
      "\n",
      " 55%|█████▌    | 41/74 [1:29:28<1:13:03, 132.83s/it]\n",
      "  0%|          | 0/11 [00:00<?, ?it/s]\u001b[A"
     ]
    },
    {
     "name": "stdout",
     "output_type": "stream",
     "text": [
      "Working with disease  anxiety\n"
     ]
    },
    {
     "name": "stderr",
     "output_type": "stream",
     "text": [
      "\n",
      "  9%|▉         | 1/11 [00:07<01:13,  7.37s/it]\u001b[A"
     ]
    },
    {
     "name": "stdout",
     "output_type": "stream",
     "text": [
      "Working with disease  asthma\n"
     ]
    },
    {
     "name": "stderr",
     "output_type": "stream",
     "text": [
      "\n",
      " 18%|█▊        | 2/11 [00:14<01:06,  7.44s/it]\u001b[A"
     ]
    },
    {
     "name": "stdout",
     "output_type": "stream",
     "text": [
      "Working with disease  osteoporosis\n"
     ]
    },
    {
     "name": "stderr",
     "output_type": "stream",
     "text": [
      "\n",
      " 27%|██▋       | 3/11 [00:22<00:59,  7.46s/it]\u001b[A"
     ]
    },
    {
     "name": "stdout",
     "output_type": "stream",
     "text": [
      "Working with disease  stroke\n"
     ]
    },
    {
     "name": "stderr",
     "output_type": "stream",
     "text": [
      "\n",
      " 36%|███▋      | 4/11 [00:30<00:52,  7.52s/it]\u001b[A"
     ]
    },
    {
     "name": "stdout",
     "output_type": "stream",
     "text": [
      "Working with disease  sleeplessness\n"
     ]
    },
    {
     "name": "stderr",
     "output_type": "stream",
     "text": [
      "\n",
      " 45%|████▌     | 5/11 [00:38<00:45,  7.67s/it]\u001b[A"
     ]
    },
    {
     "name": "stdout",
     "output_type": "stream",
     "text": [
      "Working with disease  hypertension\n"
     ]
    },
    {
     "name": "stderr",
     "output_type": "stream",
     "text": [
      "\n",
      " 55%|█████▍    | 6/11 [00:45<00:38,  7.70s/it]\u001b[A"
     ]
    },
    {
     "name": "stdout",
     "output_type": "stream",
     "text": [
      "Working with disease  chronic obstructive pulmonary disease\n"
     ]
    },
    {
     "name": "stderr",
     "output_type": "stream",
     "text": [
      "\n",
      " 64%|██████▎   | 7/11 [00:52<00:29,  7.34s/it]\u001b[A"
     ]
    },
    {
     "name": "stdout",
     "output_type": "stream",
     "text": [
      "Working with disease  dementia\n"
     ]
    },
    {
     "name": "stderr",
     "output_type": "stream",
     "text": [
      "\n",
      " 73%|███████▎  | 8/11 [01:00<00:22,  7.50s/it]\u001b[A"
     ]
    },
    {
     "name": "stdout",
     "output_type": "stream",
     "text": [
      "Working with disease  rheumatoid\n"
     ]
    },
    {
     "name": "stderr",
     "output_type": "stream",
     "text": [
      "\n",
      " 82%|████████▏ | 9/11 [01:08<00:15,  7.74s/it]\u001b[A"
     ]
    },
    {
     "name": "stdout",
     "output_type": "stream",
     "text": [
      "Working with disease  depression\n"
     ]
    },
    {
     "name": "stderr",
     "output_type": "stream",
     "text": [
      "\n",
      " 91%|█████████ | 10/11 [01:16<00:07,  7.68s/it]\u001b[A"
     ]
    },
    {
     "name": "stdout",
     "output_type": "stream",
     "text": [
      "Working with disease  diabetes\n"
     ]
    },
    {
     "name": "stderr",
     "output_type": "stream",
     "text": [
      "\n",
      " 57%|█████▋    | 42/74 [1:31:41<1:10:54, 132.96s/it]\n",
      "  0%|          | 0/11 [00:00<?, ?it/s]\u001b[A"
     ]
    },
    {
     "name": "stdout",
     "output_type": "stream",
     "text": [
      "Working with disease  anxiety\n"
     ]
    },
    {
     "name": "stderr",
     "output_type": "stream",
     "text": [
      "\n",
      "  9%|▉         | 1/11 [00:07<01:16,  7.61s/it]\u001b[A"
     ]
    },
    {
     "name": "stdout",
     "output_type": "stream",
     "text": [
      "Working with disease  asthma\n"
     ]
    },
    {
     "name": "stderr",
     "output_type": "stream",
     "text": [
      "\n",
      " 18%|█▊        | 2/11 [00:15<01:08,  7.59s/it]\u001b[A"
     ]
    },
    {
     "name": "stdout",
     "output_type": "stream",
     "text": [
      "Working with disease  osteoporosis\n"
     ]
    },
    {
     "name": "stderr",
     "output_type": "stream",
     "text": [
      "\n",
      " 27%|██▋       | 3/11 [00:22<01:00,  7.55s/it]\u001b[A"
     ]
    },
    {
     "name": "stdout",
     "output_type": "stream",
     "text": [
      "Working with disease  stroke\n"
     ]
    },
    {
     "name": "stderr",
     "output_type": "stream",
     "text": [
      "\n",
      " 36%|███▋      | 4/11 [00:30<00:53,  7.58s/it]\u001b[A"
     ]
    },
    {
     "name": "stdout",
     "output_type": "stream",
     "text": [
      "Working with disease  sleeplessness\n"
     ]
    },
    {
     "name": "stderr",
     "output_type": "stream",
     "text": [
      "\n",
      " 45%|████▌     | 5/11 [00:38<00:46,  7.75s/it]\u001b[A"
     ]
    },
    {
     "name": "stdout",
     "output_type": "stream",
     "text": [
      "Working with disease  hypertension\n"
     ]
    },
    {
     "name": "stderr",
     "output_type": "stream",
     "text": [
      "\n",
      " 55%|█████▍    | 6/11 [00:47<00:40,  8.07s/it]\u001b[A"
     ]
    },
    {
     "name": "stdout",
     "output_type": "stream",
     "text": [
      "Working with disease  chronic obstructive pulmonary disease\n"
     ]
    },
    {
     "name": "stderr",
     "output_type": "stream",
     "text": [
      "\n",
      " 64%|██████▎   | 7/11 [00:53<00:30,  7.66s/it]\u001b[A"
     ]
    },
    {
     "name": "stdout",
     "output_type": "stream",
     "text": [
      "Working with disease  dementia\n"
     ]
    },
    {
     "name": "stderr",
     "output_type": "stream",
     "text": [
      "\n",
      " 73%|███████▎  | 8/11 [01:01<00:23,  7.67s/it]\u001b[A"
     ]
    },
    {
     "name": "stdout",
     "output_type": "stream",
     "text": [
      "Working with disease  rheumatoid\n"
     ]
    },
    {
     "name": "stderr",
     "output_type": "stream",
     "text": [
      "\n",
      " 82%|████████▏ | 9/11 [01:09<00:15,  7.61s/it]\u001b[A"
     ]
    },
    {
     "name": "stdout",
     "output_type": "stream",
     "text": [
      "Working with disease  depression\n"
     ]
    },
    {
     "name": "stderr",
     "output_type": "stream",
     "text": [
      "\n",
      " 91%|█████████ | 10/11 [01:16<00:07,  7.65s/it]\u001b[A"
     ]
    },
    {
     "name": "stdout",
     "output_type": "stream",
     "text": [
      "Working with disease  diabetes\n"
     ]
    },
    {
     "name": "stderr",
     "output_type": "stream",
     "text": [
      "\n",
      " 58%|█████▊    | 43/74 [1:33:54<1:08:34, 132.73s/it]\n",
      "  0%|          | 0/11 [00:00<?, ?it/s]\u001b[A"
     ]
    },
    {
     "name": "stdout",
     "output_type": "stream",
     "text": [
      "Working with disease  anxiety\n"
     ]
    },
    {
     "name": "stderr",
     "output_type": "stream",
     "text": [
      "\n",
      "  9%|▉         | 1/11 [00:07<01:16,  7.67s/it]\u001b[A"
     ]
    },
    {
     "name": "stdout",
     "output_type": "stream",
     "text": [
      "Working with disease  asthma\n"
     ]
    },
    {
     "name": "stderr",
     "output_type": "stream",
     "text": [
      "\n",
      " 18%|█▊        | 2/11 [00:15<01:08,  7.57s/it]\u001b[A"
     ]
    },
    {
     "name": "stdout",
     "output_type": "stream",
     "text": [
      "Working with disease  osteoporosis\n"
     ]
    },
    {
     "name": "stderr",
     "output_type": "stream",
     "text": [
      "\n",
      " 27%|██▋       | 3/11 [00:22<00:59,  7.48s/it]\u001b[A"
     ]
    },
    {
     "name": "stdout",
     "output_type": "stream",
     "text": [
      "Working with disease  stroke\n"
     ]
    },
    {
     "name": "stderr",
     "output_type": "stream",
     "text": [
      "\n",
      " 36%|███▋      | 4/11 [00:29<00:52,  7.46s/it]\u001b[A"
     ]
    },
    {
     "name": "stdout",
     "output_type": "stream",
     "text": [
      "Working with disease  sleeplessness\n"
     ]
    },
    {
     "name": "stderr",
     "output_type": "stream",
     "text": [
      "\n",
      " 45%|████▌     | 5/11 [00:37<00:45,  7.60s/it]\u001b[A"
     ]
    },
    {
     "name": "stdout",
     "output_type": "stream",
     "text": [
      "Working with disease  hypertension\n"
     ]
    },
    {
     "name": "stderr",
     "output_type": "stream",
     "text": [
      "\n",
      " 55%|█████▍    | 6/11 [00:46<00:39,  7.99s/it]\u001b[A"
     ]
    },
    {
     "name": "stdout",
     "output_type": "stream",
     "text": [
      "Working with disease  chronic obstructive pulmonary disease\n"
     ]
    },
    {
     "name": "stderr",
     "output_type": "stream",
     "text": [
      "\n",
      " 64%|██████▎   | 7/11 [00:53<00:30,  7.68s/it]\u001b[A"
     ]
    },
    {
     "name": "stdout",
     "output_type": "stream",
     "text": [
      "Working with disease  dementia\n"
     ]
    },
    {
     "name": "stderr",
     "output_type": "stream",
     "text": [
      "\n",
      " 73%|███████▎  | 8/11 [01:01<00:22,  7.66s/it]\u001b[A"
     ]
    },
    {
     "name": "stdout",
     "output_type": "stream",
     "text": [
      "Working with disease  rheumatoid\n"
     ]
    },
    {
     "name": "stderr",
     "output_type": "stream",
     "text": [
      "\n",
      " 82%|████████▏ | 9/11 [01:08<00:15,  7.59s/it]\u001b[A"
     ]
    },
    {
     "name": "stdout",
     "output_type": "stream",
     "text": [
      "Working with disease  depression\n"
     ]
    },
    {
     "name": "stderr",
     "output_type": "stream",
     "text": [
      "\n",
      " 91%|█████████ | 10/11 [01:16<00:07,  7.60s/it]\u001b[A"
     ]
    },
    {
     "name": "stdout",
     "output_type": "stream",
     "text": [
      "Working with disease  diabetes\n"
     ]
    },
    {
     "name": "stderr",
     "output_type": "stream",
     "text": [
      "\n",
      " 59%|█████▉    | 44/74 [1:36:06<1:06:18, 132.63s/it]\n",
      "  0%|          | 0/11 [00:00<?, ?it/s]\u001b[A"
     ]
    },
    {
     "name": "stdout",
     "output_type": "stream",
     "text": [
      "Working with disease  anxiety\n"
     ]
    },
    {
     "name": "stderr",
     "output_type": "stream",
     "text": [
      "\n",
      "  9%|▉         | 1/11 [00:07<01:14,  7.49s/it]\u001b[A"
     ]
    },
    {
     "name": "stdout",
     "output_type": "stream",
     "text": [
      "Working with disease  asthma\n"
     ]
    },
    {
     "name": "stderr",
     "output_type": "stream",
     "text": [
      "\n",
      " 18%|█▊        | 2/11 [00:15<01:07,  7.50s/it]\u001b[A"
     ]
    },
    {
     "name": "stdout",
     "output_type": "stream",
     "text": [
      "Working with disease  osteoporosis\n"
     ]
    },
    {
     "name": "stderr",
     "output_type": "stream",
     "text": [
      "\n",
      " 27%|██▋       | 3/11 [00:22<01:00,  7.53s/it]\u001b[A"
     ]
    },
    {
     "name": "stdout",
     "output_type": "stream",
     "text": [
      "Working with disease  stroke\n"
     ]
    },
    {
     "name": "stderr",
     "output_type": "stream",
     "text": [
      "\n",
      " 36%|███▋      | 4/11 [00:30<00:53,  7.65s/it]\u001b[A"
     ]
    },
    {
     "name": "stdout",
     "output_type": "stream",
     "text": [
      "Working with disease  sleeplessness\n"
     ]
    },
    {
     "name": "stderr",
     "output_type": "stream",
     "text": [
      "\n",
      " 45%|████▌     | 5/11 [00:39<00:47,  7.96s/it]\u001b[A"
     ]
    },
    {
     "name": "stdout",
     "output_type": "stream",
     "text": [
      "Working with disease  hypertension\n"
     ]
    },
    {
     "name": "stderr",
     "output_type": "stream",
     "text": [
      "\n",
      " 55%|█████▍    | 6/11 [00:47<00:40,  8.03s/it]\u001b[A"
     ]
    },
    {
     "name": "stdout",
     "output_type": "stream",
     "text": [
      "Working with disease  chronic obstructive pulmonary disease\n"
     ]
    },
    {
     "name": "stderr",
     "output_type": "stream",
     "text": [
      "\n",
      " 64%|██████▎   | 7/11 [00:54<00:30,  7.66s/it]\u001b[A"
     ]
    },
    {
     "name": "stdout",
     "output_type": "stream",
     "text": [
      "Working with disease  dementia\n"
     ]
    },
    {
     "name": "stderr",
     "output_type": "stream",
     "text": [
      "\n",
      " 73%|███████▎  | 8/11 [01:02<00:23,  7.69s/it]\u001b[A"
     ]
    },
    {
     "name": "stdout",
     "output_type": "stream",
     "text": [
      "Working with disease  rheumatoid\n"
     ]
    },
    {
     "name": "stderr",
     "output_type": "stream",
     "text": [
      "\n",
      " 82%|████████▏ | 9/11 [01:09<00:15,  7.73s/it]\u001b[A"
     ]
    },
    {
     "name": "stdout",
     "output_type": "stream",
     "text": [
      "Working with disease  depression\n"
     ]
    },
    {
     "name": "stderr",
     "output_type": "stream",
     "text": [
      "\n",
      " 91%|█████████ | 10/11 [01:17<00:07,  7.83s/it]\u001b[A"
     ]
    },
    {
     "name": "stdout",
     "output_type": "stream",
     "text": [
      "Working with disease  diabetes\n"
     ]
    },
    {
     "name": "stderr",
     "output_type": "stream",
     "text": [
      "\n",
      " 61%|██████    | 45/74 [1:38:18<1:04:02, 132.50s/it]\n",
      "  0%|          | 0/11 [00:00<?, ?it/s]\u001b[A"
     ]
    },
    {
     "name": "stdout",
     "output_type": "stream",
     "text": [
      "Working with disease  anxiety\n"
     ]
    },
    {
     "name": "stderr",
     "output_type": "stream",
     "text": [
      "\n",
      "  9%|▉         | 1/11 [00:07<01:16,  7.61s/it]\u001b[A"
     ]
    },
    {
     "name": "stdout",
     "output_type": "stream",
     "text": [
      "Working with disease  asthma\n"
     ]
    },
    {
     "name": "stderr",
     "output_type": "stream",
     "text": [
      "\n",
      " 18%|█▊        | 2/11 [00:15<01:08,  7.60s/it]\u001b[A"
     ]
    },
    {
     "name": "stdout",
     "output_type": "stream",
     "text": [
      "Working with disease  osteoporosis\n"
     ]
    },
    {
     "name": "stderr",
     "output_type": "stream",
     "text": [
      "\n",
      " 27%|██▋       | 3/11 [00:22<01:01,  7.65s/it]\u001b[A"
     ]
    },
    {
     "name": "stdout",
     "output_type": "stream",
     "text": [
      "Working with disease  stroke\n"
     ]
    },
    {
     "name": "stderr",
     "output_type": "stream",
     "text": [
      "\n",
      " 36%|███▋      | 4/11 [00:31<00:54,  7.80s/it]\u001b[A"
     ]
    },
    {
     "name": "stdout",
     "output_type": "stream",
     "text": [
      "Working with disease  sleeplessness\n"
     ]
    },
    {
     "name": "stderr",
     "output_type": "stream",
     "text": [
      "\n",
      " 45%|████▌     | 5/11 [00:39<00:47,  7.90s/it]\u001b[A"
     ]
    },
    {
     "name": "stdout",
     "output_type": "stream",
     "text": [
      "Working with disease  hypertension\n"
     ]
    },
    {
     "name": "stderr",
     "output_type": "stream",
     "text": [
      "\n",
      " 55%|█████▍    | 6/11 [00:47<00:39,  7.89s/it]\u001b[A"
     ]
    },
    {
     "name": "stdout",
     "output_type": "stream",
     "text": [
      "Working with disease  chronic obstructive pulmonary disease\n"
     ]
    },
    {
     "name": "stderr",
     "output_type": "stream",
     "text": [
      "\n",
      " 64%|██████▎   | 7/11 [00:53<00:30,  7.55s/it]\u001b[A"
     ]
    },
    {
     "name": "stdout",
     "output_type": "stream",
     "text": [
      "Working with disease  dementia\n"
     ]
    },
    {
     "name": "stderr",
     "output_type": "stream",
     "text": [
      "\n",
      " 73%|███████▎  | 8/11 [01:01<00:22,  7.54s/it]\u001b[A"
     ]
    },
    {
     "name": "stdout",
     "output_type": "stream",
     "text": [
      "Working with disease  rheumatoid\n"
     ]
    },
    {
     "name": "stderr",
     "output_type": "stream",
     "text": [
      "\n",
      " 82%|████████▏ | 9/11 [01:08<00:14,  7.49s/it]\u001b[A"
     ]
    },
    {
     "name": "stdout",
     "output_type": "stream",
     "text": [
      "Working with disease  depression\n"
     ]
    },
    {
     "name": "stderr",
     "output_type": "stream",
     "text": [
      "\n",
      " 91%|█████████ | 10/11 [01:16<00:07,  7.51s/it]\u001b[A"
     ]
    },
    {
     "name": "stdout",
     "output_type": "stream",
     "text": [
      "Working with disease  diabetes\n"
     ]
    },
    {
     "name": "stderr",
     "output_type": "stream",
     "text": [
      "\n",
      " 62%|██████▏   | 46/74 [1:40:32<1:02:02, 132.94s/it]\n",
      "  0%|          | 0/11 [00:00<?, ?it/s]\u001b[A"
     ]
    },
    {
     "name": "stdout",
     "output_type": "stream",
     "text": [
      "Working with disease  anxiety\n"
     ]
    },
    {
     "name": "stderr",
     "output_type": "stream",
     "text": [
      "\n",
      "  9%|▉         | 1/11 [00:07<01:16,  7.67s/it]\u001b[A"
     ]
    },
    {
     "name": "stdout",
     "output_type": "stream",
     "text": [
      "Working with disease  asthma\n"
     ]
    },
    {
     "name": "stderr",
     "output_type": "stream",
     "text": [
      "\n",
      " 18%|█▊        | 2/11 [00:16<01:10,  7.89s/it]\u001b[A"
     ]
    },
    {
     "name": "stdout",
     "output_type": "stream",
     "text": [
      "Working with disease  osteoporosis\n"
     ]
    },
    {
     "name": "stderr",
     "output_type": "stream",
     "text": [
      "\n",
      " 27%|██▋       | 3/11 [00:23<01:02,  7.79s/it]\u001b[A"
     ]
    },
    {
     "name": "stdout",
     "output_type": "stream",
     "text": [
      "Working with disease  stroke\n"
     ]
    },
    {
     "name": "stderr",
     "output_type": "stream",
     "text": [
      "\n",
      " 36%|███▋      | 4/11 [00:30<00:53,  7.66s/it]\u001b[A"
     ]
    },
    {
     "name": "stdout",
     "output_type": "stream",
     "text": [
      "Working with disease  sleeplessness\n"
     ]
    },
    {
     "name": "stderr",
     "output_type": "stream",
     "text": [
      "\n",
      " 45%|████▌     | 5/11 [00:38<00:46,  7.69s/it]\u001b[A"
     ]
    },
    {
     "name": "stdout",
     "output_type": "stream",
     "text": [
      "Working with disease  hypertension\n"
     ]
    },
    {
     "name": "stderr",
     "output_type": "stream",
     "text": [
      "\n",
      " 55%|█████▍    | 6/11 [00:46<00:38,  7.64s/it]\u001b[A"
     ]
    },
    {
     "name": "stdout",
     "output_type": "stream",
     "text": [
      "Working with disease  chronic obstructive pulmonary disease\n"
     ]
    },
    {
     "name": "stderr",
     "output_type": "stream",
     "text": [
      "\n",
      " 64%|██████▎   | 7/11 [00:53<00:29,  7.38s/it]\u001b[A"
     ]
    },
    {
     "name": "stdout",
     "output_type": "stream",
     "text": [
      "Working with disease  dementia\n"
     ]
    },
    {
     "name": "stderr",
     "output_type": "stream",
     "text": [
      "\n",
      " 73%|███████▎  | 8/11 [01:00<00:22,  7.45s/it]\u001b[A"
     ]
    },
    {
     "name": "stdout",
     "output_type": "stream",
     "text": [
      "Working with disease  rheumatoid\n"
     ]
    },
    {
     "name": "stderr",
     "output_type": "stream",
     "text": [
      "\n",
      " 82%|████████▏ | 9/11 [01:08<00:15,  7.62s/it]\u001b[A"
     ]
    },
    {
     "name": "stdout",
     "output_type": "stream",
     "text": [
      "Working with disease  depression\n"
     ]
    },
    {
     "name": "stderr",
     "output_type": "stream",
     "text": [
      "\n",
      " 91%|█████████ | 10/11 [01:16<00:07,  7.81s/it]\u001b[A"
     ]
    },
    {
     "name": "stdout",
     "output_type": "stream",
     "text": [
      "Working with disease  diabetes\n"
     ]
    },
    {
     "name": "stderr",
     "output_type": "stream",
     "text": [
      "\n",
      " 64%|██████▎   | 47/74 [1:42:46<59:56, 133.20s/it]  \n",
      "  0%|          | 0/11 [00:00<?, ?it/s]\u001b[A"
     ]
    },
    {
     "name": "stdout",
     "output_type": "stream",
     "text": [
      "Working with disease  anxiety\n"
     ]
    },
    {
     "name": "stderr",
     "output_type": "stream",
     "text": [
      "\n",
      "  9%|▉         | 1/11 [00:07<01:19,  7.95s/it]\u001b[A"
     ]
    },
    {
     "name": "stdout",
     "output_type": "stream",
     "text": [
      "Working with disease  asthma\n"
     ]
    },
    {
     "name": "stderr",
     "output_type": "stream",
     "text": [
      "\n",
      " 18%|█▊        | 2/11 [00:15<01:11,  7.96s/it]\u001b[A"
     ]
    },
    {
     "name": "stdout",
     "output_type": "stream",
     "text": [
      "Working with disease  osteoporosis\n"
     ]
    },
    {
     "name": "stderr",
     "output_type": "stream",
     "text": [
      "\n",
      " 27%|██▋       | 3/11 [00:23<01:02,  7.83s/it]\u001b[A"
     ]
    },
    {
     "name": "stdout",
     "output_type": "stream",
     "text": [
      "Working with disease  stroke\n"
     ]
    },
    {
     "name": "stderr",
     "output_type": "stream",
     "text": [
      "\n",
      " 36%|███▋      | 4/11 [00:30<00:53,  7.67s/it]\u001b[A"
     ]
    },
    {
     "name": "stdout",
     "output_type": "stream",
     "text": [
      "Working with disease  sleeplessness\n"
     ]
    },
    {
     "name": "stderr",
     "output_type": "stream",
     "text": [
      "\n",
      " 45%|████▌     | 5/11 [00:38<00:46,  7.71s/it]\u001b[A"
     ]
    },
    {
     "name": "stdout",
     "output_type": "stream",
     "text": [
      "Working with disease  hypertension\n"
     ]
    },
    {
     "name": "stderr",
     "output_type": "stream",
     "text": [
      "\n",
      " 55%|█████▍    | 6/11 [00:46<00:38,  7.73s/it]\u001b[A"
     ]
    },
    {
     "name": "stdout",
     "output_type": "stream",
     "text": [
      "Working with disease  chronic obstructive pulmonary disease\n"
     ]
    },
    {
     "name": "stderr",
     "output_type": "stream",
     "text": [
      "\n",
      " 64%|██████▎   | 7/11 [00:53<00:29,  7.41s/it]\u001b[A"
     ]
    },
    {
     "name": "stdout",
     "output_type": "stream",
     "text": [
      "Working with disease  dementia\n"
     ]
    },
    {
     "name": "stderr",
     "output_type": "stream",
     "text": [
      "\n",
      " 73%|███████▎  | 8/11 [01:00<00:22,  7.48s/it]\u001b[A"
     ]
    },
    {
     "name": "stdout",
     "output_type": "stream",
     "text": [
      "Working with disease  rheumatoid\n"
     ]
    },
    {
     "name": "stderr",
     "output_type": "stream",
     "text": [
      "\n",
      " 82%|████████▏ | 9/11 [01:08<00:15,  7.74s/it]\u001b[A"
     ]
    },
    {
     "name": "stdout",
     "output_type": "stream",
     "text": [
      "Working with disease  depression\n"
     ]
    },
    {
     "name": "stderr",
     "output_type": "stream",
     "text": [
      "\n",
      " 91%|█████████ | 10/11 [01:16<00:07,  7.80s/it]\u001b[A"
     ]
    },
    {
     "name": "stdout",
     "output_type": "stream",
     "text": [
      "Working with disease  diabetes\n"
     ]
    },
    {
     "name": "stderr",
     "output_type": "stream",
     "text": [
      "\n",
      " 65%|██████▍   | 48/74 [1:44:57<57:23, 132.45s/it]\n",
      "  0%|          | 0/11 [00:00<?, ?it/s]\u001b[A"
     ]
    },
    {
     "name": "stdout",
     "output_type": "stream",
     "text": [
      "Working with disease  anxiety\n"
     ]
    },
    {
     "name": "stderr",
     "output_type": "stream",
     "text": [
      "\n",
      "  9%|▉         | 1/11 [00:07<01:15,  7.55s/it]\u001b[A"
     ]
    },
    {
     "name": "stdout",
     "output_type": "stream",
     "text": [
      "Working with disease  asthma\n"
     ]
    },
    {
     "name": "stderr",
     "output_type": "stream",
     "text": [
      "\n",
      " 18%|█▊        | 2/11 [00:15<01:07,  7.55s/it]\u001b[A"
     ]
    },
    {
     "name": "stdout",
     "output_type": "stream",
     "text": [
      "Working with disease  osteoporosis\n"
     ]
    },
    {
     "name": "stderr",
     "output_type": "stream",
     "text": [
      "\n",
      " 27%|██▋       | 3/11 [00:22<01:00,  7.54s/it]\u001b[A"
     ]
    },
    {
     "name": "stdout",
     "output_type": "stream",
     "text": [
      "Working with disease  stroke\n"
     ]
    },
    {
     "name": "stderr",
     "output_type": "stream",
     "text": [
      "\n",
      " 36%|███▋      | 4/11 [00:30<00:53,  7.60s/it]\u001b[A"
     ]
    },
    {
     "name": "stdout",
     "output_type": "stream",
     "text": [
      "Working with disease  sleeplessness\n"
     ]
    },
    {
     "name": "stderr",
     "output_type": "stream",
     "text": [
      "\n",
      " 45%|████▌     | 5/11 [00:38<00:46,  7.80s/it]\u001b[A"
     ]
    },
    {
     "name": "stdout",
     "output_type": "stream",
     "text": [
      "Working with disease  hypertension\n"
     ]
    },
    {
     "name": "stderr",
     "output_type": "stream",
     "text": [
      "\n",
      " 55%|█████▍    | 6/11 [00:47<00:40,  8.15s/it]\u001b[A"
     ]
    },
    {
     "name": "stdout",
     "output_type": "stream",
     "text": [
      "Working with disease  chronic obstructive pulmonary disease\n"
     ]
    },
    {
     "name": "stderr",
     "output_type": "stream",
     "text": [
      "\n",
      " 64%|██████▎   | 7/11 [00:54<00:31,  7.84s/it]\u001b[A"
     ]
    },
    {
     "name": "stdout",
     "output_type": "stream",
     "text": [
      "Working with disease  dementia\n"
     ]
    },
    {
     "name": "stderr",
     "output_type": "stream",
     "text": [
      "\n",
      " 73%|███████▎  | 8/11 [01:02<00:23,  7.85s/it]\u001b[A"
     ]
    },
    {
     "name": "stdout",
     "output_type": "stream",
     "text": [
      "Working with disease  rheumatoid\n"
     ]
    },
    {
     "name": "stderr",
     "output_type": "stream",
     "text": [
      "\n",
      " 82%|████████▏ | 9/11 [01:10<00:15,  7.77s/it]\u001b[A"
     ]
    },
    {
     "name": "stdout",
     "output_type": "stream",
     "text": [
      "Working with disease  depression\n"
     ]
    },
    {
     "name": "stderr",
     "output_type": "stream",
     "text": [
      "\n",
      " 91%|█████████ | 10/11 [01:17<00:07,  7.76s/it]\u001b[A"
     ]
    },
    {
     "name": "stdout",
     "output_type": "stream",
     "text": [
      "Working with disease  diabetes\n"
     ]
    },
    {
     "name": "stderr",
     "output_type": "stream",
     "text": [
      "\n",
      " 66%|██████▌   | 49/74 [1:47:10<55:16, 132.68s/it]\n",
      "  0%|          | 0/11 [00:00<?, ?it/s]\u001b[A"
     ]
    },
    {
     "name": "stdout",
     "output_type": "stream",
     "text": [
      "Working with disease  anxiety\n"
     ]
    },
    {
     "name": "stderr",
     "output_type": "stream",
     "text": [
      "\n",
      "  9%|▉         | 1/11 [00:07<01:15,  7.59s/it]\u001b[A"
     ]
    },
    {
     "name": "stdout",
     "output_type": "stream",
     "text": [
      "Working with disease  asthma\n"
     ]
    },
    {
     "name": "stderr",
     "output_type": "stream",
     "text": [
      "\n",
      " 18%|█▊        | 2/11 [00:15<01:08,  7.60s/it]\u001b[A"
     ]
    },
    {
     "name": "stdout",
     "output_type": "stream",
     "text": [
      "Working with disease  osteoporosis\n"
     ]
    },
    {
     "name": "stderr",
     "output_type": "stream",
     "text": [
      "\n",
      " 27%|██▋       | 3/11 [00:22<01:00,  7.58s/it]\u001b[A"
     ]
    },
    {
     "name": "stdout",
     "output_type": "stream",
     "text": [
      "Working with disease  stroke\n"
     ]
    },
    {
     "name": "stderr",
     "output_type": "stream",
     "text": [
      "\n",
      " 36%|███▋      | 4/11 [00:30<00:53,  7.67s/it]\u001b[A"
     ]
    },
    {
     "name": "stdout",
     "output_type": "stream",
     "text": [
      "Working with disease  sleeplessness\n"
     ]
    },
    {
     "name": "stderr",
     "output_type": "stream",
     "text": [
      "\n",
      " 45%|████▌     | 5/11 [00:39<00:47,  7.93s/it]\u001b[A"
     ]
    },
    {
     "name": "stdout",
     "output_type": "stream",
     "text": [
      "Working with disease  hypertension\n"
     ]
    },
    {
     "name": "stderr",
     "output_type": "stream",
     "text": [
      "\n",
      " 55%|█████▍    | 6/11 [00:47<00:40,  8.01s/it]\u001b[A"
     ]
    },
    {
     "name": "stdout",
     "output_type": "stream",
     "text": [
      "Working with disease  chronic obstructive pulmonary disease\n"
     ]
    },
    {
     "name": "stderr",
     "output_type": "stream",
     "text": [
      "\n",
      " 64%|██████▎   | 7/11 [00:53<00:30,  7.60s/it]\u001b[A"
     ]
    },
    {
     "name": "stdout",
     "output_type": "stream",
     "text": [
      "Working with disease  dementia\n"
     ]
    },
    {
     "name": "stderr",
     "output_type": "stream",
     "text": [
      "\n",
      " 73%|███████▎  | 8/11 [01:01<00:23,  7.68s/it]\u001b[A"
     ]
    },
    {
     "name": "stdout",
     "output_type": "stream",
     "text": [
      "Working with disease  rheumatoid\n"
     ]
    },
    {
     "name": "stderr",
     "output_type": "stream",
     "text": [
      "\n",
      " 82%|████████▏ | 9/11 [01:09<00:15,  7.61s/it]\u001b[A"
     ]
    },
    {
     "name": "stdout",
     "output_type": "stream",
     "text": [
      "Working with disease  depression\n"
     ]
    },
    {
     "name": "stderr",
     "output_type": "stream",
     "text": [
      "\n",
      " 91%|█████████ | 10/11 [01:17<00:07,  7.74s/it]\u001b[A"
     ]
    },
    {
     "name": "stdout",
     "output_type": "stream",
     "text": [
      "Working with disease  diabetes\n"
     ]
    },
    {
     "name": "stderr",
     "output_type": "stream",
     "text": [
      "\n",
      " 68%|██████▊   | 50/74 [1:49:21<52:49, 132.07s/it]\n",
      "  0%|          | 0/11 [00:00<?, ?it/s]\u001b[A"
     ]
    },
    {
     "name": "stdout",
     "output_type": "stream",
     "text": [
      "Working with disease  anxiety\n"
     ]
    },
    {
     "name": "stderr",
     "output_type": "stream",
     "text": [
      "\n",
      "  9%|▉         | 1/11 [00:07<01:16,  7.62s/it]\u001b[A"
     ]
    },
    {
     "name": "stdout",
     "output_type": "stream",
     "text": [
      "Working with disease  asthma\n"
     ]
    },
    {
     "name": "stderr",
     "output_type": "stream",
     "text": [
      "\n",
      " 18%|█▊        | 2/11 [00:15<01:08,  7.63s/it]\u001b[A"
     ]
    },
    {
     "name": "stdout",
     "output_type": "stream",
     "text": [
      "Working with disease  osteoporosis\n"
     ]
    },
    {
     "name": "stderr",
     "output_type": "stream",
     "text": [
      "\n",
      " 27%|██▋       | 3/11 [00:23<01:01,  7.69s/it]\u001b[A"
     ]
    },
    {
     "name": "stdout",
     "output_type": "stream",
     "text": [
      "Working with disease  stroke\n"
     ]
    },
    {
     "name": "stderr",
     "output_type": "stream",
     "text": [
      "\n",
      " 36%|███▋      | 4/11 [00:31<00:55,  7.86s/it]\u001b[A"
     ]
    },
    {
     "name": "stdout",
     "output_type": "stream",
     "text": [
      "Working with disease  sleeplessness\n"
     ]
    },
    {
     "name": "stderr",
     "output_type": "stream",
     "text": [
      "\n",
      " 45%|████▌     | 5/11 [00:39<00:47,  8.00s/it]\u001b[A"
     ]
    },
    {
     "name": "stdout",
     "output_type": "stream",
     "text": [
      "Working with disease  hypertension\n"
     ]
    },
    {
     "name": "stderr",
     "output_type": "stream",
     "text": [
      "\n",
      " 55%|█████▍    | 6/11 [00:47<00:39,  7.98s/it]\u001b[A"
     ]
    },
    {
     "name": "stdout",
     "output_type": "stream",
     "text": [
      "Working with disease  chronic obstructive pulmonary disease\n"
     ]
    },
    {
     "name": "stderr",
     "output_type": "stream",
     "text": [
      "\n",
      " 64%|██████▎   | 7/11 [00:54<00:30,  7.61s/it]\u001b[A"
     ]
    },
    {
     "name": "stdout",
     "output_type": "stream",
     "text": [
      "Working with disease  dementia\n"
     ]
    },
    {
     "name": "stderr",
     "output_type": "stream",
     "text": [
      "\n",
      " 73%|███████▎  | 8/11 [01:02<00:22,  7.64s/it]\u001b[A"
     ]
    },
    {
     "name": "stdout",
     "output_type": "stream",
     "text": [
      "Working with disease  rheumatoid\n"
     ]
    },
    {
     "name": "stderr",
     "output_type": "stream",
     "text": [
      "\n",
      " 82%|████████▏ | 9/11 [01:09<00:15,  7.60s/it]\u001b[A"
     ]
    },
    {
     "name": "stdout",
     "output_type": "stream",
     "text": [
      "Working with disease  depression\n"
     ]
    },
    {
     "name": "stderr",
     "output_type": "stream",
     "text": [
      "\n",
      " 91%|█████████ | 10/11 [01:17<00:07,  7.63s/it]\u001b[A"
     ]
    },
    {
     "name": "stdout",
     "output_type": "stream",
     "text": [
      "Working with disease  diabetes\n"
     ]
    },
    {
     "name": "stderr",
     "output_type": "stream",
     "text": [
      "\n",
      " 69%|██████▉   | 51/74 [1:51:33<50:40, 132.18s/it]\n",
      "  0%|          | 0/11 [00:00<?, ?it/s]\u001b[A"
     ]
    },
    {
     "name": "stdout",
     "output_type": "stream",
     "text": [
      "Working with disease  anxiety\n"
     ]
    },
    {
     "name": "stderr",
     "output_type": "stream",
     "text": [
      "\n",
      "  9%|▉         | 1/11 [00:07<01:16,  7.63s/it]\u001b[A"
     ]
    },
    {
     "name": "stdout",
     "output_type": "stream",
     "text": [
      "Working with disease  asthma\n"
     ]
    },
    {
     "name": "stderr",
     "output_type": "stream",
     "text": [
      "\n",
      " 18%|█▊        | 2/11 [00:15<01:10,  7.78s/it]\u001b[A"
     ]
    },
    {
     "name": "stdout",
     "output_type": "stream",
     "text": [
      "Working with disease  osteoporosis\n"
     ]
    },
    {
     "name": "stderr",
     "output_type": "stream",
     "text": [
      "\n",
      " 27%|██▋       | 3/11 [00:23<01:03,  7.88s/it]\u001b[A"
     ]
    },
    {
     "name": "stdout",
     "output_type": "stream",
     "text": [
      "Working with disease  stroke\n"
     ]
    },
    {
     "name": "stderr",
     "output_type": "stream",
     "text": [
      "\n",
      " 36%|███▋      | 4/11 [00:31<00:55,  7.92s/it]\u001b[A"
     ]
    },
    {
     "name": "stdout",
     "output_type": "stream",
     "text": [
      "Working with disease  sleeplessness\n"
     ]
    },
    {
     "name": "stderr",
     "output_type": "stream",
     "text": [
      "\n",
      " 45%|████▌     | 5/11 [00:39<00:47,  7.95s/it]\u001b[A"
     ]
    },
    {
     "name": "stdout",
     "output_type": "stream",
     "text": [
      "Working with disease  hypertension\n"
     ]
    },
    {
     "name": "stderr",
     "output_type": "stream",
     "text": [
      "\n",
      " 55%|█████▍    | 6/11 [00:47<00:39,  7.92s/it]\u001b[A"
     ]
    },
    {
     "name": "stdout",
     "output_type": "stream",
     "text": [
      "Working with disease  chronic obstructive pulmonary disease\n"
     ]
    },
    {
     "name": "stderr",
     "output_type": "stream",
     "text": [
      "\n",
      " 64%|██████▎   | 7/11 [00:54<00:30,  7.55s/it]\u001b[A"
     ]
    },
    {
     "name": "stdout",
     "output_type": "stream",
     "text": [
      "Working with disease  dementia\n"
     ]
    },
    {
     "name": "stderr",
     "output_type": "stream",
     "text": [
      "\n",
      " 73%|███████▎  | 8/11 [01:02<00:22,  7.59s/it]\u001b[A"
     ]
    },
    {
     "name": "stdout",
     "output_type": "stream",
     "text": [
      "Working with disease  rheumatoid\n"
     ]
    },
    {
     "name": "stderr",
     "output_type": "stream",
     "text": [
      "\n",
      " 82%|████████▏ | 9/11 [01:09<00:15,  7.57s/it]\u001b[A"
     ]
    },
    {
     "name": "stdout",
     "output_type": "stream",
     "text": [
      "Working with disease  depression\n"
     ]
    },
    {
     "name": "stderr",
     "output_type": "stream",
     "text": [
      "\n",
      " 91%|█████████ | 10/11 [01:17<00:07,  7.63s/it]\u001b[A"
     ]
    },
    {
     "name": "stdout",
     "output_type": "stream",
     "text": [
      "Working with disease  diabetes\n"
     ]
    },
    {
     "name": "stderr",
     "output_type": "stream",
     "text": [
      "\n",
      " 70%|███████   | 52/74 [1:53:45<48:24, 132.02s/it]\n",
      "  0%|          | 0/11 [00:00<?, ?it/s]\u001b[A"
     ]
    },
    {
     "name": "stdout",
     "output_type": "stream",
     "text": [
      "Working with disease  anxiety\n"
     ]
    },
    {
     "name": "stderr",
     "output_type": "stream",
     "text": [
      "\n",
      "  9%|▉         | 1/11 [00:07<01:16,  7.65s/it]\u001b[A"
     ]
    },
    {
     "name": "stdout",
     "output_type": "stream",
     "text": [
      "Working with disease  asthma\n"
     ]
    },
    {
     "name": "stderr",
     "output_type": "stream",
     "text": [
      "\n",
      " 18%|█▊        | 2/11 [00:16<01:11,  7.98s/it]\u001b[A"
     ]
    },
    {
     "name": "stdout",
     "output_type": "stream",
     "text": [
      "Working with disease  osteoporosis\n"
     ]
    },
    {
     "name": "stderr",
     "output_type": "stream",
     "text": [
      "\n",
      " 27%|██▋       | 3/11 [00:23<01:02,  7.85s/it]\u001b[A"
     ]
    },
    {
     "name": "stdout",
     "output_type": "stream",
     "text": [
      "Working with disease  stroke\n"
     ]
    },
    {
     "name": "stderr",
     "output_type": "stream",
     "text": [
      "\n",
      " 36%|███▋      | 4/11 [00:31<00:54,  7.80s/it]\u001b[A"
     ]
    },
    {
     "name": "stdout",
     "output_type": "stream",
     "text": [
      "Working with disease  sleeplessness\n"
     ]
    },
    {
     "name": "stderr",
     "output_type": "stream",
     "text": [
      "\n",
      " 45%|████▌     | 5/11 [00:39<00:47,  7.86s/it]\u001b[A"
     ]
    },
    {
     "name": "stdout",
     "output_type": "stream",
     "text": [
      "Working with disease  hypertension\n"
     ]
    },
    {
     "name": "stderr",
     "output_type": "stream",
     "text": [
      "\n",
      " 55%|█████▍    | 6/11 [00:47<00:39,  7.83s/it]\u001b[A"
     ]
    },
    {
     "name": "stdout",
     "output_type": "stream",
     "text": [
      "Working with disease  chronic obstructive pulmonary disease\n"
     ]
    },
    {
     "name": "stderr",
     "output_type": "stream",
     "text": [
      "\n",
      " 64%|██████▎   | 7/11 [00:54<00:30,  7.50s/it]\u001b[A"
     ]
    },
    {
     "name": "stdout",
     "output_type": "stream",
     "text": [
      "Working with disease  dementia\n"
     ]
    },
    {
     "name": "stderr",
     "output_type": "stream",
     "text": [
      "\n",
      " 73%|███████▎  | 8/11 [01:01<00:22,  7.49s/it]\u001b[A"
     ]
    },
    {
     "name": "stdout",
     "output_type": "stream",
     "text": [
      "Working with disease  rheumatoid\n"
     ]
    },
    {
     "name": "stderr",
     "output_type": "stream",
     "text": [
      "\n",
      " 82%|████████▏ | 9/11 [01:09<00:14,  7.49s/it]\u001b[A"
     ]
    },
    {
     "name": "stdout",
     "output_type": "stream",
     "text": [
      "Working with disease  depression\n"
     ]
    },
    {
     "name": "stderr",
     "output_type": "stream",
     "text": [
      "\n",
      " 91%|█████████ | 10/11 [01:16<00:07,  7.59s/it]\u001b[A"
     ]
    },
    {
     "name": "stdout",
     "output_type": "stream",
     "text": [
      "Working with disease  diabetes\n"
     ]
    },
    {
     "name": "stderr",
     "output_type": "stream",
     "text": [
      "\n",
      " 72%|███████▏  | 53/74 [1:55:56<46:10, 131.93s/it]\n",
      "  0%|          | 0/11 [00:00<?, ?it/s]\u001b[A"
     ]
    },
    {
     "name": "stdout",
     "output_type": "stream",
     "text": [
      "Working with disease  anxiety\n"
     ]
    },
    {
     "name": "stderr",
     "output_type": "stream",
     "text": [
      "\n",
      "  9%|▉         | 1/11 [00:08<01:19,  8.00s/it]\u001b[A"
     ]
    },
    {
     "name": "stdout",
     "output_type": "stream",
     "text": [
      "Working with disease  asthma\n"
     ]
    },
    {
     "name": "stderr",
     "output_type": "stream",
     "text": [
      "\n",
      " 18%|█▊        | 2/11 [00:16<01:12,  8.08s/it]\u001b[A"
     ]
    },
    {
     "name": "stdout",
     "output_type": "stream",
     "text": [
      "Working with disease  osteoporosis\n"
     ]
    },
    {
     "name": "stderr",
     "output_type": "stream",
     "text": [
      "\n",
      " 27%|██▋       | 3/11 [00:23<01:03,  7.91s/it]\u001b[A"
     ]
    },
    {
     "name": "stdout",
     "output_type": "stream",
     "text": [
      "Working with disease  stroke\n"
     ]
    },
    {
     "name": "stderr",
     "output_type": "stream",
     "text": [
      "\n",
      " 36%|███▋      | 4/11 [00:31<00:54,  7.81s/it]\u001b[A"
     ]
    },
    {
     "name": "stdout",
     "output_type": "stream",
     "text": [
      "Working with disease  sleeplessness\n"
     ]
    },
    {
     "name": "stderr",
     "output_type": "stream",
     "text": [
      "\n",
      " 45%|████▌     | 5/11 [00:39<00:47,  7.84s/it]\u001b[A"
     ]
    },
    {
     "name": "stdout",
     "output_type": "stream",
     "text": [
      "Working with disease  hypertension\n"
     ]
    },
    {
     "name": "stderr",
     "output_type": "stream",
     "text": [
      "\n",
      " 55%|█████▍    | 6/11 [00:46<00:38,  7.78s/it]\u001b[A"
     ]
    },
    {
     "name": "stdout",
     "output_type": "stream",
     "text": [
      "Working with disease  chronic obstructive pulmonary disease\n"
     ]
    },
    {
     "name": "stderr",
     "output_type": "stream",
     "text": [
      "\n",
      " 64%|██████▎   | 7/11 [00:53<00:29,  7.44s/it]\u001b[A"
     ]
    },
    {
     "name": "stdout",
     "output_type": "stream",
     "text": [
      "Working with disease  dementia\n"
     ]
    },
    {
     "name": "stderr",
     "output_type": "stream",
     "text": [
      "\n",
      " 73%|███████▎  | 8/11 [01:01<00:22,  7.48s/it]\u001b[A"
     ]
    },
    {
     "name": "stdout",
     "output_type": "stream",
     "text": [
      "Working with disease  rheumatoid\n"
     ]
    },
    {
     "name": "stderr",
     "output_type": "stream",
     "text": [
      "\n",
      " 82%|████████▏ | 9/11 [01:08<00:15,  7.60s/it]\u001b[A"
     ]
    },
    {
     "name": "stdout",
     "output_type": "stream",
     "text": [
      "Working with disease  depression\n"
     ]
    },
    {
     "name": "stderr",
     "output_type": "stream",
     "text": [
      "\n",
      " 91%|█████████ | 10/11 [01:16<00:07,  7.66s/it]\u001b[A"
     ]
    },
    {
     "name": "stdout",
     "output_type": "stream",
     "text": [
      "Working with disease  diabetes\n"
     ]
    },
    {
     "name": "stderr",
     "output_type": "stream",
     "text": [
      "\n",
      " 73%|███████▎  | 54/74 [1:58:07<43:52, 131.62s/it]/home/sagar/anaconda3/envs/env_py2/lib/python2.7/site-packages/IPython/core/interactiveshell.py:2714: DtypeWarning: Columns (7) have mixed types. Specify dtype option on import or set low_memory=False.\n",
      "  interactivity=interactivity, compiler=compiler, result=result)\n",
      "\n",
      "  0%|          | 0/11 [00:00<?, ?it/s]\u001b[A"
     ]
    },
    {
     "name": "stdout",
     "output_type": "stream",
     "text": [
      "Working with disease  anxiety\n"
     ]
    },
    {
     "name": "stderr",
     "output_type": "stream",
     "text": [
      "\n",
      "  9%|▉         | 1/11 [00:06<01:06,  6.64s/it]\u001b[A"
     ]
    },
    {
     "name": "stdout",
     "output_type": "stream",
     "text": [
      "Working with disease  asthma\n"
     ]
    },
    {
     "name": "stderr",
     "output_type": "stream",
     "text": [
      "\n",
      " 18%|█▊        | 2/11 [00:13<00:59,  6.59s/it]\u001b[A"
     ]
    },
    {
     "name": "stdout",
     "output_type": "stream",
     "text": [
      "Working with disease  osteoporosis\n"
     ]
    },
    {
     "name": "stderr",
     "output_type": "stream",
     "text": [
      "\n",
      " 27%|██▋       | 3/11 [00:19<00:53,  6.67s/it]\u001b[A"
     ]
    },
    {
     "name": "stdout",
     "output_type": "stream",
     "text": [
      "Working with disease  stroke\n"
     ]
    },
    {
     "name": "stderr",
     "output_type": "stream",
     "text": [
      "\n",
      " 36%|███▋      | 4/11 [00:27<00:48,  6.92s/it]\u001b[A"
     ]
    },
    {
     "name": "stdout",
     "output_type": "stream",
     "text": [
      "Working with disease  sleeplessness\n"
     ]
    },
    {
     "name": "stderr",
     "output_type": "stream",
     "text": [
      "\n",
      " 45%|████▌     | 5/11 [00:34<00:42,  7.03s/it]\u001b[A"
     ]
    },
    {
     "name": "stdout",
     "output_type": "stream",
     "text": [
      "Working with disease  hypertension\n"
     ]
    },
    {
     "name": "stderr",
     "output_type": "stream",
     "text": [
      "\n",
      " 55%|█████▍    | 6/11 [00:43<00:37,  7.51s/it]\u001b[A"
     ]
    },
    {
     "name": "stdout",
     "output_type": "stream",
     "text": [
      "Working with disease  chronic obstructive pulmonary disease\n"
     ]
    },
    {
     "name": "stderr",
     "output_type": "stream",
     "text": [
      "\n",
      " 64%|██████▎   | 7/11 [00:49<00:28,  7.23s/it]\u001b[A"
     ]
    },
    {
     "name": "stdout",
     "output_type": "stream",
     "text": [
      "Working with disease  dementia\n"
     ]
    },
    {
     "name": "stderr",
     "output_type": "stream",
     "text": [
      "\n",
      " 73%|███████▎  | 8/11 [00:57<00:21,  7.24s/it]\u001b[A"
     ]
    },
    {
     "name": "stdout",
     "output_type": "stream",
     "text": [
      "Working with disease  rheumatoid\n"
     ]
    },
    {
     "name": "stderr",
     "output_type": "stream",
     "text": [
      "\n",
      " 82%|████████▏ | 9/11 [01:03<00:14,  7.03s/it]\u001b[A"
     ]
    },
    {
     "name": "stdout",
     "output_type": "stream",
     "text": [
      "Working with disease  depression\n"
     ]
    },
    {
     "name": "stderr",
     "output_type": "stream",
     "text": [
      "\n",
      " 91%|█████████ | 10/11 [01:10<00:06,  6.87s/it]\u001b[A"
     ]
    },
    {
     "name": "stdout",
     "output_type": "stream",
     "text": [
      "Working with disease  diabetes\n"
     ]
    },
    {
     "name": "stderr",
     "output_type": "stream",
     "text": [
      "\n",
      " 74%|███████▍  | 55/74 [2:01:42<49:32, 156.43s/it]\n",
      "  0%|          | 0/11 [00:00<?, ?it/s]\u001b[A"
     ]
    },
    {
     "name": "stdout",
     "output_type": "stream",
     "text": [
      "Working with disease  anxiety\n"
     ]
    },
    {
     "name": "stderr",
     "output_type": "stream",
     "text": [
      "\n",
      "  9%|▉         | 1/11 [00:06<01:06,  6.64s/it]\u001b[A"
     ]
    },
    {
     "name": "stdout",
     "output_type": "stream",
     "text": [
      "Working with disease  asthma\n"
     ]
    },
    {
     "name": "stderr",
     "output_type": "stream",
     "text": [
      "\n",
      " 18%|█▊        | 2/11 [00:13<00:59,  6.59s/it]\u001b[A"
     ]
    },
    {
     "name": "stdout",
     "output_type": "stream",
     "text": [
      "Working with disease  osteoporosis\n"
     ]
    },
    {
     "name": "stderr",
     "output_type": "stream",
     "text": [
      "\n",
      " 27%|██▋       | 3/11 [00:20<00:54,  6.79s/it]\u001b[A"
     ]
    },
    {
     "name": "stdout",
     "output_type": "stream",
     "text": [
      "Working with disease  stroke\n"
     ]
    },
    {
     "name": "stderr",
     "output_type": "stream",
     "text": [
      "\n",
      " 36%|███▋      | 4/11 [00:29<00:51,  7.37s/it]\u001b[A"
     ]
    },
    {
     "name": "stdout",
     "output_type": "stream",
     "text": [
      "Working with disease  sleeplessness\n"
     ]
    },
    {
     "name": "stderr",
     "output_type": "stream",
     "text": [
      "\n",
      " 45%|████▌     | 5/11 [00:37<00:46,  7.70s/it]\u001b[A"
     ]
    },
    {
     "name": "stdout",
     "output_type": "stream",
     "text": [
      "Working with disease  hypertension\n"
     ]
    },
    {
     "name": "stderr",
     "output_type": "stream",
     "text": [
      "\n",
      " 55%|█████▍    | 6/11 [00:46<00:40,  8.02s/it]\u001b[A"
     ]
    },
    {
     "name": "stdout",
     "output_type": "stream",
     "text": [
      "Working with disease  chronic obstructive pulmonary disease\n"
     ]
    },
    {
     "name": "stderr",
     "output_type": "stream",
     "text": [
      "\n",
      " 64%|██████▎   | 7/11 [00:52<00:29,  7.38s/it]\u001b[A"
     ]
    },
    {
     "name": "stdout",
     "output_type": "stream",
     "text": [
      "Working with disease  dementia\n"
     ]
    },
    {
     "name": "stderr",
     "output_type": "stream",
     "text": [
      "\n",
      " 73%|███████▎  | 8/11 [00:59<00:21,  7.33s/it]\u001b[A"
     ]
    },
    {
     "name": "stdout",
     "output_type": "stream",
     "text": [
      "Working with disease  rheumatoid\n"
     ]
    },
    {
     "name": "stderr",
     "output_type": "stream",
     "text": [
      "\n",
      " 82%|████████▏ | 9/11 [01:06<00:14,  7.38s/it]\u001b[A"
     ]
    },
    {
     "name": "stdout",
     "output_type": "stream",
     "text": [
      "Working with disease  depression\n"
     ]
    },
    {
     "name": "stderr",
     "output_type": "stream",
     "text": [
      "\n",
      " 91%|█████████ | 10/11 [01:13<00:07,  7.22s/it]\u001b[A"
     ]
    },
    {
     "name": "stdout",
     "output_type": "stream",
     "text": [
      "Working with disease  diabetes\n"
     ]
    },
    {
     "name": "stderr",
     "output_type": "stream",
     "text": [
      "\n",
      " 76%|███████▌  | 56/74 [2:05:24<52:50, 176.16s/it]\n",
      "  0%|          | 0/11 [00:00<?, ?it/s]\u001b[A"
     ]
    },
    {
     "name": "stdout",
     "output_type": "stream",
     "text": [
      "Working with disease  anxiety\n"
     ]
    },
    {
     "name": "stderr",
     "output_type": "stream",
     "text": [
      "\n",
      "  9%|▉         | 1/11 [00:06<01:07,  6.79s/it]\u001b[A"
     ]
    },
    {
     "name": "stdout",
     "output_type": "stream",
     "text": [
      "Working with disease  asthma\n"
     ]
    },
    {
     "name": "stderr",
     "output_type": "stream",
     "text": [
      "\n",
      " 18%|█▊        | 2/11 [00:13<01:00,  6.72s/it]\u001b[A"
     ]
    },
    {
     "name": "stdout",
     "output_type": "stream",
     "text": [
      "Working with disease  osteoporosis\n"
     ]
    },
    {
     "name": "stderr",
     "output_type": "stream",
     "text": [
      "\n",
      " 27%|██▋       | 3/11 [00:19<00:52,  6.59s/it]\u001b[A"
     ]
    },
    {
     "name": "stdout",
     "output_type": "stream",
     "text": [
      "Working with disease  stroke\n"
     ]
    },
    {
     "name": "stderr",
     "output_type": "stream",
     "text": [
      "\n",
      " 36%|███▋      | 4/11 [00:26<00:46,  6.60s/it]\u001b[A"
     ]
    },
    {
     "name": "stdout",
     "output_type": "stream",
     "text": [
      "Working with disease  sleeplessness\n"
     ]
    },
    {
     "name": "stderr",
     "output_type": "stream",
     "text": [
      "\n",
      " 45%|████▌     | 5/11 [00:34<00:43,  7.18s/it]\u001b[A"
     ]
    },
    {
     "name": "stdout",
     "output_type": "stream",
     "text": [
      "Working with disease  hypertension\n"
     ]
    },
    {
     "name": "stderr",
     "output_type": "stream",
     "text": [
      "\n",
      " 55%|█████▍    | 6/11 [00:44<00:39,  7.94s/it]\u001b[A"
     ]
    },
    {
     "name": "stdout",
     "output_type": "stream",
     "text": [
      "Working with disease  chronic obstructive pulmonary disease\n"
     ]
    },
    {
     "name": "stderr",
     "output_type": "stream",
     "text": [
      "\n",
      " 64%|██████▎   | 7/11 [00:50<00:29,  7.32s/it]\u001b[A"
     ]
    },
    {
     "name": "stdout",
     "output_type": "stream",
     "text": [
      "Working with disease  dementia\n"
     ]
    },
    {
     "name": "stderr",
     "output_type": "stream",
     "text": [
      "\n",
      " 73%|███████▎  | 8/11 [00:57<00:21,  7.16s/it]\u001b[A"
     ]
    },
    {
     "name": "stdout",
     "output_type": "stream",
     "text": [
      "Working with disease  rheumatoid\n"
     ]
    },
    {
     "name": "stderr",
     "output_type": "stream",
     "text": [
      "\n",
      " 82%|████████▏ | 9/11 [01:03<00:13,  6.89s/it]\u001b[A"
     ]
    },
    {
     "name": "stdout",
     "output_type": "stream",
     "text": [
      "Working with disease  depression\n"
     ]
    },
    {
     "name": "stderr",
     "output_type": "stream",
     "text": [
      "\n",
      " 91%|█████████ | 10/11 [01:09<00:06,  6.78s/it]\u001b[A"
     ]
    },
    {
     "name": "stdout",
     "output_type": "stream",
     "text": [
      "Working with disease  diabetes\n"
     ]
    },
    {
     "name": "stderr",
     "output_type": "stream",
     "text": [
      "\n",
      " 77%|███████▋  | 57/74 [2:08:59<53:13, 187.82s/it]\n",
      "  0%|          | 0/11 [00:00<?, ?it/s]\u001b[A"
     ]
    },
    {
     "name": "stdout",
     "output_type": "stream",
     "text": [
      "Working with disease  anxiety\n"
     ]
    },
    {
     "name": "stderr",
     "output_type": "stream",
     "text": [
      "\n",
      "  9%|▉         | 1/11 [00:06<01:07,  6.77s/it]\u001b[A"
     ]
    },
    {
     "name": "stdout",
     "output_type": "stream",
     "text": [
      "Working with disease  asthma\n"
     ]
    },
    {
     "name": "stderr",
     "output_type": "stream",
     "text": [
      "\n",
      " 18%|█▊        | 2/11 [00:13<01:00,  6.71s/it]\u001b[A"
     ]
    },
    {
     "name": "stdout",
     "output_type": "stream",
     "text": [
      "Working with disease  osteoporosis\n"
     ]
    },
    {
     "name": "stderr",
     "output_type": "stream",
     "text": [
      "\n",
      " 27%|██▋       | 3/11 [00:19<00:52,  6.59s/it]\u001b[A"
     ]
    },
    {
     "name": "stdout",
     "output_type": "stream",
     "text": [
      "Working with disease  stroke\n"
     ]
    },
    {
     "name": "stderr",
     "output_type": "stream",
     "text": [
      "\n",
      " 36%|███▋      | 4/11 [00:26<00:46,  6.71s/it]\u001b[A"
     ]
    },
    {
     "name": "stdout",
     "output_type": "stream",
     "text": [
      "Working with disease  sleeplessness\n"
     ]
    },
    {
     "name": "stderr",
     "output_type": "stream",
     "text": [
      "\n",
      " 45%|████▌     | 5/11 [00:35<00:43,  7.23s/it]\u001b[A"
     ]
    },
    {
     "name": "stdout",
     "output_type": "stream",
     "text": [
      "Working with disease  hypertension\n"
     ]
    },
    {
     "name": "stderr",
     "output_type": "stream",
     "text": [
      "\n",
      " 55%|█████▍    | 6/11 [00:44<00:40,  8.01s/it]\u001b[A"
     ]
    },
    {
     "name": "stdout",
     "output_type": "stream",
     "text": [
      "Working with disease  chronic obstructive pulmonary disease\n"
     ]
    },
    {
     "name": "stderr",
     "output_type": "stream",
     "text": [
      "\n",
      " 64%|██████▎   | 7/11 [00:50<00:29,  7.36s/it]\u001b[A"
     ]
    },
    {
     "name": "stdout",
     "output_type": "stream",
     "text": [
      "Working with disease  dementia\n"
     ]
    },
    {
     "name": "stderr",
     "output_type": "stream",
     "text": [
      "\n",
      " 73%|███████▎  | 8/11 [00:57<00:21,  7.18s/it]\u001b[A"
     ]
    },
    {
     "name": "stdout",
     "output_type": "stream",
     "text": [
      "Working with disease  rheumatoid\n"
     ]
    },
    {
     "name": "stderr",
     "output_type": "stream",
     "text": [
      "\n",
      " 82%|████████▏ | 9/11 [01:03<00:13,  6.91s/it]\u001b[A"
     ]
    },
    {
     "name": "stdout",
     "output_type": "stream",
     "text": [
      "Working with disease  depression\n"
     ]
    },
    {
     "name": "stderr",
     "output_type": "stream",
     "text": [
      "\n",
      " 91%|█████████ | 10/11 [01:10<00:06,  6.86s/it]\u001b[A"
     ]
    },
    {
     "name": "stdout",
     "output_type": "stream",
     "text": [
      "Working with disease  diabetes\n"
     ]
    },
    {
     "name": "stderr",
     "output_type": "stream",
     "text": [
      "\n",
      " 78%|███████▊  | 58/74 [2:12:37<52:31, 196.98s/it]\n",
      "  0%|          | 0/11 [00:00<?, ?it/s]\u001b[A"
     ]
    },
    {
     "name": "stdout",
     "output_type": "stream",
     "text": [
      "Working with disease  anxiety\n"
     ]
    },
    {
     "name": "stderr",
     "output_type": "stream",
     "text": [
      "\n",
      "  9%|▉         | 1/11 [00:06<01:07,  6.70s/it]\u001b[A"
     ]
    },
    {
     "name": "stdout",
     "output_type": "stream",
     "text": [
      "Working with disease  asthma\n"
     ]
    },
    {
     "name": "stderr",
     "output_type": "stream",
     "text": [
      "\n",
      " 18%|█▊        | 2/11 [00:13<00:59,  6.63s/it]\u001b[A"
     ]
    },
    {
     "name": "stdout",
     "output_type": "stream",
     "text": [
      "Working with disease  osteoporosis\n"
     ]
    },
    {
     "name": "stderr",
     "output_type": "stream",
     "text": [
      "\n",
      " 27%|██▋       | 3/11 [00:19<00:52,  6.52s/it]\u001b[A"
     ]
    },
    {
     "name": "stdout",
     "output_type": "stream",
     "text": [
      "Working with disease  stroke\n"
     ]
    },
    {
     "name": "stderr",
     "output_type": "stream",
     "text": [
      "\n",
      " 36%|███▋      | 4/11 [00:26<00:46,  6.67s/it]\u001b[A"
     ]
    },
    {
     "name": "stdout",
     "output_type": "stream",
     "text": [
      "Working with disease  sleeplessness\n"
     ]
    },
    {
     "name": "stderr",
     "output_type": "stream",
     "text": [
      "\n",
      " 45%|████▌     | 5/11 [00:34<00:43,  7.21s/it]\u001b[A"
     ]
    },
    {
     "name": "stdout",
     "output_type": "stream",
     "text": [
      "Working with disease  hypertension\n"
     ]
    },
    {
     "name": "stderr",
     "output_type": "stream",
     "text": [
      "\n",
      " 55%|█████▍    | 6/11 [00:44<00:39,  7.87s/it]\u001b[A"
     ]
    },
    {
     "name": "stdout",
     "output_type": "stream",
     "text": [
      "Working with disease  chronic obstructive pulmonary disease\n"
     ]
    },
    {
     "name": "stderr",
     "output_type": "stream",
     "text": [
      "\n",
      " 64%|██████▎   | 7/11 [00:50<00:29,  7.26s/it]\u001b[A"
     ]
    },
    {
     "name": "stdout",
     "output_type": "stream",
     "text": [
      "Working with disease  dementia\n"
     ]
    },
    {
     "name": "stderr",
     "output_type": "stream",
     "text": [
      "\n",
      " 73%|███████▎  | 8/11 [00:56<00:21,  7.09s/it]\u001b[A"
     ]
    },
    {
     "name": "stdout",
     "output_type": "stream",
     "text": [
      "Working with disease  rheumatoid\n"
     ]
    },
    {
     "name": "stderr",
     "output_type": "stream",
     "text": [
      "\n",
      " 82%|████████▏ | 9/11 [01:03<00:13,  6.84s/it]\u001b[A"
     ]
    },
    {
     "name": "stdout",
     "output_type": "stream",
     "text": [
      "Working with disease  depression\n"
     ]
    },
    {
     "name": "stderr",
     "output_type": "stream",
     "text": [
      "\n",
      " 91%|█████████ | 10/11 [01:09<00:06,  6.75s/it]\u001b[A"
     ]
    },
    {
     "name": "stdout",
     "output_type": "stream",
     "text": [
      "Working with disease  diabetes\n"
     ]
    },
    {
     "name": "stderr",
     "output_type": "stream",
     "text": [
      "\n",
      " 80%|███████▉  | 59/74 [2:16:12<50:36, 202.45s/it]\n",
      "  0%|          | 0/11 [00:00<?, ?it/s]\u001b[A"
     ]
    },
    {
     "name": "stdout",
     "output_type": "stream",
     "text": [
      "Working with disease  anxiety\n"
     ]
    },
    {
     "name": "stderr",
     "output_type": "stream",
     "text": [
      "\n",
      "  9%|▉         | 1/11 [00:06<01:07,  6.70s/it]\u001b[A"
     ]
    },
    {
     "name": "stdout",
     "output_type": "stream",
     "text": [
      "Working with disease  asthma\n"
     ]
    },
    {
     "name": "stderr",
     "output_type": "stream",
     "text": [
      "\n",
      " 18%|█▊        | 2/11 [00:13<00:59,  6.65s/it]\u001b[A"
     ]
    },
    {
     "name": "stdout",
     "output_type": "stream",
     "text": [
      "Working with disease  osteoporosis\n"
     ]
    },
    {
     "name": "stderr",
     "output_type": "stream",
     "text": [
      "\n",
      " 27%|██▋       | 3/11 [00:19<00:52,  6.53s/it]\u001b[A"
     ]
    },
    {
     "name": "stdout",
     "output_type": "stream",
     "text": [
      "Working with disease  stroke\n"
     ]
    },
    {
     "name": "stderr",
     "output_type": "stream",
     "text": [
      "\n",
      " 36%|███▋      | 4/11 [00:26<00:46,  6.65s/it]\u001b[A"
     ]
    },
    {
     "name": "stdout",
     "output_type": "stream",
     "text": [
      "Working with disease  sleeplessness\n"
     ]
    },
    {
     "name": "stderr",
     "output_type": "stream",
     "text": [
      "\n",
      " 45%|████▌     | 5/11 [00:35<00:43,  7.26s/it]\u001b[A"
     ]
    },
    {
     "name": "stdout",
     "output_type": "stream",
     "text": [
      "Working with disease  hypertension\n"
     ]
    },
    {
     "name": "stderr",
     "output_type": "stream",
     "text": [
      "\n",
      " 55%|█████▍    | 6/11 [00:44<00:39,  7.94s/it]\u001b[A"
     ]
    },
    {
     "name": "stdout",
     "output_type": "stream",
     "text": [
      "Working with disease  chronic obstructive pulmonary disease\n"
     ]
    },
    {
     "name": "stderr",
     "output_type": "stream",
     "text": [
      "\n",
      " 64%|██████▎   | 7/11 [00:50<00:29,  7.32s/it]\u001b[A"
     ]
    },
    {
     "name": "stdout",
     "output_type": "stream",
     "text": [
      "Working with disease  dementia\n"
     ]
    },
    {
     "name": "stderr",
     "output_type": "stream",
     "text": [
      "\n",
      " 73%|███████▎  | 8/11 [00:57<00:21,  7.15s/it]\u001b[A"
     ]
    },
    {
     "name": "stdout",
     "output_type": "stream",
     "text": [
      "Working with disease  rheumatoid\n"
     ]
    },
    {
     "name": "stderr",
     "output_type": "stream",
     "text": [
      "\n",
      " 82%|████████▏ | 9/11 [01:03<00:13,  6.90s/it]\u001b[A"
     ]
    },
    {
     "name": "stdout",
     "output_type": "stream",
     "text": [
      "Working with disease  depression\n"
     ]
    },
    {
     "name": "stderr",
     "output_type": "stream",
     "text": [
      "\n",
      " 91%|█████████ | 10/11 [01:10<00:06,  6.80s/it]\u001b[A"
     ]
    },
    {
     "name": "stdout",
     "output_type": "stream",
     "text": [
      "Working with disease  diabetes\n"
     ]
    },
    {
     "name": "stderr",
     "output_type": "stream",
     "text": [
      "\n",
      " 81%|████████  | 60/74 [2:19:48<48:10, 206.49s/it]\n",
      "  0%|          | 0/11 [00:00<?, ?it/s]\u001b[A"
     ]
    },
    {
     "name": "stdout",
     "output_type": "stream",
     "text": [
      "Working with disease  anxiety\n"
     ]
    },
    {
     "name": "stderr",
     "output_type": "stream",
     "text": [
      "\n",
      "  9%|▉         | 1/11 [00:06<01:06,  6.66s/it]\u001b[A"
     ]
    },
    {
     "name": "stdout",
     "output_type": "stream",
     "text": [
      "Working with disease  asthma\n"
     ]
    },
    {
     "name": "stderr",
     "output_type": "stream",
     "text": [
      "\n",
      " 18%|█▊        | 2/11 [00:13<00:59,  6.60s/it]\u001b[A"
     ]
    },
    {
     "name": "stdout",
     "output_type": "stream",
     "text": [
      "Working with disease  osteoporosis\n"
     ]
    },
    {
     "name": "stderr",
     "output_type": "stream",
     "text": [
      "\n",
      " 27%|██▋       | 3/11 [00:19<00:52,  6.53s/it]\u001b[A"
     ]
    },
    {
     "name": "stdout",
     "output_type": "stream",
     "text": [
      "Working with disease  stroke\n"
     ]
    },
    {
     "name": "stderr",
     "output_type": "stream",
     "text": [
      "\n",
      " 36%|███▋      | 4/11 [00:27<00:47,  6.83s/it]\u001b[A"
     ]
    },
    {
     "name": "stdout",
     "output_type": "stream",
     "text": [
      "Working with disease  sleeplessness\n"
     ]
    },
    {
     "name": "stderr",
     "output_type": "stream",
     "text": [
      "\n",
      " 45%|████▌     | 5/11 [00:35<00:44,  7.41s/it]\u001b[A"
     ]
    },
    {
     "name": "stdout",
     "output_type": "stream",
     "text": [
      "Working with disease  hypertension\n"
     ]
    },
    {
     "name": "stderr",
     "output_type": "stream",
     "text": [
      "\n",
      " 55%|█████▍    | 6/11 [00:44<00:39,  7.92s/it]\u001b[A"
     ]
    },
    {
     "name": "stdout",
     "output_type": "stream",
     "text": [
      "Working with disease  chronic obstructive pulmonary disease\n"
     ]
    },
    {
     "name": "stderr",
     "output_type": "stream",
     "text": [
      "\n",
      " 64%|██████▎   | 7/11 [00:50<00:29,  7.30s/it]\u001b[A"
     ]
    },
    {
     "name": "stdout",
     "output_type": "stream",
     "text": [
      "Working with disease  dementia\n"
     ]
    },
    {
     "name": "stderr",
     "output_type": "stream",
     "text": [
      "\n",
      " 73%|███████▎  | 8/11 [00:57<00:21,  7.10s/it]\u001b[A"
     ]
    },
    {
     "name": "stdout",
     "output_type": "stream",
     "text": [
      "Working with disease  rheumatoid\n"
     ]
    },
    {
     "name": "stderr",
     "output_type": "stream",
     "text": [
      "\n",
      " 82%|████████▏ | 9/11 [01:03<00:13,  6.85s/it]\u001b[A"
     ]
    },
    {
     "name": "stdout",
     "output_type": "stream",
     "text": [
      "Working with disease  depression\n"
     ]
    },
    {
     "name": "stderr",
     "output_type": "stream",
     "text": [
      "\n",
      " 91%|█████████ | 10/11 [01:10<00:06,  6.78s/it]\u001b[A"
     ]
    },
    {
     "name": "stdout",
     "output_type": "stream",
     "text": [
      "Working with disease  diabetes\n"
     ]
    },
    {
     "name": "stderr",
     "output_type": "stream",
     "text": [
      "\n",
      " 82%|████████▏ | 61/74 [2:23:27<45:33, 210.26s/it]\n",
      "  0%|          | 0/11 [00:00<?, ?it/s]\u001b[A"
     ]
    },
    {
     "name": "stdout",
     "output_type": "stream",
     "text": [
      "Working with disease  anxiety\n"
     ]
    },
    {
     "name": "stderr",
     "output_type": "stream",
     "text": [
      "\n",
      "  9%|▉         | 1/11 [00:06<01:05,  6.60s/it]\u001b[A"
     ]
    },
    {
     "name": "stdout",
     "output_type": "stream",
     "text": [
      "Working with disease  asthma\n"
     ]
    },
    {
     "name": "stderr",
     "output_type": "stream",
     "text": [
      "\n",
      " 18%|█▊        | 2/11 [00:13<00:59,  6.59s/it]\u001b[A"
     ]
    },
    {
     "name": "stdout",
     "output_type": "stream",
     "text": [
      "Working with disease  osteoporosis\n"
     ]
    },
    {
     "name": "stderr",
     "output_type": "stream",
     "text": [
      "\n",
      " 27%|██▋       | 3/11 [00:19<00:51,  6.48s/it]\u001b[A"
     ]
    },
    {
     "name": "stdout",
     "output_type": "stream",
     "text": [
      "Working with disease  stroke\n"
     ]
    },
    {
     "name": "stderr",
     "output_type": "stream",
     "text": [
      "\n",
      " 36%|███▋      | 4/11 [00:26<00:45,  6.52s/it]\u001b[A"
     ]
    },
    {
     "name": "stdout",
     "output_type": "stream",
     "text": [
      "Working with disease  sleeplessness\n"
     ]
    },
    {
     "name": "stderr",
     "output_type": "stream",
     "text": [
      "\n",
      " 45%|████▌     | 5/11 [00:34<00:42,  7.13s/it]\u001b[A"
     ]
    },
    {
     "name": "stdout",
     "output_type": "stream",
     "text": [
      "Working with disease  hypertension\n"
     ]
    },
    {
     "name": "stderr",
     "output_type": "stream",
     "text": [
      "\n",
      " 55%|█████▍    | 6/11 [00:44<00:39,  7.90s/it]\u001b[A"
     ]
    },
    {
     "name": "stdout",
     "output_type": "stream",
     "text": [
      "Working with disease  chronic obstructive pulmonary disease\n"
     ]
    },
    {
     "name": "stderr",
     "output_type": "stream",
     "text": [
      "\n",
      " 64%|██████▎   | 7/11 [00:50<00:29,  7.27s/it]\u001b[A"
     ]
    },
    {
     "name": "stdout",
     "output_type": "stream",
     "text": [
      "Working with disease  dementia\n"
     ]
    },
    {
     "name": "stderr",
     "output_type": "stream",
     "text": [
      "\n",
      " 73%|███████▎  | 8/11 [00:56<00:21,  7.04s/it]\u001b[A"
     ]
    },
    {
     "name": "stdout",
     "output_type": "stream",
     "text": [
      "Working with disease  rheumatoid\n"
     ]
    },
    {
     "name": "stderr",
     "output_type": "stream",
     "text": [
      "\n",
      " 82%|████████▏ | 9/11 [01:02<00:13,  6.78s/it]\u001b[A"
     ]
    },
    {
     "name": "stdout",
     "output_type": "stream",
     "text": [
      "Working with disease  depression\n"
     ]
    },
    {
     "name": "stderr",
     "output_type": "stream",
     "text": [
      "\n",
      " 91%|█████████ | 10/11 [01:09<00:06,  6.70s/it]\u001b[A"
     ]
    },
    {
     "name": "stdout",
     "output_type": "stream",
     "text": [
      "Working with disease  diabetes\n"
     ]
    },
    {
     "name": "stderr",
     "output_type": "stream",
     "text": [
      "\n",
      " 84%|████████▍ | 62/74 [2:26:58<42:05, 210.49s/it]\n",
      "  0%|          | 0/11 [00:00<?, ?it/s]\u001b[A"
     ]
    },
    {
     "name": "stdout",
     "output_type": "stream",
     "text": [
      "Working with disease  anxiety\n"
     ]
    },
    {
     "name": "stderr",
     "output_type": "stream",
     "text": [
      "\n",
      "  9%|▉         | 1/11 [00:06<01:07,  6.78s/it]\u001b[A"
     ]
    },
    {
     "name": "stdout",
     "output_type": "stream",
     "text": [
      "Working with disease  asthma\n"
     ]
    },
    {
     "name": "stderr",
     "output_type": "stream",
     "text": [
      "\n",
      " 18%|█▊        | 2/11 [00:13<01:00,  6.72s/it]\u001b[A"
     ]
    },
    {
     "name": "stdout",
     "output_type": "stream",
     "text": [
      "Working with disease  osteoporosis\n"
     ]
    },
    {
     "name": "stderr",
     "output_type": "stream",
     "text": [
      "\n",
      " 27%|██▋       | 3/11 [00:19<00:52,  6.57s/it]\u001b[A"
     ]
    },
    {
     "name": "stdout",
     "output_type": "stream",
     "text": [
      "Working with disease  stroke\n"
     ]
    },
    {
     "name": "stderr",
     "output_type": "stream",
     "text": [
      "\n",
      " 36%|███▋      | 4/11 [00:26<00:47,  6.80s/it]\u001b[A"
     ]
    },
    {
     "name": "stdout",
     "output_type": "stream",
     "text": [
      "Working with disease  sleeplessness\n"
     ]
    },
    {
     "name": "stderr",
     "output_type": "stream",
     "text": [
      "\n",
      " 45%|████▌     | 5/11 [00:35<00:44,  7.35s/it]\u001b[A"
     ]
    },
    {
     "name": "stdout",
     "output_type": "stream",
     "text": [
      "Working with disease  hypertension\n"
     ]
    },
    {
     "name": "stderr",
     "output_type": "stream",
     "text": [
      "\n",
      " 55%|█████▍    | 6/11 [00:45<00:40,  8.05s/it]\u001b[A"
     ]
    },
    {
     "name": "stdout",
     "output_type": "stream",
     "text": [
      "Working with disease  chronic obstructive pulmonary disease\n"
     ]
    },
    {
     "name": "stderr",
     "output_type": "stream",
     "text": [
      "\n",
      " 64%|██████▎   | 7/11 [00:51<00:29,  7.38s/it]\u001b[A"
     ]
    },
    {
     "name": "stdout",
     "output_type": "stream",
     "text": [
      "Working with disease  dementia\n"
     ]
    },
    {
     "name": "stderr",
     "output_type": "stream",
     "text": [
      "\n",
      " 73%|███████▎  | 8/11 [00:57<00:21,  7.13s/it]\u001b[A"
     ]
    },
    {
     "name": "stdout",
     "output_type": "stream",
     "text": [
      "Working with disease  rheumatoid\n"
     ]
    },
    {
     "name": "stderr",
     "output_type": "stream",
     "text": [
      "\n",
      " 82%|████████▏ | 9/11 [01:03<00:13,  6.85s/it]\u001b[A"
     ]
    },
    {
     "name": "stdout",
     "output_type": "stream",
     "text": [
      "Working with disease  depression\n"
     ]
    },
    {
     "name": "stderr",
     "output_type": "stream",
     "text": [
      "\n",
      " 91%|█████████ | 10/11 [01:10<00:06,  6.77s/it]\u001b[A"
     ]
    },
    {
     "name": "stdout",
     "output_type": "stream",
     "text": [
      "Working with disease  diabetes\n"
     ]
    },
    {
     "name": "stderr",
     "output_type": "stream",
     "text": [
      "\n",
      " 85%|████████▌ | 63/74 [2:30:39<39:07, 213.45s/it]\n",
      "  0%|          | 0/11 [00:00<?, ?it/s]\u001b[A"
     ]
    },
    {
     "name": "stdout",
     "output_type": "stream",
     "text": [
      "Working with disease  anxiety\n"
     ]
    },
    {
     "name": "stderr",
     "output_type": "stream",
     "text": [
      "\n",
      "  9%|▉         | 1/11 [00:07<01:11,  7.14s/it]\u001b[A"
     ]
    },
    {
     "name": "stdout",
     "output_type": "stream",
     "text": [
      "Working with disease  asthma\n"
     ]
    },
    {
     "name": "stderr",
     "output_type": "stream",
     "text": [
      "\n",
      " 18%|█▊        | 2/11 [00:13<01:03,  7.01s/it]\u001b[A"
     ]
    },
    {
     "name": "stdout",
     "output_type": "stream",
     "text": [
      "Working with disease  osteoporosis\n"
     ]
    },
    {
     "name": "stderr",
     "output_type": "stream",
     "text": [
      "\n",
      " 27%|██▋       | 3/11 [00:20<00:54,  6.82s/it]\u001b[A"
     ]
    },
    {
     "name": "stdout",
     "output_type": "stream",
     "text": [
      "Working with disease  stroke\n"
     ]
    },
    {
     "name": "stderr",
     "output_type": "stream",
     "text": [
      "\n",
      " 36%|███▋      | 4/11 [00:27<00:48,  6.98s/it]\u001b[A"
     ]
    },
    {
     "name": "stdout",
     "output_type": "stream",
     "text": [
      "Working with disease  sleeplessness\n"
     ]
    },
    {
     "name": "stderr",
     "output_type": "stream",
     "text": [
      "\n",
      " 45%|████▌     | 5/11 [00:36<00:45,  7.61s/it]\u001b[A"
     ]
    },
    {
     "name": "stdout",
     "output_type": "stream",
     "text": [
      "Working with disease  hypertension\n"
     ]
    },
    {
     "name": "stderr",
     "output_type": "stream",
     "text": [
      "\n",
      " 55%|█████▍    | 6/11 [00:46<00:40,  8.16s/it]\u001b[A"
     ]
    },
    {
     "name": "stdout",
     "output_type": "stream",
     "text": [
      "Working with disease  chronic obstructive pulmonary disease\n"
     ]
    },
    {
     "name": "stderr",
     "output_type": "stream",
     "text": [
      "\n",
      " 64%|██████▎   | 7/11 [00:51<00:29,  7.47s/it]\u001b[A"
     ]
    },
    {
     "name": "stdout",
     "output_type": "stream",
     "text": [
      "Working with disease  dementia\n"
     ]
    },
    {
     "name": "stderr",
     "output_type": "stream",
     "text": [
      "\n",
      " 73%|███████▎  | 8/11 [00:58<00:21,  7.20s/it]\u001b[A"
     ]
    },
    {
     "name": "stdout",
     "output_type": "stream",
     "text": [
      "Working with disease  rheumatoid\n"
     ]
    },
    {
     "name": "stderr",
     "output_type": "stream",
     "text": [
      "\n",
      " 82%|████████▏ | 9/11 [01:04<00:13,  6.90s/it]\u001b[A"
     ]
    },
    {
     "name": "stdout",
     "output_type": "stream",
     "text": [
      "Working with disease  depression\n"
     ]
    },
    {
     "name": "stderr",
     "output_type": "stream",
     "text": [
      "\n",
      " 91%|█████████ | 10/11 [01:11<00:06,  6.79s/it]\u001b[A"
     ]
    },
    {
     "name": "stdout",
     "output_type": "stream",
     "text": [
      "Working with disease  diabetes\n"
     ]
    },
    {
     "name": "stderr",
     "output_type": "stream",
     "text": [
      "\n",
      " 86%|████████▋ | 64/74 [2:34:15<35:42, 214.22s/it]\n",
      "  0%|          | 0/11 [00:00<?, ?it/s]\u001b[A"
     ]
    },
    {
     "name": "stdout",
     "output_type": "stream",
     "text": [
      "Working with disease  anxiety\n"
     ]
    },
    {
     "name": "stderr",
     "output_type": "stream",
     "text": [
      "\n",
      "  9%|▉         | 1/11 [00:06<01:04,  6.43s/it]\u001b[A"
     ]
    },
    {
     "name": "stdout",
     "output_type": "stream",
     "text": [
      "Working with disease  asthma\n"
     ]
    },
    {
     "name": "stderr",
     "output_type": "stream",
     "text": [
      "\n",
      " 18%|█▊        | 2/11 [00:12<00:57,  6.43s/it]\u001b[A"
     ]
    },
    {
     "name": "stdout",
     "output_type": "stream",
     "text": [
      "Working with disease  osteoporosis\n"
     ]
    },
    {
     "name": "stderr",
     "output_type": "stream",
     "text": [
      "\n",
      " 27%|██▋       | 3/11 [00:18<00:50,  6.31s/it]\u001b[A"
     ]
    },
    {
     "name": "stdout",
     "output_type": "stream",
     "text": [
      "Working with disease  stroke\n"
     ]
    },
    {
     "name": "stderr",
     "output_type": "stream",
     "text": [
      "\n",
      " 36%|███▋      | 4/11 [00:25<00:44,  6.42s/it]\u001b[A"
     ]
    },
    {
     "name": "stdout",
     "output_type": "stream",
     "text": [
      "Working with disease  sleeplessness\n"
     ]
    },
    {
     "name": "stderr",
     "output_type": "stream",
     "text": [
      "\n",
      " 45%|████▌     | 5/11 [00:34<00:42,  7.07s/it]\u001b[A"
     ]
    },
    {
     "name": "stdout",
     "output_type": "stream",
     "text": [
      "Working with disease  hypertension\n"
     ]
    },
    {
     "name": "stderr",
     "output_type": "stream",
     "text": [
      "\n",
      " 55%|█████▍    | 6/11 [00:43<00:39,  7.83s/it]\u001b[A"
     ]
    },
    {
     "name": "stdout",
     "output_type": "stream",
     "text": [
      "Working with disease  chronic obstructive pulmonary disease\n"
     ]
    },
    {
     "name": "stderr",
     "output_type": "stream",
     "text": [
      "\n",
      " 64%|██████▎   | 7/11 [00:49<00:28,  7.23s/it]\u001b[A"
     ]
    },
    {
     "name": "stdout",
     "output_type": "stream",
     "text": [
      "Working with disease  dementia\n"
     ]
    },
    {
     "name": "stderr",
     "output_type": "stream",
     "text": [
      "\n",
      " 73%|███████▎  | 8/11 [00:56<00:21,  7.07s/it]\u001b[A"
     ]
    },
    {
     "name": "stdout",
     "output_type": "stream",
     "text": [
      "Working with disease  rheumatoid\n"
     ]
    },
    {
     "name": "stderr",
     "output_type": "stream",
     "text": [
      "\n",
      " 82%|████████▏ | 9/11 [01:02<00:13,  6.82s/it]\u001b[A"
     ]
    },
    {
     "name": "stdout",
     "output_type": "stream",
     "text": [
      "Working with disease  depression\n"
     ]
    },
    {
     "name": "stderr",
     "output_type": "stream",
     "text": [
      "\n",
      " 91%|█████████ | 10/11 [01:09<00:06,  6.73s/it]\u001b[A"
     ]
    },
    {
     "name": "stdout",
     "output_type": "stream",
     "text": [
      "Working with disease  diabetes\n"
     ]
    },
    {
     "name": "stderr",
     "output_type": "stream",
     "text": [
      "\n",
      " 88%|████████▊ | 65/74 [2:37:47<32:02, 213.58s/it]\n",
      "  0%|          | 0/11 [00:00<?, ?it/s]\u001b[A"
     ]
    },
    {
     "name": "stdout",
     "output_type": "stream",
     "text": [
      "Working with disease  anxiety\n"
     ]
    },
    {
     "name": "stderr",
     "output_type": "stream",
     "text": [
      "\n",
      "  9%|▉         | 1/11 [00:06<01:05,  6.59s/it]\u001b[A"
     ]
    },
    {
     "name": "stdout",
     "output_type": "stream",
     "text": [
      "Working with disease  asthma\n"
     ]
    },
    {
     "name": "stderr",
     "output_type": "stream",
     "text": [
      "\n",
      " 18%|█▊        | 2/11 [00:13<00:59,  6.56s/it]\u001b[A"
     ]
    },
    {
     "name": "stdout",
     "output_type": "stream",
     "text": [
      "Working with disease  osteoporosis\n"
     ]
    },
    {
     "name": "stderr",
     "output_type": "stream",
     "text": [
      "\n",
      " 27%|██▋       | 3/11 [00:19<00:51,  6.46s/it]\u001b[A"
     ]
    },
    {
     "name": "stdout",
     "output_type": "stream",
     "text": [
      "Working with disease  stroke\n"
     ]
    },
    {
     "name": "stderr",
     "output_type": "stream",
     "text": [
      "\n",
      " 36%|███▋      | 4/11 [00:25<00:45,  6.51s/it]\u001b[A"
     ]
    },
    {
     "name": "stdout",
     "output_type": "stream",
     "text": [
      "Working with disease  sleeplessness\n"
     ]
    },
    {
     "name": "stderr",
     "output_type": "stream",
     "text": [
      "\n",
      " 45%|████▌     | 5/11 [00:34<00:42,  7.13s/it]\u001b[A"
     ]
    },
    {
     "name": "stdout",
     "output_type": "stream",
     "text": [
      "Working with disease  hypertension\n"
     ]
    },
    {
     "name": "stderr",
     "output_type": "stream",
     "text": [
      "\n",
      " 55%|█████▍    | 6/11 [00:44<00:39,  7.88s/it]\u001b[A"
     ]
    },
    {
     "name": "stdout",
     "output_type": "stream",
     "text": [
      "Working with disease  chronic obstructive pulmonary disease\n"
     ]
    },
    {
     "name": "stderr",
     "output_type": "stream",
     "text": [
      "\n",
      " 64%|██████▎   | 7/11 [00:49<00:29,  7.26s/it]\u001b[A"
     ]
    },
    {
     "name": "stdout",
     "output_type": "stream",
     "text": [
      "Working with disease  dementia\n"
     ]
    },
    {
     "name": "stderr",
     "output_type": "stream",
     "text": [
      "\n",
      " 73%|███████▎  | 8/11 [00:56<00:21,  7.10s/it]\u001b[A"
     ]
    },
    {
     "name": "stdout",
     "output_type": "stream",
     "text": [
      "Working with disease  rheumatoid\n"
     ]
    },
    {
     "name": "stderr",
     "output_type": "stream",
     "text": [
      "\n",
      " 82%|████████▏ | 9/11 [01:02<00:13,  6.78s/it]\u001b[A"
     ]
    },
    {
     "name": "stdout",
     "output_type": "stream",
     "text": [
      "Working with disease  depression\n"
     ]
    },
    {
     "name": "stderr",
     "output_type": "stream",
     "text": [
      "\n",
      " 91%|█████████ | 10/11 [01:09<00:06,  6.69s/it]\u001b[A"
     ]
    },
    {
     "name": "stdout",
     "output_type": "stream",
     "text": [
      "Working with disease  diabetes\n"
     ]
    },
    {
     "name": "stderr",
     "output_type": "stream",
     "text": [
      "\n",
      " 89%|████████▉ | 66/74 [2:41:20<28:26, 213.36s/it]\n",
      "  0%|          | 0/11 [00:00<?, ?it/s]\u001b[A"
     ]
    },
    {
     "name": "stdout",
     "output_type": "stream",
     "text": [
      "Working with disease  anxiety\n"
     ]
    },
    {
     "name": "stderr",
     "output_type": "stream",
     "text": [
      "\n",
      "  9%|▉         | 1/11 [00:06<01:06,  6.62s/it]\u001b[A"
     ]
    },
    {
     "name": "stdout",
     "output_type": "stream",
     "text": [
      "Working with disease  asthma\n"
     ]
    },
    {
     "name": "stderr",
     "output_type": "stream",
     "text": [
      "\n",
      " 18%|█▊        | 2/11 [00:12<00:58,  6.53s/it]\u001b[A"
     ]
    },
    {
     "name": "stdout",
     "output_type": "stream",
     "text": [
      "Working with disease  osteoporosis\n"
     ]
    },
    {
     "name": "stderr",
     "output_type": "stream",
     "text": [
      "\n",
      " 27%|██▋       | 3/11 [00:19<00:51,  6.43s/it]\u001b[A"
     ]
    },
    {
     "name": "stdout",
     "output_type": "stream",
     "text": [
      "Working with disease  stroke\n"
     ]
    },
    {
     "name": "stderr",
     "output_type": "stream",
     "text": [
      "\n",
      " 36%|███▋      | 4/11 [00:25<00:45,  6.43s/it]\u001b[A"
     ]
    },
    {
     "name": "stdout",
     "output_type": "stream",
     "text": [
      "Working with disease  sleeplessness\n"
     ]
    },
    {
     "name": "stderr",
     "output_type": "stream",
     "text": [
      "\n",
      " 45%|████▌     | 5/11 [00:34<00:42,  7.04s/it]\u001b[A"
     ]
    },
    {
     "name": "stdout",
     "output_type": "stream",
     "text": [
      "Working with disease  hypertension\n"
     ]
    },
    {
     "name": "stderr",
     "output_type": "stream",
     "text": [
      "\n",
      " 55%|█████▍    | 6/11 [00:43<00:38,  7.76s/it]\u001b[A"
     ]
    },
    {
     "name": "stdout",
     "output_type": "stream",
     "text": [
      "Working with disease  chronic obstructive pulmonary disease\n"
     ]
    },
    {
     "name": "stderr",
     "output_type": "stream",
     "text": [
      "\n",
      " 64%|██████▎   | 7/11 [00:49<00:28,  7.15s/it]\u001b[A"
     ]
    },
    {
     "name": "stdout",
     "output_type": "stream",
     "text": [
      "Working with disease  dementia\n"
     ]
    },
    {
     "name": "stderr",
     "output_type": "stream",
     "text": [
      "\n",
      " 73%|███████▎  | 8/11 [00:55<00:20,  6.97s/it]\u001b[A"
     ]
    },
    {
     "name": "stdout",
     "output_type": "stream",
     "text": [
      "Working with disease  rheumatoid\n"
     ]
    },
    {
     "name": "stderr",
     "output_type": "stream",
     "text": [
      "\n",
      " 82%|████████▏ | 9/11 [01:02<00:13,  6.77s/it]\u001b[A"
     ]
    },
    {
     "name": "stdout",
     "output_type": "stream",
     "text": [
      "Working with disease  depression\n"
     ]
    },
    {
     "name": "stderr",
     "output_type": "stream",
     "text": [
      "\n",
      " 91%|█████████ | 10/11 [01:08<00:06,  6.70s/it]\u001b[A"
     ]
    },
    {
     "name": "stdout",
     "output_type": "stream",
     "text": [
      "Working with disease  diabetes\n"
     ]
    },
    {
     "name": "stderr",
     "output_type": "stream",
     "text": [
      "\n",
      " 91%|█████████ | 67/74 [2:44:53<24:54, 213.47s/it]\n",
      "  0%|          | 0/11 [00:00<?, ?it/s]\u001b[A"
     ]
    },
    {
     "name": "stdout",
     "output_type": "stream",
     "text": [
      "Working with disease  anxiety\n"
     ]
    },
    {
     "name": "stderr",
     "output_type": "stream",
     "text": [
      "\n",
      "  9%|▉         | 1/11 [00:06<01:06,  6.60s/it]\u001b[A"
     ]
    },
    {
     "name": "stdout",
     "output_type": "stream",
     "text": [
      "Working with disease  asthma\n"
     ]
    },
    {
     "name": "stderr",
     "output_type": "stream",
     "text": [
      "\n",
      " 18%|█▊        | 2/11 [00:13<00:59,  6.57s/it]\u001b[A"
     ]
    },
    {
     "name": "stdout",
     "output_type": "stream",
     "text": [
      "Working with disease  osteoporosis\n"
     ]
    },
    {
     "name": "stderr",
     "output_type": "stream",
     "text": [
      "\n",
      " 27%|██▋       | 3/11 [00:19<00:51,  6.48s/it]\u001b[A"
     ]
    },
    {
     "name": "stdout",
     "output_type": "stream",
     "text": [
      "Working with disease  stroke\n"
     ]
    },
    {
     "name": "stderr",
     "output_type": "stream",
     "text": [
      "\n",
      " 36%|███▋      | 4/11 [00:25<00:45,  6.50s/it]\u001b[A"
     ]
    },
    {
     "name": "stdout",
     "output_type": "stream",
     "text": [
      "Working with disease  sleeplessness\n"
     ]
    },
    {
     "name": "stderr",
     "output_type": "stream",
     "text": [
      "\n",
      " 45%|████▌     | 5/11 [00:34<00:42,  7.14s/it]\u001b[A"
     ]
    },
    {
     "name": "stdout",
     "output_type": "stream",
     "text": [
      "Working with disease  hypertension\n"
     ]
    },
    {
     "name": "stderr",
     "output_type": "stream",
     "text": [
      "\n",
      " 55%|█████▍    | 6/11 [00:44<00:39,  7.85s/it]\u001b[A"
     ]
    },
    {
     "name": "stdout",
     "output_type": "stream",
     "text": [
      "Working with disease  chronic obstructive pulmonary disease\n"
     ]
    },
    {
     "name": "stderr",
     "output_type": "stream",
     "text": [
      "\n",
      " 64%|██████▎   | 7/11 [00:49<00:28,  7.24s/it]\u001b[A"
     ]
    },
    {
     "name": "stdout",
     "output_type": "stream",
     "text": [
      "Working with disease  dementia\n"
     ]
    },
    {
     "name": "stderr",
     "output_type": "stream",
     "text": [
      "\n",
      " 73%|███████▎  | 8/11 [00:56<00:21,  7.09s/it]\u001b[A"
     ]
    },
    {
     "name": "stdout",
     "output_type": "stream",
     "text": [
      "Working with disease  rheumatoid\n"
     ]
    },
    {
     "name": "stderr",
     "output_type": "stream",
     "text": [
      "\n",
      " 82%|████████▏ | 9/11 [01:02<00:13,  6.84s/it]\u001b[A"
     ]
    },
    {
     "name": "stdout",
     "output_type": "stream",
     "text": [
      "Working with disease  depression\n"
     ]
    },
    {
     "name": "stderr",
     "output_type": "stream",
     "text": [
      "\n",
      " 91%|█████████ | 10/11 [01:09<00:06,  6.73s/it]\u001b[A"
     ]
    },
    {
     "name": "stdout",
     "output_type": "stream",
     "text": [
      "Working with disease  diabetes\n"
     ]
    },
    {
     "name": "stderr",
     "output_type": "stream",
     "text": [
      "\n",
      " 92%|█████████▏| 68/74 [2:48:23<21:14, 212.34s/it]\n",
      "  0%|          | 0/11 [00:00<?, ?it/s]\u001b[A"
     ]
    },
    {
     "name": "stdout",
     "output_type": "stream",
     "text": [
      "Working with disease  anxiety\n"
     ]
    },
    {
     "name": "stderr",
     "output_type": "stream",
     "text": [
      "\n",
      "  9%|▉         | 1/11 [00:06<01:06,  6.68s/it]\u001b[A"
     ]
    },
    {
     "name": "stdout",
     "output_type": "stream",
     "text": [
      "Working with disease  asthma\n"
     ]
    },
    {
     "name": "stderr",
     "output_type": "stream",
     "text": [
      "\n",
      " 18%|█▊        | 2/11 [00:13<00:59,  6.63s/it]\u001b[A"
     ]
    },
    {
     "name": "stdout",
     "output_type": "stream",
     "text": [
      "Working with disease  osteoporosis\n"
     ]
    },
    {
     "name": "stderr",
     "output_type": "stream",
     "text": [
      "\n",
      " 27%|██▋       | 3/11 [00:19<00:52,  6.52s/it]\u001b[A"
     ]
    },
    {
     "name": "stdout",
     "output_type": "stream",
     "text": [
      "Working with disease  stroke\n"
     ]
    },
    {
     "name": "stderr",
     "output_type": "stream",
     "text": [
      "\n",
      " 36%|███▋      | 4/11 [00:26<00:46,  6.58s/it]\u001b[A"
     ]
    },
    {
     "name": "stdout",
     "output_type": "stream",
     "text": [
      "Working with disease  sleeplessness\n"
     ]
    },
    {
     "name": "stderr",
     "output_type": "stream",
     "text": [
      "\n",
      " 45%|████▌     | 5/11 [00:34<00:42,  7.09s/it]\u001b[A"
     ]
    },
    {
     "name": "stdout",
     "output_type": "stream",
     "text": [
      "Working with disease  hypertension\n"
     ]
    },
    {
     "name": "stderr",
     "output_type": "stream",
     "text": [
      "\n",
      " 55%|█████▍    | 6/11 [00:43<00:39,  7.81s/it]\u001b[A"
     ]
    },
    {
     "name": "stdout",
     "output_type": "stream",
     "text": [
      "Working with disease  chronic obstructive pulmonary disease\n"
     ]
    },
    {
     "name": "stderr",
     "output_type": "stream",
     "text": [
      "\n",
      " 64%|██████▎   | 7/11 [00:49<00:29,  7.27s/it]\u001b[A"
     ]
    },
    {
     "name": "stdout",
     "output_type": "stream",
     "text": [
      "Working with disease  dementia\n"
     ]
    },
    {
     "name": "stderr",
     "output_type": "stream",
     "text": [
      "\n",
      " 73%|███████▎  | 8/11 [00:56<00:21,  7.12s/it]\u001b[A"
     ]
    },
    {
     "name": "stdout",
     "output_type": "stream",
     "text": [
      "Working with disease  rheumatoid\n"
     ]
    },
    {
     "name": "stderr",
     "output_type": "stream",
     "text": [
      "\n",
      " 82%|████████▏ | 9/11 [01:03<00:13,  6.88s/it]\u001b[A"
     ]
    },
    {
     "name": "stdout",
     "output_type": "stream",
     "text": [
      "Working with disease  depression\n"
     ]
    },
    {
     "name": "stderr",
     "output_type": "stream",
     "text": [
      "\n",
      " 91%|█████████ | 10/11 [01:09<00:06,  6.77s/it]\u001b[A"
     ]
    },
    {
     "name": "stdout",
     "output_type": "stream",
     "text": [
      "Working with disease  diabetes\n"
     ]
    },
    {
     "name": "stderr",
     "output_type": "stream",
     "text": [
      "\n",
      " 93%|█████████▎| 69/74 [2:51:57<17:44, 212.94s/it]\n",
      "  0%|          | 0/11 [00:00<?, ?it/s]\u001b[A"
     ]
    },
    {
     "name": "stdout",
     "output_type": "stream",
     "text": [
      "Working with disease  anxiety\n"
     ]
    },
    {
     "name": "stderr",
     "output_type": "stream",
     "text": [
      "\n",
      "  9%|▉         | 1/11 [00:06<01:08,  6.90s/it]\u001b[A"
     ]
    },
    {
     "name": "stdout",
     "output_type": "stream",
     "text": [
      "Working with disease  asthma\n"
     ]
    },
    {
     "name": "stderr",
     "output_type": "stream",
     "text": [
      "\n",
      " 18%|█▊        | 2/11 [00:13<01:00,  6.76s/it]\u001b[A"
     ]
    },
    {
     "name": "stdout",
     "output_type": "stream",
     "text": [
      "Working with disease  osteoporosis\n"
     ]
    },
    {
     "name": "stderr",
     "output_type": "stream",
     "text": [
      "\n",
      " 27%|██▋       | 3/11 [00:19<00:52,  6.61s/it]\u001b[A"
     ]
    },
    {
     "name": "stdout",
     "output_type": "stream",
     "text": [
      "Working with disease  stroke\n"
     ]
    },
    {
     "name": "stderr",
     "output_type": "stream",
     "text": [
      "\n",
      " 36%|███▋      | 4/11 [00:26<00:47,  6.74s/it]\u001b[A"
     ]
    },
    {
     "name": "stdout",
     "output_type": "stream",
     "text": [
      "Working with disease  sleeplessness\n"
     ]
    },
    {
     "name": "stderr",
     "output_type": "stream",
     "text": [
      "\n",
      " 45%|████▌     | 5/11 [00:35<00:43,  7.32s/it]\u001b[A"
     ]
    },
    {
     "name": "stdout",
     "output_type": "stream",
     "text": [
      "Working with disease  hypertension\n"
     ]
    },
    {
     "name": "stderr",
     "output_type": "stream",
     "text": [
      "\n",
      " 55%|█████▍    | 6/11 [00:44<00:39,  7.96s/it]\u001b[A"
     ]
    },
    {
     "name": "stdout",
     "output_type": "stream",
     "text": [
      "Working with disease  chronic obstructive pulmonary disease\n"
     ]
    },
    {
     "name": "stderr",
     "output_type": "stream",
     "text": [
      "\n",
      " 64%|██████▎   | 7/11 [00:50<00:29,  7.35s/it]\u001b[A"
     ]
    },
    {
     "name": "stdout",
     "output_type": "stream",
     "text": [
      "Working with disease  dementia\n"
     ]
    },
    {
     "name": "stderr",
     "output_type": "stream",
     "text": [
      "\n",
      " 73%|███████▎  | 8/11 [00:57<00:21,  7.14s/it]\u001b[A"
     ]
    },
    {
     "name": "stdout",
     "output_type": "stream",
     "text": [
      "Working with disease  rheumatoid\n"
     ]
    },
    {
     "name": "stderr",
     "output_type": "stream",
     "text": [
      "\n",
      " 82%|████████▏ | 9/11 [01:03<00:13,  6.87s/it]\u001b[A"
     ]
    },
    {
     "name": "stdout",
     "output_type": "stream",
     "text": [
      "Working with disease  depression\n"
     ]
    },
    {
     "name": "stderr",
     "output_type": "stream",
     "text": [
      "\n",
      " 91%|█████████ | 10/11 [01:09<00:06,  6.73s/it]\u001b[A"
     ]
    },
    {
     "name": "stdout",
     "output_type": "stream",
     "text": [
      "Working with disease  diabetes\n"
     ]
    },
    {
     "name": "stderr",
     "output_type": "stream",
     "text": [
      "\n",
      " 95%|█████████▍| 70/74 [2:55:34<14:16, 214.05s/it]\n",
      "  0%|          | 0/11 [00:00<?, ?it/s]\u001b[A"
     ]
    },
    {
     "name": "stdout",
     "output_type": "stream",
     "text": [
      "Working with disease  anxiety\n"
     ]
    },
    {
     "name": "stderr",
     "output_type": "stream",
     "text": [
      "\n",
      "  9%|▉         | 1/11 [00:06<01:06,  6.69s/it]\u001b[A"
     ]
    },
    {
     "name": "stdout",
     "output_type": "stream",
     "text": [
      "Working with disease  asthma\n"
     ]
    },
    {
     "name": "stderr",
     "output_type": "stream",
     "text": [
      "\n",
      " 18%|█▊        | 2/11 [00:13<00:59,  6.65s/it]\u001b[A"
     ]
    },
    {
     "name": "stdout",
     "output_type": "stream",
     "text": [
      "Working with disease  osteoporosis\n"
     ]
    },
    {
     "name": "stderr",
     "output_type": "stream",
     "text": [
      "\n",
      " 27%|██▋       | 3/11 [00:19<00:52,  6.54s/it]\u001b[A"
     ]
    },
    {
     "name": "stdout",
     "output_type": "stream",
     "text": [
      "Working with disease  stroke\n"
     ]
    },
    {
     "name": "stderr",
     "output_type": "stream",
     "text": [
      "\n",
      " 36%|███▋      | 4/11 [00:26<00:46,  6.69s/it]\u001b[A"
     ]
    },
    {
     "name": "stdout",
     "output_type": "stream",
     "text": [
      "Working with disease  sleeplessness\n"
     ]
    },
    {
     "name": "stderr",
     "output_type": "stream",
     "text": [
      "\n",
      " 45%|████▌     | 5/11 [00:34<00:43,  7.19s/it]\u001b[A"
     ]
    },
    {
     "name": "stdout",
     "output_type": "stream",
     "text": [
      "Working with disease  hypertension\n"
     ]
    },
    {
     "name": "stderr",
     "output_type": "stream",
     "text": [
      "\n",
      " 55%|█████▍    | 6/11 [00:44<00:39,  7.85s/it]\u001b[A"
     ]
    },
    {
     "name": "stdout",
     "output_type": "stream",
     "text": [
      "Working with disease  chronic obstructive pulmonary disease\n"
     ]
    },
    {
     "name": "stderr",
     "output_type": "stream",
     "text": [
      "\n",
      " 64%|██████▎   | 7/11 [00:50<00:28,  7.25s/it]\u001b[A"
     ]
    },
    {
     "name": "stdout",
     "output_type": "stream",
     "text": [
      "Working with disease  dementia\n"
     ]
    },
    {
     "name": "stderr",
     "output_type": "stream",
     "text": [
      "\n",
      " 73%|███████▎  | 8/11 [00:56<00:21,  7.06s/it]\u001b[A"
     ]
    },
    {
     "name": "stdout",
     "output_type": "stream",
     "text": [
      "Working with disease  rheumatoid\n"
     ]
    },
    {
     "name": "stderr",
     "output_type": "stream",
     "text": [
      "\n",
      " 82%|████████▏ | 9/11 [01:02<00:13,  6.78s/it]\u001b[A"
     ]
    },
    {
     "name": "stdout",
     "output_type": "stream",
     "text": [
      "Working with disease  depression\n"
     ]
    },
    {
     "name": "stderr",
     "output_type": "stream",
     "text": [
      "\n",
      " 91%|█████████ | 10/11 [01:09<00:06,  6.68s/it]\u001b[A"
     ]
    },
    {
     "name": "stdout",
     "output_type": "stream",
     "text": [
      "Working with disease  diabetes\n"
     ]
    },
    {
     "name": "stderr",
     "output_type": "stream",
     "text": [
      "\n",
      " 96%|█████████▌| 71/74 [2:59:08<10:41, 213.97s/it]\n",
      "  0%|          | 0/11 [00:00<?, ?it/s]\u001b[A"
     ]
    },
    {
     "name": "stdout",
     "output_type": "stream",
     "text": [
      "Working with disease  anxiety\n"
     ]
    },
    {
     "name": "stderr",
     "output_type": "stream",
     "text": [
      "\n",
      "  9%|▉         | 1/11 [00:06<01:07,  6.80s/it]\u001b[A"
     ]
    },
    {
     "name": "stdout",
     "output_type": "stream",
     "text": [
      "Working with disease  asthma\n"
     ]
    },
    {
     "name": "stderr",
     "output_type": "stream",
     "text": [
      "\n",
      " 18%|█▊        | 2/11 [00:13<01:01,  6.79s/it]\u001b[A"
     ]
    },
    {
     "name": "stdout",
     "output_type": "stream",
     "text": [
      "Working with disease  osteoporosis\n"
     ]
    },
    {
     "name": "stderr",
     "output_type": "stream",
     "text": [
      "\n",
      " 27%|██▋       | 3/11 [00:19<00:52,  6.62s/it]\u001b[A"
     ]
    },
    {
     "name": "stdout",
     "output_type": "stream",
     "text": [
      "Working with disease  stroke\n"
     ]
    },
    {
     "name": "stderr",
     "output_type": "stream",
     "text": [
      "\n",
      " 36%|███▋      | 4/11 [00:26<00:47,  6.79s/it]\u001b[A"
     ]
    },
    {
     "name": "stdout",
     "output_type": "stream",
     "text": [
      "Working with disease  sleeplessness\n"
     ]
    },
    {
     "name": "stderr",
     "output_type": "stream",
     "text": [
      "\n",
      " 45%|████▌     | 5/11 [00:35<00:44,  7.37s/it]\u001b[A"
     ]
    },
    {
     "name": "stdout",
     "output_type": "stream",
     "text": [
      "Working with disease  hypertension\n"
     ]
    },
    {
     "name": "stderr",
     "output_type": "stream",
     "text": [
      "\n",
      " 55%|█████▍    | 6/11 [00:44<00:39,  7.90s/it]\u001b[A"
     ]
    },
    {
     "name": "stdout",
     "output_type": "stream",
     "text": [
      "Working with disease  chronic obstructive pulmonary disease\n"
     ]
    },
    {
     "name": "stderr",
     "output_type": "stream",
     "text": [
      "\n",
      " 64%|██████▎   | 7/11 [00:50<00:29,  7.33s/it]\u001b[A"
     ]
    },
    {
     "name": "stdout",
     "output_type": "stream",
     "text": [
      "Working with disease  dementia\n"
     ]
    },
    {
     "name": "stderr",
     "output_type": "stream",
     "text": [
      "\n",
      " 73%|███████▎  | 8/11 [00:57<00:21,  7.18s/it]\u001b[A"
     ]
    },
    {
     "name": "stdout",
     "output_type": "stream",
     "text": [
      "Working with disease  rheumatoid\n"
     ]
    },
    {
     "name": "stderr",
     "output_type": "stream",
     "text": [
      "\n",
      " 82%|████████▏ | 9/11 [01:04<00:13,  6.97s/it]\u001b[A"
     ]
    },
    {
     "name": "stdout",
     "output_type": "stream",
     "text": [
      "Working with disease  depression\n"
     ]
    },
    {
     "name": "stderr",
     "output_type": "stream",
     "text": [
      "\n",
      " 91%|█████████ | 10/11 [01:10<00:06,  6.86s/it]\u001b[A"
     ]
    },
    {
     "name": "stdout",
     "output_type": "stream",
     "text": [
      "Working with disease  diabetes\n"
     ]
    },
    {
     "name": "stderr",
     "output_type": "stream",
     "text": [
      "\n",
      " 97%|█████████▋| 72/74 [3:02:46<07:10, 215.10s/it]\n",
      "  0%|          | 0/11 [00:00<?, ?it/s]\u001b[A"
     ]
    },
    {
     "name": "stdout",
     "output_type": "stream",
     "text": [
      "Working with disease  anxiety\n"
     ]
    },
    {
     "name": "stderr",
     "output_type": "stream",
     "text": [
      "\n",
      "  9%|▉         | 1/11 [00:06<01:07,  6.77s/it]\u001b[A"
     ]
    },
    {
     "name": "stdout",
     "output_type": "stream",
     "text": [
      "Working with disease  asthma\n"
     ]
    },
    {
     "name": "stderr",
     "output_type": "stream",
     "text": [
      "\n",
      " 18%|█▊        | 2/11 [00:13<01:00,  6.70s/it]\u001b[A"
     ]
    },
    {
     "name": "stdout",
     "output_type": "stream",
     "text": [
      "Working with disease  osteoporosis\n"
     ]
    },
    {
     "name": "stderr",
     "output_type": "stream",
     "text": [
      "\n",
      " 27%|██▋       | 3/11 [00:19<00:52,  6.56s/it]\u001b[A"
     ]
    },
    {
     "name": "stdout",
     "output_type": "stream",
     "text": [
      "Working with disease  stroke\n"
     ]
    },
    {
     "name": "stderr",
     "output_type": "stream",
     "text": [
      "\n",
      " 36%|███▋      | 4/11 [00:26<00:47,  6.73s/it]\u001b[A"
     ]
    },
    {
     "name": "stdout",
     "output_type": "stream",
     "text": [
      "Working with disease  sleeplessness\n"
     ]
    },
    {
     "name": "stderr",
     "output_type": "stream",
     "text": [
      "\n",
      " 45%|████▌     | 5/11 [00:35<00:43,  7.29s/it]\u001b[A"
     ]
    },
    {
     "name": "stdout",
     "output_type": "stream",
     "text": [
      "Working with disease  hypertension\n"
     ]
    },
    {
     "name": "stderr",
     "output_type": "stream",
     "text": [
      "\n",
      " 55%|█████▍    | 6/11 [00:44<00:39,  7.83s/it]\u001b[A"
     ]
    },
    {
     "name": "stdout",
     "output_type": "stream",
     "text": [
      "Working with disease  chronic obstructive pulmonary disease\n"
     ]
    },
    {
     "name": "stderr",
     "output_type": "stream",
     "text": [
      "\n",
      " 64%|██████▎   | 7/11 [00:50<00:28,  7.19s/it]\u001b[A"
     ]
    },
    {
     "name": "stdout",
     "output_type": "stream",
     "text": [
      "Working with disease  dementia\n"
     ]
    },
    {
     "name": "stderr",
     "output_type": "stream",
     "text": [
      "\n",
      " 73%|███████▎  | 8/11 [00:56<00:20,  6.99s/it]\u001b[A"
     ]
    },
    {
     "name": "stdout",
     "output_type": "stream",
     "text": [
      "Working with disease  rheumatoid\n"
     ]
    },
    {
     "name": "stderr",
     "output_type": "stream",
     "text": [
      "\n",
      " 82%|████████▏ | 9/11 [01:02<00:13,  6.74s/it]\u001b[A"
     ]
    },
    {
     "name": "stdout",
     "output_type": "stream",
     "text": [
      "Working with disease  depression\n"
     ]
    },
    {
     "name": "stderr",
     "output_type": "stream",
     "text": [
      "\n",
      " 91%|█████████ | 10/11 [01:09<00:06,  6.67s/it]\u001b[A"
     ]
    },
    {
     "name": "stdout",
     "output_type": "stream",
     "text": [
      "Working with disease  diabetes\n"
     ]
    },
    {
     "name": "stderr",
     "output_type": "stream",
     "text": [
      "\n",
      " 99%|█████████▊| 73/74 [3:06:19<03:34, 214.54s/it]\n",
      "  0%|          | 0/11 [00:00<?, ?it/s]\u001b[A"
     ]
    },
    {
     "name": "stdout",
     "output_type": "stream",
     "text": [
      "Working with disease  anxiety\n"
     ]
    },
    {
     "name": "stderr",
     "output_type": "stream",
     "text": [
      "\n",
      "  9%|▉         | 1/11 [00:06<01:07,  6.71s/it]\u001b[A"
     ]
    },
    {
     "name": "stdout",
     "output_type": "stream",
     "text": [
      "Working with disease  asthma\n"
     ]
    },
    {
     "name": "stderr",
     "output_type": "stream",
     "text": [
      "\n",
      " 18%|█▊        | 2/11 [00:13<00:59,  6.64s/it]\u001b[A"
     ]
    },
    {
     "name": "stdout",
     "output_type": "stream",
     "text": [
      "Working with disease  osteoporosis\n"
     ]
    },
    {
     "name": "stderr",
     "output_type": "stream",
     "text": [
      "\n",
      " 27%|██▋       | 3/11 [00:19<00:52,  6.61s/it]\u001b[A"
     ]
    },
    {
     "name": "stdout",
     "output_type": "stream",
     "text": [
      "Working with disease  stroke\n"
     ]
    },
    {
     "name": "stderr",
     "output_type": "stream",
     "text": [
      "\n",
      " 36%|███▋      | 4/11 [00:26<00:46,  6.61s/it]\u001b[A"
     ]
    },
    {
     "name": "stdout",
     "output_type": "stream",
     "text": [
      "Working with disease  sleeplessness\n"
     ]
    },
    {
     "name": "stderr",
     "output_type": "stream",
     "text": [
      "\n",
      " 45%|████▌     | 5/11 [00:34<00:43,  7.22s/it]\u001b[A"
     ]
    },
    {
     "name": "stdout",
     "output_type": "stream",
     "text": [
      "Working with disease  hypertension\n"
     ]
    },
    {
     "name": "stderr",
     "output_type": "stream",
     "text": [
      "\n",
      " 55%|█████▍    | 6/11 [00:44<00:39,  7.96s/it]\u001b[A"
     ]
    },
    {
     "name": "stdout",
     "output_type": "stream",
     "text": [
      "Working with disease  chronic obstructive pulmonary disease\n"
     ]
    },
    {
     "name": "stderr",
     "output_type": "stream",
     "text": [
      "\n",
      " 64%|██████▎   | 7/11 [00:50<00:29,  7.39s/it]\u001b[A"
     ]
    },
    {
     "name": "stdout",
     "output_type": "stream",
     "text": [
      "Working with disease  dementia\n"
     ]
    },
    {
     "name": "stderr",
     "output_type": "stream",
     "text": [
      "\n",
      " 73%|███████▎  | 8/11 [00:57<00:21,  7.17s/it]\u001b[A"
     ]
    },
    {
     "name": "stdout",
     "output_type": "stream",
     "text": [
      "Working with disease  rheumatoid\n"
     ]
    },
    {
     "name": "stderr",
     "output_type": "stream",
     "text": [
      "\n",
      " 82%|████████▏ | 9/11 [01:03<00:13,  6.88s/it]\u001b[A"
     ]
    },
    {
     "name": "stdout",
     "output_type": "stream",
     "text": [
      "Working with disease  depression\n"
     ]
    },
    {
     "name": "stderr",
     "output_type": "stream",
     "text": [
      "\n",
      " 91%|█████████ | 10/11 [01:10<00:06,  6.81s/it]\u001b[A"
     ]
    },
    {
     "name": "stdout",
     "output_type": "stream",
     "text": [
      "Working with disease  diabetes\n"
     ]
    },
    {
     "name": "stderr",
     "output_type": "stream",
     "text": [
      "\n",
      "100%|██████████| 74/74 [3:09:51<00:00, 213.80s/it]\n"
     ]
    }
   ],
   "source": [
    "for f in tqdm(files[53:]):\n",
    "    month = f.split('/')[-1].split('.')[0]\n",
    "    logging.debug(\"Working with month  \" + month)\n",
    "    if int(month) > 201906:\n",
    "        old = False\n",
    "    else:\n",
    "        old = True\n",
    "    \n",
    "    monthly_borough_dosage_new[month] = {}\n",
    "    monthly_borough_costs_new[month] = {}\n",
    "    pdp = pd.read_csv(f,compression='gzip')\n",
    "    for disease in tqdm(disease_drug_map):\n",
    "        print \"Working with disease  \" + disease\n",
    "        logging.debug(\"Working with disease  \" + disease)\n",
    "        monthly_borough_dosage_new[month][disease] = {}\n",
    "        monthly_borough_costs_new[month][disease] = {}\n",
    "        drugs = disease_drug_map[disease]\n",
    "        opioids = pdp.loc[pdp['16'].isin(drugs)] #Original opioids\n",
    "\n",
    "        monthly_borough_dosage_new[month][disease] , monthly_borough_costs_new[month][disease] = calculateTemporalMetrics_LSOA(opioids, old)\n",
    "   "
   ]
  },
  {
   "cell_type": "code",
   "execution_count": 46,
   "metadata": {
    "ExecuteTime": {
     "end_time": "2021-06-01T19:21:57.502188Z",
     "start_time": "2021-06-01T19:21:57.429623Z"
    }
   },
   "outputs": [
    {
     "data": {
      "text/html": [
       "<div>\n",
       "<style scoped>\n",
       "    .dataframe tbody tr th:only-of-type {\n",
       "        vertical-align: middle;\n",
       "    }\n",
       "\n",
       "    .dataframe tbody tr th {\n",
       "        vertical-align: top;\n",
       "    }\n",
       "\n",
       "    .dataframe thead th {\n",
       "        text-align: right;\n",
       "    }\n",
       "</style>\n",
       "<table border=\"1\" class=\"dataframe\">\n",
       "  <thead>\n",
       "    <tr style=\"text-align: right;\">\n",
       "      <th></th>\n",
       "      <th>Unnamed: 0</th>\n",
       "      <th>YEAR_MONTH</th>\n",
       "      <th>REGIONAL_OFFICE_NAME</th>\n",
       "      <th>REGIONAL_OFFICE_CODE</th>\n",
       "      <th>STP_NAME</th>\n",
       "      <th>STP_CODE</th>\n",
       "      <th>PCO_NAME</th>\n",
       "      <th>PCO_CODE</th>\n",
       "      <th>PRACTICE_NAME</th>\n",
       "      <th>PRACTICE_CODE</th>\n",
       "      <th>...</th>\n",
       "      <th>12</th>\n",
       "      <th>13</th>\n",
       "      <th>14</th>\n",
       "      <th>15</th>\n",
       "      <th>16</th>\n",
       "      <th>17</th>\n",
       "      <th>18</th>\n",
       "      <th>19</th>\n",
       "      <th>20</th>\n",
       "      <th>21</th>\n",
       "    </tr>\n",
       "  </thead>\n",
       "  <tbody>\n",
       "    <tr>\n",
       "      <th>0</th>\n",
       "      <td>0</td>\n",
       "      <td>202102</td>\n",
       "      <td>SOUTH EAST</td>\n",
       "      <td>Y59</td>\n",
       "      <td>BUCKS, OXFORDSHIRE &amp; BERKSHIRE WEST STP</td>\n",
       "      <td>QU9</td>\n",
       "      <td>OXFORDSHIRE CCG</td>\n",
       "      <td>10Q00</td>\n",
       "      <td>MORLAND HOUSE SURGERY</td>\n",
       "      <td>K84014</td>\n",
       "      <td>...</td>\n",
       "      <td>NaN</td>\n",
       "      <td>NaN</td>\n",
       "      <td>NaN</td>\n",
       "      <td>0.0</td>\n",
       "      <td>130201100</td>\n",
       "      <td>500.0</td>\n",
       "      <td>1.0</td>\n",
       "      <td>500.0</td>\n",
       "      <td>BB</td>\n",
       "      <td>0.0</td>\n",
       "    </tr>\n",
       "    <tr>\n",
       "      <th>1</th>\n",
       "      <td>1</td>\n",
       "      <td>202102</td>\n",
       "      <td>SOUTH EAST</td>\n",
       "      <td>Y59</td>\n",
       "      <td>BUCKS, OXFORDSHIRE &amp; BERKSHIRE WEST STP</td>\n",
       "      <td>QU9</td>\n",
       "      <td>OXFORDSHIRE CCG</td>\n",
       "      <td>10Q00</td>\n",
       "      <td>MORLAND HOUSE SURGERY</td>\n",
       "      <td>K84014</td>\n",
       "      <td>...</td>\n",
       "      <td>NaN</td>\n",
       "      <td>NaN</td>\n",
       "      <td>NaN</td>\n",
       "      <td>0.0</td>\n",
       "      <td>130201100</td>\n",
       "      <td>400.0</td>\n",
       "      <td>1.0</td>\n",
       "      <td>400.0</td>\n",
       "      <td>BB</td>\n",
       "      <td>0.0</td>\n",
       "    </tr>\n",
       "    <tr>\n",
       "      <th>2</th>\n",
       "      <td>2</td>\n",
       "      <td>202102</td>\n",
       "      <td>SOUTH EAST</td>\n",
       "      <td>Y59</td>\n",
       "      <td>BUCKS, OXFORDSHIRE &amp; BERKSHIRE WEST STP</td>\n",
       "      <td>QU9</td>\n",
       "      <td>OXFORDSHIRE CCG</td>\n",
       "      <td>10Q00</td>\n",
       "      <td>MORLAND HOUSE SURGERY</td>\n",
       "      <td>K84014</td>\n",
       "      <td>...</td>\n",
       "      <td>NaN</td>\n",
       "      <td>NaN</td>\n",
       "      <td>NaN</td>\n",
       "      <td>0.0</td>\n",
       "      <td>130201100</td>\n",
       "      <td>200.0</td>\n",
       "      <td>1.0</td>\n",
       "      <td>200.0</td>\n",
       "      <td>BB</td>\n",
       "      <td>0.0</td>\n",
       "    </tr>\n",
       "    <tr>\n",
       "      <th>3</th>\n",
       "      <td>3</td>\n",
       "      <td>202102</td>\n",
       "      <td>SOUTH EAST</td>\n",
       "      <td>Y59</td>\n",
       "      <td>BUCKS, OXFORDSHIRE &amp; BERKSHIRE WEST STP</td>\n",
       "      <td>QU9</td>\n",
       "      <td>OXFORDSHIRE CCG</td>\n",
       "      <td>10Q00</td>\n",
       "      <td>MORLAND HOUSE SURGERY</td>\n",
       "      <td>K84014</td>\n",
       "      <td>...</td>\n",
       "      <td>NaN</td>\n",
       "      <td>NaN</td>\n",
       "      <td>NaN</td>\n",
       "      <td>0.0</td>\n",
       "      <td>1303000AA</td>\n",
       "      <td>1000.0</td>\n",
       "      <td>1.0</td>\n",
       "      <td>1000.0</td>\n",
       "      <td>BC</td>\n",
       "      <td>0.0</td>\n",
       "    </tr>\n",
       "    <tr>\n",
       "      <th>4</th>\n",
       "      <td>4</td>\n",
       "      <td>202102</td>\n",
       "      <td>SOUTH EAST</td>\n",
       "      <td>Y59</td>\n",
       "      <td>BUCKS, OXFORDSHIRE &amp; BERKSHIRE WEST STP</td>\n",
       "      <td>QU9</td>\n",
       "      <td>OXFORDSHIRE CCG</td>\n",
       "      <td>10Q00</td>\n",
       "      <td>MORLAND HOUSE SURGERY</td>\n",
       "      <td>K84014</td>\n",
       "      <td>...</td>\n",
       "      <td>NaN</td>\n",
       "      <td>NaN</td>\n",
       "      <td>NaN</td>\n",
       "      <td>0.0</td>\n",
       "      <td>1303000AA</td>\n",
       "      <td>100.0</td>\n",
       "      <td>1.0</td>\n",
       "      <td>100.0</td>\n",
       "      <td>BC</td>\n",
       "      <td>0.0</td>\n",
       "    </tr>\n",
       "  </tbody>\n",
       "</table>\n",
       "<p>5 rows × 38 columns</p>\n",
       "</div>"
      ],
      "text/plain": [
       "   Unnamed: 0  YEAR_MONTH REGIONAL_OFFICE_NAME REGIONAL_OFFICE_CODE  \\\n",
       "0           0      202102           SOUTH EAST                  Y59   \n",
       "1           1      202102           SOUTH EAST                  Y59   \n",
       "2           2      202102           SOUTH EAST                  Y59   \n",
       "3           3      202102           SOUTH EAST                  Y59   \n",
       "4           4      202102           SOUTH EAST                  Y59   \n",
       "\n",
       "                                  STP_NAME STP_CODE         PCO_NAME PCO_CODE  \\\n",
       "0  BUCKS, OXFORDSHIRE & BERKSHIRE WEST STP      QU9  OXFORDSHIRE CCG    10Q00   \n",
       "1  BUCKS, OXFORDSHIRE & BERKSHIRE WEST STP      QU9  OXFORDSHIRE CCG    10Q00   \n",
       "2  BUCKS, OXFORDSHIRE & BERKSHIRE WEST STP      QU9  OXFORDSHIRE CCG    10Q00   \n",
       "3  BUCKS, OXFORDSHIRE & BERKSHIRE WEST STP      QU9  OXFORDSHIRE CCG    10Q00   \n",
       "4  BUCKS, OXFORDSHIRE & BERKSHIRE WEST STP      QU9  OXFORDSHIRE CCG    10Q00   \n",
       "\n",
       "           PRACTICE_NAME PRACTICE_CODE  ...   12   13   14   15         16  \\\n",
       "0  MORLAND HOUSE SURGERY        K84014  ...  NaN  NaN  NaN  0.0  130201100   \n",
       "1  MORLAND HOUSE SURGERY        K84014  ...  NaN  NaN  NaN  0.0  130201100   \n",
       "2  MORLAND HOUSE SURGERY        K84014  ...  NaN  NaN  NaN  0.0  130201100   \n",
       "3  MORLAND HOUSE SURGERY        K84014  ...  NaN  NaN  NaN  0.0  1303000AA   \n",
       "4  MORLAND HOUSE SURGERY        K84014  ...  NaN  NaN  NaN  0.0  1303000AA   \n",
       "\n",
       "       17   18      19  20   21  \n",
       "0   500.0  1.0   500.0  BB  0.0  \n",
       "1   400.0  1.0   400.0  BB  0.0  \n",
       "2   200.0  1.0   200.0  BB  0.0  \n",
       "3  1000.0  1.0  1000.0  BC  0.0  \n",
       "4   100.0  1.0   100.0  BC  0.0  \n",
       "\n",
       "[5 rows x 38 columns]"
      ]
     },
     "execution_count": 46,
     "metadata": {},
     "output_type": "execute_result"
    }
   ],
   "source": [
    "pdp.head(n=5)"
   ]
  },
  {
   "cell_type": "code",
   "execution_count": 47,
   "metadata": {
    "ExecuteTime": {
     "end_time": "2021-06-01T19:25:17.937470Z",
     "start_time": "2021-06-01T19:25:17.890233Z"
    }
   },
   "outputs": [
    {
     "data": {
      "text/plain": [
       "[u'E01009300',\n",
       " u'E01014080',\n",
       " u'E01014081',\n",
       " u'E01014082',\n",
       " u'E01014083',\n",
       " u'E01014084',\n",
       " u'E01014085',\n",
       " u'E01014086',\n",
       " u'E01014087',\n",
       " u'E01014088',\n",
       " u'E01014089',\n",
       " u'E01015977',\n",
       " u'E01015976',\n",
       " u'E01015975',\n",
       " u'E01015974',\n",
       " u'E01015973',\n",
       " u'E01015972',\n",
       " u'E01015971',\n",
       " u'E01015970',\n",
       " u'E01015979',\n",
       " u'E01015978',\n",
       " u'E01010259',\n",
       " u'E01010258',\n",
       " u'E01010251',\n",
       " u'E01010250',\n",
       " u'E01010253',\n",
       " u'E01010252',\n",
       " u'E01010255',\n",
       " u'E01010254',\n",
       " u'E01010257',\n",
       " u'E01010256',\n",
       " u'E01024308',\n",
       " u'E01024309',\n",
       " u'E01024300',\n",
       " u'E01024301',\n",
       " u'E01024302',\n",
       " u'E01024303',\n",
       " u'E01024304',\n",
       " u'E01024305',\n",
       " u'E01024306',\n",
       " u'E01024307',\n",
       " u'E01014928',\n",
       " u'E01030039',\n",
       " u'E01015029',\n",
       " u'E01015028',\n",
       " u'E01004235',\n",
       " u'E01015021',\n",
       " u'E01015020',\n",
       " u'E01015023',\n",
       " u'E01015022',\n",
       " u'E01015025',\n",
       " u'E01015024',\n",
       " u'E01015027',\n",
       " u'E01015026',\n",
       " u'E01022229',\n",
       " u'E01022228',\n",
       " u'E01022225',\n",
       " u'E01022224',\n",
       " u'E01022227',\n",
       " u'E01022226',\n",
       " u'E01022221',\n",
       " u'E01022220',\n",
       " u'E01022223',\n",
       " u'E01022222',\n",
       " u'E01008962',\n",
       " u'E01006408',\n",
       " u'E01008963',\n",
       " u'E01008960',\n",
       " u'E01008961',\n",
       " u'E01008966',\n",
       " u'E01008967',\n",
       " u'E01006403',\n",
       " u'E01030035',\n",
       " u'E01006402',\n",
       " u'E01030034',\n",
       " u'E01006401',\n",
       " u'E01006400',\n",
       " u'E01006407',\n",
       " u'E01006406',\n",
       " u'E01006405',\n",
       " u'E01006404',\n",
       " u'E01009824',\n",
       " u'E01009825',\n",
       " u'E01009826',\n",
       " u'E01009827',\n",
       " u'E01009820',\n",
       " u'E01009821',\n",
       " u'E01009822',\n",
       " u'E01009823',\n",
       " u'E01009828',\n",
       " u'E01009829',\n",
       " u'E01011705',\n",
       " u'E01029079',\n",
       " u'E01029078',\n",
       " u'E01029075',\n",
       " u'E01029074',\n",
       " u'E01029077',\n",
       " u'E01029076',\n",
       " u'E01029071',\n",
       " u'E01029070',\n",
       " u'E01029073',\n",
       " u'E01029072',\n",
       " u'E01022919',\n",
       " u'E01022918',\n",
       " u'E01022917',\n",
       " u'E01022916',\n",
       " u'E01022915',\n",
       " u'E01022914',\n",
       " u'E01022913',\n",
       " u'E01022911',\n",
       " u'E01022910',\n",
       " u'E01026210',\n",
       " u'E01026211',\n",
       " u'E01026212',\n",
       " u'E01026213',\n",
       " u'E01026214',\n",
       " u'E01026215',\n",
       " u'E01026218',\n",
       " u'E01026219',\n",
       " u'E01012349',\n",
       " u'E01012348',\n",
       " u'E01004421',\n",
       " u'E01004420',\n",
       " u'E01004427',\n",
       " u'E01004426',\n",
       " u'E01004425',\n",
       " u'E01004424',\n",
       " u'E01012341',\n",
       " u'E01012340',\n",
       " u'E01012343',\n",
       " u'E01012342',\n",
       " u'E01012345',\n",
       " u'E01012344',\n",
       " u'E01012347',\n",
       " u'E01012346',\n",
       " u'E01006409',\n",
       " u'E01008889',\n",
       " u'E01008888',\n",
       " u'E01008885',\n",
       " u'E01008884',\n",
       " u'E01008887',\n",
       " u'E01008886',\n",
       " u'E01008881',\n",
       " u'E01008880',\n",
       " u'E01008883',\n",
       " u'E01008882',\n",
       " u'E01012948',\n",
       " u'E01007163',\n",
       " u'E01029929',\n",
       " u'E01029928',\n",
       " u'E01029927',\n",
       " u'E01029926',\n",
       " u'E01029925',\n",
       " u'E01029923',\n",
       " u'E01029922',\n",
       " u'E01029921',\n",
       " u'E01029920',\n",
       " u'E01007160',\n",
       " u'E01007167',\n",
       " u'E01007166',\n",
       " u'E01007165',\n",
       " u'E01012947',\n",
       " u'E01007164',\n",
       " u'E01012946',\n",
       " u'E01030756',\n",
       " u'E01030757',\n",
       " u'E01030754',\n",
       " u'E01030755',\n",
       " u'E01030752',\n",
       " u'E01030753',\n",
       " u'E01030750',\n",
       " u'E01030751',\n",
       " u'E01030758',\n",
       " u'E01030759',\n",
       " u'E01031409',\n",
       " u'E01031408',\n",
       " u'E01031401',\n",
       " u'E01031400',\n",
       " u'E01031403',\n",
       " u'E01031402',\n",
       " u'E01031405',\n",
       " u'E01031404',\n",
       " u'E01031407',\n",
       " u'E01031406',\n",
       " u'E01032668',\n",
       " u'E01032669',\n",
       " u'E01032664',\n",
       " u'E01032665',\n",
       " u'E01032666',\n",
       " u'E01032667',\n",
       " u'E01032660',\n",
       " u'E01032661',\n",
       " u'E01032662',\n",
       " u'E01032663',\n",
       " u'E01023635',\n",
       " u'E01023634',\n",
       " u'E01023637',\n",
       " u'E01023636',\n",
       " u'E01023631',\n",
       " u'E01023630',\n",
       " u'E01023633',\n",
       " u'E01023632',\n",
       " u'E01007309',\n",
       " u'E01007308',\n",
       " u'E01023639',\n",
       " u'E01023638',\n",
       " u'E01033649',\n",
       " u'E01033648',\n",
       " u'E01018934',\n",
       " u'E01031278',\n",
       " u'E01018936',\n",
       " u'E01018937',\n",
       " u'E01018930',\n",
       " u'E01018931',\n",
       " u'E01018932',\n",
       " u'E01018933',\n",
       " u'E01018938',\n",
       " u'E01008306',\n",
       " u'E01008307',\n",
       " u'E01008304',\n",
       " u'E01008305',\n",
       " u'E01008302',\n",
       " u'E01008303',\n",
       " u'E01008300',\n",
       " u'E01008301',\n",
       " u'E01003392',\n",
       " u'E01008308',\n",
       " u'E01008309',\n",
       " u'E01033642',\n",
       " u'E01033645',\n",
       " u'E01033644',\n",
       " u'E01033647',\n",
       " u'E01033646',\n",
       " u'E01033139',\n",
       " u'E01033138',\n",
       " u'E01033137',\n",
       " u'E01033135',\n",
       " u'E01033133',\n",
       " u'E01033132',\n",
       " u'E01033131',\n",
       " u'E01033130',\n",
       " u'E01007875',\n",
       " u'E01007874',\n",
       " u'E01007877',\n",
       " u'E01007871',\n",
       " u'E01007870',\n",
       " u'E01007873',\n",
       " u'E01007872',\n",
       " u'E01007879',\n",
       " u'E01007878',\n",
       " u'E01005439',\n",
       " u'E01005438',\n",
       " u'E01005433',\n",
       " u'E01005432',\n",
       " u'E01005431',\n",
       " u'E01005430',\n",
       " u'E01005437',\n",
       " u'E01005436',\n",
       " u'E01005435',\n",
       " u'E01005434',\n",
       " u'E01010099',\n",
       " u'E01010098',\n",
       " u'E01010093',\n",
       " u'E01010092',\n",
       " u'E01010091',\n",
       " u'E01010090',\n",
       " u'E01010097',\n",
       " u'E01010096',\n",
       " u'E01010095',\n",
       " u'E01010094',\n",
       " u'E01004748',\n",
       " u'E01004749',\n",
       " u'E01004742',\n",
       " u'E01004743',\n",
       " u'E01004740',\n",
       " u'E01004741',\n",
       " u'E01004746',\n",
       " u'E01004747',\n",
       " u'E01004744',\n",
       " u'E01004745',\n",
       " u'W01000252',\n",
       " u'W01000250',\n",
       " u'W01000251',\n",
       " u'W01000256',\n",
       " u'W01000257',\n",
       " u'W01000255',\n",
       " u'E01016938',\n",
       " u'E01016939',\n",
       " u'E01016936',\n",
       " u'E01016937',\n",
       " u'E01016934',\n",
       " u'E01016935',\n",
       " u'E01016932',\n",
       " u'E01016933',\n",
       " u'E01016930',\n",
       " u'E01016931',\n",
       " u'E01011050',\n",
       " u'E01011051',\n",
       " u'E01011052',\n",
       " u'E01011053',\n",
       " u'E01011054',\n",
       " u'E01011055',\n",
       " u'E01011056',\n",
       " u'E01011057',\n",
       " u'E01011058',\n",
       " u'E01011059',\n",
       " u'E01019605',\n",
       " u'E01019604',\n",
       " u'E01019607',\n",
       " u'E01019606',\n",
       " u'E01019601',\n",
       " u'E01019600',\n",
       " u'E01019603',\n",
       " u'E01019602',\n",
       " u'E01027329',\n",
       " u'E01027328',\n",
       " u'E01019609',\n",
       " u'E01019608',\n",
       " u'E01000119',\n",
       " u'E01000118',\n",
       " u'E01000113',\n",
       " u'E01000112',\n",
       " u'E01000111',\n",
       " u'E01000110',\n",
       " u'E01000117',\n",
       " u'E01000116',\n",
       " u'E01000115',\n",
       " u'E01000114',\n",
       " u'E01007468',\n",
       " u'E01007469',\n",
       " u'E01007462',\n",
       " u'E01007463',\n",
       " u'E01007460',\n",
       " u'E01007461',\n",
       " u'E01007466',\n",
       " u'E01007467',\n",
       " u'E01007464',\n",
       " u'E01007465',\n",
       " u'E01016200',\n",
       " u'E01016201',\n",
       " u'E01016202',\n",
       " u'E01016203',\n",
       " u'E01016204',\n",
       " u'E01016205',\n",
       " u'E01016206',\n",
       " u'E01016207',\n",
       " u'E01016208',\n",
       " u'E01016209',\n",
       " u'E01026052',\n",
       " u'E01026053',\n",
       " u'E01026050',\n",
       " u'E01026051',\n",
       " u'E01026056',\n",
       " u'E01026057',\n",
       " u'E01026054',\n",
       " u'E01026055',\n",
       " u'E01026058',\n",
       " u'E01026059',\n",
       " u'E01028234',\n",
       " u'E01028235',\n",
       " u'E01028236',\n",
       " u'E01021586',\n",
       " u'E01028230',\n",
       " u'E01028231',\n",
       " u'E01028232',\n",
       " u'E01021582',\n",
       " u'E01024560',\n",
       " u'E01024561',\n",
       " u'E01024562',\n",
       " u'E01024563',\n",
       " u'E01028238',\n",
       " u'E01012586',\n",
       " u'E01024566',\n",
       " u'E01024567',\n",
       " u'E01009939',\n",
       " u'E01025273',\n",
       " u'E01026588',\n",
       " u'E01026589',\n",
       " u'E01026580',\n",
       " u'E01026581',\n",
       " u'E01026582',\n",
       " u'E01026583',\n",
       " u'E01026584',\n",
       " u'E01026585',\n",
       " u'E01026586',\n",
       " u'E01026587',\n",
       " u'E01025272',\n",
       " u'E01024698',\n",
       " u'E01024699',\n",
       " u'E01024696',\n",
       " u'E01024697',\n",
       " u'E01024694',\n",
       " u'E01024695',\n",
       " u'E01024692',\n",
       " u'E01024693',\n",
       " u'E01024690',\n",
       " u'E01024691',\n",
       " u'E01025271',\n",
       " u'E01013184',\n",
       " u'E01013185',\n",
       " u'E01013186',\n",
       " u'E01013187',\n",
       " u'E01013180',\n",
       " u'E01013181',\n",
       " u'E01013182',\n",
       " u'E01013183',\n",
       " u'E01013188',\n",
       " u'E01013189',\n",
       " u'E01025270',\n",
       " u'E01015494',\n",
       " u'E01006641',\n",
       " u'E01015497',\n",
       " u'E01015490',\n",
       " u'E01015491',\n",
       " u'E01015493',\n",
       " u'E01009385',\n",
       " u'E01021059',\n",
       " u'E01021058',\n",
       " u'E01018565',\n",
       " u'E01021053',\n",
       " u'E01021052',\n",
       " u'E01021051',\n",
       " u'E01021050',\n",
       " u'E01021057',\n",
       " u'E01021056',\n",
       " u'E01021055',\n",
       " u'E01021054',\n",
       " u'E01009384',\n",
       " u'E01025772',\n",
       " u'E01025773',\n",
       " u'E01025770',\n",
       " u'E01025771',\n",
       " u'E01025776',\n",
       " u'E01025777',\n",
       " u'E01025774',\n",
       " u'E01025775',\n",
       " u'E01025778',\n",
       " u'E01025779',\n",
       " u'E01009380',\n",
       " u'E01026870',\n",
       " u'E01026871',\n",
       " u'E01026872',\n",
       " u'E01026873',\n",
       " u'E01026874',\n",
       " u'E01026875',\n",
       " u'E01026876',\n",
       " u'E01026877',\n",
       " u'E01026878',\n",
       " u'E01026879',\n",
       " u'E01005682',\n",
       " u'E01025337',\n",
       " u'E01030824',\n",
       " u'E01030825',\n",
       " u'E01030826',\n",
       " u'E01030827',\n",
       " u'E01030820',\n",
       " u'E01030821',\n",
       " u'E01030822',\n",
       " u'E01030823',\n",
       " u'E01030828',\n",
       " u'E01030829',\n",
       " u'E01025334',\n",
       " u'E01014869',\n",
       " u'E01008148',\n",
       " u'E01008149',\n",
       " u'E01023349',\n",
       " u'E01023348',\n",
       " u'E01008140',\n",
       " u'E01008141',\n",
       " u'E01008142',\n",
       " u'E01023346',\n",
       " u'E01008144',\n",
       " u'E01008145',\n",
       " u'E01008146',\n",
       " u'E01008147',\n",
       " u'E01025335',\n",
       " u'E01011939',\n",
       " u'E01011938',\n",
       " u'E01011937',\n",
       " u'E01011936',\n",
       " u'E01011935',\n",
       " u'E01011934',\n",
       " u'E01011933',\n",
       " u'E01011932',\n",
       " u'E01011931',\n",
       " u'E01011930',\n",
       " u'E01023969',\n",
       " u'E01023968',\n",
       " u'E01009389',\n",
       " u'E01023961',\n",
       " u'E01023960',\n",
       " u'E01023963',\n",
       " u'E01023962',\n",
       " u'E01023965',\n",
       " u'E01023964',\n",
       " u'E01023967',\n",
       " u'E01023966',\n",
       " u'E01027048',\n",
       " u'E01027049',\n",
       " u'E01027042',\n",
       " u'E01027043',\n",
       " u'E01027040',\n",
       " u'E01027041',\n",
       " u'E01027046',\n",
       " u'E01027047',\n",
       " u'E01027044',\n",
       " u'E01027045',\n",
       " u'E01031889',\n",
       " u'E01031888',\n",
       " u'E01031885',\n",
       " u'E01031884',\n",
       " u'E01005637',\n",
       " u'E01031886',\n",
       " u'E01005631',\n",
       " u'E01031880',\n",
       " u'E01031883',\n",
       " u'E01031882',\n",
       " u'E01033038',\n",
       " u'E01033039',\n",
       " u'E01033036',\n",
       " u'E01033037',\n",
       " u'E01033034',\n",
       " u'E01033035',\n",
       " u'E01033032',\n",
       " u'E01033033',\n",
       " u'E01033030',\n",
       " u'E01033031',\n",
       " u'E01002173',\n",
       " u'E01002172',\n",
       " u'E01002171',\n",
       " u'E01002170',\n",
       " u'E01002177',\n",
       " u'E01002176',\n",
       " u'E01002175',\n",
       " u'E01002174',\n",
       " u'E01002179',\n",
       " u'E01002178',\n",
       " u'E01005183',\n",
       " u'E01005182',\n",
       " u'E01005181',\n",
       " u'E01005180',\n",
       " u'E01005187',\n",
       " u'E01005186',\n",
       " u'E01005185',\n",
       " u'E01005184',\n",
       " u'E01005189',\n",
       " u'E01005188',\n",
       " u'E01004588',\n",
       " u'E01004589',\n",
       " u'E01028179',\n",
       " u'E01028178',\n",
       " u'E01028177',\n",
       " u'E01028176',\n",
       " u'E01028175',\n",
       " u'E01028174',\n",
       " u'E01028173',\n",
       " u'E01004581',\n",
       " u'E01004582',\n",
       " u'E01028170',\n",
       " u'W01000498',\n",
       " u'W01000499',\n",
       " u'W01000497',\n",
       " u'E01008927',\n",
       " u'E01008924',\n",
       " u'E01008925',\n",
       " u'E01008923',\n",
       " u'E01008920',\n",
       " u'E01008921',\n",
       " u'E01008928',\n",
       " u'E01008929',\n",
       " u'E01023167',\n",
       " u'E01023166',\n",
       " u'E01023169',\n",
       " u'E01023168',\n",
       " u'E01008703',\n",
       " u'E01030454',\n",
       " u'E01024135',\n",
       " u'E01030456',\n",
       " u'E01024133',\n",
       " u'E01030450',\n",
       " u'E01030453',\n",
       " u'E01024130',\n",
       " u'E01031306',\n",
       " u'E01031307',\n",
       " u'E01031304',\n",
       " u'E01031305',\n",
       " u'E01031302',\n",
       " u'E01031303',\n",
       " u'E01031300',\n",
       " u'E01031301',\n",
       " u'E01020087',\n",
       " u'E01020086',\n",
       " u'E01020085',\n",
       " u'E01020084',\n",
       " u'E01020083',\n",
       " u'E01020082',\n",
       " u'E01020081',\n",
       " u'E01031309',\n",
       " u'E01020555',\n",
       " u'E01020554',\n",
       " u'E01020557',\n",
       " u'E01000460',\n",
       " u'E01020551',\n",
       " u'E01000466',\n",
       " u'E01020553',\n",
       " u'E01000464',\n",
       " u'E01000469',\n",
       " u'E01000468',\n",
       " u'E01020559',\n",
       " u'E01020558',\n",
       " u'E01007112',\n",
       " u'E01007113',\n",
       " u'E01007110',\n",
       " u'E01007111',\n",
       " u'E01007116',\n",
       " u'E01007117',\n",
       " u'E01007114',\n",
       " u'E01029114',\n",
       " u'E01007118',\n",
       " u'E01007119',\n",
       " u'E01032149',\n",
       " u'E01032148',\n",
       " u'E01032141',\n",
       " u'E01032140',\n",
       " u'E01032143',\n",
       " u'E01032142',\n",
       " u'E01032145',\n",
       " u'E01032144',\n",
       " u'E01032147',\n",
       " u'E01032146',\n",
       " u'E01018871',\n",
       " u'E01018870',\n",
       " u'E01018873',\n",
       " u'E01018872',\n",
       " u'E01018875',\n",
       " u'E01018874',\n",
       " u'E01018877',\n",
       " u'E01018876',\n",
       " u'E01018879',\n",
       " u'E01018878',\n",
       " u'E01004423',\n",
       " u'E01004422',\n",
       " u'E01029115',\n",
       " u'E01003004',\n",
       " u'E01003005',\n",
       " u'E01003006',\n",
       " u'E01003349',\n",
       " u'E01003348',\n",
       " u'E01003343',\n",
       " u'E01003342',\n",
       " u'E01003341',\n",
       " u'E01003340',\n",
       " u'E01003347',\n",
       " u'E01003346',\n",
       " u'E01003345',\n",
       " u'E01003344',\n",
       " u'E01019837',\n",
       " u'E01019834',\n",
       " u'E01019835',\n",
       " u'E01019832',\n",
       " u'E01019833',\n",
       " u'E01019830',\n",
       " u'E01019831',\n",
       " u'E01002432',\n",
       " u'E01002433',\n",
       " u'E01002430',\n",
       " u'E01002431',\n",
       " u'E01002436',\n",
       " u'E01002437',\n",
       " u'E01019838',\n",
       " u'E01019839',\n",
       " u'E01006234',\n",
       " u'E01006235',\n",
       " u'E01006236',\n",
       " u'E01013962',\n",
       " u'E01013963',\n",
       " u'E01013960',\n",
       " u'E01006237',\n",
       " u'E01013966',\n",
       " u'E01013967',\n",
       " u'E01013964',\n",
       " u'E01013965',\n",
       " u'E01006230',\n",
       " u'E01013968',\n",
       " u'E01013969',\n",
       " u'E01006231',\n",
       " u'E01006232',\n",
       " u'E01024901',\n",
       " u'E01010688',\n",
       " u'E01010689',\n",
       " u'E01010682',\n",
       " u'E01010683',\n",
       " u'E01010680',\n",
       " u'E01010681',\n",
       " u'E01010686',\n",
       " u'E01010687',\n",
       " u'E01010684',\n",
       " u'E01010685',\n",
       " u'E01018059',\n",
       " u'E01018058',\n",
       " u'E01018057',\n",
       " u'E01018056',\n",
       " u'E01018055',\n",
       " u'E01018054',\n",
       " u'E01018053',\n",
       " u'E01018052',\n",
       " u'E01018051',\n",
       " u'E01018050',\n",
       " u'E01010530',\n",
       " u'E01010531',\n",
       " u'E01010532',\n",
       " u'E01010533',\n",
       " u'E01010534',\n",
       " u'E01010535',\n",
       " u'E01010536',\n",
       " u'E01010537',\n",
       " u'E01010538',\n",
       " u'E01010539',\n",
       " u'E01024883',\n",
       " u'E01024882',\n",
       " u'E01024881',\n",
       " u'E01024880',\n",
       " u'E01024887',\n",
       " u'E01024886',\n",
       " u'E01024885',\n",
       " u'E01024884',\n",
       " u'E01024889',\n",
       " u'E01024888',\n",
       " u'E01009885',\n",
       " u'E01011485',\n",
       " u'E01011484',\n",
       " u'E01011483',\n",
       " u'E01011482',\n",
       " u'E01011481',\n",
       " u'E01011480',\n",
       " u'E01001473',\n",
       " u'E01001472',\n",
       " u'E01001471',\n",
       " u'E01001470',\n",
       " u'E01001477',\n",
       " u'E01001476',\n",
       " u'E01011489',\n",
       " u'E01011488',\n",
       " u'E01000708',\n",
       " u'E01000709',\n",
       " u'E01000702',\n",
       " u'E01000703',\n",
       " u'E01000700',\n",
       " u'E01000701',\n",
       " u'E01000706',\n",
       " u'E01000707',\n",
       " u'E01000704',\n",
       " u'E01000705',\n",
       " u'E01015478',\n",
       " u'E01015479',\n",
       " u'E01015472',\n",
       " u'E01015473',\n",
       " u'E01015471',\n",
       " u'E01015476',\n",
       " u'E01015477',\n",
       " u'E01015474',\n",
       " u'E01015475',\n",
       " u'E01027288',\n",
       " u'E01027289',\n",
       " u'E01027284',\n",
       " u'E01027285',\n",
       " u'E01027286',\n",
       " u'E01027287',\n",
       " u'E01027280',\n",
       " u'E01027281',\n",
       " u'E01027282',\n",
       " u'E01027283',\n",
       " u'E01026625',\n",
       " u'E01026624',\n",
       " u'E01026627',\n",
       " u'E01026626',\n",
       " u'E01026621',\n",
       " u'E01026620',\n",
       " u'E01026623',\n",
       " u'E01026622',\n",
       " u'E01026629',\n",
       " u'E01026628',\n",
       " u'E01021938',\n",
       " u'E01021939',\n",
       " u'E01026357',\n",
       " u'E01021930',\n",
       " u'E01021931',\n",
       " u'E01021932',\n",
       " u'E01021933',\n",
       " u'E01021934',\n",
       " u'E01021935',\n",
       " u'E01021936',\n",
       " u'E01021937',\n",
       " u'E01012178',\n",
       " u'E01012179',\n",
       " u'E01012176',\n",
       " u'E01012177',\n",
       " u'E01012174',\n",
       " u'E01012175',\n",
       " u'E01012172',\n",
       " u'E01012173',\n",
       " u'E01012170',\n",
       " u'E01012171',\n",
       " u'E01028371',\n",
       " u'E01028370',\n",
       " u'E01028373',\n",
       " u'E01028372',\n",
       " u'E01028375',\n",
       " u'E01028374',\n",
       " u'E01028377',\n",
       " u'E01028376',\n",
       " u'E01028379',\n",
       " u'E01028378',\n",
       " u'E01017236',\n",
       " u'E01017237',\n",
       " u'E01012798',\n",
       " u'E01012799',\n",
       " u'E01012792',\n",
       " u'E01012793',\n",
       " u'E01012790',\n",
       " u'E01012791',\n",
       " u'E01012796',\n",
       " u'E01012797',\n",
       " u'E01012794',\n",
       " u'E01012795',\n",
       " u'E01011188',\n",
       " u'E01013221',\n",
       " u'E01013220',\n",
       " u'E01013223',\n",
       " u'E01013222',\n",
       " u'E01013225',\n",
       " u'E01013224',\n",
       " u'E01013227',\n",
       " u'E01013226',\n",
       " u'E01013229',\n",
       " u'E01013228',\n",
       " u'E01014790',\n",
       " u'E01014792',\n",
       " u'E01014793',\n",
       " u'E01014794',\n",
       " u'E01014795',\n",
       " u'E01014796',\n",
       " u'E01014797',\n",
       " u'E01014798',\n",
       " u'E01014799',\n",
       " u'E01011182',\n",
       " u'E01021446',\n",
       " u'E01015402',\n",
       " u'E01017239',\n",
       " u'E01015401',\n",
       " u'E01011181',\n",
       " u'E01011186',\n",
       " u'E01011187',\n",
       " u'E01011184',\n",
       " u'E01011185',\n",
       " u'E01014246',\n",
       " u'E01014247',\n",
       " u'E01014244',\n",
       " u'E01014245',\n",
       " u'E01014242',\n",
       " u'E01014243',\n",
       " u'E01014240',\n",
       " u'E01014241',\n",
       " u'E01014248',\n",
       " u'E01014249',\n",
       " u'E01031148',\n",
       " u'E01031149',\n",
       " u'E01015428',\n",
       " u'E01031140',\n",
       " u'E01031141',\n",
       " u'E01031142',\n",
       " u'E01031143',\n",
       " u'E01031144',\n",
       " u'E01031145',\n",
       " u'E01031146',\n",
       " u'E01031147',\n",
       " u'E01027235',\n",
       " u'E01019756',\n",
       " u'E01027237',\n",
       " u'E01027236',\n",
       " u'E01027231',\n",
       " u'E01027230',\n",
       " u'E01027233',\n",
       " u'E01019750',\n",
       " u'E01020939',\n",
       " u'E01010949',\n",
       " u'E01010948',\n",
       " u'E01020715',\n",
       " u'E01020714',\n",
       " u'E01020713',\n",
       " u'E01020712',\n",
       " u'E01020711',\n",
       " u'E01020710',\n",
       " u'E01010941',\n",
       " u'E01010940',\n",
       " u'E01010943',\n",
       " u'E01010942',\n",
       " u'E01010945',\n",
       " u'E01010944',\n",
       " u'E01020719',\n",
       " u'E01010946',\n",
       " u'E01022719',\n",
       " u'E01022718',\n",
       " u'E01022715',\n",
       " u'E01022714',\n",
       " u'E01022717',\n",
       " u'E01022716',\n",
       " u'E01022711',\n",
       " u'E01020931',\n",
       " u'E01022713',\n",
       " u'E01022712',\n",
       " u'E01009428',\n",
       " u'E01009429',\n",
       " u'E01020930',\n",
       " u'E01005766',\n",
       " u'E01009420',\n",
       " u'E01009421',\n",
       " u'E01009422',\n",
       " u'E01009423',\n",
       " u'E01009424',\n",
       " u'E01009425',\n",
       " u'E01009426',\n",
       " u'E01009427',\n",
       " u'E01011301',\n",
       " u'E01005760',\n",
       " u'E01033306',\n",
       " u'E01029769',\n",
       " u'E01029768',\n",
       " u'E01029765',\n",
       " u'E01029764',\n",
       " u'E01029767',\n",
       " u'E01029766',\n",
       " u'E01029761',\n",
       " u'E01029760',\n",
       " u'E01029763',\n",
       " u'E01029762',\n",
       " u'E01003109',\n",
       " u'E01003108',\n",
       " u'E01003105',\n",
       " u'E01003104',\n",
       " u'E01003107',\n",
       " u'E01003106',\n",
       " u'E01003101',\n",
       " u'E01003100',\n",
       " u'E01003102',\n",
       " u'E01006558',\n",
       " u'E01006554',\n",
       " u'E01006557',\n",
       " u'E01006556',\n",
       " u'E01006551',\n",
       " u'E01006550',\n",
       " u'E01006553',\n",
       " u'E01006552',\n",
       " u'E01032558',\n",
       " u'E01032559',\n",
       " u'E01032556',\n",
       " u'E01032557',\n",
       " u'E01032554',\n",
       " u'E01032555',\n",
       " u'E01032552',\n",
       " u'E01032553',\n",
       " u'E01032550',\n",
       " u'E01032551',\n",
       " u'E01008481',\n",
       " u'E01008480',\n",
       " u'E01008483',\n",
       " u'E01008482',\n",
       " u'E01008485',\n",
       " u'E01008484',\n",
       " u'E01008487',\n",
       " u'E01008486',\n",
       " u'E01008489',\n",
       " u'E01008488',\n",
       " u'E01029189',\n",
       " u'E01029188',\n",
       " u'E01029181',\n",
       " u'E01029180',\n",
       " u'E01029183',\n",
       " u'E01029182',\n",
       " u'E01029185',\n",
       " u'E01029184',\n",
       " u'E01029187',\n",
       " u'E01029186',\n",
       " u'E01031926',\n",
       " u'E01031927',\n",
       " u'E01031924',\n",
       " u'E01031925',\n",
       " u'E01031922',\n",
       " u'E01031923',\n",
       " u'E01031920',\n",
       " u'E01031921',\n",
       " u'E01031928',\n",
       " u'E01031929',\n",
       " u'E01005819',\n",
       " u'E01005818',\n",
       " u'E01033200',\n",
       " u'E01033203',\n",
       " u'E01033202',\n",
       " u'E01033205',\n",
       " u'E01009995',\n",
       " ...]"
      ]
     },
     "execution_count": 47,
     "metadata": {},
     "output_type": "execute_result"
    }
   ],
   "source": [
    "monthly_borough_dosage_new['202002']['anxiety'].keys()"
   ]
  },
  {
   "cell_type": "code",
   "execution_count": 49,
   "metadata": {
    "ExecuteTime": {
     "end_time": "2021-06-01T19:31:59.635948Z",
     "start_time": "2021-06-01T19:31:59.627400Z"
    }
   },
   "outputs": [
    {
     "data": {
      "text/plain": [
       "4726.474697104144"
      ]
     },
     "execution_count": 49,
     "metadata": {},
     "output_type": "execute_result"
    }
   ],
   "source": [
    "monthly_borough_dosage_new['202002']['anxiety']['E01015028']"
   ]
  },
  {
   "cell_type": "code",
   "execution_count": 50,
   "metadata": {
    "ExecuteTime": {
     "end_time": "2021-06-01T19:35:21.275646Z",
     "start_time": "2021-06-01T19:35:21.267844Z"
    },
    "collapsed": true
   },
   "outputs": [],
   "source": [
    "monthly_borough_dosage_total= monthly_borough_dosage_new.copy()\n",
    "# for yyyymm in tqdm(monthly_borough_dosage_total):\n",
    "#     for d in monthly_borough_dosage_total[yyyymm]:\n",
    "#         for lsoa in  monthly_borough_dosage_total[yyyymm][d]:\n",
    "#             monthly_borough_dosage_total[yyyymm][d][lsoa] = (monthly_borough_dosage_total[yyyymm][d][lsoa]/1000.0)*LSOA_patient_pop[lsoa]"
   ]
  },
  {
   "cell_type": "code",
   "execution_count": 54,
   "metadata": {
    "ExecuteTime": {
     "end_time": "2021-06-02T08:54:37.332408Z",
     "start_time": "2021-06-02T08:42:08.351963Z"
    }
   },
   "outputs": [
    {
     "name": "stderr",
     "output_type": "stream",
     "text": [
      "\n",
      "  0%|          | 0/11 [00:00<?, ?it/s]\u001b[A\n",
      "  9%|▉         | 1/11 [01:06<11:09, 66.98s/it]\u001b[A\n",
      " 18%|█▊        | 2/11 [02:14<10:04, 67.11s/it]\u001b[A\n",
      " 27%|██▋       | 3/11 [03:24<09:04, 68.09s/it]\u001b[A\n",
      " 36%|███▋      | 4/11 [04:31<07:54, 67.83s/it]\u001b[A\n",
      " 45%|████▌     | 5/11 [05:39<06:46, 67.83s/it]\u001b[A\n",
      " 55%|█████▍    | 6/11 [06:49<05:41, 68.35s/it]\u001b[A\n",
      " 64%|██████▎   | 7/11 [08:00<04:36, 69.05s/it]\u001b[A\n",
      " 73%|███████▎  | 8/11 [09:07<03:25, 68.51s/it]\u001b[A\n",
      " 82%|████████▏ | 9/11 [10:14<02:16, 68.14s/it]\u001b[A\n",
      " 91%|█████████ | 10/11 [11:21<01:07, 67.84s/it]\u001b[A\n",
      "100%|██████████| 11/11 [12:28<00:00, 67.65s/it]\u001b[A"
     ]
    }
   ],
   "source": [
    "for disease in tqdm(disease_drug_map.keys()):\n",
    "    disease_dict = {'YYYYMM':[] , 'LSOA_CODE' : [] , 'Total_prescriptions' : [] ,'Dosage_ratio' :[] , 'Patient_count' : []}\n",
    "    for yyyymm in monthly_borough_dosage_total:\n",
    "        for LSOA_CODE in monthly_borough_dosage_total[yyyymm][disease]:\n",
    "            if LSOA_CODE[0] == 'E':\n",
    "                disease_dict['YYYYMM'].append(yyyymm)\n",
    "                disease_dict['LSOA_CODE'].append(LSOA_CODE)\n",
    "                disease_dict['Total_prescriptions'].append(monthly_borough_dosage_total[yyyymm][disease][LSOA_CODE])\n",
    "                disease_dict['Dosage_ratio'].append(monthly_borough_costs_new[yyyymm][disease][LSOA_CODE])\n",
    "                disease_dict['Patient_count'].append(LSOA_patient_pop[LSOA_CODE])\n",
    "    disease_df = pd.DataFrame.from_dict(disease_dict)\n",
    "    filename = 'data_prep/'+disease+'_V2.csv.gz'\n",
    "    disease_df.to_csv(filename,index=False,compression='gzip')\n",
    "            "
   ]
  },
  {
   "cell_type": "code",
   "execution_count": null,
   "metadata": {
    "ExecuteTime": {
     "end_time": "2021-06-01T09:05:34.557448Z",
     "start_time": "2021-06-01T09:05:34.523001Z"
    },
    "collapsed": true
   },
   "outputs": [],
   "source": [
    "disease_drug_map"
   ]
  },
  {
   "cell_type": "code",
   "execution_count": null,
   "metadata": {
    "ExecuteTime": {
     "end_time": "2021-06-01T09:29:27.550595Z",
     "start_time": "2021-06-01T09:29:27.543090Z"
    },
    "collapsed": true
   },
   "outputs": [],
   "source": [
    "\n",
    "for bnf in disease_drug_map['anxiety']:\n",
    "    print(DiseaseDrugs[bnf])"
   ]
  },
  {
   "cell_type": "code",
   "execution_count": null,
   "metadata": {
    "ExecuteTime": {
     "end_time": "2021-05-28T19:02:52.175337Z",
     "start_time": "2021-05-28T19:02:52.168743Z"
    },
    "collapsed": true
   },
   "outputs": [],
   "source": [
    "# json.dump(monthly_borough_dosage_new,open('../mappings/pre_post_monthy_presc_pre072019.json','w'))"
   ]
  },
  {
   "cell_type": "code",
   "execution_count": null,
   "metadata": {
    "ExecuteTime": {
     "end_time": "2021-05-12T13:45:13.994722Z",
     "start_time": "2021-05-12T13:45:13.566480Z"
    },
    "collapsed": true
   },
   "outputs": [],
   "source": [
    "# json.dump(monthly_borough_costs_new,open('../mappings/pre_post_monthy_cost_pre072019.json','w'))"
   ]
  },
  {
   "cell_type": "code",
   "execution_count": null,
   "metadata": {
    "ExecuteTime": {
     "end_time": "2021-05-12T11:37:10.666310Z",
     "start_time": "2021-05-12T11:37:10.489651Z"
    },
    "collapsed": true
   },
   "outputs": [],
   "source": [
    "# json.dump(monthly_borough_dosage_new,open('../mappings/pre_post_monthy_presc_post072019.json','w'))"
   ]
  },
  {
   "cell_type": "code",
   "execution_count": null,
   "metadata": {
    "ExecuteTime": {
     "end_time": "2021-05-12T11:37:33.170442Z",
     "start_time": "2021-05-12T11:37:33.162580Z"
    },
    "collapsed": true
   },
   "outputs": [],
   "source": [
    "# json.dump(monthly_borough_costs_new,open('../mappings/pre_post_monthy_cost_post072019.json','w'))"
   ]
  },
  {
   "cell_type": "code",
   "execution_count": null,
   "metadata": {
    "ExecuteTime": {
     "end_time": "2021-05-12T13:47:44.072755Z",
     "start_time": "2021-05-12T13:47:43.902375Z"
    },
    "collapsed": true
   },
   "outputs": [],
   "source": [
    "monthly_dosage_BL = json.load(open('../mappings/pre_post_monthy_presc_pre072019.json','r'))\n",
    "monthly_dosage_COVID = json.load(open('../mappings/pre_post_monthy_presc_post072019.json','r'))"
   ]
  },
  {
   "cell_type": "code",
   "execution_count": null,
   "metadata": {
    "ExecuteTime": {
     "end_time": "2021-05-12T13:47:52.133305Z",
     "start_time": "2021-05-12T13:47:52.124687Z"
    },
    "collapsed": true
   },
   "outputs": [],
   "source": [
    "monthly_dosage_COVID['202001'].keys()"
   ]
  },
  {
   "cell_type": "code",
   "execution_count": null,
   "metadata": {
    "ExecuteTime": {
     "end_time": "2021-05-12T13:48:27.007799Z",
     "start_time": "2021-05-12T13:48:26.995285Z"
    },
    "collapsed": true
   },
   "outputs": [],
   "source": [
    "BL_months = [\n",
    "             #['201101', '201102', '201103', '201104', '201105', '201106', '201107', '201108', '201109', '201110', '201111', '201112'],\n",
    "             #['201201', '201202', '201203', '201204', '201205', '201206', '201207', '201208', '201209', '201210', '201211', '201212'],\n",
    "             #['201301', '201302', '201303', '201304', '201305', '201306', '201307', '201308', '201309', '201310', '201311', '201312'],\n",
    "             #['201401', '201402', '201403', '201404', '201405', '201406', '201407', '201408', '201409', '201410', '201411', '201412'],\n",
    "             ['201501', '201502', '201503', '201504', '201505', '201506', '201507', '201508', '201509', '201510', '201511', '201512'],\n",
    "             ['201601', '201602', '201603', '201604', '201605', '201606', '201607', '201608', '201609', '201610', '201611', '201612'],\n",
    "             ['201701', '201702', '201703', '201704', '201705', '201706', '201707', '201708', '201709', '201710', '201711', '201712'],\n",
    "             ['201801', '201802', '201803', '201804', '201805', '201806', '201807', '201808', '201809', '201810', '201811', '201812']]\n",
    "#             \n",
    "\n",
    "COVID_months = ['202001', '202002', '202003', '202004', '202005', '202006', '202007', '202008', '202009', '202010', '202011', '202012']"
   ]
  },
  {
   "cell_type": "code",
   "execution_count": null,
   "metadata": {
    "ExecuteTime": {
     "end_time": "2021-05-12T13:48:41.809560Z",
     "start_time": "2021-05-12T13:48:41.804150Z"
    },
    "collapsed": true
   },
   "outputs": [],
   "source": [
    "print sorted(monthly_dosage_COVID['202007']['diabetes'].keys())"
   ]
  },
  {
   "cell_type": "code",
   "execution_count": null,
   "metadata": {
    "ExecuteTime": {
     "end_time": "2021-05-19T14:17:29.284037Z",
     "start_time": "2021-05-19T14:17:29.249090Z"
    },
    "collapsed": true
   },
   "outputs": [],
   "source": [
    "from collections import OrderedDict\n",
    "\n",
    "d_l = ['anxiety',\n",
    " 'heart failure',\n",
    " 'rheumatoid',\n",
    " 'epilepsy',\n",
    " 'dementia',\n",
    " 'stroke',\n",
    " 'hypertension',\n",
    " 'diabetes',\n",
    " 'chronic obstructive pulmonary disease',\n",
    "#  'obesity',\n",
    " 'coronary artery disease',\n",
    "#  'kidney disease',\n",
    " 'depression',\n",
    " 'osteoporosis']\n",
    "\n",
    "# d_l = ['anxiety',\n",
    "#  'depression']\n",
    "month_names = ['Jan','Feb','Mar','Apr','May','Jun','Jul','Aug','Sep','Oct','Nov','Dec']\n",
    "# selected_disease = 'stroke'\n",
    "city = 'London'\n",
    "\n",
    "diseaseStats = {}\n",
    "for d in d_l:\n",
    "    selected_disease = d\n",
    "    monthly_BL_numbers = OrderedDict()\n",
    "    for month in range(len(BL_months[0])):\n",
    "        monthly_BL_numbers[month_names[month]] = []\n",
    "        for year in range(len(BL_months)):\n",
    "            if city in monthly_dosage_BL[BL_months[year][month]][selected_disease]:\n",
    "                monthly_BL_numbers[month_names[month]].append(monthly_dosage_BL[BL_months[year][month]][selected_disease][city])\n",
    "            else:\n",
    "                print(\"no prescriptions for disease \" + d)\n",
    "                monthly_BL_numbers[month_names[month]].append(0.0)\n",
    "    \n",
    "    diseaseStats[d] = monthly_BL_numbers  \n",
    "        \n",
    "    \n"
   ]
  },
  {
   "cell_type": "code",
   "execution_count": null,
   "metadata": {
    "ExecuteTime": {
     "end_time": "2021-05-19T14:17:35.798622Z",
     "start_time": "2021-05-19T14:17:35.794489Z"
    },
    "collapsed": true
   },
   "outputs": [],
   "source": [
    "# monthly_dosage_COVID[COVID_months[0]]['depression'][city]"
   ]
  },
  {
   "cell_type": "code",
   "execution_count": null,
   "metadata": {
    "ExecuteTime": {
     "end_time": "2021-05-19T14:17:41.967954Z",
     "start_time": "2021-05-19T14:17:41.959688Z"
    },
    "collapsed": true
   },
   "outputs": [],
   "source": [
    "diseaseStats.keys()"
   ]
  },
  {
   "cell_type": "code",
   "execution_count": null,
   "metadata": {
    "collapsed": true
   },
   "outputs": [],
   "source": []
  },
  {
   "cell_type": "code",
   "execution_count": null,
   "metadata": {
    "ExecuteTime": {
     "end_time": "2021-05-19T14:17:48.253660Z",
     "start_time": "2021-05-19T14:17:48.249656Z"
    },
    "collapsed": true
   },
   "outputs": [],
   "source": [
    "# diseaseStats['depression']"
   ]
  },
  {
   "cell_type": "code",
   "execution_count": null,
   "metadata": {
    "ExecuteTime": {
     "end_time": "2021-05-19T14:17:54.612453Z",
     "start_time": "2021-05-19T14:17:54.593610Z"
    },
    "collapsed": true
   },
   "outputs": [],
   "source": [
    "diseaseZ_scores = {}\n",
    "for d in d_l:\n",
    "    Z_scores = []\n",
    "    for i in range(len(COVID_months)):\n",
    "        mean = np.mean(diseaseStats[d][month_names[i]])\n",
    "        sigma = np.std(diseaseStats[d][month_names[i]])\n",
    "        if sigma > 0:\n",
    "            if city in monthly_dosage_COVID[COVID_months[i]][d]:\n",
    "                Z_scores.append(10 + (monthly_dosage_COVID[COVID_months[i]][d][city]-mean)/sigma)\n",
    "            else:\n",
    "                print(\"no prescriptions for disease \" + d)\n",
    "                Z_scores.append(5 + (-mean)/sigma)\n",
    "    diseaseZ_scores[d] = Z_scores"
   ]
  },
  {
   "cell_type": "code",
   "execution_count": null,
   "metadata": {
    "ExecuteTime": {
     "end_time": "2021-05-19T14:18:00.822684Z",
     "start_time": "2021-05-19T14:18:00.818477Z"
    },
    "collapsed": true
   },
   "outputs": [],
   "source": [
    "# diseaseZ_scores"
   ]
  },
  {
   "cell_type": "code",
   "execution_count": null,
   "metadata": {
    "ExecuteTime": {
     "end_time": "2021-05-19T14:18:07.668499Z",
     "start_time": "2021-05-19T14:18:07.095091Z"
    },
    "collapsed": true
   },
   "outputs": [],
   "source": [
    "fig, ax = plt.subplots()\n",
    "fig.set_size_inches(16, 12)\n",
    "sns.set_style(\"white\")\n",
    "legend = []\n",
    "for d in diseaseZ_scores:\n",
    "    sns.lineplot(y=diseaseZ_scores[d],x=np.arange(0,len(diseaseZ_scores[d]),1))\n",
    "    legend.append('Z for ' + d)\n",
    "ax = plt.gca()\n",
    "\n",
    "plt.xticks(np.arange(0,12,1),month_names,rotation=90)\n",
    "\n",
    "plt.legend(legend, fontsize = 10)\n",
    "plt.xlabel(\"Months of the year 2020\",fontsize=20)\n",
    "plt.ylabel(\"Z scores for prescriptions per 1000\",fontsize=20)\n",
    "plt.title(\"Prescription Z scores for city of \" + city, fontsize=20)"
   ]
  },
  {
   "cell_type": "code",
   "execution_count": null,
   "metadata": {
    "ExecuteTime": {
     "end_time": "2021-05-12T14:25:32.153969Z",
     "start_time": "2021-05-12T14:25:30.756075Z"
    },
    "collapsed": true
   },
   "outputs": [],
   "source": [
    "monthly_dosage_COVID"
   ]
  },
  {
   "cell_type": "code",
   "execution_count": null,
   "metadata": {
    "ExecuteTime": {
     "end_time": "2021-05-19T14:19:05.433040Z",
     "start_time": "2021-05-19T14:19:05.410166Z"
    },
    "collapsed": true
   },
   "outputs": [],
   "source": [
    "city = 'London'\n",
    "\n",
    "d_l = ['anxiety',\n",
    " 'heart failure',\n",
    " 'rheumatoid',\n",
    " 'epilepsy',\n",
    " 'dementia',\n",
    " 'stroke',\n",
    " 'hypertension',\n",
    " 'diabetes',\n",
    " 'chronic obstructive pulmonary disease',\n",
    "#  'obesity',\n",
    " 'coronary artery disease',\n",
    "#  'kidney disease',\n",
    " 'depression',\n",
    " 'osteoporosis']\n",
    "\n",
    "# d_l = ['anxiety' , 'depression']\n",
    "\n",
    "all_covid_months = ['201907','201908','201909','201910','201911','201912','202001', '202002', '202003', '202004', '202005', \n",
    "                    '202006', '202007', '202008', '202009', '202010', '202011', '202012','202101','202102',]\n",
    "\n",
    "disease_timelines = {}\n",
    "months = monthly_dosage_COVID.keys\n",
    "for disease in d_l:\n",
    "    disease_timelines[disease] = []\n",
    "    for month in monthly_dosage_COVID:\n",
    "        if city in monthly_dosage_COVID[month][disease]:\n",
    "            disease_timelines[disease].append(    monthly_dosage_COVID[month][disease][city] )"
   ]
  },
  {
   "cell_type": "code",
   "execution_count": null,
   "metadata": {
    "ExecuteTime": {
     "end_time": "2021-05-19T14:19:11.827218Z",
     "start_time": "2021-05-19T14:19:11.822973Z"
    },
    "collapsed": true
   },
   "outputs": [],
   "source": [
    "# disease_timelines"
   ]
  },
  {
   "cell_type": "code",
   "execution_count": null,
   "metadata": {
    "ExecuteTime": {
     "end_time": "2021-05-19T14:21:45.484387Z",
     "start_time": "2021-05-19T14:21:44.654084Z"
    },
    "collapsed": true
   },
   "outputs": [],
   "source": [
    "fig, ax = plt.subplots()\n",
    "fig.set_size_inches(16, 12)\n",
    "sns.set_style(\"white\")\n",
    "legend = []\n",
    "for d in disease_timelines:\n",
    "    sns.lineplot(y=disease_timelines[d],x=np.arange(0,len(disease_timelines[d]),1))\n",
    "    legend.append('Prescriptions for ' + d)\n",
    "ax = plt.gca()\n",
    "\n",
    "plt.xticks(np.arange(0,20,1),all_covid_months,rotation=90)\n",
    "\n",
    "plt.legend(legend, fontsize = 10)\n",
    "plt.xlabel(\"Months of the year 2020\",fontsize=20)\n",
    "plt.ylabel(\"Z scores for prescriptions per 1000\",fontsize=20)\n",
    "plt.title(\"Prescriptions for city of \" + city, fontsize=20)"
   ]
  },
  {
   "cell_type": "code",
   "execution_count": null,
   "metadata": {
    "ExecuteTime": {
     "end_time": "2021-05-19T14:19:40.829422Z",
     "start_time": "2021-05-19T14:19:39.848119Z"
    },
    "collapsed": true
   },
   "outputs": [],
   "source": [
    "fig, ax = plt.subplots()\n",
    "fig.set_size_inches(16, 12)\n",
    "sns.set_style(\"white\")\n",
    "legend = []\n",
    "for d in disease_timelines:\n",
    "    if len(disease_timelines[d])> 0:\n",
    "        mean = (np.mean(disease_timelines[d]))\n",
    "        sigma = (np.std(disease_timelines[d]))\n",
    "        Z_scores = [float(k - mean)/sigma for k in disease_timelines[d]]\n",
    "        sns.lineplot(y=Z_scores,x=np.arange(0,len(disease_timelines[d]),1))\n",
    "        legend.append('Vanilla Z score for ' + d)\n",
    "ax = plt.gca()\n",
    "\n",
    "plt.xticks(np.arange(0,20,1),all_covid_months,rotation=90)\n",
    "\n",
    "plt.legend(legend, fontsize = 10)\n",
    "plt.xlabel(\"Months of the year 2020\",fontsize=20)\n",
    "plt.ylabel(\"vanilla Z scores for prescriptions per 1000\",fontsize=20)\n",
    "plt.title(\"Prescription Z scores for city of \" + city, fontsize=20)"
   ]
  },
  {
   "cell_type": "code",
   "execution_count": null,
   "metadata": {
    "collapsed": true
   },
   "outputs": [],
   "source": []
  }
 ],
 "metadata": {
  "kernelspec": {
   "display_name": "Python [conda env:env_py2]",
   "language": "python",
   "name": "conda-env-env_py2-py"
  },
  "language_info": {
   "codemirror_mode": {
    "name": "ipython",
    "version": 2
   },
   "file_extension": ".py",
   "mimetype": "text/x-python",
   "name": "python",
   "nbconvert_exporter": "python",
   "pygments_lexer": "ipython2",
   "version": "2.7.16"
  },
  "latex_envs": {
   "LaTeX_envs_menu_present": true,
   "autoclose": false,
   "autocomplete": true,
   "bibliofile": "biblio.bib",
   "cite_by": "apalike",
   "current_citInitial": 1,
   "eqLabelWithNumbers": true,
   "eqNumInitial": 1,
   "hotkeys": {
    "equation": "Ctrl-E",
    "itemize": "Ctrl-I"
   },
   "labels_anchors": false,
   "latex_user_defs": false,
   "report_style_numbering": false,
   "user_envs_cfg": false
  },
  "toc": {
   "base_numbering": 1,
   "nav_menu": {},
   "number_sections": true,
   "sideBar": true,
   "skip_h1_title": false,
   "title_cell": "Table of Contents",
   "title_sidebar": "Contents",
   "toc_cell": false,
   "toc_position": {},
   "toc_section_display": true,
   "toc_window_display": false
  },
  "varInspector": {
   "cols": {
    "lenName": 16,
    "lenType": 16,
    "lenVar": 40
   },
   "kernels_config": {
    "python": {
     "delete_cmd_postfix": "",
     "delete_cmd_prefix": "del ",
     "library": "var_list.py",
     "varRefreshCmd": "print(var_dic_list())"
    },
    "r": {
     "delete_cmd_postfix": ") ",
     "delete_cmd_prefix": "rm(",
     "library": "var_list.r",
     "varRefreshCmd": "cat(var_dic_list()) "
    }
   },
   "types_to_exclude": [
    "module",
    "function",
    "builtin_function_or_method",
    "instance",
    "_Feature"
   ],
   "window_display": false
  }
 },
 "nbformat": 4,
 "nbformat_minor": 2
}
