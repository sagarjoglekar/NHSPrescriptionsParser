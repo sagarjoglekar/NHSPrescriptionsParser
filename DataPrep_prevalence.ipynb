{
 "cells": [
  {
   "cell_type": "code",
   "execution_count": null,
   "metadata": {
    "ExecuteTime": {
     "end_time": "2021-06-14T09:36:38.970901Z",
     "start_time": "2021-06-14T09:36:34.536965Z"
    },
    "collapsed": true
   },
   "outputs": [],
   "source": [
    "import pandas as pd\n",
    "import geopandas as gp \n",
    "import json\n",
    "from glob import glob\n",
    "import numpy as np\n",
    "import matplotlib.pyplot as plt\n",
    "import seaborn as sns\n",
    "\n",
    "sns.set(rc={'figure.figsize':(12,8)})\n",
    "%matplotlib inline\n",
    "from tqdm import tqdm\n",
    "import glob\n",
    "import numpy as np\n",
    "from scipy.stats import pearsonr\n",
    "from scipy.stats import linregress\n",
    "import pickle as pkl\n",
    "import networkx as nx "
   ]
  },
  {
   "cell_type": "code",
   "execution_count": null,
   "metadata": {
    "ExecuteTime": {
     "end_time": "2021-06-14T09:36:40.188175Z",
     "start_time": "2021-06-14T09:36:38.981488Z"
    },
    "collapsed": true
   },
   "outputs": [],
   "source": [
    "drug_association_graph = nx.read_gexf('../mappings/drug_association_graph.gexf')\n",
    "drug_cat_association_graph = nx.read_gexf('../mappings/category_association_graph.gexf')"
   ]
  },
  {
   "cell_type": "code",
   "execution_count": null,
   "metadata": {
    "ExecuteTime": {
     "end_time": "2021-06-14T09:36:40.202383Z",
     "start_time": "2021-06-14T09:36:40.198299Z"
    },
    "collapsed": true
   },
   "outputs": [],
   "source": [
    "# with open('../mappings/Bipartite_Drug_graph.pkl','rb') as f:\n",
    "#     drug_association_graph  = pkl.load(f)\n",
    "\n",
    "# with open('../mappings/Bipartite_Drug_category_graph.pkl','rb') as f:\n",
    "#     drug_cat_association_graph  = pkl.load(f)"
   ]
  },
  {
   "cell_type": "code",
   "execution_count": null,
   "metadata": {
    "collapsed": true
   },
   "outputs": [],
   "source": []
  },
  {
   "cell_type": "code",
   "execution_count": null,
   "metadata": {
    "ExecuteTime": {
     "end_time": "2021-06-14T09:36:40.242012Z",
     "start_time": "2021-06-14T09:36:40.211330Z"
    },
    "collapsed": true
   },
   "outputs": [],
   "source": [
    "# nx.write_gexf(drug_association_graph, \"../mappings/drug_association_graph.gexf\")"
   ]
  },
  {
   "cell_type": "code",
   "execution_count": null,
   "metadata": {
    "ExecuteTime": {
     "end_time": "2021-06-14T09:36:40.295816Z",
     "start_time": "2021-06-14T09:36:40.248281Z"
    },
    "collapsed": true
   },
   "outputs": [],
   "source": [
    "# nx.write_gexf(drug_cat_association_graph, \"../mappings/category_association_graph.gexf\")"
   ]
  },
  {
   "cell_type": "code",
   "execution_count": null,
   "metadata": {
    "ExecuteTime": {
     "end_time": "2021-06-14T09:36:41.414730Z",
     "start_time": "2021-06-14T09:36:40.303497Z"
    },
    "collapsed": true
   },
   "outputs": [],
   "source": [
    "def cleanStringofUTF(string):\n",
    "    my_str_as_bytes = str.encode(string,'utf-8')\n",
    "    cleaned = str(my_str_as_bytes).replace('\\xe8','e').replace('\\xf6','o')\n",
    "    return cleaned\n",
    "\n",
    "def enrichdrugs(chem_dict , drugs):\n",
    "    diabetes_drug_words = [drugs[k]['name'].lower() for k in drugs]\n",
    "    for drug in chem_dict:\n",
    "        Name = chem_dict[drug]['name'].replace('(','').replace(')','')\n",
    "        slot1 = Name.lower().split('/')\n",
    "        slot2 = Name.lower().split(' ')\n",
    "        slot3 = Name.lower().split(' & ')\n",
    "        common1 = set(diabetes_drug_words).intersection(slot1)\n",
    "        common2 = set(diabetes_drug_words).intersection(slot2)\n",
    "        common3 = set(diabetes_drug_words).intersection(slot3)\n",
    "        \n",
    "        if len(common1) > 0 or len(common2) > 0 or len(common3) > 0:\n",
    "#             print common1 , common2 , common3\n",
    "            drugs[chem_dict[drug]['code']] = {'disease':'' , 'disease_given_drug':0.0 , 'matched_disease':'', 'name':chem_dict[drug]['name'].strip() }\n",
    "\n",
    "            \n",
    "            \n",
    "def makeChemDict(BNF_Chem):\n",
    "    chem_dict = {}\n",
    "    for index, row in BNF_Chem.iterrows():\n",
    "        chem_dict[row['UNII_drugbank']] = {}\n",
    "        chem_dict[row['UNII_drugbank']]['name'] = row['NAME']\n",
    "        chem_dict[row['UNII_drugbank']]['code'] = row['BNF_code']\n",
    "    return chem_dict\n",
    "    \n",
    "def getDrugCategory(categorylist, BNF_Chem, drugbankDict):\n",
    "    allMatched = []\n",
    "    drugs = {}\n",
    "    chem_dict = makeChemDict(BNF_Chem)\n",
    "    \n",
    "    for k in drugbankDict:\n",
    "        if len(drugbankDict[k]['Categories']) > 0:\n",
    "            for cat in drugbankDict[k]['Categories']:\n",
    "                matched_memo = []\n",
    "                catString = cat.values()[0]#.split('\\u2014')[-1]\n",
    "                t = catString.lower().strip()\n",
    "                for categoryString in categorylist:\n",
    "                    categoryString = categoryString.lower()\n",
    "                    if t.find(categoryString) >= 0:\n",
    "                        matched_memo.append(categoryString)\n",
    "                if k in chem_dict:\n",
    "                    if len(matched_memo) > 0:# == len(categorylist):\n",
    "                        allMatched.append(k)\n",
    "#                         print chem_dict[k]\n",
    "                        drugs[chem_dict[k]['code']] = {}\n",
    "                        drugs[chem_dict[k]['code']]['name'] = chem_dict[k]['name']\n",
    "                        drugs[chem_dict[k]['code']]['matched_cat'] = categorylist\n",
    "    enrichdrugs(chem_dict,drugs)               \n",
    "    return list(set(allMatched)) , drugs\n",
    "\n",
    "\n",
    "def getDrugforDiseaseDrugbank(categorylist, BNF_Chem, drugbankDict):\n",
    "    allMatched = []\n",
    "    drugs = {}\n",
    "    chem_dict = makeChemDict(BNF_Chem)\n",
    "    \n",
    "    for k in drugbankDict:\n",
    "        if len(drugbankDict[k]['Associations']) > 0:\n",
    "            for cat in drugbankDict[k]['Associations']:\n",
    "                matched_memo = []\n",
    "                catString = cat.values()[0]\n",
    "                t = catString.lower().strip()\n",
    "                for categoryString in categorylist:\n",
    "                    categoryString = categoryString.lower()\n",
    "                    if t.find(categoryString) >= 0:\n",
    "                        matched_memo.append(categoryString)\n",
    "                if k in chem_dict:\n",
    "                    if len(matched_memo) > 0:\n",
    "                        allMatched.append(k)\n",
    "#                         print chem_dict[k]\n",
    "                        drugs[chem_dict[k]['code']] = {}\n",
    "                        drugs[chem_dict[k]['code']]['name'] = chem_dict[k]['name']\n",
    "                        drugs[chem_dict[k]['code']]['matched_cat'] = categorylist\n",
    "    enrichdrugs(chem_dict,drugs)               \n",
    "    return  allMatched , drugs\n",
    "\n",
    "\n",
    "def findDrugsForDisease(Graph, Disease, BNF_Chem ):#,threshProb):\n",
    "    chem_dict = makeChemDict(BNF_Chem)\n",
    "    drugs = {}\n",
    "    for e in Graph.edges(data=True):\n",
    "        if (cleanStringofUTF(e[1]).lower().find(Disease.lower()) >=0) or (cleanStringofUTF(e[0]).lower().find(Disease.lower()) >= 0) :\n",
    "            drugNode = ''\n",
    "            matchedDisease = ''\n",
    "            if Graph.node[e[0]]['type'] == 'symptom':\n",
    "                drugNode = e[1]\n",
    "                matchedDisease = e[0]\n",
    "            else:\n",
    "                drugNode = e[0]\n",
    "                matchedDisease = e[1]\n",
    "            drugs[Graph.node[drugNode]['Id']] = {}\n",
    "            drugs[Graph.node[drugNode]['Id']]['name'] = drugNode\n",
    "            drugs[Graph.node[drugNode]['Id']]['matched_disease'] = matchedDisease\n",
    "            drugs[Graph.node[drugNode]['Id']]['disease'] = Disease\n",
    "    enrichdrugs(chem_dict,drugs)\n",
    "    return drugs\n",
    "\n",
    "\n",
    "def generateConfidence(drugs,Graph):\n",
    "    shared = []\n",
    "    All = []\n",
    "    denom = max(Graph.degree().values())\n",
    "    for d in drugs:\n",
    "        name = drugs[d]['name']\n",
    "        for e in Graph.edges(data=True):\n",
    "            if Graph.node[e[0]]['type'] == 'symptom':\n",
    "                if e[1] == name:\n",
    "                    shared.append(Graph.degree()[e[1]]-1)\n",
    "                else:\n",
    "                    continue\n",
    "            else:\n",
    "                \n",
    "                if e[0] == name:\n",
    "                    shared.append(Graph.degree()[e[0]]-1)\n",
    "                else:\n",
    "                    continue\n",
    "#     shared = [float(k) for k in shared]\n",
    "    num = [k for k in shared if k > 1]\n",
    "\n",
    "    return float(len(num)+1.0)/float(len(shared)+1.0)\n",
    "#     return float(len(num))/float(len(shared)) * 10.0\n",
    "#     return len(num)\n",
    "                \n",
    "                \n",
    "def findDrugsForCategory(Graph, Cat, BNF_Chem ):#,threshProb):\n",
    "    chem_dict = makeChemDict(BNF_Chem)\n",
    "    drugs = {}\n",
    "    for e in Graph.edges(data=True):\n",
    "        if (cleanStringofUTF(e[1]).lower().find(Cat.lower()) >=0) or (cleanStringofUTF(e[0]).lower().find(Cat.lower()) >= 0) :\n",
    "            drugNode = ''\n",
    "            matchedDisease = ''\n",
    "            if Graph.node[e[0]]['type'] == 'category':\n",
    "                drugNode = e[1]\n",
    "                matchedDisease = e[0]\n",
    "            else:\n",
    "                drugNode = e[0]\n",
    "                matchedDisease = e[1]\n",
    "#             print Graph.node[drugNode]['Id']\n",
    "            drugs[Graph.node[drugNode]['Id']] = {}\n",
    "            drugs[Graph.node[drugNode]['Id']]['name'] = drugNode\n",
    "            drugs[Graph.node[drugNode]['Id']]['matched_cat'] = matchedDisease\n",
    "            drugs[Graph.node[drugNode]['Id']]['category'] = Cat\n",
    "    enrichdrugs(chem_dict,drugs)\n",
    "    return drugs\n"
   ]
  },
  {
   "cell_type": "code",
   "execution_count": null,
   "metadata": {
    "ExecuteTime": {
     "end_time": "2021-06-14T09:36:41.463528Z",
     "start_time": "2021-06-14T09:36:41.422534Z"
    }
   },
   "outputs": [],
   "source": [
    "files = glob.glob('../../BL_Work/openPrescribe/serialized/*.gz')\n",
    "print(files)"
   ]
  },
  {
   "cell_type": "code",
   "execution_count": null,
   "metadata": {
    "ExecuteTime": {
     "end_time": "2021-06-14T09:36:49.894287Z",
     "start_time": "2021-06-14T09:36:41.471934Z"
    },
    "collapsed": true
   },
   "outputs": [],
   "source": [
    "chem = pd.read_csv('../mappings/CHEM_MASTER_MAP.csv')\n",
    "len(chem)\n",
    "\n",
    "# chem = chem.dropna()\n",
    "\n",
    "matched = chem[chem['UNII_drugbank']!='[]']\n",
    "\n",
    "matchedMap = {}\n",
    "for index,row in matched.iterrows():\n",
    "    if row['UNII_drugbank'] not in matchedMap:\n",
    "         matchedMap[row['UNII_drugbank']] = []\n",
    "    matchedMap[row['UNII_drugbank']].append(row['BNF_code'])\n",
    "\n",
    "diseases = [\n",
    " \"anxiety\",\n",
    " \"rheumatoid\",\n",
    " \"osteoporosis\",\n",
    " \"depression\",\n",
    " \"diabetes\",\n",
    " \"stroke\",\n",
    " \"hypertension\",\n",
    " \"chronic obstructive pulmonary disease\", \n",
    " \"dementia\",\n",
    " \"asthma\",\n",
    " \"sleeplessness\",\n",
    "]\n",
    "\n",
    "DiseaseDrugs = {}\n",
    "for d in diseases:\n",
    "    drugs = findDrugsForDisease(drug_association_graph,d ,chem)\n",
    "#     _ , drugs = getDrugforDiseaseDrugbank([d] ,chem,drugbank_dict)\n",
    "    for drug in drugs:\n",
    "        DiseaseDrugs[drug] = {}\n",
    "        DiseaseDrugs[drug]['chemName'] = drugs[drug]['name']\n",
    "        DiseaseDrugs[drug]['disease'] = d"
   ]
  },
  {
   "cell_type": "code",
   "execution_count": null,
   "metadata": {
    "ExecuteTime": {
     "end_time": "2021-06-14T09:36:49.926404Z",
     "start_time": "2021-06-14T09:36:49.923738Z"
    },
    "collapsed": true
   },
   "outputs": [],
   "source": [
    "# findDrugsForDisease(drug_association_graph,'sleeplessness',chem)"
   ]
  },
  {
   "cell_type": "code",
   "execution_count": null,
   "metadata": {
    "ExecuteTime": {
     "end_time": "2021-06-14T09:36:49.976587Z",
     "start_time": "2021-06-14T09:36:49.946326Z"
    }
   },
   "outputs": [],
   "source": [
    "DiseaseDrugs"
   ]
  },
  {
   "cell_type": "code",
   "execution_count": null,
   "metadata": {
    "ExecuteTime": {
     "end_time": "2021-06-14T09:36:50.016213Z",
     "start_time": "2021-06-14T09:36:49.995717Z"
    },
    "collapsed": true
   },
   "outputs": [],
   "source": [
    "disease_drug_map = {}\n",
    "for k in DiseaseDrugs:\n",
    "    if DiseaseDrugs[k]['disease'] not in disease_drug_map:\n",
    "        disease_drug_map[DiseaseDrugs[k]['disease']] = []\n",
    "    disease_drug_map[DiseaseDrugs[k]['disease']].append(k)"
   ]
  },
  {
   "cell_type": "code",
   "execution_count": null,
   "metadata": {
    "ExecuteTime": {
     "end_time": "2021-06-14T09:36:50.114455Z",
     "start_time": "2021-06-14T09:36:50.035213Z"
    },
    "collapsed": true
   },
   "outputs": [],
   "source": [
    "drug_map_dict = {'BNF_code':[], 'Drug_name':[] , 'Mapped_Condition': []}\n",
    "for k in DiseaseDrugs:\n",
    "    drug_map_dict['BNF_code'].append(k)\n",
    "    drug_map_dict['Drug_name'].append(DiseaseDrugs[k]['chemName'])\n",
    "    drug_map_dict['Mapped_Condition'].append(DiseaseDrugs[k]['disease'])\n",
    "drug_map_df = pd.DataFrame.from_dict(drug_map_dict)    \n",
    "drug_map_df.to_csv('data_prep/Drugs.csv',index=False)"
   ]
  },
  {
   "cell_type": "code",
   "execution_count": null,
   "metadata": {
    "ExecuteTime": {
     "end_time": "2021-06-14T09:36:50.192837Z",
     "start_time": "2021-06-14T09:36:50.146293Z"
    }
   },
   "outputs": [],
   "source": [
    "disease_drug_map"
   ]
  },
  {
   "cell_type": "code",
   "execution_count": null,
   "metadata": {
    "ExecuteTime": {
     "end_time": "2021-06-14T09:36:51.063062Z",
     "start_time": "2021-06-14T09:36:50.229146Z"
    },
    "collapsed": true
   },
   "outputs": [],
   "source": [
    "LSOA_dist = json.load(open('../mappings/GP_LSOA_PATIENTSDIST.json','rb'))"
   ]
  },
  {
   "cell_type": "code",
   "execution_count": null,
   "metadata": {
    "ExecuteTime": {
     "end_time": "2021-06-14T09:36:53.059149Z",
     "start_time": "2021-06-14T09:36:52.139495Z"
    },
    "collapsed": true
   },
   "outputs": [],
   "source": [
    "LSOA_dist_2021 = json.load(open('mappings/GP_LSOA_PATIENTSDIST_2021.json','rb'))"
   ]
  },
  {
   "cell_type": "code",
   "execution_count": null,
   "metadata": {
    "ExecuteTime": {
     "end_time": "2021-06-14T09:36:54.807727Z",
     "start_time": "2021-06-14T09:36:54.803623Z"
    }
   },
   "outputs": [],
   "source": [
    "LSOA_dist['A81001']['E01033477']"
   ]
  },
  {
   "cell_type": "code",
   "execution_count": null,
   "metadata": {
    "ExecuteTime": {
     "end_time": "2021-06-14T09:36:56.597053Z",
     "start_time": "2021-06-14T09:36:56.591991Z"
    }
   },
   "outputs": [],
   "source": [
    "LSOA_dist_2021['A81001']['E01033477']"
   ]
  },
  {
   "cell_type": "code",
   "execution_count": null,
   "metadata": {
    "ExecuteTime": {
     "end_time": "2021-06-14T09:36:58.656391Z",
     "start_time": "2021-06-14T09:36:58.653046Z"
    },
    "collapsed": true
   },
   "outputs": [],
   "source": [
    "# LSOA_dist_new = pd.read_csv('mappings/gp-reg-pat-prac-lsoa-all.csv')"
   ]
  },
  {
   "cell_type": "code",
   "execution_count": null,
   "metadata": {
    "ExecuteTime": {
     "end_time": "2021-06-14T09:37:00.552961Z",
     "start_time": "2021-06-14T09:37:00.548650Z"
    },
    "collapsed": true
   },
   "outputs": [],
   "source": [
    "# LSOA_dist_new.head()"
   ]
  },
  {
   "cell_type": "code",
   "execution_count": null,
   "metadata": {
    "ExecuteTime": {
     "end_time": "2021-06-14T09:37:02.573892Z",
     "start_time": "2021-06-14T09:37:02.568726Z"
    },
    "collapsed": true
   },
   "outputs": [],
   "source": [
    "# LSOA_dist_2021 = {}\n",
    "# for name , group in LSOA_dist_new.groupby('PRACTICE_CODE'):\n",
    "#     LSOA_dist_2021[name] = {}\n",
    "#     total = sum(group['Number of Patients'])\n",
    "#     for index , row in group.iterrows():\n",
    "#         LSOA_dist_2021[name][row['LSOA_CODE']] = float(row['Number of Patients'])/float(total)\n",
    "    \n",
    "        "
   ]
  },
  {
   "cell_type": "code",
   "execution_count": null,
   "metadata": {
    "ExecuteTime": {
     "end_time": "2021-06-14T09:37:04.536178Z",
     "start_time": "2021-06-14T09:37:04.533197Z"
    },
    "collapsed": true
   },
   "outputs": [],
   "source": [
    "# json.dump(LSOA_dist_2021 , open('mappings/GP_LSOA_PATIENTSDIST_2021.json','w'))"
   ]
  },
  {
   "cell_type": "code",
   "execution_count": null,
   "metadata": {
    "ExecuteTime": {
     "end_time": "2021-06-14T09:37:06.388845Z",
     "start_time": "2021-06-14T09:37:06.355609Z"
    },
    "collapsed": true
   },
   "outputs": [],
   "source": [
    "%store -r taxonomyDict"
   ]
  },
  {
   "cell_type": "code",
   "execution_count": null,
   "metadata": {
    "ExecuteTime": {
     "end_time": "2021-06-14T09:37:08.147007Z",
     "start_time": "2021-06-14T09:37:08.144293Z"
    },
    "collapsed": true
   },
   "outputs": [],
   "source": [
    "# json.dump(taxonomyDict, open('mappings/taxomomy_dict.json','w'))"
   ]
  },
  {
   "cell_type": "code",
   "execution_count": null,
   "metadata": {
    "ExecuteTime": {
     "end_time": "2021-06-14T09:37:09.976971Z",
     "start_time": "2021-06-14T09:37:09.947283Z"
    },
    "collapsed": true
   },
   "outputs": [],
   "source": [
    "%store -r cityMap"
   ]
  },
  {
   "cell_type": "code",
   "execution_count": null,
   "metadata": {
    "ExecuteTime": {
     "end_time": "2021-06-14T09:37:11.794612Z",
     "start_time": "2021-06-14T09:37:11.792282Z"
    },
    "collapsed": true
   },
   "outputs": [],
   "source": [
    "# json.dump(cityMap, open('mappings/City_map_dict.json','w'))"
   ]
  },
  {
   "cell_type": "code",
   "execution_count": null,
   "metadata": {
    "ExecuteTime": {
     "end_time": "2021-06-14T09:37:13.807042Z",
     "start_time": "2021-06-14T09:37:13.677912Z"
    }
   },
   "outputs": [],
   "source": [
    "ward_pop = pd.read_csv('../mappings/ward_pop.csv')"
   ]
  },
  {
   "cell_type": "code",
   "execution_count": null,
   "metadata": {
    "ExecuteTime": {
     "end_time": "2021-06-14T09:37:17.068101Z",
     "start_time": "2021-06-14T09:37:15.756406Z"
    },
    "collapsed": true
   },
   "outputs": [],
   "source": [
    "population = {}\n",
    "for index, row in ward_pop.iterrows():\n",
    "    population[row['Ward Code 1']] = float(row['All Ages'].replace(',',''))"
   ]
  },
  {
   "cell_type": "code",
   "execution_count": null,
   "metadata": {
    "ExecuteTime": {
     "end_time": "2021-06-14T09:37:18.848066Z",
     "start_time": "2021-06-14T09:37:18.778065Z"
    },
    "collapsed": true
   },
   "outputs": [],
   "source": [
    "df_city = pd.read_csv('../mappings/lower_layer_super_output_area_2011_to_major_towns_and_cities_december_2015_lookup_in_england_and_wales.csv')"
   ]
  },
  {
   "cell_type": "code",
   "execution_count": null,
   "metadata": {
    "ExecuteTime": {
     "end_time": "2021-06-14T09:37:20.632994Z",
     "start_time": "2021-06-14T09:37:20.601043Z"
    }
   },
   "outputs": [],
   "source": [
    "df_city.head()"
   ]
  },
  {
   "cell_type": "code",
   "execution_count": null,
   "metadata": {
    "ExecuteTime": {
     "end_time": "2021-06-14T09:37:22.555821Z",
     "start_time": "2021-06-14T09:37:22.464627Z"
    },
    "collapsed": true
   },
   "outputs": [],
   "source": [
    "cityMap = {}\n",
    "for name , group in df_city.groupby('TCITY15NM'):\n",
    "        cityMap[name] = list(group['LSOA11CD'])"
   ]
  },
  {
   "cell_type": "code",
   "execution_count": null,
   "metadata": {
    "ExecuteTime": {
     "end_time": "2021-06-14T09:37:24.384921Z",
     "start_time": "2021-06-14T09:37:24.350511Z"
    },
    "collapsed": true
   },
   "outputs": [],
   "source": [
    "LSOA_survey_takers = json.load(open('../mappings/LSOA_suvery_pop.json'))"
   ]
  },
  {
   "cell_type": "code",
   "execution_count": null,
   "metadata": {
    "ExecuteTime": {
     "end_time": "2021-06-14T09:37:26.166156Z",
     "start_time": "2021-06-14T09:37:26.162032Z"
    },
    "collapsed": true
   },
   "outputs": [],
   "source": [
    "disease_drugs = json.load(open(\"../mappings/Disease_Drug_DrugBank.json\",'rb'))"
   ]
  },
  {
   "cell_type": "code",
   "execution_count": null,
   "metadata": {
    "ExecuteTime": {
     "end_time": "2021-06-14T09:37:28.073005Z",
     "start_time": "2021-06-14T09:37:27.939151Z"
    },
    "collapsed": true
   },
   "outputs": [],
   "source": [
    "drugbank_dict = json.load(open('../mappings/Drugbank_drugs_data.json','rb'))"
   ]
  },
  {
   "cell_type": "code",
   "execution_count": null,
   "metadata": {
    "ExecuteTime": {
     "end_time": "2021-06-14T09:37:30.074684Z",
     "start_time": "2021-06-14T09:37:29.941334Z"
    }
   },
   "outputs": [],
   "source": [
    "cityMap"
   ]
  },
  {
   "cell_type": "code",
   "execution_count": null,
   "metadata": {
    "ExecuteTime": {
     "end_time": "2021-06-14T09:37:32.424359Z",
     "start_time": "2021-06-14T09:37:32.046378Z"
    },
    "collapsed": true
   },
   "outputs": [],
   "source": [
    "IMD_df = pd.read_csv('../../BL_Work/File_7_ID_2015_All_ranks__deciles_and_scores_for_the_Indices_of_Deprivation__and_population_denominators.csv')"
   ]
  },
  {
   "cell_type": "code",
   "execution_count": null,
   "metadata": {
    "ExecuteTime": {
     "end_time": "2021-06-14T09:37:34.336922Z",
     "start_time": "2021-06-14T09:37:34.308150Z"
    }
   },
   "outputs": [],
   "source": [
    "IMD_df.head()"
   ]
  },
  {
   "cell_type": "code",
   "execution_count": null,
   "metadata": {
    "ExecuteTime": {
     "end_time": "2021-06-14T09:37:42.141926Z",
     "start_time": "2021-06-14T09:37:36.212733Z"
    },
    "collapsed": true
   },
   "outputs": [],
   "source": [
    "LSOA_pop = {}\n",
    "LSOA_IMD = {}\n",
    "for index, row in IMD_df.iterrows():\n",
    "    LSOA_pop[row['LSOA code (2011)']] = row['Total population: mid 2012 (excluding prisoners)']\n",
    "    LSOA_IMD[row['LSOA code (2011)']] = row['Index of Multiple Deprivation (IMD) Score']"
   ]
  },
  {
   "cell_type": "code",
   "execution_count": null,
   "metadata": {
    "ExecuteTime": {
     "end_time": "2021-06-14T09:37:44.021847Z",
     "start_time": "2021-06-14T09:37:44.017683Z"
    }
   },
   "outputs": [],
   "source": [
    "len(LSOA_pop.keys())"
   ]
  },
  {
   "cell_type": "code",
   "execution_count": null,
   "metadata": {
    "ExecuteTime": {
     "end_time": "2021-06-14T09:37:46.132983Z",
     "start_time": "2021-06-14T09:37:45.945374Z"
    }
   },
   "outputs": [],
   "source": [
    "cityPop = {}\n",
    "city_IMD = {}\n",
    "city_survey_pop = {}\n",
    "for k in cityMap:\n",
    "    pop = 0\n",
    "    surveypop = 0\n",
    "    IMD = []\n",
    "    for j in cityMap[k]:\n",
    "        try:\n",
    "            pop += LSOA_pop[j]\n",
    "            surveypop += LSOA_survey_takers[j]\n",
    "            IMD.append(LSOA_IMD[j])\n",
    "        except:\n",
    "            print(\"could not find LSOA\",j)\n",
    "    city_IMD[k] = {}\n",
    "    if pop > 0:\n",
    "        cityPop[k] = pop\n",
    "        city_survey_pop[k] = surveypop\n",
    "        city_IMD[k]['median_IMD'] = np.median(IMD)\n",
    "        city_IMD[k]['mean_IMD'] = np.mean(IMD)"
   ]
  },
  {
   "cell_type": "code",
   "execution_count": null,
   "metadata": {
    "ExecuteTime": {
     "end_time": "2021-06-14T09:37:48.933715Z",
     "start_time": "2021-06-14T09:37:48.028707Z"
    }
   },
   "outputs": [],
   "source": [
    "LSOA_patient_pop = {}\n",
    "LSOA_patients_map = json.load(open('data_prep/GPs.json','r'))\n",
    "for GP in tqdm(LSOA_patients_map):\n",
    "    for lsoa in LSOA_patients_map[GP]['Patient_registry_LSOA']:\n",
    "        if lsoa not in LSOA_patient_pop:\n",
    "            LSOA_patient_pop[lsoa] = LSOA_patients_map[GP]['Patient_registry_LSOA'][lsoa]\n",
    "        else:\n",
    "            LSOA_patient_pop[lsoa] += LSOA_patients_map[GP]['Patient_registry_LSOA'][lsoa]"
   ]
  },
  {
   "cell_type": "code",
   "execution_count": null,
   "metadata": {
    "ExecuteTime": {
     "end_time": "2021-06-14T09:38:08.126413Z",
     "start_time": "2021-06-14T09:38:08.119407Z"
    }
   },
   "outputs": [],
   "source": [
    "sum(LSOA_patient_pop.values())"
   ]
  },
  {
   "cell_type": "code",
   "execution_count": null,
   "metadata": {
    "ExecuteTime": {
     "end_time": "2021-06-14T10:04:56.038444Z",
     "start_time": "2021-06-14T10:04:56.027829Z"
    },
    "collapsed": true
   },
   "outputs": [],
   "source": [
    "import logging\n",
    "logger = logging.getLogger()\n",
    "fhandler = logging.FileHandler(filename='dataPrep_postcovid.log', mode='a')\n",
    "formatter = logging.Formatter('%(asctime)s - %(name)s - %(levelname)s - %(message)s')\n",
    "fhandler.setFormatter(formatter)\n",
    "logger.addHandler(fhandler)\n",
    "logger.setLevel(logging.INFO)"
   ]
  },
  {
   "cell_type": "code",
   "execution_count": null,
   "metadata": {
    "ExecuteTime": {
     "end_time": "2021-06-14T10:56:53.619932Z",
     "start_time": "2021-06-14T10:56:53.518343Z"
    },
    "collapsed": true
   },
   "outputs": [],
   "source": [
    "def calculateTemporalMetrics_LSOA(all_presc , old = True):\n",
    "    LSOA_dosage = {}\n",
    "    LSOA_costs = {}\n",
    "    LSOA_items = {}\n",
    "    LSOA_quantity = {}\n",
    "\n",
    "    LSOA_patient_count = {}\n",
    "    fail = 0.0\n",
    "    LSOA_map = {}\n",
    "    [LSOA_dist_old , LSOA_dist_2021] = loadLSOA_mappings()\n",
    "\n",
    "    #At this time we are using the same map for all files. Ideally, every year needs to have a different map.\n",
    "    if old:\n",
    "        quantityField = '8'\n",
    "        dosageField = '19'\n",
    "        costField = '7'\n",
    "        practiceField = '2'\n",
    "        itemField = '5'\n",
    "        LSOA_map = LSOA_dist_2021\n",
    "    else:\n",
    "        quantityField = 'TOTAL_QUANTITY'\n",
    "        dosageField = '19'\n",
    "        costField = 'ACTUAL_COST'\n",
    "        practiceField = 'PRACTICE_CODE'\n",
    "        itemField = 'ITEMS'\n",
    "        LSOA_map = LSOA_dist_2021\n",
    "\n",
    "    for name, group in all_presc.groupby(practiceField):\n",
    "        total_dosage = np.sum(group[dosageField])\n",
    "        total_cost = np.sum(group[costField])\n",
    "        total_quantity = np.sum(group[quantityField])\n",
    "        total_items = np.sum(group[itemField])\n",
    "\n",
    "        if name in LSOA_map:        \n",
    "            for k in LSOA_map[name]:\n",
    "                if k not in LSOA_dosage:\n",
    "                    LSOA_dosage[k] = 0.0\n",
    "                    LSOA_costs[k] = 0.0\n",
    "                    LSOA_quantity[k] = 0.0\n",
    "                    LSOA_items[k] = 0.0\n",
    "                LSOA_dosage[k]+= float(total_dosage)*float(LSOA_map[name][k])\n",
    "                LSOA_quantity[k]+= float(total_quantity)*float(LSOA_map[name][k])\n",
    "                LSOA_items[k]+= float(total_items)*float(LSOA_map[name][k])\n",
    "                LSOA_costs[k]+= float(total_cost)*float(LSOA_map[name][k])\n",
    "    \n",
    "    return  LSOA_quantity , LSOA_costs, LSOA_dosage , LSOA_items"
   ]
  },
  {
   "cell_type": "code",
   "execution_count": null,
   "metadata": {
    "ExecuteTime": {
     "end_time": "2021-06-14T10:31:01.238117Z",
     "start_time": "2021-06-14T10:29:17.731400Z"
    }
   },
   "outputs": [],
   "source": [
    "pdp1 = pd.read_csv('../../BL_Work/openPrescribe/serialized/201910.gz',compression='gzip')"
   ]
  },
  {
   "cell_type": "code",
   "execution_count": null,
   "metadata": {
    "ExecuteTime": {
     "end_time": "2021-06-14T10:31:49.591210Z",
     "start_time": "2021-06-14T10:31:14.330089Z"
    },
    "collapsed": true
   },
   "outputs": [],
   "source": [
    "pdp2 = pd.read_csv('../../BL_Work/openPrescribe/serialized/201710.gz',compression='gzip')"
   ]
  },
  {
   "cell_type": "code",
   "execution_count": null,
   "metadata": {
    "ExecuteTime": {
     "end_time": "2021-06-14T10:32:12.979180Z",
     "start_time": "2021-06-14T10:32:11.623687Z"
    }
   },
   "outputs": [],
   "source": [
    "pdp1[['BNF_CODE', 'BNF_DESCRIPTION',\n",
    "       'BNF_CHAPTER_PLUS_CODE', 'QUANTITY', 'ITEMS', 'TOTAL_QUANTITY',\n",
    "       'ADQUSAGE', 'NIC', 'ACTUAL_COST']]"
   ]
  },
  {
   "cell_type": "code",
   "execution_count": null,
   "metadata": {
    "ExecuteTime": {
     "end_time": "2021-06-14T10:50:05.251429Z",
     "start_time": "2021-06-14T10:50:04.036715Z"
    }
   },
   "outputs": [],
   "source": [
    "pdp2.columns\n",
    "pdp2[['1', '2', '3', '4', '5', '6', '7', '8', '9']]"
   ]
  },
  {
   "cell_type": "code",
   "execution_count": null,
   "metadata": {
    "ExecuteTime": {
     "end_time": "2021-06-14T10:56:20.784691Z",
     "start_time": "2021-06-14T10:56:17.433708Z"
    },
    "collapsed": true
   },
   "outputs": [],
   "source": [
    "del pdp , pdp1 , pdp2"
   ]
  },
  {
   "cell_type": "code",
   "execution_count": null,
   "metadata": {
    "ExecuteTime": {
     "end_time": "2021-06-14T10:57:46.311595Z",
     "start_time": "2021-06-14T10:57:46.305823Z"
    }
   },
   "outputs": [],
   "source": [
    "# monthly_borough_dosage = {}\n",
    "# monthly_borough_costs = {}\n",
    "\n",
    "monthly_borough_dosage_new = {}\n",
    "monthly_borough_costs_new = {}\n",
    "monthly_borough_quantity_new = {}\n",
    "monthly_borough_items_new = {}"
   ]
  },
  {
   "cell_type": "code",
   "execution_count": null,
   "metadata": {
    "ExecuteTime": {
     "end_time": "2021-06-14T10:57:49.754420Z",
     "start_time": "2021-06-14T10:57:49.750427Z"
    },
    "collapsed": true
   },
   "outputs": [],
   "source": [
    "files.sort()"
   ]
  },
  {
   "cell_type": "code",
   "execution_count": null,
   "metadata": {
    "ExecuteTime": {
     "end_time": "2021-06-14T10:57:52.174629Z",
     "start_time": "2021-06-14T10:57:52.166327Z"
    }
   },
   "outputs": [],
   "source": [
    "files[53:]"
   ]
  },
  {
   "cell_type": "code",
   "execution_count": null,
   "metadata": {
    "ExecuteTime": {
     "end_time": "2021-06-06T17:11:49.350201Z",
     "start_time": "2021-06-06T17:11:49.347674Z"
    },
    "collapsed": true
   },
   "outputs": [],
   "source": [
    "# files[107:]"
   ]
  },
  {
   "cell_type": "code",
   "execution_count": null,
   "metadata": {
    "ExecuteTime": {
     "start_time": "2021-06-06T17:08:17.921Z"
    }
   },
   "outputs": [],
   "source": [
    "for f in tqdm(files[53:]):\n",
    "    month = f.split('/')[-1].split('.')[0]\n",
    "    logging.debug(\"Working with month  \" + month)\n",
    "    if int(month) > 201906:\n",
    "        old = False\n",
    "    else:\n",
    "        old = True\n",
    "    \n",
    "    monthly_borough_dosage_new[month] = {}\n",
    "    monthly_borough_costs_new[month] = {}\n",
    "    monthly_borough_quantity_new[month] = {}\n",
    "    monthly_borough_items_new[month] = {}\n",
    "    pdp = pd.read_csv(f,compression='gzip')\n",
    "    for disease in tqdm(disease_drug_map):\n",
    "        print(\"Working with disease  \" + disease)\n",
    "        logging.debug(\"Working with disease  \" + disease)\n",
    "        monthly_borough_dosage_new[month][disease] = {}\n",
    "        monthly_borough_costs_new[month][disease] = {}\n",
    "        monthly_borough_quantity_new[month][disease] = {}\n",
    "        monthly_borough_items_new[month][disease] = {}\n",
    "        drugs = disease_drug_map[disease]\n",
    "        opioids = pdp.loc[pdp['16'].isin(drugs)] #Original opioids\n",
    "\n",
    "        monthly_borough_quantity_new[month][disease] , monthly_borough_costs_new[month][disease], monthly_borough_dosage_new[month][disease]  , monthly_borough_items_new[month][disease] = calculateTemporalMetrics_LSOA(opioids, old)\n",
    "   "
   ]
  },
  {
   "cell_type": "code",
   "execution_count": null,
   "metadata": {
    "ExecuteTime": {
     "end_time": "2021-06-01T19:21:57.502188Z",
     "start_time": "2021-06-01T19:21:57.429623Z"
    }
   },
   "outputs": [],
   "source": [
    "pdp.head(n=5)"
   ]
  },
  {
   "cell_type": "code",
   "execution_count": null,
   "metadata": {
    "ExecuteTime": {
     "end_time": "2021-06-01T19:25:17.937470Z",
     "start_time": "2021-06-01T19:25:17.890233Z"
    }
   },
   "outputs": [],
   "source": [
    "monthly_borough_dosage_new['202002']['anxiety'].keys()"
   ]
  },
  {
   "cell_type": "code",
   "execution_count": null,
   "metadata": {
    "ExecuteTime": {
     "end_time": "2021-06-01T19:31:59.635948Z",
     "start_time": "2021-06-01T19:31:59.627400Z"
    }
   },
   "outputs": [],
   "source": [
    "monthly_borough_dosage_new['202002']['anxiety']['E01015028']"
   ]
  },
  {
   "cell_type": "code",
   "execution_count": null,
   "metadata": {
    "ExecuteTime": {
     "end_time": "2021-06-01T19:35:21.275646Z",
     "start_time": "2021-06-01T19:35:21.267844Z"
    },
    "collapsed": true
   },
   "outputs": [],
   "source": [
    "monthly_borough_dosage_total= monthly_borough_dosage_new.copy()\n",
    "# for yyyymm in tqdm(monthly_borough_dosage_total):\n",
    "#     for d in monthly_borough_dosage_total[yyyymm]:\n",
    "#         for lsoa in  monthly_borough_dosage_total[yyyymm][d]:\n",
    "#             monthly_borough_dosage_total[yyyymm][d][lsoa] = (monthly_borough_dosage_total[yyyymm][d][lsoa]/1000.0)*LSOA_patient_pop[lsoa]"
   ]
  },
  {
   "cell_type": "code",
   "execution_count": null,
   "metadata": {
    "ExecuteTime": {
     "end_time": "2021-06-02T08:54:37.332408Z",
     "start_time": "2021-06-02T08:42:08.351963Z"
    }
   },
   "outputs": [],
   "source": [
    "for disease in tqdm(disease_drug_map.keys()):\n",
    "    disease_dict = {'YYYYMM':[] , 'LSOA_CODE' : [] , 'Total_prescriptions' : [] ,'Dosage_ratio' :[] , 'Patient_count' : []}\n",
    "    for yyyymm in monthly_borough_dosage_total:\n",
    "        for LSOA_CODE in monthly_borough_dosage_total[yyyymm][disease]:\n",
    "            if LSOA_CODE[0] == 'E':\n",
    "                disease_dict['YYYYMM'].append(yyyymm)\n",
    "                disease_dict['LSOA_CODE'].append(LSOA_CODE)\n",
    "                disease_dict['Total_prescriptions'].append(monthly_borough_dosage_total[yyyymm][disease][LSOA_CODE])\n",
    "                disease_dict['Dosage_ratio'].append(monthly_borough_costs_new[yyyymm][disease][LSOA_CODE])\n",
    "                disease_dict['Patient_count'].append(LSOA_patient_pop[LSOA_CODE])\n",
    "    disease_df = pd.DataFrame.from_dict(disease_dict)\n",
    "    filename = 'data_prep/'+disease+'_V2.csv.gz'\n",
    "    disease_df.to_csv(filename,index=False,compression='gzip')\n",
    "            "
   ]
  },
  {
   "cell_type": "code",
   "execution_count": null,
   "metadata": {
    "ExecuteTime": {
     "end_time": "2021-06-01T09:05:34.557448Z",
     "start_time": "2021-06-01T09:05:34.523001Z"
    },
    "collapsed": true
   },
   "outputs": [],
   "source": [
    "disease_drug_map"
   ]
  },
  {
   "cell_type": "code",
   "execution_count": null,
   "metadata": {
    "ExecuteTime": {
     "end_time": "2021-06-01T09:29:27.550595Z",
     "start_time": "2021-06-01T09:29:27.543090Z"
    },
    "collapsed": true
   },
   "outputs": [],
   "source": [
    "\n",
    "for bnf in disease_drug_map['anxiety']:\n",
    "    print(DiseaseDrugs[bnf])"
   ]
  },
  {
   "cell_type": "code",
   "execution_count": null,
   "metadata": {
    "ExecuteTime": {
     "end_time": "2021-05-28T19:02:52.175337Z",
     "start_time": "2021-05-28T19:02:52.168743Z"
    },
    "collapsed": true
   },
   "outputs": [],
   "source": [
    "# json.dump(monthly_borough_dosage_new,open('../mappings/pre_post_monthy_presc_pre072019.json','w'))"
   ]
  },
  {
   "cell_type": "code",
   "execution_count": null,
   "metadata": {
    "ExecuteTime": {
     "end_time": "2021-05-12T13:45:13.994722Z",
     "start_time": "2021-05-12T13:45:13.566480Z"
    },
    "collapsed": true
   },
   "outputs": [],
   "source": [
    "# json.dump(monthly_borough_costs_new,open('../mappings/pre_post_monthy_cost_pre072019.json','w'))"
   ]
  },
  {
   "cell_type": "code",
   "execution_count": null,
   "metadata": {
    "ExecuteTime": {
     "end_time": "2021-05-12T11:37:10.666310Z",
     "start_time": "2021-05-12T11:37:10.489651Z"
    },
    "collapsed": true
   },
   "outputs": [],
   "source": [
    "# json.dump(monthly_borough_dosage_new,open('../mappings/pre_post_monthy_presc_post072019.json','w'))"
   ]
  },
  {
   "cell_type": "code",
   "execution_count": null,
   "metadata": {
    "ExecuteTime": {
     "end_time": "2021-05-12T11:37:33.170442Z",
     "start_time": "2021-05-12T11:37:33.162580Z"
    },
    "collapsed": true
   },
   "outputs": [],
   "source": [
    "# json.dump(monthly_borough_costs_new,open('../mappings/pre_post_monthy_cost_post072019.json','w'))"
   ]
  },
  {
   "cell_type": "code",
   "execution_count": null,
   "metadata": {
    "ExecuteTime": {
     "end_time": "2021-05-12T13:47:44.072755Z",
     "start_time": "2021-05-12T13:47:43.902375Z"
    },
    "collapsed": true
   },
   "outputs": [],
   "source": [
    "monthly_dosage_BL = json.load(open('../mappings/pre_post_monthy_presc_pre072019.json','r'))\n",
    "monthly_dosage_COVID = json.load(open('../mappings/pre_post_monthy_presc_post072019.json','r'))"
   ]
  },
  {
   "cell_type": "code",
   "execution_count": null,
   "metadata": {
    "ExecuteTime": {
     "end_time": "2021-05-12T13:47:52.133305Z",
     "start_time": "2021-05-12T13:47:52.124687Z"
    },
    "collapsed": true
   },
   "outputs": [],
   "source": [
    "monthly_dosage_COVID['202001'].keys()"
   ]
  },
  {
   "cell_type": "code",
   "execution_count": null,
   "metadata": {
    "ExecuteTime": {
     "end_time": "2021-05-12T13:48:27.007799Z",
     "start_time": "2021-05-12T13:48:26.995285Z"
    },
    "collapsed": true
   },
   "outputs": [],
   "source": [
    "BL_months = [\n",
    "             #['201101', '201102', '201103', '201104', '201105', '201106', '201107', '201108', '201109', '201110', '201111', '201112'],\n",
    "             #['201201', '201202', '201203', '201204', '201205', '201206', '201207', '201208', '201209', '201210', '201211', '201212'],\n",
    "             #['201301', '201302', '201303', '201304', '201305', '201306', '201307', '201308', '201309', '201310', '201311', '201312'],\n",
    "             #['201401', '201402', '201403', '201404', '201405', '201406', '201407', '201408', '201409', '201410', '201411', '201412'],\n",
    "             ['201501', '201502', '201503', '201504', '201505', '201506', '201507', '201508', '201509', '201510', '201511', '201512'],\n",
    "             ['201601', '201602', '201603', '201604', '201605', '201606', '201607', '201608', '201609', '201610', '201611', '201612'],\n",
    "             ['201701', '201702', '201703', '201704', '201705', '201706', '201707', '201708', '201709', '201710', '201711', '201712'],\n",
    "             ['201801', '201802', '201803', '201804', '201805', '201806', '201807', '201808', '201809', '201810', '201811', '201812']]\n",
    "#             \n",
    "\n",
    "COVID_months = ['202001', '202002', '202003', '202004', '202005', '202006', '202007', '202008', '202009', '202010', '202011', '202012']"
   ]
  },
  {
   "cell_type": "code",
   "execution_count": null,
   "metadata": {
    "ExecuteTime": {
     "end_time": "2021-05-12T13:48:41.809560Z",
     "start_time": "2021-05-12T13:48:41.804150Z"
    },
    "collapsed": true
   },
   "outputs": [],
   "source": [
    "print sorted(monthly_dosage_COVID['202007']['diabetes'].keys())"
   ]
  },
  {
   "cell_type": "code",
   "execution_count": null,
   "metadata": {
    "ExecuteTime": {
     "end_time": "2021-05-19T14:17:29.284037Z",
     "start_time": "2021-05-19T14:17:29.249090Z"
    },
    "collapsed": true
   },
   "outputs": [],
   "source": [
    "from collections import OrderedDict\n",
    "\n",
    "d_l = ['anxiety',\n",
    " 'heart failure',\n",
    " 'rheumatoid',\n",
    " 'epilepsy',\n",
    " 'dementia',\n",
    " 'stroke',\n",
    " 'hypertension',\n",
    " 'diabetes',\n",
    " 'chronic obstructive pulmonary disease',\n",
    "#  'obesity',\n",
    " 'coronary artery disease',\n",
    "#  'kidney disease',\n",
    " 'depression',\n",
    " 'osteoporosis']\n",
    "\n",
    "# d_l = ['anxiety',\n",
    "#  'depression']\n",
    "month_names = ['Jan','Feb','Mar','Apr','May','Jun','Jul','Aug','Sep','Oct','Nov','Dec']\n",
    "# selected_disease = 'stroke'\n",
    "city = 'London'\n",
    "\n",
    "diseaseStats = {}\n",
    "for d in d_l:\n",
    "    selected_disease = d\n",
    "    monthly_BL_numbers = OrderedDict()\n",
    "    for month in range(len(BL_months[0])):\n",
    "        monthly_BL_numbers[month_names[month]] = []\n",
    "        for year in range(len(BL_months)):\n",
    "            if city in monthly_dosage_BL[BL_months[year][month]][selected_disease]:\n",
    "                monthly_BL_numbers[month_names[month]].append(monthly_dosage_BL[BL_months[year][month]][selected_disease][city])\n",
    "            else:\n",
    "                print(\"no prescriptions for disease \" + d)\n",
    "                monthly_BL_numbers[month_names[month]].append(0.0)\n",
    "    \n",
    "    diseaseStats[d] = monthly_BL_numbers  \n",
    "        \n",
    "    \n"
   ]
  },
  {
   "cell_type": "code",
   "execution_count": null,
   "metadata": {
    "ExecuteTime": {
     "end_time": "2021-05-19T14:17:35.798622Z",
     "start_time": "2021-05-19T14:17:35.794489Z"
    },
    "collapsed": true
   },
   "outputs": [],
   "source": [
    "# monthly_dosage_COVID[COVID_months[0]]['depression'][city]"
   ]
  },
  {
   "cell_type": "code",
   "execution_count": null,
   "metadata": {
    "ExecuteTime": {
     "end_time": "2021-05-19T14:17:41.967954Z",
     "start_time": "2021-05-19T14:17:41.959688Z"
    },
    "collapsed": true
   },
   "outputs": [],
   "source": [
    "diseaseStats.keys()"
   ]
  },
  {
   "cell_type": "code",
   "execution_count": null,
   "metadata": {
    "collapsed": true
   },
   "outputs": [],
   "source": []
  },
  {
   "cell_type": "code",
   "execution_count": null,
   "metadata": {
    "ExecuteTime": {
     "end_time": "2021-05-19T14:17:48.253660Z",
     "start_time": "2021-05-19T14:17:48.249656Z"
    },
    "collapsed": true
   },
   "outputs": [],
   "source": [
    "# diseaseStats['depression']"
   ]
  },
  {
   "cell_type": "code",
   "execution_count": null,
   "metadata": {
    "ExecuteTime": {
     "end_time": "2021-05-19T14:17:54.612453Z",
     "start_time": "2021-05-19T14:17:54.593610Z"
    },
    "collapsed": true
   },
   "outputs": [],
   "source": [
    "diseaseZ_scores = {}\n",
    "for d in d_l:\n",
    "    Z_scores = []\n",
    "    for i in range(len(COVID_months)):\n",
    "        mean = np.mean(diseaseStats[d][month_names[i]])\n",
    "        sigma = np.std(diseaseStats[d][month_names[i]])\n",
    "        if sigma > 0:\n",
    "            if city in monthly_dosage_COVID[COVID_months[i]][d]:\n",
    "                Z_scores.append(10 + (monthly_dosage_COVID[COVID_months[i]][d][city]-mean)/sigma)\n",
    "            else:\n",
    "                print(\"no prescriptions for disease \" + d)\n",
    "                Z_scores.append(5 + (-mean)/sigma)\n",
    "    diseaseZ_scores[d] = Z_scores"
   ]
  },
  {
   "cell_type": "code",
   "execution_count": null,
   "metadata": {
    "ExecuteTime": {
     "end_time": "2021-05-19T14:18:00.822684Z",
     "start_time": "2021-05-19T14:18:00.818477Z"
    },
    "collapsed": true
   },
   "outputs": [],
   "source": [
    "# diseaseZ_scores"
   ]
  },
  {
   "cell_type": "code",
   "execution_count": null,
   "metadata": {
    "ExecuteTime": {
     "end_time": "2021-05-19T14:18:07.668499Z",
     "start_time": "2021-05-19T14:18:07.095091Z"
    },
    "collapsed": true
   },
   "outputs": [],
   "source": [
    "fig, ax = plt.subplots()\n",
    "fig.set_size_inches(16, 12)\n",
    "sns.set_style(\"white\")\n",
    "legend = []\n",
    "for d in diseaseZ_scores:\n",
    "    sns.lineplot(y=diseaseZ_scores[d],x=np.arange(0,len(diseaseZ_scores[d]),1))\n",
    "    legend.append('Z for ' + d)\n",
    "ax = plt.gca()\n",
    "\n",
    "plt.xticks(np.arange(0,12,1),month_names,rotation=90)\n",
    "\n",
    "plt.legend(legend, fontsize = 10)\n",
    "plt.xlabel(\"Months of the year 2020\",fontsize=20)\n",
    "plt.ylabel(\"Z scores for prescriptions per 1000\",fontsize=20)\n",
    "plt.title(\"Prescription Z scores for city of \" + city, fontsize=20)"
   ]
  },
  {
   "cell_type": "code",
   "execution_count": null,
   "metadata": {
    "ExecuteTime": {
     "end_time": "2021-05-12T14:25:32.153969Z",
     "start_time": "2021-05-12T14:25:30.756075Z"
    },
    "collapsed": true
   },
   "outputs": [],
   "source": [
    "monthly_dosage_COVID"
   ]
  },
  {
   "cell_type": "code",
   "execution_count": null,
   "metadata": {
    "ExecuteTime": {
     "end_time": "2021-05-19T14:19:05.433040Z",
     "start_time": "2021-05-19T14:19:05.410166Z"
    },
    "collapsed": true
   },
   "outputs": [],
   "source": [
    "city = 'London'\n",
    "\n",
    "d_l = ['anxiety',\n",
    " 'heart failure',\n",
    " 'rheumatoid',\n",
    " 'epilepsy',\n",
    " 'dementia',\n",
    " 'stroke',\n",
    " 'hypertension',\n",
    " 'diabetes',\n",
    " 'chronic obstructive pulmonary disease',\n",
    "#  'obesity',\n",
    " 'coronary artery disease',\n",
    "#  'kidney disease',\n",
    " 'depression',\n",
    " 'osteoporosis']\n",
    "\n",
    "# d_l = ['anxiety' , 'depression']\n",
    "\n",
    "all_covid_months = ['201907','201908','201909','201910','201911','201912','202001', '202002', '202003', '202004', '202005', \n",
    "                    '202006', '202007', '202008', '202009', '202010', '202011', '202012','202101','202102',]\n",
    "\n",
    "disease_timelines = {}\n",
    "months = monthly_dosage_COVID.keys\n",
    "for disease in d_l:\n",
    "    disease_timelines[disease] = []\n",
    "    for month in monthly_dosage_COVID:\n",
    "        if city in monthly_dosage_COVID[month][disease]:\n",
    "            disease_timelines[disease].append(    monthly_dosage_COVID[month][disease][city] )"
   ]
  },
  {
   "cell_type": "code",
   "execution_count": null,
   "metadata": {
    "ExecuteTime": {
     "end_time": "2021-05-19T14:19:11.827218Z",
     "start_time": "2021-05-19T14:19:11.822973Z"
    },
    "collapsed": true
   },
   "outputs": [],
   "source": [
    "# disease_timelines"
   ]
  },
  {
   "cell_type": "code",
   "execution_count": null,
   "metadata": {
    "ExecuteTime": {
     "end_time": "2021-05-19T14:21:45.484387Z",
     "start_time": "2021-05-19T14:21:44.654084Z"
    },
    "collapsed": true
   },
   "outputs": [],
   "source": [
    "fig, ax = plt.subplots()\n",
    "fig.set_size_inches(16, 12)\n",
    "sns.set_style(\"white\")\n",
    "legend = []\n",
    "for d in disease_timelines:\n",
    "    sns.lineplot(y=disease_timelines[d],x=np.arange(0,len(disease_timelines[d]),1))\n",
    "    legend.append('Prescriptions for ' + d)\n",
    "ax = plt.gca()\n",
    "\n",
    "plt.xticks(np.arange(0,20,1),all_covid_months,rotation=90)\n",
    "\n",
    "plt.legend(legend, fontsize = 10)\n",
    "plt.xlabel(\"Months of the year 2020\",fontsize=20)\n",
    "plt.ylabel(\"Z scores for prescriptions per 1000\",fontsize=20)\n",
    "plt.title(\"Prescriptions for city of \" + city, fontsize=20)"
   ]
  },
  {
   "cell_type": "code",
   "execution_count": null,
   "metadata": {
    "ExecuteTime": {
     "end_time": "2021-05-19T14:19:40.829422Z",
     "start_time": "2021-05-19T14:19:39.848119Z"
    },
    "collapsed": true
   },
   "outputs": [],
   "source": [
    "fig, ax = plt.subplots()\n",
    "fig.set_size_inches(16, 12)\n",
    "sns.set_style(\"white\")\n",
    "legend = []\n",
    "for d in disease_timelines:\n",
    "    if len(disease_timelines[d])> 0:\n",
    "        mean = (np.mean(disease_timelines[d]))\n",
    "        sigma = (np.std(disease_timelines[d]))\n",
    "        Z_scores = [float(k - mean)/sigma for k in disease_timelines[d]]\n",
    "        sns.lineplot(y=Z_scores,x=np.arange(0,len(disease_timelines[d]),1))\n",
    "        legend.append('Vanilla Z score for ' + d)\n",
    "ax = plt.gca()\n",
    "\n",
    "plt.xticks(np.arange(0,20,1),all_covid_months,rotation=90)\n",
    "\n",
    "plt.legend(legend, fontsize = 10)\n",
    "plt.xlabel(\"Months of the year 2020\",fontsize=20)\n",
    "plt.ylabel(\"vanilla Z scores for prescriptions per 1000\",fontsize=20)\n",
    "plt.title(\"Prescription Z scores for city of \" + city, fontsize=20)"
   ]
  },
  {
   "cell_type": "code",
   "execution_count": null,
   "metadata": {
    "collapsed": true
   },
   "outputs": [],
   "source": []
  }
 ],
 "metadata": {
  "kernelspec": {
   "display_name": "Python [conda env:root] *",
   "language": "python",
   "name": "conda-root-py"
  },
  "language_info": {
   "codemirror_mode": {
    "name": "ipython",
    "version": 3
   },
   "file_extension": ".py",
   "mimetype": "text/x-python",
   "name": "python",
   "nbconvert_exporter": "python",
   "pygments_lexer": "ipython3",
   "version": "3.6.3"
  },
  "latex_envs": {
   "LaTeX_envs_menu_present": true,
   "autoclose": false,
   "autocomplete": true,
   "bibliofile": "biblio.bib",
   "cite_by": "apalike",
   "current_citInitial": 1,
   "eqLabelWithNumbers": true,
   "eqNumInitial": 1,
   "hotkeys": {
    "equation": "Ctrl-E",
    "itemize": "Ctrl-I"
   },
   "labels_anchors": false,
   "latex_user_defs": false,
   "report_style_numbering": false,
   "user_envs_cfg": false
  },
  "toc": {
   "base_numbering": 1,
   "nav_menu": {},
   "number_sections": true,
   "sideBar": true,
   "skip_h1_title": false,
   "title_cell": "Table of Contents",
   "title_sidebar": "Contents",
   "toc_cell": false,
   "toc_position": {},
   "toc_section_display": true,
   "toc_window_display": false
  },
  "varInspector": {
   "cols": {
    "lenName": 16,
    "lenType": 16,
    "lenVar": 40
   },
   "kernels_config": {
    "python": {
     "delete_cmd_postfix": "",
     "delete_cmd_prefix": "del ",
     "library": "var_list.py",
     "varRefreshCmd": "print(var_dic_list())"
    },
    "r": {
     "delete_cmd_postfix": ") ",
     "delete_cmd_prefix": "rm(",
     "library": "var_list.r",
     "varRefreshCmd": "cat(var_dic_list()) "
    }
   },
   "types_to_exclude": [
    "module",
    "function",
    "builtin_function_or_method",
    "instance",
    "_Feature"
   ],
   "window_display": false
  }
 },
 "nbformat": 4,
 "nbformat_minor": 2
}
