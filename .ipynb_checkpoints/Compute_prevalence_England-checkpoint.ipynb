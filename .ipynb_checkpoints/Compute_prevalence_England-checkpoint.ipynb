{
 "cells": [
  {
   "cell_type": "code",
   "execution_count": 1,
   "metadata": {
    "ExecuteTime": {
     "end_time": "2021-04-28T12:37:26.662807Z",
     "start_time": "2021-04-28T12:37:25.229239Z"
    },
    "collapsed": true
   },
   "outputs": [],
   "source": [
    "import pandas as pd\n",
    "import geopandas as gp \n",
    "import json\n",
    "from glob import glob\n",
    "import numpy as np\n",
    "import matplotlib.pyplot as plt\n",
    "import seaborn as sns\n",
    "\n",
    "sns.set(rc={'figure.figsize':(12,8)})\n",
    "%matplotlib inline\n",
    "from tqdm import tqdm\n",
    "import glob\n",
    "import numpy as np\n",
    "from scipy.stats import pearsonr\n",
    "from scipy.stats import linregress\n",
    "import pickle as pkl"
   ]
  },
  {
   "cell_type": "code",
   "execution_count": 2,
   "metadata": {
    "ExecuteTime": {
     "end_time": "2021-04-28T12:37:27.566968Z",
     "start_time": "2021-04-28T12:37:26.687536Z"
    }
   },
   "outputs": [],
   "source": [
    "with open('../mappings/Bipartite_Drug_graph.pkl','rb') as f:\n",
    "    drug_association_graph  = pkl.load(f)\n",
    "\n",
    "with open('../mappings/Bipartite_Drug_category_graph.pkl','rb') as f:\n",
    "    drug_cat_association_graph  = pkl.load(f)"
   ]
  },
  {
   "cell_type": "code",
   "execution_count": 3,
   "metadata": {
    "ExecuteTime": {
     "end_time": "2021-04-28T12:37:30.945730Z",
     "start_time": "2021-04-28T12:37:30.525488Z"
    },
    "collapsed": true
   },
   "outputs": [],
   "source": [
    "def cleanStringofUTF(string):\n",
    "    cleaned = string.encode('utf-8').replace('\\xe8','e').replace('\\xf6','o')\n",
    "    return cleaned\n",
    "\n",
    "def enrichdrugs(chem_dict , drugs):\n",
    "    diabetes_drug_words = [drugs[k]['name'].lower() for k in drugs]\n",
    "    for drug in chem_dict:\n",
    "        Name = chem_dict[drug]['name'].replace('(','').replace(')','')\n",
    "        slot1 = Name.lower().split('/')\n",
    "        slot2 = Name.lower().split(' ')\n",
    "        slot3 = Name.lower().split(' & ')\n",
    "        common1 = set(diabetes_drug_words).intersection(slot1)\n",
    "        common2 = set(diabetes_drug_words).intersection(slot2)\n",
    "        common3 = set(diabetes_drug_words).intersection(slot3)\n",
    "        \n",
    "        if len(common1) > 0 or len(common2) > 0 or len(common3) > 0:\n",
    "#             print common1 , common2 , common3\n",
    "            drugs[chem_dict[drug]['code']] = {'disease':'' , 'disease_given_drug':0.0 , 'matched_disease':'', 'name':chem_dict[drug]['name'].strip() }\n",
    "\n",
    "            \n",
    "            \n",
    "def makeChemDict(BNF_Chem):\n",
    "    chem_dict = {}\n",
    "    for index, row in BNF_Chem.iterrows():\n",
    "        chem_dict[row['UNII_drugbank']] = {}\n",
    "        chem_dict[row['UNII_drugbank']]['name'] = row['NAME']\n",
    "        chem_dict[row['UNII_drugbank']]['code'] = row['BNF_code']\n",
    "    return chem_dict\n",
    "    \n",
    "def getDrugCategory(categorylist, BNF_Chem, drugbankDict):\n",
    "    allMatched = []\n",
    "    drugs = {}\n",
    "    chem_dict = makeChemDict(BNF_Chem)\n",
    "    \n",
    "    for k in drugbankDict:\n",
    "        if len(drugbankDict[k]['Categories']) > 0:\n",
    "            for cat in drugbankDict[k]['Categories']:\n",
    "                matched_memo = []\n",
    "                catString = cat.values()[0]#.split('\\u2014')[-1]\n",
    "                t = catString.lower().strip()\n",
    "                for categoryString in categorylist:\n",
    "                    categoryString = categoryString.lower()\n",
    "                    if t.find(categoryString) >= 0:\n",
    "                        matched_memo.append(categoryString)\n",
    "                if k in chem_dict:\n",
    "                    if len(matched_memo) > 0:# == len(categorylist):\n",
    "                        allMatched.append(k)\n",
    "#                         print chem_dict[k]\n",
    "                        drugs[chem_dict[k]['code']] = {}\n",
    "                        drugs[chem_dict[k]['code']]['name'] = chem_dict[k]['name']\n",
    "                        drugs[chem_dict[k]['code']]['matched_cat'] = categorylist\n",
    "    enrichdrugs(chem_dict,drugs)               \n",
    "    return list(set(allMatched)) , drugs\n",
    "\n",
    "\n",
    "def getDrugforDiseaseDrugbank(categorylist, BNF_Chem, drugbankDict):\n",
    "    allMatched = []\n",
    "    drugs = {}\n",
    "    chem_dict = makeChemDict(BNF_Chem)\n",
    "    \n",
    "    for k in drugbankDict:\n",
    "        if len(drugbankDict[k]['Associations']) > 0:\n",
    "            for cat in drugbankDict[k]['Associations']:\n",
    "                matched_memo = []\n",
    "                catString = cat.values()[0]\n",
    "                t = catString.lower().strip()\n",
    "                for categoryString in categorylist:\n",
    "                    categoryString = categoryString.lower()\n",
    "                    if t.find(categoryString) >= 0:\n",
    "                        matched_memo.append(categoryString)\n",
    "                if k in chem_dict:\n",
    "                    if len(matched_memo) > 0:\n",
    "                        allMatched.append(k)\n",
    "#                         print chem_dict[k]\n",
    "                        drugs[chem_dict[k]['code']] = {}\n",
    "                        drugs[chem_dict[k]['code']]['name'] = chem_dict[k]['name']\n",
    "                        drugs[chem_dict[k]['code']]['matched_cat'] = categorylist\n",
    "    enrichdrugs(chem_dict,drugs)               \n",
    "    return  allMatched , drugs\n",
    "\n",
    "\n",
    "def findDrugsForDisease(Graph, Disease, BNF_Chem ):#,threshProb):\n",
    "    chem_dict = makeChemDict(BNF_Chem)\n",
    "    drugs = {}\n",
    "    for e in Graph.edges(data=True):\n",
    "        if (cleanStringofUTF(e[1]).lower().find(Disease.lower()) >=0) or (cleanStringofUTF(e[0]).lower().find(Disease.lower()) >= 0) :\n",
    "            drugNode = ''\n",
    "            matchedDisease = ''\n",
    "            if Graph.node[e[0]]['type'] == 'symptom':\n",
    "                drugNode = e[1]\n",
    "                matchedDisease = e[0]\n",
    "            else:\n",
    "                drugNode = e[0]\n",
    "                matchedDisease = e[1]\n",
    "            drugs[Graph.node[drugNode]['Id']] = {}\n",
    "            drugs[Graph.node[drugNode]['Id']]['name'] = drugNode\n",
    "            drugs[Graph.node[drugNode]['Id']]['matched_disease'] = matchedDisease\n",
    "            drugs[Graph.node[drugNode]['Id']]['disease'] = Disease\n",
    "    enrichdrugs(chem_dict,drugs)\n",
    "    return drugs\n",
    "\n",
    "\n",
    "def generateConfidence(drugs,Graph):\n",
    "    shared = []\n",
    "    All = []\n",
    "    denom = max(Graph.degree().values())\n",
    "    for d in drugs:\n",
    "        name = drugs[d]['name']\n",
    "        for e in Graph.edges(data=True):\n",
    "            if Graph.node[e[0]]['type'] == 'symptom':\n",
    "                if e[1] == name:\n",
    "                    shared.append(Graph.degree()[e[1]]-1)\n",
    "                else:\n",
    "                    continue\n",
    "            else:\n",
    "                \n",
    "                if e[0] == name:\n",
    "                    shared.append(Graph.degree()[e[0]]-1)\n",
    "                else:\n",
    "                    continue\n",
    "#     shared = [float(k) for k in shared]\n",
    "    num = [k for k in shared if k > 1]\n",
    "\n",
    "    return float(len(num)+1.0)/float(len(shared)+1.0)\n",
    "#     return float(len(num))/float(len(shared)) * 10.0\n",
    "#     return len(num)\n",
    "                \n",
    "                \n",
    "def findDrugsForCategory(Graph, Cat, BNF_Chem ):#,threshProb):\n",
    "    chem_dict = makeChemDict(BNF_Chem)\n",
    "    drugs = {}\n",
    "    for e in Graph.edges(data=True):\n",
    "        if (cleanStringofUTF(e[1]).lower().find(Cat.lower()) >=0) or (cleanStringofUTF(e[0]).lower().find(Cat.lower()) >= 0) :\n",
    "            drugNode = ''\n",
    "            matchedDisease = ''\n",
    "            if Graph.node[e[0]]['type'] == 'category':\n",
    "                drugNode = e[1]\n",
    "                matchedDisease = e[0]\n",
    "            else:\n",
    "                drugNode = e[0]\n",
    "                matchedDisease = e[1]\n",
    "            print Graph.node[drugNode]['Id']\n",
    "            drugs[Graph.node[drugNode]['Id']] = {}\n",
    "            drugs[Graph.node[drugNode]['Id']]['name'] = drugNode\n",
    "            drugs[Graph.node[drugNode]['Id']]['matched_cat'] = matchedDisease\n",
    "            drugs[Graph.node[drugNode]['Id']]['category'] = Cat\n",
    "    enrichdrugs(chem_dict,drugs)\n",
    "    return drugs\n"
   ]
  },
  {
   "cell_type": "code",
   "execution_count": 4,
   "metadata": {
    "ExecuteTime": {
     "end_time": "2021-04-28T12:37:41.565491Z",
     "start_time": "2021-04-28T12:37:41.557430Z"
    }
   },
   "outputs": [
    {
     "name": "stdout",
     "output_type": "stream",
     "text": [
      "['../../BL_Work/openPrescribe/serialized/201810.gz', '../../BL_Work/openPrescribe/serialized/201710.gz', '../../BL_Work/openPrescribe/serialized/201203.gz', '../../BL_Work/openPrescribe/serialized/201110.gz', '../../BL_Work/openPrescribe/serialized/202010.gz', '../../BL_Work/openPrescribe/serialized/201804.gz', '../../BL_Work/openPrescribe/serialized/201911.gz', '../../BL_Work/openPrescribe/serialized/201308.gz', '../../BL_Work/openPrescribe/serialized/201708.gz', '../../BL_Work/openPrescribe/serialized/202005.gz', '../../BL_Work/openPrescribe/serialized/201211.gz', '../../BL_Work/openPrescribe/serialized/201707.gz', '../../BL_Work/openPrescribe/serialized/201803.gz', '../../BL_Work/openPrescribe/serialized/201410.gz', '../../BL_Work/openPrescribe/serialized/201301.gz', '../../BL_Work/openPrescribe/serialized/201201.gz', '../../BL_Work/openPrescribe/serialized/201409.gz', '../../BL_Work/openPrescribe/serialized/201812.gz', '../../BL_Work/openPrescribe/serialized/201603.gz', '../../BL_Work/openPrescribe/serialized/201109.gz', '../../BL_Work/openPrescribe/serialized/201512.gz', '../../BL_Work/openPrescribe/serialized/202004.gz', '../../BL_Work/openPrescribe/serialized/201601.gz', '../../BL_Work/openPrescribe/serialized/201101.gz', '../../BL_Work/openPrescribe/serialized/201402.gz', '../../BL_Work/openPrescribe/serialized/201602.gz', '../../BL_Work/openPrescribe/serialized/201206.gz', '../../BL_Work/openPrescribe/serialized/201207.gz', '../../BL_Work/openPrescribe/serialized/201210.gz', '../../BL_Work/openPrescribe/serialized/201404.gz', '../../BL_Work/openPrescribe/serialized/201105.gz', '../../BL_Work/openPrescribe/serialized/201705.gz', '../../BL_Work/openPrescribe/serialized/201509.gz', '../../BL_Work/openPrescribe/serialized/202007.gz', '../../BL_Work/openPrescribe/serialized/201802.gz', '../../BL_Work/openPrescribe/serialized/201307.gz', '../../BL_Work/openPrescribe/serialized/201902.gz', '../../BL_Work/openPrescribe/serialized/201204.gz', '../../BL_Work/openPrescribe/serialized/201104.gz', '../../BL_Work/openPrescribe/serialized/201102.gz', '../../BL_Work/openPrescribe/serialized/201507.gz', '../../BL_Work/openPrescribe/serialized/201502.gz', '../../BL_Work/openPrescribe/serialized/201103.gz', '../../BL_Work/openPrescribe/serialized/201704.gz', '../../BL_Work/openPrescribe/serialized/201511.gz', '../../BL_Work/openPrescribe/serialized/201406.gz', '../../BL_Work/openPrescribe/serialized/201808.gz', '../../BL_Work/openPrescribe/serialized/202012.gz', '../../BL_Work/openPrescribe/serialized/201904.gz', '../../BL_Work/openPrescribe/serialized/201407.gz', '../../BL_Work/openPrescribe/serialized/202101.gz', '../../BL_Work/openPrescribe/serialized/201805.gz', '../../BL_Work/openPrescribe/serialized/202002.gz', '../../BL_Work/openPrescribe/serialized/201506.gz', '../../BL_Work/openPrescribe/serialized/201008.gz', '../../BL_Work/openPrescribe/serialized/201611.gz', '../../BL_Work/openPrescribe/serialized/201604.gz', '../../BL_Work/openPrescribe/serialized/202011.gz', '../../BL_Work/openPrescribe/serialized/201012.gz', '../../BL_Work/openPrescribe/serialized/201411.gz', '../../BL_Work/openPrescribe/serialized/201701.gz', '../../BL_Work/openPrescribe/serialized/201501.gz', '../../BL_Work/openPrescribe/serialized/201903.gz', '../../BL_Work/openPrescribe/serialized/201612.gz', '../../BL_Work/openPrescribe/serialized/201205.gz', '../../BL_Work/openPrescribe/serialized/201608.gz', '../../BL_Work/openPrescribe/serialized/201901.gz', '../../BL_Work/openPrescribe/serialized/201912.gz', '../../BL_Work/openPrescribe/serialized/201510.gz', '../../BL_Work/openPrescribe/serialized/201011.gz', '../../BL_Work/openPrescribe/serialized/201909.gz', '../../BL_Work/openPrescribe/serialized/201811.gz', '../../BL_Work/openPrescribe/serialized/201202.gz', '../../BL_Work/openPrescribe/serialized/201009.gz', '../../BL_Work/openPrescribe/serialized/201905.gz', '../../BL_Work/openPrescribe/serialized/201405.gz', '../../BL_Work/openPrescribe/serialized/201605.gz', '../../BL_Work/openPrescribe/serialized/201908.gz', '../../BL_Work/openPrescribe/serialized/201709.gz', '../../BL_Work/openPrescribe/serialized/201610.gz', '../../BL_Work/openPrescribe/serialized/201503.gz', '../../BL_Work/openPrescribe/serialized/201305.gz', '../../BL_Work/openPrescribe/serialized/202008.gz', '../../BL_Work/openPrescribe/serialized/201906.gz', '../../BL_Work/openPrescribe/serialized/201107.gz', '../../BL_Work/openPrescribe/serialized/201208.gz', '../../BL_Work/openPrescribe/serialized/201209.gz', '../../BL_Work/openPrescribe/serialized/201609.gz', '../../BL_Work/openPrescribe/serialized/201310.gz', '../../BL_Work/openPrescribe/serialized/202102.gz', '../../BL_Work/openPrescribe/serialized/201401.gz', '../../BL_Work/openPrescribe/serialized/201304.gz', '../../BL_Work/openPrescribe/serialized/201504.gz', '../../BL_Work/openPrescribe/serialized/202006.gz', '../../BL_Work/openPrescribe/serialized/201508.gz', '../../BL_Work/openPrescribe/serialized/202001.gz', '../../BL_Work/openPrescribe/serialized/201403.gz', '../../BL_Work/openPrescribe/serialized/201807.gz', '../../BL_Work/openPrescribe/serialized/201312.gz', '../../BL_Work/openPrescribe/serialized/201212.gz', '../../BL_Work/openPrescribe/serialized/201408.gz', '../../BL_Work/openPrescribe/serialized/201806.gz', '../../BL_Work/openPrescribe/serialized/201412.gz', '../../BL_Work/openPrescribe/serialized/201311.gz', '../../BL_Work/openPrescribe/serialized/201907.gz', '../../BL_Work/openPrescribe/serialized/201702.gz', '../../BL_Work/openPrescribe/serialized/201010.gz', '../../BL_Work/openPrescribe/serialized/201505.gz', '../../BL_Work/openPrescribe/serialized/201302.gz', '../../BL_Work/openPrescribe/serialized/201112.gz', '../../BL_Work/openPrescribe/serialized/201703.gz', '../../BL_Work/openPrescribe/serialized/201801.gz', '../../BL_Work/openPrescribe/serialized/201809.gz', '../../BL_Work/openPrescribe/serialized/202009.gz', '../../BL_Work/openPrescribe/serialized/201607.gz', '../../BL_Work/openPrescribe/serialized/201712.gz', '../../BL_Work/openPrescribe/serialized/201606.gz', '../../BL_Work/openPrescribe/serialized/202003.gz', '../../BL_Work/openPrescribe/serialized/201910.gz', '../../BL_Work/openPrescribe/serialized/201711.gz', '../../BL_Work/openPrescribe/serialized/201111.gz', '../../BL_Work/openPrescribe/serialized/201309.gz', '../../BL_Work/openPrescribe/serialized/201106.gz', '../../BL_Work/openPrescribe/serialized/201706.gz', '../../BL_Work/openPrescribe/serialized/201306.gz', '../../BL_Work/openPrescribe/serialized/201303.gz', '../../BL_Work/openPrescribe/serialized/201108.gz']\n"
     ]
    }
   ],
   "source": [
    "files = glob.glob('../../BL_Work/openPrescribe/serialized/*.gz')\n",
    "print(files)"
   ]
  },
  {
   "cell_type": "code",
   "execution_count": 5,
   "metadata": {
    "ExecuteTime": {
     "end_time": "2021-04-28T12:38:23.424525Z",
     "start_time": "2021-04-28T12:38:12.353713Z"
    },
    "collapsed": true
   },
   "outputs": [],
   "source": [
    "chem = pd.read_csv('../mappings/CHEM_MASTER_MAP.csv')\n",
    "len(chem)\n",
    "\n",
    "# chem = chem.dropna()\n",
    "\n",
    "matched = chem[chem['UNII_drugbank']!='[]']\n",
    "\n",
    "matchedMap = {}\n",
    "for index,row in matched.iterrows():\n",
    "    if row['UNII_drugbank'] not in matchedMap:\n",
    "         matchedMap[row['UNII_drugbank']] = []\n",
    "    matchedMap[row['UNII_drugbank']].append(row['BNF_code'])\n",
    "\n",
    "diseases = [\n",
    " \"anxiety\",\n",
    " \"rheumatoid\",\n",
    " \"osteoporosis\",\n",
    " \"kidney disease\",\n",
    " \"depression\",\n",
    " \"diabetes\",\n",
    " \"stroke\",\n",
    " \"epilepsy\",\n",
    " \"heart failure\",\n",
    " \"atrial fibrilation\",\n",
    " \"hypertension\",\n",
    " \"chronic obstructive pulmonary disease\", \n",
    " \"dementia\",\n",
    " \"obesity\",\n",
    " \"coronary artery disease\"\n",
    "]\n",
    "\n",
    "DiseaseDrugs = {}\n",
    "for d in diseases:\n",
    "    drugs = findDrugsForDisease(drug_association_graph,d ,chem)\n",
    "#     _ , drugs = getDrugforDiseaseDrugbank([d] ,chem,drugbank_dict)\n",
    "    for drug in drugs:\n",
    "        DiseaseDrugs[drug] = {}\n",
    "        DiseaseDrugs[drug]['chemName'] = drugs[drug]['name']\n",
    "        DiseaseDrugs[drug]['disease'] = d"
   ]
  },
  {
   "cell_type": "code",
   "execution_count": 6,
   "metadata": {
    "ExecuteTime": {
     "end_time": "2021-04-28T12:38:25.735652Z",
     "start_time": "2021-04-28T12:38:25.726724Z"
    },
    "collapsed": true
   },
   "outputs": [],
   "source": [
    "disease_drug_map = {}\n",
    "for k in DiseaseDrugs:\n",
    "    if DiseaseDrugs[k]['disease'] not in disease_drug_map:\n",
    "        disease_drug_map[DiseaseDrugs[k]['disease']] = []\n",
    "    disease_drug_map[DiseaseDrugs[k]['disease']].append(k)"
   ]
  },
  {
   "cell_type": "code",
   "execution_count": 7,
   "metadata": {
    "ExecuteTime": {
     "end_time": "2021-04-28T12:38:42.202236Z",
     "start_time": "2021-04-28T12:38:41.309622Z"
    },
    "collapsed": true
   },
   "outputs": [],
   "source": [
    "LSOA_dist = json.load(open('../mappings/GP_LSOA_PATIENTSDIST.json','rb'))"
   ]
  },
  {
   "cell_type": "code",
   "execution_count": 8,
   "metadata": {
    "ExecuteTime": {
     "end_time": "2021-04-28T12:39:20.815224Z",
     "start_time": "2021-04-28T12:39:20.788294Z"
    },
    "collapsed": true
   },
   "outputs": [],
   "source": [
    "taxonomyDict = json.load(open('../mappings/taxomomy_dict.json','r'))"
   ]
  },
  {
   "cell_type": "code",
   "execution_count": 9,
   "metadata": {
    "ExecuteTime": {
     "end_time": "2021-04-28T12:39:53.016829Z",
     "start_time": "2021-04-28T12:39:52.999295Z"
    },
    "collapsed": true
   },
   "outputs": [],
   "source": [
    "cityMap = json.load(open('../mappings/City_map_dict.json','r'))"
   ]
  },
  {
   "cell_type": "code",
   "execution_count": null,
   "metadata": {
    "collapsed": true
   },
   "outputs": [],
   "source": []
  }
 ],
 "metadata": {
  "kernelspec": {
   "display_name": "Python [conda env:env_py2]",
   "language": "python",
   "name": "conda-env-env_py2-py"
  },
  "language_info": {
   "codemirror_mode": {
    "name": "ipython",
    "version": 2
   },
   "file_extension": ".py",
   "mimetype": "text/x-python",
   "name": "python",
   "nbconvert_exporter": "python",
   "pygments_lexer": "ipython2",
   "version": "2.7.16"
  },
  "latex_envs": {
   "LaTeX_envs_menu_present": true,
   "autoclose": false,
   "autocomplete": true,
   "bibliofile": "biblio.bib",
   "cite_by": "apalike",
   "current_citInitial": 1,
   "eqLabelWithNumbers": true,
   "eqNumInitial": 1,
   "hotkeys": {
    "equation": "Ctrl-E",
    "itemize": "Ctrl-I"
   },
   "labels_anchors": false,
   "latex_user_defs": false,
   "report_style_numbering": false,
   "user_envs_cfg": false
  },
  "toc": {
   "base_numbering": 1,
   "nav_menu": {},
   "number_sections": true,
   "sideBar": true,
   "skip_h1_title": false,
   "title_cell": "Table of Contents",
   "title_sidebar": "Contents",
   "toc_cell": false,
   "toc_position": {},
   "toc_section_display": true,
   "toc_window_display": false
  },
  "varInspector": {
   "cols": {
    "lenName": 16,
    "lenType": 16,
    "lenVar": 40
   },
   "kernels_config": {
    "python": {
     "delete_cmd_postfix": "",
     "delete_cmd_prefix": "del ",
     "library": "var_list.py",
     "varRefreshCmd": "print(var_dic_list())"
    },
    "r": {
     "delete_cmd_postfix": ") ",
     "delete_cmd_prefix": "rm(",
     "library": "var_list.r",
     "varRefreshCmd": "cat(var_dic_list()) "
    }
   },
   "types_to_exclude": [
    "module",
    "function",
    "builtin_function_or_method",
    "instance",
    "_Feature"
   ],
   "window_display": false
  }
 },
 "nbformat": 4,
 "nbformat_minor": 2
}
